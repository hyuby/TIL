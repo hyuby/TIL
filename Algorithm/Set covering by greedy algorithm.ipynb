{
 "cells": [
  {
   "cell_type": "code",
   "execution_count": 1,
   "metadata": {},
   "outputs": [],
   "source": [
    "states_needed = set(['mt' ,'wa', 'or', 'id', 'nv', 'ut', 'ca', 'az'])"
   ]
  },
  {
   "cell_type": "code",
   "execution_count": 2,
   "metadata": {},
   "outputs": [],
   "source": [
    "stations = {}\n",
    "stations['kone'] = set(['id','nv','ut'])\n",
    "stations['ktwo'] = set(['wa','id','mt'])\n",
    "stations['kthree'] = set(['or','nv','ca'])\n",
    "stations['kfour'] = set(['nv','ut'])\n",
    "stations['kfive'] = set(['ca','az'])"
   ]
  },
  {
   "cell_type": "code",
   "execution_count": 3,
   "metadata": {},
   "outputs": [],
   "source": [
    "final_stations = set()"
   ]
  },
  {
   "cell_type": "code",
   "execution_count": 4,
   "metadata": {},
   "outputs": [
    {
     "name": "stdout",
     "output_type": "stream",
     "text": [
      "new states_covered set!\n",
      "None\n",
      "{'nv', 'id', 'ut'}\n",
      "{'ca', 'az', 'mt', 'wa', 'or'}\n",
      "new states_covered set!\n",
      "None\n",
      "{'wa', 'mt'}\n",
      "{'ca', 'az', 'or'}\n",
      "new states_covered set!\n",
      "None\n",
      "{'or', 'ca'}\n",
      "{'az'}\n",
      "new states_covered set!\n",
      "None\n",
      "{'az'}\n",
      "set()\n"
     ]
    }
   ],
   "source": [
    "while states_needed:\n",
    "    best_station = None\n",
    "    print('new states_covered set!')\n",
    "    states_covered = set()\n",
    "    for station, states_for_station in stations.items():\n",
    "        covered = states_needed & states_for_station\n",
    "        if len(covered) > len(states_covered):\n",
    "            best_station = station\n",
    "            states_covered = covered\n",
    "            print(states_covered)\n",
    "            \n",
    "    states_needed -= states_covered\n",
    "    print(states_needed)\n",
    "    final_stations.add(best_station)"
   ]
  },
  {
   "cell_type": "code",
   "execution_count": 8,
   "metadata": {},
   "outputs": [
    {
     "name": "stdout",
     "output_type": "stream",
     "text": [
      "{'kthree', 'kfive', 'kone', 'ktwo'}\n"
     ]
    }
   ],
   "source": [
    "print(final_stations)"
   ]
  },
  {
   "cell_type": "code",
   "execution_count": null,
   "metadata": {},
   "outputs": [],
   "source": [
    "states_covered"
   ]
  }
 ],
 "metadata": {
  "kernelspec": {
   "display_name": "Python 3",
   "language": "python",
   "name": "python3"
  },
  "language_info": {
   "codemirror_mode": {
    "name": "ipython",
    "version": 3
   },
   "file_extension": ".py",
   "mimetype": "text/x-python",
   "name": "python",
   "nbconvert_exporter": "python",
   "pygments_lexer": "ipython3",
   "version": "3.6.3"
  }
 },
 "nbformat": 4,
 "nbformat_minor": 2
}
