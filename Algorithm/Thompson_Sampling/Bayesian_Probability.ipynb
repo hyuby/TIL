{
 "cells": [
  {
   "cell_type": "markdown",
   "metadata": {},
   "source": [
    "## Bayesian Probability"
   ]
  },
  {
   "cell_type": "markdown",
   "metadata": {},
   "source": [
    "#### Probability of group A's CVR is higher that of group B's  \n",
    ": $P(A>B)$\n",
    "\n",
    "#### Probability of group B's CVR is higher than that of group A's  \n",
    ": $P(B>A)$\n",
    "\n",
    "$a : \\text{Conversion rate of A}$  \n",
    "$b : \\text{Conversion rate of B}$ "
   ]
  },
  {
   "cell_type": "markdown",
   "metadata": {},
   "source": [
    "$$P(A>B)=\\int_{a=0}^{1}\\int_{b=0}^{a} P(a|A) * P(b|B)$$"
   ]
  },
  {
   "cell_type": "markdown",
   "metadata": {},
   "source": [
    "### 간단한 테스트 상황에서는 잘 동작하지만 실전에서 사용할 때 두 가지 문제가 있다. \n",
    "- 첫째, 전환율을 계산할 때 시행 횟수와 전환 횟수가 매우 큰 경우에는 \"함수가 정확한 적분값을 계산하지 못한다. 이것은 정밀도 문제 때문에 생기는 현상인데 가령 아래와 같은 경우는 엉뚱한 값을 출력한다. \n",
    " \n",
    " \n",
    "- 또 다른 문제점은 정량값 확률을 계산하는  만약 확률을 계산할 그룹의 정량값의 분포가 정규분포와 크게 다르다면(예를 들어 멱함수 분포) 확률이 부정확하게 계산될 수 있다. 이 문제를 해결하려면 해당 그룹의 데이터 분포에 맞게 dnorm과 pnorm 함수 호출 부분을 수정해줘야 한다. 특히 만약 데이터의 분포가 모수적 방법으로 표현할 수 없는 분포라면 비모수적 기법(non-parametric method)을 이용해 확률 분포를 계산해 줘야 한다."
   ]
  },
  {
   "cell_type": "markdown",
   "metadata": {},
   "source": [
    "### In R code\n",
    "- 접두사\t의미\n",
    "    - d : 확률 밀도(질량) 함수 (probability density/mass function)\n",
    "    - p : 누적 분포 함수 (cumulative distribution function)\n",
    "    - q : 분위수 계산 함수 (quantile function)\n",
    "    - r : 랜덤 샘플 생성 (sample realization)\n",
    "    \n"
   ]
  },
  {
   "cell_type": "markdown",
   "metadata": {},
   "source": [
    "``` R\n",
    "bayesian.stat.for.rate<-function(data){\n",
    "  k <- nrow(data)\n",
    "  result<-numeric(k)\n",
    "  for(i in (1:k)){\n",
    "    idx<-(1:k)[-i]\n",
    "    f<-function(z){  # z는 분위수(매개변수)\n",
    "      r<-dbeta(z,\n",
    "               data[i, 'conversion']+1, # alpha\n",
    "               data[i, 'trial'] - data[i, 'conversion'] + 1) # beta\n",
    "      for (j in idx){\n",
    "        r<-r*pbeta(z,\n",
    "                   data[j, 'conversion'] + 1,\n",
    "                   data[j, 'trial'] - data[j, 'conversion'] + 1)\n",
    "      }\n",
    "      return(r) # Likelihood Distribution\n",
    "    }\n",
    "    result[i] = integrate(f, 0,1)$value  # Integral of Likelihood\n",
    "    }\n",
    "  return(result) # Probability\n",
    "}\n",
    "``` "
   ]
  },
  {
   "cell_type": "code",
   "execution_count": 11,
   "metadata": {},
   "outputs": [],
   "source": [
    "import scipy.integrate as integrate\n",
    "import scipy.special as special\n",
    "from scipy import integrate\n",
    "from scipy.stats import beta\n",
    "import numpy as np\n",
    "import pandas as pd"
   ]
  },
  {
   "cell_type": "code",
   "execution_count": 41,
   "metadata": {},
   "outputs": [],
   "source": [
    "index=[2,3,4]"
   ]
  },
  {
   "cell_type": "code",
   "execution_count": 64,
   "metadata": {},
   "outputs": [
    {
     "data": {
      "text/plain": [
       "array([0.        , 0.33333333, 0.66666667, 1.        ])"
      ]
     },
     "execution_count": 64,
     "metadata": {},
     "output_type": "execute_result"
    }
   ],
   "source": [
    "np.linspace(0,1, 4)"
   ]
  },
  {
   "cell_type": "code",
   "execution_count": 101,
   "metadata": {},
   "outputs": [
    {
     "data": {
      "text/html": [
       "<div>\n",
       "<style scoped>\n",
       "    .dataframe tbody tr th:only-of-type {\n",
       "        vertical-align: middle;\n",
       "    }\n",
       "\n",
       "    .dataframe tbody tr th {\n",
       "        vertical-align: top;\n",
       "    }\n",
       "\n",
       "    .dataframe thead th {\n",
       "        text-align: right;\n",
       "    }\n",
       "</style>\n",
       "<table border=\"1\" class=\"dataframe\">\n",
       "  <thead>\n",
       "    <tr style=\"text-align: right;\">\n",
       "      <th></th>\n",
       "      <th>group</th>\n",
       "      <th>trial</th>\n",
       "      <th>conversion</th>\n",
       "    </tr>\n",
       "  </thead>\n",
       "  <tbody>\n",
       "    <tr>\n",
       "      <th>0</th>\n",
       "      <td>A</td>\n",
       "      <td>8500</td>\n",
       "      <td>1500</td>\n",
       "    </tr>\n",
       "    <tr>\n",
       "      <th>1</th>\n",
       "      <td>B</td>\n",
       "      <td>8500</td>\n",
       "      <td>1410</td>\n",
       "    </tr>\n",
       "    <tr>\n",
       "      <th>2</th>\n",
       "      <td>C</td>\n",
       "      <td>8500</td>\n",
       "      <td>1420</td>\n",
       "    </tr>\n",
       "  </tbody>\n",
       "</table>\n",
       "</div>"
      ],
      "text/plain": [
       "  group  trial  conversion\n",
       "0     A   8500        1500\n",
       "1     B   8500        1410\n",
       "2     C   8500        1420"
      ]
     },
     "execution_count": 101,
     "metadata": {},
     "output_type": "execute_result"
    }
   ],
   "source": [
    "df_data"
   ]
  },
  {
   "cell_type": "code",
   "execution_count": 105,
   "metadata": {
    "scrolled": true
   },
   "outputs": [
    {
     "data": {
      "text/plain": [
       "1410"
      ]
     },
     "execution_count": 105,
     "metadata": {},
     "output_type": "execute_result"
    }
   ],
   "source": [
    "df_data.iloc[1, 2]"
   ]
  },
  {
   "cell_type": "code",
   "execution_count": 117,
   "metadata": {},
   "outputs": [],
   "source": [
    "a, b = 2.31, 0.627"
   ]
  },
  {
   "cell_type": "code",
   "execution_count": 142,
   "metadata": {
    "scrolled": true
   },
   "outputs": [
    {
     "data": {
      "text/plain": [
       "array([0.18191403, 0.99974563])"
      ]
     },
     "execution_count": 142,
     "metadata": {},
     "output_type": "execute_result"
    }
   ],
   "source": [
    "# Random Variable\n",
    "x = np.linspace(beta.ppf(0.01, a, b), beta.ppf(0.99, a, b), 2)\n",
    "x"
   ]
  },
  {
   "cell_type": "code",
   "execution_count": 147,
   "metadata": {},
   "outputs": [
    {
     "data": {
      "text/plain": [
       "(1411, 7091)"
      ]
     },
     "execution_count": 147,
     "metadata": {},
     "output_type": "execute_result"
    }
   ],
   "source": [
    "df_data.iloc[1, 2] + 1, df_data.iloc[1,1] - df_data.iloc[1,2] + 1"
   ]
  },
  {
   "cell_type": "code",
   "execution_count": 143,
   "metadata": {},
   "outputs": [
    {
     "data": {
      "text/plain": [
       "array([0.05383899, 0.        ])"
      ]
     },
     "execution_count": 143,
     "metadata": {},
     "output_type": "execute_result"
    }
   ],
   "source": [
    "beta.pdf(x, df_data.iloc[1, 2] + 1, df_data.iloc[1,1] - df_data.iloc[1,2] + 1)"
   ]
  },
  {
   "cell_type": "code",
   "execution_count": 144,
   "metadata": {},
   "outputs": [],
   "source": [
    "x = np.linspace(beta.ppf(0.01, a, b), beta.ppf(0.99, a, b), 2)\n",
    "r = 1\n",
    "def z(data):\n",
    "    r = beta.pdf(x, data.iloc[1, 2] + 1, data.iloc[1,1] - data.iloc[1,2] + 1)\n",
    "    print(r)\n",
    "    for j in index:\n",
    "        r = r * beta.cdf(x, data.iloc[1, 2]+1, data.iloc[1,1] - data.iloc[1,2]+1)\n",
    "    return r"
   ]
  },
  {
   "cell_type": "code",
   "execution_count": 145,
   "metadata": {},
   "outputs": [
    {
     "name": "stdout",
     "output_type": "stream",
     "text": [
      "[0.05383899 0.        ]\n"
     ]
    },
    {
     "data": {
      "text/plain": [
       "array([0.05383, 0.     ])"
      ]
     },
     "execution_count": 145,
     "metadata": {},
     "output_type": "execute_result"
    }
   ],
   "source": [
    "z(df_data)"
   ]
  },
  {
   "cell_type": "code",
   "execution_count": 136,
   "metadata": {},
   "outputs": [],
   "source": [
    "r=1\n",
    "def bayesian_stat_for_rate(data):\n",
    "    k = len(data)\n",
    "    print(k)\n",
    "    for i in range(1,k+1):\n",
    "        lst = list(range(1,k+1))\n",
    "        set_lst = set(lst)\n",
    "        index = list(set_lst-{i})\n",
    "\n",
    "        #가능도 함수 구하는 함수\n",
    "        f = lambda()\n",
    "        z(df_data)\n",
    "\n",
    "    #가능도 함수 f를 구해서 정의역 구간에서 integrate 하자 ==> likelihood의 적분 == 확률\n",
    "    result[i] = integrate.quad(dbeta, 0,1)[0]\n",
    "        \n",
    "    return result"
   ]
  },
  {
   "cell_type": "code",
   "execution_count": 7,
   "metadata": {},
   "outputs": [
    {
     "ename": "NameError",
     "evalue": "name 'bayesian_stat_for_rate' is not defined",
     "output_type": "error",
     "traceback": [
      "\u001b[0;31m---------------------------------------------------------------------------\u001b[0m",
      "\u001b[0;31mNameError\u001b[0m                                 Traceback (most recent call last)",
      "\u001b[0;32m<ipython-input-7-86887d216721>\u001b[0m in \u001b[0;36m<module>\u001b[0;34m\u001b[0m\n\u001b[0;32m----> 1\u001b[0;31m \u001b[0mbayesian_stat_for_rate\u001b[0m\u001b[0;34m(\u001b[0m\u001b[0mdf_data\u001b[0m\u001b[0;34m)\u001b[0m\u001b[0;34m\u001b[0m\u001b[0;34m\u001b[0m\u001b[0m\n\u001b[0m",
      "\u001b[0;31mNameError\u001b[0m: name 'bayesian_stat_for_rate' is not defined"
     ]
    }
   ],
   "source": [
    "bayesian_stat_for_rate(df_data)"
   ]
  },
  {
   "cell_type": "code",
   "execution_count": 2,
   "metadata": {},
   "outputs": [
    {
     "name": "stdout",
     "output_type": "stream",
     "text": [
      "{2, 3, 4}\n",
      "{1, 3, 4}\n",
      "{1, 2, 4}\n",
      "{1, 2, 3}\n"
     ]
    }
   ],
   "source": [
    "a = [1,2,3,4]\n",
    "seta = set(a)\n",
    "\n",
    "for i in range(1,5,1):\n",
    "    print(seta-{i})"
   ]
  },
  {
   "cell_type": "code",
   "execution_count": 3,
   "metadata": {
    "scrolled": true
   },
   "outputs": [
    {
     "name": "stdout",
     "output_type": "stream",
     "text": [
      "{2, 3, 4}\n",
      "{1, 3, 4}\n",
      "{1, 2, 4}\n",
      "{1, 2, 3}\n"
     ]
    }
   ],
   "source": [
    "a = [1,2,3,4]\n",
    "seta = set(a)\n",
    "\n",
    "for i in a:\n",
    "    print(seta-{i})"
   ]
  },
  {
   "cell_type": "code",
   "execution_count": 4,
   "metadata": {},
   "outputs": [],
   "source": [
    "data = {'group' : ['A','B','C'],\n",
    "       'trial' : [8500, 8500, 8500],\n",
    "       'conversion' : [1500, 1410, 1420]}"
   ]
  },
  {
   "cell_type": "code",
   "execution_count": 8,
   "metadata": {},
   "outputs": [],
   "source": [
    "df_data = pd.DataFrame(data)"
   ]
  },
  {
   "cell_type": "code",
   "execution_count": 74,
   "metadata": {},
   "outputs": [
    {
     "data": {
      "text/plain": [
       "{1, 2, 3, 4}"
      ]
     },
     "execution_count": 74,
     "metadata": {},
     "output_type": "execute_result"
    }
   ],
   "source": [
    "set_a"
   ]
  },
  {
   "cell_type": "code",
   "execution_count": 82,
   "metadata": {},
   "outputs": [],
   "source": [
    "from numpy.random import beta as beta_dist\n",
    "import numpy as np\n",
    "\n",
    "N_samp = 8500 # number of samples to draw\n",
    "clicks_A = 1500 # insert your own data here\n",
    "views_A = 8500\n",
    "clicks_B = 1410 # ditto\n",
    "views_B = 8500\n",
    "alpha = 1.1 # just for the example - set your own!\n",
    "beta_ = 14.2\n",
    "A_samples = beta_dist(clicks_A+alpha, views_A-clicks_A+beta_, N_samp)\n",
    "B_samples = beta_dist(clicks_B+alpha, views_B-clicks_B+beta_, N_samp)"
   ]
  },
  {
   "cell_type": "code",
   "execution_count": 83,
   "metadata": {},
   "outputs": [
    {
     "data": {
      "text/plain": [
       "0.9671764705882353"
      ]
     },
     "execution_count": 83,
     "metadata": {},
     "output_type": "execute_result"
    }
   ],
   "source": [
    "np.mean(A_samples > B_samples)"
   ]
  },
  {
   "cell_type": "code",
   "execution_count": 84,
   "metadata": {},
   "outputs": [
    {
     "data": {
      "text/plain": [
       "0.8308235294117647"
      ]
     },
     "execution_count": 84,
     "metadata": {},
     "output_type": "execute_result"
    }
   ],
   "source": [
    "np.mean( 100.*(A_samples - B_samples)/B_samples > 3 )"
   ]
  },
  {
   "cell_type": "code",
   "execution_count": 54,
   "metadata": {},
   "outputs": [],
   "source": [
    "def bayesian_stat_for_rate(data):\n",
    "    k = len(data)\n",
    "    for i in range(1,k+1):\n",
    "        lst = list(range(1,k+1))\n",
    "        set_lst = set(lst)\n",
    "        index = list(set_lst-{i})\n",
    "        f = lambda(x : beta.pdf(data.iloc[i, 2]+1, beta.pdf(data.iloc[i,1] - data.iloc[i,2]+1)))\n",
    "        for j in range(index):\n",
    "            r = lambda(y : beta.cdf(data.iloc[j, 2]+1, beta.cdf(data.ilco[j,1] - data.iloc[j,2]+1)))\n",
    "            \n",
    "        result[i] = integrate(f,0,1)\n",
    "        \n",
    "    return result"
   ]
  },
  {
   "cell_type": "code",
   "execution_count": 55,
   "metadata": {},
   "outputs": [
    {
     "name": "stdout",
     "output_type": "stream",
     "text": [
      "{2, 3, 4, 5}\n",
      "{1, 3, 4, 5}\n",
      "{1, 2, 4, 5}\n",
      "{1, 2, 3, 5}\n",
      "{1, 2, 3, 4}\n"
     ]
    }
   ],
   "source": [
    "bayesian_stat_for_rate([1,2,3,4,5])"
   ]
  },
  {
   "cell_type": "code",
   "execution_count": null,
   "metadata": {},
   "outputs": [],
   "source": [
    "dbeta = beta.pdf()\n",
    "pbeta = beta.cdf()\n",
    "integrate.quad(f, 0,1)"
   ]
  },
  {
   "cell_type": "code",
   "execution_count": null,
   "metadata": {},
   "outputs": [],
   "source": [
    "# dbeta ==> beta.pdf (density function)\n",
    "# pbeta ==> beta.rvs\n",
    "# dbeta gives the density, pbeta the distribution function, "
   ]
  },
  {
   "cell_type": "code",
   "execution_count": 23,
   "metadata": {},
   "outputs": [
    {
     "data": {
      "text/plain": [
       "array([0.12231251])"
      ]
     },
     "execution_count": 23,
     "metadata": {},
     "output_type": "execute_result"
    }
   ],
   "source": [
    "conversion_a = 3300\n",
    "conversion_b = 170\n",
    "\n",
    "total_a = 10000\n",
    "total_b = 500\n",
    "\n",
    "prob_A_better_B = np.multiply(beta.rvs(1+conversion_a, 1+total_a-conversion_a, size=1),\\\n",
    "                              beta.rvs(1+conversion_b, 1+total_b-conversion_b))\n",
    "\n",
    "prob_A_better_B\n",
    "\n",
    "# f= lambda x:exp(-x**2)\n",
    "# i = scipy.integrate.quad(f, 0, 1)"
   ]
  },
  {
   "cell_type": "code",
   "execution_count": 26,
   "metadata": {},
   "outputs": [
    {
     "ename": "TypeError",
     "evalue": "_parse_args() missing 1 required positional argument: 'b'",
     "output_type": "error",
     "traceback": [
      "\u001b[0;31m---------------------------------------------------------------------------\u001b[0m",
      "\u001b[0;31mTypeError\u001b[0m                                 Traceback (most recent call last)",
      "\u001b[0;32m<ipython-input-26-b15b62d1b4ac>\u001b[0m in \u001b[0;36m<module>\u001b[0;34m()\u001b[0m\n\u001b[1;32m      4\u001b[0m \u001b[0;31m# result = integrate.quad(lambda x: special.jv(2.5,x), 0, 4.5)\u001b[0m\u001b[0;34m\u001b[0m\u001b[0;34m\u001b[0m\u001b[0;34m\u001b[0m\u001b[0m\n\u001b[1;32m      5\u001b[0m \u001b[0;34m\u001b[0m\u001b[0m\n\u001b[0;32m----> 6\u001b[0;31m \u001b[0mintegrate\u001b[0m\u001b[0;34m.\u001b[0m\u001b[0mquad\u001b[0m\u001b[0;34m(\u001b[0m\u001b[0;32mlambda\u001b[0m \u001b[0mx\u001b[0m\u001b[0;34m,\u001b[0m\u001b[0my\u001b[0m \u001b[0;34m:\u001b[0m \u001b[0mbeta\u001b[0m\u001b[0;34m.\u001b[0m\u001b[0mpdf\u001b[0m\u001b[0;34m(\u001b[0m\u001b[0;36m1\u001b[0m\u001b[0;34m+\u001b[0m\u001b[0mconversion_a\u001b[0m\u001b[0;34m,\u001b[0m \u001b[0;36m1\u001b[0m\u001b[0;34m+\u001b[0m\u001b[0mtotal_a\u001b[0m\u001b[0;34m-\u001b[0m\u001b[0mconversion_a\u001b[0m\u001b[0;34m,\u001b[0m \u001b[0msize\u001b[0m\u001b[0;34m=\u001b[0m\u001b[0;36m1\u001b[0m\u001b[0;34m)\u001b[0m\u001b[0;34m,\u001b[0m                              \u001b[0mbeta\u001b[0m\u001b[0;34m.\u001b[0m\u001b[0mpdf\u001b[0m\u001b[0;34m(\u001b[0m\u001b[0;36m1\u001b[0m\u001b[0;34m+\u001b[0m\u001b[0mconversion_b\u001b[0m\u001b[0;34m,\u001b[0m \u001b[0;36m1\u001b[0m\u001b[0;34m+\u001b[0m\u001b[0mtotal_b\u001b[0m\u001b[0;34m-\u001b[0m\u001b[0mconversion_b\u001b[0m\u001b[0;34m)\u001b[0m\u001b[0;34m,\u001b[0m \u001b[0;36m0\u001b[0m\u001b[0;34m,\u001b[0m\u001b[0;36m1\u001b[0m\u001b[0;34m)\u001b[0m\u001b[0;34m\u001b[0m\u001b[0;34m\u001b[0m\u001b[0m\n\u001b[0m",
      "\u001b[0;32m~/anaconda/lib/python3.6/site-packages/scipy/stats/_distn_infrastructure.py\u001b[0m in \u001b[0;36mpdf\u001b[0;34m(self, x, *args, **kwds)\u001b[0m\n\u001b[1;32m   1714\u001b[0m \u001b[0;34m\u001b[0m\u001b[0m\n\u001b[1;32m   1715\u001b[0m         \"\"\"\n\u001b[0;32m-> 1716\u001b[0;31m         \u001b[0margs\u001b[0m\u001b[0;34m,\u001b[0m \u001b[0mloc\u001b[0m\u001b[0;34m,\u001b[0m \u001b[0mscale\u001b[0m \u001b[0;34m=\u001b[0m \u001b[0mself\u001b[0m\u001b[0;34m.\u001b[0m\u001b[0m_parse_args\u001b[0m\u001b[0;34m(\u001b[0m\u001b[0;34m*\u001b[0m\u001b[0margs\u001b[0m\u001b[0;34m,\u001b[0m \u001b[0;34m**\u001b[0m\u001b[0mkwds\u001b[0m\u001b[0;34m)\u001b[0m\u001b[0;34m\u001b[0m\u001b[0;34m\u001b[0m\u001b[0m\n\u001b[0m\u001b[1;32m   1717\u001b[0m         \u001b[0mx\u001b[0m\u001b[0;34m,\u001b[0m \u001b[0mloc\u001b[0m\u001b[0;34m,\u001b[0m \u001b[0mscale\u001b[0m \u001b[0;34m=\u001b[0m \u001b[0mmap\u001b[0m\u001b[0;34m(\u001b[0m\u001b[0masarray\u001b[0m\u001b[0;34m,\u001b[0m \u001b[0;34m(\u001b[0m\u001b[0mx\u001b[0m\u001b[0;34m,\u001b[0m \u001b[0mloc\u001b[0m\u001b[0;34m,\u001b[0m \u001b[0mscale\u001b[0m\u001b[0;34m)\u001b[0m\u001b[0;34m)\u001b[0m\u001b[0;34m\u001b[0m\u001b[0;34m\u001b[0m\u001b[0m\n\u001b[1;32m   1718\u001b[0m         \u001b[0margs\u001b[0m \u001b[0;34m=\u001b[0m \u001b[0mtuple\u001b[0m\u001b[0;34m(\u001b[0m\u001b[0mmap\u001b[0m\u001b[0;34m(\u001b[0m\u001b[0masarray\u001b[0m\u001b[0;34m,\u001b[0m \u001b[0margs\u001b[0m\u001b[0;34m)\u001b[0m\u001b[0;34m)\u001b[0m\u001b[0;34m\u001b[0m\u001b[0;34m\u001b[0m\u001b[0m\n",
      "\u001b[0;31mTypeError\u001b[0m: _parse_args() missing 1 required positional argument: 'b'"
     ]
    }
   ],
   "source": [
    "# f = np.multiply(beta.rvs(1+conversion_a, 1+total_a-conversion_a, size=1),\\\n",
    "#                               beta.rvs(1+conversion_b, 1+total_b-conversion_b))\n",
    "# i = integrate.quad(f, 0, 1)\n",
    "# result = integrate.quad(lambda x: special.jv(2.5,x), 0, 4.5)\n",
    "\n",
    "integrate.quad(lambda x,y : beta.pdf(1+conversion_a, 1+total_a-conversion_a, size=1),\\\n",
    "                              beta.pdf(1+conversion_b, 1+total_b-conversion_b), 0,1)"
   ]
  },
  {
   "cell_type": "code",
   "execution_count": null,
   "metadata": {},
   "outputs": [],
   "source": []
  },
  {
   "cell_type": "code",
   "execution_count": 16,
   "metadata": {},
   "outputs": [],
   "source": [
    "f= lambda x:np.exp(-x**2)\n",
    "i = integrate.quad(f, 0, 1)"
   ]
  },
  {
   "cell_type": "code",
   "execution_count": 19,
   "metadata": {},
   "outputs": [
    {
     "data": {
      "text/plain": [
       "(0.7468241328124271, 8.291413475940725e-15)"
      ]
     },
     "execution_count": 19,
     "metadata": {},
     "output_type": "execute_result"
    }
   ],
   "source": [
    "i"
   ]
  },
  {
   "cell_type": "code",
   "execution_count": null,
   "metadata": {},
   "outputs": [],
   "source": []
  }
 ],
 "metadata": {
  "kernelspec": {
   "display_name": "Python 3",
   "language": "python",
   "name": "python3"
  },
  "language_info": {
   "codemirror_mode": {
    "name": "ipython",
    "version": 3
   },
   "file_extension": ".py",
   "mimetype": "text/x-python",
   "name": "python",
   "nbconvert_exporter": "python",
   "pygments_lexer": "ipython3",
   "version": "3.6.8"
  }
 },
 "nbformat": 4,
 "nbformat_minor": 2
}
