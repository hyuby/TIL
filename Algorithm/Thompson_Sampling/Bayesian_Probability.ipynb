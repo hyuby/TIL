{
 "cells": [
  {
   "cell_type": "markdown",
   "metadata": {},
   "source": [
    "## Bayesian Probability"
   ]
  },
  {
   "cell_type": "markdown",
   "metadata": {},
   "source": [
    "#### Probability of group A's CVR is higher that of group B's  \n",
    ": $P(A>B)$\n",
    "\n",
    "#### Probability of group B's CVR is higher than that of group A's  \n",
    ": $P(B>A)$\n",
    "\n",
    "$a : \\text{Conversion rate of A}$  \n",
    "$b : \\text{Conversion rate of B}$ "
   ]
  },
  {
   "cell_type": "markdown",
   "metadata": {},
   "source": [
    "$$P(A>B)=\\int_{a=0}^{1}\\int_{b=0}^{a} P(a|A) * P(b|B)$$ "
   ]
  },
  {
   "cell_type": "markdown",
   "metadata": {},
   "source": [
    "### 간단한 테스트 상황에서는 잘 동작하지만 실전에서 사용할 때 두 가지 문제가 있다. \n",
    "- 첫째, 전환율을 계산할 때 시행 횟수와 전환 횟수가 매우 큰 경우에는 \"함수가 정확한 적분값을 계산하지 못한다. 이것은 정밀도 문제 때문에 생기는 현상인데 가령 아래와 같은 경우는 엉뚱한 값을 출력한다. \n",
    " \n",
    " \n",
    "- 또 다른 문제점은 정량값 확률을 계산하는  만약 확률을 계산할 그룹의 정량값의 분포가 정규분포와 크게 다르다면(예를 들어 멱함수 분포) 확률이 부정확하게 계산될 수 있다. 이 문제를 해결하려면 해당 그룹의 데이터 분포에 맞게 dnorm과 pnorm 함수 호출 부분을 수정해줘야 한다. 특히 만약 데이터의 분포가 모수적 방법으로 표현할 수 없는 분포라면 비모수적 기법(non-parametric method)을 이용해 확률 분포를 계산해 줘야 한다."
   ]
  },
  {
   "cell_type": "markdown",
   "metadata": {},
   "source": [
    "### In R code\n",
    "- 접두사\t의미\n",
    "    - d : 확률 밀도(질량) 함수 (probability density/mass function)\n",
    "    - p : 누적 분포 함수 (cumulative distribution function)\n",
    "    - q : 분위수 계산 함수 (quantile function)\n",
    "    - r : 랜덤 샘플 생성 (sample realization)\n",
    "    \n"
   ]
  },
  {
   "cell_type": "markdown",
   "metadata": {},
   "source": [
    "``` R\n",
    "bayesian.stat.for.rate<-function(data){\n",
    "  k <- nrow(data)\n",
    "  result<-numeric(k)\n",
    "  for(i in (1:k)){\n",
    "    idx<-(1:k)[-i]\n",
    "    f<-function(z){  # z는 분위수(매개변수)\n",
    "      r<-dbeta(z,\n",
    "               data[i, 'conversion']+1, # alpha\n",
    "               data[i, 'trial'] - data[i, 'conversion'] + 1) # beta\n",
    "      for (j in idx){\n",
    "        r<-r*pbeta(z,\n",
    "                   data[j, 'conversion'] + 1,\n",
    "                   data[j, 'trial'] - data[j, 'conversion'] + 1)\n",
    "      }\n",
    "      return(r) # Likelihood Distribution\n",
    "    }\n",
    "    result[i] = integrate(f, 0,1)$value  # Integral of Likelihood\n",
    "    }\n",
    "  return(result) # Probability\n",
    "}\n",
    "``` "
   ]
  },
  {
   "cell_type": "code",
   "execution_count": 11,
   "metadata": {},
   "outputs": [],
   "source": [
    "import scipy.integrate as integrate\n",
    "import scipy.special as special\n",
    "from scipy import integrate\n",
    "from scipy.stats import beta\n",
    "import numpy as np\n",
    "import pandas as pd"
   ]
  },
  {
   "cell_type": "markdown",
   "metadata": {},
   "source": [
    "$P(a|A)$ 적분 후, $P(b|B)$"
   ]
  },
  {
   "cell_type": "markdown",
   "metadata": {},
   "source": [
    "``` R\n",
    "prob.a.better.b <- integrate(function(x) {\n",
    "    dbeta(x, ca+1, ta-ca+1) * pbeta(x, cb+1, ta-cb-+1)\n",
    "    },0,1)\n",
    "```"
   ]
  },
  {
   "cell_type": "code",
   "execution_count": 13,
   "metadata": {},
   "outputs": [],
   "source": [
    "data = {'group' : ['A','B','C'],\n",
    "       'trial' : [8500, 8500, 8500],\n",
    "       'conversion' : [1500, 1410, 1420]}"
   ]
  },
  {
   "cell_type": "code",
   "execution_count": 14,
   "metadata": {},
   "outputs": [],
   "source": [
    "df_data = pd.DataFrame(data)"
   ]
  },
  {
   "cell_type": "code",
   "execution_count": 18,
   "metadata": {},
   "outputs": [
    {
     "data": {
      "text/html": [
       "<div>\n",
       "<style scoped>\n",
       "    .dataframe tbody tr th:only-of-type {\n",
       "        vertical-align: middle;\n",
       "    }\n",
       "\n",
       "    .dataframe tbody tr th {\n",
       "        vertical-align: top;\n",
       "    }\n",
       "\n",
       "    .dataframe thead th {\n",
       "        text-align: right;\n",
       "    }\n",
       "</style>\n",
       "<table border=\"1\" class=\"dataframe\">\n",
       "  <thead>\n",
       "    <tr style=\"text-align: right;\">\n",
       "      <th></th>\n",
       "      <th>group</th>\n",
       "      <th>trial</th>\n",
       "      <th>conversion</th>\n",
       "    </tr>\n",
       "  </thead>\n",
       "  <tbody>\n",
       "    <tr>\n",
       "      <th>0</th>\n",
       "      <td>A</td>\n",
       "      <td>8500</td>\n",
       "      <td>1500</td>\n",
       "    </tr>\n",
       "    <tr>\n",
       "      <th>1</th>\n",
       "      <td>B</td>\n",
       "      <td>8500</td>\n",
       "      <td>1410</td>\n",
       "    </tr>\n",
       "  </tbody>\n",
       "</table>\n",
       "</div>"
      ],
      "text/plain": [
       "  group  trial  conversion\n",
       "0     A   8500        1500\n",
       "1     B   8500        1410"
      ]
     },
     "execution_count": 18,
     "metadata": {},
     "output_type": "execute_result"
    }
   ],
   "source": [
    "basic_data"
   ]
  },
  {
   "cell_type": "code",
   "execution_count": 17,
   "metadata": {},
   "outputs": [],
   "source": [
    "basic_data = df_data.iloc[:2]"
   ]
  },
  {
   "cell_type": "markdown",
   "metadata": {},
   "source": [
    "### Basian Probability $P(A>B)$ 구현 코드"
   ]
  },
  {
   "cell_type": "markdown",
   "metadata": {},
   "source": [
    "96.79%"
   ]
  },
  {
   "cell_type": "code",
   "execution_count": 217,
   "metadata": {},
   "outputs": [],
   "source": [
    "res = integrate.quad(lambda x: beta.pdf(x, 1500+1, 8500-1500+1)*\n",
    "               beta.cdf(x, 1410+1, 8500-1410+1),0,1)"
   ]
  },
  {
   "cell_type": "code",
   "execution_count": 218,
   "metadata": {},
   "outputs": [
    {
     "data": {
      "text/plain": [
       "0.966554243344272"
      ]
     },
     "execution_count": 218,
     "metadata": {},
     "output_type": "execute_result"
    }
   ],
   "source": [
    "res[0]"
   ]
  },
  {
   "cell_type": "code",
   "execution_count": 219,
   "metadata": {},
   "outputs": [
    {
     "data": {
      "text/plain": [
       "0.03344575665572802"
      ]
     },
     "execution_count": 219,
     "metadata": {},
     "output_type": "execute_result"
    }
   ],
   "source": [
    "1-res[0]"
   ]
  },
  {
   "cell_type": "markdown",
   "metadata": {},
   "source": [
    "3.21%"
   ]
  },
  {
   "cell_type": "code",
   "execution_count": 220,
   "metadata": {},
   "outputs": [
    {
     "data": {
      "text/plain": [
       "(0.03344575665791428, 5.450926853986515e-10)"
      ]
     },
     "execution_count": 220,
     "metadata": {},
     "output_type": "execute_result"
    }
   ],
   "source": [
    "integrate.quad(lambda x: beta.pdf(x, 1410+1, 8500-1410+1)*\n",
    "               beta.cdf(x, 1500+1, 8500-1500+1),0,1)"
   ]
  },
  {
   "cell_type": "code",
   "execution_count": 31,
   "metadata": {},
   "outputs": [
    {
     "data": {
      "text/plain": [
       "<function __main__.<lambda>(x)>"
      ]
     },
     "execution_count": 31,
     "metadata": {},
     "output_type": "execute_result"
    }
   ],
   "source": [
    "lambda x: beta.pdf(x, 1500+1, 8500-1500+1)*\\\n",
    "               beta.cdf(x, 1410+1, 8500-1410+1)"
   ]
  },
  {
   "cell_type": "code",
   "execution_count": null,
   "metadata": {},
   "outputs": [],
   "source": []
  },
  {
   "cell_type": "code",
   "execution_count": null,
   "metadata": {},
   "outputs": [],
   "source": []
  },
  {
   "cell_type": "code",
   "execution_count": 38,
   "metadata": {},
   "outputs": [
    {
     "data": {
      "text/plain": [
       "8500"
      ]
     },
     "execution_count": 38,
     "metadata": {},
     "output_type": "execute_result"
    }
   ],
   "source": [
    "basic_data.iloc[0,1]"
   ]
  },
  {
   "cell_type": "code",
   "execution_count": 32,
   "metadata": {},
   "outputs": [
    {
     "data": {
      "text/plain": [
       "2"
      ]
     },
     "execution_count": 32,
     "metadata": {},
     "output_type": "execute_result"
    }
   ],
   "source": [
    "len(basic_data)"
   ]
  },
  {
   "cell_type": "code",
   "execution_count": 37,
   "metadata": {},
   "outputs": [
    {
     "name": "stdout",
     "output_type": "stream",
     "text": [
      "0\n",
      "index [1, 2]\n",
      "1\n",
      "index [0, 2]\n",
      "2\n",
      "index [0, 1]\n"
     ]
    }
   ],
   "source": [
    "k=3\n",
    "for i in range(0,k):\n",
    "    lst = list(range(0,k))\n",
    "    set_lst = set(lst)\n",
    "    index = list(set_lst-{i})\n",
    "    print(i)\n",
    "    print('index', index)"
   ]
  },
  {
   "cell_type": "markdown",
   "metadata": {},
   "source": [
    "$${\\rm Pr}(p_C > \\max\\{p_A, p_B\\}) = \\\\ 1 - {\\rm Pr}(p_A > p_C) - {\\rm Pr}(p_B > p_C)\n",
    "+ \\sum_{i=0}^{\\alpha_A-1} \\sum_{j=0}^{\\alpha_B-1}{\\frac{B(i+j+\\alpha_C, \\beta_A + \\beta_B + \\beta_C)}{(\\beta_A+i)B(1+i,\\beta_A)(\\beta_B+j)B(1+j,\\beta_B)B(\\alpha_C, \\beta_C)}}$$"
   ]
  },
  {
   "cell_type": "code",
   "execution_count": 88,
   "metadata": {},
   "outputs": [],
   "source": [
    "import numpy as np"
   ]
  },
  {
   "cell_type": "code",
   "execution_count": 99,
   "metadata": {},
   "outputs": [
    {
     "data": {
      "text/plain": [
       "3"
      ]
     },
     "execution_count": 99,
     "metadata": {},
     "output_type": "execute_result"
    }
   ],
   "source": [
    "result = np.array([0,1,2])\n",
    "result[2] = 3\n",
    "result[2]"
   ]
  },
  {
   "cell_type": "code",
   "execution_count": 108,
   "metadata": {},
   "outputs": [],
   "source": [
    "#A/B/C라면 P(A>B), P(B>C), P(A>C)를 다 구해야함\n",
    "result = np.array([0,0,0])\n",
    "def bayesian_stat_for_rate(data):\n",
    "\n",
    "    k = len(data)\n",
    "#     print(k)\n",
    "    for i in range(0,k):\n",
    "        print(i)\n",
    "        lst = list(range(0,k,1))\n",
    "        set_lst = set(lst)\n",
    "        index = list(set_lst-{i})\n",
    "\n",
    "#         #가능도 함수 구하는 함수\n",
    "#         lambda x: beta.pdf(x, data.iloc[i,2]+1, data.iloc[i,1] - \\\n",
    "#                                data.iloc[i,2]+1) * beta.cdf(x, data.iloc[j,2]+1, data.iloc[j,1] - \\\n",
    "#                              data.iloc[j,2]+1)\n",
    "#         print(lst)\n",
    "        for j in index:\n",
    "            result[i] = integrate.quad(lambda x: beta.pdf(x, data.iloc[i,2]+1, data.iloc[i,1] - \\\n",
    "                                   data.iloc[i,2]+1) * beta.cdf(x, data.iloc[j,2]+1, data.iloc[j,1] - \\\n",
    "                                 data.iloc[j,2]+1),0,1)[0]\n",
    "            print(integrate.quad(lambda x: beta.pdf(x, data.iloc[i,2]+1, data.iloc[i,1] - \\\n",
    "                                   data.iloc[i,2]+1) * beta.cdf(x, data.iloc[j,2]+1, data.iloc[j,1] - \\\n",
    "                                 data.iloc[j,2]+1),0,1)[0])\n",
    "    \n",
    "    return result\n",
    "\n",
    "\n",
    "    #가능도 함수 f를 구해서 정의역 구간에서 integrate 하자 ==> likelihood의 적분 == 확률\n",
    "#     result[i] = integrate.quad(funtion, 0,1)[0]\n",
    "        \n",
    "#     return result"
   ]
  },
  {
   "cell_type": "markdown",
   "metadata": {},
   "source": [
    "## test code"
   ]
  },
  {
   "cell_type": "markdown",
   "metadata": {},
   "source": [
    "- i가 1일때 j는 2에서 r값을 구하고, 3에서 구한 r값을 업데이트한다. 이 값을 가진 함수를 integrate해주면 result[0]번의 값이 생성된다.  \n",
    "- 같은 방식으로 i가 2일때 j는 1과 3번째 row의 값을 이용해서 r값을 업데이트 하고 이 값을 가진 함수를 integrate해서 result[1]번의 값을 만들어 낸다."
   ]
  },
  {
   "cell_type": "code",
   "execution_count": 156,
   "metadata": {},
   "outputs": [
    {
     "data": {
      "text/plain": [
       "1410"
      ]
     },
     "execution_count": 156,
     "metadata": {},
     "output_type": "execute_result"
    }
   ],
   "source": [
    "basic_data.iloc[1,2]"
   ]
  },
  {
   "cell_type": "markdown",
   "metadata": {},
   "source": [
    "### 매개변수 z 구현 및 r 값 세팅\n",
    "- z 그냥 사용하고 r에 업데이트를 할까?\n",
    "- z가 고정되어 있는데... 값이 제대로 나올까?"
   ]
  },
  {
   "cell_type": "markdown",
   "metadata": {},
   "source": [
    "z=0.500000000 0.013046736 0.986953264 0.067468317 0.932531683 0.160295216 0.839704784 0.283302303 0.716697697 0.425562831 0.574437169\n",
    "0.002171418 0.997828582 0.034921254 0.965078746 0.109591137 0.890408863 0.218621433 0.781378567 0.352803569 0.647196431"
   ]
  },
  {
   "cell_type": "code",
   "execution_count": 193,
   "metadata": {},
   "outputs": [
    {
     "data": {
      "text/plain": [
       "array([       nan,        nan,        nan,        nan,        nan,\n",
       "              nan,        nan,        nan,        nan,        nan,\n",
       "              nan,        nan,        nan,        nan,        nan,\n",
       "              nan,        nan,        nan,        nan,        nan,\n",
       "       0.10090863])"
      ]
     },
     "execution_count": 193,
     "metadata": {},
     "output_type": "execute_result"
    }
   ],
   "source": [
    "z = np.linspace(beta.pdf(0.01, 0, 1),beta.pdf(0.99, 0.1, 1), 21)\n",
    "z"
   ]
  },
  {
   "cell_type": "code",
   "execution_count": 257,
   "metadata": {},
   "outputs": [
    {
     "data": {
      "text/plain": [
       "(0.966554243344272, 2.7706948534619212e-09)"
      ]
     },
     "execution_count": 257,
     "metadata": {},
     "output_type": "execute_result"
    }
   ],
   "source": [
    "integrate.quad(lambda x: beta.pdf(x, 1500+1, 8500-1500+1)*\n",
    "               beta.cdf(x, 1410+1, 8500-1410+1),0,1)"
   ]
  },
  {
   "cell_type": "code",
   "execution_count": 279,
   "metadata": {},
   "outputs": [],
   "source": [
    "def func(data, z,i,j):\n",
    "    return func_pdf(data, z,i,j)*func_cdf(data, z,i,j)\n"
   ]
  },
  {
   "cell_type": "code",
   "execution_count": 280,
   "metadata": {},
   "outputs": [
    {
     "data": {
      "text/plain": [
       "array([0.00000000e+000, 0.00000000e+000, 0.00000000e+000, 0.00000000e+000,\n",
       "       0.00000000e+000, 0.00000000e+000, 0.00000000e+000, 0.00000000e+000,\n",
       "       2.72596719e-277, 1.62454722e-206, 1.53771005e-149, 4.22507788e-104,\n",
       "       1.74980338e-068, 2.34786376e-041, 1.16671866e-021, 1.56586123e-008,\n",
       "       3.14739997e-001, 5.82779318e+001, 1.99007472e+000, 2.51200029e-004,\n",
       "       2.55689318e-010, 2.90434473e-018, 4.84465911e-028, 1.50091593e-039,\n",
       "       1.05633693e-052, 2.00783544e-067, 1.19583111e-083, 2.53516082e-101,\n",
       "       2.13366994e-120, 7.82362256e-141, 1.35207589e-162, 1.17626639e-185,\n",
       "       5.43900453e-210, 1.39669047e-235, 2.06134523e-262, 1.79365445e-290,\n",
       "       9.36204992e-320, 0.00000000e+000, 0.00000000e+000, 0.00000000e+000,\n",
       "       0.00000000e+000, 0.00000000e+000, 0.00000000e+000, 0.00000000e+000,\n",
       "       0.00000000e+000, 0.00000000e+000, 0.00000000e+000, 0.00000000e+000,\n",
       "       0.00000000e+000, 0.00000000e+000, 0.00000000e+000, 0.00000000e+000,\n",
       "       0.00000000e+000, 0.00000000e+000, 0.00000000e+000, 0.00000000e+000,\n",
       "       0.00000000e+000, 0.00000000e+000, 0.00000000e+000, 0.00000000e+000,\n",
       "       0.00000000e+000, 0.00000000e+000, 0.00000000e+000, 0.00000000e+000,\n",
       "       0.00000000e+000, 0.00000000e+000, 0.00000000e+000, 0.00000000e+000,\n",
       "       0.00000000e+000, 0.00000000e+000, 0.00000000e+000, 0.00000000e+000,\n",
       "       0.00000000e+000, 0.00000000e+000, 0.00000000e+000, 0.00000000e+000,\n",
       "       0.00000000e+000, 0.00000000e+000, 0.00000000e+000, 0.00000000e+000,\n",
       "       0.00000000e+000, 0.00000000e+000, 0.00000000e+000, 0.00000000e+000,\n",
       "       0.00000000e+000, 0.00000000e+000, 0.00000000e+000, 0.00000000e+000,\n",
       "       0.00000000e+000, 0.00000000e+000, 0.00000000e+000, 0.00000000e+000,\n",
       "       0.00000000e+000, 0.00000000e+000, 0.00000000e+000, 0.00000000e+000,\n",
       "       0.00000000e+000, 0.00000000e+000, 0.00000000e+000, 0.00000000e+000])"
      ]
     },
     "execution_count": 280,
     "metadata": {},
     "output_type": "execute_result"
    }
   ],
   "source": [
    "func(basic_data,z,0,1)"
   ]
  },
  {
   "cell_type": "markdown",
   "metadata": {},
   "source": [
    "- 적분을 한번에 수행할 수 없으니까 순차적으로 적분을 해주는 코드가 필요"
   ]
  },
  {
   "cell_type": "code",
   "execution_count": 258,
   "metadata": {},
   "outputs": [
    {
     "data": {
      "text/plain": [
       "8501"
      ]
     },
     "execution_count": 258,
     "metadata": {},
     "output_type": "execute_result"
    }
   ],
   "source": [
    "basic_data.iloc[0,1]+1"
   ]
  },
  {
   "cell_type": "code",
   "execution_count": 259,
   "metadata": {
    "scrolled": true
   },
   "outputs": [
    {
     "data": {
      "text/plain": [
       "(0.966554243344272, 2.7706948534619212e-09)"
      ]
     },
     "execution_count": 259,
     "metadata": {},
     "output_type": "execute_result"
    }
   ],
   "source": [
    "integrate.quad(lambda x: beta.pdf(x, basic_data.iloc[0,2]+1,basic_data.iloc[0,1]-basic_data.iloc[0,2]+1)*\\\n",
    "               beta.cdf(x,basic_data.iloc[1,2]+1,basic_data.iloc[1,1]-basic_data.iloc[1,2]+1) , 0, 1)"
   ]
  },
  {
   "cell_type": "code",
   "execution_count": 255,
   "metadata": {
    "scrolled": true
   },
   "outputs": [],
   "source": [
    "z = np.linspace(beta.ppf(0.01, 1, 1),beta.ppf(0.99, 1, 1), 100)\n",
    "\n",
    "r = 0\n",
    "\n",
    "def func_pdf(data, z,i,j): # 이게 r값\n",
    "    return beta.pdf(z, data.iloc[i,2]+1, data.iloc[i,1] - data.iloc[i,2]+1)\n",
    "\n",
    "\n",
    "def func_cdf(data, z,i,j):\n",
    "    return beta.cdf(z, data.iloc[i,2]+1, data.iloc[i,1] - data.iloc[i,2]+1)\n",
    "\n",
    "func_pdf(basic_data, z, 1,1)*func_cdf(basic_data,z, 1,1)\n",
    "\n",
    "r = func_cdf(basic_data,z, 1,1)\n",
    "\n",
    "r = r*func_cdf(basic_data,z, 0,1)\n",
    "\n",
    "r = func_pdf(basic_data,z, 1,1)\n",
    "\n",
    "integrate.quad(func_pdf(basic_data, z, ))"
   ]
  },
  {
   "cell_type": "code",
   "execution_count": 215,
   "metadata": {},
   "outputs": [
    {
     "data": {
      "text/plain": [
       "8500"
      ]
     },
     "execution_count": 215,
     "metadata": {},
     "output_type": "execute_result"
    }
   ],
   "source": [
    "basic_data.iloc[1,1]"
   ]
  },
  {
   "cell_type": "code",
   "execution_count": 268,
   "metadata": {},
   "outputs": [],
   "source": [
    "f = lambda x, y : beta.pdf(x,basic_data.iloc[1,2]+1, basic_data.iloc[1,1] - basic_data.iloc[1,2]+1)\\\n",
    "               *beta.cdf(x,basic_data.iloc[0,2]+1, basic_data.iloc[0,1] - basic_data.iloc[0,2]+1)"
   ]
  },
  {
   "cell_type": "code",
   "execution_count": 272,
   "metadata": {},
   "outputs": [
    {
     "data": {
      "text/plain": [
       "(0.03344575665791428, 5.450926853986515e-10)"
      ]
     },
     "execution_count": 272,
     "metadata": {},
     "output_type": "execute_result"
    }
   ],
   "source": [
    "integrate.dblquad(f,0,1, lambda x: 0, lambda x:1)"
   ]
  },
  {
   "cell_type": "code",
   "execution_count": 265,
   "metadata": {},
   "outputs": [
    {
     "data": {
      "text/plain": [
       "(0.03344575665791428, 5.450926853986515e-10)"
      ]
     },
     "execution_count": 265,
     "metadata": {},
     "output_type": "execute_result"
    }
   ],
   "source": [
    "f = lambda x: beta.pdf(x, 1410+1, 8500-1410+1)\n",
    "a = 100\n",
    "b = 50\n",
    "# x = np.linspace(beta.ppf(0.01, a, b),beta.ppf(0.99, a, b), 50)\n",
    "#list(map(lambda x: beta.pdf(x, 1410+1, 8500-1410+1),z))\n",
    "integrate.quad(lambda x: beta.pdf(x,basic_data.iloc[1,2]+1, basic_data.iloc[1,1] - basic_data.iloc[1,2]+1)\\\n",
    "               *beta.cdf(x,basic_data.iloc[0,2]+1, basic_data.iloc[0,1] - basic_data.iloc[0,2]+1),0,1)\n"
   ]
  },
  {
   "cell_type": "code",
   "execution_count": 140,
   "metadata": {},
   "outputs": [],
   "source": [
    "#i가 1일때 j는 2에서 r값을 구하고, 3에서 구한 r값을 업데이트한다. 이 값을 가진 함수를 integrate\n",
    "\n",
    "def bayesian_stat_for_rate(data):\n",
    "    k = len(data)\n",
    "#     print(k)\n",
    "    for i in range(0,k):\n",
    "        print(i)\n",
    "        lst = list(range(0,k,1))\n",
    "        set_lst = set(lst)\n",
    "        index = list(set_lst-{i})\n",
    "\n",
    "        #가능도 함수 구하는 함수\n",
    "        lambda x: beta.pdf(x, data.iloc[i,2]+1, data.iloc[i,1] - \\\n",
    "                               data.iloc[i,2]+1)\n",
    "        \n",
    "        integrate.quad(lambda x: beta.pdf(x, 1410+1, 8500-1410+1)*beta.cdf(x, 1500+1, 8500-1500+1),0,1)\n",
    "#         global x\n",
    "        \n",
    "        for j in index:\n",
    "#             lambda x: beta.cdf(x, data.iloc[j,2]+1, data.iloc[j,1] - \\\n",
    "#                                  data.iloc[j,2]+1)\n",
    "            \n",
    "#             print(result[i] = integrate.quad(lambda x : beta.pdf(x, data.iloc[i,2]+1, data.iloc[i,1] - \\\n",
    "#                                    data.iloc[i,2]+1) * beta.cdf(x, data.iloc[j,2]+1, data.iloc[j,1] - \\\n",
    "#                                  data.iloc[j,2]+1),0 ,1)[0])\n",
    "            print(integrate.quad(lambda x : beta.pdf(x, data.iloc[i,2]+1, data.iloc[i,1] - \\\n",
    "                                   data.iloc[i,2]+1) * beta.cdf(x, data.iloc[j,2]+1, data.iloc[j,1] - \\\n",
    "                                 data.iloc[j,2]+1),0 ,1)[0])\n",
    "            \n",
    "            \n",
    "            \n",
    "#             result[i] = integrate.quad(lambda x: beta.pdf(x, data.iloc[i,2]+1, data.iloc[i,1] - \\\n",
    "#                                    data.iloc[i,2]+1) * beta.cdf(x, data.iloc[j,2]+1, data.iloc[j,1] - \\\n",
    "#                                  data.iloc[j,2]+1),0,1)[0]\n",
    "#             print(integrate.quad(lambda x: beta.pdf(x, data.iloc[i,2]+1, data.iloc[i,1] - \\\n",
    "#                                    data.iloc[i,2]+1) * beta.cdf(x, data.iloc[j,2]+1, data.iloc[j,1] - \\\n",
    "#                                  data.iloc[j,2]+1),0,1)[0])\n",
    "    \n",
    "    return result\n",
    "\n",
    "\n",
    "    #가능도 함수 f를 구해서 정의역 구간에서 integrate 하자 ==> likelihood의 적분 == 확률\n",
    "#     result[i] = integrate.quad(funtion, 0,1)[0]\n",
    "        \n",
    "#     return result"
   ]
  },
  {
   "cell_type": "code",
   "execution_count": 141,
   "metadata": {},
   "outputs": [
    {
     "name": "stdout",
     "output_type": "stream",
     "text": [
      "0\n",
      "0.966554243344272\n",
      "0.9480853009068143\n",
      "1\n",
      "0.03344575665791428\n",
      "0.4184502699376264\n",
      "2\n",
      "0.05191469909529321\n",
      "0.5815497300606491\n"
     ]
    },
    {
     "data": {
      "text/plain": [
       "array([0, 0, 0])"
      ]
     },
     "execution_count": 141,
     "metadata": {},
     "output_type": "execute_result"
    }
   ],
   "source": [
    "bayesian_stat_for_rate(df_data)"
   ]
  },
  {
   "cell_type": "code",
   "execution_count": 72,
   "metadata": {},
   "outputs": [
    {
     "data": {
      "text/html": [
       "<div>\n",
       "<style scoped>\n",
       "    .dataframe tbody tr th:only-of-type {\n",
       "        vertical-align: middle;\n",
       "    }\n",
       "\n",
       "    .dataframe tbody tr th {\n",
       "        vertical-align: top;\n",
       "    }\n",
       "\n",
       "    .dataframe thead th {\n",
       "        text-align: right;\n",
       "    }\n",
       "</style>\n",
       "<table border=\"1\" class=\"dataframe\">\n",
       "  <thead>\n",
       "    <tr style=\"text-align: right;\">\n",
       "      <th></th>\n",
       "      <th>group</th>\n",
       "      <th>trial</th>\n",
       "      <th>conversion</th>\n",
       "    </tr>\n",
       "  </thead>\n",
       "  <tbody>\n",
       "    <tr>\n",
       "      <th>0</th>\n",
       "      <td>A</td>\n",
       "      <td>8500</td>\n",
       "      <td>1500</td>\n",
       "    </tr>\n",
       "    <tr>\n",
       "      <th>1</th>\n",
       "      <td>B</td>\n",
       "      <td>8500</td>\n",
       "      <td>1410</td>\n",
       "    </tr>\n",
       "    <tr>\n",
       "      <th>2</th>\n",
       "      <td>C</td>\n",
       "      <td>8500</td>\n",
       "      <td>1420</td>\n",
       "    </tr>\n",
       "  </tbody>\n",
       "</table>\n",
       "</div>"
      ],
      "text/plain": [
       "  group  trial  conversion\n",
       "0     A   8500        1500\n",
       "1     B   8500        1410\n",
       "2     C   8500        1420"
      ]
     },
     "execution_count": 72,
     "metadata": {},
     "output_type": "execute_result"
    }
   ],
   "source": [
    "df_data"
   ]
  },
  {
   "cell_type": "code",
   "execution_count": null,
   "metadata": {},
   "outputs": [],
   "source": []
  },
  {
   "cell_type": "code",
   "execution_count": 2,
   "metadata": {},
   "outputs": [
    {
     "name": "stdout",
     "output_type": "stream",
     "text": [
      "{2, 3, 4}\n",
      "{1, 3, 4}\n",
      "{1, 2, 4}\n",
      "{1, 2, 3}\n"
     ]
    }
   ],
   "source": [
    "a = [1,2,3,4]\n",
    "seta = set(a)\n",
    "\n",
    "for i in range(1,5,1):\n",
    "    print(seta-{i})"
   ]
  },
  {
   "cell_type": "code",
   "execution_count": 74,
   "metadata": {},
   "outputs": [
    {
     "data": {
      "text/plain": [
       "{1, 2, 3, 4}"
      ]
     },
     "execution_count": 74,
     "metadata": {},
     "output_type": "execute_result"
    }
   ],
   "source": [
    "set_a"
   ]
  },
  {
   "cell_type": "code",
   "execution_count": 82,
   "metadata": {},
   "outputs": [],
   "source": [
    "from numpy.random import beta as beta_dist\n",
    "import numpy as np\n",
    "\n",
    "N_samp = 8500 # number of samples to draw\n",
    "clicks_A = 1500 # insert your own data here\n",
    "views_A = 8500\n",
    "clicks_B = 1410 # ditto\n",
    "views_B = 8500\n",
    "alpha = 1.1 # just for the example - set your own!\n",
    "beta_ = 14.2\n",
    "A_samples = beta_dist(clicks_A+alpha, views_A-clicks_A+beta_, N_samp)\n",
    "B_samples = beta_dist(clicks_B+alpha, views_B-clicks_B+beta_, N_samp)"
   ]
  },
  {
   "cell_type": "code",
   "execution_count": 83,
   "metadata": {},
   "outputs": [
    {
     "data": {
      "text/plain": [
       "0.9671764705882353"
      ]
     },
     "execution_count": 83,
     "metadata": {},
     "output_type": "execute_result"
    }
   ],
   "source": [
    "np.mean(A_samples > B_samples)"
   ]
  },
  {
   "cell_type": "code",
   "execution_count": 84,
   "metadata": {},
   "outputs": [
    {
     "data": {
      "text/plain": [
       "0.8308235294117647"
      ]
     },
     "execution_count": 84,
     "metadata": {},
     "output_type": "execute_result"
    }
   ],
   "source": [
    "np.mean( 100.*(A_samples - B_samples)/B_samples > 3 )"
   ]
  },
  {
   "cell_type": "code",
   "execution_count": 54,
   "metadata": {},
   "outputs": [],
   "source": [
    "def bayesian_stat_for_rate(data):\n",
    "    k = len(data)\n",
    "    for i in range(1,k+1):\n",
    "        lst = list(range(1,k+1))\n",
    "        set_lst = set(lst)\n",
    "        index = list(set_lst-{i})\n",
    "        f = lambda(x : beta.pdf(data.iloc[i, 2]+1, beta.pdf(data.iloc[i,1] - data.iloc[i,2]+1)))\n",
    "        for j in range(index):\n",
    "            r = lambda(y : beta.cdf(data.iloc[j, 2]+1, beta.cdf(data.ilco[j,1] - data.iloc[j,2]+1)))\n",
    "            \n",
    "        result[i] = integrate(f,0,1)\n",
    "        \n",
    "    return result"
   ]
  },
  {
   "cell_type": "code",
   "execution_count": 55,
   "metadata": {},
   "outputs": [
    {
     "name": "stdout",
     "output_type": "stream",
     "text": [
      "{2, 3, 4, 5}\n",
      "{1, 3, 4, 5}\n",
      "{1, 2, 4, 5}\n",
      "{1, 2, 3, 5}\n",
      "{1, 2, 3, 4}\n"
     ]
    }
   ],
   "source": [
    "bayesian_stat_for_rate([1,2,3,4,5])"
   ]
  },
  {
   "cell_type": "code",
   "execution_count": null,
   "metadata": {},
   "outputs": [],
   "source": [
    "dbeta = beta.pdf()\n",
    "pbeta = beta.cdf()\n",
    "integrate.quad(f, 0,1)"
   ]
  },
  {
   "cell_type": "code",
   "execution_count": null,
   "metadata": {},
   "outputs": [],
   "source": [
    "# dbeta ==> beta.pdf (density function)\n",
    "# pbeta ==> beta.rvs\n",
    "# dbeta gives the density, pbeta the distribution function, "
   ]
  },
  {
   "cell_type": "code",
   "execution_count": 23,
   "metadata": {},
   "outputs": [
    {
     "data": {
      "text/plain": [
       "array([0.12231251])"
      ]
     },
     "execution_count": 23,
     "metadata": {},
     "output_type": "execute_result"
    }
   ],
   "source": [
    "conversion_a = 3300\n",
    "conversion_b = 170\n",
    "\n",
    "total_a = 10000\n",
    "total_b = 500\n",
    "\n",
    "prob_A_better_B = np.multiply(beta.rvs(1+conversion_a, 1+total_a-conversion_a, size=1),\\\n",
    "                              beta.rvs(1+conversion_b, 1+total_b-conversion_b))\n",
    "\n",
    "prob_A_better_B\n",
    "\n",
    "# f= lambda x:exp(-x**2)\n",
    "# i = scipy.integrate.quad(f, 0, 1)"
   ]
  },
  {
   "cell_type": "code",
   "execution_count": 216,
   "metadata": {},
   "outputs": [
    {
     "ename": "NameError",
     "evalue": "name 'conversion_b' is not defined",
     "output_type": "error",
     "traceback": [
      "\u001b[0;31m---------------------------------------------------------------------------\u001b[0m",
      "\u001b[0;31mNameError\u001b[0m                                 Traceback (most recent call last)",
      "\u001b[0;32m<ipython-input-216-605408c2b8ec>\u001b[0m in \u001b[0;36m<module>\u001b[0;34m\u001b[0m\n\u001b[1;32m      5\u001b[0m \u001b[0;34m\u001b[0m\u001b[0m\n\u001b[1;32m      6\u001b[0m integrate.quad(lambda x,y : beta.pdf(1+conversion_a, 1+total_a-conversion_a, size=1),\\\n\u001b[0;32m----> 7\u001b[0;31m                               beta.pdf(1+conversion_b, 1+total_b-conversion_b), 0,1)\n\u001b[0m",
      "\u001b[0;31mNameError\u001b[0m: name 'conversion_b' is not defined"
     ]
    }
   ],
   "source": [
    "# f = np.multiply(beta.rvs(1+conversion_a, 1+total_a-conversion_a, size=1),\\\n",
    "#                               beta.rvs(1+conversion_b, 1+total_b-conversion_b))\n",
    "# i = integrate.quad(f, 0, 1)\n",
    "# result = integrate.quad(lambda x: special.jv(2.5,x), 0, 4.5)\n",
    "\n",
    "integrate.quad(lambda x,y : beta.pdf(1+conversion_a, 1+total_a-conversion_a, size=1),\\\n",
    "                              beta.pdf(1+conversion_b, 1+total_b-conversion_b), 0,1)"
   ]
  },
  {
   "cell_type": "code",
   "execution_count": null,
   "metadata": {},
   "outputs": [],
   "source": []
  },
  {
   "cell_type": "code",
   "execution_count": 16,
   "metadata": {},
   "outputs": [],
   "source": [
    "f= lambda x:np.exp(-x**2)\n",
    "i = integrate.quad(f, 0, 1)"
   ]
  },
  {
   "cell_type": "code",
   "execution_count": 19,
   "metadata": {},
   "outputs": [
    {
     "data": {
      "text/plain": [
       "(0.7468241328124271, 8.291413475940725e-15)"
      ]
     },
     "execution_count": 19,
     "metadata": {},
     "output_type": "execute_result"
    }
   ],
   "source": [
    "i"
   ]
  },
  {
   "cell_type": "code",
   "execution_count": 1,
   "metadata": {},
   "outputs": [],
   "source": [
    "import numpy as np\n",
    "from math import lgamma\n",
    "from numba import jit\n",
    "\n",
    "#defining the functions used\n",
    "@jit\n",
    "def h(a, b, c, d):\n",
    "    num = lgamma(a + c) + lgamma(b + d) + lgamma(a + b) + lgamma(c + d)\n",
    "    den = lgamma(a) + lgamma(b) + lgamma(c) + lgamma(d) + lgamma(a + b + c + d)\n",
    "    return np.exp(num - den)\n",
    "\n",
    "@jit\n",
    "def g0(a, b, c):    \n",
    "    return np.exp(lgamma(a + b) + lgamma(a + c) - (lgamma(a + b + c) + lgamma(a)))\n",
    "\n",
    "@jit\n",
    "def hiter(a, b, c, d):\n",
    "    while d > 1:\n",
    "        d -= 1\n",
    "        yield h(a, b, c, d) / d\n",
    "\n",
    "def g(a, b, c, d):\n",
    "    return g0(a, b, c) + sum(hiter(a, b, c, d))\n",
    "\n",
    "def calc_prob_between(beta1, beta2):\n",
    "    return g(beta1.args[0], beta1.args[1], beta2.args[0], beta2.args[1])"
   ]
  },
  {
   "cell_type": "code",
   "execution_count": 4,
   "metadata": {},
   "outputs": [
    {
     "name": "stdout",
     "output_type": "stream",
     "text": [
      "Test option lift Conversion Rates by 6.38% with 96.7% probability.\n"
     ]
    }
   ],
   "source": [
    "from scipy.stats import beta\n",
    "import numpy as np\n",
    "from numba import jit\n",
    "from math import lgamma\n",
    "\n",
    "#This is the known data: imporessions and conversions for the Control and Test set\n",
    "imps_ctrl,convs_ctrl= 8500, 1410 \n",
    "imps_test, convs_test= 8500, 1500\n",
    "\n",
    "#here we create the Beta functions for the two sets\n",
    "a_C, b_C = convs_ctrl+1, imps_ctrl-convs_ctrl+1\n",
    "beta_C = beta(a_C, b_C)\n",
    "a_T, b_T = convs_test+1, imps_test-convs_test+1\n",
    "beta_T = beta(a_T, b_T)\n",
    "\n",
    "#calculating the lift\n",
    "lift=(beta_T.mean()-beta_C.mean())/beta_C.mean()\n",
    "\n",
    "# #calculating the probability for Test to be better than Control\n",
    "prob=calc_prob_between(beta_T, beta_C)\n",
    "\n",
    "print (f\"Test option lift Conversion Rates by {lift*100:2.2f}% with {prob*100:2.1f}% probability.\")"
   ]
  },
  {
   "cell_type": "code",
   "execution_count": 6,
   "metadata": {
    "scrolled": true
   },
   "outputs": [
    {
     "name": "stdout",
     "output_type": "stream",
     "text": [
      "1501 7001\n"
     ]
    }
   ],
   "source": [
    "print(beta_T.args[0], beta_T.args[1])"
   ]
  },
  {
   "cell_type": "code",
   "execution_count": null,
   "metadata": {},
   "outputs": [],
   "source": []
  },
  {
   "cell_type": "markdown",
   "metadata": {},
   "source": [
    "### 연속적분하는 Full code구현"
   ]
  },
  {
   "cell_type": "code",
   "execution_count": 376,
   "metadata": {},
   "outputs": [
    {
     "name": "stdout",
     "output_type": "stream",
     "text": [
      "i : 0    j : 1\n",
      "i : 1    j : 0\n"
     ]
    },
    {
     "data": {
      "text/plain": [
       "[0.966554243344272, 0.03344575665791428]"
      ]
     },
     "execution_count": 376,
     "metadata": {},
     "output_type": "execute_result"
    }
   ],
   "source": [
    "# 연속적분을 어떻게 구현할까???\n",
    "def sample(data):\n",
    "    k = len(data)\n",
    "    list_of_k = list(range(0,k,1))\n",
    "    result = []\n",
    "    for i in list_of_k:\n",
    "        set_of_k = set(list_of_k)\n",
    "        index = set_of_k-{i}\n",
    "        result.append(0) # making space for results\n",
    "        for j in index :\n",
    "            print('i :',i, '   j :',j)\n",
    "            result[i] = integrate.quad(lambda x: beta.pdf(x, data.iloc[i,2]+1, data.iloc[i,1] - data.iloc[i,2]+1)*\\\n",
    "                             beta.cdf(x, data.iloc[j,2]+1, data.iloc[j,1] - data.iloc[j,2]+1),0,1)[0]\n",
    "    return result\n",
    "sample(basic_data)"
   ]
  },
  {
   "cell_type": "code",
   "execution_count": 375,
   "metadata": {},
   "outputs": [
    {
     "data": {
      "text/html": [
       "<div>\n",
       "<style scoped>\n",
       "    .dataframe tbody tr th:only-of-type {\n",
       "        vertical-align: middle;\n",
       "    }\n",
       "\n",
       "    .dataframe tbody tr th {\n",
       "        vertical-align: top;\n",
       "    }\n",
       "\n",
       "    .dataframe thead th {\n",
       "        text-align: right;\n",
       "    }\n",
       "</style>\n",
       "<table border=\"1\" class=\"dataframe\">\n",
       "  <thead>\n",
       "    <tr style=\"text-align: right;\">\n",
       "      <th></th>\n",
       "      <th>group</th>\n",
       "      <th>trial</th>\n",
       "      <th>conversion</th>\n",
       "    </tr>\n",
       "  </thead>\n",
       "  <tbody>\n",
       "    <tr>\n",
       "      <th>0</th>\n",
       "      <td>A</td>\n",
       "      <td>8500</td>\n",
       "      <td>1500</td>\n",
       "    </tr>\n",
       "    <tr>\n",
       "      <th>1</th>\n",
       "      <td>B</td>\n",
       "      <td>8500</td>\n",
       "      <td>1410</td>\n",
       "    </tr>\n",
       "    <tr>\n",
       "      <th>2</th>\n",
       "      <td>C</td>\n",
       "      <td>8500</td>\n",
       "      <td>1420</td>\n",
       "    </tr>\n",
       "  </tbody>\n",
       "</table>\n",
       "</div>"
      ],
      "text/plain": [
       "  group  trial  conversion\n",
       "0     A   8500        1500\n",
       "1     B   8500        1410\n",
       "2     C   8500        1420"
      ]
     },
     "execution_count": 375,
     "metadata": {},
     "output_type": "execute_result"
    }
   ],
   "source": [
    "df_data"
   ]
  },
  {
   "cell_type": "markdown",
   "metadata": {},
   "source": [
    "0.02840740 0.92391007 0.04768253"
   ]
  },
  {
   "cell_type": "code",
   "execution_count": 377,
   "metadata": {},
   "outputs": [
    {
     "name": "stdout",
     "output_type": "stream",
     "text": [
      "i : 0    j : 1\n",
      "(0.966554243344272, 2.7706948534619212e-09)\n",
      "i : 0    j : 2\n",
      "(0.9480853009068143, 2.3511395926944373e-09)\n",
      "i : 1    j : 0\n",
      "(0.03344575665791428, 5.450926853986515e-10)\n",
      "i : 1    j : 2\n",
      "(0.4184502699376264, 1.2427553859049198e-10)\n",
      "i : 2    j : 0\n",
      "(0.05191469909529321, 5.799861402776274e-10)\n",
      "i : 2    j : 1\n",
      "(0.5815497300606491, 4.202930388816484e-11)\n"
     ]
    },
    {
     "data": {
      "text/plain": [
       "[0, 0, 0]"
      ]
     },
     "execution_count": 377,
     "metadata": {},
     "output_type": "execute_result"
    }
   ],
   "source": [
    "def sample(data):\n",
    "    k = len(data)\n",
    "    list_of_k = list(range(0,k,1))\n",
    "    result = []\n",
    "    for i in list_of_k:\n",
    "        set_of_k = set(list_of_k)\n",
    "        index = set_of_k-{i}\n",
    "        result.append(0) # making space for results\n",
    "        for j in index :\n",
    "            print('i :',i, '   j :',j)\n",
    "#             result[i] = integrate.quad(lambda x: beta.pdf(x, data.iloc[i,2]+1, data.iloc[i,1] - data.iloc[i,2]+1)*\\\n",
    "#                              beta.cdf(x, data.iloc[j,2]+1, data.iloc[j,1] - data.iloc[j,2]+1),0,1)[0]\n",
    "            print(integrate.quad(lambda x: beta.pdf(x, data.iloc[i,2]+1, data.iloc[i,1] - data.iloc[i,2]+1)*\\\n",
    "                              beta.cdf(x, data.iloc[j,2]+1, data.iloc[j,1] - data.iloc[j,2]+1),0,1))\n",
    "    return result\n",
    "sample(df_data)"
   ]
  }
 ],
 "metadata": {
  "kernelspec": {
   "display_name": "Python 3",
   "language": "python",
   "name": "python3"
  },
  "language_info": {
   "codemirror_mode": {
    "name": "ipython",
    "version": 3
   },
   "file_extension": ".py",
   "mimetype": "text/x-python",
   "name": "python",
   "nbconvert_exporter": "python",
   "pygments_lexer": "ipython3",
   "version": "3.6.8"
  }
 },
 "nbformat": 4,
 "nbformat_minor": 2
}
