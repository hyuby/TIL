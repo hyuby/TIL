{
 "cells": [
  {
   "cell_type": "code",
   "execution_count": 1,
   "metadata": {},
   "outputs": [],
   "source": [
    "%config Completer.use_jedi = False"
   ]
  },
  {
   "cell_type": "markdown",
   "metadata": {},
   "source": [
    "# Bayesian A/B/C test.\n",
    "### Calculating Each Advertisement's Probability\n",
    "- Using <a href=\"https://en.wikipedia.org/wiki/Beta_distribution\">$Beta \\space Distribution$</a>.\n",
    "- Without calculating Integral of joint distribution, approximate the Bayesian probability of each advertisement.\n",
    "    - Monte Carlo Simulation."
   ]
  },
  {
   "cell_type": "code",
   "execution_count": 2,
   "metadata": {},
   "outputs": [],
   "source": [
    "%matplotlib inline\n",
    "from matplotlib import pyplot as plt\n",
    "from matplotlib.patches import Rectangle\n",
    "import pandas as pd\n",
    "from scipy.stats import beta, bernoulli\n",
    "import numpy as np"
   ]
  },
  {
   "cell_type": "code",
   "execution_count": 3,
   "metadata": {},
   "outputs": [],
   "source": [
    "def dummy_genrator(conversion_rate, n_impression):\n",
    "    return np.array(bernoulli(conversion_rate).rvs(n_impression))"
   ]
  },
  {
   "cell_type": "code",
   "execution_count": 330,
   "metadata": {},
   "outputs": [
    {
     "name": "stdout",
     "output_type": "stream",
     "text": [
      "A \n",
      " Count: 8500\n",
      " Conversion: 1500\n",
      "\n",
      "B \n",
      " Count: 8500\n",
      " Conversion: 1410\n",
      "\n"
     ]
    }
   ],
   "source": [
    "a = dummy_genrator(0.177470, 8500)\n",
    "b = dummy_genrator(0.165777, 8500)\n",
    "imp_a = len(a)\n",
    "imp_b = len(b)\n",
    "conv_a = 1500\n",
    "conv_b = 1410\n",
    "print(\"A \\n Counts: {}\\n Conversions: {}\\n\".format(imp_a, conv_a))\n",
    "print(\"B \\n Counts: {}\\n Conversions: {}\\n\".format(imp_b, conv_b))"
   ]
  },
  {
   "cell_type": "code",
   "execution_count": 43,
   "metadata": {},
   "outputs": [
    {
     "data": {
      "text/plain": [
       "[[1501, 7001], [1411, 7091]]"
      ]
     },
     "execution_count": 43,
     "metadata": {},
     "output_type": "execute_result"
    }
   ],
   "source": [
    "abtest.params"
   ]
  },
  {
   "cell_type": "code",
   "execution_count": null,
   "metadata": {},
   "outputs": [],
   "source": [
    "self.posterior_list = [beta(*p).rvs(n_samples) for p in self.params]"
   ]
  },
  {
   "cell_type": "code",
   "execution_count": 6,
   "metadata": {},
   "outputs": [
    {
     "data": {
      "text/plain": [
       "array([0.14357873])"
      ]
     },
     "execution_count": 6,
     "metadata": {},
     "output_type": "execute_result"
    }
   ],
   "source": [
    "beta(1501,8501).rvs(1)"
   ]
  },
  {
   "cell_type": "code",
   "execution_count": 79,
   "metadata": {},
   "outputs": [
    {
     "data": {
      "text/plain": [
       "array([0.15460562, 0.15378343, 0.14848749, 0.14949916, 0.15009442,\n",
       "       0.14735806, 0.15894557, 0.15004614, 0.15181264, 0.14843852,\n",
       "       0.14783516, 0.15587631, 0.14598166, 0.15198312, 0.14759219,\n",
       "       0.14814518, 0.1555266 , 0.1491514 , 0.14982524, 0.14643985,\n",
       "       0.14840787, 0.14974963, 0.14952531, 0.15213606, 0.15009562,\n",
       "       0.15201282, 0.1500748 , 0.14775841, 0.14942644, 0.15861857,\n",
       "       0.15584095, 0.15454505, 0.15226463, 0.14975305, 0.14854699,\n",
       "       0.14936483, 0.15107725, 0.1503285 , 0.14698372, 0.14885975,\n",
       "       0.14922714, 0.15968626, 0.15101827, 0.14990472, 0.1523704 ,\n",
       "       0.15343095, 0.14793292, 0.15746835, 0.15386144, 0.15943134,\n",
       "       0.14985273, 0.14278545, 0.15361593, 0.14840381, 0.15476821,\n",
       "       0.15274181, 0.15347348, 0.15241347, 0.15656274, 0.14612696,\n",
       "       0.14582781, 0.14778317, 0.14912219, 0.1450221 , 0.15368015,\n",
       "       0.14340917, 0.14871114, 0.14592215, 0.1479408 , 0.14857944,\n",
       "       0.14547511, 0.14912929, 0.14858211, 0.14991459, 0.15326208,\n",
       "       0.15005429, 0.15217452, 0.1482051 , 0.14902168, 0.14756426,\n",
       "       0.14876495, 0.15820206, 0.14934683, 0.15291012, 0.15454302,\n",
       "       0.14951835, 0.14247294, 0.15368213, 0.14964287, 0.14530231,\n",
       "       0.1448247 , 0.1484887 , 0.14880744, 0.15169036, 0.14791277,\n",
       "       0.14997511, 0.1474238 , 0.15243766, 0.15200513, 0.14450693])"
      ]
     },
     "execution_count": 79,
     "metadata": {},
     "output_type": "execute_result"
    }
   ],
   "source": [
    "posterior_list_1"
   ]
  },
  {
   "cell_type": "code",
   "execution_count": 17,
   "metadata": {},
   "outputs": [
    {
     "data": {
      "text/plain": [
       "1"
      ]
     },
     "execution_count": 17,
     "metadata": {},
     "output_type": "execute_result"
    }
   ],
   "source": [
    "a = (1,2)\n",
    "a.count(1)"
   ]
  },
  {
   "cell_type": "code",
   "execution_count": 173,
   "metadata": {},
   "outputs": [
    {
     "data": {
      "text/plain": [
       "804"
      ]
     },
     "execution_count": 173,
     "metadata": {},
     "output_type": "execute_result"
    }
   ],
   "source": [
    "(posterior_list_3 > posterior_list_2).sum() - (posterior_list_2 > posterior_list_3).sum()"
   ]
  },
  {
   "cell_type": "code",
   "execution_count": 179,
   "metadata": {},
   "outputs": [
    {
     "data": {
      "text/plain": [
       "[[1501, 7001], [1411, 7091]]"
      ]
     },
     "execution_count": 179,
     "metadata": {},
     "output_type": "execute_result"
    }
   ],
   "source": [
    "abtest.params"
   ]
  },
  {
   "cell_type": "markdown",
   "metadata": {},
   "source": [
    "### Calculation by Formula\n",
    "- Formulas By Evan Miller\n",
    "- http://www.evanmiller.org/bayesian-ab-testing.html\n",
    ">This page collects a few formulas I’ve derived for evaluating A/B tests in a Bayesian context. The formulas on this page are closed-form, so you don’t need to do complicated integral evaluations; they can be computed with simple loops and a decent math library. The advantage of Bayesian formulas over the traditional frequentist formulas is that you don’t have to collect a pre-ordained sample size in order to get a valid result. (See How Not To Run An A/B Test for more context on the “peeking” problem, and Simple Sequential A/B Testing for a frequentist solution to the problem.)"
   ]
  },
  {
   "cell_type": "markdown",
   "metadata": {},
   "source": [
    "$${\\rm Pr}(p_C > \\max{\\{p_A, p_B\\}}) = \\int_0^1 \\int_0^{p_C} \\int_0^{p_C} f(p_A) f(p_B) f(p_C) dp_A dp_B dp_C$$"
   ]
  },
  {
   "cell_type": "code",
   "execution_count": 333,
   "metadata": {},
   "outputs": [],
   "source": [
    "n = 10000\n",
    "total = 8000\n",
    "cv_a = 1600\n",
    "cv_b = 1500\n",
    "cv_c = 1580\n",
    "\n",
    "posterior_list_a = beta(cv_a+1, total-cv_a+1).rvs(n)\n",
    "posterior_list_b = beta(cv_b+1, total-cv_b+1).rvs(n)\n",
    "posterior_list_c = beta(cv_c+1, total-cv_c+1).rvs(n)\n",
    "\n",
    "prob_a = ((posterior_list_a > posterior_list_c).sum())/(n)\n",
    "prob_b = ((posterior_list_b > posterior_list_a).sum())/(n)\n",
    "prob_c = ((posterior_list_c > posterior_list_a).sum())/(n)"
   ]
  },
  {
   "cell_type": "markdown",
   "metadata": {},
   "source": [
    "### Does Integration take place into 3-Dimension?\n",
    "- Can it be solved by Monte Carlo simulation?"
   ]
  },
  {
   "cell_type": "code",
   "execution_count": 309,
   "metadata": {
    "scrolled": true
   },
   "outputs": [
    {
     "name": "stdout",
     "output_type": "stream",
     "text": [
      "a win: 0.65321\n",
      "b win: 0.022885\n",
      "c win: 0.34679\n"
     ]
    },
    {
     "data": {
      "text/plain": [
       "0.022885000000000044"
      ]
     },
     "execution_count": 309,
     "metadata": {},
     "output_type": "execute_result"
    }
   ],
   "source": [
    "n = 200000\n",
    "total = 8000\n",
    "cv_a = 1600\n",
    "cv_b = 1500\n",
    "cv_c = 1580\n",
    "\n",
    "posterior_list_a = beta(cv_a+1, total-cv_a+1).rvs(n)\n",
    "posterior_list_b = beta(cv_b+1, total-cv_b+1).rvs(n)\n",
    "posterior_list_c = beta(cv_c+1, total-cv_c+1).rvs(n)\n",
    "\n",
    "prob_a = ((posterior_list_a > posterior_list_c).sum())/(n)\n",
    "prob_b = ((posterior_list_b > posterior_list_a).sum())/(n)\n",
    "prob_c = ((posterior_list_c > posterior_list_a).sum())/(n)\n",
    "\n",
    "print('a win:', prob_a)\n",
    "print('b win:', prob_b)\n",
    "print('c win:', prob_c)\n",
    "\n",
    "prob_a + prob_b + prob_c - 1"
   ]
  },
  {
   "cell_type": "markdown",
   "metadata": {},
   "source": [
    "### Comparing with Dynamic Yield's Bayesian Probability Calculator\n",
    "<a href=\"https://marketing.dynamicyield.com/bayesian-calculator/\">Dynamic Yield's BAYESIAN A/B TESTING CALCULATOR</a>"
   ]
  },
  {
   "cell_type": "markdown",
   "metadata": {},
   "source": [
    "![Dynamic_Yield](dynamic_yield.png)"
   ]
  },
  {
   "cell_type": "markdown",
   "metadata": {},
   "source": [
    "### Problem\n",
    "- Total Probability of Advertisements Exceeds 1.0  \n",
    "- <a href=\"https://en.wikipedia.org/wiki/Probability_axioms\">$Probability\\space Exioms$</a>\n",
    "    - $P(\\Omega) = 1$"
   ]
  },
  {
   "cell_type": "markdown",
   "metadata": {},
   "source": [
    "### Experiment -01\n",
    "- Calculating bayesian probability for 100 times"
   ]
  },
  {
   "cell_type": "code",
   "execution_count": 329,
   "metadata": {
    "scrolled": false
   },
   "outputs": [
    {
     "name": "stdout",
     "output_type": "stream",
     "text": [
      "Experiment Count : 1    The Error of total Probability :  0.022669999999999968\n",
      "Experiment Count : 2    The Error of total Probability :  0.022229999999999972\n",
      "Experiment Count : 3    The Error of total Probability :  0.02275999999999989\n",
      "Experiment Count : 4    The Error of total Probability :  0.022559999999999913\n",
      "Experiment Count : 5    The Error of total Probability :  0.023095000000000088\n",
      "Experiment Count : 6    The Error of total Probability :  0.022870000000000168\n",
      "Experiment Count : 7    The Error of total Probability :  0.023410000000000153\n",
      "Experiment Count : 8    The Error of total Probability :  0.022739999999999982\n",
      "Experiment Count : 9    The Error of total Probability :  0.022860000000000102\n",
      "Experiment Count : 10    The Error of total Probability :  0.022580000000000044\n",
      "Experiment Count : 11    The Error of total Probability :  0.02261500000000005\n",
      "\n",
      "\n",
      "Experiment Count : 12    The Error of total Probability :  0.022540000000000004\n",
      "Experiment Count : 13    The Error of total Probability :  0.02342500000000003\n",
      "Experiment Count : 14    The Error of total Probability :  0.0223850000000001\n",
      "Experiment Count : 15    The Error of total Probability :  0.022889999999999855\n",
      "Experiment Count : 16    The Error of total Probability :  0.022720000000000073\n",
      "Experiment Count : 17    The Error of total Probability :  0.022524999999999906\n",
      "Experiment Count : 18    The Error of total Probability :  0.0230999999999999\n",
      "Experiment Count : 19    The Error of total Probability :  0.022985000000000033\n",
      "Experiment Count : 20    The Error of total Probability :  0.022560000000000136\n",
      "Experiment Count : 21    The Error of total Probability :  0.02230500000000002\n",
      "\n",
      "\n",
      "Experiment Count : 22    The Error of total Probability :  0.022525000000000128\n",
      "Experiment Count : 23    The Error of total Probability :  0.023055000000000048\n",
      "Experiment Count : 24    The Error of total Probability :  0.022710000000000008\n",
      "Experiment Count : 25    The Error of total Probability :  0.02275999999999989\n",
      "Experiment Count : 26    The Error of total Probability :  0.022179999999999866\n",
      "Experiment Count : 27    The Error of total Probability :  0.02287499999999998\n",
      "Experiment Count : 28    The Error of total Probability :  0.023074999999999957\n",
      "Experiment Count : 29    The Error of total Probability :  0.022580000000000044\n",
      "Experiment Count : 30    The Error of total Probability :  0.02287499999999998\n",
      "Experiment Count : 31    The Error of total Probability :  0.022765000000000146\n",
      "\n",
      "\n",
      "Experiment Count : 32    The Error of total Probability :  0.02261000000000002\n",
      "Experiment Count : 33    The Error of total Probability :  0.02281500000000003\n",
      "Experiment Count : 34    The Error of total Probability :  0.022809999999999997\n",
      "Experiment Count : 35    The Error of total Probability :  0.022985000000000033\n",
      "Experiment Count : 36    The Error of total Probability :  0.02314499999999997\n",
      "Experiment Count : 37    The Error of total Probability :  0.022235000000000005\n",
      "Experiment Count : 38    The Error of total Probability :  0.022724999999999884\n",
      "Experiment Count : 39    The Error of total Probability :  0.022790000000000088\n",
      "Experiment Count : 40    The Error of total Probability :  0.022620000000000084\n",
      "Experiment Count : 41    The Error of total Probability :  0.02228500000000011\n",
      "\n",
      "\n",
      "Experiment Count : 42    The Error of total Probability :  0.022820000000000062\n",
      "Experiment Count : 43    The Error of total Probability :  0.023290000000000033\n",
      "Experiment Count : 44    The Error of total Probability :  0.022375000000000034\n",
      "Experiment Count : 45    The Error of total Probability :  0.023269999999999902\n",
      "Experiment Count : 46    The Error of total Probability :  0.022750000000000048\n",
      "Experiment Count : 47    The Error of total Probability :  0.02281500000000003\n",
      "Experiment Count : 48    The Error of total Probability :  0.022384999999999877\n",
      "Experiment Count : 49    The Error of total Probability :  0.02234999999999987\n",
      "Experiment Count : 50    The Error of total Probability :  0.02330500000000013\n",
      "Experiment Count : 51    The Error of total Probability :  0.02261500000000005\n",
      "\n",
      "\n",
      "Experiment Count : 52    The Error of total Probability :  0.02277499999999999\n",
      "Experiment Count : 53    The Error of total Probability :  0.022079999999999878\n",
      "Experiment Count : 54    The Error of total Probability :  0.02275500000000008\n",
      "Experiment Count : 55    The Error of total Probability :  0.02238999999999991\n",
      "Experiment Count : 56    The Error of total Probability :  0.022540000000000004\n",
      "Experiment Count : 57    The Error of total Probability :  0.023334999999999884\n",
      "Experiment Count : 58    The Error of total Probability :  0.02265500000000009\n",
      "Experiment Count : 59    The Error of total Probability :  0.022804999999999964\n",
      "Experiment Count : 60    The Error of total Probability :  0.022415000000000074\n",
      "Experiment Count : 61    The Error of total Probability :  0.022275000000000045\n",
      "\n",
      "\n",
      "Experiment Count : 62    The Error of total Probability :  0.02289999999999992\n",
      "Experiment Count : 63    The Error of total Probability :  0.02292000000000005\n",
      "Experiment Count : 64    The Error of total Probability :  0.023009999999999975\n",
      "Experiment Count : 65    The Error of total Probability :  0.022250000000000103\n",
      "Experiment Count : 66    The Error of total Probability :  0.022229999999999972\n",
      "Experiment Count : 67    The Error of total Probability :  0.022804999999999964\n",
      "Experiment Count : 68    The Error of total Probability :  0.022179999999999866\n",
      "Experiment Count : 69    The Error of total Probability :  0.022545000000000037\n",
      "Experiment Count : 70    The Error of total Probability :  0.023259999999999836\n",
      "Experiment Count : 71    The Error of total Probability :  0.022739999999999982\n",
      "\n",
      "\n",
      "Experiment Count : 72    The Error of total Probability :  0.022254999999999914\n",
      "Experiment Count : 73    The Error of total Probability :  0.02326499999999987\n",
      "Experiment Count : 74    The Error of total Probability :  0.02237\n",
      "Experiment Count : 75    The Error of total Probability :  0.02322000000000002\n",
      "Experiment Count : 76    The Error of total Probability :  0.023044999999999982\n",
      "Experiment Count : 77    The Error of total Probability :  0.023114999999999997\n",
      "Experiment Count : 78    The Error of total Probability :  0.023330000000000073\n",
      "Experiment Count : 79    The Error of total Probability :  0.022894999999999888\n",
      "Experiment Count : 80    The Error of total Probability :  0.02279500000000012\n",
      "Experiment Count : 81    The Error of total Probability :  0.022190000000000154\n",
      "\n",
      "\n",
      "Experiment Count : 82    The Error of total Probability :  0.02263499999999996\n",
      "Experiment Count : 83    The Error of total Probability :  0.02269500000000013\n",
      "Experiment Count : 84    The Error of total Probability :  0.023085000000000022\n",
      "Experiment Count : 85    The Error of total Probability :  0.02292000000000005\n",
      "Experiment Count : 86    The Error of total Probability :  0.023584999999999967\n",
      "Experiment Count : 87    The Error of total Probability :  0.023165000000000102\n",
      "Experiment Count : 88    The Error of total Probability :  0.023239999999999927\n",
      "Experiment Count : 89    The Error of total Probability :  0.022944999999999993\n",
      "Experiment Count : 90    The Error of total Probability :  0.02256999999999998\n",
      "Experiment Count : 91    The Error of total Probability :  0.022359999999999935\n",
      "\n",
      "\n",
      "Experiment Count : 92    The Error of total Probability :  0.021924999999999972\n",
      "Experiment Count : 93    The Error of total Probability :  0.02256999999999998\n",
      "Experiment Count : 94    The Error of total Probability :  0.023150000000000004\n",
      "Experiment Count : 95    The Error of total Probability :  0.02281999999999984\n",
      "Experiment Count : 96    The Error of total Probability :  0.02237\n",
      "Experiment Count : 97    The Error of total Probability :  0.0230999999999999\n",
      "Experiment Count : 98    The Error of total Probability :  0.02245499999999989\n",
      "Experiment Count : 99    The Error of total Probability :  0.022149999999999892\n",
      "Experiment Count : 100    The Error of total Probability :  0.02317999999999998\n",
      "Mean Error of Probability : 0.022744849999999997    Variance of Errors :  1.2381322750000262e-07\n"
     ]
    }
   ],
   "source": [
    "total_prob_error = []\n",
    "for i in range(0,100):\n",
    "    posterior_list_a = beta(cv_a+1, total-cv_a+1).rvs(n)\n",
    "    posterior_list_b = beta(cv_b+1, total-cv_b+1).rvs(n)\n",
    "    posterior_list_c = beta(cv_c+1, total-cv_c+1).rvs(n)\n",
    "\n",
    "    prob_a = ((posterior_list_a > posterior_list_c).sum())/(n)\n",
    "    prob_b = ((posterior_list_b > posterior_list_a).sum())/(n)\n",
    "    prob_c = ((posterior_list_c > posterior_list_a).sum())/(n)\n",
    "    \n",
    "    total_prob_error.append(0)\n",
    "    total_prob_error[i] = prob_a + prob_b + prob_c - 1\n",
    "    \n",
    "    print('Experiment Count :',i+1,  '   The Error of total Probability : ', prob_a + prob_b + prob_c - 1)\n",
    "    if (i % 10 == 0) & (i != 0) :\n",
    "        print('\\n')\n",
    "        \n",
    "print('Mean Error of Probability :',np.mean(total_prob_error), \\\n",
    "      '   Variance of Errors : ', np.var(total_prob_error))"
   ]
  },
  {
   "cell_type": "markdown",
   "metadata": {},
   "source": [
    "### 실험 결과 정리\n",
    "- 오차는 __평균 0.0228__에 __분산은 0.000000135__\n",
    "- 0.023정도의 __오차를 무시__해도 되는가?\n",
    "> #### Thompson Sampling과 Bayesian Probability 계산의 접점?\n",
    "    - Thompson Sampling은 쭉 진행하고, 기준 Traffic 시점에 Bayesian Probability 계산(Thompson Sampling하면서 갖고 있는 각 대안들의 Conversion과 Count 정보를 이용한다. \n",
    "        - A : Beta(cv_a + 1, cnt_a - cv_a + 1).rvs(cnt_a)\n",
    "        - B : Beta(cv_b + 1, cnt_b - cv_b + 1).rvs(cnt_b)\n",
    "        - C : Beta(cv_c + 1, cnt_c - cv_c + 1).rvs(cnt_c)"
   ]
  },
  {
   "cell_type": "markdown",
   "metadata": {},
   "source": [
    "#### Making Class of Bayesian A/B test Codes\n",
    "- From https://github.com/Tdual/bayesianAB/blob/master/BayesianAB.ipynb"
   ]
  },
  {
   "cell_type": "code",
   "execution_count": 30,
   "metadata": {},
   "outputs": [],
   "source": [
    "class BayesianAB:\n",
    "    \n",
    "    def __init__(self, params=None, size=2):\n",
    "        \"\"\"\n",
    "            params are a list of Beta distribution's initial params. e.g. [[alpha of A, beta of A], [alpha of B, beta of B]]\n",
    "        \"\"\"\n",
    "        if params is None:\n",
    "            self.params = []\n",
    "            for _ in range(size):\n",
    "                self.params.append([1,1])\n",
    "        self.size = len(self.params)\n",
    "        self.data = []\n",
    "        for _ in range(size):\n",
    "            self.data.append([0,0])\n",
    "        print(\"the number of comparison: \", self.size)\n",
    "        self.sampling()\n",
    "        \n",
    "    def update(self, data, sampling=True):\n",
    "        \"\"\"\n",
    "         data are a list of pairs of impression and conversion. e.g. [[imp of A, conv of A], [imp of B, conv of B]]\n",
    "        \"\"\"\n",
    "        if self.size != len(data):\n",
    "            print(\"No match of the size.\")\n",
    "        \n",
    "        for p, current, new in zip(self.params, self.data, data):\n",
    "            imp = new[0]\n",
    "            conv = new[1]\n",
    "            current[0] += imp\n",
    "            current[1] += conv\n",
    "            p[0] += conv\n",
    "            p[1] += (imp - conv)\n",
    "        if sampling:\n",
    "            self.sampling()\n",
    "        \n",
    "        \n",
    "    def mean_ver(self):\n",
    "        \"\"\"\n",
    "            return [(mean of A, variance of A), (mean of B, variance of B), ...]\n",
    "        \"\"\"\n",
    "        return  [(posterior.mean(), posterior.var())for posterior in self.posterior_list]\n",
    "\n",
    "        \n",
    "        \n",
    "    def sampling(self, n_samples=50000):\n",
    "        print(\"num of samples: \", n_samples)\n",
    "        self.posterior_list = [beta(*p).rvs(n_samples) for p in self.params]\n",
    "\n",
    "\n",
    "        \n",
    "    def show_beta(self, title=\"\", save=False, labels=None):\n",
    "        \n",
    "        plt.figure(figsize=(10, 5))\n",
    "        plt.title(\"Posterior distribution \"+ title)\n",
    "        \n",
    "        cmap = plt.get_cmap('jet')\n",
    "        color_list= []\n",
    "            \n",
    "        for i, posterior in enumerate(self.posterior_list):\n",
    "            color =cmap(0.25*(i+1))\n",
    "            color_list.append(color)\n",
    "            plt.hist(posterior, bins=100, histtype=\"stepfilled\", normed=True, color=color, alpha=0.5)\n",
    "        handles = [Rectangle((0,0),1,1,color=c, ec=\"k\", alpha=0.5) for c in color_list]\n",
    "        \n",
    "        if labels is None:\n",
    "            labels = [chr(65+i) for i in range(self.size)] # create A,B,...\n",
    "            \n",
    "\n",
    "        plt.legend(handles, labels)\n",
    "        if save:\n",
    "            plt.savefig(\"{}.png\".format(title))\n",
    "        plt.show()\n",
    "    \n",
    "    def diff_prob(self, index_high, index_low):\n",
    "        prob = (self.posterior_list[index_low] < self.posterior_list[index_high]).mean()\n",
    "        if prob < 0.5:\n",
    "            prob = 1 - prob\n",
    "        return prob\n",
    "    \n",
    "    def show_metrics(self):\n",
    "        print(self.data)\n",
    "        \n",
    "    def metrics(self, labels=None):\n",
    "        if labels is None:\n",
    "            labels = [chr(65+i) for i in range(self.size)] # create A,B,...\n",
    "        return pd.DataFrame(self.data, index=labels, columns=[\"Impressions\", \"Conversions\"])\n",
    "        "
   ]
  },
  {
   "cell_type": "code",
   "execution_count": 31,
   "metadata": {},
   "outputs": [
    {
     "name": "stdout",
     "output_type": "stream",
     "text": [
      "the number of comparison:  2\n",
      "num of samples:  50000\n"
     ]
    }
   ],
   "source": [
    "abtest = BayesianAB()"
   ]
  },
  {
   "cell_type": "code",
   "execution_count": 32,
   "metadata": {},
   "outputs": [
    {
     "name": "stderr",
     "output_type": "stream",
     "text": [
      "//anaconda3/envs/py36/lib/python3.6/site-packages/ipykernel_launcher.py:61: MatplotlibDeprecationWarning: \n",
      "The 'normed' kwarg was deprecated in Matplotlib 2.1 and will be removed in 3.1. Use 'density' instead.\n"
     ]
    },
    {
     "data": {
      "image/png": "[encoded data removed]",
      "text/plain": [
       "<Figure size 720x360 with 1 Axes>"
      ]
     },
     "metadata": {
      "needs_background": "light"
     },
     "output_type": "display_data"
    }
   ],
   "source": [
    "abtest.show_beta()"
   ]
  },
  {
   "cell_type": "code",
   "execution_count": 33,
   "metadata": {},
   "outputs": [
    {
     "name": "stdout",
     "output_type": "stream",
     "text": [
      "num of samples:  50000\n"
     ]
    }
   ],
   "source": [
    "abtest.update([[imp_a, conv_a], [imp_b, conv_b]])"
   ]
  },
  {
   "cell_type": "code",
   "execution_count": 34,
   "metadata": {},
   "outputs": [
    {
     "data": {
      "text/plain": [
       "[(0.17655722467724114, 1.7049597134672362e-05),\n",
       " (0.16593136597564803, 1.619471031417971e-05)]"
      ]
     },
     "execution_count": 34,
     "metadata": {},
     "output_type": "execute_result"
    }
   ],
   "source": [
    "abtest.mean_ver()"
   ]
  },
  {
   "cell_type": "markdown",
   "metadata": {},
   "source": [
    "## Visualize Distributions of A/B"
   ]
  },
  {
   "cell_type": "code",
   "execution_count": 35,
   "metadata": {
    "scrolled": false
   },
   "outputs": [
    {
     "name": "stderr",
     "output_type": "stream",
     "text": [
      "//anaconda3/envs/py36/lib/python3.6/site-packages/ipykernel_launcher.py:61: MatplotlibDeprecationWarning: \n",
      "The 'normed' kwarg was deprecated in Matplotlib 2.1 and will be removed in 3.1. Use 'density' instead.\n"
     ]
    },
    {
     "data": {
      "image/png": "[encoded data removed]",
      "text/plain": [
       "<Figure size 720x360 with 1 Axes>"
      ]
     },
     "metadata": {
      "needs_background": "light"
     },
     "output_type": "display_data"
    }
   ],
   "source": [
    "abtest.show_beta()"
   ]
  },
  {
   "cell_type": "code",
   "execution_count": 39,
   "metadata": {},
   "outputs": [
    {
     "data": {
      "text/plain": [
       "0.967"
      ]
     },
     "execution_count": 39,
     "metadata": {},
     "output_type": "execute_result"
    }
   ],
   "source": [
    "abtest.diff_prob(0,1)"
   ]
  },
  {
   "cell_type": "code",
   "execution_count": 40,
   "metadata": {},
   "outputs": [
    {
     "name": "stdout",
     "output_type": "stream",
     "text": [
      "[[8500, 1500], [8500, 1410]]\n"
     ]
    }
   ],
   "source": [
    "abtest.show_metrics()"
   ]
  },
  {
   "cell_type": "code",
   "execution_count": 35,
   "metadata": {},
   "outputs": [
    {
     "name": "stdout",
     "output_type": "stream",
     "text": [
      "A \n",
      "총노출: 8500\n",
      "컨버전: 1500\n",
      "\n",
      "B \n",
      "총노출: 8500\n",
      "컨버전: 1410\n",
      "\n"
     ]
    }
   ],
   "source": [
    "a = dummy_genrator(0.015, 20400)\n",
    "b = dummy_genrator(0.021, 20000)\n",
    "imp_a = 8500\n",
    "imp_b = 8500\n",
    "conv_a = 1500\n",
    "conv_b = 1410\n",
    "print(\"A \\n Counts: {}\\n Conversions: {}\\n\".format(imp_a, conv_a))\n",
    "print(\"B \\n Counts: {}\\n Conversions: {}\\n\".format(imp_b, conv_b))"
   ]
  },
  {
   "cell_type": "code",
   "execution_count": 36,
   "metadata": {},
   "outputs": [
    {
     "name": "stdout",
     "output_type": "stream",
     "text": [
      "num of samples:  50000\n"
     ]
    }
   ],
   "source": [
    "abtest.update([[imp_a, conv_a], [imp_b, conv_b]])"
   ]
  },
  {
   "cell_type": "code",
   "execution_count": 37,
   "metadata": {},
   "outputs": [
    {
     "name": "stdout",
     "output_type": "stream",
     "text": [
      "[[17000, 3000], [17000, 2820]]\n"
     ]
    }
   ],
   "source": [
    "abtest.show_metrics()"
   ]
  },
  {
   "cell_type": "code",
   "execution_count": 41,
   "metadata": {},
   "outputs": [
    {
     "data": {
      "text/html": [
       "<div>\n",
       "<style scoped>\n",
       "    .dataframe tbody tr th:only-of-type {\n",
       "        vertical-align: middle;\n",
       "    }\n",
       "\n",
       "    .dataframe tbody tr th {\n",
       "        vertical-align: top;\n",
       "    }\n",
       "\n",
       "    .dataframe thead th {\n",
       "        text-align: right;\n",
       "    }\n",
       "</style>\n",
       "<table border=\"1\" class=\"dataframe\">\n",
       "  <thead>\n",
       "    <tr style=\"text-align: right;\">\n",
       "      <th></th>\n",
       "      <th>Impressions</th>\n",
       "      <th>Conversions</th>\n",
       "    </tr>\n",
       "  </thead>\n",
       "  <tbody>\n",
       "    <tr>\n",
       "      <th>A</th>\n",
       "      <td>17000</td>\n",
       "      <td>3000</td>\n",
       "    </tr>\n",
       "    <tr>\n",
       "      <th>B</th>\n",
       "      <td>17000</td>\n",
       "      <td>2820</td>\n",
       "    </tr>\n",
       "  </tbody>\n",
       "</table>\n",
       "</div>"
      ],
      "text/plain": [
       "   Impressions  Conversions\n",
       "A        17000         3000\n",
       "B        17000         2820"
      ]
     },
     "execution_count": 41,
     "metadata": {},
     "output_type": "execute_result"
    }
   ],
   "source": [
    "abtest.metrics()"
   ]
  },
  {
   "cell_type": "code",
   "execution_count": 255,
   "metadata": {},
   "outputs": [
    {
     "name": "stdout",
     "output_type": "stream",
     "text": [
      "A \n",
      "총노출: 8500\n",
      "컨버전: 1410\n",
      "\n",
      "B \n",
      "총노출: 8500\n",
      "컨버전: 1500\n",
      "\n",
      "C \n",
      "총노출: 8500\n",
      "컨버전: 1420\n",
      "\n"
     ]
    }
   ],
   "source": [
    "a = dummy_genrator(0.015, 1002)\n",
    "b = dummy_genrator(0.021, 1200)\n",
    "c = dummy_genrator(0.016, 1130)\n",
    "imp_a = 8500\n",
    "imp_b = 8500\n",
    "imp_c = 8500\n",
    "conv_a = 1410\n",
    "conv_b = 1500\n",
    "conv_c = 1420\n",
    "print(\"A \\n Counts: {}\\n Conversions: {}\\n\".format(imp_a, conv_a))\n",
    "print(\"B \\n Counts: {}\\n Conversions: {}\\n\".format(imp_b, conv_b))\n",
    "print(\"C \\n Counts: {}\\n Conversions: {}\\n\".format(imp_c, conv_c))"
   ]
  },
  {
   "cell_type": "markdown",
   "metadata": {},
   "source": [
    "## Visualize Distributions of A/B/C"
   ]
  },
  {
   "cell_type": "code",
   "execution_count": 264,
   "metadata": {},
   "outputs": [
    {
     "name": "stdout",
     "output_type": "stream",
     "text": [
      "the number of comparison:  3\n",
      "num of samples:  50000\n",
      "num of samples:  50000\n"
     ]
    },
    {
     "name": "stderr",
     "output_type": "stream",
     "text": [
      "//anaconda3/envs/py36/lib/python3.6/site-packages/ipykernel_launcher.py:61: MatplotlibDeprecationWarning: \n",
      "The 'normed' kwarg was deprecated in Matplotlib 2.1 and will be removed in 3.1. Use 'density' instead.\n"
     ]
    },
    {
     "data": {
      "image/png": "[encoded data removed]",
      "text/plain": [
       "<Figure size 720x360 with 1 Axes>"
      ]
     },
     "metadata": {
      "needs_background": "light"
     },
     "output_type": "display_data"
    }
   ],
   "source": [
    "abtest = BayesianAB(size=3)\n",
    "abtest.update([[imp_a, conv_a], [imp_b, conv_b],[imp_c, conv_c]])\n",
    "abtest.show_beta()\n",
    "#abtest.diff_prob()"
   ]
  },
  {
   "cell_type": "code",
   "execution_count": 265,
   "metadata": {},
   "outputs": [
    {
     "data": {
      "text/html": [
       "<div>\n",
       "<style scoped>\n",
       "    .dataframe tbody tr th:only-of-type {\n",
       "        vertical-align: middle;\n",
       "    }\n",
       "\n",
       "    .dataframe tbody tr th {\n",
       "        vertical-align: top;\n",
       "    }\n",
       "\n",
       "    .dataframe thead th {\n",
       "        text-align: right;\n",
       "    }\n",
       "</style>\n",
       "<table border=\"1\" class=\"dataframe\">\n",
       "  <thead>\n",
       "    <tr style=\"text-align: right;\">\n",
       "      <th></th>\n",
       "      <th>Impressions</th>\n",
       "      <th>Conversions</th>\n",
       "    </tr>\n",
       "  </thead>\n",
       "  <tbody>\n",
       "    <tr>\n",
       "      <th>A</th>\n",
       "      <td>8500</td>\n",
       "      <td>1410</td>\n",
       "    </tr>\n",
       "    <tr>\n",
       "      <th>B</th>\n",
       "      <td>8500</td>\n",
       "      <td>1500</td>\n",
       "    </tr>\n",
       "    <tr>\n",
       "      <th>C</th>\n",
       "      <td>8500</td>\n",
       "      <td>1420</td>\n",
       "    </tr>\n",
       "  </tbody>\n",
       "</table>\n",
       "</div>"
      ],
      "text/plain": [
       "   Impressions  Conversions\n",
       "A         8500         1410\n",
       "B         8500         1500\n",
       "C         8500         1420"
      ]
     },
     "execution_count": 265,
     "metadata": {},
     "output_type": "execute_result"
    }
   ],
   "source": [
    "abtest.metrics()"
   ]
  },
  {
   "cell_type": "code",
   "execution_count": 48,
   "metadata": {},
   "outputs": [
    {
     "data": {
      "text/plain": [
       "0.9678"
      ]
     },
     "execution_count": 48,
     "metadata": {},
     "output_type": "execute_result"
    }
   ],
   "source": [
    "abtest.diff_prob(1,0)"
   ]
  },
  {
   "cell_type": "code",
   "execution_count": 49,
   "metadata": {},
   "outputs": [
    {
     "data": {
      "text/plain": [
       "0.94788"
      ]
     },
     "execution_count": 49,
     "metadata": {},
     "output_type": "execute_result"
    }
   ],
   "source": [
    "abtest.diff_prob(1,2)"
   ]
  },
  {
   "cell_type": "code",
   "execution_count": 50,
   "metadata": {},
   "outputs": [
    {
     "data": {
      "text/plain": [
       "0.58268"
      ]
     },
     "execution_count": 50,
     "metadata": {},
     "output_type": "execute_result"
    }
   ],
   "source": [
    "abtest.diff_prob(2,0)"
   ]
  },
  {
   "cell_type": "code",
   "execution_count": 37,
   "metadata": {},
   "outputs": [
    {
     "name": "stdout",
     "output_type": "stream",
     "text": [
      "A \n",
      "表示数: 25100\n",
      "購入数: 364\n",
      "\n",
      "B \n",
      "表示数: 22000\n",
      "購入数: 469\n",
      "\n",
      "B \n",
      "表示数: 23300\n",
      "購入数: 354\n",
      "\n"
     ]
    }
   ],
   "source": [
    "a = dummy_genrator(0.015, 25100)\n",
    "b = dummy_genrator(0.021, 22000)\n",
    "c = dummy_genrator(0.016, 23300)\n",
    "imp_a = len(a)\n",
    "imp_b = len(b)\n",
    "imp_c = len(c)\n",
    "conv_a = np.count_nonzero(a)\n",
    "conv_b = np.count_nonzero(b)\n",
    "conv_c = np.count_nonzero(c)\n",
    "print(\"A \\n Counts: {}\\n Conversions: {}\\n\".format(imp_a, conv_a))\n",
    "print(\"B \\n Counts: {}\\n Conversions: {}\\n\".format(imp_b, conv_b))\n",
    "print(\"C \\n Counts: {}\\n Conversions: {}\\n\".format(imp_c, conv_c))"
   ]
  },
  {
   "cell_type": "code",
   "execution_count": 38,
   "metadata": {},
   "outputs": [
    {
     "name": "stdout",
     "output_type": "stream",
     "text": [
      "num of samples:  50000\n"
     ]
    },
    {
     "data": {
      "image/png": "[encoded data removed]",
      "text/plain": [
       "<matplotlib.figure.Figure at 0x10c7eab00>"
      ]
     },
     "metadata": {},
     "output_type": "display_data"
    },
    {
     "data": {
      "text/plain": [
       "[(0.014823136368344494, 5.586078465062482e-07),\n",
       " (0.0212059201285066, 8.839507467322899e-07),\n",
       " (0.01526854730312879, 6.223394152971891e-07)]"
      ]
     },
     "execution_count": 38,
     "metadata": {},
     "output_type": "execute_result"
    }
   ],
   "source": [
    "abtest.update([[imp_a, conv_a], [imp_b, conv_b],[imp_c, conv_c]])\n",
    "abtest.show_beta()\n",
    "abtest.mean_ver()"
   ]
  },
  {
   "cell_type": "code",
   "execution_count": 39,
   "metadata": {},
   "outputs": [
    {
     "data": {
      "text/html": [
       "<div>\n",
       "<style>\n",
       "    .dataframe thead tr:only-child th {\n",
       "        text-align: right;\n",
       "    }\n",
       "\n",
       "    .dataframe thead th {\n",
       "        text-align: left;\n",
       "    }\n",
       "\n",
       "    .dataframe tbody tr th {\n",
       "        vertical-align: top;\n",
       "    }\n",
       "</style>\n",
       "<table border=\"1\" class=\"dataframe\">\n",
       "  <thead>\n",
       "    <tr style=\"text-align: right;\">\n",
       "      <th></th>\n",
       "      <th>Impressions</th>\n",
       "      <th>Conversions</th>\n",
       "    </tr>\n",
       "  </thead>\n",
       "  <tbody>\n",
       "    <tr>\n",
       "      <th>A</th>\n",
       "      <td>26102</td>\n",
       "      <td>386</td>\n",
       "    </tr>\n",
       "    <tr>\n",
       "      <th>B</th>\n",
       "      <td>23200</td>\n",
       "      <td>491</td>\n",
       "    </tr>\n",
       "    <tr>\n",
       "      <th>C</th>\n",
       "      <td>24430</td>\n",
       "      <td>372</td>\n",
       "    </tr>\n",
       "  </tbody>\n",
       "</table>\n",
       "</div>"
      ],
      "text/plain": [
       "   Impressions  Conversions\n",
       "A        26102          386\n",
       "B        23200          491\n",
       "C        24430          372"
      ]
     },
     "execution_count": 39,
     "metadata": {},
     "output_type": "execute_result"
    }
   ],
   "source": [
    "abtest.metrics()"
   ]
  },
  {
   "cell_type": "code",
   "execution_count": 40,
   "metadata": {},
   "outputs": [
    {
     "data": {
      "text/plain": [
       "1.0"
      ]
     },
     "execution_count": 40,
     "metadata": {},
     "output_type": "execute_result"
    }
   ],
   "source": [
    "abtest.diff_prob(1,0)"
   ]
  },
  {
   "cell_type": "code",
   "execution_count": 41,
   "metadata": {},
   "outputs": [
    {
     "data": {
      "text/plain": [
       "1.0"
      ]
     },
     "execution_count": 41,
     "metadata": {},
     "output_type": "execute_result"
    }
   ],
   "source": [
    "abtest.diff_prob(1,2)"
   ]
  },
  {
   "cell_type": "code",
   "execution_count": 42,
   "metadata": {},
   "outputs": [
    {
     "data": {
      "text/plain": [
       "0.65888"
      ]
     },
     "execution_count": 42,
     "metadata": {},
     "output_type": "execute_result"
    }
   ],
   "source": [
    "abtest.diff_prob(0,2)"
   ]
  },
  {
   "cell_type": "code",
   "execution_count": 43,
   "metadata": {},
   "outputs": [
    {
     "name": "stdout",
     "output_type": "stream",
     "text": [
      "A \n",
      "表示数: 251000\n",
      "購入数: 3808\n",
      "\n",
      "B \n",
      "表示数: 220000\n",
      "購入数: 4544\n",
      "\n",
      "B \n",
      "表示数: 233000\n",
      "購入数: 3811\n",
      "\n"
     ]
    }
   ],
   "source": [
    "a = dummy_genrator(0.015, 251000)\n",
    "b = dummy_genrator(0.021, 220000)\n",
    "c = dummy_genrator(0.016, 233000)\n",
    "imp_a = len(a)\n",
    "imp_b = len(b)\n",
    "imp_c = len(c)\n",
    "conv_a = np.count_nonzero(a)\n",
    "conv_b = np.count_nonzero(b)\n",
    "conv_c = np.count_nonzero(c)\n",
    "print(\"A \\n Counts: {}\\n Conversions: {}\\n\".format(imp_a, conv_a))\n",
    "print(\"B \\n Counts: {}\\n Conversions: {}\\n\".format(imp_b, conv_b))\n",
    "print(\"C \\n Counts: {}\\n Conversions: {}\\n\".format(imp_c, conv_c))"
   ]
  },
  {
   "cell_type": "code",
   "execution_count": 266,
   "metadata": {},
   "outputs": [
    {
     "name": "stderr",
     "output_type": "stream",
     "text": [
      "//anaconda3/envs/py36/lib/python3.6/site-packages/ipykernel_launcher.py:61: MatplotlibDeprecationWarning: \n",
      "The 'normed' kwarg was deprecated in Matplotlib 2.1 and will be removed in 3.1. Use 'density' instead.\n"
     ]
    },
    {
     "data": {
      "image/png": "[encoded data removed]",
      "text/plain": [
       "<Figure size 720x360 with 1 Axes>"
      ]
     },
     "metadata": {
      "needs_background": "light"
     },
     "output_type": "display_data"
    },
    {
     "data": {
      "text/plain": [
       "[(0.16594990499619675, 1.64270655848302e-05),\n",
       " (0.17655616965069915, 1.7146394418816914e-05),\n",
       " (0.16714985398203058, 1.6156047408517524e-05)]"
      ]
     },
     "execution_count": 266,
     "metadata": {},
     "output_type": "execute_result"
    }
   ],
   "source": [
    "#abtest.update([[imp_a, conv_a], [imp_b, conv_b],[imp_c, conv_c]])\n",
    "abtest.show_beta()\n",
    "abtest.mean_ver()"
   ]
  },
  {
   "cell_type": "code",
   "execution_count": 267,
   "metadata": {},
   "outputs": [
    {
     "data": {
      "text/plain": [
       "[[1411, 7091], [1501, 7001], [1421, 7081]]"
      ]
     },
     "execution_count": 267,
     "metadata": {},
     "output_type": "execute_result"
    }
   ],
   "source": [
    "abtest.params"
   ]
  },
  {
   "cell_type": "code",
   "execution_count": 272,
   "metadata": {},
   "outputs": [
    {
     "data": {
      "text/plain": [
       "0.96512"
      ]
     },
     "execution_count": 272,
     "metadata": {},
     "output_type": "execute_result"
    }
   ],
   "source": [
    "abtest.diff_prob(1,0)"
   ]
  },
  {
   "cell_type": "code",
   "execution_count": 273,
   "metadata": {
    "scrolled": true
   },
   "outputs": [
    {
     "data": {
      "text/plain": [
       "0.94726"
      ]
     },
     "execution_count": 273,
     "metadata": {},
     "output_type": "execute_result"
    }
   ],
   "source": [
    "abtest.diff_prob(1,2)"
   ]
  },
  {
   "cell_type": "code",
   "execution_count": 274,
   "metadata": {},
   "outputs": [
    {
     "data": {
      "text/plain": [
       "0.58286"
      ]
     },
     "execution_count": 274,
     "metadata": {},
     "output_type": "execute_result"
    }
   ],
   "source": [
    "abtest.diff_prob(2,0)"
   ]
  },
  {
   "cell_type": "code",
   "execution_count": 270,
   "metadata": {
    "scrolled": true
   },
   "outputs": [
    {
     "data": {
      "text/plain": [
       "0.94726"
      ]
     },
     "execution_count": 270,
     "metadata": {},
     "output_type": "execute_result"
    }
   ],
   "source": [
    "abtest.diff_prob(2,1)"
   ]
  },
  {
   "cell_type": "code",
   "execution_count": 275,
   "metadata": {},
   "outputs": [
    {
     "data": {
      "text/plain": [
       "0.5828599999999999"
      ]
     },
     "execution_count": 275,
     "metadata": {},
     "output_type": "execute_result"
    }
   ],
   "source": [
    "abtest.diff_prob(0,2)"
   ]
  },
  {
   "cell_type": "markdown",
   "metadata": {},
   "source": [
    "### 캠페인 A/B/N 테스트\n",
    "- Beta 분포 사용가능? (0,1)로 표현 가능한가?\n",
    "    - 간단한 로직으로 된 캠페인의 경우는 가능"
   ]
  }
 ],
 "metadata": {
  "kernelspec": {
   "display_name": "Python 3",
   "language": "python",
   "name": "python3"
  },
  "language_info": {
   "codemirror_mode": {
    "name": "ipython",
    "version": 3
   },
   "file_extension": ".py",
   "mimetype": "text/x-python",
   "name": "python",
   "nbconvert_exporter": "python",
   "pygments_lexer": "ipython3",
   "version": "3.6.8"
  }
 },
 "nbformat": 4,
 "nbformat_minor": 2
}
