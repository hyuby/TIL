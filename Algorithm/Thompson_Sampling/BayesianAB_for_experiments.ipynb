{
 "cells": [
  {
   "cell_type": "code",
   "execution_count": 1,
   "metadata": {},
   "outputs": [],
   "source": [
    "%config Completer.use_jedi = False"
   ]
  },
  {
   "cell_type": "markdown",
   "metadata": {},
   "source": [
    "# Bayesian A/B/C test.\n",
    "### Calculating Each Advertisement's Probability\n",
    "- Using <a href=\"https://en.wikipedia.org/wiki/Beta_distribution\">$Beta \\space Distribution$</a>.\n",
    "- Without calculating Integral of joint distribution, approximate the Bayesian probability of each advertisement.\n",
    "    - Monte Carlo Simulation."
   ]
  },
  {
   "cell_type": "code",
   "execution_count": 2,
   "metadata": {},
   "outputs": [],
   "source": [
    "%matplotlib inline\n",
    "from matplotlib import pyplot as plt\n",
    "from matplotlib.patches import Rectangle\n",
    "import pandas as pd\n",
    "from scipy.stats import beta, bernoulli\n",
    "import numpy as np"
   ]
  },
  {
   "cell_type": "code",
   "execution_count": 3,
   "metadata": {},
   "outputs": [],
   "source": [
    "def dummy_genrator(conversion_rate, n_impression):\n",
    "    return np.array(bernoulli(conversion_rate).rvs(n_impression))"
   ]
  },
  {
   "cell_type": "code",
   "execution_count": 4,
   "metadata": {},
   "outputs": [
    {
     "name": "stdout",
     "output_type": "stream",
     "text": [
      "A \n",
      " Counts: 8500\n",
      " Conversions: 1500\n",
      "\n",
      "B \n",
      " Counts: 8500\n",
      " Conversions: 1410\n",
      "\n"
     ]
    }
   ],
   "source": [
    "a = dummy_genrator(0.177470, 8500)\n",
    "b = dummy_genrator(0.165777, 8500)\n",
    "imp_a = len(a)\n",
    "imp_b = len(b)\n",
    "conv_a = 1500\n",
    "conv_b = 1410\n",
    "print(\"A \\n Counts: {}\\n Conversions: {}\\n\".format(imp_a, conv_a))\n",
    "print(\"B \\n Counts: {}\\n Conversions: {}\\n\".format(imp_b, conv_b))"
   ]
  },
  {
   "cell_type": "code",
   "execution_count": 7,
   "metadata": {},
   "outputs": [
    {
     "data": {
      "text/plain": [
       "array([0.14279551])"
      ]
     },
     "execution_count": 7,
     "metadata": {},
     "output_type": "execute_result"
    }
   ],
   "source": [
    "beta(1501,8501).rvs(1)"
   ]
  },
  {
   "cell_type": "code",
   "execution_count": 9,
   "metadata": {},
   "outputs": [
    {
     "data": {
      "text/plain": [
       "1"
      ]
     },
     "execution_count": 9,
     "metadata": {},
     "output_type": "execute_result"
    }
   ],
   "source": [
    "a = (1,2)\n",
    "a.count(1)"
   ]
  },
  {
   "cell_type": "markdown",
   "metadata": {},
   "source": [
    "### Calculation by Formula\n",
    "- Formulas By Evan Miller\n",
    "- http://www.evanmiller.org/bayesian-ab-testing.html\n",
    ">This page collects a few formulas I’ve derived for evaluating A/B tests in a Bayesian context. The formulas on this page are closed-form, so you don’t need to do complicated integral evaluations; they can be computed with simple loops and a decent math library. The advantage of Bayesian formulas over the traditional frequentist formulas is that you don’t have to collect a pre-ordained sample size in order to get a valid result. (See How Not To Run An A/B Test for more context on the “peeking” problem, and Simple Sequential A/B Testing for a frequentist solution to the problem.)"
   ]
  },
  {
   "cell_type": "markdown",
   "metadata": {},
   "source": [
    "$${\\rm Pr}(p_C > \\max{\\{p_A, p_B\\}}) = \\int_0^1 \\int_0^{p_C} \\int_0^{p_C} f(p_A) f(p_B) f(p_C) dp_A dp_B dp_C$$"
   ]
  },
  {
   "cell_type": "code",
   "execution_count": 12,
   "metadata": {},
   "outputs": [],
   "source": [
    "n = 10000\n",
    "total = 8000\n",
    "cv_a = 1600\n",
    "cv_b = 1500\n",
    "cv_c = 1580\n",
    "\n",
    "posterior_list_a = beta(cv_a+1, total-cv_a+1).rvs(n)\n",
    "posterior_list_b = beta(cv_b+1, total-cv_b+1).rvs(n)\n",
    "posterior_list_c = beta(cv_c+1, total-cv_c+1).rvs(n)\n",
    "\n",
    "prob_a = ((posterior_list_a > posterior_list_c).sum())/(n)\n",
    "prob_b = ((posterior_list_b > posterior_list_a).sum())/(n)\n",
    "prob_c = ((posterior_list_c > posterior_list_a).sum())/(n)"
   ]
  },
  {
   "cell_type": "markdown",
   "metadata": {},
   "source": [
    "### Does Integration take place into 3-Dimension?\n",
    "- Can it be solved by Monte Carlo simulation?"
   ]
  },
  {
   "cell_type": "code",
   "execution_count": 13,
   "metadata": {
    "scrolled": true
   },
   "outputs": [
    {
     "name": "stdout",
     "output_type": "stream",
     "text": [
      "a win: 0.65497\n",
      "b win: 0.02298\n",
      "c win: 0.34503\n"
     ]
    },
    {
     "data": {
      "text/plain": [
       "0.02298"
      ]
     },
     "execution_count": 13,
     "metadata": {},
     "output_type": "execute_result"
    }
   ],
   "source": [
    "n = 200000\n",
    "total = 8000\n",
    "cv_a = 1600\n",
    "cv_b = 1500\n",
    "cv_c = 1580\n",
    "\n",
    "posterior_list_a = beta(cv_a+1, total-cv_a+1).rvs(n)\n",
    "posterior_list_b = beta(cv_b+1, total-cv_b+1).rvs(n)\n",
    "posterior_list_c = beta(cv_c+1, total-cv_c+1).rvs(n)\n",
    "\n",
    "prob_a = ((posterior_list_a > posterior_list_c).sum())/(n)\n",
    "prob_b = ((posterior_list_b > posterior_list_a).sum())/(n)\n",
    "prob_c = ((posterior_list_c > posterior_list_a).sum())/(n)\n",
    "\n",
    "print('a win:', prob_a)\n",
    "print('b win:', prob_b)\n",
    "print('c win:', prob_c)\n",
    "\n",
    "prob_a + prob_b + prob_c - 1"
   ]
  },
  {
   "cell_type": "markdown",
   "metadata": {},
   "source": [
    "### Comparing with Dynamic Yield's Bayesian Probability Calculator\n",
    "<a href=\"https://marketing.dynamicyield.com/bayesian-calculator/\">Dynamic Yield's BAYESIAN A/B TESTING CALCULATOR</a>"
   ]
  },
  {
   "cell_type": "markdown",
   "metadata": {},
   "source": [
    "![Dynamic_Yield](dynamic_yield.png)"
   ]
  },
  {
   "cell_type": "markdown",
   "metadata": {},
   "source": [
    "### Problem\n",
    "- Total Probability of Advertisements Exceeds 1.0  \n",
    "- <a href=\"https://en.wikipedia.org/wiki/Probability_axioms\">$Probability\\space Exioms$</a>\n",
    "    - $P(\\Omega) = 1$"
   ]
  },
  {
   "cell_type": "markdown",
   "metadata": {},
   "source": [
    "### Experiment -01\n",
    "- Calculating bayesian probability for 100 times"
   ]
  },
  {
   "cell_type": "code",
   "execution_count": 14,
   "metadata": {
    "scrolled": false
   },
   "outputs": [
    {
     "name": "stdout",
     "output_type": "stream",
     "text": [
      "Experiment Count : 1    The Error of total Probability :  0.022710000000000008\n",
      "Experiment Count : 2    The Error of total Probability :  0.02228500000000011\n",
      "Experiment Count : 3    The Error of total Probability :  0.02312499999999984\n",
      "Experiment Count : 4    The Error of total Probability :  0.022559999999999913\n",
      "Experiment Count : 5    The Error of total Probability :  0.022599999999999953\n",
      "Experiment Count : 6    The Error of total Probability :  0.022800000000000153\n",
      "Experiment Count : 7    The Error of total Probability :  0.02289999999999992\n",
      "Experiment Count : 8    The Error of total Probability :  0.02251000000000003\n",
      "Experiment Count : 9    The Error of total Probability :  0.023070000000000146\n",
      "Experiment Count : 10    The Error of total Probability :  0.023015000000000008\n",
      "Experiment Count : 11    The Error of total Probability :  0.023085000000000022\n",
      "\n",
      "\n",
      "Experiment Count : 12    The Error of total Probability :  0.022645000000000026\n",
      "Experiment Count : 13    The Error of total Probability :  0.022445000000000048\n",
      "Experiment Count : 14    The Error of total Probability :  0.022399999999999975\n",
      "Experiment Count : 15    The Error of total Probability :  0.022994999999999877\n",
      "Experiment Count : 16    The Error of total Probability :  0.023174999999999946\n",
      "Experiment Count : 17    The Error of total Probability :  0.022384999999999877\n",
      "Experiment Count : 18    The Error of total Probability :  0.02257500000000001\n",
      "Experiment Count : 19    The Error of total Probability :  0.02313999999999994\n",
      "Experiment Count : 20    The Error of total Probability :  0.02281500000000003\n",
      "Experiment Count : 21    The Error of total Probability :  0.02307999999999999\n",
      "\n",
      "\n",
      "Experiment Count : 22    The Error of total Probability :  0.022549999999999848\n",
      "Experiment Count : 23    The Error of total Probability :  0.022790000000000088\n",
      "Experiment Count : 24    The Error of total Probability :  0.02283500000000016\n",
      "Experiment Count : 25    The Error of total Probability :  0.022244999999999848\n",
      "Experiment Count : 26    The Error of total Probability :  0.022379999999999844\n",
      "Experiment Count : 27    The Error of total Probability :  0.02303999999999995\n",
      "Experiment Count : 28    The Error of total Probability :  0.022629999999999928\n",
      "Experiment Count : 29    The Error of total Probability :  0.022924999999999862\n",
      "Experiment Count : 30    The Error of total Probability :  0.02271999999999985\n",
      "Experiment Count : 31    The Error of total Probability :  0.023360000000000047\n",
      "\n",
      "\n",
      "Experiment Count : 32    The Error of total Probability :  0.023070000000000146\n",
      "Experiment Count : 33    The Error of total Probability :  0.023194999999999855\n",
      "Experiment Count : 34    The Error of total Probability :  0.023255000000000026\n",
      "Experiment Count : 35    The Error of total Probability :  0.022904999999999953\n",
      "Experiment Count : 36    The Error of total Probability :  0.022829999999999906\n",
      "Experiment Count : 37    The Error of total Probability :  0.02246999999999999\n",
      "Experiment Count : 38    The Error of total Probability :  0.02307999999999999\n",
      "Experiment Count : 39    The Error of total Probability :  0.022364999999999968\n",
      "Experiment Count : 40    The Error of total Probability :  0.023050000000000015\n",
      "Experiment Count : 41    The Error of total Probability :  0.02246999999999999\n",
      "\n",
      "\n",
      "Experiment Count : 42    The Error of total Probability :  0.022909999999999986\n",
      "Experiment Count : 43    The Error of total Probability :  0.022854999999999848\n",
      "Experiment Count : 44    The Error of total Probability :  0.022604999999999986\n",
      "Experiment Count : 45    The Error of total Probability :  0.022215000000000096\n",
      "Experiment Count : 46    The Error of total Probability :  0.022340000000000027\n",
      "Experiment Count : 47    The Error of total Probability :  0.02289999999999992\n",
      "Experiment Count : 48    The Error of total Probability :  0.02295999999999987\n",
      "Experiment Count : 49    The Error of total Probability :  0.023089999999999833\n",
      "Experiment Count : 50    The Error of total Probability :  0.02234999999999987\n",
      "Experiment Count : 51    The Error of total Probability :  0.022764999999999924\n",
      "\n",
      "\n",
      "Experiment Count : 52    The Error of total Probability :  0.022405000000000008\n",
      "Experiment Count : 53    The Error of total Probability :  0.02289500000000011\n",
      "Experiment Count : 54    The Error of total Probability :  0.02306000000000008\n",
      "Experiment Count : 55    The Error of total Probability :  0.023435000000000095\n",
      "Experiment Count : 56    The Error of total Probability :  0.022845000000000004\n",
      "Experiment Count : 57    The Error of total Probability :  0.02283499999999994\n",
      "Experiment Count : 58    The Error of total Probability :  0.022974999999999968\n",
      "Experiment Count : 59    The Error of total Probability :  0.0224899999999999\n",
      "Experiment Count : 60    The Error of total Probability :  0.022760000000000113\n",
      "Experiment Count : 61    The Error of total Probability :  0.022495000000000154\n",
      "\n",
      "\n",
      "Experiment Count : 62    The Error of total Probability :  0.023460000000000036\n",
      "Experiment Count : 63    The Error of total Probability :  0.02245000000000008\n",
      "Experiment Count : 64    The Error of total Probability :  0.023004999999999942\n",
      "Experiment Count : 65    The Error of total Probability :  0.022704999999999975\n",
      "Experiment Count : 66    The Error of total Probability :  0.022440000000000015\n",
      "Experiment Count : 67    The Error of total Probability :  0.022589999999999888\n",
      "Experiment Count : 68    The Error of total Probability :  0.02212000000000014\n",
      "Experiment Count : 69    The Error of total Probability :  0.02263499999999996\n",
      "Experiment Count : 70    The Error of total Probability :  0.022710000000000008\n",
      "Experiment Count : 71    The Error of total Probability :  0.023270000000000124\n",
      "\n",
      "\n",
      "Experiment Count : 72    The Error of total Probability :  0.0233000000000001\n",
      "Experiment Count : 73    The Error of total Probability :  0.022499999999999964\n",
      "Experiment Count : 74    The Error of total Probability :  0.022565000000000168\n",
      "Experiment Count : 75    The Error of total Probability :  0.022625000000000117\n",
      "Experiment Count : 76    The Error of total Probability :  0.022950000000000026\n",
      "Experiment Count : 77    The Error of total Probability :  0.022584999999999855\n",
      "Experiment Count : 78    The Error of total Probability :  0.022584999999999855\n",
      "Experiment Count : 79    The Error of total Probability :  0.022545000000000037\n",
      "Experiment Count : 80    The Error of total Probability :  0.022710000000000008\n",
      "Experiment Count : 81    The Error of total Probability :  0.022524999999999906\n",
      "\n",
      "\n",
      "Experiment Count : 82    The Error of total Probability :  0.022669999999999968\n",
      "Experiment Count : 83    The Error of total Probability :  0.02275999999999989\n",
      "Experiment Count : 84    The Error of total Probability :  0.022765000000000146\n",
      "Experiment Count : 85    The Error of total Probability :  0.023205000000000142\n",
      "Experiment Count : 86    The Error of total Probability :  0.022970000000000157\n",
      "Experiment Count : 87    The Error of total Probability :  0.02303500000000014\n",
      "Experiment Count : 88    The Error of total Probability :  0.022540000000000004\n",
      "Experiment Count : 89    The Error of total Probability :  0.023455000000000004\n",
      "Experiment Count : 90    The Error of total Probability :  0.023109999999999964\n",
      "Experiment Count : 91    The Error of total Probability :  0.02303500000000014\n",
      "\n",
      "\n",
      "Experiment Count : 92    The Error of total Probability :  0.022340000000000027\n",
      "Experiment Count : 93    The Error of total Probability :  0.02237\n",
      "Experiment Count : 94    The Error of total Probability :  0.022739999999999982\n",
      "Experiment Count : 95    The Error of total Probability :  0.02281999999999984\n",
      "Experiment Count : 96    The Error of total Probability :  0.02324499999999996\n",
      "Experiment Count : 97    The Error of total Probability :  0.022584999999999855\n",
      "Experiment Count : 98    The Error of total Probability :  0.022395000000000165\n",
      "Experiment Count : 99    The Error of total Probability :  0.022904999999999953\n",
      "Experiment Count : 100    The Error of total Probability :  0.02275500000000008\n",
      "Mean Error of Probability : 0.02277639999999999    Variance of Errors :  9.306804000000436e-08\n"
     ]
    }
   ],
   "source": [
    "total_prob_error = []\n",
    "for i in range(0,100):\n",
    "    posterior_list_a = beta(cv_a+1, total-cv_a+1).rvs(n)\n",
    "    posterior_list_b = beta(cv_b+1, total-cv_b+1).rvs(n)\n",
    "    posterior_list_c = beta(cv_c+1, total-cv_c+1).rvs(n)\n",
    "\n",
    "    prob_a = ((posterior_list_a > posterior_list_c).sum())/(n)\n",
    "    prob_b = ((posterior_list_b > posterior_list_a).sum())/(n)\n",
    "    prob_c = ((posterior_list_c > posterior_list_a).sum())/(n)\n",
    "    \n",
    "    total_prob_error.append(0)\n",
    "    total_prob_error[i] = prob_a + prob_b + prob_c - 1\n",
    "    \n",
    "    print('Experiment Count :',i+1,  '   The Error of total Probability : ', prob_a + prob_b + prob_c - 1)\n",
    "    if (i % 10 == 0) & (i != 0) :\n",
    "        print('\\n')\n",
    "        \n",
    "print('Mean Error of Probability :',np.mean(total_prob_error), \\\n",
    "      '   Variance of Errors : ', np.var(total_prob_error))"
   ]
  },
  {
   "cell_type": "markdown",
   "metadata": {},
   "source": [
    "### 실험 결과 정리\n",
    "- 오차는 __평균 0.0228__에 __분산은 0.000000135__\n",
    "- 0.023정도의 __오차를 무시__해도 되는가?\n",
    "> #### Thompson Sampling과 Bayesian Probability 계산의 접점?\n",
    "    - Thompson Sampling은 쭉 진행하고, 기준 Traffic 시점에 Bayesian Probability 계산(Thompson Sampling하면서 갖고 있는 각 대안들의 Conversion과 Count 정보를 이용한다. \n",
    "        - A : Beta(cv_a + 1, cnt_a - cv_a + 1).rvs(cnt_a)\n",
    "        - B : Beta(cv_b + 1, cnt_b - cv_b + 1).rvs(cnt_b)\n",
    "        - C : Beta(cv_c + 1, cnt_c - cv_c + 1).rvs(cnt_c)"
   ]
  },
  {
   "cell_type": "markdown",
   "metadata": {},
   "source": [
    "### Experiment -02\n",
    "> 4 Ads, A/B/C/D"
   ]
  },
  {
   "cell_type": "code",
   "execution_count": 55,
   "metadata": {},
   "outputs": [
    {
     "name": "stdout",
     "output_type": "stream",
     "text": [
      "a win: 0.6504\n",
      "b win: 0.02315\n",
      "c win: 0.3496\n",
      "d win: 0.0075\n",
      "zero 0.0\n",
      "1.03065\n"
     ]
    }
   ],
   "source": [
    "n = 20000 #num of random samples\n",
    "total = 8000\n",
    "\n",
    "\n",
    "\n",
    "\n",
    "cv_a = 1600\n",
    "cv_b = 1500\n",
    "cv_c = 1580\n",
    "cv_d = 1480\n",
    "cv_zero = 0\n",
    "\n",
    "\n",
    "\n",
    "posterior_list_a = beta(cv_a+1, total-cv_a+1).rvs(n)\n",
    "posterior_list_b = beta(cv_b+1, total-cv_b+1).rvs(n)\n",
    "posterior_list_c = beta(cv_c+1, total-cv_c+1).rvs(n)\n",
    "posterior_list_d = beta(cv_d+1, total-cv_d+1).rvs(n)\n",
    "posterior_list_zero = beta(cv_zero+1, total-cv_zero+1).rvs(n)\n",
    "\n",
    "prob_a = ((posterior_list_a > posterior_list_c).sum())/(n)\n",
    "prob_b = ((posterior_list_b > posterior_list_a).sum())/(n)\n",
    "prob_c = ((posterior_list_c > posterior_list_a).sum())/(n)\n",
    "prob_d = ((posterior_list_d > posterior_list_a).sum())/(n)\n",
    "prob_zero = ((posterior_list_zero > posterior_list_a).sum())/(n)\n",
    "\n",
    "\n",
    "print('a win:', prob_a)\n",
    "print('b win:', prob_b)\n",
    "print('c win:', prob_c)\n",
    "print('d win:', prob_d)\n",
    "print('zero',prob_zero)\n",
    "print(prob_a+prob_b+prob_c+prob_d)"
   ]
  },
  {
   "cell_type": "markdown",
   "metadata": {},
   "source": [
    "### 실험 결과\n",
    "- 오차 값이 증가했지만 결과 값은 Bayesian Calculator와 비슷하게 나오는 것을 확인"
   ]
  },
  {
   "cell_type": "raw",
   "metadata": {},
   "source": [
    "### Problem\n",
    "- cv 가장 큰 것과 두 번째 큰 것이 정해지지 않으면, 계산 결과가 엉망으로 나오는 경우가 있음"
   ]
  },
  {
   "cell_type": "markdown",
   "metadata": {},
   "source": [
    "- [1] cv를 순서대로 정리하는 코드 필요 또는 가장 큰 cv나오는 대안을 선정하는 코드 필요\n",
    "- [2] 정리 후 abcd 객체를 만들어서 전달하는 코드로 업데이트\n",
    "- [3] 대안이 2개일 때 3개일 때 4개일 때 달라지면?\n",
    "    - 4개까지 안에 대한 cv와 impression을 만들어두고 들어오는 값에 따라서 값을 업데이트 하는 방식으로"
   ]
  },
  {
   "cell_type": "markdown",
   "metadata": {},
   "source": [
    "### [1], [2] 수정"
   ]
  },
  {
   "cell_type": "code",
   "execution_count": 130,
   "metadata": {},
   "outputs": [
    {
     "name": "stdout",
     "output_type": "stream",
     "text": [
      "0\n",
      "[1500, 1480, 1580]\n",
      "[1500, 1480]\n",
      "[1480]\n",
      "[1500, 1480, 1580, 1600]\n",
      "3 win: 0.65855\n",
      "2 win: 0.34145\n",
      "0 win: 0.024\n",
      "1 win: 0.00835\n"
     ]
    }
   ],
   "source": [
    "cv_1 = 1500\n",
    "cv_2 = 1480\n",
    "cv_3 = 1580\n",
    "cv_4 = 1600\n",
    "\n",
    "ads_rvs = [cv_1, cv_2, cv_3, cv_4]\n",
    "sorted_rvs = sorted(ads_rvs, reverse=True)\n",
    "max_rvs = np.max(ads_rvs)\n",
    "win_index_1st = ads_rvs.index(sorted_rvs[0]) #choose best ad\n",
    "\n",
    "print(win_index)\n",
    "#print('win index?',win_index+1)\n",
    "\n",
    "# for i in range(len(ads_rvs)) : \n",
    "#     print('ads list', ads_rvs)\n",
    "#     max_rvs = np.max(ads_rvs)\n",
    "#     win_index = ads_rvs.index(sorted_rvs[0])\n",
    "#     print('win index?',win_index+1)\n",
    "#     sorted_rvs.pop(0)\n",
    "#     print(ads_rvs)\n",
    "    \n",
    "posterior_list_best = beta(ads_rvs[win_index_1st]+1, total-ads_rvs[win_index_1st]+1).rvs(n) #best ad's posterior\n",
    "ads_rvs.pop(win_index_1st)\n",
    "first = sorted_rvs.pop(0)\n",
    "\n",
    "win_index_2nd = ads_rvs.index(sorted_rvs[0])\n",
    "print(ads_rvs)\n",
    "\n",
    "posterior_list_2nd = beta(ads_rvs[win_index_2nd]+1, total-ads_rvs[win_index_2nd]+1).rvs(n) #second ad's posterior\n",
    "ads_rvs.pop(win_index_2nd)\n",
    "second = sorted_rvs.pop(0)\n",
    "\n",
    "win_index_3rd = ads_rvs.index(sorted_rvs[0])\n",
    "print(ads_rvs)\n",
    "\n",
    "posterior_list_3rd = beta(ads_rvs[win_index_3rd]+1, total-ads_rvs[win_index_3rd]+1).rvs(n) #third ad's posterior\n",
    "ads_rvs.pop(win_index_3rd)\n",
    "third = sorted_rvs.pop(0)\n",
    "\n",
    "win_index_4th = ads_rvs.index(sorted_rvs[0])\n",
    "print(ads_rvs)\n",
    "\n",
    "posterior_list_4th = beta(ads_rvs[win_index_4th]+1, total-ads_rvs[win_index_4th]+1).rvs(n) #4th ad's posterior\n",
    "\n",
    "\n",
    "prob_a = ((posterior_list_best > posterior_list_2nd).sum())/(n)\n",
    "prob_b = ((posterior_list_2nd > posterior_list_best).sum())/(n)\n",
    "prob_c = ((posterior_list_3rd > posterior_list_best).sum())/(n)\n",
    "prob_d = ((posterior_list_4th > posterior_list_best).sum())/(n)\n",
    "    \n",
    "ads_rvs = [cv_1, cv_2, cv_3, cv_4]\n",
    "print(ads_rvs)\n",
    "print('{} win:'.format(ads_rvs.index(first)), prob_a)\n",
    "print('{} win:'.format(ads_rvs.index(second)), prob_b)\n",
    "print('{} win:'.format(ads_rvs.index(third)), prob_c)\n",
    "print('{} win:'.format(ads_rvs.index(sorted_rvs[0])), prob_d)\n"
   ]
  },
  {
   "cell_type": "code",
   "execution_count": 26,
   "metadata": {},
   "outputs": [],
   "source": [
    "class BayesianAB:\n",
    "    \n",
    "    def __init__(self, params=None, size=2):\n",
    "        \"\"\"\n",
    "            params are a list of Beta distribution's initial params. e.g. [[alpha of A, beta of A], [alpha of B, beta of B]]\n",
    "        \"\"\"\n",
    "        if params is None:\n",
    "            self.params = []\n",
    "            for _ in range(size):\n",
    "                self.params.append([1,1])\n",
    "        self.size = len(self.params)\n",
    "        self.data = []\n",
    "        for _ in range(size):\n",
    "            self.data.append([0,0])\n",
    "        print(\"the number of comparison: \", self.size)\n",
    "        self.sampling()\n",
    "        \n",
    "    def update(self, data, sampling=True):\n",
    "        \"\"\"\n",
    "         data are a list of pairs of impression and conversion. e.g. [[imp of A, conv of A], [imp of B, conv of B]]\n",
    "        \"\"\"\n",
    "        if self.size != len(data):\n",
    "            print(\"No match of the size.\")\n",
    "        \n",
    "        for p, current, new in zip(self.params, self.data, data):\n",
    "            imp = new[0]\n",
    "            conv = new[1]\n",
    "            current[0] += imp\n",
    "            current[1] += conv\n",
    "            p[0] += conv\n",
    "            p[1] += (imp - conv)\n",
    "        if sampling:\n",
    "            self.sampling()\n",
    "        \n",
    "        \n",
    "    def mean_ver(self):\n",
    "        \"\"\"\n",
    "            return [(mean of A, variance of A), (mean of B, variance of B), ...]\n",
    "        \"\"\"\n",
    "        return  [(posterior.mean(), posterior.var())for posterior in self.posterior_list]\n",
    "\n",
    "        \n",
    "        \n",
    "    def sampling(self, n_samples=50000):\n",
    "        print(\"num of samples: \", n_samples)\n",
    "        self.posterior_list = [beta(*p).rvs(n_samples) for p in self.params]\n",
    "\n",
    "\n",
    "        \n",
    "    def show_beta(self, title=\"\", save=False, labels=None):\n",
    "        \n",
    "        plt.figure(figsize=(10, 5))\n",
    "        plt.title(\"Posterior distribution \"+ title)\n",
    "        \n",
    "        cmap = plt.get_cmap('jet')\n",
    "        color_list= []\n",
    "            \n",
    "        for i, posterior in enumerate(self.posterior_list):\n",
    "            color =cmap(0.25*(i+1))\n",
    "            color_list.append(color)\n",
    "            plt.hist(posterior, bins=100, histtype=\"stepfilled\", normed=True, color=color, alpha=0.5)\n",
    "        handles = [Rectangle((0,0),1,1,color=c, ec=\"k\", alpha=0.5) for c in color_list]\n",
    "        \n",
    "        if labels is None:\n",
    "            labels = [chr(65+i) for i in range(self.size)] # create A,B,...\n",
    "            \n",
    "\n",
    "        plt.legend(handles, labels)\n",
    "        if save:\n",
    "            plt.savefig(\"{}.png\".format(title))\n",
    "        plt.show()\n",
    "    \n",
    "    def diff_prob(self, index_high, index_low):\n",
    "        prob = (self.posterior_list[index_low] < self.posterior_list[index_high]).mean()\n",
    "        if prob < 0.5:\n",
    "            prob = 1 - prob\n",
    "        return prob\n",
    "    \n",
    "    def show_metrics(self):\n",
    "        print(self.data)\n",
    "        \n",
    "    def metrics(self, labels=None):\n",
    "        if labels is None:\n",
    "            labels = [chr(65+i) for i in range(self.size)] # create A,B,...\n",
    "        return pd.DataFrame(self.data, index=labels, columns=[\"Impressions\", \"Conversions\"])\n",
    "        "
   ]
  },
  {
   "cell_type": "code",
   "execution_count": 27,
   "metadata": {
    "scrolled": true
   },
   "outputs": [
    {
     "name": "stdout",
     "output_type": "stream",
     "text": [
      "the number of comparison:  2\n",
      "num of samples:  50000\n"
     ]
    }
   ],
   "source": [
    "abtest = BayesianAB()"
   ]
  },
  {
   "cell_type": "code",
   "execution_count": 29,
   "metadata": {},
   "outputs": [
    {
     "name": "stdout",
     "output_type": "stream",
     "text": [
      "A \n",
      " Counts: 8000\n",
      " Conversions: 1600\n",
      "\n",
      "B \n",
      " Counts: 8000\n",
      " Conversions: 1500\n",
      "\n",
      "C \n",
      " Counts: 8000\n",
      " Conversions: 1580\n",
      "\n",
      "D \n",
      " Counts: 8000\n",
      " Conversions: 1480\n",
      "\n"
     ]
    }
   ],
   "source": [
    "imp_a = total\n",
    "imp_b = total\n",
    "imp_c = total\n",
    "imp_d = total\n",
    "\n",
    "conv_a = cv_a\n",
    "conv_b = cv_b\n",
    "conv_c = cv_c\n",
    "conv_d = cv_d\n",
    "print(\"A \\n Counts: {}\\n Conversions: {}\\n\".format(imp_a, conv_a))\n",
    "print(\"B \\n Counts: {}\\n Conversions: {}\\n\".format(imp_b, conv_b))\n",
    "print(\"C \\n Counts: {}\\n Conversions: {}\\n\".format(imp_c, conv_c))\n",
    "print(\"D \\n Counts: {}\\n Conversions: {}\\n\".format(imp_d, conv_d))"
   ]
  },
  {
   "cell_type": "code",
   "execution_count": 33,
   "metadata": {
    "scrolled": true
   },
   "outputs": [
    {
     "name": "stdout",
     "output_type": "stream",
     "text": [
      "the number of comparison:  4\n",
      "num of samples:  50000\n",
      "num of samples:  50000\n"
     ]
    },
    {
     "name": "stderr",
     "output_type": "stream",
     "text": [
      "//anaconda3/envs/py36/lib/python3.6/site-packages/ipykernel_launcher.py:61: MatplotlibDeprecationWarning: \n",
      "The 'normed' kwarg was deprecated in Matplotlib 2.1 and will be removed in 3.1. Use 'density' instead.\n"
     ]
    },
    {
     "data": {
      "image/png": "[encoded data removed]",
      "text/plain": [
       "<Figure size 720x360 with 1 Axes>"
      ]
     },
     "metadata": {
      "needs_background": "light"
     },
     "output_type": "display_data"
    }
   ],
   "source": [
    "abtest = BayesianAB(size=4)\n",
    "abtest.update([[imp_a, conv_a], [imp_b, conv_b],[imp_c, conv_c],[imp_d, conv_d]])\n",
    "abtest.show_beta()\n",
    "#abtest.diff_prob()"
   ]
  },
  {
   "cell_type": "code",
   "execution_count": 35,
   "metadata": {},
   "outputs": [
    {
     "name": "stdout",
     "output_type": "stream",
     "text": [
      "0.34645 0.00785\n"
     ]
    }
   ],
   "source": [
    "prob_c = ((posterior_list_c > posterior_list_a).sum())/(n)\n",
    "prob_d = ((posterior_list_d > posterior_list_a).sum())/(n)\n",
    "print(prob_c, prob_d)"
   ]
  }
 ],
 "metadata": {
  "kernelspec": {
   "display_name": "Python 3",
   "language": "python",
   "name": "python3"
  },
  "language_info": {
   "codemirror_mode": {
    "name": "ipython",
    "version": 3
   },
   "file_extension": ".py",
   "mimetype": "text/x-python",
   "name": "python",
   "nbconvert_exporter": "python",
   "pygments_lexer": "ipython3",
   "version": "3.6.8"
  }
 },
 "nbformat": 4,
 "nbformat_minor": 2
}
