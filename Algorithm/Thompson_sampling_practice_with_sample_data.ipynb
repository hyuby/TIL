{
 "cells": [
  {
   "cell_type": "code",
   "execution_count": 1,
   "metadata": {},
   "outputs": [],
   "source": [
    "%config Completer.use_jedi = False"
   ]
  },
  {
   "cell_type": "code",
   "execution_count": 2,
   "metadata": {},
   "outputs": [],
   "source": [
    "import numpy as np\n",
    "import pandas as pd\n",
    "from pandas import Series\n",
    "import matplotlib.pyplot as plt\n",
    "from scipy.stats import beta\n",
    "\n",
    "\n",
    "%matplotlib inline"
   ]
  },
  {
   "cell_type": "code",
   "execution_count": 3,
   "metadata": {},
   "outputs": [],
   "source": [
    "ads_data = pd.read_csv('Ads_Optimisation.csv', header=1, names = ['Ads1','Ads2','Ads3','Ads4','Ads5','Ads6','Ads7','Ads8','Ads9','Ads10'])"
   ]
  },
  {
   "cell_type": "markdown",
   "metadata": {},
   "source": [
    "### 데이터 로드"
   ]
  },
  {
   "cell_type": "code",
   "execution_count": 4,
   "metadata": {},
   "outputs": [
    {
     "data": {
      "text/html": [
       "<div>\n",
       "<style scoped>\n",
       "    .dataframe tbody tr th:only-of-type {\n",
       "        vertical-align: middle;\n",
       "    }\n",
       "\n",
       "    .dataframe tbody tr th {\n",
       "        vertical-align: top;\n",
       "    }\n",
       "\n",
       "    .dataframe thead th {\n",
       "        text-align: right;\n",
       "    }\n",
       "</style>\n",
       "<table border=\"1\" class=\"dataframe\">\n",
       "  <thead>\n",
       "    <tr style=\"text-align: right;\">\n",
       "      <th></th>\n",
       "      <th>Ads1</th>\n",
       "      <th>Ads2</th>\n",
       "      <th>Ads3</th>\n",
       "      <th>Ads4</th>\n",
       "      <th>Ads5</th>\n",
       "      <th>Ads6</th>\n",
       "      <th>Ads7</th>\n",
       "      <th>Ads8</th>\n",
       "      <th>Ads9</th>\n",
       "      <th>Ads10</th>\n",
       "    </tr>\n",
       "  </thead>\n",
       "  <tbody>\n",
       "    <tr>\n",
       "      <th>0</th>\n",
       "      <td>0</td>\n",
       "      <td>0</td>\n",
       "      <td>0</td>\n",
       "      <td>0</td>\n",
       "      <td>0</td>\n",
       "      <td>0</td>\n",
       "      <td>0</td>\n",
       "      <td>0</td>\n",
       "      <td>1</td>\n",
       "      <td>0</td>\n",
       "    </tr>\n",
       "    <tr>\n",
       "      <th>1</th>\n",
       "      <td>0</td>\n",
       "      <td>0</td>\n",
       "      <td>0</td>\n",
       "      <td>0</td>\n",
       "      <td>0</td>\n",
       "      <td>0</td>\n",
       "      <td>0</td>\n",
       "      <td>0</td>\n",
       "      <td>0</td>\n",
       "      <td>0</td>\n",
       "    </tr>\n",
       "    <tr>\n",
       "      <th>2</th>\n",
       "      <td>0</td>\n",
       "      <td>1</td>\n",
       "      <td>0</td>\n",
       "      <td>0</td>\n",
       "      <td>0</td>\n",
       "      <td>0</td>\n",
       "      <td>0</td>\n",
       "      <td>1</td>\n",
       "      <td>0</td>\n",
       "      <td>0</td>\n",
       "    </tr>\n",
       "    <tr>\n",
       "      <th>3</th>\n",
       "      <td>0</td>\n",
       "      <td>0</td>\n",
       "      <td>0</td>\n",
       "      <td>0</td>\n",
       "      <td>0</td>\n",
       "      <td>0</td>\n",
       "      <td>0</td>\n",
       "      <td>0</td>\n",
       "      <td>0</td>\n",
       "      <td>0</td>\n",
       "    </tr>\n",
       "    <tr>\n",
       "      <th>4</th>\n",
       "      <td>1</td>\n",
       "      <td>1</td>\n",
       "      <td>0</td>\n",
       "      <td>0</td>\n",
       "      <td>0</td>\n",
       "      <td>0</td>\n",
       "      <td>0</td>\n",
       "      <td>0</td>\n",
       "      <td>0</td>\n",
       "      <td>0</td>\n",
       "    </tr>\n",
       "    <tr>\n",
       "      <th>5</th>\n",
       "      <td>0</td>\n",
       "      <td>0</td>\n",
       "      <td>0</td>\n",
       "      <td>1</td>\n",
       "      <td>0</td>\n",
       "      <td>0</td>\n",
       "      <td>0</td>\n",
       "      <td>0</td>\n",
       "      <td>0</td>\n",
       "      <td>0</td>\n",
       "    </tr>\n",
       "    <tr>\n",
       "      <th>6</th>\n",
       "      <td>1</td>\n",
       "      <td>1</td>\n",
       "      <td>0</td>\n",
       "      <td>0</td>\n",
       "      <td>1</td>\n",
       "      <td>0</td>\n",
       "      <td>0</td>\n",
       "      <td>0</td>\n",
       "      <td>0</td>\n",
       "      <td>0</td>\n",
       "    </tr>\n",
       "    <tr>\n",
       "      <th>7</th>\n",
       "      <td>0</td>\n",
       "      <td>0</td>\n",
       "      <td>0</td>\n",
       "      <td>0</td>\n",
       "      <td>0</td>\n",
       "      <td>0</td>\n",
       "      <td>0</td>\n",
       "      <td>0</td>\n",
       "      <td>0</td>\n",
       "      <td>0</td>\n",
       "    </tr>\n",
       "    <tr>\n",
       "      <th>8</th>\n",
       "      <td>0</td>\n",
       "      <td>0</td>\n",
       "      <td>1</td>\n",
       "      <td>0</td>\n",
       "      <td>0</td>\n",
       "      <td>0</td>\n",
       "      <td>0</td>\n",
       "      <td>0</td>\n",
       "      <td>0</td>\n",
       "      <td>0</td>\n",
       "    </tr>\n",
       "    <tr>\n",
       "      <th>9</th>\n",
       "      <td>0</td>\n",
       "      <td>0</td>\n",
       "      <td>0</td>\n",
       "      <td>0</td>\n",
       "      <td>0</td>\n",
       "      <td>0</td>\n",
       "      <td>0</td>\n",
       "      <td>0</td>\n",
       "      <td>0</td>\n",
       "      <td>0</td>\n",
       "    </tr>\n",
       "    <tr>\n",
       "      <th>10</th>\n",
       "      <td>0</td>\n",
       "      <td>0</td>\n",
       "      <td>0</td>\n",
       "      <td>0</td>\n",
       "      <td>0</td>\n",
       "      <td>0</td>\n",
       "      <td>0</td>\n",
       "      <td>0</td>\n",
       "      <td>0</td>\n",
       "      <td>0</td>\n",
       "    </tr>\n",
       "    <tr>\n",
       "      <th>11</th>\n",
       "      <td>0</td>\n",
       "      <td>0</td>\n",
       "      <td>0</td>\n",
       "      <td>1</td>\n",
       "      <td>0</td>\n",
       "      <td>0</td>\n",
       "      <td>0</td>\n",
       "      <td>0</td>\n",
       "      <td>0</td>\n",
       "      <td>0</td>\n",
       "    </tr>\n",
       "    <tr>\n",
       "      <th>12</th>\n",
       "      <td>0</td>\n",
       "      <td>0</td>\n",
       "      <td>0</td>\n",
       "      <td>0</td>\n",
       "      <td>0</td>\n",
       "      <td>0</td>\n",
       "      <td>0</td>\n",
       "      <td>0</td>\n",
       "      <td>1</td>\n",
       "      <td>0</td>\n",
       "    </tr>\n",
       "    <tr>\n",
       "      <th>13</th>\n",
       "      <td>0</td>\n",
       "      <td>0</td>\n",
       "      <td>0</td>\n",
       "      <td>0</td>\n",
       "      <td>0</td>\n",
       "      <td>0</td>\n",
       "      <td>0</td>\n",
       "      <td>1</td>\n",
       "      <td>0</td>\n",
       "      <td>0</td>\n",
       "    </tr>\n",
       "    <tr>\n",
       "      <th>14</th>\n",
       "      <td>0</td>\n",
       "      <td>0</td>\n",
       "      <td>0</td>\n",
       "      <td>0</td>\n",
       "      <td>1</td>\n",
       "      <td>0</td>\n",
       "      <td>0</td>\n",
       "      <td>1</td>\n",
       "      <td>0</td>\n",
       "      <td>0</td>\n",
       "    </tr>\n",
       "    <tr>\n",
       "      <th>15</th>\n",
       "      <td>0</td>\n",
       "      <td>0</td>\n",
       "      <td>0</td>\n",
       "      <td>0</td>\n",
       "      <td>0</td>\n",
       "      <td>0</td>\n",
       "      <td>0</td>\n",
       "      <td>0</td>\n",
       "      <td>0</td>\n",
       "      <td>0</td>\n",
       "    </tr>\n",
       "    <tr>\n",
       "      <th>16</th>\n",
       "      <td>0</td>\n",
       "      <td>0</td>\n",
       "      <td>0</td>\n",
       "      <td>0</td>\n",
       "      <td>0</td>\n",
       "      <td>0</td>\n",
       "      <td>0</td>\n",
       "      <td>0</td>\n",
       "      <td>0</td>\n",
       "      <td>0</td>\n",
       "    </tr>\n",
       "    <tr>\n",
       "      <th>17</th>\n",
       "      <td>0</td>\n",
       "      <td>0</td>\n",
       "      <td>0</td>\n",
       "      <td>0</td>\n",
       "      <td>0</td>\n",
       "      <td>0</td>\n",
       "      <td>0</td>\n",
       "      <td>1</td>\n",
       "      <td>0</td>\n",
       "      <td>0</td>\n",
       "    </tr>\n",
       "    <tr>\n",
       "      <th>18</th>\n",
       "      <td>0</td>\n",
       "      <td>0</td>\n",
       "      <td>0</td>\n",
       "      <td>0</td>\n",
       "      <td>0</td>\n",
       "      <td>0</td>\n",
       "      <td>0</td>\n",
       "      <td>0</td>\n",
       "      <td>1</td>\n",
       "      <td>0</td>\n",
       "    </tr>\n",
       "    <tr>\n",
       "      <th>19</th>\n",
       "      <td>0</td>\n",
       "      <td>1</td>\n",
       "      <td>0</td>\n",
       "      <td>0</td>\n",
       "      <td>0</td>\n",
       "      <td>0</td>\n",
       "      <td>0</td>\n",
       "      <td>1</td>\n",
       "      <td>0</td>\n",
       "      <td>0</td>\n",
       "    </tr>\n",
       "    <tr>\n",
       "      <th>20</th>\n",
       "      <td>0</td>\n",
       "      <td>0</td>\n",
       "      <td>0</td>\n",
       "      <td>0</td>\n",
       "      <td>1</td>\n",
       "      <td>0</td>\n",
       "      <td>0</td>\n",
       "      <td>0</td>\n",
       "      <td>0</td>\n",
       "      <td>1</td>\n",
       "    </tr>\n",
       "    <tr>\n",
       "      <th>21</th>\n",
       "      <td>0</td>\n",
       "      <td>0</td>\n",
       "      <td>0</td>\n",
       "      <td>0</td>\n",
       "      <td>0</td>\n",
       "      <td>0</td>\n",
       "      <td>0</td>\n",
       "      <td>0</td>\n",
       "      <td>0</td>\n",
       "      <td>0</td>\n",
       "    </tr>\n",
       "    <tr>\n",
       "      <th>22</th>\n",
       "      <td>0</td>\n",
       "      <td>0</td>\n",
       "      <td>0</td>\n",
       "      <td>0</td>\n",
       "      <td>0</td>\n",
       "      <td>0</td>\n",
       "      <td>0</td>\n",
       "      <td>1</td>\n",
       "      <td>1</td>\n",
       "      <td>0</td>\n",
       "    </tr>\n",
       "    <tr>\n",
       "      <th>23</th>\n",
       "      <td>0</td>\n",
       "      <td>0</td>\n",
       "      <td>0</td>\n",
       "      <td>0</td>\n",
       "      <td>1</td>\n",
       "      <td>0</td>\n",
       "      <td>1</td>\n",
       "      <td>1</td>\n",
       "      <td>0</td>\n",
       "      <td>0</td>\n",
       "    </tr>\n",
       "    <tr>\n",
       "      <th>24</th>\n",
       "      <td>0</td>\n",
       "      <td>0</td>\n",
       "      <td>0</td>\n",
       "      <td>0</td>\n",
       "      <td>0</td>\n",
       "      <td>0</td>\n",
       "      <td>0</td>\n",
       "      <td>0</td>\n",
       "      <td>0</td>\n",
       "      <td>0</td>\n",
       "    </tr>\n",
       "    <tr>\n",
       "      <th>25</th>\n",
       "      <td>0</td>\n",
       "      <td>1</td>\n",
       "      <td>0</td>\n",
       "      <td>0</td>\n",
       "      <td>1</td>\n",
       "      <td>0</td>\n",
       "      <td>0</td>\n",
       "      <td>1</td>\n",
       "      <td>0</td>\n",
       "      <td>0</td>\n",
       "    </tr>\n",
       "    <tr>\n",
       "      <th>26</th>\n",
       "      <td>0</td>\n",
       "      <td>1</td>\n",
       "      <td>0</td>\n",
       "      <td>1</td>\n",
       "      <td>0</td>\n",
       "      <td>0</td>\n",
       "      <td>0</td>\n",
       "      <td>0</td>\n",
       "      <td>0</td>\n",
       "      <td>0</td>\n",
       "    </tr>\n",
       "    <tr>\n",
       "      <th>27</th>\n",
       "      <td>0</td>\n",
       "      <td>0</td>\n",
       "      <td>0</td>\n",
       "      <td>0</td>\n",
       "      <td>0</td>\n",
       "      <td>0</td>\n",
       "      <td>0</td>\n",
       "      <td>0</td>\n",
       "      <td>0</td>\n",
       "      <td>0</td>\n",
       "    </tr>\n",
       "    <tr>\n",
       "      <th>28</th>\n",
       "      <td>0</td>\n",
       "      <td>0</td>\n",
       "      <td>0</td>\n",
       "      <td>0</td>\n",
       "      <td>1</td>\n",
       "      <td>0</td>\n",
       "      <td>0</td>\n",
       "      <td>1</td>\n",
       "      <td>1</td>\n",
       "      <td>0</td>\n",
       "    </tr>\n",
       "    <tr>\n",
       "      <th>29</th>\n",
       "      <td>1</td>\n",
       "      <td>0</td>\n",
       "      <td>0</td>\n",
       "      <td>0</td>\n",
       "      <td>1</td>\n",
       "      <td>0</td>\n",
       "      <td>0</td>\n",
       "      <td>0</td>\n",
       "      <td>0</td>\n",
       "      <td>0</td>\n",
       "    </tr>\n",
       "    <tr>\n",
       "      <th>...</th>\n",
       "      <td>...</td>\n",
       "      <td>...</td>\n",
       "      <td>...</td>\n",
       "      <td>...</td>\n",
       "      <td>...</td>\n",
       "      <td>...</td>\n",
       "      <td>...</td>\n",
       "      <td>...</td>\n",
       "      <td>...</td>\n",
       "      <td>...</td>\n",
       "    </tr>\n",
       "    <tr>\n",
       "      <th>9969</th>\n",
       "      <td>0</td>\n",
       "      <td>0</td>\n",
       "      <td>0</td>\n",
       "      <td>0</td>\n",
       "      <td>0</td>\n",
       "      <td>0</td>\n",
       "      <td>0</td>\n",
       "      <td>0</td>\n",
       "      <td>0</td>\n",
       "      <td>0</td>\n",
       "    </tr>\n",
       "    <tr>\n",
       "      <th>9970</th>\n",
       "      <td>0</td>\n",
       "      <td>0</td>\n",
       "      <td>0</td>\n",
       "      <td>0</td>\n",
       "      <td>0</td>\n",
       "      <td>0</td>\n",
       "      <td>0</td>\n",
       "      <td>1</td>\n",
       "      <td>0</td>\n",
       "      <td>0</td>\n",
       "    </tr>\n",
       "    <tr>\n",
       "      <th>9971</th>\n",
       "      <td>0</td>\n",
       "      <td>0</td>\n",
       "      <td>0</td>\n",
       "      <td>0</td>\n",
       "      <td>0</td>\n",
       "      <td>0</td>\n",
       "      <td>0</td>\n",
       "      <td>0</td>\n",
       "      <td>0</td>\n",
       "      <td>0</td>\n",
       "    </tr>\n",
       "    <tr>\n",
       "      <th>9972</th>\n",
       "      <td>0</td>\n",
       "      <td>0</td>\n",
       "      <td>0</td>\n",
       "      <td>0</td>\n",
       "      <td>1</td>\n",
       "      <td>0</td>\n",
       "      <td>0</td>\n",
       "      <td>0</td>\n",
       "      <td>0</td>\n",
       "      <td>0</td>\n",
       "    </tr>\n",
       "    <tr>\n",
       "      <th>9973</th>\n",
       "      <td>0</td>\n",
       "      <td>0</td>\n",
       "      <td>0</td>\n",
       "      <td>0</td>\n",
       "      <td>0</td>\n",
       "      <td>0</td>\n",
       "      <td>0</td>\n",
       "      <td>1</td>\n",
       "      <td>1</td>\n",
       "      <td>0</td>\n",
       "    </tr>\n",
       "    <tr>\n",
       "      <th>9974</th>\n",
       "      <td>0</td>\n",
       "      <td>0</td>\n",
       "      <td>0</td>\n",
       "      <td>0</td>\n",
       "      <td>1</td>\n",
       "      <td>0</td>\n",
       "      <td>1</td>\n",
       "      <td>0</td>\n",
       "      <td>1</td>\n",
       "      <td>0</td>\n",
       "    </tr>\n",
       "    <tr>\n",
       "      <th>9975</th>\n",
       "      <td>0</td>\n",
       "      <td>0</td>\n",
       "      <td>0</td>\n",
       "      <td>0</td>\n",
       "      <td>1</td>\n",
       "      <td>0</td>\n",
       "      <td>0</td>\n",
       "      <td>1</td>\n",
       "      <td>0</td>\n",
       "      <td>0</td>\n",
       "    </tr>\n",
       "    <tr>\n",
       "      <th>9976</th>\n",
       "      <td>0</td>\n",
       "      <td>1</td>\n",
       "      <td>0</td>\n",
       "      <td>0</td>\n",
       "      <td>1</td>\n",
       "      <td>0</td>\n",
       "      <td>1</td>\n",
       "      <td>0</td>\n",
       "      <td>0</td>\n",
       "      <td>0</td>\n",
       "    </tr>\n",
       "    <tr>\n",
       "      <th>9977</th>\n",
       "      <td>0</td>\n",
       "      <td>0</td>\n",
       "      <td>0</td>\n",
       "      <td>0</td>\n",
       "      <td>1</td>\n",
       "      <td>0</td>\n",
       "      <td>0</td>\n",
       "      <td>0</td>\n",
       "      <td>0</td>\n",
       "      <td>0</td>\n",
       "    </tr>\n",
       "    <tr>\n",
       "      <th>9978</th>\n",
       "      <td>0</td>\n",
       "      <td>0</td>\n",
       "      <td>1</td>\n",
       "      <td>0</td>\n",
       "      <td>0</td>\n",
       "      <td>0</td>\n",
       "      <td>1</td>\n",
       "      <td>0</td>\n",
       "      <td>0</td>\n",
       "      <td>0</td>\n",
       "    </tr>\n",
       "    <tr>\n",
       "      <th>9979</th>\n",
       "      <td>1</td>\n",
       "      <td>1</td>\n",
       "      <td>0</td>\n",
       "      <td>1</td>\n",
       "      <td>0</td>\n",
       "      <td>0</td>\n",
       "      <td>0</td>\n",
       "      <td>0</td>\n",
       "      <td>0</td>\n",
       "      <td>0</td>\n",
       "    </tr>\n",
       "    <tr>\n",
       "      <th>9980</th>\n",
       "      <td>0</td>\n",
       "      <td>0</td>\n",
       "      <td>0</td>\n",
       "      <td>0</td>\n",
       "      <td>0</td>\n",
       "      <td>0</td>\n",
       "      <td>0</td>\n",
       "      <td>0</td>\n",
       "      <td>0</td>\n",
       "      <td>0</td>\n",
       "    </tr>\n",
       "    <tr>\n",
       "      <th>9981</th>\n",
       "      <td>0</td>\n",
       "      <td>1</td>\n",
       "      <td>0</td>\n",
       "      <td>0</td>\n",
       "      <td>0</td>\n",
       "      <td>0</td>\n",
       "      <td>0</td>\n",
       "      <td>0</td>\n",
       "      <td>0</td>\n",
       "      <td>0</td>\n",
       "    </tr>\n",
       "    <tr>\n",
       "      <th>9982</th>\n",
       "      <td>0</td>\n",
       "      <td>0</td>\n",
       "      <td>0</td>\n",
       "      <td>0</td>\n",
       "      <td>1</td>\n",
       "      <td>0</td>\n",
       "      <td>0</td>\n",
       "      <td>1</td>\n",
       "      <td>1</td>\n",
       "      <td>0</td>\n",
       "    </tr>\n",
       "    <tr>\n",
       "      <th>9983</th>\n",
       "      <td>0</td>\n",
       "      <td>0</td>\n",
       "      <td>0</td>\n",
       "      <td>0</td>\n",
       "      <td>1</td>\n",
       "      <td>0</td>\n",
       "      <td>0</td>\n",
       "      <td>0</td>\n",
       "      <td>0</td>\n",
       "      <td>0</td>\n",
       "    </tr>\n",
       "    <tr>\n",
       "      <th>9984</th>\n",
       "      <td>0</td>\n",
       "      <td>0</td>\n",
       "      <td>0</td>\n",
       "      <td>0</td>\n",
       "      <td>0</td>\n",
       "      <td>0</td>\n",
       "      <td>0</td>\n",
       "      <td>1</td>\n",
       "      <td>0</td>\n",
       "      <td>0</td>\n",
       "    </tr>\n",
       "    <tr>\n",
       "      <th>9985</th>\n",
       "      <td>0</td>\n",
       "      <td>0</td>\n",
       "      <td>0</td>\n",
       "      <td>0</td>\n",
       "      <td>1</td>\n",
       "      <td>0</td>\n",
       "      <td>0</td>\n",
       "      <td>0</td>\n",
       "      <td>0</td>\n",
       "      <td>0</td>\n",
       "    </tr>\n",
       "    <tr>\n",
       "      <th>9986</th>\n",
       "      <td>0</td>\n",
       "      <td>0</td>\n",
       "      <td>0</td>\n",
       "      <td>0</td>\n",
       "      <td>1</td>\n",
       "      <td>0</td>\n",
       "      <td>0</td>\n",
       "      <td>0</td>\n",
       "      <td>0</td>\n",
       "      <td>0</td>\n",
       "    </tr>\n",
       "    <tr>\n",
       "      <th>9987</th>\n",
       "      <td>1</td>\n",
       "      <td>0</td>\n",
       "      <td>0</td>\n",
       "      <td>0</td>\n",
       "      <td>1</td>\n",
       "      <td>0</td>\n",
       "      <td>0</td>\n",
       "      <td>0</td>\n",
       "      <td>0</td>\n",
       "      <td>0</td>\n",
       "    </tr>\n",
       "    <tr>\n",
       "      <th>9988</th>\n",
       "      <td>0</td>\n",
       "      <td>0</td>\n",
       "      <td>0</td>\n",
       "      <td>0</td>\n",
       "      <td>0</td>\n",
       "      <td>0</td>\n",
       "      <td>0</td>\n",
       "      <td>0</td>\n",
       "      <td>0</td>\n",
       "      <td>0</td>\n",
       "    </tr>\n",
       "    <tr>\n",
       "      <th>9989</th>\n",
       "      <td>0</td>\n",
       "      <td>0</td>\n",
       "      <td>0</td>\n",
       "      <td>1</td>\n",
       "      <td>0</td>\n",
       "      <td>0</td>\n",
       "      <td>0</td>\n",
       "      <td>0</td>\n",
       "      <td>0</td>\n",
       "      <td>0</td>\n",
       "    </tr>\n",
       "    <tr>\n",
       "      <th>9990</th>\n",
       "      <td>0</td>\n",
       "      <td>1</td>\n",
       "      <td>0</td>\n",
       "      <td>1</td>\n",
       "      <td>1</td>\n",
       "      <td>0</td>\n",
       "      <td>1</td>\n",
       "      <td>0</td>\n",
       "      <td>0</td>\n",
       "      <td>0</td>\n",
       "    </tr>\n",
       "    <tr>\n",
       "      <th>9991</th>\n",
       "      <td>0</td>\n",
       "      <td>0</td>\n",
       "      <td>0</td>\n",
       "      <td>1</td>\n",
       "      <td>0</td>\n",
       "      <td>0</td>\n",
       "      <td>1</td>\n",
       "      <td>0</td>\n",
       "      <td>0</td>\n",
       "      <td>0</td>\n",
       "    </tr>\n",
       "    <tr>\n",
       "      <th>9992</th>\n",
       "      <td>0</td>\n",
       "      <td>0</td>\n",
       "      <td>0</td>\n",
       "      <td>0</td>\n",
       "      <td>1</td>\n",
       "      <td>0</td>\n",
       "      <td>0</td>\n",
       "      <td>0</td>\n",
       "      <td>1</td>\n",
       "      <td>0</td>\n",
       "    </tr>\n",
       "    <tr>\n",
       "      <th>9993</th>\n",
       "      <td>0</td>\n",
       "      <td>0</td>\n",
       "      <td>1</td>\n",
       "      <td>0</td>\n",
       "      <td>0</td>\n",
       "      <td>0</td>\n",
       "      <td>0</td>\n",
       "      <td>0</td>\n",
       "      <td>1</td>\n",
       "      <td>0</td>\n",
       "    </tr>\n",
       "    <tr>\n",
       "      <th>9994</th>\n",
       "      <td>0</td>\n",
       "      <td>0</td>\n",
       "      <td>1</td>\n",
       "      <td>0</td>\n",
       "      <td>0</td>\n",
       "      <td>0</td>\n",
       "      <td>0</td>\n",
       "      <td>1</td>\n",
       "      <td>0</td>\n",
       "      <td>0</td>\n",
       "    </tr>\n",
       "    <tr>\n",
       "      <th>9995</th>\n",
       "      <td>0</td>\n",
       "      <td>0</td>\n",
       "      <td>0</td>\n",
       "      <td>0</td>\n",
       "      <td>0</td>\n",
       "      <td>0</td>\n",
       "      <td>0</td>\n",
       "      <td>0</td>\n",
       "      <td>0</td>\n",
       "      <td>0</td>\n",
       "    </tr>\n",
       "    <tr>\n",
       "      <th>9996</th>\n",
       "      <td>0</td>\n",
       "      <td>0</td>\n",
       "      <td>0</td>\n",
       "      <td>0</td>\n",
       "      <td>0</td>\n",
       "      <td>0</td>\n",
       "      <td>0</td>\n",
       "      <td>0</td>\n",
       "      <td>0</td>\n",
       "      <td>0</td>\n",
       "    </tr>\n",
       "    <tr>\n",
       "      <th>9997</th>\n",
       "      <td>1</td>\n",
       "      <td>0</td>\n",
       "      <td>0</td>\n",
       "      <td>0</td>\n",
       "      <td>0</td>\n",
       "      <td>0</td>\n",
       "      <td>0</td>\n",
       "      <td>1</td>\n",
       "      <td>0</td>\n",
       "      <td>0</td>\n",
       "    </tr>\n",
       "    <tr>\n",
       "      <th>9998</th>\n",
       "      <td>0</td>\n",
       "      <td>1</td>\n",
       "      <td>0</td>\n",
       "      <td>0</td>\n",
       "      <td>0</td>\n",
       "      <td>0</td>\n",
       "      <td>0</td>\n",
       "      <td>0</td>\n",
       "      <td>0</td>\n",
       "      <td>0</td>\n",
       "    </tr>\n",
       "  </tbody>\n",
       "</table>\n",
       "<p>9999 rows × 10 columns</p>\n",
       "</div>"
      ],
      "text/plain": [
       "      Ads1  Ads2  Ads3  Ads4  Ads5  Ads6  Ads7  Ads8  Ads9  Ads10\n",
       "0        0     0     0     0     0     0     0     0     1      0\n",
       "1        0     0     0     0     0     0     0     0     0      0\n",
       "2        0     1     0     0     0     0     0     1     0      0\n",
       "3        0     0     0     0     0     0     0     0     0      0\n",
       "4        1     1     0     0     0     0     0     0     0      0\n",
       "5        0     0     0     1     0     0     0     0     0      0\n",
       "6        1     1     0     0     1     0     0     0     0      0\n",
       "7        0     0     0     0     0     0     0     0     0      0\n",
       "8        0     0     1     0     0     0     0     0     0      0\n",
       "9        0     0     0     0     0     0     0     0     0      0\n",
       "10       0     0     0     0     0     0     0     0     0      0\n",
       "11       0     0     0     1     0     0     0     0     0      0\n",
       "12       0     0     0     0     0     0     0     0     1      0\n",
       "13       0     0     0     0     0     0     0     1     0      0\n",
       "14       0     0     0     0     1     0     0     1     0      0\n",
       "15       0     0     0     0     0     0     0     0     0      0\n",
       "16       0     0     0     0     0     0     0     0     0      0\n",
       "17       0     0     0     0     0     0     0     1     0      0\n",
       "18       0     0     0     0     0     0     0     0     1      0\n",
       "19       0     1     0     0     0     0     0     1     0      0\n",
       "20       0     0     0     0     1     0     0     0     0      1\n",
       "21       0     0     0     0     0     0     0     0     0      0\n",
       "22       0     0     0     0     0     0     0     1     1      0\n",
       "23       0     0     0     0     1     0     1     1     0      0\n",
       "24       0     0     0     0     0     0     0     0     0      0\n",
       "25       0     1     0     0     1     0     0     1     0      0\n",
       "26       0     1     0     1     0     0     0     0     0      0\n",
       "27       0     0     0     0     0     0     0     0     0      0\n",
       "28       0     0     0     0     1     0     0     1     1      0\n",
       "29       1     0     0     0     1     0     0     0     0      0\n",
       "...    ...   ...   ...   ...   ...   ...   ...   ...   ...    ...\n",
       "9969     0     0     0     0     0     0     0     0     0      0\n",
       "9970     0     0     0     0     0     0     0     1     0      0\n",
       "9971     0     0     0     0     0     0     0     0     0      0\n",
       "9972     0     0     0     0     1     0     0     0     0      0\n",
       "9973     0     0     0     0     0     0     0     1     1      0\n",
       "9974     0     0     0     0     1     0     1     0     1      0\n",
       "9975     0     0     0     0     1     0     0     1     0      0\n",
       "9976     0     1     0     0     1     0     1     0     0      0\n",
       "9977     0     0     0     0     1     0     0     0     0      0\n",
       "9978     0     0     1     0     0     0     1     0     0      0\n",
       "9979     1     1     0     1     0     0     0     0     0      0\n",
       "9980     0     0     0     0     0     0     0     0     0      0\n",
       "9981     0     1     0     0     0     0     0     0     0      0\n",
       "9982     0     0     0     0     1     0     0     1     1      0\n",
       "9983     0     0     0     0     1     0     0     0     0      0\n",
       "9984     0     0     0     0     0     0     0     1     0      0\n",
       "9985     0     0     0     0     1     0     0     0     0      0\n",
       "9986     0     0     0     0     1     0     0     0     0      0\n",
       "9987     1     0     0     0     1     0     0     0     0      0\n",
       "9988     0     0     0     0     0     0     0     0     0      0\n",
       "9989     0     0     0     1     0     0     0     0     0      0\n",
       "9990     0     1     0     1     1     0     1     0     0      0\n",
       "9991     0     0     0     1     0     0     1     0     0      0\n",
       "9992     0     0     0     0     1     0     0     0     1      0\n",
       "9993     0     0     1     0     0     0     0     0     1      0\n",
       "9994     0     0     1     0     0     0     0     1     0      0\n",
       "9995     0     0     0     0     0     0     0     0     0      0\n",
       "9996     0     0     0     0     0     0     0     0     0      0\n",
       "9997     1     0     0     0     0     0     0     1     0      0\n",
       "9998     0     1     0     0     0     0     0     0     0      0\n",
       "\n",
       "[9999 rows x 10 columns]"
      ]
     },
     "execution_count": 4,
     "metadata": {},
     "output_type": "execute_result"
    }
   ],
   "source": [
    "ads_data"
   ]
  },
  {
   "cell_type": "markdown",
   "metadata": {},
   "source": [
    "### 2000개만 가져오기"
   ]
  },
  {
   "cell_type": "code",
   "execution_count": 5,
   "metadata": {},
   "outputs": [],
   "source": [
    "samples = ads_data.iloc[:2000, :]"
   ]
  },
  {
   "cell_type": "code",
   "execution_count": 6,
   "metadata": {},
   "outputs": [
    {
     "data": {
      "text/plain": [
       "Ads5     0.269427\n",
       "Ads8     0.209121\n",
       "Ads1     0.170217\n",
       "Ads2     0.129513\n",
       "Ads4     0.119612\n",
       "Ads7     0.111211\n",
       "Ads9     0.095110\n",
       "Ads3     0.072807\n",
       "Ads10    0.048905\n",
       "Ads6     0.012601\n",
       "dtype: float64"
      ]
     },
     "execution_count": 6,
     "metadata": {},
     "output_type": "execute_result"
    }
   ],
   "source": [
    "# CTR of each ads, total data\n",
    "Series.sort_values(ads_data.sum()/len(ads_data), ascending=False)"
   ]
  },
  {
   "cell_type": "code",
   "execution_count": 7,
   "metadata": {},
   "outputs": [
    {
     "data": {
      "text/plain": [
       "Ads5     0.2710\n",
       "Ads8     0.2120\n",
       "Ads1     0.1700\n",
       "Ads4     0.1300\n",
       "Ads2     0.1240\n",
       "Ads7     0.1015\n",
       "Ads9     0.0965\n",
       "Ads3     0.0695\n",
       "Ads10    0.0450\n",
       "Ads6     0.0115\n",
       "dtype: float64"
      ]
     },
     "execution_count": 7,
     "metadata": {},
     "output_type": "execute_result"
    }
   ],
   "source": [
    "# CTR of each ads, Samples \n",
    "Series.sort_values(samples.sum()/len(samples), ascending=False)"
   ]
  },
  {
   "cell_type": "markdown",
   "metadata": {},
   "source": [
    "#### 샘플링한 것과 전체 데이터는 거의 비슷하다, 5번 광고가 가장 CTR이 높고, 8번 순이다, 가장 낮은 CTR을 보이는 광고는 6번이다."
   ]
  },
  {
   "cell_type": "markdown",
   "metadata": {},
   "source": [
    "* 어떻게 실험할까?\n",
    " - 광고의 안은 10개이다, 샘플 수는 2000개니까 2000번 광고를 노출 시킬 것이다.\n",
    " - 노출을 시킬 때 어떤 광고를 보여줄지 정하는 게 중요한 것 같다. Beta 분포에서 샘플링 해서 샘플링 된 rvs 값이 큰 걸 노출 시키는 방법을 사용해야겠다.\n",
    " - 광고가 노출되면, sample에서 해당 광고의 데이터로 이동해서 0이면 beta를 +1하고 1이면 alpha를 +1한다.\n",
    " - 해당 광고가 다음 노출이 될 때까지 이 상태를 유지한다."
   ]
  },
  {
   "cell_type": "markdown",
   "metadata": {},
   "source": [
    "### 시각화 코드 연습"
   ]
  },
  {
   "cell_type": "code",
   "execution_count": 8,
   "metadata": {},
   "outputs": [
    {
     "data": {
      "text/plain": [
       "[<matplotlib.lines.Line2D at 0x1174ee710>,\n",
       " <matplotlib.lines.Line2D at 0x1177c16d8>]"
      ]
     },
     "execution_count": 8,
     "metadata": {},
     "output_type": "execute_result"
    },
    {
     "data": {
      "image/png": "[encoded data removed]",
      "text/plain": [
       "<Figure size 432x288 with 1 Axes>"
      ]
     },
     "metadata": {
      "needs_background": "light"
     },
     "output_type": "display_data"
    }
   ],
   "source": [
    "ads_1 = beta.rvs(1,1, size=1)\n",
    "ads_1\n",
    "\n",
    "fig, ax = plt.subplots(1, 1)\n",
    "\n",
    "\n",
    "x = np.linspace(0, 1, 100)\n",
    "ax.plot(x, beta.pdf(x, 2, 1), 'r-', lw=3, alpha=0.6, label='ads_1')\n",
    "ax.plot(ads_1, 0, 'x', 'red')"
   ]
  },
  {
   "cell_type": "code",
   "execution_count": 94,
   "metadata": {},
   "outputs": [
    {
     "name": "stdout",
     "output_type": "stream",
     "text": [
      "0\n",
      "0\n",
      "0\n",
      "0\n",
      "0\n",
      "0\n",
      "0\n",
      "0\n",
      "1\n",
      "0\n"
     ]
    }
   ],
   "source": [
    "#for문 돌면 i가 1씩 늘어나니까 앞에 i를 넣으면?\n",
    "#뒤에 Format string을 삽입하는게 가능한가? ==> iloc에 max_rvs_ad를 넣으면 해결\n",
    "\n",
    "for i in range(10):\n",
    "    print(samples.iloc[0,i])"
   ]
  },
  {
   "cell_type": "code",
   "execution_count": 182,
   "metadata": {},
   "outputs": [],
   "source": [
    "tst = 'ads_'+'{}'.format(max_rvs_ad)"
   ]
  },
  {
   "cell_type": "code",
   "execution_count": 184,
   "metadata": {
    "scrolled": true
   },
   "outputs": [
    {
     "data": {
      "text/plain": [
       "array([0.28651494])"
      ]
     },
     "execution_count": 184,
     "metadata": {},
     "output_type": "execute_result"
    }
   ],
   "source": [
    "# eval을 사용하면 str으로 얻어진 값을 객체로 변환할 수 있다!!!!!!!\n",
    "eval(tst)"
   ]
  },
  {
   "cell_type": "code",
   "execution_count": 181,
   "metadata": {},
   "outputs": [
    {
     "name": "stdout",
     "output_type": "stream",
     "text": [
      "'Hello, Geeks.'\n",
      "0.18181818181818182\n"
     ]
    }
   ],
   "source": [
    "s = 'Hello, Geeks.'\n",
    "print (repr(s) )\n",
    "print (repr(2.0/11.0) )"
   ]
  },
  {
   "cell_type": "code",
   "execution_count": null,
   "metadata": {},
   "outputs": [],
   "source": [
    "# 챔피언 광고를 구한 상태에서 챔피언 광고에 대해 베타값을 수정해주는 작업이 필요"
   ]
  },
  {
   "cell_type": "code",
   "execution_count": null,
   "metadata": {},
   "outputs": [],
   "source": [
    "regret = 0 \n",
    "total_reward = 0\n",
    "regret_list = [] \n",
    "ctr = {0: [], 1: []}\n",
    "index_list = [] \n",
    "impressions = [0,0] \n",
    "clicks = [0,0]\n",
    "priors = (1, 1)\n",
    "win_index = np.random.randint(0,2,1)[0] ## randomly choose the first shown Ad\n",
    "\n",
    "for i in range(n):    \n",
    "    impressions[win_index] += 1\n",
    "    did_click = bernoulli.rvs(ACTUAL_CTR[win_index])\n",
    "    \n",
    "    if did_click:\n",
    "        clicks[win_index] += did_click\n",
    "    \n",
    "    ctr_0 = random.betavariate(priors[0]+clicks[0], priors[1] + impressions[0] - clicks[0])\n",
    "    ctr_1 = random.betavariate(priors[0]+clicks[1], priors[1] + impressions[1] - clicks[1])\n",
    "    win_index = np.argmax([ctr_0, ctr_1])\n",
    "    index_list.append(win_index)\n",
    "    \n",
    "    ctr[0].append(ctr_0)\n",
    "    ctr[1].append(ctr_1)\n",
    "    \n",
    "    regret += max(ACTUAL_CTR) - ACTUAL_CTR[win_index]\n",
    "    regret_list.append(regret)    \n",
    "    total_reward += did_click\n",
    "\n",
    "    \n",
    "## plot the Beta distributions\n",
    "x = np.arange (0, 1, 0.01)\n",
    "y = beta.pdf(x, priors[0]+clicks[0], priors[1] + impressions[0] - clicks[0])\n",
    "y /= y.max() ## normalize\n"
   ]
  },
  {
   "cell_type": "markdown",
   "metadata": {},
   "source": [
    "win하는 index가(win_index)있고 index에 맞는, 숫자에 해당하는 init_alpha_1,2,3,4중 하나에 +1을 해주려고 하는데\n",
    "대충 init_alpha_{win_index} += 1 이런 식으로 동작하려면 어떻게 해야하는지?"
   ]
  },
  {
   "cell_type": "code",
   "execution_count": 199,
   "metadata": {
    "scrolled": true
   },
   "outputs": [
    {
     "data": {
      "text/plain": [
       "4537554256"
      ]
     },
     "execution_count": 199,
     "metadata": {},
     "output_type": "execute_result"
    }
   ],
   "source": [
    "id(eval('init_alpha_' + '{}'.format(win_index)))"
   ]
  },
  {
   "cell_type": "code",
   "execution_count": 201,
   "metadata": {},
   "outputs": [
    {
     "data": {
      "text/plain": [
       "4537554256"
      ]
     },
     "execution_count": 201,
     "metadata": {},
     "output_type": "execute_result"
    }
   ],
   "source": [
    "id(init_alpha_1)"
   ]
  },
  {
   "cell_type": "code",
   "execution_count": 275,
   "metadata": {},
   "outputs": [
    {
     "data": {
      "text/plain": [
       "array([0.99995808])"
      ]
     },
     "execution_count": 275,
     "metadata": {},
     "output_type": "execute_result"
    }
   ],
   "source": [
    "beta.rvs(5000,init_beta_1, size=1)"
   ]
  },
  {
   "cell_type": "code",
   "execution_count": 279,
   "metadata": {},
   "outputs": [
    {
     "data": {
      "text/plain": [
       "'ads_2'"
      ]
     },
     "execution_count": 279,
     "metadata": {},
     "output_type": "execute_result"
    }
   ],
   "source": [
    "'ads_'+'{}'.format(win_index)"
   ]
  },
  {
   "cell_type": "code",
   "execution_count": 280,
   "metadata": {},
   "outputs": [
    {
     "name": "stdout",
     "output_type": "stream",
     "text": [
      "2\n"
     ]
    }
   ],
   "source": [
    "buffalo = 4\n",
    "x='buffalo'    \n",
    "exec(\"%s = %d\" % (x,2))\n",
    "\n",
    "print (buffalo)"
   ]
  },
  {
   "cell_type": "code",
   "execution_count": 112,
   "metadata": {},
   "outputs": [
    {
     "name": "stdout",
     "output_type": "stream",
     "text": [
      "[array([0.35715326]), array([0.08920128]), array([0.65963647]), array([0.87369407])]\n"
     ]
    },
    {
     "data": {
      "text/plain": [
       "3"
      ]
     },
     "execution_count": 112,
     "metadata": {},
     "output_type": "execute_result"
    }
   ],
   "source": [
    "init_alpha_1 = init_alpha_2 =  init_alpha_3 = init_alpha_4 = 1\n",
    "init_beta_1 = init_beta_2 = init_beta_3 = init_beta_4 =1\n",
    "\n",
    "ads_1 = beta.rvs(init_alpha_1,init_beta_1, size=1)\n",
    "ads_2 = beta.rvs(init_alpha_2,init_beta_2, size=1)\n",
    "ads_3 = beta.rvs(init_alpha_3,init_beta_3, size=1)\n",
    "ads_4 = beta.rvs(init_alpha_4,init_beta_4, size=1)\n",
    "\n",
    "#max_rvs를 가져와서 해당 값을 가진 광고를 찾는 코드\n",
    "ads_rvs=[ads_1, ads_2, ads_3, ads_4]\n",
    "print(ads_rvs)\n",
    "max_rvs = np.max(ads_rvs)\n",
    "win_index = ads_rvs.index(max_rvs)\n",
    "win_index\n",
    "#print('ads_'+'{}'.format(win_index))\n",
    "\n",
    "# eval('ads_'+'{}'.format(win_index))\n",
    "# eval('init_alpha_' + '{}'.format(win_index+1))\n",
    "\n",
    "##### 해당 ad 들어가서 0일때 1일 때 alpha, beta값 조정\n",
    "# ads 별로 0 1값을 바로 rvs에 넣으면?"
   ]
  },
  {
   "cell_type": "code",
   "execution_count": 81,
   "metadata": {},
   "outputs": [
    {
     "name": "stdout",
     "output_type": "stream",
     "text": [
      "8 15 7 13\n"
     ]
    }
   ],
   "source": [
    "print(samples.iloc[:100,0].sum(),samples.iloc[:100,1].sum(),samples.iloc[:100,2].sum(),samples.iloc[:100,3].sum())"
   ]
  },
  {
   "cell_type": "code",
   "execution_count": 90,
   "metadata": {},
   "outputs": [
    {
     "name": "stdout",
     "output_type": "stream",
     "text": [
      "1 1 1 1\n"
     ]
    }
   ],
   "source": [
    "print(init_alpha_1, init_alpha_2, init_alpha_3, init_alpha_4)"
   ]
  },
  {
   "cell_type": "code",
   "execution_count": 116,
   "metadata": {
    "scrolled": true
   },
   "outputs": [
    {
     "data": {
      "text/html": [
       "<div>\n",
       "<style scoped>\n",
       "    .dataframe tbody tr th:only-of-type {\n",
       "        vertical-align: middle;\n",
       "    }\n",
       "\n",
       "    .dataframe tbody tr th {\n",
       "        vertical-align: top;\n",
       "    }\n",
       "\n",
       "    .dataframe thead th {\n",
       "        text-align: right;\n",
       "    }\n",
       "</style>\n",
       "<table border=\"1\" class=\"dataframe\">\n",
       "  <thead>\n",
       "    <tr style=\"text-align: right;\">\n",
       "      <th></th>\n",
       "      <th>Ads1</th>\n",
       "      <th>Ads2</th>\n",
       "      <th>Ads3</th>\n",
       "    </tr>\n",
       "  </thead>\n",
       "  <tbody>\n",
       "    <tr>\n",
       "      <th>0</th>\n",
       "      <td>0</td>\n",
       "      <td>0</td>\n",
       "      <td>0</td>\n",
       "    </tr>\n",
       "    <tr>\n",
       "      <th>1</th>\n",
       "      <td>0</td>\n",
       "      <td>0</td>\n",
       "      <td>0</td>\n",
       "    </tr>\n",
       "    <tr>\n",
       "      <th>2</th>\n",
       "      <td>0</td>\n",
       "      <td>1</td>\n",
       "      <td>0</td>\n",
       "    </tr>\n",
       "    <tr>\n",
       "      <th>3</th>\n",
       "      <td>0</td>\n",
       "      <td>0</td>\n",
       "      <td>0</td>\n",
       "    </tr>\n",
       "    <tr>\n",
       "      <th>4</th>\n",
       "      <td>1</td>\n",
       "      <td>1</td>\n",
       "      <td>0</td>\n",
       "    </tr>\n",
       "    <tr>\n",
       "      <th>5</th>\n",
       "      <td>0</td>\n",
       "      <td>0</td>\n",
       "      <td>0</td>\n",
       "    </tr>\n",
       "    <tr>\n",
       "      <th>6</th>\n",
       "      <td>1</td>\n",
       "      <td>1</td>\n",
       "      <td>0</td>\n",
       "    </tr>\n",
       "    <tr>\n",
       "      <th>7</th>\n",
       "      <td>0</td>\n",
       "      <td>0</td>\n",
       "      <td>0</td>\n",
       "    </tr>\n",
       "    <tr>\n",
       "      <th>8</th>\n",
       "      <td>0</td>\n",
       "      <td>0</td>\n",
       "      <td>1</td>\n",
       "    </tr>\n",
       "    <tr>\n",
       "      <th>9</th>\n",
       "      <td>0</td>\n",
       "      <td>0</td>\n",
       "      <td>0</td>\n",
       "    </tr>\n",
       "    <tr>\n",
       "      <th>10</th>\n",
       "      <td>0</td>\n",
       "      <td>0</td>\n",
       "      <td>0</td>\n",
       "    </tr>\n",
       "    <tr>\n",
       "      <th>11</th>\n",
       "      <td>0</td>\n",
       "      <td>0</td>\n",
       "      <td>0</td>\n",
       "    </tr>\n",
       "    <tr>\n",
       "      <th>12</th>\n",
       "      <td>0</td>\n",
       "      <td>0</td>\n",
       "      <td>0</td>\n",
       "    </tr>\n",
       "    <tr>\n",
       "      <th>13</th>\n",
       "      <td>0</td>\n",
       "      <td>0</td>\n",
       "      <td>0</td>\n",
       "    </tr>\n",
       "    <tr>\n",
       "      <th>14</th>\n",
       "      <td>0</td>\n",
       "      <td>0</td>\n",
       "      <td>0</td>\n",
       "    </tr>\n",
       "    <tr>\n",
       "      <th>15</th>\n",
       "      <td>0</td>\n",
       "      <td>0</td>\n",
       "      <td>0</td>\n",
       "    </tr>\n",
       "    <tr>\n",
       "      <th>16</th>\n",
       "      <td>0</td>\n",
       "      <td>0</td>\n",
       "      <td>0</td>\n",
       "    </tr>\n",
       "    <tr>\n",
       "      <th>17</th>\n",
       "      <td>0</td>\n",
       "      <td>0</td>\n",
       "      <td>0</td>\n",
       "    </tr>\n",
       "    <tr>\n",
       "      <th>18</th>\n",
       "      <td>0</td>\n",
       "      <td>0</td>\n",
       "      <td>0</td>\n",
       "    </tr>\n",
       "    <tr>\n",
       "      <th>19</th>\n",
       "      <td>0</td>\n",
       "      <td>1</td>\n",
       "      <td>0</td>\n",
       "    </tr>\n",
       "    <tr>\n",
       "      <th>20</th>\n",
       "      <td>0</td>\n",
       "      <td>0</td>\n",
       "      <td>0</td>\n",
       "    </tr>\n",
       "    <tr>\n",
       "      <th>21</th>\n",
       "      <td>0</td>\n",
       "      <td>0</td>\n",
       "      <td>0</td>\n",
       "    </tr>\n",
       "    <tr>\n",
       "      <th>22</th>\n",
       "      <td>0</td>\n",
       "      <td>0</td>\n",
       "      <td>0</td>\n",
       "    </tr>\n",
       "    <tr>\n",
       "      <th>23</th>\n",
       "      <td>0</td>\n",
       "      <td>0</td>\n",
       "      <td>0</td>\n",
       "    </tr>\n",
       "    <tr>\n",
       "      <th>24</th>\n",
       "      <td>0</td>\n",
       "      <td>0</td>\n",
       "      <td>0</td>\n",
       "    </tr>\n",
       "    <tr>\n",
       "      <th>25</th>\n",
       "      <td>0</td>\n",
       "      <td>1</td>\n",
       "      <td>0</td>\n",
       "    </tr>\n",
       "    <tr>\n",
       "      <th>26</th>\n",
       "      <td>0</td>\n",
       "      <td>1</td>\n",
       "      <td>0</td>\n",
       "    </tr>\n",
       "    <tr>\n",
       "      <th>27</th>\n",
       "      <td>0</td>\n",
       "      <td>0</td>\n",
       "      <td>0</td>\n",
       "    </tr>\n",
       "    <tr>\n",
       "      <th>28</th>\n",
       "      <td>0</td>\n",
       "      <td>0</td>\n",
       "      <td>0</td>\n",
       "    </tr>\n",
       "    <tr>\n",
       "      <th>29</th>\n",
       "      <td>1</td>\n",
       "      <td>0</td>\n",
       "      <td>0</td>\n",
       "    </tr>\n",
       "    <tr>\n",
       "      <th>...</th>\n",
       "      <td>...</td>\n",
       "      <td>...</td>\n",
       "      <td>...</td>\n",
       "    </tr>\n",
       "    <tr>\n",
       "      <th>70</th>\n",
       "      <td>0</td>\n",
       "      <td>0</td>\n",
       "      <td>0</td>\n",
       "    </tr>\n",
       "    <tr>\n",
       "      <th>71</th>\n",
       "      <td>0</td>\n",
       "      <td>1</td>\n",
       "      <td>0</td>\n",
       "    </tr>\n",
       "    <tr>\n",
       "      <th>72</th>\n",
       "      <td>0</td>\n",
       "      <td>0</td>\n",
       "      <td>0</td>\n",
       "    </tr>\n",
       "    <tr>\n",
       "      <th>73</th>\n",
       "      <td>0</td>\n",
       "      <td>0</td>\n",
       "      <td>0</td>\n",
       "    </tr>\n",
       "    <tr>\n",
       "      <th>74</th>\n",
       "      <td>0</td>\n",
       "      <td>0</td>\n",
       "      <td>0</td>\n",
       "    </tr>\n",
       "    <tr>\n",
       "      <th>75</th>\n",
       "      <td>0</td>\n",
       "      <td>0</td>\n",
       "      <td>0</td>\n",
       "    </tr>\n",
       "    <tr>\n",
       "      <th>76</th>\n",
       "      <td>0</td>\n",
       "      <td>0</td>\n",
       "      <td>0</td>\n",
       "    </tr>\n",
       "    <tr>\n",
       "      <th>77</th>\n",
       "      <td>0</td>\n",
       "      <td>1</td>\n",
       "      <td>0</td>\n",
       "    </tr>\n",
       "    <tr>\n",
       "      <th>78</th>\n",
       "      <td>0</td>\n",
       "      <td>0</td>\n",
       "      <td>0</td>\n",
       "    </tr>\n",
       "    <tr>\n",
       "      <th>79</th>\n",
       "      <td>0</td>\n",
       "      <td>0</td>\n",
       "      <td>0</td>\n",
       "    </tr>\n",
       "    <tr>\n",
       "      <th>80</th>\n",
       "      <td>0</td>\n",
       "      <td>0</td>\n",
       "      <td>0</td>\n",
       "    </tr>\n",
       "    <tr>\n",
       "      <th>81</th>\n",
       "      <td>0</td>\n",
       "      <td>0</td>\n",
       "      <td>0</td>\n",
       "    </tr>\n",
       "    <tr>\n",
       "      <th>82</th>\n",
       "      <td>0</td>\n",
       "      <td>1</td>\n",
       "      <td>1</td>\n",
       "    </tr>\n",
       "    <tr>\n",
       "      <th>83</th>\n",
       "      <td>0</td>\n",
       "      <td>0</td>\n",
       "      <td>0</td>\n",
       "    </tr>\n",
       "    <tr>\n",
       "      <th>84</th>\n",
       "      <td>0</td>\n",
       "      <td>1</td>\n",
       "      <td>0</td>\n",
       "    </tr>\n",
       "    <tr>\n",
       "      <th>85</th>\n",
       "      <td>0</td>\n",
       "      <td>0</td>\n",
       "      <td>0</td>\n",
       "    </tr>\n",
       "    <tr>\n",
       "      <th>86</th>\n",
       "      <td>0</td>\n",
       "      <td>0</td>\n",
       "      <td>0</td>\n",
       "    </tr>\n",
       "    <tr>\n",
       "      <th>87</th>\n",
       "      <td>1</td>\n",
       "      <td>0</td>\n",
       "      <td>0</td>\n",
       "    </tr>\n",
       "    <tr>\n",
       "      <th>88</th>\n",
       "      <td>0</td>\n",
       "      <td>0</td>\n",
       "      <td>0</td>\n",
       "    </tr>\n",
       "    <tr>\n",
       "      <th>89</th>\n",
       "      <td>0</td>\n",
       "      <td>0</td>\n",
       "      <td>0</td>\n",
       "    </tr>\n",
       "    <tr>\n",
       "      <th>90</th>\n",
       "      <td>0</td>\n",
       "      <td>0</td>\n",
       "      <td>0</td>\n",
       "    </tr>\n",
       "    <tr>\n",
       "      <th>91</th>\n",
       "      <td>0</td>\n",
       "      <td>0</td>\n",
       "      <td>0</td>\n",
       "    </tr>\n",
       "    <tr>\n",
       "      <th>92</th>\n",
       "      <td>0</td>\n",
       "      <td>0</td>\n",
       "      <td>0</td>\n",
       "    </tr>\n",
       "    <tr>\n",
       "      <th>93</th>\n",
       "      <td>1</td>\n",
       "      <td>0</td>\n",
       "      <td>0</td>\n",
       "    </tr>\n",
       "    <tr>\n",
       "      <th>94</th>\n",
       "      <td>0</td>\n",
       "      <td>0</td>\n",
       "      <td>0</td>\n",
       "    </tr>\n",
       "    <tr>\n",
       "      <th>95</th>\n",
       "      <td>0</td>\n",
       "      <td>1</td>\n",
       "      <td>0</td>\n",
       "    </tr>\n",
       "    <tr>\n",
       "      <th>96</th>\n",
       "      <td>0</td>\n",
       "      <td>0</td>\n",
       "      <td>0</td>\n",
       "    </tr>\n",
       "    <tr>\n",
       "      <th>97</th>\n",
       "      <td>0</td>\n",
       "      <td>0</td>\n",
       "      <td>1</td>\n",
       "    </tr>\n",
       "    <tr>\n",
       "      <th>98</th>\n",
       "      <td>0</td>\n",
       "      <td>0</td>\n",
       "      <td>0</td>\n",
       "    </tr>\n",
       "    <tr>\n",
       "      <th>99</th>\n",
       "      <td>0</td>\n",
       "      <td>0</td>\n",
       "      <td>0</td>\n",
       "    </tr>\n",
       "  </tbody>\n",
       "</table>\n",
       "<p>100 rows × 3 columns</p>\n",
       "</div>"
      ],
      "text/plain": [
       "    Ads1  Ads2  Ads3\n",
       "0      0     0     0\n",
       "1      0     0     0\n",
       "2      0     1     0\n",
       "3      0     0     0\n",
       "4      1     1     0\n",
       "5      0     0     0\n",
       "6      1     1     0\n",
       "7      0     0     0\n",
       "8      0     0     1\n",
       "9      0     0     0\n",
       "10     0     0     0\n",
       "11     0     0     0\n",
       "12     0     0     0\n",
       "13     0     0     0\n",
       "14     0     0     0\n",
       "15     0     0     0\n",
       "16     0     0     0\n",
       "17     0     0     0\n",
       "18     0     0     0\n",
       "19     0     1     0\n",
       "20     0     0     0\n",
       "21     0     0     0\n",
       "22     0     0     0\n",
       "23     0     0     0\n",
       "24     0     0     0\n",
       "25     0     1     0\n",
       "26     0     1     0\n",
       "27     0     0     0\n",
       "28     0     0     0\n",
       "29     1     0     0\n",
       "..   ...   ...   ...\n",
       "70     0     0     0\n",
       "71     0     1     0\n",
       "72     0     0     0\n",
       "73     0     0     0\n",
       "74     0     0     0\n",
       "75     0     0     0\n",
       "76     0     0     0\n",
       "77     0     1     0\n",
       "78     0     0     0\n",
       "79     0     0     0\n",
       "80     0     0     0\n",
       "81     0     0     0\n",
       "82     0     1     1\n",
       "83     0     0     0\n",
       "84     0     1     0\n",
       "85     0     0     0\n",
       "86     0     0     0\n",
       "87     1     0     0\n",
       "88     0     0     0\n",
       "89     0     0     0\n",
       "90     0     0     0\n",
       "91     0     0     0\n",
       "92     0     0     0\n",
       "93     1     0     0\n",
       "94     0     0     0\n",
       "95     0     1     0\n",
       "96     0     0     0\n",
       "97     0     0     1\n",
       "98     0     0     0\n",
       "99     0     0     0\n",
       "\n",
       "[100 rows x 3 columns]"
      ]
     },
     "execution_count": 116,
     "metadata": {},
     "output_type": "execute_result"
    }
   ],
   "source": [
    "samples.iloc[:100, :3]"
   ]
  },
  {
   "cell_type": "markdown",
   "metadata": {},
   "source": [
    "### 테스트 코드"
   ]
  },
  {
   "cell_type": "code",
   "execution_count": null,
   "metadata": {
    "scrolled": true
   },
   "outputs": [
    {
     "name": "stdout",
     "output_type": "stream",
     "text": [
      "2\n",
      "1 1 1 1\n",
      "2\n",
      "1 1 1 1\n",
      "2\n",
      "1 1 1 1\n",
      "1\n",
      "1 1 1 1\n",
      "3\n",
      "1 1 1 1\n",
      "0\n",
      "1 1 1 1\n",
      "0\n",
      "2 2 1 1\n",
      "0\n",
      "2 2 1 1\n",
      "0\n",
      "2 2 1 1\n",
      "0\n",
      "2 2 1 1\n",
      "0\n",
      "2 2 1 1\n",
      "0\n",
      "2 2 1 1\n",
      "1\n",
      "2 3 1 1\n",
      "1\n",
      "2 3 1 1\n",
      "3\n",
      "2 3 1 1\n",
      "1\n",
      "2 3 1 1\n",
      "2\n",
      "2 3 1 1\n",
      "1\n",
      "2 3 1 2\n",
      "2\n",
      "2 4 1 2\n",
      "3\n",
      "2 4 1 2\n",
      "1\n",
      "2 4 1 2\n",
      "1\n",
      "2 4 1 2\n",
      "1\n",
      "2 4 1 2\n",
      "1\n",
      "2 4 1 2\n",
      "1\n",
      "2 4 1 2\n",
      "1\n",
      "2 4 2 2\n",
      "1\n",
      "2 4 2 2\n",
      "1\n",
      "2 4 2 2\n",
      "1\n",
      "2 4 2 2\n",
      "0\n",
      "2 4 2 2\n",
      "1\n",
      "2 4 2 2\n",
      "1\n",
      "2 4 2 2\n",
      "0\n",
      "2 4 2 2\n",
      "1\n",
      "2 4 2 2\n"
     ]
    },
    {
     "name": "stderr",
     "output_type": "stream",
     "text": [
      "/Users/sanghyub/anaconda/lib/python3.6/site-packages/matplotlib/pyplot.py:514: RuntimeWarning: More than 20 figures have been opened. Figures created through the pyplot interface (`matplotlib.pyplot.figure`) are retained until explicitly closed and may consume too much memory. (To control this warning, see the rcParam `figure.max_open_warning`).\n",
      "  max_open_warning, RuntimeWarning)\n"
     ]
    },
    {
     "name": "stdout",
     "output_type": "stream",
     "text": [
      "1\n",
      "2 4 2 2\n",
      "1\n",
      "2 4 2 3\n",
      "1\n",
      "2 4 2 3\n",
      "3\n",
      "2 4 2 3\n",
      "0\n",
      "2 4 2 3\n",
      "3\n",
      "2 4 2 3\n",
      "3\n",
      "2 4 2 3\n",
      "1\n",
      "2 4 2 3\n",
      "1\n",
      "2 4 2 3\n",
      "3\n",
      "2 4 2 3\n",
      "1\n",
      "2 4 2 3\n",
      "0\n",
      "2 4 2 3\n",
      "1\n",
      "2 4 2 3\n",
      "1\n",
      "2 4 2 3\n",
      "3\n",
      "2 4 2 3\n",
      "0\n",
      "2 4 2 3\n",
      "1\n",
      "2 4 2 3\n",
      "1\n",
      "2 4 2 3\n",
      "1\n",
      "2 4 2 3\n",
      "0\n",
      "2 4 2 3\n",
      "1\n",
      "2 4 2 3\n",
      "1\n",
      "2 4 2 3\n",
      "0\n",
      "2 4 2 3\n",
      "0\n",
      "3 5 2 3\n",
      "1\n",
      "3 5 2 3\n",
      "1\n",
      "3 5 2 3\n",
      "1\n",
      "3 5 2 3\n",
      "0\n",
      "3 5 2 3\n",
      "0\n",
      "3 5 2 3\n",
      "0\n",
      "3 5 2 3\n",
      "1\n",
      "3 5 2 3\n",
      "1\n",
      "3 5 2 3\n",
      "1\n",
      "3 5 2 3\n",
      "1\n",
      "3 5 2 3\n",
      "1\n",
      "3 5 2 3\n",
      "1\n",
      "3 5 2 3\n",
      "0\n",
      "3 5 2 3\n",
      "1\n",
      "3 5 2 3\n",
      "3\n",
      "3 5 2 3\n",
      "1\n",
      "3 5 2 3\n",
      "0\n",
      "3 5 2 3\n",
      "1\n",
      "3 6 2 3\n",
      "1\n",
      "3 6 2 3\n",
      "1\n",
      "3 6 2 3\n",
      "1\n",
      "3 7 2 3\n",
      "1\n",
      "3 7 2 3\n",
      "1\n",
      "3 7 2 4\n",
      "1\n",
      "3 7 2 4\n",
      "1\n",
      "3 7 2 4\n",
      "0\n",
      "3 7 2 4\n",
      "0\n",
      "3 7 2 4\n",
      "1\n",
      "3 7 2 4\n",
      "1\n",
      "3 7 2 4\n",
      "1\n",
      "3 7 2 4\n",
      "3\n",
      "3 7 2 4\n",
      "1\n",
      "3 7 2 4\n",
      "3\n",
      "3 7 2 4\n",
      "3\n",
      "3 7 2 4\n",
      "1\n",
      "3 7 2 4\n",
      "3\n",
      "3 7 2 4\n",
      "1\n",
      "3 7 2 4\n",
      "0\n",
      "3 7 2 4\n",
      "0\n",
      "3 7 2 4\n",
      "0\n",
      "3 7 2 4\n",
      "1\n",
      "3 7 2 5\n",
      "1\n",
      "3 7 2 5\n",
      "3\n",
      "3 7 2 5\n",
      "3\n",
      "3 7 2 5\n",
      "2\n",
      "3 7 2 5\n",
      "0\n",
      "3 7 2 5\n",
      "1\n",
      "3 7 2 5\n",
      "1\n",
      "3 7 2 5\n",
      "2\n",
      "3 7 2 5\n",
      "0\n",
      "3 7 2 5\n",
      "3\n",
      "3 7 2 5\n",
      "1\n",
      "3 7 2 5\n",
      "1\n",
      "3 7 2 5\n",
      "1\n",
      "3 7 2 5\n",
      "1\n",
      "3 7 2 5\n",
      "1\n",
      "3 7 2 6\n",
      "0\n",
      "3 7 2 6\n",
      "3\n",
      "3 7 2 6\n",
      "1\n",
      "3 7 2 6\n",
      "3\n",
      "3 7 2 6\n",
      "0\n",
      "3 7 2 6\n",
      "3\n",
      "3 7 2 6\n",
      "1\n",
      "3 7 2 6\n",
      "1\n",
      "3 7 2 6\n",
      "3\n",
      "3 7 2 6\n",
      "1\n",
      "3 7 2 6\n",
      "1\n",
      "3 7 2 6\n",
      "0\n",
      "3 7 2 6\n",
      "0\n",
      "3 7 2 6\n",
      "1\n",
      "3 7 2 6\n",
      "1\n",
      "3 7 2 6\n",
      "1\n",
      "3 7 2 6\n",
      "1\n",
      "3 7 2 6\n",
      "1\n",
      "3 7 2 6\n",
      "1\n",
      "3 7 2 6\n",
      "1\n",
      "3 7 2 6\n",
      "1\n",
      "3 7 2 6\n",
      "0\n",
      "3 7 2 6\n",
      "0\n",
      "3 7 2 6\n",
      "0\n",
      "3 7 2 6\n",
      "0\n",
      "3 7 2 6\n",
      "1\n",
      "3 7 2 6\n",
      "3\n",
      "3 7 2 6\n",
      "1\n",
      "3 8 2 6\n",
      "0\n",
      "3 8 2 6\n",
      "1\n",
      "3 8 2 6\n",
      "3\n",
      "3 8 2 6\n",
      "1\n",
      "3 8 2 6\n",
      "1\n",
      "3 8 2 6\n",
      "1\n",
      "3 8 2 6\n",
      "1\n",
      "3 8 2 6\n",
      "0\n",
      "4 8 2 7\n",
      "1\n",
      "4 8 2 7\n",
      "3\n",
      "4 8 2 7\n",
      "3\n",
      "4 8 2 7\n",
      "1\n",
      "4 8 2 7\n",
      "1\n",
      "4 8 2 7\n",
      "0\n",
      "4 8 2 7\n",
      "3\n",
      "4 8 2 7\n",
      "1\n",
      "4 8 2 7\n",
      "1\n",
      "4 8 2 7\n",
      "3\n",
      "4 8 2 7\n",
      "1\n",
      "4 8 3 7\n",
      "1\n",
      "4 8 3 7\n",
      "1\n",
      "4 9 3 7\n",
      "3\n",
      "4 9 4 7\n",
      "3\n",
      "4 9 4 7\n",
      "3\n",
      "4 9 4 7\n",
      "1\n",
      "4 9 4 7\n",
      "3\n",
      "4 9 4 7\n",
      "1\n",
      "4 9 4 7\n",
      "3\n",
      "4 9 5 7\n",
      "1\n",
      "4 9 5 7\n",
      "1\n",
      "4 9 5 7\n",
      "1\n",
      "4 9 5 7\n",
      "1\n",
      "4 9 5 7\n",
      "1\n",
      "4 10 5 7\n",
      "1\n",
      "4 10 5 7\n",
      "1\n",
      "4 10 5 7\n",
      "3\n",
      "4 10 5 7\n",
      "0\n",
      "4 10 5 7\n",
      "2\n",
      "4 10 5 7\n",
      "1\n",
      "4 10 5 7\n",
      "3\n",
      "4 10 6 7\n",
      "0\n",
      "4 10 6 7\n",
      "1\n",
      "4 10 6 7\n",
      "1\n",
      "4 10 6 7\n",
      "1\n",
      "4 10 6 7\n",
      "1\n",
      "4 10 6 7\n",
      "1\n",
      "4 10 6 7\n",
      "1\n",
      "4 10 6 7\n",
      "1\n",
      "4 10 6 7\n",
      "1\n",
      "4 10 6 7\n",
      "1\n",
      "4 10 6 7\n",
      "1\n",
      "4 10 6 7\n",
      "3\n",
      "4 10 6 7\n",
      "1\n",
      "4 10 6 8\n",
      "3\n",
      "4 10 6 8\n",
      "1\n",
      "4 10 6 8\n",
      "1\n",
      "4 10 6 8\n",
      "3\n",
      "4 11 6 8\n",
      "3\n",
      "4 11 6 8\n",
      "1\n",
      "4 11 6 8\n",
      "1\n",
      "4 11 6 8\n",
      "0\n",
      "4 11 6 8\n",
      "1\n",
      "4 11 6 8\n",
      "2\n",
      "4 11 6 8\n",
      "1\n",
      "4 11 6 8\n",
      "1\n",
      "4 11 6 8\n",
      "1\n",
      "4 11 6 8\n",
      "1\n",
      "4 11 6 8\n",
      "0\n",
      "4 11 6 8\n",
      "1\n",
      "4 11 6 8\n",
      "1\n",
      "4 11 6 8\n",
      "2\n",
      "4 11 6 8\n",
      "1\n",
      "4 12 6 8\n",
      "0\n",
      "4 12 6 8\n",
      "1\n",
      "4 12 6 8\n",
      "2\n",
      "4 12 6 8\n",
      "0\n",
      "4 12 6 8\n",
      "1\n",
      "4 12 6 8\n",
      "3\n",
      "4 12 6 8\n",
      "1\n",
      "4 12 6 8\n",
      "1\n",
      "4 12 6 8\n",
      "1\n",
      "4 12 6 8\n",
      "3\n",
      "4 12 6 8\n",
      "3\n",
      "4 12 6 8\n",
      "1\n",
      "4 12 6 8\n",
      "2\n",
      "4 12 6 8\n",
      "1\n",
      "4 12 6 8\n",
      "1\n",
      "4 12 6 8\n",
      "0\n",
      "4 12 6 8\n",
      "1\n",
      "4 12 6 8\n",
      "1\n",
      "4 13 6 8\n",
      "1\n",
      "4 13 6 8\n",
      "1\n",
      "4 13 6 8\n",
      "1\n",
      "4 13 6 8\n",
      "3\n",
      "4 13 6 8\n",
      "1\n",
      "4 13 6 8\n",
      "1\n",
      "4 13 6 8\n",
      "1\n",
      "4 13 6 8\n",
      "3\n",
      "4 13 6 8\n",
      "1\n",
      "4 13 6 8\n",
      "1\n",
      "4 13 6 8\n",
      "3\n",
      "4 13 6 8\n",
      "1\n",
      "4 13 6 8\n",
      "1\n",
      "4 13 6 8\n",
      "1\n",
      "4 13 6 9\n",
      "1\n",
      "4 14 6 9\n",
      "3\n",
      "4 14 7 9\n",
      "1\n",
      "4 14 7 9\n",
      "1\n",
      "4 14 7 9\n",
      "1\n",
      "4 14 7 9\n",
      "1\n",
      "4 14 7 10\n",
      "3\n",
      "4 15 7 10\n",
      "1\n",
      "4 15 7 10\n",
      "3\n",
      "4 15 7 10\n",
      "1\n",
      "4 15 7 10\n",
      "3\n",
      "4 15 7 10\n",
      "1\n",
      "4 15 7 10\n",
      "1\n",
      "4 15 7 10\n",
      "1\n",
      "4 15 7 10\n",
      "2\n",
      "4 15 7 10\n",
      "2\n",
      "4 15 7 10\n",
      "1\n",
      "4 15 7 10\n",
      "1\n",
      "4 15 7 11\n",
      "3\n",
      "4 15 7 11\n",
      "3\n",
      "4 15 7 11\n",
      "1\n",
      "4 15 7 11\n",
      "1\n",
      "4 15 7 11\n",
      "1\n",
      "4 15 7 11\n",
      "1\n",
      "4 15 7 11\n",
      "1\n",
      "4 15 7 11\n",
      "1\n",
      "4 15 7 11\n",
      "1\n",
      "4 15 7 11\n",
      "1\n",
      "4 15 7 11\n",
      "1\n",
      "4 15 7 11\n",
      "1\n",
      "4 15 7 11\n",
      "1\n",
      "4 15 7 11\n",
      "1\n",
      "4 15 7 11\n",
      "1\n",
      "4 15 7 11\n",
      "3\n",
      "4 15 7 11\n",
      "1\n",
      "4 15 7 11\n",
      "1\n",
      "4 15 7 12\n",
      "1\n",
      "4 15 7 12\n",
      "1\n",
      "4 15 7 12\n",
      "0\n",
      "4 15 7 12\n",
      "1\n",
      "4 16 7 12\n",
      "1\n",
      "4 16 7 12\n",
      "3\n",
      "4 16 7 12\n",
      "1\n",
      "4 16 7 12\n",
      "1\n",
      "4 16 7 12\n",
      "3\n",
      "4 16 7 13\n",
      "1\n",
      "4 16 7 13\n",
      "1\n",
      "4 16 8 13\n",
      "1\n",
      "4 16 8 14\n",
      "1\n",
      "4 16 8 14\n",
      "1\n",
      "4 16 8 14\n",
      "1\n",
      "4 16 8 14\n",
      "1\n",
      "4 16 8 14\n",
      "3\n",
      "4 16 8 14\n",
      "1\n",
      "4 16 8 14\n",
      "1\n",
      "4 16 8 14\n",
      "1\n",
      "4 16 8 14\n",
      "3\n",
      "4 16 8 14\n",
      "3\n",
      "4 16 8 14\n",
      "1\n",
      "4 16 9 14\n",
      "3\n",
      "4 16 9 15\n",
      "1\n",
      "4 16 9 15\n",
      "1\n",
      "4 16 9 15\n",
      "3\n",
      "4 16 9 15\n",
      "3\n",
      "4 17 9 15\n",
      "3\n",
      "4 17 9 15\n",
      "1\n",
      "4 17 9 15\n",
      "3\n",
      "4 18 9 15\n",
      "1\n",
      "4 18 9 15\n",
      "1\n",
      "4 18 9 15\n",
      "1\n",
      "4 18 9 15\n",
      "1\n",
      "4 18 9 15\n",
      "3\n",
      "4 18 9 15\n",
      "0\n",
      "4 18 9 15\n",
      "3\n",
      "4 18 9 15\n",
      "1\n",
      "4 18 9 15\n",
      "1\n",
      "4 18 9 15\n",
      "1\n",
      "4 18 9 15\n",
      "1\n",
      "4 18 9 15\n",
      "1\n",
      "4 18 9 15\n",
      "1\n",
      "4 18 9 15\n",
      "1\n",
      "4 18 9 15\n",
      "1\n",
      "4 19 9 15\n",
      "1\n",
      "4 19 9 15\n",
      "0\n",
      "4 19 9 15\n",
      "3\n",
      "4 20 9 15\n",
      "1\n",
      "4 20 9 15\n",
      "1\n",
      "4 20 9 15\n",
      "3\n",
      "4 20 9 15\n",
      "1\n",
      "4 20 9 15\n",
      "1\n",
      "4 20 9 15\n",
      "1\n",
      "4 20 9 15\n",
      "1\n",
      "4 20 9 15\n",
      "1\n",
      "4 20 9 15\n",
      "1\n",
      "4 20 9 15\n",
      "1\n",
      "4 20 9 15\n",
      "1\n",
      "4 20 9 15\n",
      "1\n",
      "4 20 9 15\n",
      "1\n",
      "4 20 9 15\n",
      "1\n",
      "4 20 9 15\n",
      "1\n",
      "4 20 9 15\n",
      "3\n",
      "4 20 9 15\n",
      "3\n",
      "4 20 9 15\n",
      "1\n",
      "4 20 9 15\n",
      "3\n",
      "4 20 9 15\n",
      "1\n",
      "4 20 9 15\n",
      "3\n",
      "4 21 9 15\n",
      "1\n",
      "4 21 9 15\n",
      "1\n",
      "4 21 9 15\n",
      "1\n",
      "4 22 9 15\n",
      "1\n",
      "4 22 9 15\n",
      "1\n",
      "4 22 9 15\n",
      "1\n",
      "4 22 9 15\n",
      "1\n",
      "4 22 9 15\n",
      "3\n",
      "4 22 9 15\n",
      "3\n",
      "4 23 9 15\n",
      "1\n",
      "4 23 9 15\n",
      "1\n",
      "4 23 9 15\n",
      "1\n",
      "4 23 9 15\n",
      "1\n",
      "4 23 9 15\n",
      "1\n",
      "4 23 9 15\n",
      "1\n",
      "4 23 9 15\n",
      "1\n",
      "4 23 9 15\n",
      "1\n",
      "4 23 9 15\n",
      "1\n",
      "4 23 9 15\n",
      "1\n",
      "4 23 9 15\n",
      "1\n",
      "4 23 9 15\n",
      "0\n",
      "4 23 9 15\n",
      "1\n",
      "4 23 9 15\n",
      "1\n",
      "4 23 9 15\n",
      "1\n",
      "4 23 9 15\n",
      "1\n",
      "4 23 9 15\n",
      "1\n",
      "4 23 9 15\n",
      "0\n",
      "4 23 9 15\n",
      "1\n",
      "4 23 9 15\n",
      "1\n",
      "4 23 9 15\n",
      "1\n",
      "4 23 9 15\n",
      "1\n",
      "4 23 10 15\n",
      "1\n",
      "4 23 10 15\n",
      "1\n",
      "4 23 10 15\n",
      "0\n",
      "5 23 11 15\n",
      "1\n",
      "5 23 11 15\n",
      "1\n",
      "5 23 11 15\n",
      "0\n",
      "5 23 11 15\n",
      "1\n",
      "5 23 11 15\n",
      "1\n",
      "5 24 11 15\n",
      "1\n",
      "5 24 11 15\n",
      "1\n",
      "5 24 11 15\n",
      "1\n",
      "5 24 11 15\n",
      "1\n",
      "5 24 11 15\n",
      "1\n",
      "5 24 11 15\n",
      "1\n",
      "5 24 11 15\n",
      "0\n",
      "5 24 11 15\n",
      "1\n",
      "5 24 11 15\n",
      "1\n",
      "5 24 11 15\n",
      "1\n",
      "5 24 11 15\n",
      "1\n",
      "5 24 11 15\n",
      "1\n",
      "5 24 11 15\n",
      "1\n",
      "5 24 11 15\n",
      "1\n",
      "5 24 11 16\n",
      "1\n",
      "5 24 11 16\n",
      "0\n",
      "5 24 11 16\n",
      "1\n",
      "5 24 11 17\n",
      "1\n",
      "5 24 11 17\n",
      "1\n",
      "5 24 11 17\n",
      "1\n",
      "5 24 11 17\n",
      "1\n",
      "5 24 11 17\n",
      "0\n",
      "5 24 11 17\n",
      "1\n",
      "5 24 11 17\n",
      "1\n",
      "5 24 11 17\n",
      "1\n",
      "5 24 11 17\n",
      "1\n",
      "5 24 11 17\n",
      "1\n",
      "5 25 11 17\n",
      "1\n",
      "5 25 11 17\n",
      "1\n",
      "5 25 11 17\n",
      "1\n",
      "5 25 11 17\n",
      "1\n",
      "5 25 11 17\n",
      "1\n",
      "5 25 11 17\n",
      "1\n",
      "5 26 11 17\n",
      "3\n",
      "5 26 11 17\n",
      "3\n",
      "5 26 11 17\n",
      "1\n",
      "5 27 11 17\n",
      "1\n",
      "5 27 11 17\n",
      "1\n",
      "5 27 11 17\n",
      "1\n",
      "5 27 11 17\n",
      "1\n",
      "5 27 11 17\n",
      "1\n",
      "5 27 11 17\n",
      "1\n",
      "5 27 11 17\n",
      "1\n",
      "5 27 12 17\n",
      "1\n",
      "5 27 12 17\n",
      "1\n",
      "5 27 12 17\n",
      "1\n",
      "5 27 12 17\n",
      "1\n",
      "5 27 12 17\n",
      "3\n",
      "5 27 12 17\n",
      "1\n",
      "5 27 12 17\n",
      "1\n",
      "5 27 12 17\n",
      "1\n",
      "5 27 12 17\n",
      "1\n",
      "5 27 12 17\n",
      "1\n",
      "5 27 12 17\n",
      "1\n",
      "5 28 12 17\n",
      "1\n",
      "5 28 12 17\n",
      "1\n",
      "5 28 12 17\n",
      "1\n",
      "5 28 12 17\n",
      "1\n",
      "5 28 12 17\n",
      "1\n",
      "5 28 12 17\n",
      "1\n",
      "5 29 12 17\n",
      "0\n",
      "5 29 12 17\n",
      "1\n",
      "5 29 12 17\n",
      "1\n",
      "5 29 12 17\n",
      "1\n",
      "5 29 12 17\n",
      "1\n",
      "5 29 12 17\n",
      "1\n",
      "5 29 12 17\n",
      "3\n",
      "5 29 12 17\n",
      "1\n",
      "5 29 12 17\n",
      "1\n",
      "5 30 12 17\n",
      "1\n",
      "5 30 12 17\n",
      "1\n",
      "5 30 12 17\n",
      "1\n",
      "5 31 12 17\n",
      "1\n",
      "5 31 12 17\n",
      "1\n",
      "5 31 12 17\n",
      "1\n",
      "5 31 12 17\n",
      "1\n",
      "5 31 12 17\n",
      "1\n",
      "5 31 12 17\n",
      "1\n",
      "5 31 12 17\n",
      "1\n",
      "5 31 12 17\n",
      "1\n",
      "5 31 12 17\n",
      "1\n",
      "5 31 12 17\n",
      "1\n",
      "5 31 13 17\n",
      "1\n",
      "5 31 13 17\n",
      "1\n",
      "5 31 13 17\n",
      "1\n",
      "5 31 13 17\n",
      "1\n",
      "5 31 13 17\n",
      "1\n",
      "5 31 13 17\n",
      "1\n",
      "5 31 13 17\n",
      "1\n",
      "5 31 13 17\n",
      "1\n",
      "5 31 13 17\n",
      "1\n",
      "5 31 13 17\n",
      "1\n",
      "5 31 13 17\n",
      "0\n",
      "5 31 13 17\n",
      "1\n",
      "5 31 13 17\n",
      "1\n",
      "5 31 13 17\n",
      "1\n",
      "5 31 13 17\n",
      "1\n",
      "5 31 13 17\n",
      "1\n",
      "5 31 13 17\n",
      "0\n",
      "5 31 13 17\n",
      "1\n",
      "5 31 13 17\n",
      "1\n",
      "5 31 13 17\n",
      "1\n",
      "5 31 13 17\n",
      "1\n",
      "5 31 13 17\n",
      "1\n",
      "5 31 13 18\n",
      "1\n",
      "5 31 13 18\n",
      "1\n",
      "5 31 13 18\n",
      "1\n",
      "5 31 13 18\n",
      "1\n",
      "5 31 13 18\n",
      "1\n",
      "5 31 13 18\n",
      "3\n",
      "5 31 13 18\n",
      "1\n",
      "5 31 13 18\n",
      "1\n",
      "5 31 13 18\n",
      "1\n",
      "5 31 13 18\n",
      "1\n",
      "5 31 13 18\n",
      "1\n",
      "5 31 13 18\n",
      "1\n",
      "5 31 13 18\n",
      "1\n",
      "5 31 13 18\n",
      "1\n",
      "5 31 13 18\n",
      "1\n",
      "5 31 13 18\n",
      "0\n",
      "6 32 13 18\n",
      "1\n",
      "6 32 13 18\n",
      "1\n",
      "6 32 13 19\n",
      "1\n",
      "6 32 13 19\n",
      "1\n",
      "6 32 13 19\n",
      "1\n",
      "6 32 13 19\n",
      "1\n",
      "6 32 13 19\n",
      "1\n",
      "6 32 13 19\n",
      "1\n",
      "6 32 13 19\n",
      "1\n",
      "6 32 13 19\n",
      "1\n",
      "6 32 13 19\n",
      "1\n",
      "6 32 13 19\n",
      "0\n",
      "6 32 13 19\n",
      "1\n",
      "6 32 13 19\n",
      "1\n",
      "6 32 13 20\n",
      "1\n",
      "6 32 13 20\n",
      "1\n",
      "6 32 13 20\n",
      "3\n",
      "6 32 13 20\n",
      "1\n",
      "6 32 13 20\n",
      "1\n",
      "6 32 13 20\n",
      "1\n",
      "6 32 13 20\n",
      "1\n",
      "6 32 13 20\n",
      "1\n",
      "6 32 13 20\n",
      "1\n",
      "6 32 13 20\n",
      "1\n",
      "6 32 13 20\n",
      "1\n",
      "6 32 13 20\n",
      "0\n",
      "6 32 13 20\n",
      "1\n",
      "6 32 13 20\n",
      "1\n",
      "6 32 13 20\n",
      "1\n",
      "6 32 13 21\n",
      "1\n",
      "6 32 13 21\n",
      "1\n",
      "6 32 13 21\n",
      "1\n",
      "6 32 13 21\n",
      "1\n",
      "6 33 13 21\n",
      "1\n",
      "6 33 13 21\n",
      "1\n",
      "6 33 13 21\n",
      "1\n",
      "6 33 13 21\n",
      "1\n",
      "6 33 13 21\n",
      "1\n",
      "6 33 13 21\n",
      "1\n",
      "6 33 13 21\n",
      "1\n",
      "6 33 13 21\n",
      "1\n",
      "6 33 13 21\n",
      "1\n",
      "6 33 13 21\n",
      "1\n",
      "6 33 14 21\n",
      "1\n",
      "6 33 14 21\n",
      "1\n",
      "6 33 14 21\n",
      "1\n",
      "6 33 14 21\n",
      "1\n",
      "6 33 14 21\n",
      "1\n",
      "6 33 14 21\n",
      "1\n",
      "6 33 14 21\n",
      "1\n",
      "6 33 14 21\n",
      "1\n",
      "6 33 14 21\n",
      "1\n",
      "6 33 14 21\n",
      "1\n",
      "6 33 14 21\n",
      "1\n",
      "6 33 14 21\n",
      "1\n",
      "6 33 14 21\n",
      "1\n",
      "6 33 14 22\n",
      "1\n",
      "6 33 14 22\n",
      "1\n",
      "6 33 14 22\n",
      "1\n",
      "6 33 14 22\n",
      "1\n",
      "6 33 14 22\n",
      "1\n",
      "6 33 14 22\n",
      "1\n",
      "6 33 14 22\n",
      "1\n",
      "6 33 14 22\n",
      "1\n",
      "6 33 14 22\n",
      "0\n",
      "6 33 14 22\n",
      "1\n",
      "6 34 14 22\n",
      "1\n",
      "6 34 14 22\n",
      "1\n",
      "6 34 14 22\n",
      "1\n",
      "6 34 14 22\n",
      "1\n",
      "6 34 14 22\n",
      "1\n",
      "6 34 14 22\n",
      "1\n",
      "6 34 14 22\n",
      "1\n",
      "6 34 14 22\n",
      "1\n",
      "6 34 14 22\n",
      "1\n",
      "6 34 14 22\n",
      "1\n",
      "6 34 14 22\n",
      "0\n",
      "6 34 14 22\n",
      "1\n",
      "6 34 14 22\n",
      "1\n",
      "6 34 14 22\n",
      "1\n",
      "6 34 14 22\n",
      "1\n",
      "6 34 14 22\n",
      "1\n",
      "6 34 14 22\n",
      "1\n",
      "6 34 14 22\n",
      "1\n",
      "6 34 14 22\n",
      "1\n",
      "6 34 14 22\n",
      "1\n",
      "6 34 14 22\n",
      "1\n",
      "6 34 14 22\n",
      "1\n",
      "6 34 14 22\n",
      "1\n",
      "6 34 14 22\n",
      "1\n",
      "6 34 14 22\n",
      "1\n",
      "6 34 14 22\n",
      "1\n",
      "6 34 14 22\n",
      "1\n",
      "6 34 14 22\n",
      "1\n",
      "6 34 14 22\n",
      "1\n",
      "6 34 14 22\n",
      "1\n",
      "6 34 14 22\n",
      "1\n",
      "6 34 14 22\n",
      "1\n",
      "6 34 14 22\n",
      "0\n",
      "6 34 14 22\n",
      "1\n",
      "6 34 14 22\n",
      "1\n",
      "6 34 14 22\n",
      "1\n",
      "6 34 14 22\n",
      "1\n",
      "6 34 14 22\n",
      "1\n",
      "6 34 14 22\n",
      "0\n",
      "6 34 14 22\n",
      "1\n",
      "6 34 14 22\n",
      "1\n",
      "6 34 14 22\n",
      "1\n",
      "6 34 14 22\n",
      "0\n",
      "6 34 14 22\n",
      "1\n",
      "6 34 14 22\n",
      "1\n",
      "6 34 14 22\n",
      "1\n",
      "6 34 15 22\n",
      "1\n",
      "6 34 15 23\n",
      "1\n",
      "6 34 15 23\n",
      "1\n",
      "6 34 15 23\n",
      "1\n",
      "6 34 15 23\n",
      "1\n",
      "6 34 15 23\n",
      "1\n",
      "6 34 15 23\n",
      "1\n",
      "6 34 15 23\n",
      "1\n",
      "6 34 15 23\n",
      "3\n",
      "6 34 15 23\n",
      "3\n",
      "6 34 15 24\n",
      "1\n",
      "6 34 15 24\n",
      "1\n",
      "6 34 15 24\n",
      "1\n",
      "6 34 15 24\n",
      "1\n",
      "6 34 15 24\n",
      "1\n",
      "6 34 15 24\n",
      "1\n",
      "6 34 15 24\n",
      "1\n",
      "6 34 15 24\n",
      "1\n",
      "6 34 15 24\n",
      "1\n",
      "6 34 15 24\n",
      "3\n",
      "6 34 15 24\n",
      "1\n",
      "6 34 15 24\n",
      "1\n",
      "6 34 15 24\n",
      "1\n",
      "6 35 15 24\n",
      "1\n",
      "6 35 15 24\n",
      "1\n",
      "6 35 15 24\n",
      "1\n",
      "6 35 15 24\n",
      "0\n",
      "6 35 15 24\n",
      "0\n",
      "6 35 15 24\n",
      "3\n",
      "6 35 15 24\n",
      "1\n",
      "6 35 16 24\n",
      "1\n",
      "6 35 16 25\n",
      "3\n",
      "6 36 16 25\n",
      "1\n",
      "6 36 16 25\n",
      "1\n",
      "6 36 16 25\n",
      "1\n",
      "6 36 16 25\n",
      "1\n",
      "6 36 17 25\n",
      "1\n",
      "6 36 17 26\n",
      "0\n",
      "6 36 17 26\n",
      "1\n",
      "6 36 17 26\n",
      "1\n",
      "6 36 17 26\n",
      "1\n",
      "6 36 17 26\n",
      "1\n",
      "6 36 17 26\n",
      "1\n",
      "6 36 17 26\n",
      "1\n",
      "6 36 17 26\n",
      "1\n",
      "6 36 17 26\n",
      "1\n",
      "6 36 17 26\n",
      "1\n",
      "6 36 17 26\n",
      "1\n",
      "6 36 17 26\n",
      "1\n",
      "6 36 17 27\n",
      "1\n",
      "6 36 17 27\n",
      "0\n",
      "6 36 17 27\n",
      "1\n",
      "6 36 17 27\n",
      "1\n",
      "6 36 17 27\n",
      "1\n",
      "6 36 17 27\n",
      "1\n",
      "6 36 17 27\n",
      "1\n",
      "6 36 17 27\n",
      "1\n",
      "6 36 17 27\n",
      "1\n",
      "6 36 17 27\n",
      "1\n",
      "6 36 17 27\n",
      "1\n",
      "6 36 17 27\n",
      "1\n",
      "6 36 17 27\n",
      "1\n",
      "6 36 17 27\n",
      "1\n",
      "6 36 17 27\n",
      "1\n",
      "6 36 17 28\n",
      "3\n",
      "6 37 17 28\n",
      "1\n",
      "6 37 17 28\n",
      "1\n",
      "6 37 17 28\n",
      "1\n",
      "6 37 17 28\n",
      "0\n",
      "6 37 17 28\n",
      "1\n",
      "6 37 17 29\n",
      "1\n",
      "6 37 17 29\n",
      "1\n",
      "6 37 17 29\n",
      "3\n",
      "6 37 17 29\n",
      "1\n",
      "6 37 17 29\n",
      "1\n",
      "6 37 17 29\n",
      "1\n",
      "6 37 17 29\n",
      "1\n",
      "6 37 17 29\n",
      "1\n",
      "6 37 17 29\n",
      "1\n",
      "6 37 17 29\n",
      "1\n",
      "6 37 17 29\n",
      "1\n",
      "6 37 18 29\n",
      "1\n",
      "6 37 18 29\n",
      "1\n",
      "6 37 18 29\n",
      "0\n",
      "6 37 18 29\n",
      "3\n",
      "6 37 18 30\n",
      "1\n",
      "6 37 18 30\n",
      "1\n",
      "6 37 18 30\n",
      "1\n",
      "6 37 18 31\n",
      "3\n",
      "6 37 18 31\n",
      "1\n",
      "6 37 18 31\n",
      "1\n",
      "6 37 18 31\n",
      "3\n",
      "6 37 18 31\n",
      "3\n",
      "6 37 18 31\n",
      "1\n",
      "6 37 18 31\n",
      "1\n",
      "6 37 18 31\n",
      "1\n",
      "6 37 18 31\n",
      "3\n",
      "6 37 18 31\n",
      "1\n",
      "6 37 18 31\n"
     ]
    },
    {
     "name": "stdout",
     "output_type": "stream",
     "text": [
      "1\n",
      "6 37 18 31\n",
      "1\n",
      "6 37 18 31\n",
      "0\n",
      "6 37 18 31\n",
      "1\n",
      "6 37 18 31\n",
      "1\n",
      "6 37 18 31\n",
      "1\n",
      "6 37 18 31\n",
      "1\n",
      "6 37 18 31\n",
      "1\n",
      "6 37 18 31\n",
      "1\n",
      "6 37 18 31\n",
      "1\n",
      "6 37 18 31\n",
      "3\n",
      "6 37 18 31\n",
      "1\n",
      "6 37 18 31\n",
      "3\n",
      "6 37 18 31\n",
      "1\n",
      "6 37 18 31\n",
      "1\n",
      "6 37 18 31\n",
      "1\n",
      "6 37 18 31\n",
      "1\n",
      "6 37 18 31\n",
      "1\n",
      "6 37 18 31\n",
      "1\n",
      "6 37 18 31\n",
      "1\n",
      "6 37 18 31\n",
      "1\n",
      "6 37 18 31\n",
      "1\n",
      "6 37 18 31\n",
      "1\n",
      "6 37 18 31\n",
      "0\n",
      "6 37 18 31\n",
      "1\n",
      "6 37 18 31\n",
      "3\n",
      "6 37 18 31\n",
      "1\n",
      "6 37 18 31\n",
      "1\n",
      "6 37 18 31\n",
      "1\n",
      "6 37 18 31\n",
      "1\n",
      "6 37 18 31\n",
      "1\n",
      "6 37 18 31\n",
      "1\n",
      "6 37 18 31\n",
      "1\n",
      "6 37 18 31\n",
      "1\n",
      "6 37 18 31\n",
      "1\n",
      "6 37 18 32\n",
      "1\n",
      "6 37 18 32\n",
      "1\n",
      "6 37 18 32\n",
      "1\n",
      "6 37 18 32\n",
      "1\n",
      "6 37 18 32\n",
      "3\n",
      "6 37 18 32\n",
      "1\n",
      "6 37 18 32\n",
      "1\n",
      "6 37 18 32\n",
      "1\n",
      "6 37 18 32\n",
      "3\n",
      "6 37 18 32\n",
      "3\n",
      "6 37 18 32\n",
      "1\n",
      "6 37 18 32\n",
      "1\n",
      "6 37 18 32\n",
      "1\n",
      "6 37 18 32\n",
      "1\n",
      "6 37 18 32\n",
      "1\n",
      "6 37 18 32\n",
      "1\n",
      "6 37 18 32\n",
      "1\n",
      "6 37 18 32\n",
      "3\n",
      "6 37 18 33\n",
      "1\n",
      "6 37 18 33\n",
      "1\n",
      "6 37 18 33\n",
      "1\n",
      "6 37 18 34\n",
      "3\n",
      "6 37 18 34\n",
      "3\n",
      "6 37 18 34\n",
      "1\n",
      "6 37 18 34\n",
      "1\n",
      "6 37 18 34\n",
      "1\n",
      "6 37 18 34\n",
      "1\n",
      "6 37 18 34\n",
      "0\n",
      "6 37 18 34\n",
      "3\n",
      "6 37 18 34\n",
      "3\n",
      "6 37 18 34\n",
      "3\n",
      "6 37 18 34\n",
      "1\n",
      "6 37 18 34\n",
      "1\n",
      "6 37 18 34\n",
      "1\n",
      "6 37 18 34\n",
      "1\n",
      "6 37 18 34\n",
      "1\n",
      "6 37 18 34\n",
      "3\n",
      "6 37 18 34\n",
      "1\n",
      "6 37 18 34\n",
      "1\n",
      "6 37 18 34\n",
      "1\n",
      "6 37 18 34\n",
      "1\n",
      "6 37 18 34\n",
      "3\n",
      "6 37 18 34\n",
      "1\n",
      "6 37 18 34\n",
      "1\n",
      "6 37 18 34\n",
      "1\n",
      "6 37 18 34\n",
      "1\n",
      "6 37 18 34\n",
      "3\n",
      "6 37 18 34\n",
      "3\n",
      "6 37 18 34\n",
      "1\n",
      "6 37 18 34\n",
      "1\n",
      "6 37 18 34\n",
      "3\n",
      "6 37 18 35\n",
      "1\n",
      "6 37 18 35\n",
      "3\n",
      "6 37 18 35\n",
      "1\n",
      "6 37 18 35\n",
      "3\n",
      "6 37 18 35\n",
      "1\n",
      "6 37 18 35\n",
      "1\n",
      "6 37 18 35\n",
      "1\n",
      "6 37 18 35\n",
      "1\n",
      "6 37 18 35\n",
      "3\n",
      "6 37 18 35\n",
      "1\n",
      "6 38 18 35\n",
      "1\n",
      "6 38 18 35\n",
      "1\n",
      "6 38 18 35\n",
      "1\n",
      "6 38 18 35\n",
      "3\n",
      "6 38 18 35\n",
      "3\n",
      "6 38 18 35\n",
      "1\n",
      "6 38 18 35\n",
      "3\n",
      "6 38 19 35\n",
      "1\n",
      "6 38 19 35\n",
      "1\n",
      "6 38 19 35\n",
      "1\n",
      "6 38 19 35\n",
      "3\n",
      "6 38 19 35\n",
      "1\n",
      "6 38 19 35\n",
      "3\n",
      "6 38 19 35\n",
      "3\n",
      "6 38 19 35\n",
      "1\n",
      "6 38 19 35\n",
      "1\n",
      "6 38 19 35\n",
      "1\n",
      "6 38 19 35\n",
      "1\n",
      "6 38 19 35\n",
      "3\n",
      "6 38 19 35\n",
      "0\n",
      "7 38 19 36\n",
      "1\n",
      "7 38 19 36\n",
      "3\n",
      "7 38 19 36\n",
      "1\n",
      "7 38 19 36\n",
      "3\n",
      "7 38 19 36\n",
      "3\n",
      "7 38 19 36\n",
      "3\n",
      "7 38 19 36\n",
      "3\n",
      "7 38 19 36\n",
      "3\n",
      "7 38 19 36\n",
      "3\n",
      "7 38 19 36\n",
      "1\n",
      "7 38 19 36\n",
      "1\n",
      "7 38 19 36\n",
      "1\n",
      "7 38 19 36\n",
      "3\n",
      "7 39 19 36\n",
      "1\n",
      "7 39 19 36\n",
      "0\n",
      "8 39 19 37\n",
      "0\n",
      "8 39 19 37\n",
      "1\n",
      "8 39 19 37\n",
      "1\n",
      "8 39 19 37\n",
      "1\n",
      "8 39 19 37\n",
      "3\n",
      "8 39 20 37\n",
      "1\n",
      "8 39 20 37\n",
      "3\n",
      "8 39 20 37\n",
      "1\n",
      "8 39 20 37\n",
      "1\n",
      "8 39 20 38\n",
      "1\n",
      "8 39 20 38\n",
      "1\n",
      "8 39 20 38\n",
      "3\n",
      "8 39 20 38\n",
      "0\n",
      "8 39 20 38\n",
      "3\n",
      "8 39 20 38\n",
      "1\n",
      "8 39 20 38\n",
      "1\n",
      "8 39 20 38\n",
      "3\n",
      "8 39 20 38\n",
      "3\n",
      "8 39 20 38\n",
      "1\n",
      "8 39 20 38\n",
      "3\n",
      "8 39 21 38\n",
      "1\n",
      "8 39 21 38\n",
      "3\n",
      "8 39 21 38\n",
      "3\n",
      "8 39 22 38\n",
      "1\n",
      "8 39 22 38\n",
      "1\n",
      "8 39 22 38\n",
      "0\n",
      "8 39 22 38\n",
      "1\n",
      "8 39 22 38\n",
      "1\n",
      "8 39 22 38\n",
      "3\n",
      "8 39 22 38\n",
      "3\n",
      "8 39 22 39\n",
      "1\n",
      "8 39 22 39\n",
      "1\n",
      "8 39 23 39\n",
      "3\n",
      "8 39 23 39\n",
      "3\n",
      "8 39 23 39\n",
      "0\n",
      "8 39 23 39\n",
      "1\n",
      "8 39 23 39\n",
      "3\n",
      "8 39 23 39\n",
      "1\n",
      "8 39 23 39\n",
      "1\n",
      "8 39 23 40\n",
      "1\n",
      "8 39 23 40\n",
      "3\n",
      "8 39 23 40\n",
      "3\n",
      "8 39 23 40\n",
      "3\n",
      "8 39 23 40\n",
      "3\n",
      "8 39 23 40\n",
      "3\n",
      "8 39 23 40\n",
      "1\n",
      "8 39 23 40\n",
      "3\n",
      "8 39 23 40\n",
      "3\n",
      "8 39 23 40\n"
     ]
    },
    {
     "data": {
      "text/plain": [
       "[<matplotlib.lines.Line2D at 0x125d169b0>]"
      ]
     },
     "execution_count": 9,
     "metadata": {},
     "output_type": "execute_result"
    },
    {
     "data": {
      "image/png": "[encoded data removed]",
      "text/plain": [
       "<Figure size 432x288 with 1 Axes>"
      ]
     },
     "metadata": {
      "needs_background": "light"
     },
     "output_type": "display_data"
    },
    {
     "data": {
      "image/png": "[encoded data removed]",
      "text/plain": [
       "<Figure size 432x288 with 1 Axes>"
      ]
     },
     "metadata": {
      "needs_background": "light"
     },
     "output_type": "display_data"
    },
    {
     "data": {
      "image/png": "[encoded data removed]",
      "text/plain": [
       "<Figure size 432x288 with 1 Axes>"
      ]
     },
     "metadata": {
      "needs_background": "light"
     },
     "output_type": "display_data"
    },
    {
     "data": {
      "image/png": "[encoded data removed]",
      "text/plain": [
       "<Figure size 432x288 with 1 Axes>"
      ]
     },
     "metadata": {
      "needs_background": "light"
     },
     "output_type": "display_data"
    },
    {
     "data": {
      "image/png": "[encoded data removed]",
      "text/plain": [
       "<Figure size 432x288 with 1 Axes>"
      ]
     },
     "metadata": {
      "needs_background": "light"
     },
     "output_type": "display_data"
    },
    {
     "data": {
      "image/png": "[encoded data removed]",
      "text/plain": [
       "<Figure size 432x288 with 1 Axes>"
      ]
     },
     "metadata": {
      "needs_background": "light"
     },
     "output_type": "display_data"
    },
    {
     "data": {
      "image/png": "[encoded data removed]",
      "text/plain": [
       "<Figure size 432x288 with 1 Axes>"
      ]
     },
     "metadata": {
      "needs_background": "light"
     },
     "output_type": "display_data"
    },
    {
     "data": {
      "image/png": "[encoded data removed]",
      "text/plain": [
       "<Figure size 432x288 with 1 Axes>"
      ]
     },
     "metadata": {
      "needs_background": "light"
     },
     "output_type": "display_data"
    },
    {
     "data": {
      "image/png": "[encoded data removed]",
      "text/plain": [
       "<Figure size 432x288 with 1 Axes>"
      ]
     },
     "metadata": {
      "needs_background": "light"
     },
     "output_type": "display_data"
    },
    {
     "data": {
      "image/png": "[encoded data removed]",
      "text/plain": [
       "<Figure size 432x288 with 1 Axes>"
      ]
     },
     "metadata": {
      "needs_background": "light"
     },
     "output_type": "display_data"
    },
    {
     "data": {
      "image/png": "[encoded data removed]",
      "text/plain": [
       "<Figure size 432x288 with 1 Axes>"
      ]
     },
     "metadata": {
      "needs_background": "light"
     },
     "output_type": "display_data"
    },
    {
     "data": {
      "image/png": "[encoded data removed]",
      "text/plain": [
       "<Figure size 432x288 with 1 Axes>"
      ]
     },
     "metadata": {
      "needs_background": "light"
     },
     "output_type": "display_data"
    },
    {
     "data": {
      "image/png": "[encoded data removed]",
      "text/plain": [
       "<Figure size 432x288 with 1 Axes>"
      ]
     },
     "metadata": {
      "needs_background": "light"
     },
     "output_type": "display_data"
    },
    {
     "data": {
      "image/png": "[encoded data removed]",
      "text/plain": [
       "<Figure size 432x288 with 1 Axes>"
      ]
     },
     "metadata": {
      "needs_background": "light"
     },
     "output_type": "display_data"
    },
    {
     "data": {
      "image/png": "[encoded data removed]",
      "text/plain": [
       "<Figure size 432x288 with 1 Axes>"
      ]
     },
     "metadata": {
      "needs_background": "light"
     },
     "output_type": "display_data"
    },
    {
     "data": {
      "image/png": "[encoded data removed]",
      "text/plain": [
       "<Figure size 432x288 with 1 Axes>"
      ]
     },
     "metadata": {
      "needs_background": "light"
     },
     "output_type": "display_data"
    },
    {
     "data": {
      "image/png": "[encoded data removed]",
      "text/plain": [
       "<Figure size 432x288 with 1 Axes>"
      ]
     },
     "metadata": {
      "needs_background": "light"
     },
     "output_type": "display_data"
    },
    {
     "data": {
      "image/png": "[encoded data removed]",
      "text/plain": [
       "<Figure size 432x288 with 1 Axes>"
      ]
     },
     "metadata": {
      "needs_background": "light"
     },
     "output_type": "display_data"
    },
    {
     "data": {
      "image/png": "[encoded data removed]",
      "text/plain": [
       "<Figure size 432x288 with 1 Axes>"
      ]
     },
     "metadata": {
      "needs_background": "light"
     },
     "output_type": "display_data"
    },
    {
     "data": {
      "image/png": "[encoded data removed]",
      "text/plain": [
       "<Figure size 432x288 with 1 Axes>"
      ]
     },
     "metadata": {
      "needs_background": "light"
     },
     "output_type": "display_data"
    },
    {
     "data": {
      "image/png": "[encoded data removed]",
      "text/plain": [
       "<Figure size 432x288 with 1 Axes>"
      ]
     },
     "metadata": {
      "needs_background": "light"
     },
     "output_type": "display_data"
    },
    {
     "data": {
      "image/png": "[encoded data removed]",
      "text/plain": [
       "<Figure size 432x288 with 1 Axes>"
      ]
     },
     "metadata": {
      "needs_background": "light"
     },
     "output_type": "display_data"
    },
    {
     "data": {
      "image/png": "[encoded data removed]",
      "text/plain": [
       "<Figure size 432x288 with 1 Axes>"
      ]
     },
     "metadata": {
      "needs_background": "light"
     },
     "output_type": "display_data"
    },
    {
     "data": {
      "image/png": "[encoded data removed]",
      "text/plain": [
       "<Figure size 432x288 with 1 Axes>"
      ]
     },
     "metadata": {
      "needs_background": "light"
     },
     "output_type": "display_data"
    },
    {
     "data": {
      "image/png": "[encoded data removed]",
      "text/plain": [
       "<Figure size 432x288 with 1 Axes>"
      ]
     },
     "metadata": {
      "needs_background": "light"
     },
     "output_type": "display_data"
    },
    {
     "data": {
      "image/png": "[encoded data removed]",
      "text/plain": [
       "<Figure size 432x288 with 1 Axes>"
      ]
     },
     "metadata": {
      "needs_background": "light"
     },
     "output_type": "display_data"
    },
    {
     "data": {
      "image/png": "[encoded data removed]",
      "text/plain": [
       "<Figure size 432x288 with 1 Axes>"
      ]
     },
     "metadata": {
      "needs_background": "light"
     },
     "output_type": "display_data"
    },
    {
     "data": {
      "image/png": "[encoded data removed]",
      "text/plain": [
       "<Figure size 432x288 with 1 Axes>"
      ]
     },
     "metadata": {
      "needs_background": "light"
     },
     "output_type": "display_data"
    },
    {
     "data": {
      "image/png": "[encoded data removed]",
      "text/plain": [
       "<Figure size 432x288 with 1 Axes>"
      ]
     },
     "metadata": {
      "needs_background": "light"
     },
     "output_type": "display_data"
    },
    {
     "data": {
      "image/png": "[encoded data removed]",
      "text/plain": [
       "<Figure size 432x288 with 1 Axes>"
      ]
     },
     "metadata": {
      "needs_background": "light"
     },
     "output_type": "display_data"
    },
    {
     "data": {
      "image/png": "[encoded data removed]",
      "text/plain": [
       "<Figure size 432x288 with 1 Axes>"
      ]
     },
     "metadata": {
      "needs_background": "light"
     },
     "output_type": "display_data"
    },
    {
     "data": {
      "image/png": "[encoded data removed]",
      "text/plain": [
       "<Figure size 432x288 with 1 Axes>"
      ]
     },
     "metadata": {
      "needs_background": "light"
     },
     "output_type": "display_data"
    },
    {
     "data": {
      "image/png": "[encoded data removed]",
      "text/plain": [
       "<Figure size 432x288 with 1 Axes>"
      ]
     },
     "metadata": {
      "needs_background": "light"
     },
     "output_type": "display_data"
    },
    {
     "data": {
      "image/png": "[encoded data removed]",
      "text/plain": [
       "<Figure size 432x288 with 1 Axes>"
      ]
     },
     "metadata": {
      "needs_background": "light"
     },
     "output_type": "display_data"
    },
    {
     "data": {
      "image/png": "[encoded data removed]",
      "text/plain": [
       "<Figure size 432x288 with 1 Axes>"
      ]
     },
     "metadata": {
      "needs_background": "light"
     },
     "output_type": "display_data"
    },
    {
     "data": {
      "image/png": "[encoded data removed]",
      "text/plain": [
       "<Figure size 432x288 with 1 Axes>"
      ]
     },
     "metadata": {
      "needs_background": "light"
     },
     "output_type": "display_data"
    },
    {
     "data": {
      "image/png": "[encoded data removed]",
      "text/plain": [
       "<Figure size 432x288 with 1 Axes>"
      ]
     },
     "metadata": {
      "needs_background": "light"
     },
     "output_type": "display_data"
    },
    {
     "data": {
      "image/png": "[encoded data removed]",
      "text/plain": [
       "<Figure size 432x288 with 1 Axes>"
      ]
     },
     "metadata": {
      "needs_background": "light"
     },
     "output_type": "display_data"
    },
    {
     "data": {
      "image/png": "[encoded data removed]",
      "text/plain": [
       "<Figure size 432x288 with 1 Axes>"
      ]
     },
     "metadata": {
      "needs_background": "light"
     },
     "output_type": "display_data"
    },
    {
     "data": {
      "image/png": "[encoded data removed]",
      "text/plain": [
       "<Figure size 432x288 with 1 Axes>"
      ]
     },
     "metadata": {
      "needs_background": "light"
     },
     "output_type": "display_data"
    },
    {
     "data": {
      "image/png": "[encoded data removed]",
      "text/plain": [
       "<Figure size 432x288 with 1 Axes>"
      ]
     },
     "metadata": {
      "needs_background": "light"
     },
     "output_type": "display_data"
    },
    {
     "data": {
      "image/png": "[encoded data removed]",
      "text/plain": [
       "<Figure size 432x288 with 1 Axes>"
      ]
     },
     "metadata": {
      "needs_background": "light"
     },
     "output_type": "display_data"
    },
    {
     "data": {
      "image/png": "[encoded data removed]",
      "text/plain": [
       "<Figure size 432x288 with 1 Axes>"
      ]
     },
     "metadata": {
      "needs_background": "light"
     },
     "output_type": "display_data"
    },
    {
     "data": {
      "image/png": "[encoded data removed]",
      "text/plain": [
       "<Figure size 432x288 with 1 Axes>"
      ]
     },
     "metadata": {
      "needs_background": "light"
     },
     "output_type": "display_data"
    },
    {
     "data": {
      "image/png": "[encoded data removed]",
      "text/plain": [
       "<Figure size 432x288 with 1 Axes>"
      ]
     },
     "metadata": {
      "needs_background": "light"
     },
     "output_type": "display_data"
    },
    {
     "data": {
      "image/png": "[encoded data removed]",
      "text/plain": [
       "<Figure size 432x288 with 1 Axes>"
      ]
     },
     "metadata": {
      "needs_background": "light"
     },
     "output_type": "display_data"
    },
    {
     "data": {
      "image/png": "[encoded data removed]",
      "text/plain": [
       "<Figure size 432x288 with 1 Axes>"
      ]
     },
     "metadata": {
      "needs_background": "light"
     },
     "output_type": "display_data"
    },
    {
     "data": {
      "image/png": "[encoded data removed]",
      "text/plain": [
       "<Figure size 432x288 with 1 Axes>"
      ]
     },
     "metadata": {
      "needs_background": "light"
     },
     "output_type": "display_data"
    },
    {
     "data": {
      "image/png": "[encoded data removed]",
      "text/plain": [
       "<Figure size 432x288 with 1 Axes>"
      ]
     },
     "metadata": {
      "needs_background": "light"
     },
     "output_type": "display_data"
    },
    {
     "data": {
      "image/png": "[encoded data removed]",
      "text/plain": [
       "<Figure size 432x288 with 1 Axes>"
      ]
     },
     "metadata": {
      "needs_background": "light"
     },
     "output_type": "display_data"
    },
    {
     "data": {
      "image/png": "[encoded data removed]",
      "text/plain": [
       "<Figure size 432x288 with 1 Axes>"
      ]
     },
     "metadata": {
      "needs_background": "light"
     },
     "output_type": "display_data"
    },
    {
     "data": {
      "image/png": "[encoded data removed]",
      "text/plain": [
       "<Figure size 432x288 with 1 Axes>"
      ]
     },
     "metadata": {
      "needs_background": "light"
     },
     "output_type": "display_data"
    },
    {
     "data": {
      "image/png": "[encoded data removed]",
      "text/plain": [
       "<Figure size 432x288 with 1 Axes>"
      ]
     },
     "metadata": {
      "needs_background": "light"
     },
     "output_type": "display_data"
    },
    {
     "data": {
      "image/png": "[encoded data removed]",
      "text/plain": [
       "<Figure size 432x288 with 1 Axes>"
      ]
     },
     "metadata": {
      "needs_background": "light"
     },
     "output_type": "display_data"
    },
    {
     "data": {
      "image/png": "[encoded data removed]",
      "text/plain": [
       "<Figure size 432x288 with 1 Axes>"
      ]
     },
     "metadata": {
      "needs_background": "light"
     },
     "output_type": "display_data"
    },
    {
     "data": {
      "image/png": "[encoded data removed]",
      "text/plain": [
       "<Figure size 432x288 with 1 Axes>"
      ]
     },
     "metadata": {
      "needs_background": "light"
     },
     "output_type": "display_data"
    },
    {
     "data": {
      "image/png": "[encoded data removed]",
      "text/plain": [
       "<Figure size 432x288 with 1 Axes>"
      ]
     },
     "metadata": {
      "needs_background": "light"
     },
     "output_type": "display_data"
    },
    {
     "data": {
      "image/png": "[encoded data removed]",
      "text/plain": [
       "<Figure size 432x288 with 1 Axes>"
      ]
     },
     "metadata": {
      "needs_background": "light"
     },
     "output_type": "display_data"
    },
    {
     "data": {
      "image/png": "[encoded data removed]",
      "text/plain": [
       "<Figure size 432x288 with 1 Axes>"
      ]
     },
     "metadata": {
      "needs_background": "light"
     },
     "output_type": "display_data"
    },
    {
     "data": {
      "image/png": "[encoded data removed]",
      "text/plain": [
       "<Figure size 432x288 with 1 Axes>"
      ]
     },
     "metadata": {
      "needs_background": "light"
     },
     "output_type": "display_data"
    },
    {
     "data": {
      "image/png": "[encoded data removed]",
      "text/plain": [
       "<Figure size 432x288 with 1 Axes>"
      ]
     },
     "metadata": {
      "needs_background": "light"
     },
     "output_type": "display_data"
    },
    {
     "data": {
      "image/png": "[encoded data removed]",
      "text/plain": [
       "<Figure size 432x288 with 1 Axes>"
      ]
     },
     "metadata": {
      "needs_background": "light"
     },
     "output_type": "display_data"
    },
    {
     "data": {
      "image/png": "[encoded data removed]",
      "text/plain": [
       "<Figure size 432x288 with 1 Axes>"
      ]
     },
     "metadata": {
      "needs_background": "light"
     },
     "output_type": "display_data"
    },
    {
     "data": {
      "image/png": "[encoded data removed]",
      "text/plain": [
       "<Figure size 432x288 with 1 Axes>"
      ]
     },
     "metadata": {
      "needs_background": "light"
     },
     "output_type": "display_data"
    },
    {
     "data": {
      "image/png": "[encoded data removed]",
      "text/plain": [
       "<Figure size 432x288 with 1 Axes>"
      ]
     },
     "metadata": {
      "needs_background": "light"
     },
     "output_type": "display_data"
    },
    {
     "data": {
      "image/png": "[encoded data removed]",
      "text/plain": [
       "<Figure size 432x288 with 1 Axes>"
      ]
     },
     "metadata": {
      "needs_background": "light"
     },
     "output_type": "display_data"
    },
    {
     "data": {
      "image/png": "[encoded data removed]",
      "text/plain": [
       "<Figure size 432x288 with 1 Axes>"
      ]
     },
     "metadata": {
      "needs_background": "light"
     },
     "output_type": "display_data"
    },
    {
     "data": {
      "image/png": "[encoded data removed]",
      "text/plain": [
       "<Figure size 432x288 with 1 Axes>"
      ]
     },
     "metadata": {
      "needs_background": "light"
     },
     "output_type": "display_data"
    },
    {
     "data": {
      "image/png": "[encoded data removed]",
      "text/plain": [
       "<Figure size 432x288 with 1 Axes>"
      ]
     },
     "metadata": {
      "needs_background": "light"
     },
     "output_type": "display_data"
    },
    {
     "data": {
      "image/png": "[encoded data removed]",
      "text/plain": [
       "<Figure size 432x288 with 1 Axes>"
      ]
     },
     "metadata": {
      "needs_background": "light"
     },
     "output_type": "display_data"
    },
    {
     "data": {
      "image/png": "[encoded data removed]",
      "text/plain": [
       "<Figure size 432x288 with 1 Axes>"
      ]
     },
     "metadata": {
      "needs_background": "light"
     },
     "output_type": "display_data"
    },
    {
     "data": {
      "image/png": "[encoded data removed]",
      "text/plain": [
       "<Figure size 432x288 with 1 Axes>"
      ]
     },
     "metadata": {
      "needs_background": "light"
     },
     "output_type": "display_data"
    },
    {
     "data": {
      "image/png": "[encoded data removed]",
      "text/plain": [
       "<Figure size 432x288 with 1 Axes>"
      ]
     },
     "metadata": {
      "needs_background": "light"
     },
     "output_type": "display_data"
    },
    {
     "data": {
      "image/png": "[encoded data removed]",
      "text/plain": [
       "<Figure size 432x288 with 1 Axes>"
      ]
     },
     "metadata": {
      "needs_background": "light"
     },
     "output_type": "display_data"
    },
    {
     "data": {
      "image/png": "[encoded data removed]",
      "text/plain": [
       "<Figure size 432x288 with 1 Axes>"
      ]
     },
     "metadata": {
      "needs_background": "light"
     },
     "output_type": "display_data"
    },
    {
     "data": {
      "image/png": "[encoded data removed]",
      "text/plain": [
       "<Figure size 432x288 with 1 Axes>"
      ]
     },
     "metadata": {
      "needs_background": "light"
     },
     "output_type": "display_data"
    },
    {
     "data": {
      "image/png": "[encoded data removed]",
      "text/plain": [
       "<Figure size 432x288 with 1 Axes>"
      ]
     },
     "metadata": {
      "needs_background": "light"
     },
     "output_type": "display_data"
    },
    {
     "data": {
      "image/png": "[encoded data removed]",
      "text/plain": [
       "<Figure size 432x288 with 1 Axes>"
      ]
     },
     "metadata": {
      "needs_background": "light"
     },
     "output_type": "display_data"
    },
    {
     "data": {
      "image/png": "[encoded data removed]",
      "text/plain": [
       "<Figure size 432x288 with 1 Axes>"
      ]
     },
     "metadata": {
      "needs_background": "light"
     },
     "output_type": "display_data"
    },
    {
     "data": {
      "image/png": "[encoded data removed]",
      "text/plain": [
       "<Figure size 432x288 with 1 Axes>"
      ]
     },
     "metadata": {
      "needs_background": "light"
     },
     "output_type": "display_data"
    },
    {
     "data": {
      "image/png": "[encoded data removed]",
      "text/plain": [
       "<Figure size 432x288 with 1 Axes>"
      ]
     },
     "metadata": {
      "needs_background": "light"
     },
     "output_type": "display_data"
    },
    {
     "data": {
      "image/png": "[encoded data removed]",
      "text/plain": [
       "<Figure size 432x288 with 1 Axes>"
      ]
     },
     "metadata": {
      "needs_background": "light"
     },
     "output_type": "display_data"
    },
    {
     "data": {
      "image/png": "[encoded data removed]",
      "text/plain": [
       "<Figure size 432x288 with 1 Axes>"
      ]
     },
     "metadata": {
      "needs_background": "light"
     },
     "output_type": "display_data"
    },
    {
     "data": {
      "image/png": "[encoded data removed]",
      "text/plain": [
       "<Figure size 432x288 with 1 Axes>"
      ]
     },
     "metadata": {
      "needs_background": "light"
     },
     "output_type": "display_data"
    },
    {
     "data": {
      "image/png": "[encoded data removed]",
      "text/plain": [
       "<Figure size 432x288 with 1 Axes>"
      ]
     },
     "metadata": {
      "needs_background": "light"
     },
     "output_type": "display_data"
    },
    {
     "data": {
      "image/png": "[encoded data removed]",
      "text/plain": [
       "<Figure size 432x288 with 1 Axes>"
      ]
     },
     "metadata": {
      "needs_background": "light"
     },
     "output_type": "display_data"
    },
    {
     "data": {
      "image/png": "[encoded data removed]",
      "text/plain": [
       "<Figure size 432x288 with 1 Axes>"
      ]
     },
     "metadata": {
      "needs_background": "light"
     },
     "output_type": "display_data"
    },
    {
     "data": {
      "image/png": "[encoded data removed]",
      "text/plain": [
       "<Figure size 432x288 with 1 Axes>"
      ]
     },
     "metadata": {
      "needs_background": "light"
     },
     "output_type": "display_data"
    },
    {
     "data": {
      "image/png": "[encoded data removed]",
      "text/plain": [
       "<Figure size 432x288 with 1 Axes>"
      ]
     },
     "metadata": {
      "needs_background": "light"
     },
     "output_type": "display_data"
    },
    {
     "data": {
      "image/png": "[encoded data removed]",
      "text/plain": [
       "<Figure size 432x288 with 1 Axes>"
      ]
     },
     "metadata": {
      "needs_background": "light"
     },
     "output_type": "display_data"
    },
    {
     "data": {
      "image/png": "[encoded data removed]",
      "text/plain": [
       "<Figure size 432x288 with 1 Axes>"
      ]
     },
     "metadata": {
      "needs_background": "light"
     },
     "output_type": "display_data"
    },
    {
     "data": {
      "image/png": "[encoded data removed]",
      "text/plain": [
       "<Figure size 432x288 with 1 Axes>"
      ]
     },
     "metadata": {
      "needs_background": "light"
     },
     "output_type": "display_data"
    },
    {
     "data": {
      "image/png": "[encoded data removed]",
      "text/plain": [
       "<Figure size 432x288 with 1 Axes>"
      ]
     },
     "metadata": {
      "needs_background": "light"
     },
     "output_type": "display_data"
    },
    {
     "data": {
      "image/png": "[encoded data removed]",
      "text/plain": [
       "<Figure size 432x288 with 1 Axes>"
      ]
     },
     "metadata": {
      "needs_background": "light"
     },
     "output_type": "display_data"
    },
    {
     "data": {
      "image/png": "[encoded data removed]",
      "text/plain": [
       "<Figure size 432x288 with 1 Axes>"
      ]
     },
     "metadata": {
      "needs_background": "light"
     },
     "output_type": "display_data"
    },
    {
     "data": {
      "image/png": "[encoded data removed]",
      "text/plain": [
       "<Figure size 432x288 with 1 Axes>"
      ]
     },
     "metadata": {
      "needs_background": "light"
     },
     "output_type": "display_data"
    },
    {
     "data": {
      "image/png": "[encoded data removed]",
      "text/plain": [
       "<Figure size 432x288 with 1 Axes>"
      ]
     },
     "metadata": {
      "needs_background": "light"
     },
     "output_type": "display_data"
    },
    {
     "data": {
      "image/png": "[encoded data removed]",
      "text/plain": [
       "<Figure size 432x288 with 1 Axes>"
      ]
     },
     "metadata": {
      "needs_background": "light"
     },
     "output_type": "display_data"
    },
    {
     "data": {
      "image/png": "[encoded data removed]",
      "text/plain": [
       "<Figure size 432x288 with 1 Axes>"
      ]
     },
     "metadata": {
      "needs_background": "light"
     },
     "output_type": "display_data"
    },
    {
     "data": {
      "image/png": "[encoded data removed]",
      "text/plain": [
       "<Figure size 432x288 with 1 Axes>"
      ]
     },
     "metadata": {
      "needs_background": "light"
     },
     "output_type": "display_data"
    },
    {
     "data": {
      "image/png": "[encoded data removed]",
      "text/plain": [
       "<Figure size 432x288 with 1 Axes>"
      ]
     },
     "metadata": {
      "needs_background": "light"
     },
     "output_type": "display_data"
    },
    {
     "data": {
      "image/png": "[encoded data removed]",
      "text/plain": [
       "<Figure size 432x288 with 1 Axes>"
      ]
     },
     "metadata": {
      "needs_background": "light"
     },
     "output_type": "display_data"
    },
    {
     "data": {
      "image/png": "[encoded data removed]",
      "text/plain": [
       "<Figure size 432x288 with 1 Axes>"
      ]
     },
     "metadata": {
      "needs_background": "light"
     },
     "output_type": "display_data"
    },
    {
     "data": {
      "image/png": "[encoded data removed]",
      "text/plain": [
       "<Figure size 432x288 with 1 Axes>"
      ]
     },
     "metadata": {
      "needs_background": "light"
     },
     "output_type": "display_data"
    },
    {
     "data": {
      "image/png": "[encoded data removed]",
      "text/plain": [
       "<Figure size 432x288 with 1 Axes>"
      ]
     },
     "metadata": {
      "needs_background": "light"
     },
     "output_type": "display_data"
    },
    {
     "data": {
      "image/png": "[encoded data removed]",
      "text/plain": [
       "<Figure size 432x288 with 1 Axes>"
      ]
     },
     "metadata": {
      "needs_background": "light"
     },
     "output_type": "display_data"
    },
    {
     "data": {
      "image/png": "[encoded data removed]",
      "text/plain": [
       "<Figure size 432x288 with 1 Axes>"
      ]
     },
     "metadata": {
      "needs_background": "light"
     },
     "output_type": "display_data"
    },
    {
     "data": {
      "image/png": "[encoded data removed]",
      "text/plain": [
       "<Figure size 432x288 with 1 Axes>"
      ]
     },
     "metadata": {
      "needs_background": "light"
     },
     "output_type": "display_data"
    },
    {
     "data": {
      "image/png": "[encoded data removed]",
      "text/plain": [
       "<Figure size 432x288 with 1 Axes>"
      ]
     },
     "metadata": {
      "needs_background": "light"
     },
     "output_type": "display_data"
    },
    {
     "data": {
      "image/png": "[encoded data removed]",
      "text/plain": [
       "<Figure size 432x288 with 1 Axes>"
      ]
     },
     "metadata": {
      "needs_background": "light"
     },
     "output_type": "display_data"
    },
    {
     "data": {
      "image/png": "[encoded data removed]",
      "text/plain": [
       "<Figure size 432x288 with 1 Axes>"
      ]
     },
     "metadata": {
      "needs_background": "light"
     },
     "output_type": "display_data"
    },
    {
     "data": {
      "image/png": "[encoded data removed]",
      "text/plain": [
       "<Figure size 432x288 with 1 Axes>"
      ]
     },
     "metadata": {
      "needs_background": "light"
     },
     "output_type": "display_data"
    },
    {
     "data": {
      "image/png": "[encoded data removed]",
      "text/plain": [
       "<Figure size 432x288 with 1 Axes>"
      ]
     },
     "metadata": {
      "needs_background": "light"
     },
     "output_type": "display_data"
    },
    {
     "data": {
      "image/png": "[encoded data removed]",
      "text/plain": [
       "<Figure size 432x288 with 1 Axes>"
      ]
     },
     "metadata": {
      "needs_background": "light"
     },
     "output_type": "display_data"
    },
    {
     "data": {
      "image/png": "[encoded data removed]",
      "text/plain": [
       "<Figure size 432x288 with 1 Axes>"
      ]
     },
     "metadata": {
      "needs_background": "light"
     },
     "output_type": "display_data"
    },
    {
     "data": {
      "image/png": "[encoded data removed]",
      "text/plain": [
       "<Figure size 432x288 with 1 Axes>"
      ]
     },
     "metadata": {
      "needs_background": "light"
     },
     "output_type": "display_data"
    },
    {
     "data": {
      "image/png": "[encoded data removed]",
      "text/plain": [
       "<Figure size 432x288 with 1 Axes>"
      ]
     },
     "metadata": {
      "needs_background": "light"
     },
     "output_type": "display_data"
    },
    {
     "data": {
      "image/png": "[encoded data removed]",
      "text/plain": [
       "<Figure size 432x288 with 1 Axes>"
      ]
     },
     "metadata": {
      "needs_background": "light"
     },
     "output_type": "display_data"
    },
    {
     "data": {
      "image/png": "[encoded data removed]",
      "text/plain": [
       "<Figure size 432x288 with 1 Axes>"
      ]
     },
     "metadata": {
      "needs_background": "light"
     },
     "output_type": "display_data"
    },
    {
     "data": {
      "image/png": "[encoded data removed]",
      "text/plain": [
       "<Figure size 432x288 with 1 Axes>"
      ]
     },
     "metadata": {
      "needs_background": "light"
     },
     "output_type": "display_data"
    },
    {
     "data": {
      "image/png": "[encoded data removed]",
      "text/plain": [
       "<Figure size 432x288 with 1 Axes>"
      ]
     },
     "metadata": {
      "needs_background": "light"
     },
     "output_type": "display_data"
    },
    {
     "data": {
      "image/png": "[encoded data removed]",
      "text/plain": [
       "<Figure size 432x288 with 1 Axes>"
      ]
     },
     "metadata": {
      "needs_background": "light"
     },
     "output_type": "display_data"
    },
    {
     "data": {
      "image/png": "[encoded data removed]",
      "text/plain": [
       "<Figure size 432x288 with 1 Axes>"
      ]
     },
     "metadata": {
      "needs_background": "light"
     },
     "output_type": "display_data"
    },
    {
     "data": {
      "image/png": "[encoded data removed]",
      "text/plain": [
       "<Figure size 432x288 with 1 Axes>"
      ]
     },
     "metadata": {
      "needs_background": "light"
     },
     "output_type": "display_data"
    },
    {
     "data": {
      "image/png": "[encoded data removed]",
      "text/plain": [
       "<Figure size 432x288 with 1 Axes>"
      ]
     },
     "metadata": {
      "needs_background": "light"
     },
     "output_type": "display_data"
    },
    {
     "data": {
      "image/png": "[encoded data removed]",
      "text/plain": [
       "<Figure size 432x288 with 1 Axes>"
      ]
     },
     "metadata": {
      "needs_background": "light"
     },
     "output_type": "display_data"
    },
    {
     "data": {
      "image/png": "[encoded data removed]",
      "text/plain": [
       "<Figure size 432x288 with 1 Axes>"
      ]
     },
     "metadata": {
      "needs_background": "light"
     },
     "output_type": "display_data"
    },
    {
     "data": {
      "image/png": "[encoded data removed]",
      "text/plain": [
       "<Figure size 432x288 with 1 Axes>"
      ]
     },
     "metadata": {
      "needs_background": "light"
     },
     "output_type": "display_data"
    },
    {
     "data": {
      "image/png": "[encoded data removed]",
      "text/plain": [
       "<Figure size 432x288 with 1 Axes>"
      ]
     },
     "metadata": {
      "needs_background": "light"
     },
     "output_type": "display_data"
    },
    {
     "data": {
      "image/png": "[encoded data removed]",
      "text/plain": [
       "<Figure size 432x288 with 1 Axes>"
      ]
     },
     "metadata": {
      "needs_background": "light"
     },
     "output_type": "display_data"
    },
    {
     "data": {
      "image/png": "[encoded data removed]",
      "text/plain": [
       "<Figure size 432x288 with 1 Axes>"
      ]
     },
     "metadata": {
      "needs_background": "light"
     },
     "output_type": "display_data"
    },
    {
     "data": {
      "image/png": "[encoded data removed]",
      "text/plain": [
       "<Figure size 432x288 with 1 Axes>"
      ]
     },
     "metadata": {
      "needs_background": "light"
     },
     "output_type": "display_data"
    }
   ],
   "source": [
    "init_alpha_1 = init_alpha_2 =  init_alpha_3 = init_alpha_4 = 1\n",
    "init_beta_1 = init_beta_2 = init_beta_3 = init_beta_4 =1\n",
    "x = np.linspace(0, 1, 100)\n",
    "for i in range(0,300):\n",
    "    for j in range(1,4):\n",
    "        fig, ax = plt.subplots(1,  1)\n",
    "        ads_1 = beta.rvs(init_alpha_1,init_beta_1, size=1)\n",
    "        ads_2 = beta.rvs(init_alpha_2,init_beta_2, size=1)\n",
    "        ads_3 = beta.rvs(init_alpha_3,init_beta_3, size=1)\n",
    "        ads_4 = beta.rvs(init_alpha_4,init_beta_4, size=1)\n",
    "        ads_rvs=[ads_1, ads_2, ads_3, ads_4]\n",
    "        max_rvs = np.max(ads_rvs)\n",
    "        win_index = ads_rvs.index(max_rvs)\n",
    "        \n",
    "        print(win_index)\n",
    "        if win_index == 0 :\n",
    "            if samples.iloc[i,j] == 1:\n",
    "                init_alpha_1 += 1\n",
    "\n",
    "            else :\n",
    "                init_beta_1 += 1\n",
    "\n",
    "        if j == 1 :\n",
    "            if samples.iloc[i,j] == 1:\n",
    "                init_alpha_2 += 1\n",
    "\n",
    "            else :\n",
    "                init_beta_2 += 1\n",
    "\n",
    "            \n",
    "        if j == 2 :\n",
    "            if samples.iloc[i,j] == 1:\n",
    "                init_alpha_3 += 1\n",
    "\n",
    "            else :\n",
    "                init_beta_3 += 1\n",
    "\n",
    "        \n",
    "        if j == 3 :\n",
    "            if samples.iloc[i,j] == 1:\n",
    "                init_alpha_4 += 1\n",
    "\n",
    "            else :\n",
    "                init_beta_4 += 1\n",
    "\n",
    "                \n",
    "        print(init_alpha_1, init_alpha_2, init_alpha_3, init_alpha_4)\n",
    "ax.plot(x, beta.pdf(x, init_alpha_1, init_beta_1), 'r-', lw=3, alpha=0.5, label='ads_1')\n",
    "ax.plot(x, beta.pdf(x, init_alpha_2, init_beta_2), 'g-', lw=3, alpha=0.5, label='ads_2')\n",
    "ax.plot(x, beta.pdf(x, init_alpha_3, init_beta_3), 'b-', lw=3, alpha=0.5, label='ads_3')\n",
    "ax.plot(x, beta.pdf(x, init_alpha_4, init_beta_4), 'y-', lw=3, alpha=0.5, label='ads_4')\n",
    "        "
   ]
  },
  {
   "cell_type": "code",
   "execution_count": 13,
   "metadata": {},
   "outputs": [
    {
     "data": {
      "text/plain": [
       "Ads2    0.075\n",
       "Ads4    0.065\n",
       "Ads1    0.040\n",
       "Ads3    0.035\n",
       "dtype: float64"
      ]
     },
     "execution_count": 13,
     "metadata": {},
     "output_type": "execute_result"
    }
   ],
   "source": [
    "Series.sort_values(samples.iloc[:100, 0:4].sum()/200, ascending=False)"
   ]
  },
  {
   "cell_type": "code",
   "execution_count": 15,
   "metadata": {
    "scrolled": false
   },
   "outputs": [
    {
     "data": {
      "text/plain": [
       "Ads2    0.18\n",
       "Ads1    0.17\n",
       "Ads4    0.08\n",
       "Ads3    0.06\n",
       "dtype: float64"
      ]
     },
     "execution_count": 15,
     "metadata": {},
     "output_type": "execute_result"
    }
   ],
   "source": [
    "#real_ctr\n",
    "Series.sort_values(samples.iloc[100:200, 0:4].sum()/100, ascending=False)\n"
   ]
  },
  {
   "cell_type": "markdown",
   "metadata": {},
   "source": [
    "### 실험결과\n",
    "초기에 가중치가 작은 광고는 나중에도 선택이 잘 안되는 경우가 발생함. 심각한 문제\n",
    "- 이럴 경우를 방지하기 위해 기준을 갖고(일 단위, 또는 시간 단위)로 나눠서 CTR을 측정하고 CTR에 따라 prior를 조정해 줘야 함.(기준 시점에 CTR이 높은 광고 안은 alpha 값을 올려준다. 얼마나 올려줄지?)\n"
   ]
  },
  {
   "cell_type": "markdown",
   "metadata": {},
   "source": [
    "### 다음 실험 내용 \n",
    "- traffic이 100단위 도달할 때마다 CTR계산해서 prior 정보 제공하기!\n",
    "- 100단위로 끊어서 CTR 계산하는 코드 작성\n",
    "- Prior을 어떻게 줄 것인가?"
   ]
  },
  {
   "cell_type": "code",
   "execution_count": 27,
   "metadata": {},
   "outputs": [
    {
     "data": {
      "text/plain": [
       "0"
      ]
     },
     "execution_count": 27,
     "metadata": {},
     "output_type": "execute_result"
    }
   ],
   "source": [
    "100%100"
   ]
  },
  {
   "cell_type": "markdown",
   "metadata": {},
   "source": [
    "### 실험 코드"
   ]
  },
  {
   "cell_type": "code",
   "execution_count": 70,
   "metadata": {},
   "outputs": [
    {
     "data": {
      "text/html": [
       "<div>\n",
       "<style scoped>\n",
       "    .dataframe tbody tr th:only-of-type {\n",
       "        vertical-align: middle;\n",
       "    }\n",
       "\n",
       "    .dataframe tbody tr th {\n",
       "        vertical-align: top;\n",
       "    }\n",
       "\n",
       "    .dataframe thead th {\n",
       "        text-align: right;\n",
       "    }\n",
       "</style>\n",
       "<table border=\"1\" class=\"dataframe\">\n",
       "  <thead>\n",
       "    <tr style=\"text-align: right;\">\n",
       "      <th></th>\n",
       "      <th>Ads1</th>\n",
       "      <th>Ads2</th>\n",
       "      <th>Ads3</th>\n",
       "      <th>Ads4</th>\n",
       "      <th>Ads5</th>\n",
       "      <th>Ads6</th>\n",
       "      <th>Ads7</th>\n",
       "      <th>Ads8</th>\n",
       "      <th>Ads9</th>\n",
       "      <th>Ads10</th>\n",
       "    </tr>\n",
       "  </thead>\n",
       "  <tbody>\n",
       "    <tr>\n",
       "      <th>0</th>\n",
       "      <td>0</td>\n",
       "      <td>0</td>\n",
       "      <td>0</td>\n",
       "      <td>0</td>\n",
       "      <td>0</td>\n",
       "      <td>0</td>\n",
       "      <td>0</td>\n",
       "      <td>0</td>\n",
       "      <td>1</td>\n",
       "      <td>0</td>\n",
       "    </tr>\n",
       "    <tr>\n",
       "      <th>1</th>\n",
       "      <td>0</td>\n",
       "      <td>0</td>\n",
       "      <td>0</td>\n",
       "      <td>0</td>\n",
       "      <td>0</td>\n",
       "      <td>0</td>\n",
       "      <td>0</td>\n",
       "      <td>0</td>\n",
       "      <td>0</td>\n",
       "      <td>0</td>\n",
       "    </tr>\n",
       "    <tr>\n",
       "      <th>2</th>\n",
       "      <td>0</td>\n",
       "      <td>1</td>\n",
       "      <td>0</td>\n",
       "      <td>0</td>\n",
       "      <td>0</td>\n",
       "      <td>0</td>\n",
       "      <td>0</td>\n",
       "      <td>1</td>\n",
       "      <td>0</td>\n",
       "      <td>0</td>\n",
       "    </tr>\n",
       "    <tr>\n",
       "      <th>3</th>\n",
       "      <td>0</td>\n",
       "      <td>0</td>\n",
       "      <td>0</td>\n",
       "      <td>0</td>\n",
       "      <td>0</td>\n",
       "      <td>0</td>\n",
       "      <td>0</td>\n",
       "      <td>0</td>\n",
       "      <td>0</td>\n",
       "      <td>0</td>\n",
       "    </tr>\n",
       "    <tr>\n",
       "      <th>4</th>\n",
       "      <td>1</td>\n",
       "      <td>1</td>\n",
       "      <td>0</td>\n",
       "      <td>0</td>\n",
       "      <td>0</td>\n",
       "      <td>0</td>\n",
       "      <td>0</td>\n",
       "      <td>0</td>\n",
       "      <td>0</td>\n",
       "      <td>0</td>\n",
       "    </tr>\n",
       "  </tbody>\n",
       "</table>\n",
       "</div>"
      ],
      "text/plain": [
       "   Ads1  Ads2  Ads3  Ads4  Ads5  Ads6  Ads7  Ads8  Ads9  Ads10\n",
       "0     0     0     0     0     0     0     0     0     1      0\n",
       "1     0     0     0     0     0     0     0     0     0      0\n",
       "2     0     1     0     0     0     0     0     1     0      0\n",
       "3     0     0     0     0     0     0     0     0     0      0\n",
       "4     1     1     0     0     0     0     0     0     0      0"
      ]
     },
     "execution_count": 70,
     "metadata": {},
     "output_type": "execute_result"
    }
   ],
   "source": [
    "samples.head()"
   ]
  },
  {
   "cell_type": "code",
   "execution_count": 69,
   "metadata": {
    "scrolled": false
   },
   "outputs": [
    {
     "name": "stdout",
     "output_type": "stream",
     "text": [
      "Checking Zeros 0 0 0 0\n",
      "Checking Zeros 0 0 0 0\n",
      "Checking Zeros 0 0 0 0\n",
      "Checking Zeros 0 0 0 0\n",
      "Checking Zeros 0 0 0 0\n",
      "Checking Zeros 0 0 0 0\n",
      "Checking Zeros 0 1 0 0\n",
      "Checking Zeros 0 1 0 0\n",
      "Checking Zeros 0 1 0 0\n",
      "Checking Zeros 0 1 0 0\n",
      "Checking Zeros 0 1 0 0\n",
      "Checking Zeros 0 1 0 0\n",
      "Checking Zeros 0 2 0 0\n",
      "Checking Zeros 0 2 0 0\n",
      "Checking Zeros 0 2 0 0\n",
      "Checking Zeros 0 2 0 0\n",
      "Checking Zeros 0 2 0 0\n",
      "Checking Zeros 0 2 0 1\n",
      "Checking Zeros 0 3 0 1\n",
      "Checking Zeros 0 3 0 1\n",
      "Checking Zeros 0 3 0 1\n",
      "Checking Zeros 0 3 0 1\n",
      "Checking Zeros 0 3 0 1\n",
      "Checking Zeros 0 3 0 1\n",
      "Checking Zeros 0 3 0 1\n",
      "Checking Zeros 0 3 1 1\n",
      "Checking Zeros 0 3 1 1\n",
      "Checking Zeros 0 3 1 1\n",
      "Checking Zeros 0 3 1 1\n",
      "Checking Zeros 0 3 1 1\n",
      "Checking Zeros 0 3 1 1\n",
      "Checking Zeros 0 3 1 1\n",
      "Checking Zeros 0 3 1 1\n",
      "Checking Zeros 0 3 1 1\n",
      "Checking Zeros 0 3 1 1\n",
      "Checking Zeros 0 3 1 2\n",
      "Checking Zeros 0 3 1 2\n",
      "Checking Zeros 0 3 1 2\n",
      "Checking Zeros 0 3 1 2\n",
      "Checking Zeros 0 3 1 2\n",
      "Checking Zeros 0 3 1 2\n",
      "Checking Zeros 0 3 1 2\n",
      "Checking Zeros 0 3 1 2\n",
      "Checking Zeros 0 3 1 2\n",
      "Checking Zeros 0 3 1 2\n",
      "Checking Zeros 0 3 1 2\n",
      "Checking Zeros 0 3 1 2\n",
      "Checking Zeros 0 3 1 2\n",
      "Checking Zeros 0 3 1 2\n",
      "Checking Zeros 0 3 1 2\n",
      "Checking Zeros 0 3 1 2\n",
      "Checking Zeros 0 3 1 2\n",
      "Checking Zeros 0 3 1 2\n",
      "Checking Zeros 0 3 1 2\n",
      "Checking Zeros 0 3 1 2\n",
      "Checking Zeros 0 3 1 2\n",
      "Checking Zeros 0 3 1 2\n",
      "Checking Zeros 0 4 1 2\n",
      "Checking Zeros 0 4 1 2\n",
      "Checking Zeros 0 4 1 2\n",
      "Checking Zeros 0 4 1 2\n",
      "Checking Zeros 0 4 1 2\n",
      "Checking Zeros 0 4 1 2\n",
      "Checking Zeros 0 4 1 2\n",
      "Checking Zeros 0 4 1 2\n",
      "Checking Zeros 0 4 1 2\n",
      "Checking Zeros 0 4 1 2\n",
      "Checking Zeros 0 4 1 2\n",
      "Checking Zeros 0 4 1 2\n",
      "Checking Zeros 0 4 1 2\n",
      "Checking Zeros 0 4 1 2\n",
      "Checking Zeros 0 4 1 2\n",
      "Checking Zeros 0 4 1 2\n",
      "Checking Zeros 0 4 1 2\n",
      "Checking Zeros 0 4 1 2\n",
      "Checking Zeros 0 5 1 2\n",
      "Checking Zeros 0 5 1 2\n",
      "Checking Zeros 0 5 1 2\n",
      "Checking Zeros 0 6 1 2\n",
      "Checking Zeros 0 6 1 2\n",
      "Checking Zeros 0 6 1 3\n",
      "Checking Zeros 0 6 1 3\n",
      "Checking Zeros 0 6 1 3\n",
      "Checking Zeros 0 6 1 3\n",
      "Checking Zeros 0 6 1 3\n",
      "Checking Zeros 0 6 1 3\n",
      "Checking Zeros 0 6 1 3\n",
      "Checking Zeros 0 6 1 3\n",
      "Checking Zeros 0 6 1 3\n",
      "Checking Zeros 0 6 1 3\n",
      "Checking Zeros 0 6 1 3\n",
      "Checking Zeros 0 6 1 3\n",
      "Checking Zeros 0 6 1 3\n",
      "Checking Zeros 0 6 1 3\n",
      "Checking Zeros 0 6 1 3\n",
      "Checking Zeros 0 6 1 3\n",
      "Checking Zeros 0 6 1 3\n",
      "Checking Zeros 0 6 1 3\n",
      "Checking Zeros 0 6 1 4\n",
      "Checking Zeros 0 6 1 4\n",
      "Checking Zeros 0 6 1 4\n",
      "Checking Zeros 0 6 1 4\n",
      "Checking Zeros 0 6 1 4\n",
      "Checking Zeros 0 6 1 4\n",
      "Checking Zeros 0 6 1 4\n",
      "Checking Zeros 0 6 1 4\n",
      "Checking Zeros 0 6 1 4\n",
      "Checking Zeros 0 6 1 4\n",
      "Checking Zeros 0 6 1 4\n",
      "Checking Zeros 0 6 1 4\n",
      "Checking Zeros 0 6 1 4\n",
      "Checking Zeros 0 6 1 4\n",
      "Checking Zeros 0 6 1 4\n",
      "Checking Zeros 1 6 1 5\n",
      "Checking Zeros 1 6 1 5\n",
      "Checking Zeros 1 6 1 5\n",
      "Checking Zeros 1 6 1 5\n",
      "Checking Zeros 1 6 1 5\n",
      "Checking Zeros 1 6 1 5\n",
      "Checking Zeros 1 6 1 5\n",
      "Checking Zeros 1 6 1 5\n",
      "Checking Zeros 1 6 1 5\n",
      "Checking Zeros 1 6 1 5\n",
      "Checking Zeros 1 6 1 5\n",
      "Checking Zeros 1 6 1 5\n",
      "Checking Zeros 1 6 1 5\n",
      "Checking Zeros 1 6 1 5\n",
      "Checking Zeros 1 6 1 5\n",
      "Checking Zeros 1 6 1 5\n",
      "Checking Zeros 1 6 1 5\n",
      "Checking Zeros 1 6 1 5\n",
      "Checking Zeros 1 6 1 5\n",
      "Checking Zeros 1 6 1 5\n",
      "Checking Zeros 1 6 1 5\n",
      "Checking Zeros 1 6 1 5\n",
      "Checking Zeros 1 6 1 5\n",
      "Checking Zeros 1 6 1 5\n",
      "Checking Zeros 1 6 1 5\n",
      "Checking Zeros 1 6 1 5\n",
      "Checking Zeros 1 6 1 5\n",
      "Checking Zeros 1 6 1 5\n",
      "Checking Zeros 1 7 1 5\n",
      "Checking Zeros 1 7 1 5\n",
      "Checking Zeros 1 7 1 5\n",
      "Checking Zeros 1 7 1 5\n",
      "Checking Zeros 1 7 1 5\n",
      "Checking Zeros 1 7 1 5\n",
      "Checking Zeros 1 7 1 5\n",
      "Checking Zeros 1 7 1 5\n",
      "Checking Zeros 1 7 1 6\n",
      "Checking Zeros 1 7 1 6\n",
      "Checking Zeros 1 7 1 6\n",
      "Checking Zeros 1 7 1 6\n",
      "Checking Zeros 1 7 1 6\n",
      "Checking Zeros 1 7 1 6\n",
      "Checking Zeros 1 7 1 6\n",
      "Checking Zeros 1 7 1 6\n",
      "Checking Zeros 1 7 1 6\n",
      "Checking Zeros 1 7 1 6\n",
      "Checking Zeros 1 7 1 6\n",
      "Checking Zeros 1 7 2 6\n",
      "Checking Zeros 1 7 2 6\n",
      "Checking Zeros 1 8 2 6\n",
      "Checking Zeros 1 8 3 6\n",
      "Checking Zeros 1 8 3 6\n",
      "Checking Zeros 1 8 3 6\n",
      "Checking Zeros 1 8 3 6\n",
      "Checking Zeros 1 8 3 6\n",
      "Checking Zeros 1 8 3 6\n",
      "Checking Zeros 1 8 4 6\n",
      "Checking Zeros 1 8 4 6\n",
      "Checking Zeros 1 8 4 6\n",
      "Checking Zeros 1 8 4 6\n",
      "Checking Zeros 1 8 4 6\n",
      "Checking Zeros 1 9 4 6\n",
      "Checking Zeros 1 9 4 6\n",
      "Checking Zeros 1 9 4 6\n",
      "Checking Zeros 1 9 4 6\n",
      "Checking Zeros 1 9 4 6\n",
      "Checking Zeros 1 9 4 6\n",
      "Checking Zeros 1 9 4 6\n",
      "Checking Zeros 1 9 5 6\n",
      "Checking Zeros 1 9 5 6\n",
      "Checking Zeros 1 9 5 6\n",
      "Checking Zeros 1 9 5 6\n",
      "Checking Zeros 1 9 5 6\n",
      "Checking Zeros 1 9 5 6\n",
      "Checking Zeros 1 9 5 6\n",
      "Checking Zeros 1 9 5 6\n",
      "Checking Zeros 1 9 5 6\n",
      "Checking Zeros 1 9 5 6\n",
      "Checking Zeros 1 9 5 6\n",
      "Checking Zeros 1 9 5 6\n",
      "Checking Zeros 1 9 5 6\n",
      "Checking Zeros 1 9 5 7\n",
      "Checking Zeros 1 9 5 7\n",
      "Checking Zeros 1 9 5 7\n",
      "Checking Zeros 1 9 5 7\n",
      "Checking Zeros 1 10 5 7\n",
      "Checking Zeros 1 10 5 7\n",
      "Checking Zeros 1 10 5 7\n",
      "Checking Zeros 1 10 5 7\n",
      "Checking Zeros 1 10 5 7\n",
      "Checking Zeros 1 10 5 7\n",
      "Checking Zeros 1 10 5 7\n",
      "Checking Zeros 1 10 5 7\n",
      "Checking Zeros 1 10 5 7\n",
      "Checking Zeros 1 10 5 7\n",
      "Checking Zeros 1 10 5 7\n",
      "Checking Zeros 1 10 5 7\n",
      "Checking Zeros 1 10 5 7\n",
      "Checking Zeros 1 10 5 7\n",
      "Checking Zeros 1 10 5 7\n",
      "Checking Zeros 2 11 5 7\n",
      "Checking Zeros 2 11 5 7\n",
      "Checking Zeros 2 11 5 7\n",
      "Checking Zeros 2 11 5 7\n",
      "Checking Zeros 2 11 5 7\n",
      "Checking Zeros 2 11 5 7\n",
      "Checking Zeros 2 11 5 7\n",
      "Checking Zeros 2 11 5 7\n",
      "Checking Zeros 2 11 5 7\n",
      "Checking Zeros 2 11 5 7\n",
      "Checking Zeros 2 11 5 7\n",
      "Checking Zeros 2 11 5 7\n",
      "Checking Zeros 2 11 5 7\n",
      "Checking Zeros 2 11 5 7\n",
      "Checking Zeros 2 11 5 7\n",
      "Checking Zeros 2 11 5 7\n",
      "Checking Zeros 2 11 5 7\n",
      "Checking Zeros 2 11 5 7\n",
      "Checking Zeros 2 12 5 7\n",
      "Checking Zeros 2 12 5 7\n",
      "Checking Zeros 2 12 5 7\n",
      "Checking Zeros 2 12 5 7\n",
      "Checking Zeros 2 12 5 7\n",
      "Checking Zeros 2 12 5 7\n",
      "Checking Zeros 2 12 5 7\n",
      "Checking Zeros 2 12 5 7\n",
      "Checking Zeros 2 12 5 7\n",
      "Checking Zeros 2 12 5 7\n",
      "Checking Zeros 2 12 5 7\n",
      "Checking Zeros 2 12 5 7\n",
      "Checking Zeros 2 12 5 7\n",
      "Checking Zeros 2 12 5 7\n",
      "Checking Zeros 2 12 5 8\n",
      "Checking Zeros 2 13 5 8\n",
      "Checking Zeros 2 13 6 8\n",
      "Checking Zeros 2 13 6 8\n",
      "Checking Zeros 2 13 6 8\n",
      "Checking Zeros 2 13 6 8\n",
      "Checking Zeros 2 13 6 9\n",
      "Checking Zeros 2 14 6 9\n",
      "Checking Zeros 2 14 6 9\n",
      "Checking Zeros 2 14 6 9\n",
      "Checking Zeros 2 14 6 9\n",
      "Checking Zeros 2 14 6 9\n",
      "Checking Zeros 2 14 6 9\n",
      "Checking Zeros 2 14 6 9\n",
      "Checking Zeros 2 14 6 9\n",
      "Checking Zeros 2 14 6 9\n",
      "Checking Zeros 2 14 6 9\n",
      "Checking Zeros 2 14 6 9\n",
      "Checking Zeros 2 14 6 10\n",
      "Checking Zeros 2 14 6 10\n",
      "Checking Zeros 2 14 6 10\n",
      "Checking Zeros 2 14 6 10\n",
      "Checking Zeros 2 14 6 10\n",
      "Checking Zeros 2 14 6 10\n",
      "Checking Zeros 2 14 6 10\n",
      "Checking Zeros 2 14 6 10\n",
      "Checking Zeros 2 14 6 10\n",
      "Checking Zeros 2 14 6 10\n",
      "Checking Zeros 2 14 6 10\n",
      "Checking Zeros 2 14 6 10\n",
      "Checking Zeros 2 14 6 10\n",
      "Checking Zeros 2 14 6 10\n",
      "Checking Zeros 2 14 6 10\n",
      "Checking Zeros 2 14 6 10\n",
      "Checking Zeros 2 14 6 10\n",
      "Checking Zeros 2 14 6 10\n",
      "Checking Zeros 2 14 6 11\n",
      "Checking Zeros 2 14 6 11\n",
      "Checking Zeros 2 14 6 11\n",
      "Checking Zeros 2 14 6 11\n",
      "Checking Zeros 2 15 6 11\n",
      "Checking Zeros 2 15 6 11\n",
      "Checking Zeros 2 15 6 11\n",
      "Checking Zeros 2 15 6 11\n",
      "Checking Zeros 2 15 6 11\n",
      "Checking Zeros 2 15 6 12\n",
      "Checking Zeros 2 15 6 12\n",
      "Checking Zeros 2 15 7 12\n",
      "Checking Zeros 2 15 7 13\n",
      "Checking Zeros 2 15 7 13\n",
      "Checking Zeros 2 15 7 13\n",
      "Checking Zeros 2 15 7 13\n",
      "Checking Zeros 2 15 7 13\n",
      "Checking Zeros 2 15 7 13\n",
      "Checking Zeros 2 15 7 13\n",
      "CTR_of_ads : 0.02 0.15 0.07 0.13\n",
      "Summed_Ctr - Calculated_Ctr : 0.06 0.0 0.0 0.0\n",
      "Checking Zeros 0 0 0 0\n",
      "Checking Zeros 0 0 0 0\n",
      "Checking Zeros 0 0 0 0\n",
      "Checking Zeros 0 0 0 0\n",
      "Checking Zeros 0 0 1 0\n",
      "Checking Zeros 0 0 1 1\n",
      "Checking Zeros 0 0 1 1\n",
      "Checking Zeros 0 0 1 1\n",
      "Checking Zeros 0 0 1 1\n",
      "Checking Zeros 0 1 1 1\n",
      "Checking Zeros 0 1 1 1\n",
      "Checking Zeros 0 1 1 1\n",
      "Checking Zeros 0 2 1 1\n",
      "Checking Zeros 0 2 1 1\n",
      "Checking Zeros 0 2 1 1\n",
      "Checking Zeros 0 2 1 1\n",
      "Checking Zeros 0 2 1 1\n",
      "Checking Zeros 0 2 1 1\n",
      "Checking Zeros 0 2 1 1\n",
      "Checking Zeros 0 2 1 1\n",
      "Checking Zeros 0 2 1 1\n",
      "Checking Zeros 0 2 1 1\n",
      "Checking Zeros 0 2 1 1\n",
      "Checking Zeros 0 2 1 1\n",
      "Checking Zeros 0 2 1 1\n",
      "Checking Zeros 0 2 1 1\n",
      "Checking Zeros 0 2 1 1\n",
      "Checking Zeros 1 3 1 1\n",
      "Checking Zeros 1 3 1 1\n",
      "Checking Zeros 1 3 1 1\n",
      "Checking Zeros 1 4 1 1\n",
      "Checking Zeros 1 4 1 1\n",
      "Checking Zeros 1 4 1 1\n",
      "Checking Zeros 1 4 1 1\n",
      "Checking Zeros 1 4 1 1\n",
      "Checking Zeros 1 4 1 1\n",
      "Checking Zeros 1 4 1 1\n",
      "Checking Zeros 1 4 1 1\n",
      "Checking Zeros 1 4 1 1\n",
      "Checking Zeros 1 4 1 1\n",
      "Checking Zeros 1 4 1 1\n",
      "Checking Zeros 1 4 1 1\n",
      "Checking Zeros 1 4 1 1\n",
      "Checking Zeros 1 4 1 1\n",
      "Checking Zeros 1 4 1 1\n",
      "Checking Zeros 1 4 1 1\n",
      "Checking Zeros 1 4 1 1\n",
      "Checking Zeros 1 4 1 1\n",
      "Checking Zeros 1 4 1 1\n",
      "Checking Zeros 1 4 1 1\n",
      "Checking Zeros 1 4 1 1\n",
      "Checking Zeros 1 5 1 1\n",
      "Checking Zeros 1 5 1 1\n",
      "Checking Zeros 1 5 1 1\n",
      "Checking Zeros 1 6 1 1\n",
      "Checking Zeros 1 6 1 1\n",
      "Checking Zeros 1 6 1 1\n",
      "Checking Zeros 1 6 1 1\n",
      "Checking Zeros 1 6 1 1\n",
      "Checking Zeros 1 6 1 1\n",
      "Checking Zeros 1 7 1 1\n",
      "Checking Zeros 1 7 1 1\n",
      "Checking Zeros 1 7 1 1\n",
      "Checking Zeros 1 7 1 1\n",
      "Checking Zeros 1 7 1 1\n",
      "Checking Zeros 1 7 1 1\n",
      "Checking Zeros 1 7 1 1\n",
      "Checking Zeros 1 7 1 1\n",
      "Checking Zeros 1 7 1 1\n",
      "Checking Zeros 1 7 1 1\n",
      "Checking Zeros 1 7 1 1\n",
      "Checking Zeros 1 7 1 1\n",
      "Checking Zeros 1 7 1 1\n",
      "Checking Zeros 1 7 1 1\n",
      "Checking Zeros 1 7 1 1\n",
      "Checking Zeros 1 7 1 1\n",
      "Checking Zeros 1 7 1 1\n",
      "Checking Zeros 1 7 1 1\n",
      "Checking Zeros 1 7 1 1\n",
      "Checking Zeros 1 7 1 1\n",
      "Checking Zeros 1 7 1 1\n",
      "Checking Zeros 1 7 1 1\n",
      "Checking Zeros 1 7 2 1\n",
      "Checking Zeros 1 7 2 1\n",
      "Checking Zeros 1 7 2 1\n",
      "Checking Zeros 1 7 3 1\n",
      "Checking Zeros 1 7 3 1\n",
      "Checking Zeros 1 7 3 1\n",
      "Checking Zeros 1 7 3 1\n",
      "Checking Zeros 1 7 3 1\n",
      "Checking Zeros 1 8 3 1\n",
      "Checking Zeros 1 8 3 1\n",
      "Checking Zeros 1 8 3 1\n",
      "Checking Zeros 1 8 3 1\n",
      "Checking Zeros 1 8 3 1\n",
      "Checking Zeros 1 8 3 1\n",
      "Checking Zeros 1 8 3 1\n",
      "Checking Zeros 1 8 3 1\n",
      "Checking Zeros 1 8 3 1\n",
      "Checking Zeros 1 8 3 1\n",
      "Checking Zeros 1 8 3 1\n",
      "Checking Zeros 1 8 3 1\n",
      "Checking Zeros 1 8 3 1\n",
      "Checking Zeros 1 8 3 1\n",
      "Checking Zeros 1 8 3 2\n",
      "Checking Zeros 1 8 3 2\n",
      "Checking Zeros 1 8 3 2\n",
      "Checking Zeros 1 8 3 3\n",
      "Checking Zeros 1 8 3 3\n",
      "Checking Zeros 1 8 3 3\n",
      "Checking Zeros 1 8 3 3\n",
      "Checking Zeros 1 8 3 3\n",
      "Checking Zeros 1 8 3 3\n",
      "Checking Zeros 1 8 3 3\n",
      "Checking Zeros 1 8 3 3\n",
      "Checking Zeros 1 8 3 3\n",
      "Checking Zeros 1 8 3 3\n",
      "Checking Zeros 1 9 3 3\n",
      "Checking Zeros 1 9 3 3\n",
      "Checking Zeros 1 9 3 3\n",
      "Checking Zeros 1 9 3 3\n",
      "Checking Zeros 1 9 3 3\n",
      "Checking Zeros 1 9 3 3\n",
      "Checking Zeros 1 10 3 3\n",
      "Checking Zeros 1 10 3 3\n",
      "Checking Zeros 1 10 3 3\n",
      "Checking Zeros 1 11 3 3\n",
      "Checking Zeros 1 11 3 3\n",
      "Checking Zeros 1 11 3 3\n",
      "Checking Zeros 1 11 3 3\n",
      "Checking Zeros 1 11 3 3\n",
      "Checking Zeros 1 11 3 3\n",
      "Checking Zeros 1 11 3 3\n",
      "Checking Zeros 1 11 4 3\n",
      "Checking Zeros 1 11 4 3\n",
      "Checking Zeros 1 11 4 3\n",
      "Checking Zeros 1 11 4 3\n",
      "Checking Zeros 1 11 4 3\n",
      "Checking Zeros 1 11 4 3\n",
      "Checking Zeros 1 11 4 3\n",
      "Checking Zeros 1 11 4 3\n",
      "Checking Zeros 1 11 4 3\n",
      "Checking Zeros 1 11 4 3\n",
      "Checking Zeros 1 11 4 3\n",
      "Checking Zeros 1 12 4 3\n",
      "Checking Zeros 1 12 4 3\n",
      "Checking Zeros 1 12 4 3\n",
      "Checking Zeros 1 12 4 3\n",
      "Checking Zeros 1 12 4 3\n",
      "Checking Zeros 1 12 4 3\n",
      "Checking Zeros 1 13 4 3\n",
      "Checking Zeros 1 13 4 3\n",
      "Checking Zeros 1 13 4 3\n",
      "Checking Zeros 1 13 4 3\n",
      "Checking Zeros 1 13 4 3\n",
      "Checking Zeros 1 13 4 3\n",
      "Checking Zeros 1 13 4 3\n",
      "Checking Zeros 1 13 4 3\n",
      "Checking Zeros 1 13 4 3\n",
      "Checking Zeros 1 14 4 3\n",
      "Checking Zeros 1 14 4 3\n",
      "Checking Zeros 1 14 4 3\n",
      "Checking Zeros 1 15 4 3\n",
      "Checking Zeros 1 15 4 3\n",
      "Checking Zeros 1 15 4 3\n",
      "Checking Zeros 1 15 4 3\n",
      "Checking Zeros 1 15 4 3\n",
      "Checking Zeros 1 15 4 3\n",
      "Checking Zeros 1 15 4 3\n",
      "Checking Zeros 1 15 4 3\n",
      "Checking Zeros 1 15 4 3\n",
      "Checking Zeros 1 15 4 3\n",
      "Checking Zeros 1 15 5 3\n",
      "Checking Zeros 1 15 5 3\n",
      "Checking Zeros 1 15 5 3\n",
      "Checking Zeros 1 15 5 3\n",
      "Checking Zeros 1 15 5 3\n",
      "Checking Zeros 1 15 5 3\n",
      "Checking Zeros 1 15 5 3\n",
      "Checking Zeros 1 15 5 3\n",
      "Checking Zeros 1 15 5 3\n",
      "Checking Zeros 1 15 5 3\n",
      "Checking Zeros 1 15 5 3\n",
      "Checking Zeros 1 15 5 3\n",
      "Checking Zeros 1 15 5 3\n",
      "Checking Zeros 1 15 5 3\n",
      "Checking Zeros 1 15 5 3\n",
      "Checking Zeros 1 15 5 3\n",
      "Checking Zeros 1 15 5 3\n",
      "Checking Zeros 1 15 5 3\n",
      "Checking Zeros 1 15 5 3\n",
      "Checking Zeros 1 15 5 3\n",
      "Checking Zeros 1 15 5 3\n",
      "Checking Zeros 1 15 5 3\n",
      "Checking Zeros 1 15 5 4\n",
      "Checking Zeros 1 15 5 4\n",
      "Checking Zeros 1 15 5 4\n",
      "Checking Zeros 1 15 5 4\n",
      "Checking Zeros 1 15 5 4\n",
      "Checking Zeros 1 15 5 4\n",
      "Checking Zeros 1 15 5 4\n",
      "Checking Zeros 1 15 5 4\n",
      "Checking Zeros 1 15 5 4\n",
      "Checking Zeros 1 15 5 4\n",
      "Checking Zeros 1 15 5 4\n",
      "Checking Zeros 1 15 5 4\n",
      "Checking Zeros 1 15 5 4\n",
      "Checking Zeros 1 15 5 4\n",
      "Checking Zeros 1 15 5 4\n",
      "Checking Zeros 1 15 5 4\n",
      "Checking Zeros 1 16 5 4\n",
      "Checking Zeros 1 16 5 4\n",
      "Checking Zeros 1 16 5 5\n",
      "Checking Zeros 1 16 5 5\n",
      "Checking Zeros 1 16 5 5\n",
      "Checking Zeros 1 16 5 5\n",
      "Checking Zeros 1 16 5 5\n",
      "Checking Zeros 1 16 5 5\n",
      "Checking Zeros 1 16 5 5\n",
      "Checking Zeros 1 16 5 5\n",
      "Checking Zeros 1 16 5 5\n",
      "Checking Zeros 1 16 5 5\n",
      "Checking Zeros 1 16 5 5\n",
      "Checking Zeros 1 16 5 5\n",
      "Checking Zeros 1 16 5 6\n",
      "Checking Zeros 1 16 5 6\n",
      "Checking Zeros 1 16 5 6\n",
      "Checking Zeros 1 16 5 6\n",
      "Checking Zeros 1 16 5 6\n",
      "Checking Zeros 1 16 5 6\n",
      "Checking Zeros 1 16 5 6\n",
      "Checking Zeros 1 16 5 6\n",
      "Checking Zeros 1 16 5 6\n",
      "Checking Zeros 1 16 5 6\n",
      "Checking Zeros 1 16 5 6\n",
      "Checking Zeros 1 16 5 6\n",
      "Checking Zeros 1 16 5 6\n",
      "Checking Zeros 1 16 5 6\n",
      "Checking Zeros 1 16 5 6\n",
      "Checking Zeros 1 16 5 7\n",
      "Checking Zeros 1 16 5 7\n",
      "Checking Zeros 1 16 5 7\n",
      "Checking Zeros 1 16 5 7\n",
      "Checking Zeros 1 17 5 7\n",
      "Checking Zeros 1 17 5 7\n",
      "Checking Zeros 1 17 5 7\n",
      "Checking Zeros 1 17 5 7\n",
      "Checking Zeros 1 17 5 7\n",
      "Checking Zeros 1 17 5 7\n",
      "Checking Zeros 1 17 5 7\n",
      "Checking Zeros 1 17 5 7\n",
      "Checking Zeros 1 17 5 7\n",
      "Checking Zeros 1 17 5 7\n",
      "Checking Zeros 1 17 6 7\n",
      "Checking Zeros 1 17 6 7\n",
      "Checking Zeros 1 17 6 7\n",
      "Checking Zeros 1 17 6 7\n",
      "Checking Zeros 1 17 6 7\n",
      "Checking Zeros 1 17 6 7\n",
      "Checking Zeros 1 17 6 7\n",
      "Checking Zeros 1 17 6 7\n",
      "Checking Zeros 1 17 6 7\n",
      "Checking Zeros 1 17 6 7\n",
      "Checking Zeros 1 17 6 7\n",
      "Checking Zeros 1 17 6 7\n",
      "Checking Zeros 1 17 6 7\n",
      "Checking Zeros 1 17 6 8\n",
      "Checking Zeros 1 17 6 8\n",
      "Checking Zeros 1 17 6 8\n",
      "Checking Zeros 1 17 6 8\n",
      "Checking Zeros 1 17 6 8\n",
      "Checking Zeros 1 17 6 8\n",
      "Checking Zeros 1 17 6 8\n",
      "Checking Zeros 1 17 6 8\n",
      "Checking Zeros 1 17 6 8\n",
      "Checking Zeros 1 17 6 8\n",
      "Checking Zeros 1 18 6 8\n",
      "Checking Zeros 1 18 6 8\n",
      "Checking Zeros 1 18 6 8\n",
      "Checking Zeros 1 18 6 8\n",
      "Checking Zeros 1 18 6 8\n",
      "Checking Zeros 1 18 6 8\n",
      "Checking Zeros 1 18 6 8\n",
      "Checking Zeros 1 18 6 8\n",
      "Checking Zeros 1 18 6 8\n",
      "Checking Zeros 1 18 6 8\n",
      "Checking Zeros 1 18 6 8\n",
      "Checking Zeros 1 18 6 8\n",
      "Checking Zeros 1 18 6 8\n",
      "Checking Zeros 1 18 6 8\n"
     ]
    },
    {
     "name": "stdout",
     "output_type": "stream",
     "text": [
      "Checking Zeros 1 18 6 8\n",
      "Checking Zeros 1 18 6 8\n",
      "Checking Zeros 1 18 6 8\n",
      "Checking Zeros 1 18 6 8\n",
      "Checking Zeros 1 18 6 8\n",
      "Checking Zeros 1 18 6 8\n",
      "Checking Zeros 1 18 6 8\n",
      "Checking Zeros 1 18 6 8\n",
      "Checking Zeros 1 18 6 8\n",
      "Checking Zeros 1 18 6 8\n",
      "CTR_of_ads : 0.01 0.18 0.06 0.08\n",
      "Summed_Ctr - Calculated_Ctr : 0.07 -0.03 0.010000000000000009 0.05\n",
      "Checking Zeros 0 0 0 0\n",
      "Checking Zeros 0 0 0 0\n",
      "Checking Zeros 0 0 0 0\n"
     ]
    }
   ],
   "source": [
    "init_alpha_1 = init_alpha_2 =  init_alpha_3 = init_alpha_4 = 1\n",
    "init_beta_1 = init_beta_2 = init_beta_3 = init_beta_4 =1\n",
    "\n",
    "success_1 = 0\n",
    "success_2 = 0\n",
    "success_3 = 0\n",
    "success_4 = 0\n",
    "cnt = 0\n",
    "\n",
    "x = np.linspace(0, 1, 100)\n",
    "for i in range(0,201):  \n",
    "#     if i != 0 :\n",
    "#         pass\n",
    "#     else :\n",
    "#         continue\n",
    "\n",
    "    if (i % 100 == 0) & (i != 0) :\n",
    "\n",
    "        CTR_of_1 = success_1/100\n",
    "        CTR_of_2 = success_2/100\n",
    "        CTR_of_3 = success_3/100\n",
    "        CTR_of_4 = success_4/100\n",
    "        print('CTR_of_ads :',CTR_of_1, CTR_of_2, CTR_of_3,  CTR_of_4)\n",
    "        print('Summed_Ctr - Calculated_Ctr :',\n",
    "              samples.iloc[:i-cnt,0].sum()/100 -success_1/100,\n",
    "              samples.iloc[:i-cnt,1].sum()/100 - success_2/100, \n",
    "              samples.iloc[:i-cnt,2].sum()/100 - success_3/100, \n",
    "              samples.iloc[:i-cnt,3].sum()/100 - success_4/100)\n",
    "        cnt = i\n",
    "        success_1 = success_2 = success_3 = success_4 = 0\n",
    "\n",
    "    for j in range(1,4):\n",
    "#         fig, ax = plt.subplots(1,  1)\n",
    "        ads_1 = beta.rvs(init_alpha_1,init_beta_1, size=1)\n",
    "        ads_2 = beta.rvs(init_alpha_2,init_beta_2, size=1)\n",
    "        ads_3 = beta.rvs(init_alpha_3,init_beta_3, size=1)\n",
    "        ads_4 = beta.rvs(init_alpha_4,init_beta_4, size=1)\n",
    "        ads_rvs = [ads_1, ads_2, ads_3, ads_4]\n",
    "        max_rvs = np.max(ads_rvs)\n",
    "        win_index = ads_rvs.index(max_rvs)\n",
    "        \n",
    "        if win_index == 0 :\n",
    "            if samples.iloc[i,j] == 1:\n",
    "                success_1 += 1\n",
    "                init_alpha_1 += 1\n",
    "\n",
    "            else :\n",
    "                init_beta_1 += 1\n",
    "                \n",
    "        \n",
    "\n",
    "#         if j == 1 :\n",
    "#             if samples.iloc[i,j] == 1:\n",
    "#                 success_2 += 1\n",
    "#                 init_alpha_2 += 1\n",
    "\n",
    "#             else :\n",
    "#                 init_beta_2 += 1\n",
    "\n",
    "            \n",
    "#         if j == 2 :\n",
    "#             if samples.iloc[i,j] == 1:\n",
    "#                 success_3 += 1\n",
    "#                 init_alpha_3 += 1\n",
    "\n",
    "#             else :\n",
    "#                 init_beta_3 += 1\n",
    "\n",
    "        \n",
    "#         if j == 3 :\n",
    "#             if samples.iloc[i,j] == 1:\n",
    "#                 success_4 += 1\n",
    "#                 init_alpha_4 += 1\n",
    "\n",
    "#             else :\n",
    "#                 init_beta_4 += 1\n",
    "\n",
    "        \n",
    "        print('Checking Zeros',success_1, success_2, success_3, success_4)\n",
    "#         print(success_1/100, success_2/100, success_3/100, success_4/100)\n",
    "\n",
    "#     if i != 0 :\n",
    "#         pass\n",
    "#     else :\n",
    "#         continue\n",
    "#     if i % 100 == 0 :\n",
    "#         CTR_of_1 = success_1/100\n",
    "#         CTR_of_2 = success_2/100\n",
    "#         CTR_of_3 = success_3/100\n",
    "#         CTR_of_4 = success_4/100\n",
    "#         print(CTR_of_1, CTR_of_3, CTR_of_3, CTR_of_4)\n",
    "#         print('i:',i, 'inits',init_alpha_1, init_alpha_2, init_alpha_3, init_alpha_4)\n",
    "# ax.plot(x, beta.pdf(x, init_alpha_1, init_beta_1), 'r-', lw=3, alpha=0.5, label='ads_1')\n",
    "# ax.plot(x, beta.pdf(x, init_alpha_2, init_beta_2), 'g-', lw=3, alpha=0.5, label='ads_2')\n",
    "# ax.plot(x, beta.pdf(x, init_alpha_3, init_beta_3), 'b-', lw=3, alpha=0.5, label='ads_3')\n",
    "# ax.plot(x, beta.pdf(x, init_alpha_4, init_beta_4), 'y-', lw=3, alpha=0.5, label='ads_4')\n",
    "        "
   ]
  },
  {
   "cell_type": "code",
   "execution_count": null,
   "metadata": {},
   "outputs": [],
   "source": [
    "#0.11 0.07 0.07 0.13\n",
    "samples.iloc[:100, 0:4].sum()/100\n",
    "# 이럴 경우에는 summed_ctr - calculated_ctr을 해서 차이만큼 광고2번을 차이만큼의 prior을 적용해서 좀 더 보여줘...광고1번은 좀 prior을 이용해서 줄여줘"
   ]
  },
  {
   "cell_type": "markdown",
   "metadata": {},
   "source": [
    "#### 이럴 경우에는 summed_ctr - calculated_ctr을 해서 차이만큼 광고2번을 차이만큼의 prior을 적용해서 좀 더 보여줘...광고1번은 좀 prior을 이용해서 줄여줘"
   ]
  },
  {
   "cell_type": "code",
   "execution_count": 46,
   "metadata": {
    "scrolled": true
   },
   "outputs": [
    {
     "data": {
      "text/plain": [
       "Ads1    0.17\n",
       "Ads2    0.18\n",
       "Ads3    0.06\n",
       "Ads4    0.08\n",
       "dtype: float64"
      ]
     },
     "execution_count": 46,
     "metadata": {},
     "output_type": "execute_result"
    }
   ],
   "source": [
    "#0.01 0.18 0.06 0.08\n",
    "samples.iloc[100:200, 0:4].sum()/100"
   ]
  },
  {
   "cell_type": "code",
   "execution_count": null,
   "metadata": {},
   "outputs": [],
   "source": []
  },
  {
   "cell_type": "code",
   "execution_count": null,
   "metadata": {},
   "outputs": [],
   "source": []
  },
  {
   "cell_type": "code",
   "execution_count": null,
   "metadata": {},
   "outputs": [],
   "source": []
  },
  {
   "cell_type": "code",
   "execution_count": null,
   "metadata": {},
   "outputs": [],
   "source": []
  },
  {
   "cell_type": "code",
   "execution_count": null,
   "metadata": {},
   "outputs": [],
   "source": []
  },
  {
   "cell_type": "code",
   "execution_count": null,
   "metadata": {},
   "outputs": [],
   "source": []
  },
  {
   "cell_type": "code",
   "execution_count": null,
   "metadata": {},
   "outputs": [],
   "source": []
  },
  {
   "cell_type": "code",
   "execution_count": null,
   "metadata": {},
   "outputs": [],
   "source": []
  },
  {
   "cell_type": "code",
   "execution_count": null,
   "metadata": {},
   "outputs": [],
   "source": []
  },
  {
   "cell_type": "code",
   "execution_count": null,
   "metadata": {},
   "outputs": [],
   "source": []
  },
  {
   "cell_type": "code",
   "execution_count": 25,
   "metadata": {
    "scrolled": true
   },
   "outputs": [
    {
     "data": {
      "image/png": "[encoded data removed]",
      "text/plain": [
       "<Figure size 432x288 with 1 Axes>"
      ]
     },
     "metadata": {
      "needs_background": "light"
     },
     "output_type": "display_data"
    }
   ],
   "source": [
    "init_alpha = 1\n",
    "init_beta = 1\n",
    "fig, ax = plt.subplots(1, 1)\n",
    "x = np.linspace(0, 1, 100)\n",
    "for i in range(0, 100):\n",
    "    #iloc의 앞에 0은 i로 바뀔 것\n",
    "    if samples.iloc[i,0] == 0 :\n",
    "        #ads_12345...을 어떻게 불러올 것인지, beta.rvs에서 알파베타값 어떻게 올려줄 것인가\n",
    "        alpha_ = 0\n",
    "        bet = 1\n",
    "        init_alpha += alpha_ \n",
    "        init_beta += bet\n",
    "        ads_1 = beta.rvs(init_alpha, init_beta)\n",
    "\n",
    "    else :\n",
    "        alpha_ = 1\n",
    "        bet = 0\n",
    "        init_alpha += alpha_ \n",
    "        init_beta += bet\n",
    "        ads_1 = beta.rvs(init_alpha, init_beta)\n",
    "    \n",
    "    ax.plot(x, beta.pdf(x, init_alpha, init_beta), 'r-', lw=3, alpha=0.0001, label='ads_1')\n",
    "    ax.plot(ads_1, 0, 'x', 'red')\n",
    "\n",
    "    ax.plot(x, beta.pdf(x, init_alpha, init_beta))\n",
    "    \n",
    "    #ax.plot(x, beta.pdf(x, 1, 1), 'r-', lw=3, alpha=0.6, label='ads_1')\n",
    "    #ax.plot(ads_1, 0, 'x', 'red')"
   ]
  },
  {
   "cell_type": "code",
   "execution_count": 93,
   "metadata": {},
   "outputs": [
    {
     "data": {
      "text/html": [
       "<div>\n",
       "<style scoped>\n",
       "    .dataframe tbody tr th:only-of-type {\n",
       "        vertical-align: middle;\n",
       "    }\n",
       "\n",
       "    .dataframe tbody tr th {\n",
       "        vertical-align: top;\n",
       "    }\n",
       "\n",
       "    .dataframe thead th {\n",
       "        text-align: right;\n",
       "    }\n",
       "</style>\n",
       "<table border=\"1\" class=\"dataframe\">\n",
       "  <thead>\n",
       "    <tr style=\"text-align: right;\">\n",
       "      <th></th>\n",
       "      <th>Ads1</th>\n",
       "      <th>Ads2</th>\n",
       "      <th>Ads3</th>\n",
       "      <th>Ads4</th>\n",
       "      <th>Ads5</th>\n",
       "      <th>Ads6</th>\n",
       "      <th>Ads7</th>\n",
       "      <th>Ads8</th>\n",
       "      <th>Ads9</th>\n",
       "      <th>Ads10</th>\n",
       "    </tr>\n",
       "  </thead>\n",
       "  <tbody>\n",
       "    <tr>\n",
       "      <th>0</th>\n",
       "      <td>0</td>\n",
       "      <td>0</td>\n",
       "      <td>0</td>\n",
       "      <td>0</td>\n",
       "      <td>0</td>\n",
       "      <td>0</td>\n",
       "      <td>0</td>\n",
       "      <td>0</td>\n",
       "      <td>1</td>\n",
       "      <td>0</td>\n",
       "    </tr>\n",
       "    <tr>\n",
       "      <th>1</th>\n",
       "      <td>0</td>\n",
       "      <td>0</td>\n",
       "      <td>0</td>\n",
       "      <td>0</td>\n",
       "      <td>0</td>\n",
       "      <td>0</td>\n",
       "      <td>0</td>\n",
       "      <td>0</td>\n",
       "      <td>0</td>\n",
       "      <td>0</td>\n",
       "    </tr>\n",
       "    <tr>\n",
       "      <th>2</th>\n",
       "      <td>0</td>\n",
       "      <td>1</td>\n",
       "      <td>0</td>\n",
       "      <td>0</td>\n",
       "      <td>0</td>\n",
       "      <td>0</td>\n",
       "      <td>0</td>\n",
       "      <td>1</td>\n",
       "      <td>0</td>\n",
       "      <td>0</td>\n",
       "    </tr>\n",
       "    <tr>\n",
       "      <th>3</th>\n",
       "      <td>0</td>\n",
       "      <td>0</td>\n",
       "      <td>0</td>\n",
       "      <td>0</td>\n",
       "      <td>0</td>\n",
       "      <td>0</td>\n",
       "      <td>0</td>\n",
       "      <td>0</td>\n",
       "      <td>0</td>\n",
       "      <td>0</td>\n",
       "    </tr>\n",
       "    <tr>\n",
       "      <th>4</th>\n",
       "      <td>1</td>\n",
       "      <td>1</td>\n",
       "      <td>0</td>\n",
       "      <td>0</td>\n",
       "      <td>0</td>\n",
       "      <td>0</td>\n",
       "      <td>0</td>\n",
       "      <td>0</td>\n",
       "      <td>0</td>\n",
       "      <td>0</td>\n",
       "    </tr>\n",
       "  </tbody>\n",
       "</table>\n",
       "</div>"
      ],
      "text/plain": [
       "   Ads1  Ads2  Ads3  Ads4  Ads5  Ads6  Ads7  Ads8  Ads9  Ads10\n",
       "0     0     0     0     0     0     0     0     0     1      0\n",
       "1     0     0     0     0     0     0     0     0     0      0\n",
       "2     0     1     0     0     0     0     0     1     0      0\n",
       "3     0     0     0     0     0     0     0     0     0      0\n",
       "4     1     1     0     0     0     0     0     0     0      0"
      ]
     },
     "execution_count": 93,
     "metadata": {},
     "output_type": "execute_result"
    }
   ],
   "source": [
    "samples.head()"
   ]
  },
  {
   "cell_type": "code",
   "execution_count": 113,
   "metadata": {},
   "outputs": [
    {
     "data": {
      "text/plain": [
       "0"
      ]
     },
     "execution_count": 113,
     "metadata": {},
     "output_type": "execute_result"
    }
   ],
   "source": [
    "samples.iloc[0,max_rvs_ad]"
   ]
  },
  {
   "cell_type": "code",
   "execution_count": null,
   "metadata": {},
   "outputs": [],
   "source": []
  },
  {
   "cell_type": "code",
   "execution_count": null,
   "metadata": {},
   "outputs": [],
   "source": []
  },
  {
   "cell_type": "code",
   "execution_count": null,
   "metadata": {},
   "outputs": [],
   "source": []
  },
  {
   "cell_type": "code",
   "execution_count": null,
   "metadata": {},
   "outputs": [],
   "source": []
  },
  {
   "cell_type": "code",
   "execution_count": null,
   "metadata": {},
   "outputs": [],
   "source": []
  },
  {
   "cell_type": "code",
   "execution_count": null,
   "metadata": {},
   "outputs": [],
   "source": []
  },
  {
   "cell_type": "code",
   "execution_count": null,
   "metadata": {},
   "outputs": [],
   "source": []
  },
  {
   "cell_type": "code",
   "execution_count": null,
   "metadata": {},
   "outputs": [],
   "source": []
  },
  {
   "cell_type": "markdown",
   "metadata": {},
   "source": [
    "### 코드 수정"
   ]
  },
  {
   "cell_type": "code",
   "execution_count": 130,
   "metadata": {
    "scrolled": true
   },
   "outputs": [
    {
     "name": "stdout",
     "output_type": "stream",
     "text": [
      "win index? 0 i? 0\n",
      "Click or Fail 0\n",
      "0 0 0 0\n",
      "win index? 1 i? 1\n",
      "Click or Fail 0\n",
      "0 0 0 0\n",
      "win index? 3 i? 2\n",
      "Click or Fail 0\n",
      "0 0 0 0\n",
      "win index? 2 i? 3\n",
      "Click or Fail 0\n",
      "0 0 0 0\n",
      "win index? 0 i? 4\n",
      "Click or Fail 1\n",
      "1 0 0 0\n",
      "win index? 0 i? 5\n",
      "Click or Fail 0\n",
      "1 0 0 0\n",
      "win index? 2 i? 6\n",
      "Click or Fail 0\n",
      "1 0 0 0\n",
      "win index? 3 i? 7\n",
      "Click or Fail 0\n",
      "1 0 0 0\n",
      "win index? 0 i? 8\n",
      "Click or Fail 0\n",
      "1 0 0 0\n",
      "win index? 3 i? 9\n",
      "Click or Fail 0\n",
      "1 0 0 0\n",
      "win index? 0 i? 10\n",
      "Click or Fail 0\n",
      "1 0 0 0\n",
      "win index? 2 i? 11\n",
      "Click or Fail 0\n",
      "1 0 0 0\n",
      "win index? 0 i? 12\n",
      "Click or Fail 0\n",
      "1 0 0 0\n",
      "win index? 1 i? 13\n",
      "Click or Fail 0\n",
      "1 0 0 0\n",
      "win index? 0 i? 14\n",
      "Click or Fail 0\n",
      "1 0 0 0\n",
      "win index? 1 i? 15\n",
      "Click or Fail 0\n",
      "1 0 0 0\n",
      "win index? 1 i? 16\n",
      "Click or Fail 0\n",
      "1 0 0 0\n",
      "win index? 3 i? 17\n",
      "Click or Fail 0\n",
      "1 0 0 0\n",
      "win index? 0 i? 18\n",
      "Click or Fail 0\n",
      "1 0 0 0\n",
      "win index? 3 i? 19\n",
      "Click or Fail 0\n",
      "1 0 0 0\n",
      "win index? 0 i? 20\n",
      "Click or Fail 0\n",
      "1 0 0 0\n",
      "win index? 3 i? 21\n",
      "Click or Fail 0\n",
      "1 0 0 0\n",
      "win index? 2 i? 22\n",
      "Click or Fail 0\n",
      "1 0 0 0\n",
      "win index? 1 i? 23\n",
      "Click or Fail 0\n",
      "1 0 0 0\n",
      "win index? 2 i? 24\n",
      "Click or Fail 0\n",
      "1 0 0 0\n",
      "win index? 0 i? 25\n",
      "Click or Fail 0\n",
      "1 0 0 0\n",
      "win index? 0 i? 26\n",
      "Click or Fail 0\n",
      "1 0 0 0\n",
      "win index? 1 i? 27\n",
      "Click or Fail 0\n",
      "1 0 0 0\n",
      "win index? 2 i? 28\n",
      "Click or Fail 0\n",
      "1 0 0 0\n",
      "win index? 0 i? 29\n",
      "Click or Fail 1\n",
      "2 0 0 0\n",
      "win index? 1 i? 30\n",
      "Click or Fail 0\n",
      "2 0 0 0\n",
      "win index? 0 i? 31\n",
      "Click or Fail 0\n",
      "2 0 0 0\n",
      "win index? 0 i? 32\n",
      "Click or Fail 0\n",
      "2 0 0 0\n",
      "win index? 1 i? 33\n",
      "Click or Fail 0\n",
      "2 0 0 0\n",
      "win index? 0 i? 34\n",
      "Click or Fail 0\n",
      "2 0 0 0\n",
      "win index? 3 i? 35\n",
      "Click or Fail 0\n",
      "2 0 0 0\n",
      "win index? 0 i? 36\n",
      "Click or Fail 0\n",
      "2 0 0 0\n",
      "win index? 0 i? 37\n",
      "Click or Fail 0\n",
      "2 0 0 0\n",
      "win index? 0 i? 38\n",
      "Click or Fail 0\n",
      "2 0 0 0\n",
      "win index? 0 i? 39\n",
      "Click or Fail 0\n",
      "2 0 0 0\n",
      "win index? 2 i? 40\n",
      "Click or Fail 0\n",
      "2 0 0 0\n",
      "win index? 1 i? 41\n",
      "Click or Fail 0\n",
      "2 0 0 0\n",
      "win index? 3 i? 42\n",
      "Click or Fail 0\n",
      "2 0 0 0\n",
      "win index? 0 i? 43\n",
      "Click or Fail 0\n",
      "2 0 0 0\n",
      "win index? 3 i? 44\n",
      "Click or Fail 0\n",
      "2 0 0 0\n",
      "win index? 2 i? 45\n",
      "Click or Fail 0\n",
      "2 0 0 0\n",
      "win index? 0 i? 46\n",
      "Click or Fail 0\n",
      "2 0 0 0\n",
      "win index? 3 i? 47\n",
      "Click or Fail 0\n",
      "2 0 0 0\n",
      "win index? 0 i? 48\n",
      "Click or Fail 0\n",
      "2 0 0 0\n",
      "win index? 3 i? 49\n",
      "Click or Fail 1\n",
      "2 0 0 1\n",
      "win index? 3 i? 50\n",
      "Click or Fail 0\n",
      "2 0 0 1\n",
      "win index? 3 i? 51\n",
      "Click or Fail 0\n",
      "2 0 0 1\n",
      "win index? 1 i? 52\n",
      "Click or Fail 0\n",
      "2 0 0 1\n",
      "win index? 3 i? 53\n",
      "Click or Fail 0\n",
      "2 0 0 1\n",
      "win index? 0 i? 54\n",
      "Click or Fail 0\n",
      "2 0 0 1\n",
      "win index? 2 i? 55\n",
      "Click or Fail 0\n",
      "2 0 0 1\n",
      "win index? 0 i? 56\n",
      "Click or Fail 0\n",
      "2 0 0 1\n",
      "win index? 3 i? 57\n",
      "Click or Fail 0\n",
      "2 0 0 1\n",
      "win index? 1 i? 58\n",
      "Click or Fail 1\n",
      "2 1 0 1\n",
      "win index? 1 i? 59\n",
      "Click or Fail 0\n",
      "2 1 0 1\n",
      "win index? 1 i? 60\n",
      "Click or Fail 0\n",
      "2 1 0 1\n",
      "win index? 1 i? 61\n",
      "Click or Fail 0\n",
      "2 1 0 1\n",
      "win index? 3 i? 62\n",
      "Click or Fail 0\n",
      "2 1 0 1\n",
      "win index? 1 i? 63\n",
      "Click or Fail 0\n",
      "2 1 0 1\n",
      "win index? 0 i? 64\n",
      "Click or Fail 0\n",
      "2 1 0 1\n",
      "win index? 0 i? 65\n",
      "Click or Fail 0\n",
      "2 1 0 1\n",
      "win index? 1 i? 66\n",
      "Click or Fail 1\n",
      "2 2 0 1\n",
      "win index? 1 i? 67\n",
      "Click or Fail 0\n",
      "2 2 0 1\n",
      "win index? 1 i? 68\n",
      "Click or Fail 0\n",
      "2 2 0 1\n",
      "win index? 1 i? 69\n",
      "Click or Fail 0\n",
      "2 2 0 1\n",
      "win index? 1 i? 70\n",
      "Click or Fail 0\n",
      "2 2 0 1\n",
      "win index? 3 i? 71\n",
      "Click or Fail 0\n",
      "2 2 0 1\n",
      "win index? 3 i? 72\n",
      "Click or Fail 0\n",
      "2 2 0 1\n",
      "win index? 1 i? 73\n",
      "Click or Fail 0\n",
      "2 2 0 1\n",
      "win index? 0 i? 74\n",
      "Click or Fail 0\n",
      "2 2 0 1\n",
      "win index? 0 i? 75\n",
      "Click or Fail 0\n",
      "2 2 0 1\n",
      "win index? 1 i? 76\n",
      "Click or Fail 0\n",
      "2 2 0 1\n",
      "win index? 0 i? 77\n",
      "Click or Fail 0\n",
      "2 2 0 1\n",
      "win index? 2 i? 78\n",
      "Click or Fail 0\n",
      "2 2 0 1\n",
      "win index? 1 i? 79\n",
      "Click or Fail 0\n",
      "2 2 0 1\n",
      "win index? 2 i? 80\n",
      "Click or Fail 0\n",
      "2 2 0 1\n",
      "win index? 1 i? 81\n",
      "Click or Fail 0\n",
      "2 2 0 1\n",
      "win index? 1 i? 82\n",
      "Click or Fail 1\n",
      "2 3 0 1\n",
      "win index? 1 i? 83\n",
      "Click or Fail 0\n",
      "2 3 0 1\n",
      "win index? 3 i? 84\n",
      "Click or Fail 0\n",
      "2 3 0 1\n",
      "win index? 3 i? 85\n",
      "Click or Fail 0\n",
      "2 3 0 1\n",
      "win index? 0 i? 86\n",
      "Click or Fail 0\n",
      "2 3 0 1\n",
      "win index? 1 i? 87\n",
      "Click or Fail 0\n",
      "2 3 0 1\n",
      "win index? 1 i? 88\n",
      "Click or Fail 0\n",
      "2 3 0 1\n",
      "win index? 1 i? 89\n",
      "Click or Fail 0\n",
      "2 3 0 1\n",
      "win index? 2 i? 90\n",
      "Click or Fail 0\n",
      "2 3 0 1\n",
      "win index? 1 i? 91\n",
      "Click or Fail 0\n",
      "2 3 0 1\n",
      "win index? 1 i? 92\n",
      "Click or Fail 0\n",
      "2 3 0 1\n",
      "win index? 3 i? 93\n",
      "Click or Fail 1\n",
      "2 3 0 2\n",
      "win index? 0 i? 94\n",
      "Click or Fail 0\n",
      "2 3 0 2\n",
      "win index? 2 i? 95\n",
      "Click or Fail 0\n",
      "2 3 0 2\n",
      "win index? 0 i? 96\n",
      "Click or Fail 0\n",
      "2 3 0 2\n",
      "win index? 3 i? 97\n",
      "Click or Fail 1\n",
      "2 3 0 3\n",
      "win index? 0 i? 98\n",
      "Click or Fail 0\n",
      "2 3 0 3\n",
      "win index? 3 i? 99\n",
      "Click or Fail 0\n",
      "2 3 0 3\n",
      "win index? 2 i? 100\n",
      "Click or Fail 0\n",
      "2 3 0 3\n",
      "i-cnt 100\n",
      "Summed_Ctr : 0.08 0.15 0.07 0.13\n",
      "CTR_of_ads(Experiment) : 0.02 0.03 0.0 0.03\n",
      "Summed_Ctr - CTR_of_ads(Experiment) : -0.02 -0.03 0.0 -0.03\n",
      "0.0 0.0 0.0 0.0\n",
      "win index? 3 i? 101\n",
      "Click or Fail 1\n",
      "0 0 0 1\n",
      "win index? 3 i? 102\n",
      "Click or Fail 0\n",
      "0 0 0 1\n",
      "win index? 3 i? 103\n",
      "Click or Fail 0\n",
      "0 0 0 1\n",
      "win index? 1 i? 104\n",
      "Click or Fail 1\n",
      "0 1 0 1\n",
      "win index? 1 i? 105\n",
      "Click or Fail 0\n",
      "0 1 0 1\n",
      "win index? 1 i? 106\n",
      "Click or Fail 0\n",
      "0 1 0 1\n",
      "win index? 3 i? 107\n",
      "Click or Fail 0\n",
      "0 1 0 1\n",
      "win index? 3 i? 108\n",
      "Click or Fail 0\n",
      "0 1 0 1\n",
      "win index? 1 i? 109\n",
      "Click or Fail 1\n",
      "0 2 0 1\n",
      "win index? 2 i? 110\n",
      "Click or Fail 0\n",
      "0 2 0 1\n",
      "win index? 1 i? 111\n",
      "Click or Fail 0\n",
      "0 2 0 1\n",
      "win index? 1 i? 112\n",
      "Click or Fail 0\n",
      "0 2 0 1\n",
      "win index? 3 i? 113\n",
      "Click or Fail 0\n",
      "0 2 0 1\n",
      "win index? 3 i? 114\n",
      "Click or Fail 0\n",
      "0 2 0 1\n",
      "win index? 1 i? 115\n",
      "Click or Fail 0\n",
      "0 2 0 1\n",
      "win index? 2 i? 116\n",
      "Click or Fail 0\n",
      "0 2 0 1\n",
      "win index? 1 i? 117\n",
      "Click or Fail 1\n",
      "0 3 0 1\n",
      "win index? 1 i? 118\n",
      "Click or Fail 1\n",
      "0 4 0 1\n",
      "win index? 1 i? 119\n",
      "Click or Fail 0\n",
      "0 4 0 1\n",
      "win index? 3 i? 120\n",
      "Click or Fail 0\n",
      "0 4 0 1\n",
      "win index? 0 i? 121\n",
      "Click or Fail 0\n",
      "0 4 0 1\n",
      "win index? 1 i? 122\n",
      "Click or Fail 0\n",
      "0 4 0 1\n",
      "win index? 1 i? 123\n",
      "Click or Fail 0\n",
      "0 4 0 1\n",
      "win index? 3 i? 124\n",
      "Click or Fail 0\n",
      "0 4 0 1\n",
      "win index? 3 i? 125\n",
      "Click or Fail 0\n",
      "0 4 0 1\n",
      "win index? 1 i? 126\n",
      "Click or Fail 0\n",
      "0 4 0 1\n",
      "win index? 2 i? 127\n",
      "Click or Fail 1\n",
      "0 4 1 1\n",
      "win index? 3 i? 128\n",
      "Click or Fail 0\n",
      "0 4 1 1\n",
      "win index? 1 i? 129\n",
      "Click or Fail 0\n",
      "0 4 1 1\n",
      "win index? 1 i? 130\n",
      "Click or Fail 1\n",
      "0 5 1 1\n",
      "win index? 3 i? 131\n",
      "Click or Fail 0\n",
      "0 5 1 1\n",
      "win index? 1 i? 132\n",
      "Click or Fail 0\n",
      "0 5 1 1\n",
      "win index? 1 i? 133\n",
      "Click or Fail 0\n",
      "0 5 1 1\n",
      "win index? 1 i? 134\n",
      "Click or Fail 0\n",
      "0 5 1 1\n",
      "win index? 2 i? 135\n",
      "Click or Fail 0\n",
      "0 5 1 1\n",
      "win index? 3 i? 136\n",
      "Click or Fail 0\n",
      "0 5 1 1\n",
      "win index? 1 i? 137\n",
      "Click or Fail 0\n",
      "0 5 1 1\n",
      "win index? 1 i? 138\n",
      "Click or Fail 0\n",
      "0 5 1 1\n",
      "win index? 1 i? 139\n",
      "Click or Fail 1\n",
      "0 6 1 1\n",
      "win index? 1 i? 140\n",
      "Click or Fail 0\n",
      "0 6 1 1\n",
      "win index? 3 i? 141\n",
      "Click or Fail 0\n",
      "0 6 1 1\n",
      "win index? 1 i? 142\n",
      "Click or Fail 1\n",
      "0 7 1 1\n",
      "win index? 1 i? 143\n",
      "Click or Fail 0\n",
      "0 7 1 1\n",
      "win index? 1 i? 144\n",
      "Click or Fail 0\n",
      "0 7 1 1\n",
      "win index? 3 i? 145\n",
      "Click or Fail 0\n",
      "0 7 1 1\n",
      "win index? 1 i? 146\n",
      "Click or Fail 0\n",
      "0 7 1 1\n",
      "win index? 2 i? 147\n",
      "Click or Fail 0\n",
      "0 7 1 1\n",
      "win index? 2 i? 148\n",
      "Click or Fail 0\n",
      "0 7 1 1\n",
      "win index? 2 i? 149\n",
      "Click or Fail 0\n",
      "0 7 1 1\n",
      "win index? 3 i? 150\n",
      "Click or Fail 0\n",
      "0 7 1 1\n",
      "win index? 1 i? 151\n",
      "Click or Fail 0\n",
      "0 7 1 1\n",
      "win index? 1 i? 152\n",
      "Click or Fail 0\n",
      "0 7 1 1\n",
      "win index? 1 i? 153\n",
      "Click or Fail 1\n",
      "0 8 1 1\n",
      "win index? 1 i? 154\n",
      "Click or Fail 1\n",
      "0 9 1 1\n",
      "win index? 1 i? 155\n",
      "Click or Fail 0\n",
      "0 9 1 1\n",
      "win index? 3 i? 156\n",
      "Click or Fail 0\n",
      "0 9 1 1\n",
      "win index? 1 i? 157\n",
      "Click or Fail 0\n",
      "0 9 1 1\n",
      "win index? 1 i? 158\n",
      "Click or Fail 0\n",
      "0 9 1 1\n",
      "win index? 3 i? 159\n",
      "Click or Fail 0\n",
      "0 9 1 1\n",
      "win index? 0 i? 160\n",
      "Click or Fail 0\n",
      "0 9 1 1\n",
      "win index? 0 i? 161\n",
      "Click or Fail 0\n",
      "0 9 1 1\n",
      "win index? 1 i? 162\n",
      "Click or Fail 0\n",
      "0 9 1 1\n",
      "win index? 1 i? 163\n",
      "Click or Fail 0\n",
      "0 9 1 1\n",
      "win index? 3 i? 164\n",
      "Click or Fail 1\n",
      "0 9 1 2\n",
      "win index? 1 i? 165\n",
      "Click or Fail 0\n",
      "0 9 1 2\n",
      "win index? 1 i? 166\n",
      "Click or Fail 0\n",
      "0 9 1 2\n",
      "win index? 1 i? 167\n",
      "Click or Fail 0\n",
      "0 9 1 2\n",
      "win index? 1 i? 168\n",
      "Click or Fail 0\n",
      "0 9 1 2\n",
      "win index? 1 i? 169\n",
      "Click or Fail 0\n",
      "0 9 1 2\n",
      "win index? 3 i? 170\n",
      "Click or Fail 1\n",
      "0 9 1 3\n",
      "win index? 1 i? 171\n",
      "Click or Fail 0\n",
      "0 9 1 3\n",
      "win index? 1 i? 172\n",
      "Click or Fail 0\n",
      "0 9 1 3\n",
      "win index? 3 i? 173\n",
      "Click or Fail 0\n",
      "0 9 1 3\n",
      "win index? 3 i? 174\n",
      "Click or Fail 1\n",
      "0 9 1 4\n",
      "win index? 1 i? 175\n",
      "Click or Fail 0\n",
      "0 9 1 4\n",
      "win index? 0 i? 176\n",
      "Click or Fail 0\n",
      "0 9 1 4\n",
      "win index? 1 i? 177\n",
      "Click or Fail 0\n",
      "0 9 1 4\n",
      "win index? 3 i? 178\n",
      "Click or Fail 0\n",
      "0 9 1 4\n",
      "win index? 1 i? 179\n",
      "Click or Fail 0\n",
      "0 9 1 4\n",
      "win index? 2 i? 180\n",
      "Click or Fail 0\n",
      "0 9 1 4\n",
      "win index? 1 i? 181\n",
      "Click or Fail 1\n",
      "0 10 1 4\n",
      "win index? 3 i? 182\n",
      "Click or Fail 0\n",
      "0 10 1 4\n",
      "win index? 1 i? 183\n",
      "Click or Fail 0\n",
      "0 10 1 4\n",
      "win index? 1 i? 184\n",
      "Click or Fail 0\n",
      "0 10 1 4\n",
      "win index? 1 i? 185\n",
      "Click or Fail 0\n",
      "0 10 1 4\n",
      "win index? 1 i? 186\n",
      "Click or Fail 0\n",
      "0 10 1 4\n",
      "win index? 1 i? 187\n",
      "Click or Fail 0\n",
      "0 10 1 4\n",
      "win index? 2 i? 188\n",
      "Click or Fail 0\n",
      "0 10 1 4\n",
      "win index? 1 i? 189\n",
      "Click or Fail 0\n",
      "0 10 1 4\n",
      "win index? 1 i? 190\n",
      "Click or Fail 0\n",
      "0 10 1 4\n",
      "win index? 1 i? 191\n",
      "Click or Fail 0\n",
      "0 10 1 4\n",
      "win index? 1 i? 192\n",
      "Click or Fail 1\n",
      "0 11 1 4\n",
      "win index? 1 i? 193\n",
      "Click or Fail 0\n",
      "0 11 1 4\n",
      "win index? 1 i? 194\n",
      "Click or Fail 0\n",
      "0 11 1 4\n",
      "win index? 1 i? 195\n",
      "Click or Fail 0\n",
      "0 11 1 4\n",
      "win index? 1 i? 196\n",
      "Click or Fail 0\n",
      "0 11 1 4\n",
      "win index? 2 i? 197\n",
      "Click or Fail 0\n",
      "0 11 1 4\n",
      "win index? 3 i? 198\n",
      "Click or Fail 0\n",
      "0 11 1 4\n",
      "win index? 1 i? 199\n",
      "Click or Fail 0\n",
      "0 11 1 4\n",
      "win index? 1 i? 200\n",
      "Click or Fail 0\n",
      "0 11 1 4\n",
      "i-cnt 100\n",
      "Summed_Ctr : 0.17 0.18 0.06 0.08\n",
      "CTR_of_ads(Experiment) : 0.0 0.11 0.01 0.04\n",
      "Summed_Ctr - CTR_of_ads(Experiment) : 0.0 -0.11 -0.01 -0.04\n",
      "0.0 0.0 0.0 0.0\n"
     ]
    }
   ],
   "source": [
    "init_alpha_1 = init_alpha_2 =  init_alpha_3 = init_alpha_4 = 1\n",
    "init_beta_1 = init_beta_2 = init_beta_3 = init_beta_4 =1\n",
    "\n",
    "## Prior 조정\n",
    "ALPHA = 2 \n",
    "BETA = 2\n",
    "\n",
    "success_1 = 0\n",
    "success_2 = 0\n",
    "success_3 = 0\n",
    "success_4 = 0\n",
    "cnt = 0\n",
    "\n",
    "# x = np.linspace(0, 1, 100)\n",
    "for i in range(0,201):  \n",
    "##     if i != 0 :\n",
    "##         pass\n",
    "##     else :\n",
    "##         continue\n",
    "    \n",
    "    ads_1 = beta.rvs(init_alpha_1,init_beta_1, size=1)\n",
    "    ads_2 = beta.rvs(init_alpha_2,init_beta_2, size=1)\n",
    "    ads_3 = beta.rvs(init_alpha_3,init_beta_3, size=1)\n",
    "    ads_4 = beta.rvs(init_alpha_4,init_beta_4, size=1)\n",
    "    ads_rvs = [ads_1, ads_2, ads_3, ads_4]\n",
    "    max_rvs = np.max(ads_rvs)\n",
    "    win_index = ads_rvs.index(max_rvs)\n",
    "\n",
    "    print('win index?',win_index, 'i?',i)\n",
    "\n",
    "    if win_index == 0 :\n",
    "        if samples.iloc[i,win_index] == 1:\n",
    "            success_1 += 1\n",
    "            init_alpha_1 += 1\n",
    "\n",
    "        else :\n",
    "            init_beta_1 += 1\n",
    "\n",
    "\n",
    "    if win_index == 1 :\n",
    "        if samples.iloc[i,win_index] == 1:\n",
    "            success_2 += 1\n",
    "            init_alpha_2 += 1\n",
    "\n",
    "        else :\n",
    "            init_beta_2 += 1\n",
    "\n",
    "\n",
    "    if win_index == 2 :\n",
    "        if samples.iloc[i,win_index] == 1:\n",
    "            success_3 += 1\n",
    "            init_alpha_3 += 1\n",
    "\n",
    "        else :\n",
    "            init_beta_3 += 1\n",
    "\n",
    "\n",
    "    if win_index == 3 :\n",
    "        if samples.iloc[i,win_index] == 1:\n",
    "            success_4 += 1\n",
    "            init_alpha_4 += 1\n",
    "\n",
    "        else :\n",
    "            init_beta_4 += 1\n",
    "    \n",
    "    print('Click or Fail',samples.iloc[i,win_index])\n",
    "    print(success_1, success_2, success_3, success_4)\n",
    "#         print('Checking Zeros',success_1, success_2, success_3, success_4)\n",
    "    \n",
    "    \n",
    "    if (i % 100 == 0) & (i != 0) :\n",
    "        print('i-cnt',i-cnt)\n",
    "        cnt = i\n",
    "        CTR_of_1 = success_1/100\n",
    "        CTR_of_2 = success_2/100\n",
    "        CTR_of_3 = success_3/100\n",
    "        CTR_of_4 = success_4/100\n",
    "        print('Summed_Ctr :',samples.iloc[abs(100-cnt):i,0].sum()/100, samples.iloc[abs(100-cnt):i,1].sum()/100,\n",
    "                             samples.iloc[abs(100-cnt):i,2].sum()/100, samples.iloc[abs(100-cnt):i,3].sum()/100)\n",
    "        print('CTR_of_ads(Experiment) :',CTR_of_1, CTR_of_2, CTR_of_3,  CTR_of_4)\n",
    "        print('Summed_Ctr - CTR_of_ads(Experiment) :',\n",
    "              round(samples.iloc[:i-cnt,0].sum()/100 - success_1/100, 2),\n",
    "              round(samples.iloc[:i-cnt,1].sum()/100 - success_2/100, 2), \n",
    "              round(samples.iloc[:i-cnt,2].sum()/100 - success_3/100, 2), \n",
    "              round(samples.iloc[:i-cnt,3].sum()/100 - success_4/100, 2))\n",
    " \n",
    "        print(samples.iloc[:i-cnt,0].sum()/100, samples.iloc[:i-cnt,1].sum()/100, samples.iloc[:i-cnt,2].sum()/100, samples.iloc[:i-cnt,3].sum()/100)\n",
    "        success_1 = success_2 = success_3 = success_4 = 0\n",
    "\n",
    "# if np.max(samples.iloc[:i-cnt,0].sum()/100, \n",
    "#           samples.iloc[:i-cnt,1].sum()/100,\n",
    "#           samples.iloc[:i-cnt,2].sum()/100, \n",
    "#           samples.iloc[:i-cnt,3].sum()/100) == np.max(CTR_of_1, CTR_of_2, CTR_of_3,  CTR_of_4):\n",
    "#     print('Correct!')\n",
    "\n",
    "#     for j in range(1,4):\n",
    "#         fig, ax = plt.subplots(1,  1)\n",
    "        \n",
    "\n",
    "#     if i != 0 :\n",
    "#         pass\n",
    "#     else :\n",
    "#         continue\n",
    "#     if i % 100 == 0 :\n",
    "#         CTR_of_1 = success_1/100\n",
    "#         CTR_of_2 = success_2/100\n",
    "#         CTR_of_3 = success_3/100\n",
    "#         CTR_of_4 = success_4/100\n",
    "#         print(CTR_of_1, CTR_of_3, CTR_of_3, CTR_of_4)\n",
    "#         print('i:',i, 'inits',init_alpha_1, init_alpha_2, init_alpha_3, init_alpha_4)\n",
    "# ax.plot(x, beta.pdf(x, init_alpha_1, init_beta_1), 'r-', lw=3, alpha=0.5, label='ads_1')\n",
    "# ax.plot(x, beta.pdf(x, init_alpha_2, init_beta_2), 'g-', lw=3, alpha=0.5, label='ads_2')\n",
    "# ax.plot(x, beta.pdf(x, init_alpha_3, init_beta_3), 'b-', lw=3, alpha=0.5, label='ads_3')\n",
    "# ax.plot(x, beta.pdf(x, init_alpha_4, init_beta_4), 'y-', lw=3, alpha=0.5, label='ads_4')\n",
    "        "
   ]
  },
  {
   "cell_type": "markdown",
   "metadata": {},
   "source": [
    "### 데이터를 확인해보니 광고가 동시에 노출되는 경우가 있는 것으로 보임\n",
    "- 일단 무시하고 진행? (그럼 summed_ctr과 experiment_ctr의 범위가 달라지지 않나?)\n",
    "- 그냥 success count를 2로 줘볼까?\n",
    "- CTR값의 차이를 통한 가중치의 조정?"
   ]
  },
  {
   "cell_type": "code",
   "execution_count": 75,
   "metadata": {},
   "outputs": [
    {
     "data": {
      "text/plain": [
       "25"
      ]
     },
     "execution_count": 75,
     "metadata": {},
     "output_type": "execute_result"
    }
   ],
   "source": [
    "samples.iloc[:200, 0].sum()"
   ]
  },
  {
   "cell_type": "code",
   "execution_count": 129,
   "metadata": {},
   "outputs": [
    {
     "data": {
      "text/plain": [
       "Ads1    0.17\n",
       "Ads2    0.18\n",
       "Ads3    0.06\n",
       "Ads4    0.08\n",
       "dtype: float64"
      ]
     },
     "execution_count": 129,
     "metadata": {},
     "output_type": "execute_result"
    }
   ],
   "source": [
    "samples.iloc[100:200, :4].sum()/100"
   ]
  }
 ],
 "metadata": {
  "kernelspec": {
   "display_name": "Python 3",
   "language": "python",
   "name": "python3"
  },
  "language_info": {
   "codemirror_mode": {
    "name": "ipython",
    "version": 3
   },
   "file_extension": ".py",
   "mimetype": "text/x-python",
   "name": "python",
   "nbconvert_exporter": "python",
   "pygments_lexer": "ipython3",
   "version": "3.6.7"
  }
 },
 "nbformat": 4,
 "nbformat_minor": 2
}
