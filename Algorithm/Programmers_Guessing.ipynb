{
 "cells": [
  {
   "cell_type": "markdown",
   "metadata": {},
   "source": [
    "__문제 설명__\n",
    "```\n",
    "수포자는 수학을 포기한 사람의 준말입니다. 수포자 삼인방은 모의고사에 수학 문제를 전부 찍으려 합니다. 수포자는 1번 문제부터 마지막 문제까지 다음과 같이 찍습니다.\n",
    "\n",
    "1번 수포자가 찍는 방식: 1, 2, 3, 4, 5, 1, 2, 3, 4, 5, ...\n",
    "2번 수포자가 찍는 방식: 2, 1, 2, 3, 2, 4, 2, 5, 2, 1, 2, 3, 2, 4, 2, 5, ...\n",
    "3번 수포자가 찍는 방식: 3, 3, 1, 1, 2, 2, 4, 4, 5, 5, 3, 3, 1, 1, 2, 2, 4, 4, 5, 5, ...\n",
    "\n",
    "1번 문제부터 마지막 문제까지의 정답이 순서대로 들은 배열 answers가 주어졌을 때, 가장 많은 문제를 맞힌 사람이 누구인지 배열에 담아 return 하도록 solution 함수를 작성해주세요.\n",
    "```\n",
    "\n",
    "__제한 조건__\n",
    "```\n",
    "시험은 최대 10,000 문제로 구성되어있습니다.\n",
    "문제의 정답은 1, 2, 3, 4, 5중 하나입니다.\n",
    "가장 높은 점수를 받은 사람이 여럿일 경우, return하는 값을 오름차순 정렬해주세요.\n",
    "```"
   ]
  },
  {
   "cell_type": "markdown",
   "metadata": {},
   "source": [
    "1번 수포자가 찍는 방식: 1, 2, 3, 4, 5, 1, 2, 3, 4, 5, ...  \n",
    "2번 수포자가 찍는 방식: 2, 1, 2, 3, 2, 4, 2, 5, 2, 1, 2, 3, 2, 4, 2, 5, ...  \n",
    "3번 수포자가 찍는 방식: 3, 3, 1, 1, 2, 2, 4, 4, 5, 5, 3, 3, 1, 1, 2, 2, 4, 4, 5, 5, ...  "
   ]
  },
  {
   "cell_type": "code",
   "execution_count": 1,
   "metadata": {},
   "outputs": [],
   "source": [
    "rotation1 = [1,2,3,4,5]"
   ]
  },
  {
   "cell_type": "code",
   "execution_count": 8,
   "metadata": {},
   "outputs": [],
   "source": [
    "rotation3 = [3,1,2,4,5]*2"
   ]
  },
  {
   "cell_type": "code",
   "execution_count": 15,
   "metadata": {},
   "outputs": [
    {
     "data": {
      "text/plain": [
       "['33', '11', '22', '44', '55', '33', '11', '22', '44', '55']"
      ]
     },
     "execution_count": 15,
     "metadata": {},
     "output_type": "execute_result"
    }
   ],
   "source": [
    "li = []\n",
    "for i in rotation3:\n",
    "    li.append(str(i)*2)\n",
    "li"
   ]
  },
  {
   "cell_type": "code",
   "execution_count": 7,
   "metadata": {},
   "outputs": [
    {
     "name": "stdout",
     "output_type": "stream",
     "text": [
      "1 1\n",
      "2 2\n",
      "3 3\n",
      "4 4\n",
      "5 5\n"
     ]
    },
    {
     "data": {
      "text/plain": [
       "5"
      ]
     },
     "execution_count": 7,
     "metadata": {},
     "output_type": "execute_result"
    }
   ],
   "source": [
    "answers = [1,2,3,4,5]\n",
    "cnt_1 = 0\n",
    "cnt_2\n",
    "for i,j in zip(answers, rotation1):\n",
    "    if i == j :\n",
    "        cnt += 1\n",
    "        print(i,j)\n",
    "cnt"
   ]
  },
  {
   "cell_type": "code",
   "execution_count": 21,
   "metadata": {},
   "outputs": [
    {
     "data": {
      "text/plain": [
       "2"
      ]
     },
     "execution_count": 21,
     "metadata": {},
     "output_type": "execute_result"
    }
   ],
   "source": [
    "7%5"
   ]
  },
  {
   "cell_type": "code",
   "execution_count": 40,
   "metadata": {},
   "outputs": [],
   "source": [
    "def person1(n):\n",
    "    rotation = [1,2,3,4,5]\n",
    "    add = []\n",
    "    for i in range(n):\n",
    "        add.append(rotation[i%5])\n",
    "    return add"
   ]
  },
  {
   "cell_type": "code",
   "execution_count": 57,
   "metadata": {},
   "outputs": [],
   "source": [
    "def person2(n):\n",
    "    rotation = [2,1,2,3,2,4,2,5]\n",
    "    add = []\n",
    "    for i in range(n):\n",
    "        add.append(rotation[i%8])\n",
    "    return add"
   ]
  },
  {
   "cell_type": "code",
   "execution_count": 60,
   "metadata": {},
   "outputs": [],
   "source": [
    "def person3(n):\n",
    "    rotation = [3,3,1,1,2,2,4,4,5,5]\n",
    "    add = []\n",
    "    for i in range(n):\n",
    "        add.append(rotation[i%10])\n",
    "    return add"
   ]
  },
  {
   "cell_type": "code",
   "execution_count": 59,
   "metadata": {},
   "outputs": [
    {
     "data": {
      "text/plain": [
       "[2, 1, 2, 3, 2, 4, 2, 5, 2, 1]"
      ]
     },
     "execution_count": 59,
     "metadata": {},
     "output_type": "execute_result"
    }
   ],
   "source": [
    "person2(10)"
   ]
  },
  {
   "cell_type": "code",
   "execution_count": 42,
   "metadata": {},
   "outputs": [
    {
     "data": {
      "text/plain": [
       "[1, 2, 3, 4, 5, 1, 2]"
      ]
     },
     "execution_count": 42,
     "metadata": {},
     "output_type": "execute_result"
    }
   ],
   "source": [
    "person1(7)"
   ]
  },
  {
   "cell_type": "code",
   "execution_count": 62,
   "metadata": {},
   "outputs": [],
   "source": [
    "def person1(n):\n",
    "    rotation = [1,2,3,4,5]\n",
    "    add = []\n",
    "    for i in range(n):\n",
    "        add.append(rotation[i%5])\n",
    "    return add\n",
    "\n",
    "def person2(n):\n",
    "    rotation = [2,1,2,3,2,4,2,5]\n",
    "    add = []\n",
    "    for i in range(n):\n",
    "        add.append(rotation[i%8])\n",
    "    return add\n",
    "\n",
    "def person3(n):\n",
    "    rotation = [3,3,1,1,2,2,4,4,5,5]\n",
    "    add = []\n",
    "    for i in range(n):\n",
    "        add.append(rotation[i%10])\n",
    "    return add\n",
    "\n",
    "def solution(answers):\n",
    "    n = len(answers)\n",
    "    cnt_1 = 0\n",
    "    cnt_2 = 0\n",
    "    cnt_3 = 0\n",
    "    for i,j in zip(answers, person1(n)):\n",
    "        if i == j :\n",
    "            cnt_1+=1\n",
    "    for i,j in zip(answers, person2(n)):\n",
    "        if i == j:\n",
    "            cnt_2+=1\n",
    "    for i,j in zip(answers, person3(n)):\n",
    "        if i == j:\n",
    "            cnt_3+=1\n",
    "    #3개가 다 0일때\n",
    "    if cnt_1 ==0 & cnt_2==0 & cnt_3 ==0 :\n",
    "        return [1,2,3]\n",
    "    #3개가 다 같을 때\n",
    "    if (cnt_1 == cnt_2 == cnt_3):\n",
    "        return [1,2,3]\n",
    "    #1이 제일 많이 맞을때\n",
    "    if (cnt_1 > cnt_2) & (cnt_1 > cnt_3):\n",
    "        return [1]\n",
    "    #2가 제일 많이 맞을때\n",
    "    if (cnt_2 > cnt_1) & (cnt_2 > cnt_3):\n",
    "        return [2]\n",
    "    #3이 제일 많이 맞을때\n",
    "    if (cnt_3 > cnt_1) & (cnt_3 > cnt_2):\n",
    "        return [3]\n",
    "    #두개가 같을 때, [1,2], [2,3], [1,3]\n",
    "    if (cnt_1 == cnt_2) & (cnt_2 != cnt_3):\n",
    "        return [1,2]\n",
    "    if (cnt_2 == cnt_3) & (cnt_1 != cnt_2):\n",
    "        return [2,3]\n",
    "    if (cnt_1 == cnt_3) & (cnt_1 !=cnt_2):\n",
    "        return [1,2]"
   ]
  },
  {
   "cell_type": "code",
   "execution_count": 63,
   "metadata": {},
   "outputs": [
    {
     "data": {
      "text/plain": [
       "[1, 2, 3]"
      ]
     },
     "execution_count": 63,
     "metadata": {},
     "output_type": "execute_result"
    }
   ],
   "source": [
    "solution([1, 3, 2, 4, 2])"
   ]
  }
 ],
 "metadata": {
  "kernelspec": {
   "display_name": "Python 3",
   "language": "python",
   "name": "python3"
  },
  "language_info": {
   "codemirror_mode": {
    "name": "ipython",
    "version": 3
   },
   "file_extension": ".py",
   "mimetype": "text/x-python",
   "name": "python",
   "nbconvert_exporter": "python",
   "pygments_lexer": "ipython3",
   "version": "3.6.7"
  }
 },
 "nbformat": 4,
 "nbformat_minor": 2
}
