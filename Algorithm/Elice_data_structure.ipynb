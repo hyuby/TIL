{
 "cells": [
  {
   "cell_type": "code",
   "execution_count": 284,
   "metadata": {},
   "outputs": [],
   "source": [
    "%config Completer.use_jedi = False"
   ]
  },
  {
   "cell_type": "code",
   "execution_count": 2,
   "metadata": {},
   "outputs": [
    {
     "name": "stdout",
     "output_type": "stream",
     "text": [
      "[5, 4, 4, 3, 2, 2, 1]\n"
     ]
    }
   ],
   "source": [
    "class maxMachine :\n",
    "    def __init__(self) :\n",
    "        self.myData = []\n",
    "\n",
    "    def addNumber(self, n) :\n",
    "        self.myData.append(n)\n",
    "\n",
    "    def removeNumber(self, n) :\n",
    "        self.myData.remove(n)\n",
    "\n",
    "    def getMax(self) :\n",
    "        return max(self.myData)\n",
    "\n",
    "def main():\n",
    "\n",
    "    myMachine = maxMachine()\n",
    "\n",
    "    '''\n",
    "    테스트를 하고싶으면, 아래 부분을 수정합니다.\n",
    "    '''\n",
    "    myMachine.addNumber(2)\n",
    "    myMachine.addNumber(5)\n",
    "    myMachine.addNumber(1)\n",
    "    myMachine.addNumber(4)\n",
    "    myMachine.addNumber(4)\n",
    "    myMachine.addNumber(3)\n",
    "    myMachine.addNumber(2)\n",
    "    \n",
    "    return print((sorted(myMachine.myData, reverse=True)))\n",
    "\n",
    "#     myMachine.addNumber(1)\n",
    "#     myMachine.addNumber(2)\n",
    "#     myMachine.addNumber(3)\n",
    "#     myMachine.addNumber(2)\n",
    "\n",
    "#     print(myMachine.getMax())\n",
    "\n",
    "#     myMachine.removeNumber(3)\n",
    "\n",
    "#     print(myMachine.getMax())\n",
    "\n",
    "#     myMachine.removeNumber(2)\n",
    "\n",
    "#     print(myMachine.getMax())\n",
    "\n",
    "if __name__ == \"__main__\":\n",
    "    main()\n"
   ]
  },
  {
   "cell_type": "code",
   "execution_count": 6,
   "metadata": {},
   "outputs": [],
   "source": [
    "data =[1,2,3]"
   ]
  },
  {
   "cell_type": "code",
   "execution_count": 7,
   "metadata": {},
   "outputs": [
    {
     "data": {
      "text/plain": [
       "0"
      ]
     },
     "execution_count": 7,
     "metadata": {},
     "output_type": "execute_result"
    }
   ],
   "source": [
    "data.index(1)"
   ]
  },
  {
   "cell_type": "code",
   "execution_count": 35,
   "metadata": {},
   "outputs": [
    {
     "name": "stdout",
     "output_type": "stream",
     "text": [
      "0\n",
      "-1\n",
      "1\n"
     ]
    }
   ],
   "source": [
    "class orderManager :\n",
    "    '''\n",
    "    주문을 처리하는 class를 작성합니다.\n",
    "    '''\n",
    "\n",
    "    def __init__(self) :\n",
    "        '''\n",
    "        이 부분은 고치지 마세요.\n",
    "        '''\n",
    "        self.data = []\n",
    "\n",
    "    def addOrder(self, orderId) :\n",
    "        '''\n",
    "        주문번호 orderId를 추가합니다.\n",
    "        '''\n",
    "        self.data.append(orderId)\n",
    "\n",
    "    def removeOrder(self, orderId) :\n",
    "        '''\n",
    "        주문번호 orderId를 제거합니다.\n",
    "        '''\n",
    "        self.data.remove(orderId)\n",
    "\n",
    "    def getOrder(self, orderId) :\n",
    "        '''\n",
    "        주문번호 orderId가 몇 번째로 처리될지를 반환합니다.\n",
    "\n",
    "        만약 주문번호 orderId가 존재하지 않으면 -1을 반환합니다. \n",
    "        '''\n",
    "        if self.data == [] or orderId not in self.data:\n",
    "            return -1\n",
    "        else :\n",
    "            return self.data.index(orderId)\n",
    "\n",
    "def main():\n",
    "    manager = orderManager()\n",
    "\n",
    "    '''\n",
    "    테스트를 하고싶으면, 아래 부분을 수정합니다.\n",
    "    '''\n",
    "\n",
    "    manager.addOrder(1)\n",
    "    manager.addOrder(2)\n",
    "    manager.addOrder(3)\n",
    "    manager.removeOrder(2)\n",
    "\n",
    "    print(manager.getOrder(1))\n",
    "    print(manager.getOrder(2))\n",
    "    print(manager.getOrder(3))\n",
    "\n",
    "if __name__ == \"__main__\":\n",
    "    main()\n"
   ]
  },
  {
   "cell_type": "code",
   "execution_count": 124,
   "metadata": {},
   "outputs": [
    {
     "name": "stdout",
     "output_type": "stream",
     "text": [
      "[1, 2, 4, 5, 6, 3] 1\n",
      "nums [1, 2, 4, 5, 6, 3]\n",
      "5\n"
     ]
    }
   ],
   "source": [
    "def findDuplicate(nums):\n",
    "    original_nums = nums.copy()\n",
    "    i = 0\n",
    "\n",
    "    a = nums.pop(i)\n",
    "    while i != len(original_nums):\n",
    "        if set(original_nums) == set(nums):\n",
    "            #해당 index에 해당하는 값 return\n",
    "            answer = original_nums[i]\n",
    "            return answer\n",
    "            break\n",
    "        else :\n",
    "            nums.pop(i)\n",
    "            nums = [original_nums[i]] + nums        \n",
    "            print(nums, a)\n",
    "\n",
    "            print('nums',nums)\n",
    "            i += 1\n",
    "        \n",
    "\n",
    "def main():\n",
    "    print(findDuplicate([1, 5, 2, 4, 5, 6, 3]))\n",
    "\n",
    "if __name__ == \"__main__\":\n",
    "    main()"
   ]
  },
  {
   "cell_type": "code",
   "execution_count": 162,
   "metadata": {},
   "outputs": [
    {
     "name": "stdout",
     "output_type": "stream",
     "text": [
      "5\n"
     ]
    }
   ],
   "source": [
    "from collections import Counter\n",
    "def findDuplicate(nums):\n",
    "    dictionary = dict(Counter(nums))\n",
    "    for k,v in dictionary.items():\n",
    "        if v ==2 :\n",
    "            return i\n",
    "\n",
    "        \n",
    "\n",
    "def main():\n",
    "    print(findDuplicate([1, 5, 2, 4, 5, 6, 3]))\n",
    "\n",
    "if __name__ == \"__main__\":\n",
    "    main()\n"
   ]
  },
  {
   "cell_type": "code",
   "execution_count": 130,
   "metadata": {},
   "outputs": [],
   "source": [
    "nums = [1, 5, 2, 4, 5, 6, 3]\n",
    "from collections import Counter"
   ]
  },
  {
   "cell_type": "code",
   "execution_count": 155,
   "metadata": {},
   "outputs": [],
   "source": [
    "aa=dict(Counter(nums))"
   ]
  },
  {
   "cell_type": "code",
   "execution_count": 159,
   "metadata": {},
   "outputs": [
    {
     "data": {
      "text/plain": [
       "{1: 1, 2: 1, 3: 1, 4: 1, 5: 2, 6: 1}"
      ]
     },
     "execution_count": 159,
     "metadata": {},
     "output_type": "execute_result"
    }
   ],
   "source": [
    "aa"
   ]
  },
  {
   "cell_type": "code",
   "execution_count": 161,
   "metadata": {
    "scrolled": true
   },
   "outputs": [
    {
     "name": "stdout",
     "output_type": "stream",
     "text": [
      "5 2\n"
     ]
    }
   ],
   "source": [
    "\n",
    "for k,v in aa.items():\n",
    "    if v == 2:\n",
    "        print(i,v)"
   ]
  },
  {
   "cell_type": "code",
   "execution_count": null,
   "metadata": {},
   "outputs": [],
   "source": [
    "nums.copy()"
   ]
  },
  {
   "cell_type": "code",
   "execution_count": 68,
   "metadata": {},
   "outputs": [
    {
     "data": {
      "text/plain": [
       "True"
      ]
     },
     "execution_count": 68,
     "metadata": {},
     "output_type": "execute_result"
    }
   ],
   "source": [
    "nums = [1,2,4,5,6,3]\n",
    "num = [1,2,5,4,5,6,3]\n",
    "set(nums) == set(num)"
   ]
  },
  {
   "cell_type": "code",
   "execution_count": 69,
   "metadata": {},
   "outputs": [
    {
     "data": {
      "text/plain": [
       "1"
      ]
     },
     "execution_count": 69,
     "metadata": {},
     "output_type": "execute_result"
    }
   ],
   "source": [
    "nums[0]"
   ]
  },
  {
   "cell_type": "code",
   "execution_count": 70,
   "metadata": {},
   "outputs": [
    {
     "data": {
      "text/plain": [
       "[2, 4, 5, 6, 3]"
      ]
     },
     "execution_count": 70,
     "metadata": {},
     "output_type": "execute_result"
    }
   ],
   "source": [
    "nums.pop(0)\n",
    "nums"
   ]
  },
  {
   "cell_type": "code",
   "execution_count": 123,
   "metadata": {},
   "outputs": [
    {
     "name": "stdout",
     "output_type": "stream",
     "text": [
      "[1, 5, 4, 5, 6, 3] 1\n",
      "nums [1, 5, 4, 5, 6, 3]\n",
      "[2, 1, 4, 5, 6, 3] 1\n",
      "nums [2, 1, 4, 5, 6, 3]\n",
      "5\n"
     ]
    }
   ],
   "source": [
    "nums = [1,2,5,4,5,6,3]\n",
    "original_nums = nums.copy()\n",
    "i = 0\n",
    "\n",
    "a = nums.pop(i)\n",
    "a\n",
    "while i != len(original_nums):\n",
    "    if set(original_nums) == set(nums):\n",
    "        #해당 index에 해당하는 값 return\n",
    "        answer = original_nums[i]\n",
    "        print(answer)\n",
    "        break\n",
    "    else :\n",
    "        nums.pop(i)\n",
    "        nums = [original_nums[i]] + nums        \n",
    "        print(nums, a)\n",
    "        \n",
    "        print('nums',nums)\n",
    "        i += 1"
   ]
  },
  {
   "cell_type": "code",
   "execution_count": 180,
   "metadata": {},
   "outputs": [
    {
     "name": "stdout",
     "output_type": "stream",
     "text": [
      "3\n"
     ]
    }
   ],
   "source": [
    "def cal(num):\n",
    "    lis = []\n",
    "    for i in num:\n",
    "        lis.append(i-1)\n",
    "        if i%3 == 0:\n",
    "            lis.append(i/3)\n",
    "        if i%2 == 0:\n",
    "            lis.append(i/2)\n",
    "    return lis\n",
    " \n",
    "\n",
    "\n",
    "def convertTo1(num):\n",
    "    count = 0\n",
    "    minimum=[num]\n",
    "    while True:\n",
    "        if num == 1:\n",
    "            print(1)\n",
    "            break\n",
    "        temp = minimum[:]\n",
    "        minimum = []\n",
    "        minimum = cal(temp)\n",
    "        count +=1\n",
    "        if min(minimum) == 1:\n",
    "            return(count)\n",
    "            break\n",
    "    \n",
    "\n",
    "def main():\n",
    "    print(convertTo1(10))\n",
    "\n",
    "if __name__ == \"__main__\":\n",
    "    main()\n"
   ]
  },
  {
   "cell_type": "code",
   "execution_count": 186,
   "metadata": {},
   "outputs": [
    {
     "name": "stdout",
     "output_type": "stream",
     "text": [
      "[9, 5.0] 0\n",
      "[8, 3.0, 4.0] 1\n",
      "[7, 4.0, 2.0, 1.0, 3.0, 2.0] 2\n",
      "3\n"
     ]
    }
   ],
   "source": [
    "def cal(num):\n",
    "    lis = []\n",
    "    for i in num:\n",
    "\n",
    "        lis.append(i-1)\n",
    "        if i%3 == 0:\n",
    "            lis.append(i/3)\n",
    "        if i%2 == 0:\n",
    "            lis.append(i/2)\n",
    "    return lis\n",
    "\n",
    "def convertTo1(num):\n",
    "    count = 0\n",
    "    minimum = [num]\n",
    "    while True:\n",
    "        if num ==1 :\n",
    "            return 1\n",
    "        tmp =minimum[:]\n",
    "        minimum= []\n",
    "        minimum = cal(tmp)\n",
    "        print(minimum, count)\n",
    "        count+=1\n",
    "        if min(minimum) == 1:\n",
    "            return (count)\n",
    "            break\n",
    "def main():\n",
    "    print(convertTo1(10))\n",
    "\n",
    "if __name__ == \"__main__\":\n",
    "    main()\n",
    "\n",
    "    "
   ]
  },
  {
   "cell_type": "code",
   "execution_count": 188,
   "metadata": {},
   "outputs": [],
   "source": [
    "nums = [2,5,7,8,9]\n",
    "a = [[num for num in nums] for num in nums]"
   ]
  },
  {
   "cell_type": "code",
   "execution_count": 189,
   "metadata": {
    "scrolled": true
   },
   "outputs": [
    {
     "data": {
      "text/plain": [
       "[[2, 5, 7, 8, 9],\n",
       " [2, 5, 7, 8, 9],\n",
       " [2, 5, 7, 8, 9],\n",
       " [2, 5, 7, 8, 9],\n",
       " [2, 5, 7, 8, 9]]"
      ]
     },
     "execution_count": 189,
     "metadata": {},
     "output_type": "execute_result"
    }
   ],
   "source": [
    "a"
   ]
  },
  {
   "cell_type": "code",
   "execution_count": 190,
   "metadata": {},
   "outputs": [],
   "source": [
    "b = [num for num in nums]"
   ]
  },
  {
   "cell_type": "code",
   "execution_count": 191,
   "metadata": {},
   "outputs": [
    {
     "data": {
      "text/plain": [
       "[2, 5, 7, 8, 9]"
      ]
     },
     "execution_count": 191,
     "metadata": {},
     "output_type": "execute_result"
    }
   ],
   "source": [
    "b"
   ]
  },
  {
   "cell_type": "code",
   "execution_count": 221,
   "metadata": {},
   "outputs": [
    {
     "name": "stdout",
     "output_type": "stream",
     "text": [
      "0\n",
      "1\n",
      "2\n",
      "3\n",
      "4\n"
     ]
    }
   ],
   "source": [
    "def rotateArray(nums, k):\n",
    "    #len(nums) -k 만큼 반복\n",
    "    cnt = 0\n",
    "    while cnt != len(nums)-k:\n",
    "\n",
    "        popped = nums.pop(0)\n",
    "        nums.append(popped)\n",
    "        cnt+=1\n",
    "        if cnt == len(nums)-k:\n",
    "\n",
    "            return nums\n",
    "            break\n",
    "\n",
    "\n",
    "\n",
    "# 다음 함수는 추가적인 공간 사용 없이 배열의 일부를 뒤집어 주는 함수입니다.\n",
    "# 예를 들어, nums = [1,2,3,4,5]\n",
    "# partialReverse(nums, 1, 3)\n",
    "# 을 실행 할 경우, nums = [1, 4, 3, 2, 5] 가 됩니다.\n",
    "# 필요하다면 사용하세요.\n",
    "\n",
    "def partialReverse(nums, start, end):\n",
    "    for i in range(0, int((end-start)/2) + 1):\n",
    "        temp = nums[start + i]\n",
    "        nums[start+i] = nums[end - i]\n",
    "        nums[end -i] = temp\n",
    "        print(nums)\n",
    "        return nums\n",
    "\n",
    "\n",
    "def main():\n",
    "    nums = [1,2,3,4,5]\n",
    "    #partialReverse(nums, 1, 3)# [1, 4, 3, 2, 5] 를 반환합니다.\n",
    "    \n",
    "    rotateArray([1,2,3,4,5,6,7,8,9], 4)\n",
    "\n",
    "    #rotateArray([1,2,3,4,5,6,7,8,9], 4) # [6,7,8,9,1,2,3,4,5] 를 반환해야 합니다.\n",
    "    \n",
    "\n",
    "if __name__ == \"__main__\":\n",
    "    main()\n"
   ]
  },
  {
   "cell_type": "code",
   "execution_count": 228,
   "metadata": {},
   "outputs": [],
   "source": [
    "from collections import Counter"
   ]
  },
  {
   "cell_type": "code",
   "execution_count": 226,
   "metadata": {},
   "outputs": [],
   "source": [
    "a = 'iamlordvoldemort'"
   ]
  },
  {
   "cell_type": "code",
   "execution_count": 244,
   "metadata": {},
   "outputs": [],
   "source": [
    "b = 'tommarvoloriddlee'"
   ]
  },
  {
   "cell_type": "code",
   "execution_count": 229,
   "metadata": {},
   "outputs": [
    {
     "data": {
      "text/plain": [
       "Counter({'a': 1,\n",
       "         'd': 2,\n",
       "         'e': 1,\n",
       "         'i': 1,\n",
       "         'l': 2,\n",
       "         'm': 2,\n",
       "         'o': 3,\n",
       "         'r': 2,\n",
       "         't': 1,\n",
       "         'v': 1})"
      ]
     },
     "execution_count": 229,
     "metadata": {},
     "output_type": "execute_result"
    }
   ],
   "source": [
    "Counter(a)"
   ]
  },
  {
   "cell_type": "code",
   "execution_count": 265,
   "metadata": {},
   "outputs": [],
   "source": [
    "res = Counter(b) - Counter(a)\n",
    "cc = dict(res)"
   ]
  },
  {
   "cell_type": "code",
   "execution_count": 233,
   "metadata": {},
   "outputs": [
    {
     "name": "stdout",
     "output_type": "stream",
     "text": [
      "True\n",
      "False\n"
     ]
    }
   ],
   "source": [
    "def isAnagram(str1, str2):\n",
    "    return Counter(str1) == Counter(str2)\n",
    "\n",
    "\n",
    "def main():\n",
    "    print(isAnagram('iamlordvoldemort', 'tommarvoloriddle')) # should return True\n",
    "    print(isAnagram('cat', 'cap')) #should return False\n",
    "    \n",
    "\n",
    "if __name__ == \"__main__\":\n",
    "    main()\n"
   ]
  },
  {
   "cell_type": "code",
   "execution_count": null,
   "metadata": {},
   "outputs": [],
   "source": [
    "dic1 = {}\n"
   ]
  },
  {
   "cell_type": "code",
   "execution_count": 242,
   "metadata": {},
   "outputs": [
    {
     "name": "stdout",
     "output_type": "stream",
     "text": [
      "y\n",
      "l\n",
      "o\n",
      "o\n",
      "u\n",
      "v\n",
      "e\n",
      "True\n",
      "c\n",
      "a\n",
      "False\n"
     ]
    }
   ],
   "source": [
    "from collections import Counter\n",
    "def isAnagram(str1, str2):\n",
    "    # return Counter(str1) == Counter(str2)\n",
    "    # str1list = list(str1)\n",
    "    # str2list = list(str2)\n",
    "    # str1list.sort()\n",
    "    # str2list.sort()\n",
    "    # return str1list == str2list\n",
    "    # Hash\n",
    "    \n",
    "    dic1 = {}\n",
    "    dic2 = {}\n",
    "    for ch in str1 :\n",
    "        dic1[ch] = dic1.get(ch,0) + 1\n",
    "\n",
    "    \n",
    "    for ch in str2 :\n",
    "        if ch in dic1:\n",
    "            if dic1[ch] == 0:\n",
    "                return False\n",
    "            else :\n",
    "                print(ch)\n",
    "                dic1[ch] -= 1\n",
    "        else :\n",
    "            return False\n",
    "    return True\n",
    "\n",
    "\n",
    "def main():\n",
    "    print(isAnagram('loveyou', 'yloouve')) # should return True\n",
    "    print(isAnagram('cat', 'cap')) #should return False\n",
    "    \n",
    "\n",
    "if __name__ == \"__main__\":\n",
    "    main()\n"
   ]
  },
  {
   "cell_type": "code",
   "execution_count": 281,
   "metadata": {},
   "outputs": [
    {
     "name": "stdout",
     "output_type": "stream",
     "text": [
      "z\n"
     ]
    }
   ],
   "source": [
    "def findDifference(str1, str2):\n",
    "    ans = Counter(str2) -  Counter(str1)\n",
    "    dic_ans = dict(ans)\n",
    "\n",
    "    for k,v in dic_ans.items():\n",
    "        return k\n",
    "\n",
    "\n",
    "def main():\n",
    "    print(findDifference(\"apple\", \"azlppe\"))\n",
    "    \n",
    "\n",
    "if __name__ == \"__main__\":\n",
    "    main()\n"
   ]
  },
  {
   "cell_type": "code",
   "execution_count": 282,
   "metadata": {},
   "outputs": [
    {
     "name": "stdout",
     "output_type": "stream",
     "text": [
      "34\n"
     ]
    }
   ],
   "source": [
    "def thirdMax(nums):\n",
    "    nums.remove(max(nums))\n",
    "    nums.remove(max(nums))\n",
    "    return max(nums)\n",
    "\n",
    "def main():\n",
    "    print(thirdMax([2, 8, 19, 37, 4, 5, 12, 50, 1, 34, 23])) # should return 34\n",
    "\n",
    "if __name__ == \"__main__\":\n",
    "    main()\n"
   ]
  },
  {
   "cell_type": "code",
   "execution_count": 290,
   "metadata": {
    "scrolled": true
   },
   "outputs": [
    {
     "data": {
      "text/plain": [
       "'iamlordvoldemort'"
      ]
     },
     "execution_count": 290,
     "metadata": {},
     "output_type": "execute_result"
    }
   ],
   "source": [
    "pattern = \"aabb\"\n",
    "\n",
    "strList = [\"elice\", \"elice\", \"alice\", \"alice\"]\n"
   ]
  },
  {
   "cell_type": "code",
   "execution_count": 295,
   "metadata": {},
   "outputs": [],
   "source": [
    "pattern1 = \"abab\"\n",
    "strList1 = \"elice\", \"elice\", \"alice\", \"alice\""
   ]
  },
  {
   "cell_type": "code",
   "execution_count": 301,
   "metadata": {},
   "outputs": [
    {
     "data": {
      "text/plain": [
       "{('a', 'alice'), ('a', 'elice'), ('b', 'alice'), ('b', 'elice')}"
      ]
     },
     "execution_count": 301,
     "metadata": {},
     "output_type": "execute_result"
    }
   ],
   "source": [
    "set(zip(pattern1, strList1))"
   ]
  },
  {
   "cell_type": "code",
   "execution_count": null,
   "metadata": {},
   "outputs": [],
   "source": [
    "단어 패턴\n",
    "문자열(패턴) 하나와 문자열의 배열 하나가 주어집니다.\n",
    "\n",
    "패턴 문자열의 각각의 문자 하나는, 두번째 문자열 배열의 각각의 문자열 하나에 대응 될 수 있습니다.\n",
    "\n",
    "해당 배열이 해당 패턴으로 표현 되는지 아닌지의 여부를 확인하는 함수를 만들어 보세요.\n",
    "\n",
    "예를 들어서, aabb 와 ['elice', 'elice', 'alice', 'alice'] 가 주어졌을 경우에는 함수가 True를 반환해야 합니다. 이 경우에는 a가 elice에, b가 alice에 대응되도록 하면 배열을 해당 패턴으로 표현 하는 것이 가능하기 때문이죠.\n",
    "\n",
    "반면, aabb 와 ['elice', 'alice', 'elice', 'alice'] 가 주어졌을 경우에는 함수가 False를 반환해야 합니다.\n",
    "\n",
    "모든 문자는 영어 소문자라고 가정합니다."
   ]
  },
  {
   "cell_type": "code",
   "execution_count": 299,
   "metadata": {},
   "outputs": [
    {
     "name": "stdout",
     "output_type": "stream",
     "text": [
      "True\n",
      "False\n"
     ]
    }
   ],
   "source": [
    "def wordPattern(pattern, strList):\n",
    "    return len(set(pattern)) == len(set(zip(pattern, strList)))\n",
    "\n",
    "\n",
    "def main():\n",
    "    print(wordPattern(\"aabb\", [\"elice\", \"elice\", \"alice\", \"alice\"])) # should return True\n",
    "    print(wordPattern(\"abab\", [\"elice\", \"elice\", \"alice\", \"alice\"])) # should return False\n",
    "    \n",
    "\n",
    "if __name__ == \"__main__\":\n",
    "    main()\n"
   ]
  },
  {
   "cell_type": "markdown",
   "metadata": {},
   "source": [
    "Linked list만들기, linked list를 배열로 만들기"
   ]
  },
  {
   "cell_type": "code",
   "execution_count": 306,
   "metadata": {},
   "outputs": [
    {
     "name": "stdout",
     "output_type": "stream",
     "text": [
      "2->8->19->37->4->5\n",
      "[2, 8, 19, 37, 4, 5]\n"
     ]
    }
   ],
   "source": [
    "# 연결 리스트의 노드. 단일 연결 리스트의 경우입니다.\n",
    "class Node:\n",
    "    def __init__(self, val):\n",
    "        self.val = val\n",
    "        self.next = None\n",
    "        \n",
    "    def __str__(self):\n",
    "        return str(self.val)\n",
    "\n",
    "# 연결 리스트 클래스. head 와 tail을 가지고 있으며, 가장 뒤에 새로운 노드를 추가하는 addToEnd 함수가 있습니다.\n",
    "class LinkedList:\n",
    "    def __init__(self, head):\n",
    "        self.head = head\n",
    "        self.tail = head\n",
    "    \n",
    "    def addToEnd(self, node):\n",
    "        self.tail.next = node\n",
    "        self.tail = node\n",
    "        \n",
    "    def __str__(self):\n",
    "        node = self.head\n",
    "        toPrint = []\n",
    "        while node:\n",
    "            toPrint.append(str(node.val))\n",
    "            node = node.next\n",
    "        return \"->\".join(toPrint)\n",
    "\n",
    "####################################################################################################################################\n",
    "\n",
    "# 주어진 연결 리스트 ll을 배열로 변환해 봅시다.\n",
    "# 이때 연결 리스트 LinkedList의 객체가 입력으로 주어진다고 가정합니다.\n",
    "def toArray(llNode):\n",
    "    arr = []\n",
    "    it = llNode.head\n",
    "    \n",
    "    while it != llNode.tail:\n",
    "        arr.append(it.val)\n",
    "        it = it.next\n",
    "        \n",
    "    arr.append(it.val)\n",
    "    \n",
    "    return arr\n",
    "\n",
    "\n",
    "# 주어진 배열을 연결 리스트로 변환 해 봅시다.\n",
    "def toLinkedList(lst):\n",
    "    llNode = LinkedList(Node(lst[0]))\n",
    "    \n",
    "    for i in lst[1:]:\n",
    "        llNode.addToEnd(Node(i))\n",
    "    return llNode\n",
    "\n",
    "def example():\n",
    "    ## Linkedlist 클래스와 Node 클래스를 사용하는 예시입니다.\n",
    "    ll = LinkedList(Node(3))\n",
    "    ll.addToEnd(Node(4))\n",
    "    ll.addToEnd(Node(8))\n",
    "    print(ll)\n",
    "    print(ll.head)\n",
    "    print(ll.tail)\n",
    "\n",
    "def main():\n",
    "#     example()\n",
    "    nums = [2,8,19,37,4,5]\n",
    "    ll = toLinkedList(nums)\n",
    "    print(ll)\n",
    "    lst = toArray(ll)\n",
    "    print(lst)\n",
    "\n",
    "if __name__ == \"__main__\":\n",
    "    main()\n"
   ]
  },
  {
   "cell_type": "markdown",
   "metadata": {},
   "source": [
    "연결리스트에서 노드 삭제하기"
   ]
  },
  {
   "cell_type": "code",
   "execution_count": 319,
   "metadata": {},
   "outputs": [
    {
     "name": "stdout",
     "output_type": "stream",
     "text": [
      "2->8->19->37->4->5\n",
      "ll 2->8->19->37->4->5\n",
      "cur, next 2 8\n",
      "next node 8\n",
      "ll 2->8->19->37->4->5\n",
      "cur, next 8 19\n",
      "next node 19\n",
      "Delete!!!!!!!!!! 19\n",
      "2->8->37->4->5\n",
      "ll 2->8->37->4->5\n",
      "cur, next 2 8\n",
      "next node 8\n",
      "ll 2->8->37->4->5\n",
      "cur, next 8 37\n",
      "next node 37\n",
      "ll 2->8->37->4->5\n",
      "cur, next 37 4\n",
      "next node 4\n",
      "ll 2->8->37->4->5\n",
      "cur, next 4 5\n",
      "next node 5\n",
      "2->8->37->4->5\n"
     ]
    }
   ],
   "source": [
    "# 연결 리스트의 노드. 단일 연결 리스트의 경우입니다.\n",
    "class Node:\n",
    "    def __init__(self, val):\n",
    "        self.val = val\n",
    "        self.next = None\n",
    "        \n",
    "    def __str__(self):\n",
    "        return str(self.val)\n",
    "\n",
    "# 연결 리스트 클래스. head 와 tail을 가지고 있으며, 가장 뒤에 새로운 노드를 추가하는 addToEnd 함수가 있습니다.\n",
    "class LinkedList:\n",
    "    def __init__(self, head):\n",
    "        self.head = head\n",
    "        self.tail = head\n",
    "    \n",
    "    def addToEnd(self, node):\n",
    "        self.tail.next = node\n",
    "        self.tail = node\n",
    "        \n",
    "    def __str__(self):\n",
    "        node = self.head\n",
    "        toPrint = []\n",
    "        while node:\n",
    "            toPrint.append(str(node.val))\n",
    "            node = node.next\n",
    "        return \"->\".join(toPrint)\n",
    "\n",
    "# 주어진 배열을 linkedlist로 변환해서 돌려줍니다. 실습 3-1을 참조하세요\n",
    "def toLinkedList(lst):\n",
    "    ll = LinkedList(Node(lst[0]))\n",
    "    for i in range(1, len(lst)):\n",
    "        ll.addToEnd(Node(lst[i]))\n",
    "    \n",
    "    return ll\n",
    "    \n",
    "####################################################################################################################################\n",
    "\n",
    "def deleteNode(ll, valToDelete):\n",
    "    if ll.head.val == valToDelete:\n",
    "        ll.head.val = ll.head.val.next\n",
    "\n",
    "    \n",
    "    curNode = ll.head\n",
    "    nextNode = curNode.next\n",
    "    \n",
    "    while nextNode:\n",
    "        if nextNode.val == valToDelete:\n",
    "            curNode.next = nextNode.next\n",
    "            if nextNode == ll.tail:\n",
    "                ll.tail = curNode\n",
    "\n",
    "            break\n",
    "        curNode = curNode.next\n",
    "        nextNode = curNode.next\n",
    "\n",
    "\n",
    "def main():\n",
    "    nums = [2,8,19,37,4,5]\n",
    "    ll = toLinkedList(nums)\n",
    "    print(ll)\n",
    "    deleteNode(ll, 19)\n",
    "    print(ll) # 19를 삭제하였으므로, 2->8->37->4->5\n",
    "    deleteNode(ll, 3)\n",
    "    print(ll) # 3이 없으므로, 2->8->37->4->5\n",
    "\n",
    "if __name__ == \"__main__\":\n",
    "    main()\n",
    "    \n",
    "\n"
   ]
  },
  {
   "cell_type": "markdown",
   "metadata": {},
   "source": [
    "#### 스트리밍 데이터의 이동평균  \n",
    "```\n",
    "정수 데이터가 스트리밍으로 (한번에 하나씩) 주어진다고 합시다. 이때, 주어진 범위 만큼의 이동 평균을 구하는 클래스 MovingAvg를 만들어 봅시다.\n",
    "\n",
    "MovingAvg는 처음에 이동 평균의 범위를 입력받아서 초기화 되며, 매 정수 데이타가 입력되는 nextVal(num)함수는 이때까지의 이동 평균을 반환합니다.\n",
    "\n",
    "예를 들어서, 2,8,19,37,4,5 의 순서로 데이터가 입력되고, 이동 평균의 범위는 3이라고 합시다. 이 경우 다음과 같이 MovingAvg가 사용 될 것입니다.\n",
    "```"
   ]
  },
  {
   "cell_type": "code",
   "execution_count": 328,
   "metadata": {},
   "outputs": [
    {
     "name": "stdout",
     "output_type": "stream",
     "text": [
      "0\n",
      "1\n",
      "2\n",
      "[2.0, 5.0, 9.666666666666666, 21.333333333333332, 20.0, 15.333333333333334]\n"
     ]
    }
   ],
   "source": [
    "import queue\n",
    "\n",
    "class MovingAvg():\n",
    "    def __init__(self, size):\n",
    "        self.size = size #size는 평균이동 사이즈를 말한다\n",
    "        self.q = queue.Queue()\n",
    "        self.sum = 0\n",
    "\n",
    "    def nextVal(self, num):\n",
    "        if self.q.qsize() < self.size:\n",
    "            print(self.q.qsize())\n",
    "            self.q.put(num)\n",
    "            self.sum += num\n",
    "            return self.sum / self.q.qsize()\n",
    "\n",
    "        else: \n",
    "            self.sum -= self.q.get()\n",
    "            self.q.put(num)\n",
    "            self.sum += num\n",
    "            return self.sum / self.size\n",
    "        \n",
    "\n",
    "            \n",
    "\n",
    "def queueExample():\n",
    "    q = queue.Queue()\n",
    "    q.put(1)\n",
    "    q.put(2)\n",
    "    print(q.qsize())\n",
    "    print(q.get())\n",
    "    print(q.qsize())\n",
    "    print(q.get())\n",
    "    \n",
    "def main():\n",
    "\n",
    "\n",
    "    nums = [2,8,19,37,4,5]\n",
    "    ma = MovingAvg(3)\n",
    "    results = []\n",
    "    for num in nums:\n",
    "        avg = ma.nextVal(num)\n",
    "        results.append(avg)\n",
    "    print(results) # [2.0, 5.0, 9.666666666666666, 21.333333333333332, 20.0, 15.333333333333334]\n",
    "if __name__ == \"__main__\":\n",
    "    main()\n",
    "    \n",
    "    \n"
   ]
  },
  {
   "cell_type": "markdown",
   "metadata": {},
   "source": [
    "#### 괄호 매칭\n",
    "```\n",
    "(, ), {, }, <, >, [, ] 의 여덟개의 문자로만 구성된 문자열이 입력으로 주어진다고 해 봅시다.\n",
    "\n",
    "이때, 이 문자열이 유효한지를 확인하는 함수를 작성 해 보세요.\n",
    "\n",
    "열린 괄호들이 닫히는 순서가 올바르게 되어 있는 경우에 그 문자열을 유효하다고 합니다.\n",
    "\n",
    "즉, ({()}) 나 []<>{} 등은 유효한 문자열이며, )( <] <(>) 등은 유효하지 않은 문자열입니다.\n",
    "\n",
    "“열린 순서대로 닫히는” 것을 어떻게 구현 할 수 있을지 고민 해 보세요.\n",
    "```"
   ]
  },
  {
   "cell_type": "code",
   "execution_count": 340,
   "metadata": {},
   "outputs": [
    {
     "name": "stdout",
     "output_type": "stream",
     "text": [
      "({()}) True\n",
      "[]<>{} True\n",
      ")(<] False\n",
      "<(>) False\n"
     ]
    }
   ],
   "source": [
    "def isParenthesisValid(st):\n",
    "    stack = []\n",
    "    pDic = {  '}':'{', ']' : '[', ')' : '(', '>': '<'  }\n",
    "    pOpen = { '{', '[','(','<'}\n",
    "\n",
    "    for ch in st:\n",
    "        if ch in pOpen :\n",
    "            stack.append(ch)\n",
    "        else :\n",
    "            if len(stack) != 0 and stack[-1] == pDic[ch] :\n",
    "                stack.pop()\n",
    "            else : \n",
    "                False\n",
    "    if len(stack) !=0 :\n",
    "        return False\n",
    "    return True\n",
    "            \n",
    "\n",
    "def main():\n",
    "    examples = [\"({()})\", \"[]<>{}\", \")(\" \"<]\", \"<(>)\"]\n",
    "    for example in examples:\n",
    "        print(example, isParenthesisValid(example))\n",
    "\n",
    "    \n",
    "if __name__ == \"__main__\":\n",
    "    main()"
   ]
  },
  {
   "cell_type": "markdown",
   "metadata": {},
   "source": [
    "#### 조세퍼스 순열\n",
    "\n",
    "```\n",
    "입력으로 두 숫자가 들어오면 조세퍼스 순열을 구하는 함수를 작성해 봅시다.\n",
    "\n",
    "조세퍼스 순열이 무엇인가 어렵게 느껴지지만 알고보면 쉽습니다.\n",
    "\n",
    "사람이 7명이 둘러 앉아 있다고 생각해 봅시다. (캠프파이어를 상상해 보세요.) 이때 3번째 사람이 나갑니다. 그후 그 다음 3번째 사람이 나가고 다음 3번째 사람이 나가는 것을 모두가 나갈 때가지 반복해봅시다. 그러면 차례대로 3, 6, 2, 7, 5, 1, 4번째 사람이 나가게 될 것입니다.\n",
    "\n",
    "이때 사람이 나간 순서가 7, 3의 조세퍼스 순열입니다.\n",
    "```"
   ]
  },
  {
   "cell_type": "code",
   "execution_count": 369,
   "metadata": {},
   "outputs": [],
   "source": [
    "num = 7\n",
    "target = 3\n",
    "num_list = list(range(1,num+1))\n"
   ]
  },
  {
   "cell_type": "code",
   "execution_count": 370,
   "metadata": {},
   "outputs": [
    {
     "name": "stdout",
     "output_type": "stream",
     "text": [
      "Help on int object:\n",
      "\n",
      "class int(object)\n",
      " |  int(x=0) -> integer\n",
      " |  int(x, base=10) -> integer\n",
      " |  \n",
      " |  Convert a number or string to an integer, or return 0 if no arguments\n",
      " |  are given.  If x is a number, return x.__int__().  For floating point\n",
      " |  numbers, this truncates towards zero.\n",
      " |  \n",
      " |  If x is not a number or if base is given, then x must be a string,\n",
      " |  bytes, or bytearray instance representing an integer literal in the\n",
      " |  given base.  The literal can be preceded by '+' or '-' and be surrounded\n",
      " |  by whitespace.  The base defaults to 10.  Valid bases are 0 and 2-36.\n",
      " |  Base 0 means to interpret the base from the string as an integer literal.\n",
      " |  >>> int('0b100', base=0)\n",
      " |  4\n",
      " |  \n",
      " |  Methods defined here:\n",
      " |  \n",
      " |  __abs__(self, /)\n",
      " |      abs(self)\n",
      " |  \n",
      " |  __add__(self, value, /)\n",
      " |      Return self+value.\n",
      " |  \n",
      " |  __and__(self, value, /)\n",
      " |      Return self&value.\n",
      " |  \n",
      " |  __bool__(self, /)\n",
      " |      self != 0\n",
      " |  \n",
      " |  __ceil__(...)\n",
      " |      Ceiling of an Integral returns itself.\n",
      " |  \n",
      " |  __divmod__(self, value, /)\n",
      " |      Return divmod(self, value).\n",
      " |  \n",
      " |  __eq__(self, value, /)\n",
      " |      Return self==value.\n",
      " |  \n",
      " |  __float__(self, /)\n",
      " |      float(self)\n",
      " |  \n",
      " |  __floor__(...)\n",
      " |      Flooring an Integral returns itself.\n",
      " |  \n",
      " |  __floordiv__(self, value, /)\n",
      " |      Return self//value.\n",
      " |  \n",
      " |  __format__(...)\n",
      " |      default object formatter\n",
      " |  \n",
      " |  __ge__(self, value, /)\n",
      " |      Return self>=value.\n",
      " |  \n",
      " |  __getattribute__(self, name, /)\n",
      " |      Return getattr(self, name).\n",
      " |  \n",
      " |  __getnewargs__(...)\n",
      " |  \n",
      " |  __gt__(self, value, /)\n",
      " |      Return self>value.\n",
      " |  \n",
      " |  __hash__(self, /)\n",
      " |      Return hash(self).\n",
      " |  \n",
      " |  __index__(self, /)\n",
      " |      Return self converted to an integer, if self is suitable for use as an index into a list.\n",
      " |  \n",
      " |  __int__(self, /)\n",
      " |      int(self)\n",
      " |  \n",
      " |  __invert__(self, /)\n",
      " |      ~self\n",
      " |  \n",
      " |  __le__(self, value, /)\n",
      " |      Return self<=value.\n",
      " |  \n",
      " |  __lshift__(self, value, /)\n",
      " |      Return self<<value.\n",
      " |  \n",
      " |  __lt__(self, value, /)\n",
      " |      Return self<value.\n",
      " |  \n",
      " |  __mod__(self, value, /)\n",
      " |      Return self%value.\n",
      " |  \n",
      " |  __mul__(self, value, /)\n",
      " |      Return self*value.\n",
      " |  \n",
      " |  __ne__(self, value, /)\n",
      " |      Return self!=value.\n",
      " |  \n",
      " |  __neg__(self, /)\n",
      " |      -self\n",
      " |  \n",
      " |  __new__(*args, **kwargs) from builtins.type\n",
      " |      Create and return a new object.  See help(type) for accurate signature.\n",
      " |  \n",
      " |  __or__(self, value, /)\n",
      " |      Return self|value.\n",
      " |  \n",
      " |  __pos__(self, /)\n",
      " |      +self\n",
      " |  \n",
      " |  __pow__(self, value, mod=None, /)\n",
      " |      Return pow(self, value, mod).\n",
      " |  \n",
      " |  __radd__(self, value, /)\n",
      " |      Return value+self.\n",
      " |  \n",
      " |  __rand__(self, value, /)\n",
      " |      Return value&self.\n",
      " |  \n",
      " |  __rdivmod__(self, value, /)\n",
      " |      Return divmod(value, self).\n",
      " |  \n",
      " |  __repr__(self, /)\n",
      " |      Return repr(self).\n",
      " |  \n",
      " |  __rfloordiv__(self, value, /)\n",
      " |      Return value//self.\n",
      " |  \n",
      " |  __rlshift__(self, value, /)\n",
      " |      Return value<<self.\n",
      " |  \n",
      " |  __rmod__(self, value, /)\n",
      " |      Return value%self.\n",
      " |  \n",
      " |  __rmul__(self, value, /)\n",
      " |      Return value*self.\n",
      " |  \n",
      " |  __ror__(self, value, /)\n",
      " |      Return value|self.\n",
      " |  \n",
      " |  __round__(...)\n",
      " |      Rounding an Integral returns itself.\n",
      " |      Rounding with an ndigits argument also returns an integer.\n",
      " |  \n",
      " |  __rpow__(self, value, mod=None, /)\n",
      " |      Return pow(value, self, mod).\n",
      " |  \n",
      " |  __rrshift__(self, value, /)\n",
      " |      Return value>>self.\n",
      " |  \n",
      " |  __rshift__(self, value, /)\n",
      " |      Return self>>value.\n",
      " |  \n",
      " |  __rsub__(self, value, /)\n",
      " |      Return value-self.\n",
      " |  \n",
      " |  __rtruediv__(self, value, /)\n",
      " |      Return value/self.\n",
      " |  \n",
      " |  __rxor__(self, value, /)\n",
      " |      Return value^self.\n",
      " |  \n",
      " |  __sizeof__(...)\n",
      " |      Returns size in memory, in bytes\n",
      " |  \n",
      " |  __str__(self, /)\n",
      " |      Return str(self).\n",
      " |  \n",
      " |  __sub__(self, value, /)\n",
      " |      Return self-value.\n",
      " |  \n",
      " |  __truediv__(self, value, /)\n",
      " |      Return self/value.\n",
      " |  \n",
      " |  __trunc__(...)\n",
      " |      Truncating an Integral returns itself.\n",
      " |  \n",
      " |  __xor__(self, value, /)\n",
      " |      Return self^value.\n",
      " |  \n",
      " |  bit_length(...)\n",
      " |      int.bit_length() -> int\n",
      " |      \n",
      " |      Number of bits necessary to represent self in binary.\n",
      " |      >>> bin(37)\n",
      " |      '0b100101'\n",
      " |      >>> (37).bit_length()\n",
      " |      6\n",
      " |  \n",
      " |  conjugate(...)\n",
      " |      Returns self, the complex conjugate of any int.\n",
      " |  \n",
      " |  from_bytes(...) from builtins.type\n",
      " |      int.from_bytes(bytes, byteorder, *, signed=False) -> int\n",
      " |      \n",
      " |      Return the integer represented by the given array of bytes.\n",
      " |      \n",
      " |      The bytes argument must be a bytes-like object (e.g. bytes or bytearray).\n",
      " |      \n",
      " |      The byteorder argument determines the byte order used to represent the\n",
      " |      integer.  If byteorder is 'big', the most significant byte is at the\n",
      " |      beginning of the byte array.  If byteorder is 'little', the most\n",
      " |      significant byte is at the end of the byte array.  To request the native\n",
      " |      byte order of the host system, use `sys.byteorder' as the byte order value.\n",
      " |      \n",
      " |      The signed keyword-only argument indicates whether two's complement is\n",
      " |      used to represent the integer.\n",
      " |  \n",
      " |  to_bytes(...)\n",
      " |      int.to_bytes(length, byteorder, *, signed=False) -> bytes\n",
      " |      \n",
      " |      Return an array of bytes representing an integer.\n",
      " |      \n",
      " |      The integer is represented using length bytes.  An OverflowError is\n",
      " |      raised if the integer is not representable with the given number of\n",
      " |      bytes.\n",
      " |      \n",
      " |      The byteorder argument determines the byte order used to represent the\n",
      " |      integer.  If byteorder is 'big', the most significant byte is at the\n",
      " |      beginning of the byte array.  If byteorder is 'little', the most\n",
      " |      significant byte is at the end of the byte array.  To request the native\n",
      " |      byte order of the host system, use `sys.byteorder' as the byte order value.\n",
      " |      \n",
      " |      The signed keyword-only argument determines whether two's complement is\n",
      " |      used to represent the integer.  If signed is False and a negative integer\n",
      " |      is given, an OverflowError is raised.\n",
      " |  \n",
      " |  ----------------------------------------------------------------------\n",
      " |  Data descriptors defined here:\n",
      " |  \n",
      " |  denominator\n",
      " |      the denominator of a rational number in lowest terms\n",
      " |  \n",
      " |  imag\n",
      " |      the imaginary part of a complex number\n",
      " |  \n",
      " |  numerator\n",
      " |      the numerator of a rational number in lowest terms\n",
      " |  \n",
      " |  real\n",
      " |      the real part of a complex number\n",
      "\n"
     ]
    }
   ],
   "source": [
    "help (num_list.pop())"
   ]
  },
  {
   "cell_type": "code",
   "execution_count": 361,
   "metadata": {},
   "outputs": [
    {
     "data": {
      "text/plain": [
       "1"
      ]
     },
     "execution_count": 361,
     "metadata": {},
     "output_type": "execute_result"
    }
   ],
   "source": [
    "4//target"
   ]
  },
  {
   "cell_type": "code",
   "execution_count": 360,
   "metadata": {},
   "outputs": [
    {
     "name": "stdout",
     "output_type": "stream",
     "text": [
      "[]\n",
      "[]\n",
      "[3]\n",
      "[3]\n",
      "[3, 6]\n"
     ]
    }
   ],
   "source": [
    "for i in num_list:\n",
    "    if i // target ==0 :\n",
    "        ans.append(i)\n",
    "    else :\n",
    "        print(ans) #[1,2,3,4,5,6,7]\n",
    "        \n",
    "        i//target \n",
    "#[1,2,3,4,5,6,7]\n",
    "#[1,2,4,5,6,7]\n",
    "#[1,4,5,7]\n",
    "#[1,4,5]\n",
    "#[4,5]\n",
    "\n",
    "#[3,6,2,7,5,1,4]"
   ]
  },
  {
   "cell_type": "code",
   "execution_count": 379,
   "metadata": {},
   "outputs": [
    {
     "data": {
      "text/plain": [
       "2"
      ]
     },
     "execution_count": 379,
     "metadata": {},
     "output_type": "execute_result"
    }
   ],
   "source": [
    "7//3"
   ]
  },
  {
   "cell_type": "code",
   "execution_count": 391,
   "metadata": {
    "scrolled": true
   },
   "outputs": [
    {
     "name": "stdout",
     "output_type": "stream",
     "text": [
      "[1, 2, 3, 4, 5, 6, 7] 2\n",
      "[1, 2, 4, 5, 6, 7] 4\n",
      "[1, 2, 4, 5, 7] 1\n",
      "[1, 4, 5, 7] 3\n",
      "[1, 4, 5] 2\n",
      "[1, 4] 0\n",
      "[3, 6, 2, 7, 5, 1]\n"
     ]
    }
   ],
   "source": [
    "import queue\n",
    "def josephus(num, target):\n",
    "    num_list = list(range(1, num+1))\n",
    "    skip = target -1\n",
    "    idx = skip\n",
    "    ans = []\n",
    "    while len(num_list)>1:\n",
    "        print(num_list,idx)\n",
    "        ans.append(num_list.pop(idx))\n",
    "        idx = (skip + idx) % len(num_list)\n",
    "    return ans\n",
    "\n",
    "def main():\n",
    "    print(josephus(7,3)) #[3, 6, 2, 7, 5, 1, 4]이 반환되어야 합니다\n",
    "    \n",
    "if __name__ == '__main__':\n",
    "    main()"
   ]
  },
  {
   "cell_type": "code",
   "execution_count": 385,
   "metadata": {},
   "outputs": [
    {
     "name": "stdout",
     "output_type": "stream",
     "text": [
      "3 [1, 2, 4, 5, 6, 7]\n",
      "idx 4\n",
      "6 [1, 2, 4, 5, 7]\n",
      "idx 1\n",
      "2 [1, 4, 5, 7]\n",
      "idx 3\n",
      "7 [1, 4, 5]\n",
      "idx 2\n",
      "5 [1, 4]\n",
      "idx 0\n",
      "1 [4]\n",
      "idx 0\n",
      "survivor:  4\n"
     ]
    }
   ],
   "source": [
    "def josephus(ls, skip):\n",
    "    skip -= 1 # pop automatically skips the dead guy\n",
    "    idx = skip\n",
    "    while len(ls) > 1:\n",
    "        print (ls.pop(idx), ls) # kill prisoner at idx\n",
    "        idx = (idx + skip) % len(ls)\n",
    "        print('idx',idx)\n",
    "    print ('survivor: ', ls[0])\n",
    "josephus([1,2,3,4,5,6,7], 3)"
   ]
  }
 ],
 "metadata": {
  "kernelspec": {
   "display_name": "Python 3",
   "language": "python",
   "name": "python3"
  },
  "language_info": {
   "codemirror_mode": {
    "name": "ipython",
    "version": 3
   },
   "file_extension": ".py",
   "mimetype": "text/x-python",
   "name": "python",
   "nbconvert_exporter": "python",
   "pygments_lexer": "ipython3",
   "version": "3.6.7"
  }
 },
 "nbformat": 4,
 "nbformat_minor": 2
}
