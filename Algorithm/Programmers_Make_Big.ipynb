{
 "cells": [
  {
   "cell_type": "markdown",
   "metadata": {},
   "source": [
    "### 큰 수 만들기\n",
    "__문제 설명__\n",
    "```\n",
    "어떤 숫자에서 k개의 수를 제거했을 때 얻을 수 있는 가장 큰 숫자를 구하려 합니다.\n",
    "\n",
    "예를 들어, 숫자 1924에서 수 두 개를 제거하면 [19, 12, 14, 92, 94, 24] 를 만들 수 있습니다. 이 중 가장 큰 숫자는 94 입니다.\n",
    "\n",
    "문자열 형식으로 숫자 number와 제거할 수의 개수 k가 solution 함수의 매개변수로 주어집니다. number에서 k 개의 수를 제거했을 때 만들 수 있는 수 중 가장 큰 숫자를 문자열 형태로 return 하도록 solution 함수를 완성하세요.\n",
    "```\n",
    "__제한 조건__\n",
    "```\n",
    "number는 1자리 이상, 1,000,000자리 이하인 숫자입니다.\n",
    "k는 1 이상 number의 자릿수 미만인 자연수입니다.\n",
    "```"
   ]
  },
  {
   "cell_type": "code",
   "execution_count": null,
   "metadata": {},
   "outputs": [],
   "source": [
    "number\tk\treturn\n",
    "1924\t2\t94\n",
    "1231234\t3\t3234\n",
    "4177252841\t4\t775841 "
   ]
  },
  {
   "cell_type": "code",
   "execution_count": 135,
   "metadata": {},
   "outputs": [],
   "source": [
    "number = 1231234\n",
    "k = 3"
   ]
  },
  {
   "cell_type": "code",
   "execution_count": 176,
   "metadata": {},
   "outputs": [
    {
     "name": "stdout",
     "output_type": "stream",
     "text": [
      "['1'] 2 1231234\n",
      "['2']\n",
      "['2'] 3 1231234\n",
      "['3']\n",
      "['3', '1']\n",
      "['3', '1'] 2 1231234\n",
      "['3', '2']\n",
      "['3', '2', '3']\n",
      "['3', '2', '3', '4']\n"
     ]
    },
    {
     "data": {
      "text/plain": [
       "'3234'"
      ]
     },
     "execution_count": 176,
     "metadata": {},
     "output_type": "execute_result"
    }
   ],
   "source": [
    "def solution(number, k):\n",
    "    stack = [number[0]]\n",
    "    for num in number[1:]:\n",
    "        while len(stack) > 0 and stack[-1] < num and k > 0:\n",
    "            k -= 1\n",
    "            print(stack, num,number)\n",
    "            stack.pop()\n",
    "        stack.append(num)\n",
    "        print(stack)\n",
    "    if k != 0:\n",
    "        print('stack')\n",
    "        stack = stack[:-k]\n",
    "    return ''.join(stack)\n",
    "\n",
    "\n",
    "solution('1231234', 3)"
   ]
  },
  {
   "cell_type": "code",
   "execution_count": 177,
   "metadata": {},
   "outputs": [
    {
     "data": {
      "text/plain": [
       "'3234'"
      ]
     },
     "execution_count": 177,
     "metadata": {},
     "output_type": "execute_result"
    }
   ],
   "source": [
    "def solution(number, k):\n",
    "    stack = [number[0]]\n",
    "    for num in number[1:]:\n",
    "        while len(stack) > 0 and stack[-1] < num and k > 0:\n",
    "            k-=1\n",
    "            stack.pop()\n",
    "        stack.append(num)\n",
    "    if k != 0:\n",
    "        stack = stack[:-k]\n",
    "    return ''.join(stack)\n",
    "solution('1231234', 3)"
   ]
  },
  {
   "cell_type": "code",
   "execution_count": 147,
   "metadata": {},
   "outputs": [],
   "source": [
    "def solution(number, k):\n",
    "    \"\"\"\n",
    "    스택을 이용해서 푼다. 키 포인트는 마지막에 스택에 남아있는 원소들을 넣은 순서대로 다시 뽑아야 한다는 것(즉 마지막에는 큐로써 동작해야 한다.)\n",
    "    \"\"\"\n",
    "    from _functools import reduce\n",
    "\n",
    "    n = len(number)\n",
    "    st = []\n",
    "\n",
    "    for elem in number:\n",
    "\n",
    "        while st and k > 0:\n",
    "            p = st[-1]\n",
    "\n",
    "            if p >= elem:\n",
    "                break\n",
    "\n",
    "            st.pop()\n",
    "            k -= 1\n",
    "\n",
    "        st.append(elem)\n",
    "\n",
    "    while k > 0:\n",
    "        st.pop()\n",
    "        k-=1\n",
    "\n",
    "    answer = reduce(lambda x,y: x+y, st)\n",
    "    return answer"
   ]
  }
 ],
 "metadata": {
  "kernelspec": {
   "display_name": "Python 3",
   "language": "python",
   "name": "python3"
  },
  "language_info": {
   "codemirror_mode": {
    "name": "ipython",
    "version": 3
   },
   "file_extension": ".py",
   "mimetype": "text/x-python",
   "name": "python",
   "nbconvert_exporter": "python",
   "pygments_lexer": "ipython3",
   "version": "3.6.7"
  }
 },
 "nbformat": 4,
 "nbformat_minor": 2
}
