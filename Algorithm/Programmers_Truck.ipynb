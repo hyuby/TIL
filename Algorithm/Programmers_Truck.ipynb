{
 "cells": [
  {
   "cell_type": "markdown",
   "metadata": {},
   "source": [
    "__문제 설명__\n",
    "```\n",
    "트럭 여러 대가 강을 가로지르는 일 차선 다리를 정해진 순으로 건너려 합니다. 모든 트럭이 다리를 건너려면 최소 몇 초가 걸리는지 알아내야 합니다. 트럭은 1초에 1만큼 움직이며, 다리 길이는 bridge_length이고 다리는 무게 weight까지 견딥니다.\n",
    "※ 트럭이 다리에 완전히 오르지 않은 경우, 이 트럭의 무게는 고려하지 않습니다.\n",
    "\n",
    "예를 들어, 길이가 2이고 10kg 무게를 견디는 다리가 있습니다. 무게가 [7, 4, 5, 6]kg인 트럭이 순서대로 최단 시간 안에 다리를 건너려면 다음과 같이 건너야 합니다.\n",
    "```\n",
    "\n",
    "|경과 시간|\t다리를 지난 트럭|다리를 건너는 트럭 |대기 트럭|  \n",
    "|:---:|:---:|:---:|:---:|\n",
    "|0|[ ]|[ ]|[7,4,5,6]|  \n",
    "|1~2\t|[ ]\t|[7]|[4,5,6]|  \n",
    "|3|[7]|[4]\t|[5,6]|  \n",
    "|4|[7]|[4,5]|[6]|  \n",
    "|5|[7,4]|[5]|[6]|   \n",
    "|6~7|[7,4,5]|[6]|[ ]|  \n",
    "|8|[7,4,5,6]| [ ]|[ ]|  \n",
    "\n",
    "```\n",
    "따라서, 모든 트럭이 다리를 지나려면 최소 8초가 걸립니다.\n",
    "solution 함수의 매개변수로 다리 길이 bridge_length, 다리가 견딜 수 있는 무게 weight, 트럭별 무게 truck_weights가 주어집니다. 이때 모든 트럭이 다리를 건너려면 최소 몇 초가 걸리는지 return 하도록 solution 함수를 완성하세요.\n",
    "```\n",
    "\n",
    "__제한 조건__  \n",
    "bridge_length는 1 이상 10,000 이하입니다.  \n",
    "weight는 1 이상 10,000 이하입니다.  \n",
    "truck_weights의 길이는 1 이상 10,000 이하입니다.  \n",
    "모든 트럭의 무게는 1 이상 weight 이하입니다.  \n",
    "입출력 예  \n",
    "\n",
    "\n",
    "|bridge_length|weight|truck_weights|return|\n",
    "|:---:|:---:|:---:|:---:|  \n",
    "|2|10\t|[7,4,5,6]\t|8|  \n",
    "|100|100|[10]|101|  \n",
    "|100|100|[10,10,10,10,10,10,10,10,10,10]|110|"
   ]
  },
  {
   "cell_type": "code",
   "execution_count": 5,
   "metadata": {},
   "outputs": [],
   "source": [
    "%config Completer.use_jedi = False"
   ]
  },
  {
   "cell_type": "code",
   "execution_count": 2,
   "metadata": {},
   "outputs": [],
   "source": [
    "a = [1,2,3,4,5]\n",
    "b = []"
   ]
  },
  {
   "cell_type": "code",
   "execution_count": 4,
   "metadata": {},
   "outputs": [],
   "source": [
    "from collections import deque\n",
    "a = deque(a)"
   ]
  },
  {
   "cell_type": "code",
   "execution_count": 6,
   "metadata": {},
   "outputs": [],
   "source": [
    "b.append(a.popleft())"
   ]
  },
  {
   "cell_type": "code",
   "execution_count": 7,
   "metadata": {},
   "outputs": [
    {
     "data": {
      "text/plain": [
       "[1]"
      ]
     },
     "execution_count": 7,
     "metadata": {},
     "output_type": "execute_result"
    }
   ],
   "source": [
    "b"
   ]
  },
  {
   "cell_type": "code",
   "execution_count": 191,
   "metadata": {},
   "outputs": [],
   "source": [
    "bridge_length = 2\n",
    "weight = 10\n",
    "truck_weights = [7,4,5,6]"
   ]
  },
  {
   "cell_type": "code",
   "execution_count": 148,
   "metadata": {},
   "outputs": [],
   "source": [
    "bridge = list()"
   ]
  },
  {
   "cell_type": "code",
   "execution_count": 160,
   "metadata": {},
   "outputs": [],
   "source": [
    "def solution(bridge_length, weight, truck_weights):\n",
    "    time = 0\n",
    "    truckCount = 0\n",
    "    total_truck = len(truck_weights)\n",
    "    bridge = list()\n",
    "    while(truckCount < total_truck) :\n",
    "        current_weight = 0\n",
    "        isDel = False\n",
    "        for i in range(len(bridge)) :\n",
    "            current_weight += bridge[i][0]\n",
    "            bridge[i][1] += 1\n",
    "            total_truck = 50\n",
    "            return bridge"
   ]
  },
  {
   "cell_type": "code",
   "execution_count": 182,
   "metadata": {},
   "outputs": [],
   "source": [
    "def solution(bridge_length, weight, truck_weights):\n",
    "    bridge = [\"\" for i in range(bridge_length)] # 다리를 코드화한 리스트. string형 list이다.\n",
    "    waiting = list(map(int,list(truck_weights))) # 아직 건너지 않은 대기열. waiting은 int형 list이다.\n",
    "    fin = list() # 이미 건넌 트럭. int형 list이다.\n",
    "    trucknum = len(truck_weights) # 총 트럭의 수\n",
    "\n",
    "    sec = 0\n",
    "    bridge_weight = 0 # 지금 다리 위에 있는 무게의 합계\n",
    "\n",
    "    while(1):\n",
    "        if len(fin) == trucknum: # 다 건넜으면 반복문 종료\n",
    "            return sec\n",
    "        else:                    # 다 안 건넜으면 한 칸씩 옮겨준다.\n",
    "            sec += 1\n",
    "\n",
    "            if bridge[0] != \"\":\n",
    "                print('bridge', bridge[0])\n",
    "                fin.append(bridge[0])\n",
    "                bridge_weight -= int(bridge[0])\n",
    "            del bridge[0]\n",
    "\n",
    "            if len(waiting) == 0:\n",
    "                bridge.append(\"\")\n",
    "            else:           \n",
    "                if (weight >= bridge_weight + waiting[0]): # 다음 트럭이 올라가도 버틸 수 있다면\n",
    "                    bridge.append(str(waiting[0]))\n",
    "                    bridge_weight += waiting[0]\n",
    "                    del waiting[0]\n",
    "                else: # 다음 트럭이 못올라가면 추가로 안 올리고 지금 다리에 있는애들만 한칸씩 옮겨준다.\n",
    "                    bridge.append(\"\")\n",
    "\n",
    "    return sec"
   ]
  },
  {
   "cell_type": "code",
   "execution_count": 212,
   "metadata": {},
   "outputs": [],
   "source": [
    "bridge_length = 2\n",
    "weight = 10\n",
    "truck_weights = [7,4,5,6]\n",
    "def solution(bridge_length, weight, truck_weights):\n",
    "    answer = 0\n",
    "    q = []\n",
    "    for i in range(bridge_length): \n",
    "        q.append(0)\n",
    "        \n",
    "    \n",
    "    while q:\n",
    "        print('q',q)\n",
    "        q.pop(0)\n",
    "        if truck_weights:\n",
    "            print('truck weights', truck_weights)\n",
    "            if sum(q) + truck_weights[0] <= weight:\n",
    "                q.append(truck_weights.pop(0))\n",
    "            else:\n",
    "                q.append(0)\n",
    "        answer += 1\n",
    "        print(q)\n",
    "    return answer"
   ]
  },
  {
   "cell_type": "code",
   "execution_count": 225,
   "metadata": {},
   "outputs": [],
   "source": [
    "bridge_length = 2\n",
    "weight = 10\n",
    "truck_weights = [7,4,5,6]\n",
    "def solution(bridge_length, weight, truck_weights):\n",
    "    time = 0\n",
    "    q = []\n",
    "    for i in range(bridge_length):\n",
    "        q.append(0)\n",
    "    \n",
    "    while q:\n",
    "        q.pop(0)\n",
    "        if truck_weights:\n",
    "            if sum(q) + truck_weights[0] <= weight:\n",
    "                q.append(truck_weights.pop(0))\n",
    "            else:\n",
    "                q.append(0)\n",
    "        time += 1\n",
    "    return time"
   ]
  },
  {
   "cell_type": "code",
   "execution_count": 226,
   "metadata": {},
   "outputs": [
    {
     "data": {
      "text/plain": [
       "8"
      ]
     },
     "execution_count": 226,
     "metadata": {},
     "output_type": "execute_result"
    }
   ],
   "source": [
    "solution(bridge_length, weight, truck_weights)"
   ]
  },
  {
   "cell_type": "code",
   "execution_count": null,
   "metadata": {},
   "outputs": [],
   "source": []
  },
  {
   "cell_type": "code",
   "execution_count": null,
   "metadata": {},
   "outputs": [],
   "source": []
  },
  {
   "cell_type": "code",
   "execution_count": 143,
   "metadata": {},
   "outputs": [],
   "source": [
    "from collections import deque\n",
    "def solution(bridge_length, weight, truck_weights):\n",
    "    finished = []\n",
    "    cross_ing = deque([])\n",
    "    truck_weights = deque(truck_weights)\n",
    "    answer=0\n",
    "    for i in range(1,10000):\n",
    "\n",
    "        if sum(cross_ing) <= weight:\n",
    "            cross_ing.append(truck_weights.popleft())\n",
    "            print('crossing@@@@',cross_ing)\n",
    "            \n",
    "            bridge_length*n +1\n",
    "        if divmod(i,bridge_length)[1] == 2:\n",
    "            finished.append(cross_ing.popleft())\n",
    "            print('finish line######','cross',cross_ing, 'finished',finished)\n",
    "            print('i',i,'bridge_length',bridge_length)\n",
    "\n",
    "            \n",
    "        if finished == truck_weights:\n",
    "            print('answer')\n",
    "            answer = i\n",
    "            break\n",
    "            \n",
    "        else : \n",
    "            print('continue@@@', i)\n",
    "            continue\n",
    "    return answer"
   ]
  }
 ],
 "metadata": {
  "kernelspec": {
   "display_name": "Python 3",
   "language": "python",
   "name": "python3"
  },
  "language_info": {
   "codemirror_mode": {
    "name": "ipython",
    "version": 3
   },
   "file_extension": ".py",
   "mimetype": "text/x-python",
   "name": "python",
   "nbconvert_exporter": "python",
   "pygments_lexer": "ipython3",
   "version": "3.6.7"
  }
 },
 "nbformat": 4,
 "nbformat_minor": 2
}
