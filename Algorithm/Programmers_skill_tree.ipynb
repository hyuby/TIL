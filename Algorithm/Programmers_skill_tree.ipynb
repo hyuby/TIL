{
 "cells": [
  {
   "cell_type": "markdown",
   "metadata": {},
   "source": [
    "```\n",
    "문제 설명\n",
    "선행 스킬이란 어떤 스킬을 배우기 전에 먼저 배워야 하는 스킬을 뜻합니다.\n",
    "\n",
    "예를 들어 선행 스킬 순서가 스파크 → 라이트닝 볼트 → 썬더일때, 썬더를 배우려면 먼저 라이트닝 볼트를 배워야 하고, 라이트닝 볼트를 배우려면 먼저 스파크를 배워야 합니다.\n",
    "\n",
    "위 순서에 없는 다른 스킬(힐링 등)은 순서에 상관없이 배울 수 있습니다. 따라서 스파크 → 힐링 → 라이트닝 볼트 → 썬더와 같은 스킬트리는 가능하지만, 썬더 → 스파크나 라이트닝 볼트 → 스파크 → 힐링 → 썬더와 같은 스킬트리는 불가능합니다.\n",
    "\n",
    "선행 스킬 순서 skill과 유저들이 만든 스킬트리1를 담은 배열 skill_trees가 매개변수로 주어질 때, 가능한 스킬트리 개수를 return 하는 solution 함수를 작성해주세요.\n",
    "```\n",
    "___\n",
    "```\n",
    "제한 조건\n",
    "스킬은 알파벳 대문자로 표기하며, 모든 문자열은 알파벳 대문자로만 이루어져 있습니다.\n",
    "스킬 순서와 스킬트리는 문자열로 표기합니다.\n",
    "예를 들어, C → B → D 라면 CBD로 표기합니다\n",
    "선행 스킬 순서 skill의 길이는 2 이상 26 이하이며, 스킬은 중복해 주어지지 않습니다.\n",
    "skill_trees는 길이 1 이상 20 이하인 배열입니다.\n",
    "skill_trees의 원소는 스킬을 나타내는 문자열입니다.\n",
    "skill_trees의 원소는 길이가 2 이상 26 이하인 문자열이며, 스킬이 중복해 주어지지 않습니다.\n",
    "```"
   ]
  },
  {
   "cell_type": "code",
   "execution_count": 1,
   "metadata": {},
   "outputs": [],
   "source": [
    "\n",
    "skill_trees = [\"BACDE\", \"CBADF\", \"AECB\", \"BDA\"]\n",
    "skill = [\"CBD\"]"
   ]
  },
  {
   "cell_type": "code",
   "execution_count": 22,
   "metadata": {},
   "outputs": [],
   "source": [
    "a = list(skill[0])"
   ]
  },
  {
   "cell_type": "code",
   "execution_count": 26,
   "metadata": {},
   "outputs": [
    {
     "data": {
      "text/plain": [
       "2"
      ]
     },
     "execution_count": 26,
     "metadata": {},
     "output_type": "execute_result"
    }
   ],
   "source": [
    "skill_trees[0].index('C')"
   ]
  },
  {
   "cell_type": "code",
   "execution_count": 78,
   "metadata": {},
   "outputs": [
    {
     "name": "stdout",
     "output_type": "stream",
     "text": [
      "n 0\n",
      "BACDE\n",
      "2\n",
      "BACDE\n",
      "0\n",
      "BACDE\n",
      "3\n",
      "CBADF\n",
      "0\n",
      "CBADF\n",
      "1\n",
      "CBADF\n",
      "3\n",
      "n 1\n",
      "AECB\n",
      "2\n",
      "AECB\n",
      "3\n",
      "n 2\n",
      "BDA\n",
      "0\n",
      "BDA\n",
      "1\n"
     ]
    },
    {
     "data": {
      "text/plain": [
       "2"
      ]
     },
     "execution_count": 78,
     "metadata": {},
     "output_type": "execute_result"
    }
   ],
   "source": [
    "#return 2\n",
    "def solution(skill, skill_trees):\n",
    "    n=0\n",
    "    li =[]\n",
    "    skill_split = list(skill)\n",
    "    for tree in skill_trees:\n",
    "        if sorted(li) == li:\n",
    "            n += 1\n",
    "            li =[]\n",
    "        else :\n",
    "            li = []\n",
    "            \n",
    "        for split in skill_split:\n",
    "            if split in tree:\n",
    "                li.append(tree.index(split))\n",
    "            else :\n",
    "                continue\n",
    "    return n-1"
   ]
  },
  {
   "cell_type": "code",
   "execution_count": 85,
   "metadata": {
    "scrolled": true
   },
   "outputs": [
    {
     "name": "stdout",
     "output_type": "stream",
     "text": [
      "Python 3.6.7 :: Anaconda custom (64-bit)\r\n"
     ]
    }
   ],
   "source": [
    "!python --version"
   ]
  },
  {
   "cell_type": "code",
   "execution_count": 92,
   "metadata": {
    "scrolled": true
   },
   "outputs": [
    {
     "name": "stdout",
     "output_type": "stream",
     "text": [
      "skill_list ['CBD']\n",
      "B\n",
      "A\n",
      "C\n",
      "D\n",
      "E\n",
      "['CBD']\n",
      "skill_list ['CBD']\n",
      "C\n",
      "B\n",
      "A\n",
      "D\n",
      "F\n",
      "['CBD']\n",
      "skill_list ['CBD']\n",
      "A\n",
      "E\n",
      "C\n",
      "B\n",
      "['CBD']\n",
      "skill_list ['CBD']\n",
      "B\n",
      "D\n",
      "A\n",
      "['CBD']\n"
     ]
    },
    {
     "data": {
      "text/plain": [
       "4"
      ]
     },
     "execution_count": 92,
     "metadata": {},
     "output_type": "execute_result"
    }
   ],
   "source": [
    "def solution(skill, skill_trees):\n",
    "    answer = 0\n",
    "\n",
    "    for skills in skill_trees:\n",
    "        skill_list = list(skill)\n",
    "        print('skill_list', skill_list)\n",
    "        for s in skills:\n",
    "            print(s)\n",
    "            if s in skill:\n",
    "                if s != skill_list.pop(0):\n",
    "\n",
    "                    break\n",
    "        else:\n",
    "            print(skill_list)\n",
    "            answer += 1\n",
    "\n",
    "    return answer\n",
    "\n",
    "solution(skill, skill_trees)"
   ]
  },
  {
   "cell_type": "markdown",
   "metadata": {},
   "source": [
    "내버전이 python 3.6.5이고  \n",
    "programmers는 python 3.7.1이다.  \n",
    "\n",
    "버전 차이때문에 오차가 발생하는 것 같다. "
   ]
  }
 ],
 "metadata": {
  "kernelspec": {
   "display_name": "Python 3",
   "language": "python",
   "name": "python3"
  },
  "language_info": {
   "codemirror_mode": {
    "name": "ipython",
    "version": 3
   },
   "file_extension": ".py",
   "mimetype": "text/x-python",
   "name": "python",
   "nbconvert_exporter": "python",
   "pygments_lexer": "ipython3",
   "version": "3.6.7"
  }
 },
 "nbformat": 4,
 "nbformat_minor": 2
}
