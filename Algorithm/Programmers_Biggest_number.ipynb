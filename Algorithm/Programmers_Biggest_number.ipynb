{
 "cells": [
  {
   "cell_type": "markdown",
   "metadata": {},
   "source": [
    "__문제 설명__\n",
    "```\n",
    "0 또는 양의 정수가 주어졌을 때, 정수를 이어 붙여 만들 수 있는 가장 큰 수를 알아내 주세요.\n",
    "\n",
    "예를 들어, 주어진 정수가 [6, 10, 2]라면 [6102, 6210, 1062, 1026, 2610, 2106]를 만들 수 있고, 이중 가장 큰 수는 6210입니다.\n",
    "\n",
    "0 또는 양의 정수가 담긴 배열 numbers가 매개변수로 주어질 때, 순서를 재배치하여 만들 수 있는 가장 큰 수를 문자열로 바꾸어 return 하도록 solution 함수를 작성해주세요.\n",
    "```\n",
    "\n",
    "__제한 사항__\n",
    "```\n",
    "numbers의 길이는 1 이상 100,000 이하입니다.\n",
    "numbers의 원소는 0 이상 1,000 이하입니다.\n",
    "정답이 너무 클 수 있으니 문자열로 바꾸어 return 합니다.\n",
    "```"
   ]
  },
  {
   "cell_type": "code",
   "execution_count": 1,
   "metadata": {},
   "outputs": [],
   "source": [
    "from itertools import permutations"
   ]
  },
  {
   "cell_type": "code",
   "execution_count": 2,
   "metadata": {},
   "outputs": [],
   "source": [
    "li = [2,3,4,23]"
   ]
  },
  {
   "cell_type": "code",
   "execution_count": 7,
   "metadata": {},
   "outputs": [],
   "source": [
    "str_list = []\n",
    "for i in li:\n",
    "    str_list.append(str(i))"
   ]
  },
  {
   "cell_type": "code",
   "execution_count": 8,
   "metadata": {},
   "outputs": [
    {
     "data": {
      "text/plain": [
       "['2', '3', '4', '23']"
      ]
     },
     "execution_count": 8,
     "metadata": {},
     "output_type": "execute_result"
    }
   ],
   "source": [
    "str_list"
   ]
  },
  {
   "cell_type": "code",
   "execution_count": 22,
   "metadata": {},
   "outputs": [
    {
     "data": {
      "text/plain": [
       "['23423',\n",
       " '23234',\n",
       " '24323',\n",
       " '24233',\n",
       " '22334',\n",
       " '22343',\n",
       " '32423',\n",
       " '32234',\n",
       " '34223',\n",
       " '34232',\n",
       " '32324',\n",
       " '32342',\n",
       " '42323',\n",
       " '42233',\n",
       " '43223',\n",
       " '43232',\n",
       " '42323',\n",
       " '42332',\n",
       " '23234',\n",
       " '23243',\n",
       " '23324',\n",
       " '23342',\n",
       " '23423',\n",
       " '23432']"
      ]
     },
     "execution_count": 22,
     "metadata": {},
     "output_type": "execute_result"
    }
   ],
   "source": [
    "list(map(''.join, permutations(str_list)))"
   ]
  },
  {
   "cell_type": "code",
   "execution_count": 16,
   "metadata": {},
   "outputs": [
    {
     "name": "stdout",
     "output_type": "stream",
     "text": [
      "['23', '24', '223', '32', '34', '323', '42', '43', '423', '232', '233', '234']\n"
     ]
    }
   ],
   "source": [
    "import itertools\n",
    "\n",
    "pool = ['A', 'B', 'C']\n",
    "aa = list(map(''.join, itertools.permutations(li))) # 3개의 원소로 수열 만들기\n",
    "print(list(map(''.join, itertools.permutations(li, 2))))"
   ]
  },
  {
   "cell_type": "code",
   "execution_count": 19,
   "metadata": {},
   "outputs": [],
   "source": [
    "a =[]\n",
    "for i in aa:\n",
    "    a.append(int(i))\n",
    "    "
   ]
  },
  {
   "cell_type": "code",
   "execution_count": 22,
   "metadata": {},
   "outputs": [
    {
     "data": {
      "text/plain": [
       "43232"
      ]
     },
     "execution_count": 22,
     "metadata": {},
     "output_type": "execute_result"
    }
   ],
   "source": [
    "sorted(a, reverse=True)[0]"
   ]
  },
  {
   "cell_type": "code",
   "execution_count": 18,
   "metadata": {},
   "outputs": [],
   "source": [
    "from itertools import permutations\n",
    "def solution(numbers):\n",
    "    str_list = []\n",
    "    for i in numbers:\n",
    "        str_list.append(str(i))\n",
    "    first=list(map(''.join, permutations(str_list)))\n",
    "    int_list = []\n",
    "    for li in first:\n",
    "        int_list.append(int(li))\n",
    "    answer = sorted(int_list, reverse=True)[0]\n",
    "    return str(answer)"
   ]
  },
  {
   "cell_type": "markdown",
   "metadata": {},
   "source": [
    "### Permutaion은 시간복잡도가 크므로 사용하지 않을 것!"
   ]
  },
  {
   "cell_type": "code",
   "execution_count": null,
   "metadata": {},
   "outputs": [],
   "source": [
    "def solution(numbers):\n",
    "    #리스트에서 앞에 것만 가져와서 크기 비교를 하고 큰 것 순서 대로 붙이자, 만약 앞자리 숫자가 같다면? 그땐?\n",
    "    #int리스트를 정렬해서 붙이지\n",
    "    sort_list = sorted(numbers)\n",
    "    \n",
    "    str_list = []\n",
    "    for i in numbers:\n",
    "        str_list.append(str(i))\n",
    "    str_list\n",
    "\n",
    "        "
   ]
  },
  {
   "cell_type": "code",
   "execution_count": 50,
   "metadata": {},
   "outputs": [
    {
     "data": {
      "text/plain": [
       "[34, 30, 9, 5, 3]"
      ]
     },
     "execution_count": 50,
     "metadata": {},
     "output_type": "execute_result"
    }
   ],
   "source": [
    "numbers = [3, 30, 34, 5, 9]\n",
    "sort_list = sorted(numbers, reverse=True)\n",
    "sort_list\n",
    "for i in sort_list:\n",
    "    if len(i) ==\n",
    "# 앞자리 수 비교해서 큰 것 넣기\n",
    "# 앞자리 수가 같다면 뒤에 숫자가 없는 것을 먼저 붙이기, 그 다음은 숫자가 큰 순서대로"
   ]
  },
  {
   "cell_type": "code",
   "execution_count": 48,
   "metadata": {},
   "outputs": [
    {
     "name": "stdout",
     "output_type": "stream",
     "text": [
      "3\n",
      "3\n",
      "3\n",
      "5\n",
      "9\n"
     ]
    }
   ],
   "source": [
    "for i in range(len(arr)):\n",
    "    save = []\n",
    "    print(arr[i][0])\n",
    "    save.append(i)"
   ]
  },
  {
   "cell_type": "code",
   "execution_count": 35,
   "metadata": {},
   "outputs": [
    {
     "data": {
      "text/plain": [
       "'3'"
      ]
     },
     "execution_count": 35,
     "metadata": {},
     "output_type": "execute_result"
    }
   ],
   "source": [
    "arr[0][0]"
   ]
  },
  {
   "cell_type": "code",
   "execution_count": 19,
   "metadata": {
    "scrolled": true
   },
   "outputs": [
    {
     "data": {
      "text/plain": [
       "'9534330'"
      ]
     },
     "execution_count": 19,
     "metadata": {},
     "output_type": "execute_result"
    }
   ],
   "source": [
    "solution([3, 30, 34, 5, 9])"
   ]
  },
  {
   "cell_type": "code",
   "execution_count": 51,
   "metadata": {},
   "outputs": [],
   "source": [
    "def max_(a,b):\n",
    "    return a<=b if len(a) == len(b) else a+b <= b+a"
   ]
  },
  {
   "cell_type": "code",
   "execution_count": 53,
   "metadata": {},
   "outputs": [
    {
     "data": {
      "text/plain": [
       "False"
      ]
     },
     "execution_count": 53,
     "metadata": {},
     "output_type": "execute_result"
    }
   ],
   "source": [
    "max_('3','30')"
   ]
  }
 ],
 "metadata": {
  "kernelspec": {
   "display_name": "Python 3",
   "language": "python",
   "name": "python3"
  },
  "language_info": {
   "codemirror_mode": {
    "name": "ipython",
    "version": 3
   },
   "file_extension": ".py",
   "mimetype": "text/x-python",
   "name": "python",
   "nbconvert_exporter": "python",
   "pygments_lexer": "ipython3",
   "version": "3.6.7"
  }
 },
 "nbformat": 4,
 "nbformat_minor": 2
}
