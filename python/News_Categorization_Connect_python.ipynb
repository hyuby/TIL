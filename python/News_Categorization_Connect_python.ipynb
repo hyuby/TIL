{
 "cells": [
  {
   "cell_type": "code",
   "execution_count": 2,
   "metadata": {},
   "outputs": [],
   "source": [
    "%config Completer.use_jedi = False"
   ]
  },
  {
   "cell_type": "code",
   "execution_count": 72,
   "metadata": {},
   "outputs": [],
   "source": [
    "import os\n",
    "import re\n",
    "import operator\n",
    "import math\n",
    "from collections import OrderedDict"
   ]
  },
  {
   "cell_type": "code",
   "execution_count": 73,
   "metadata": {},
   "outputs": [
    {
     "name": "stdout",
     "output_type": "stream",
     "text": [
      "Number of words : 4024\n",
      "0.6950000000000001\n"
     ]
    }
   ],
   "source": [
    "if __name__ == \"__main__\":\n",
    "    dir_name = \"news_data\"\n",
    "    file_list = get_file_list(dir_name)\n",
    "    file_list = [os.path.join(dir_name, file_name) for file_name in file_list]\n",
    "\n",
    "    X_text, y_class = get_contents(file_list)\n",
    "\n",
    "    corpus = get_corpus_dict(X_text)\n",
    "    print(\"Number of words : {0}\".format(len(corpus)))\n",
    "    X_vector = get_count_vector(X_text, corpus)\n",
    "    source_number = 10 # 10번째 문서에 대해서 조사\n",
    "\n",
    "    result = []\n",
    "\n",
    "    for i in range(80):\n",
    "        source_number = i\n",
    "\n",
    "        similarity_score = get_similarity_score(X_vector, source_number)\n",
    "        similarity_news = get_top_n_similarity_news(similarity_score, 10)\n",
    "        accuracy_score = get_accuracy(similarity_news, y_class, source_number)\n",
    "        result.append(accuracy_score)\n",
    "    print(sum(result) / 80)"
   ]
  },
  {
   "cell_type": "code",
   "execution_count": 5,
   "metadata": {},
   "outputs": [
    {
     "data": {
      "text/plain": [
       "['news_data/3_SEUNG-HWAN OH SHUTS DOWN TWINS IN FIRST SPRING ACTION.txt',\n",
       " 'news_data/1_MLB Team Interested In Dae-Ho Lee.txt',\n",
       " \"news_data/4_Twins' Park Byung-ho hits first big league triple.txt\",\n",
       " 'news_data/7_Swansea City midfielder Ki Sung-Yueng will miss Crystal Palace clash.txt',\n",
       " 'news_data/7_Premier League 2015-2016 Swansea City vs Manchester City, Preview, Prediction & Predicted Lineup.txt',\n",
       " 'news_data/8_Heung Min Son gives Tottenham a two-goal advantage vs Chelsea.txt',\n",
       " \"news_data/5_Injured midfielder likely to miss nat'l team friendlies.txt\",\n",
       " 'news_data/8_Has Heung Min Son Done Enough to Justify 22m Transfer.txt',\n",
       " 'news_data/7_Sung-yueng In Team Of The Week.txt',\n",
       " 'news_data/3_SEUNG-HWAN OH STRIKES OUT THE SIDE.txt',\n",
       " 'news_data/3_Seung Hwan Oh Arrives Early To Cardinals Spring Training Camp.txt',\n",
       " \"news_data/8_South Korea coach has a warning for Tottenham Hotspur's Heung-min Son and fellow internationals, suggests they should consider exits.txt\",\n",
       " \"news_data/1_Seattle Mariners' Newest Signing Dae-Ho Lee Could Become Fan Favorite.txt\",\n",
       " 'news_data/2_Ryu Hyun-jin Rejoins Dodgers After Surgery.txt',\n",
       " 'news_data/8_South Korea are waiting to hear if Tottenham will clear Son Heung-min for the Olympics, according to the forward..txt',\n",
       " \"news_data/6_Mkhitaryan, Hummels perfect 10s in Dortmund's win at Gladbach.txt\",\n",
       " \"news_data/8_Heung Min Son doubles Tottenham's lead over Chelsea.txt\",\n",
       " 'news_data/8_Heung min Son Believes Injury Tainted Debut at Tottenham.txt',\n",
       " 'news_data/6_Borussia Dortmund sign Korea defender Park Joo-ho from Mainz.txt',\n",
       " \"news_data/4_Byung-Ho Park Won't Fix The Minnesota Twins.txt\",\n",
       " 'news_data/7_Ki Sung-yueng Stretchered Off Pitch with Head Injury.txt',\n",
       " 'news_data/6_International South Korean Joo Ho Park, is committed to Borussia Dortmund on Saturday..txt',\n",
       " \"news_data/4_Byung-ho Park's homers are the best thing about the Twins so far.txt\",\n",
       " 'news_data/4_Twins’ Byung Ho Park Still Getting Accustomed To American Life.txt',\n",
       " 'news_data/5_ S. Korea look well-positioned to qualify for 2018 World Cup.txt',\n",
       " 'news_data/6_Thomas Tuchel mulls Park Joo-ho dilemma on Borussia Dortmund`s record run.txt',\n",
       " 'news_data/1_Dae-Ho Lee walk-off homer gives Mariners 4-2 win over Rangers.txt',\n",
       " 'news_data/7_Swansea City midfielder Ki Sung-Yueng wary of Arsenal threat.txt',\n",
       " 'news_data/1_Korean First Baseman Dae-Ho Lee Becomes Free Agent, Interested In MLB Deal.txt',\n",
       " 'news_data/4_Park remains on bench as Twins face Gonzalez and the Nats.txt',\n",
       " 'news_data/5_South Korean Footballer Koo Ja Cheol Returns To Augsburg, Says He Has the ‘Feeling of Coming Home’.txt',\n",
       " 'news_data/5_Korean Footballers in Europe Struggle for Match Time.txt',\n",
       " 'news_data/5_S. Korean MF Koo Ja-cheol suspended for next World Cup qualifier.txt',\n",
       " 'news_data/4_Park Byung-ho hits large homer on ‘Park Byung-ho Day’.txt',\n",
       " 'news_data/3_Oh Seung-hwan Could Lose Contract Over Gambling Scandal.txt',\n",
       " 'news_data/6_BVB has initially without full-back Joo-Ho Park.txt',\n",
       " 'news_data/7_Swansea City midfielder Ki Sung-Yueng says confidence will not be dented by Arsenal defeat.txt',\n",
       " 'news_data/8_Tottenham vs Southampton player ratings Heung-min Son shines but Ryan Mason disappoints.txt',\n",
       " 'news_data/4_Minnesota’s Park Byung-ho hits 7th homer of the season.txt',\n",
       " \"news_data/1_Mariners' Lee Dae-ho belts a walk-off homer.txt\",\n",
       " 'news_data/5_Follow the action live as Augsburg welcome the visit of Stuttgart on Saturday.txt',\n",
       " 'news_data/2_Dodgers will take it slowly with pitcher Hyun-Jin Ryu, whose health could be a key to their season.txt',\n",
       " 'news_data/2_Dodgers left with questions after latest Hyun-Jin Ryu setback.txt',\n",
       " 'news_data/6_AFC 2018 World Cup Qualifying South Korea vs Lebanon, Preview, Prediction & Predicted Lineup.txt',\n",
       " 'news_data/2_Dodgers left-hander Hyun-Jin Ryu expects to be ready for start of season.txt',\n",
       " 'news_data/7_Swansea City midfielder Ki Sung-Yueng demands immediate improvement.txt',\n",
       " 'news_data/3_Korean reliever Seung-hwan Oh has the best nickname for a closer.txt',\n",
       " 'news_data/3_Lim Chang-yong, Oh Seung-hwan to be suspended from 50% of games even if they return.txt',\n",
       " 'news_data/5_Koo Ja-cheol Nets a Hat Trick for Augsburg.txt',\n",
       " 'news_data/7_Ki Sung-yueng Scores 2nd Goal for Swansea in 4 Months.txt',\n",
       " 'news_data/2_Ryu Hyun-jin suffers injury in groin, further delays return.txt',\n",
       " 'news_data/2_Hyun-Jin Ryu downplays long break between bullpen sessions.txt',\n",
       " 'news_data/1_Mariners’ Lee Dae-ho gets 1st two-hit game, double.txt',\n",
       " 'news_data/4_BYUNG-HO PARK SETTLING IN TO AMERICAN GAME.txt',\n",
       " 'news_data/1_Lee Dae-ho to Start Spring Training in Arizona.txt',\n",
       " \"news_data/5_Stielike warns it won't be easy for Euro-stars.txt\",\n",
       " 'news_data/3_SEUNG-HWAN OH TOSSES CLEAN INNING VERSUS BOSTON.txt',\n",
       " 'news_data/2_Los Angeles Dodgers’ Hyun-Jin Ryu Experiencing Shoulder Discomfort.txt',\n",
       " 'news_data/6_Joo-Ho Park poor for Borussia Dortmund in loss at Cologne.txt',\n",
       " 'news_data/1_Lee Dae-ho wins MVP in Japan Series.txt',\n",
       " 'news_data/1_Lee Dae-ho Announces MLB Aspirations.txt',\n",
       " 'news_data/6_Son Heung-min, Park Joo-ho Set to Start for New Clubs.txt',\n",
       " 'news_data/1_SoftBank Hawks Hope to Renew Contract with Lee Dae-ho.txt',\n",
       " 'news_data/3_Free agent closer Seung-hwan Oh under investigation for gambling.txt',\n",
       " 'news_data/8_Top five matchups in 2018 AFC World Cup final round qualification.txt',\n",
       " \"news_data/4_Byung Ho Park went 1-for-4 with a solo homer in Saturday's 4-1 loss to the Tigers..txt\",\n",
       " 'news_data/5_Augsburg vs Stuttgart Bundesliga Match Preview and Kick-Off Time.txt',\n",
       " \"news_data/8_Who Should Be Tottenham Hotspur's No. 1 Summer Transfer Target.txt\",\n",
       " 'news_data/5_Augsburg midfielder Koo Ja-cheol scores 3 hat tricks at home game.txt',\n",
       " \"news_data/2_Hyun-Jin Ryu's timetable starting to become clear.txt\",\n",
       " 'news_data/2_Ryu Hyun-jin appears before fans after 3-month hiatus for rehabilitation.txt',\n",
       " \"news_data/8_Heung Min Son prefers Tottenham's busy fixture list to winter break.txt\",\n",
       " 'news_data/7_Ki Sung-Yueng back in Swansea City fold as Garry Monk targets victory over benchmark club Everton.txt',\n",
       " 'news_data/3_Seung-hwan Oh off to a great start.txt',\n",
       " 'news_data/6_Borussia Dortmund vs. Wolfsburg Team News, Preview, Live Stream, TV Info.txt',\n",
       " \"news_data/6_Park Joo-ho delivers top performance in Dortmund's late Europa victory.txt\",\n",
       " 'news_data/3_Cleveland Indians interested in South Korean reliever Seung-hwan Oh.txt',\n",
       " 'news_data/7_Swansea win the perfect tonic for weary Sunderland.txt',\n",
       " \"news_data/4_Twins' slugger Byung Ho Park adapts to high heat.txt\",\n",
       " 'news_data/2_Dodgers unsure when Hyun-Jin Ryu will throw another bullpen session.txt']"
      ]
     },
     "execution_count": 5,
     "metadata": {},
     "output_type": "execute_result"
    }
   ],
   "source": [
    "file_list"
   ]
  },
  {
   "cell_type": "code",
   "execution_count": 7,
   "metadata": {},
   "outputs": [
    {
     "name": "stdout",
     "output_type": "stream",
     "text": [
      "80\n"
     ]
    }
   ],
   "source": [
    "print(len(file_list))"
   ]
  },
  {
   "cell_type": "code",
   "execution_count": 13,
   "metadata": {
    "scrolled": true
   },
   "outputs": [
    {
     "name": "stdout",
     "output_type": "stream",
     "text": [
      "['Cardinals set-up man Seung-Hwan Oh shut the Twins down in one inning on Monday, allowing no hits and striking out one - fellow countryman Byung-Ho Park.\\n\\nFantasy Impact: It was a nice start for Oh who should be a lock for the Cardinals setup role to closer Trevor Rosenthal. Rosenthal is a solid closer but is not elite, and Oh would likely be the first to take over for him should he struggle in 2016.']\n"
     ]
    }
   ],
   "source": [
    "print(X_text)"
   ]
  },
  {
   "cell_type": "code",
   "execution_count": null,
   "metadata": {},
   "outputs": [],
   "source": []
  },
  {
   "cell_type": "markdown",
   "metadata": {},
   "source": [
    "### functions"
   ]
  },
  {
   "cell_type": "code",
   "execution_count": 71,
   "metadata": {},
   "outputs": [],
   "source": [
    "def get_file_list(dir_name):\n",
    "    return os.listdir(dir_name)\n",
    "\n",
    "\n",
    "\n",
    "def get_contents(file_list):\n",
    "    y_class = []\n",
    "    X_text = []\n",
    "    class_dict = {\n",
    "        1: \"0\", 2: \"0\", 3:\"0\", 4:\"0\", 5:\"1\", 6:\"1\", 7:\"1\", 8:\"1\"}\n",
    "\n",
    "    for file_name in file_list:\n",
    "        try:\n",
    "            f = open(file_name, \"r\",  encoding=\"cp949\")\n",
    "            category = int(file_name.split(os.sep)[1].split(\"_\")[0])\n",
    "            y_class.append(class_dict[category])\n",
    "            X_text.append(f.read())\n",
    "            f.close()\n",
    "        except UnicodeDecodeError as e:\n",
    "            print(e)\n",
    "            print(file_name)\n",
    "    return X_text, y_class\n",
    "\n",
    "\n",
    "\n",
    "def get_cleaned_text(text):\n",
    "    text = re.sub('\\W+','', text.lower() )\n",
    "    return text\n",
    "\n",
    "\n",
    "def get_corpus_dict(text):\n",
    "    text = [sentence.split() for sentence in text]\n",
    "    clenad_words = [get_cleaned_text(word) for words in text for word in words]\n",
    "\n",
    "    corpus_dict = OrderedDict()\n",
    "    for i, v in enumerate(set(clenad_words)):\n",
    "        corpus_dict[v] = i\n",
    "    return corpus_dict\n",
    "\n",
    "\n",
    "def get_count_vector(text, corpus):\n",
    "    text = [sentence.split() for sentence in text]\n",
    "    word_number_list = [[corpus[get_cleaned_text(word)] for word in words] for words in text]\n",
    "    X_vector = [[0 for _ in range(len(corpus))] for x in range(len(text))]\n",
    "\n",
    "    for i, text in enumerate(word_number_list):\n",
    "        for word_number in text:\n",
    "            X_vector[i][word_number] += 1\n",
    "    return X_vector\n",
    "\n",
    "def get_cosine_similarity(v1,v2):\n",
    "    \"compute cosine similarity of v1 to v2: (v1 dot v2)/{||v1||*||v2||)\"\n",
    "    sumxx, sumxy, sumyy = 0, 0, 0\n",
    "    for i in range(len(v1)):\n",
    "        x = v1[i]; y = v2[i]\n",
    "        sumxx += x*x\n",
    "        sumyy += y*y\n",
    "        sumxy += x*y\n",
    "    return sumxy/math.sqrt(sumxx*sumyy)\n",
    "\n",
    "def get_similarity_score(X_vector, source):\n",
    "    source_vector = X_vector[source]\n",
    "    similarity_list = []\n",
    "    for target_vector in X_vector:\n",
    "        similarity_list.append(\n",
    "            get_cosine_similarity(source_vector, target_vector))\n",
    "    return similarity_list\n",
    "\n",
    "\n",
    "def get_top_n_similarity_news(similarity_score, n):\n",
    "\n",
    "    x = {i:v for i, v in enumerate(similarity_score)}\n",
    "    sorted_x = sorted(x.items(), key=operator.itemgetter(1))\n",
    "\n",
    "    return list(reversed(sorted_x))[1:n+1]\n",
    "\n",
    "def get_accuracy(similarity_list, y_class, source_news):\n",
    "    source_class = y_class[source_news]\n",
    "\n",
    "    return sum([source_class == y_class[i[0]] for i in similarity_list]) / len(similarity_list)\n"
   ]
  }
 ],
 "metadata": {
  "kernelspec": {
   "display_name": "Python 3",
   "language": "python",
   "name": "python3"
  },
  "language_info": {
   "codemirror_mode": {
    "name": "ipython",
    "version": 3
   },
   "file_extension": ".py",
   "mimetype": "text/x-python",
   "name": "python",
   "nbconvert_exporter": "python",
   "pygments_lexer": "ipython3",
   "version": "3.6.7"
  }
 },
 "nbformat": 4,
 "nbformat_minor": 2
}
