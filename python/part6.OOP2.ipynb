{
 "cells": [
  {
   "cell_type": "code",
   "execution_count": 1,
   "metadata": {},
   "outputs": [],
   "source": [
    "import math\n",
    "\n",
    "class Stat:\n",
    "    def average(self, scores):\n",
    "        s = 0\n",
    "        for score in scores :\n",
    "            s += score\n",
    "        return round(s/len(scores),1)\n",
    "    \n",
    "    def variance(self, scores, avrg):\n",
    "        s = 0\n",
    "        for score in scores:\n",
    "            s += (score - avrg)**2\n",
    "        return round(s/len(scores), 1)\n",
    "    \n",
    "    def std_dev(self, variance):\n",
    "        return round(math.sqrt(variance), 1)"
   ]
  },
  {
   "cell_type": "code",
   "execution_count": 2,
   "metadata": {},
   "outputs": [
    {
     "name": "stderr",
     "output_type": "stream",
     "text": [
      "/Users/sanghyub/anaconda/lib/python3.6/importlib/_bootstrap.py:219: RuntimeWarning: numpy.dtype size changed, may indicate binary incompatibility. Expected 96, got 88\n",
      "  return f(*args, **kwds)\n"
     ]
    }
   ],
   "source": [
    "#datahandler.py\n",
    "from statistics import *\n",
    "import openpyxl\n",
    "\n",
    "class datahandler:\n",
    "    evaluator = Stat()\n",
    "    \n",
    "    @classmethod\n",
    "    def get_data_from_excel(cls, filename):\n",
    "        dic = {}\n",
    "        wb = openpyxl.load_workbook(filename)\n",
    "        ws = wb.active\n",
    "        g = ws.rows\n",
    "        \n",
    "        for name, score in g:\n",
    "            dic[name.value] = score.value\n",
    "            \n",
    "        return dic\n",
    "    \n",
    "    def __init__(self, filename, year_class):\n",
    "        self.rawdata = datahandler.get_data_from_excel(filename)\n",
    "        self.year_class = year_class\n",
    "        self.cache = {}\n",
    "        \n",
    "    def get_scores(self):\n",
    "        if 'scores' not in self.cache:\n",
    "            self.cache['scores'] = list(self.rawdata.values())\n",
    "            \n",
    "        return self.cache.get('scores')\n",
    "    \n",
    "    def get_average(self):\n",
    "        if 'average' not in self.cache:\n",
    "            self.cache['average'] = self.evaluator.average(self.get_scores())\n",
    "        \n",
    "        return self.cache.get('average')\n",
    "    \n",
    "    def get_variance(self):\n",
    "        if 'variance' not in self.cache:\n",
    "            self.cache['variance'] = self.evaluator.variance(self.get_scores(), self.get_average())\n",
    "            \n",
    "        return self.cache.get('variance')\n",
    "    \n",
    "    def get_standard_deviation(self):\n",
    "        if 'standard_deviation' not in self.cache:\n",
    "            self.cache['standard_deviation'] = self.evaluator.std_dev(self.get_variance())\n",
    "            \n",
    "        return self.cache.get('standard_deviation')"
   ]
  },
  {
   "cell_type": "code",
   "execution_count": 3,
   "metadata": {},
   "outputs": [],
   "source": [
    "# datahandler.py\n",
    "def evaluate_class(self, total_avrg, sd):\n",
    "    avrg = self.get_average()\n",
    "    std_dev = self.get_standard_deviation()\n",
    "    \n",
    "    if avrg < total_avrg and std_dev > sd:\n",
    "        print('성적이 너무 저조하고 학생들의 실력 차이가 너무 크다.')\n",
    "    elif avrg > total_avrg and std_dev > sd:\n",
    "        print('성적이 평균이상이지만 학생들의 실력 차이가 크다. 주의 요망!')\n",
    "    elif avrg > total_avrg and std_dev < sd:\n",
    "        print('성적이 평균이상고 학생들의 실력차이가 크지 않다')\n",
    "    elif avrg < total_avrg and std_dev > sd:\n",
    "        print('학생들의 실력차이는 크지 않지만, 성적이 저조 하다. 주의 요망!')\n",
    "        \n",
    "def get_evaluation(self, total_avrg, sd = 20):\n",
    "    print('*'*50)\n",
    "    print('{} 반 성적 분석 결과'.format(self.year_class))\n",
    "    print('{0}반의 평균은 {1}점이고 분산은 {2}이며 따라서 표준편차는 [3]이다.'.format(\n",
    "    self.year_class,\n",
    "    self.get_average(),\n",
    "    self.get_variance(),\n",
    "    self.get_standard_deviation()))\n",
    "    print('*'*50)\n",
    "    print('{}반 종합 평가.'.format(self.year_class))\n",
    "    print('*'*50)\n",
    "    self.evaluate_class(total_avrg, sd)"
   ]
  },
  {
   "cell_type": "code",
   "execution_count": 4,
   "metadata": {},
   "outputs": [
    {
     "name": "stdout",
     "output_type": "stream",
     "text": [
      "**************************************************\n",
      "2-3 반 성적 분석 결과\n",
      "2-3반의 평균은 51.5점이고 분산은 1240.2이며 따라서 표준편차는 [3]이다.\n",
      "**************************************************\n",
      "2-3반 종합 평가.\n",
      "**************************************************\n",
      "성적이 평균이상이지만 학생들의 실력 차이가 크다. 주의 요망!\n"
     ]
    }
   ],
   "source": [
    "#main.py\n",
    "from datahandler import *\n",
    "\n",
    "dh = datahandler('class_2_3.xlsx', '2-3')\n",
    "dh.get_evaluation(50)"
   ]
  },
  {
   "cell_type": "code",
   "execution_count": 5,
   "metadata": {},
   "outputs": [
    {
     "name": "stdout",
     "output_type": "stream",
     "text": [
      "**************************************************\n",
      "2-3 반 성적 분석 결과\n",
      "2-3반의 평균은 51.5점이고 분산은 1240.2이며 따라서 표준편차는 [3]이다.\n",
      "**************************************************\n",
      "2-3반 종합 평가.\n",
      "**************************************************\n",
      "성적이 평균이상이지만 학생들의 실력 차이가 크다. 주의 요망!\n"
     ]
    }
   ],
   "source": [
    "if __name__ == '__main__':\n",
    "    dh = datahandler('class_2_3.xlsx', '2-3')\n",
    "    dh.get_evaluation(50)"
   ]
  },
  {
   "cell_type": "code",
   "execution_count": null,
   "metadata": {},
   "outputs": [],
   "source": []
  },
  {
   "cell_type": "code",
   "execution_count": null,
   "metadata": {},
   "outputs": [],
   "source": []
  }
 ],
 "metadata": {
  "kernelspec": {
   "display_name": "Python 3",
   "language": "python",
   "name": "python3"
  },
  "language_info": {
   "codemirror_mode": {
    "name": "ipython",
    "version": 3
   },
   "file_extension": ".py",
   "mimetype": "text/x-python",
   "name": "python",
   "nbconvert_exporter": "python",
   "pygments_lexer": "ipython3",
   "version": "3.6.7"
  }
 },
 "nbformat": 4,
 "nbformat_minor": 2
}
