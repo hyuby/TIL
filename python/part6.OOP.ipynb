{
 "cells": [
  {
   "cell_type": "code",
   "execution_count": 18,
   "metadata": {},
   "outputs": [],
   "source": [
    "%config Completer.use_jedi = False"
   ]
  },
  {
   "cell_type": "markdown",
   "metadata": {},
   "source": [
    "### function을 이용한 코드"
   ]
  },
  {
   "cell_type": "code",
   "execution_count": 4,
   "metadata": {},
   "outputs": [],
   "source": [
    "def person_init(name, money):\n",
    "    obj = {'name' : name, 'money' : money}\n",
    "    obj['give_money'] = Person[1]\n",
    "    obj['get_money'] = Person[2]\n",
    "    obj['show'] = Person[3]\n",
    "    return obj"
   ]
  },
  {
   "cell_type": "code",
   "execution_count": 5,
   "metadata": {},
   "outputs": [],
   "source": [
    "def give_money(self, other, money):\n",
    "    self['money'] -= money\n",
    "    other['get_money'](other, money)\n",
    "    \n",
    "def get_money(self, money):\n",
    "    self['money'] += money\n",
    "    \n",
    "def show(self):\n",
    "    print('{} : {}'.format(self['name'], self['money']))"
   ]
  },
  {
   "cell_type": "code",
   "execution_count": 6,
   "metadata": {},
   "outputs": [],
   "source": [
    "Person = person_init, give_money, get_money, show"
   ]
  },
  {
   "cell_type": "code",
   "execution_count": 7,
   "metadata": {},
   "outputs": [
    {
     "name": "stdout",
     "output_type": "stream",
     "text": [
      "greg : 5000\n",
      "john : 2000\n",
      "\n",
      "greg : 3000\n",
      "john : 4000\n"
     ]
    }
   ],
   "source": [
    "if __name__ == '__main__':\n",
    "    g = Person[0]('greg', 5000)\n",
    "    j = Person[0]('john', 2000)\n",
    "    \n",
    "    g['show'](g)\n",
    "    j['show'](j)\n",
    "    print('')\n",
    "    \n",
    "    g['give_money'](g, j, 2000)\n",
    "    \n",
    "    g['show'](g)\n",
    "    j['show'](j)"
   ]
  },
  {
   "cell_type": "markdown",
   "metadata": {},
   "source": [
    "### Class를 이용한 코드"
   ]
  },
  {
   "cell_type": "code",
   "execution_count": 8,
   "metadata": {},
   "outputs": [],
   "source": [
    "class Person:\n",
    "    def __init__(self, name, money):\n",
    "        self.name = name\n",
    "        self.money = money\n",
    "        \n",
    "    def give_money(self, other, money):\n",
    "        self.money -= money\n",
    "        other.get_money(money)\n",
    "    \n",
    "    def get_money(self, money):\n",
    "        self.money += money\n",
    "        \n",
    "    def show(self):\n",
    "        print('{} : {}'.format(self.name, self.money))"
   ]
  },
  {
   "cell_type": "code",
   "execution_count": 9,
   "metadata": {},
   "outputs": [
    {
     "name": "stdout",
     "output_type": "stream",
     "text": [
      "greg : 5000\n",
      "john : 2000\n",
      "\n",
      "greg : 3000\n",
      "john : 4000\n"
     ]
    }
   ],
   "source": [
    "if __name__ =='__main__':\n",
    "    g = Person('greg', 5000)\n",
    "    j = Person('john', 2000)\n",
    "    \n",
    "    g.show()\n",
    "    j.show()\n",
    "    \n",
    "    g.give_money(j, 2000)\n",
    "    print('')\n",
    "    \n",
    "    g.show()\n",
    "    j.show()"
   ]
  },
  {
   "cell_type": "code",
   "execution_count": 10,
   "metadata": {},
   "outputs": [
    {
     "data": {
      "text/plain": [
       "function"
      ]
     },
     "execution_count": 10,
     "metadata": {},
     "output_type": "execute_result"
    }
   ],
   "source": [
    "type(Person.__init__)"
   ]
  },
  {
   "cell_type": "code",
   "execution_count": 11,
   "metadata": {},
   "outputs": [
    {
     "data": {
      "text/plain": [
       "function"
      ]
     },
     "execution_count": 11,
     "metadata": {},
     "output_type": "execute_result"
    }
   ],
   "source": [
    "type(Person.give_money)"
   ]
  },
  {
   "cell_type": "code",
   "execution_count": 12,
   "metadata": {},
   "outputs": [
    {
     "data": {
      "text/plain": [
       "function"
      ]
     },
     "execution_count": 12,
     "metadata": {},
     "output_type": "execute_result"
    }
   ],
   "source": [
    "type(Person.get_money)"
   ]
  },
  {
   "cell_type": "code",
   "execution_count": 13,
   "metadata": {},
   "outputs": [
    {
     "data": {
      "text/plain": [
       "function"
      ]
     },
     "execution_count": 13,
     "metadata": {},
     "output_type": "execute_result"
    }
   ],
   "source": [
    "type(Person.show)"
   ]
  },
  {
   "cell_type": "code",
   "execution_count": 19,
   "metadata": {},
   "outputs": [
    {
     "data": {
      "text/plain": [
       "method"
      ]
     },
     "execution_count": 19,
     "metadata": {},
     "output_type": "execute_result"
    }
   ],
   "source": [
    "type(g.give_money)\n",
    "type(g.get_money)\n",
    "type(g.show)"
   ]
  },
  {
   "cell_type": "code",
   "execution_count": 21,
   "metadata": {},
   "outputs": [
    {
     "data": {
      "text/plain": [
       "['__call__',\n",
       " '__class__',\n",
       " '__delattr__',\n",
       " '__dir__',\n",
       " '__doc__',\n",
       " '__eq__',\n",
       " '__format__',\n",
       " '__func__',\n",
       " '__ge__',\n",
       " '__get__',\n",
       " '__getattribute__',\n",
       " '__gt__',\n",
       " '__hash__',\n",
       " '__init__',\n",
       " '__init_subclass__',\n",
       " '__le__',\n",
       " '__lt__',\n",
       " '__ne__',\n",
       " '__new__',\n",
       " '__reduce__',\n",
       " '__reduce_ex__',\n",
       " '__repr__',\n",
       " '__self__',\n",
       " '__setattr__',\n",
       " '__sizeof__',\n",
       " '__str__',\n",
       " '__subclasshook__']"
      ]
     },
     "execution_count": 21,
     "metadata": {},
     "output_type": "execute_result"
    }
   ],
   "source": [
    "dir(g.give_money)"
   ]
  },
  {
   "cell_type": "markdown",
   "metadata": {},
   "source": [
    "method에는 `__func__와 __self__`가 보인다.  \n",
    "메서드 내부에 함수와 객체의 참조를 가지고 있다. 즉, 함수에 직접 객체의 참조를 전달할 수 있다."
   ]
  },
  {
   "cell_type": "code",
   "execution_count": 36,
   "metadata": {},
   "outputs": [],
   "source": [
    "class A:\n",
    "    c_mem = 10\n",
    "    \n",
    "    @classmethod\n",
    "    def cls_f(cls):\n",
    "        print(cls.c_mem)\n",
    "        \n",
    "    def __init__(self, num):\n",
    "        self.i_mem = num\n",
    "        \n",
    "    def ins_f(self):\n",
    "        print(self.i_mem)"
   ]
  },
  {
   "cell_type": "code",
   "execution_count": 25,
   "metadata": {},
   "outputs": [
    {
     "name": "stdout",
     "output_type": "stream",
     "text": [
      "10\n"
     ]
    }
   ],
   "source": [
    "#클래스 메서드, 클래스 멤버를 가지기 때문에 에러가 나지 않는다.\n",
    "A.cls_f()"
   ]
  },
  {
   "cell_type": "code",
   "execution_count": 31,
   "metadata": {},
   "outputs": [
    {
     "data": {
      "text/plain": [
       "<__main__.A at 0x10539fac8>"
      ]
     },
     "execution_count": 31,
     "metadata": {},
     "output_type": "execute_result"
    }
   ],
   "source": [
    "#인스턴스 멤버기 때문에 에러가 발생한다. self가 주어지지 않았다.\n",
    "A(4)"
   ]
  },
  {
   "cell_type": "code",
   "execution_count": 41,
   "metadata": {},
   "outputs": [
    {
     "name": "stdout",
     "output_type": "stream",
     "text": [
      "10\n"
     ]
    }
   ],
   "source": [
    "A.cls_f()"
   ]
  },
  {
   "cell_type": "code",
   "execution_count": 44,
   "metadata": {},
   "outputs": [
    {
     "data": {
      "text/plain": [
       "10"
      ]
     },
     "execution_count": 44,
     "metadata": {},
     "output_type": "execute_result"
    }
   ],
   "source": [
    "A.c_mem"
   ]
  },
  {
   "cell_type": "code",
   "execution_count": 39,
   "metadata": {
    "scrolled": false
   },
   "outputs": [
    {
     "ename": "TypeError",
     "evalue": "ins_f() missing 1 required positional argument: 'self'",
     "output_type": "error",
     "traceback": [
      "\u001b[0;31m---------------------------------------------------------------------------\u001b[0m",
      "\u001b[0;31mTypeError\u001b[0m                                 Traceback (most recent call last)",
      "\u001b[0;32m<ipython-input-39-25d0d2ea5651>\u001b[0m in \u001b[0;36m<module>\u001b[0;34m()\u001b[0m\n\u001b[0;32m----> 1\u001b[0;31m \u001b[0mA\u001b[0m\u001b[0;34m.\u001b[0m\u001b[0mins_f\u001b[0m\u001b[0;34m(\u001b[0m\u001b[0;34m)\u001b[0m\u001b[0;34m\u001b[0m\u001b[0;34m\u001b[0m\u001b[0m\n\u001b[0m",
      "\u001b[0;31mTypeError\u001b[0m: ins_f() missing 1 required positional argument: 'self'"
     ]
    }
   ],
   "source": [
    "A.ins_f()"
   ]
  },
  {
   "cell_type": "code",
   "execution_count": 49,
   "metadata": {},
   "outputs": [
    {
     "data": {
      "text/plain": [
       "<__main__.A at 0x1053ab160>"
      ]
     },
     "execution_count": 49,
     "metadata": {},
     "output_type": "execute_result"
    }
   ],
   "source": [
    "A(20)"
   ]
  },
  {
   "cell_type": "code",
   "execution_count": 45,
   "metadata": {},
   "outputs": [
    {
     "name": "stdout",
     "output_type": "stream",
     "text": [
      "10\n",
      "10\n"
     ]
    }
   ],
   "source": [
    "if __name__ == '__main__':\n",
    "    print(A.c_mem)\n",
    "    A.cls_f()"
   ]
  },
  {
   "cell_type": "code",
   "execution_count": 46,
   "metadata": {
    "scrolled": true
   },
   "outputs": [
    {
     "name": "stdout",
     "output_type": "stream",
     "text": [
      "10\n",
      "10\n",
      "10\n"
     ]
    }
   ],
   "source": [
    "if __name__ =='__main__':\n",
    "    print(A.c_mem)\n",
    "    A.cls_f\n",
    "    \n",
    "    a = A(20)\n",
    "    print(a.c_mem)\n",
    "    a.cls_f()"
   ]
  },
  {
   "cell_type": "code",
   "execution_count": 51,
   "metadata": {},
   "outputs": [
    {
     "data": {
      "text/plain": [
       "mappingproxy({'__dict__': <attribute '__dict__' of 'Person' objects>,\n",
       "              '__doc__': None,\n",
       "              '__init__': <function __main__.Person.__init__>,\n",
       "              '__module__': '__main__',\n",
       "              '__weakref__': <attribute '__weakref__' of 'Person' objects>,\n",
       "              'get_money': <function __main__.Person.get_money>,\n",
       "              'give_money': <function __main__.Person.give_money>,\n",
       "              'show': <function __main__.Person.show>})"
      ]
     },
     "execution_count": 51,
     "metadata": {},
     "output_type": "execute_result"
    }
   ],
   "source": [
    "Person.__dict__"
   ]
  },
  {
   "cell_type": "code",
   "execution_count": 52,
   "metadata": {},
   "outputs": [
    {
     "data": {
      "text/plain": [
       "{'money': 3000, 'name': 'greg'}"
      ]
     },
     "execution_count": 52,
     "metadata": {},
     "output_type": "execute_result"
    }
   ],
   "source": [
    "g.__dict__"
   ]
  },
  {
   "cell_type": "code",
   "execution_count": 54,
   "metadata": {},
   "outputs": [
    {
     "name": "stdout",
     "output_type": "stream",
     "text": [
      "0x105221620\n",
      "0x105221620\n",
      "True\n"
     ]
    }
   ],
   "source": [
    "print(hex(id(g.give_money.__func__)))\n",
    "print(hex(id(Person.give_money)))\n",
    "print(g.give_money.__func__ is Person.give_money)"
   ]
  },
  {
   "cell_type": "code",
   "execution_count": 69,
   "metadata": {},
   "outputs": [],
   "source": [
    "#객체 지향으로 은행 입출금 프로그램 만들기\n",
    "class Account():\n",
    "    num_acnt = 0 \n",
    "    \n",
    "    @classmethod\n",
    "    def get_num_acnt(cls):\n",
    "        '''\n",
    "        cls.get_num_acnt()->integer\n",
    "        '''\n",
    "        return cls.num_acnt\n",
    "    \n",
    "    def __init__(self, name, money):\n",
    "        self.user = name\n",
    "        self.balance = money\n",
    "        Account.num_acnt += 1\n",
    "        \n",
    "    def deposit(self, money):\n",
    "        if money < 0 :\n",
    "            return\n",
    "        self.balance += money\n",
    "        \n",
    "    def withdraw(self, money):\n",
    "        if money > 0 and money <= self.balance:\n",
    "            self.balance -= money\n",
    "            return money\n",
    "        return None\n",
    "    \n",
    "    def transfer(self, other, money):\n",
    "        mon = self.withdraw(money)\n",
    "        if mon :\n",
    "            other.deposit(mon)\n",
    "            return True\n",
    "        else:\n",
    "            return False\n",
    "        \n",
    "    def __str__(self):\n",
    "        return 'user : {}, balance :{}'.format(self.user, self.balance)"
   ]
  },
  {
   "cell_type": "code",
   "execution_count": 70,
   "metadata": {},
   "outputs": [
    {
     "name": "stdout",
     "output_type": "stream",
     "text": [
      "object created\n",
      "user : greg, balance :5000\n",
      "user : john, balance :1000\n",
      "\n",
      "deposit\n",
      "user : greg, balance :5500\n",
      "\n",
      "withdraw\n",
      "withdrawn money :1500\n",
      "class member\n",
      "2\n",
      "\n",
      "class method\n",
      "The number of accounts :2\n",
      "\n",
      "message passing\n",
      "user : greg, balance :4000\n",
      "user : john, balance :1000\n",
      "transfer succeded\n",
      "user : greg, balance :2000\n",
      "user : john, balance :3000\n"
     ]
    }
   ],
   "source": [
    "if __name__ == '__main__':\n",
    "    my_acnt = Account('greg', 5000)\n",
    "    your_acnt = Account('john', 1000)\n",
    "    \n",
    "    print('object created')\n",
    "    print(my_acnt)\n",
    "    print(your_acnt)\n",
    "    print()\n",
    "    \n",
    "    my_acnt.deposit(500)\n",
    "    \n",
    "    print('deposit')\n",
    "    print(my_acnt)\n",
    "    print()\n",
    "    \n",
    "    print('withdraw')\n",
    "    money = my_acnt.withdraw(1500)\n",
    "    if money:\n",
    "        print('withdrawn money :{}'.format(money))\n",
    "    else :\n",
    "        print('Not enough to withdraw')\n",
    "        print()\n",
    "        \n",
    "    print('class member')\n",
    "    print(Account.num_acnt)\n",
    "    print()\n",
    "    \n",
    "    print('class method')\n",
    "    n_acnt = Account.get_num_acnt()\n",
    "    \n",
    "    print('The number of accounts :{}'.format(n_acnt))\n",
    "    print()\n",
    "    \n",
    "    print('message passing')\n",
    "    print(my_acnt)\n",
    "    print(your_acnt)\n",
    "    res = my_acnt.transfer(your_acnt, 2000)\n",
    "    if res:\n",
    "        print('transfer succeded')\n",
    "    else :\n",
    "        print('transfer failed')\n",
    "    print(my_acnt)\n",
    "    print(your_acnt)"
   ]
  }
 ],
 "metadata": {
  "kernelspec": {
   "display_name": "Python 3",
   "language": "python",
   "name": "python3"
  },
  "language_info": {
   "codemirror_mode": {
    "name": "ipython",
    "version": 3
   },
   "file_extension": ".py",
   "mimetype": "text/x-python",
   "name": "python",
   "nbconvert_exporter": "python",
   "pygments_lexer": "ipython3",
   "version": "3.6.7"
  }
 },
 "nbformat": 4,
 "nbformat_minor": 2
}
