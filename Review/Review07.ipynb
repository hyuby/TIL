{
 "cells": [
  {
   "cell_type": "code",
   "execution_count": 2,
   "metadata": {},
   "outputs": [
    {
     "data": {
      "text/plain": [
       "[185, 175, 185, 170, 185, 200, 175, 155, 180, 170]"
      ]
     },
     "execution_count": 2,
     "metadata": {},
     "output_type": "execute_result"
    }
   ],
   "source": [
    "s = []\n",
    "a1 = [90, 85, 95, 80, 90, 100, 85, 75, 85, 80]\n",
    "a2 = [95, 90, 90, 90, 95, 100, 90, 80, 95, 90]\n",
    "for i in range(len(a1)):\n",
    "    s.append(a1[i]+a2[i])\n",
    "\n",
    "s\n",
    "    "
   ]
  },
  {
   "cell_type": "code",
   "execution_count": 12,
   "metadata": {},
   "outputs": [
    {
     "data": {
      "text/plain": [
       "86.5"
      ]
     },
     "execution_count": 12,
     "metadata": {},
     "output_type": "execute_result"
    }
   ],
   "source": [
    "summation = 0\n",
    "a1 =[90, 85, 95, 80, 90, 100, 85, 75, 85, 80]\n",
    "for i in range(len(a1)) : \n",
    "    summation = summation + a1[i]\n",
    "avg = summation / len(a1)\n",
    "avg"
   ]
  },
  {
   "cell_type": "code",
   "execution_count": 16,
   "metadata": {},
   "outputs": [
    {
     "data": {
      "text/plain": [
       "86.5"
      ]
     },
     "execution_count": 16,
     "metadata": {},
     "output_type": "execute_result"
    }
   ],
   "source": [
    "summation = 0\n",
    "for a1i in a1:\n",
    "    summation = summation + a1i\n",
    "average = summation / len(a1)    \n",
    "average"
   ]
  },
  {
   "cell_type": "code",
   "execution_count": 17,
   "metadata": {},
   "outputs": [
    {
     "data": {
      "text/plain": [
       "[(90, 95),\n",
       " (85, 90),\n",
       " (95, 90),\n",
       " (80, 90),\n",
       " (90, 95),\n",
       " (100, 100),\n",
       " (85, 90),\n",
       " (75, 80),\n",
       " (85, 95),\n",
       " (80, 90)]"
      ]
     },
     "execution_count": 17,
     "metadata": {},
     "output_type": "execute_result"
    }
   ],
   "source": [
    "list(zip(a1, a2))"
   ]
  },
  {
   "cell_type": "code",
   "execution_count": 18,
   "metadata": {},
   "outputs": [
    {
     "data": {
      "text/plain": [
       "[185, 175, 185, 170, 185, 200, 175, 155, 180, 170]"
      ]
     },
     "execution_count": 18,
     "metadata": {},
     "output_type": "execute_result"
    }
   ],
   "source": [
    "s = []\n",
    "a1 = [90, 85, 95, 80, 90, 100, 85, 75, 85, 80]\n",
    "a2 = [95, 90, 90, 90, 95, 100, 90, 80, 95, 90]\n",
    "for a1i, a2i in zip(a1, a2) :\n",
    "    s.append(a1i + a2i)\n",
    "s"
   ]
  },
  {
   "cell_type": "code",
   "execution_count": 20,
   "metadata": {},
   "outputs": [
    {
     "name": "stdout",
     "output_type": "stream",
     "text": [
      "i = 0, back number = 10\n",
      "i = 1, back number = 09\n",
      "i = 2, back number = 14\n"
     ]
    }
   ],
   "source": [
    "for i, e in enumerate(['10', '09', '14']):\n",
    "    print('i = %d, back number = %s' % (i, e))"
   ]
  },
  {
   "cell_type": "code",
   "execution_count": 28,
   "metadata": {},
   "outputs": [
    {
     "data": {
      "text/plain": [
       "[185, 175, 185, 170, 185, 200, 175, 155, 180, 170]"
      ]
     },
     "execution_count": 28,
     "metadata": {},
     "output_type": "execute_result"
    }
   ],
   "source": [
    "s = [0,0,0,0,0,0,0,0,0,0]\n",
    "a1 = [90, 85, 95, 80, 90, 100, 85, 75, 85, 80]\n",
    "a2 = [95, 90, 90, 90, 95, 100, 90, 80, 95, 90]\n",
    "for i, (a1i, a2i) in enumerate(zip(a1, a2)):\n",
    "    s[i] = a1i + a2i\n",
    "s"
   ]
  },
  {
   "cell_type": "code",
   "execution_count": 29,
   "metadata": {},
   "outputs": [],
   "source": [
    "X = [[ 85,  90,  20,  50,  60,  25,  30,  75,  40,  55],\n",
    "     [ 70, 100,  70,  70,  55,  75,  55,  60,  40,  45],\n",
    "     [ 25,  65,  15,  25,  20,   5,  60,  70,  35,  10],\n",
    "     [ 80,  45,  80,  40,  75,  35,  80,  55,  70,  90],\n",
    "     [ 35,  50,  75,  25,  35,  70,  65,  50,  70,  10]]"
   ]
  },
  {
   "cell_type": "code",
   "execution_count": 32,
   "metadata": {},
   "outputs": [
    {
     "name": "stdout",
     "output_type": "stream",
     "text": [
      "5\n",
      "10\n"
     ]
    }
   ],
   "source": [
    "print(len(X))\n",
    "print(len(X[1]))"
   ]
  },
  {
   "cell_type": "code",
   "execution_count": 34,
   "metadata": {},
   "outputs": [
    {
     "data": {
      "text/plain": [
       "52.7"
      ]
     },
     "execution_count": 34,
     "metadata": {},
     "output_type": "execute_result"
    }
   ],
   "source": [
    "sum_ = 0\n",
    "num = 0\n",
    "for i in range(len(X)):\n",
    "    for j in range(len(X[i])):\n",
    "        num = num + 1\n",
    "        sum_= sum_ + X[i][j]\n",
    "avg = sum_ / num\n",
    "avg"
   ]
  },
  {
   "cell_type": "markdown",
   "metadata": {},
   "source": [
    "## 연습 문제 1¶\n",
    "어떤 학생이 5개의 과목을 수강하여 다음과 같은 성적(grade)을 받았다. (4점이 만점)  \n",
    "\n",
    "### X=4,3,2,3,4  \n",
    " \n",
    " \n",
    "이 5개 과목의 이수 학점(credit hours)은 각각 다음과 같다.  \n",
    "\n",
    "### W=3,3,1,2,2  \n",
    "\n",
    " \n",
    "이 때 평균 평점(GPA)은 성적의 단순 평균이 아니라 이수 학점을 가중치(weight)로 써서 다음과 같이 가중 평균을 구해야 한다.  \n",
    "\n",
    "성적과 이수 학점을 곱한 값의 총합 즉, 가중합/이수 학점의 총합 = 3×4+3×3+1×2+2×3+2×4 / 3+3+1+2+2  \n",
    "\n",
    " \n",
    "ii 번째 과목의 성적을  XiXi 라고 하고  ii 번째 과목의 이수 학점을  WiWi 라고 하면 가중 평균은 다음과 같은 수식으로 나타낼 수도 있다.  \n",
    "\n",
    "W1X1+W2X2+W3X3+W4X4+W5X5 / W1+W2+W3+W4+W5  \n",
    "\n",
    " \n",
    "이 학생의 평균 평점을 구하는 코드를 작성한다.  "
   ]
  },
  {
   "cell_type": "code",
   "execution_count": 37,
   "metadata": {},
   "outputs": [
    {
     "data": {
      "text/plain": [
       "3.2"
      ]
     },
     "execution_count": 37,
     "metadata": {},
     "output_type": "execute_result"
    }
   ],
   "source": [
    "upper = 0\n",
    "lower = 0\n",
    "X=[4,3,2,3,4]\n",
    "W=[3,3,1,2,2]\n",
    "for i in range(len(X)):\n",
    "    for j in range(len(X)):\n",
    "        upper = upper + X[i]*W[j]\n",
    "        lower = lower + W[j]\n",
    "    avg_GPA = upper / lower\n",
    "avg_GPA"
   ]
  },
  {
   "cell_type": "markdown",
   "metadata": {},
   "source": [
    "## 연습 문제 2¶\n",
    "자료의 분산(Variance)는 각 자료 값에서 자료의 평균값을 뺀 나머지를 제곱한 값의 평균을 말한다. 예를 들어 자료가 다음과 같다고 하자  \n",
    "\n",
    "#### X=6,5,4,7,3,5  \n",
    "\n",
    " \n",
    "이 자료의 평균은 다음과 같다.\n",
    "\n",
    "#### (6+5+4+7+3+5) / 6 = 5 \n",
    "\n",
    " \n",
    "각 자료 값에서 자료의 평균값을 뺀 나머지를 제곱한 값을 모두 더한 값의 평균은 다음과 같이 구한다.\n",
    "\n",
    "#### (6−5)**2+(5−5)**2+(4−5)**2+(7−5)**2+(3−5)**2+(5−5)**2 / 6\n",
    "\n",
    " \n",
    "이 자료의 분산을 구하는 코드를 작성한다."
   ]
  },
  {
   "cell_type": "code",
   "execution_count": 43,
   "metadata": {},
   "outputs": [
    {
     "data": {
      "text/plain": [
       "8.291666666666668"
      ]
     },
     "execution_count": 43,
     "metadata": {},
     "output_type": "execute_result"
    }
   ],
   "source": [
    "smu = 0 \n",
    "avg = 0\n",
    "var = 0\n",
    "X=[6,5,4,7,3,5]\n",
    "for i in range(len(X)):\n",
    "    smu = smu + X[i]\n",
    "    avg = smu/len(X)\n",
    "    var = var + (((X[i] - avg)**2) / len(X))\n",
    "var"
   ]
  },
  {
   "cell_type": "code",
   "execution_count": null,
   "metadata": {},
   "outputs": [],
   "source": []
  },
  {
   "cell_type": "code",
   "execution_count": null,
   "metadata": {},
   "outputs": [],
   "source": []
  }
 ],
 "metadata": {
  "kernelspec": {
   "display_name": "Python 3",
   "language": "python",
   "name": "python3"
  },
  "language_info": {
   "codemirror_mode": {
    "name": "ipython",
    "version": 3
   },
   "file_extension": ".py",
   "mimetype": "text/x-python",
   "name": "python",
   "nbconvert_exporter": "python",
   "pygments_lexer": "ipython3",
   "version": "3.6.3"
  }
 },
 "nbformat": 4,
 "nbformat_minor": 2
}
