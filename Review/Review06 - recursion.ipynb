{
 "cells": [
  {
   "cell_type": "markdown",
   "metadata": {},
   "source": [
    "연습 문제 1¶  \n",
    "for 반복문과 문자열 연산을 사용하여 다음과 같이 출력한다.  \n",
    "```\n",
    "*\n",
    "**\n",
    "***\n",
    "****\n",
    "*****\n",
    "******\n",
    "*******\n",
    "********\n",
    "*********\n",
    "**********```"
   ]
  },
  {
   "cell_type": "code",
   "execution_count": null,
   "metadata": {},
   "outputs": [],
   "source": [
    "for i in range(10) :\n",
    "    print('*'*i)"
   ]
  },
  {
   "cell_type": "markdown",
   "metadata": {},
   "source": [
    "연습 문제 2¶  \n",
    "for 반복문과 문자열 연산을 사용하여 다음과 같이 출력한다.  \n",
    "```\n",
    "**********\n",
    "*********\n",
    "********\n",
    "*******\n",
    "******\n",
    "*****\n",
    "****\n",
    "***\n",
    "**\n",
    "*```"
   ]
  },
  {
   "cell_type": "code",
   "execution_count": null,
   "metadata": {},
   "outputs": [],
   "source": [
    "for i in range(10):\n",
    "    print('*'*(10-i))"
   ]
  },
  {
   "cell_type": "markdown",
   "metadata": {},
   "source": [
    "연습 문제 3¶  \n",
    "for 반복문과 문자열 연산, if 조건문을 사용하여 다음과 같이 출력한다.  \n",
    "```\n",
    "*\n",
    "**\n",
    "***\n",
    "****\n",
    "*****\n",
    "******\n",
    "*******\n",
    "********\n",
    "*********\n",
    "**********\n",
    "*********\n",
    "********\n",
    "*******\n",
    "******\n",
    "*****\n",
    "****\n",
    "***\n",
    "**\n",
    "*```"
   ]
  },
  {
   "cell_type": "code",
   "execution_count": null,
   "metadata": {
    "scrolled": true
   },
   "outputs": [],
   "source": [
    "for i in range(20):\n",
    "    if i < 11 :\n",
    "        print('*'*i)\n",
    "    else :\n",
    "        print('*'*(20-i))"
   ]
  },
  {
   "cell_type": "markdown",
   "metadata": {},
   "source": [
    "연습 문제 4¶  \n",
    "for 반복문과 문자열 연산, if 조건문을 사용하여 다음과 같이 출력한다.  \n",
    "```\n",
    "     * \n",
    "    ***\n",
    "   *****\n",
    "  *******\n",
    " *********\n",
    "***********\n",
    " *********\n",
    "  *******\n",
    "   *****\n",
    "    ***\n",
    "     *```\n"
   ]
  },
  {
   "cell_type": "code",
   "execution_count": null,
   "metadata": {},
   "outputs": [],
   "source": [
    "for i in range(20):\n",
    "    if i <= 12 and i % 2 == 1 :\n",
    "        print(' '*int(6-i/2) + '*'*i )\n",
    "    if i >= 11 and i % 2 == 1 :\n",
    "        print(' '*int(i/2-4) + '*'*(20-i))"
   ]
  },
  {
   "cell_type": "markdown",
   "metadata": {},
   "source": [
    "0 1 2 3   \n",
    "1 2 3 4   \n",
    "2 3 4 5   \n",
    "3 4 5 6 "
   ]
  },
  {
   "cell_type": "code",
   "execution_count": null,
   "metadata": {},
   "outputs": [],
   "source": [
    "for i in range(4) :\n",
    "    for j in range(4) : \n",
    "        print(i + j, end=\" \")\n",
    "    print()"
   ]
  },
  {
   "cell_type": "markdown",
   "metadata": {},
   "source": [
    "Roll the Dice!"
   ]
  },
  {
   "cell_type": "code",
   "execution_count": null,
   "metadata": {},
   "outputs": [],
   "source": [
    "for i in range(6) :\n",
    "    n1 = i+1\n",
    "    for j in range(6) :\n",
    "        n2 = j+1\n",
    "        print(n1, n2)"
   ]
  },
  {
   "cell_type": "markdown",
   "metadata": {},
   "source": [
    "#### 만약 주사위를 두 번 던져서 나온 숫자들의 합이 4의 배수가 되는 경우만 구해야 한다면?"
   ]
  },
  {
   "cell_type": "code",
   "execution_count": null,
   "metadata": {},
   "outputs": [],
   "source": [
    "for i in range(6) :\n",
    "    n1 = i+1\n",
    "    for j in range(6) :\n",
    "        n2 = j+1\n",
    "        n = n1 + n2\n",
    "        if n % 4 == 0 :\n",
    "            print(n1, n2)"
   ]
  },
  {
   "cell_type": "markdown",
   "metadata": {},
   "source": [
    "### 연습 문제 5¶\n",
    "어떤 주식의 가격은 매일 한 번 동전을 던져서 앞면이 나오면 전날 가격의 2배가 되고, 뒷면이 나오면 전날 가격의 절반이 된다.  \n",
    "1일에 주식의 가격이 1,024원이었을 때, 4일 주식의 가격이 나올 수 있는 경우를 모두 구한다. (힌트: for 반복문이 3개 중첩되어야 한다)"
   ]
  },
  {
   "cell_type": "code",
   "execution_count": null,
   "metadata": {},
   "outputs": [],
   "source": [
    "import numpy as np\n",
    "import random"
   ]
  },
  {
   "cell_type": "code",
   "execution_count": null,
   "metadata": {},
   "outputs": [],
   "source": [
    "np.random.randint(0, 2)"
   ]
  },
  {
   "cell_type": "markdown",
   "metadata": {},
   "source": [
    "앞 앞 앞 8192\n",
    "앞 앞 뒤 2048\n",
    "앞 뒤 앞 2048\n",
    "앞 뒤 뒤 512\n",
    "뒤 앞 앞 2048\n",
    "뒤 앞 뒤 512\n",
    "뒤 뒤 앞 512\n",
    "뒤 뒤 뒤 256\n",
    "\n",
    "16개"
   ]
  },
  {
   "cell_type": "code",
   "execution_count": null,
   "metadata": {},
   "outputs": [],
   "source": [
    "# 0 head, 1 tail\n",
    "d1 = 1024\n",
    "\n",
    "for i in range(2) :\n",
    "    if i % 2 ==0 :\n",
    "        d2 = d1*2\n",
    "    else :\n",
    "        d2 = int(d1/2)\n",
    "    \n",
    "    for j in range(2) :\n",
    "        if j % 2 ==0 :\n",
    "            d3 = d2*2\n",
    "        else :\n",
    "            d3 = int(d2/2)\n",
    "        \n",
    "        for k in range(2):\n",
    "            if k % 2 ==0 :\n",
    "                d4 = d3*2\n",
    "            else :\n",
    "                d4 = int(d3/2)\n",
    "            print('day1:',i,'day2:',j,'day3:',k)\n",
    "            print(d4, 'won') \n"
   ]
  },
  {
   "cell_type": "code",
   "execution_count": null,
   "metadata": {},
   "outputs": [],
   "source": [
    "list(range(3))"
   ]
  },
  {
   "cell_type": "code",
   "execution_count": null,
   "metadata": {},
   "outputs": [],
   "source": [
    "for j in range(10):\n",
    "    sum = 0\n",
    "    for i in range(j + 1):\n",
    "        sum = sum + (i + 1)\n",
    "    print(sum)"
   ]
  },
  {
   "cell_type": "markdown",
   "metadata": {},
   "source": [
    "### 연습 문제 7¶\n",
    "다음과 같은 수열이 있을 경우에  nn 번째 수열의 값을 구한다.  \n",
    "```  \n",
    "1 \n",
    "1\n",
    " \n",
    "1+(1+2)\n",
    "1+(1+2)\n",
    " \n",
    "1+(1+2)+(1+2+3)\n",
    "1+(1+2)+(1+2+3)\n",
    " \n",
    "1+(1+2)+(1+2+3)+(1+2+3+4)\n",
    "1+(1+2)+(1+2+3)+(1+2+3+4)\n",
    " \n",
    "⋮\n",
    "⋮\n",
    " \n",
    "1+(1+2)+(1+2+3)+(1+2+3+4)+⋯+(1+⋯+n)```"
   ]
  },
  {
   "cell_type": "code",
   "execution_count": 8,
   "metadata": {},
   "outputs": [
    {
     "name": "stdout",
     "output_type": "stream",
     "text": [
      "220\n"
     ]
    }
   ],
   "source": [
    "def calculating_sequence(n):    \n",
    "    for j in range(n+1):\n",
    "        summation = []\n",
    "        sum_ = 0\n",
    "        for i in range(n): #3\n",
    "            sum_ = sum_ + (i + 1)\n",
    "            summation.append(sum_)\n",
    "    print(sum(summation))\n",
    "calculating_sequence(10)"
   ]
  }
 ],
 "metadata": {
  "kernelspec": {
   "display_name": "Python 3",
   "language": "python",
   "name": "python3"
  },
  "language_info": {
   "codemirror_mode": {
    "name": "ipython",
    "version": 3
   },
   "file_extension": ".py",
   "mimetype": "text/x-python",
   "name": "python",
   "nbconvert_exporter": "python",
   "pygments_lexer": "ipython3",
   "version": "3.6.3"
  }
 },
 "nbformat": 4,
 "nbformat_minor": 2
}
