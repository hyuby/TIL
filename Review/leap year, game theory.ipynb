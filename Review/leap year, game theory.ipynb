{
 "cells": [
  {
   "cell_type": "markdown",
   "metadata": {},
   "source": [
    "### 연습 문제 2¶\n",
    "변수 y의 값이 윤년이면 \"윤년입니다\"를 출력하고 아니라면 \"윤년이 아닙니다\"라고 출력하는 프로그램을 만든다. 윤년은 2월 29일이 있는 해로 다음과 같이 정해진  다.  \n",
    "\n",
    "\n",
    "- 서력 기원 연수가 4로 나누어 떨어지는 해는 윤년으로 한다(2004년, 2008년, 2012년, 2016년, 2020년, 2024년, …). * 이 중에서 100으로 나누어 떨어지는 해는 평년으로 한다(1900년, 2100년, 2200년, 2300년, 2500년, …).  \n",
    "- 그중에 400으로 나누어 떨어지는 해는 윤년으로 둔다(1600년, 2000년, 2400년, …).  "
   ]
  },
  {
   "cell_type": "code",
   "execution_count": 52,
   "metadata": {},
   "outputs": [],
   "source": [
    "def is_leap(a) :\n",
    "    if ((a%400 == 0) & (a%4 == 0)) & (a%100 != 100) :\n",
    "        print('leap year')\n",
    "    else : \n",
    "        print('normal year')"
   ]
  },
  {
   "cell_type": "code",
   "execution_count": 34,
   "metadata": {},
   "outputs": [],
   "source": [
    "def is_leap(a):\n",
    "    if a%400 == 0:\n",
    "        print('leap year')\n",
    "    \n",
    "    elif a%100 == 0 :\n",
    "        print('normal year')\n",
    "    \n",
    "    elif a%4 == 0 :\n",
    "        print('leap year')\n",
    "    else :\n",
    "        print('normal year')\n",
    "        "
   ]
  },
  {
   "cell_type": "code",
   "execution_count": 55,
   "metadata": {},
   "outputs": [
    {
     "name": "stdout",
     "output_type": "stream",
     "text": [
      "normal year\n"
     ]
    }
   ],
   "source": [
    "is_leap(2018)"
   ]
  },
  {
   "cell_type": "markdown",
   "metadata": {},
   "source": [
    "### 연습 문제 5¶\n",
    "'죄수의 딜레마'는 게임 이론의 유명한 사례이다(자세한 내용은 위키피디아를 참조한다: https://ko.wikipedia.org/wiki/죄수의_딜레마). 두 명의 범죄자 A, B가 체포되어 서로 다른 취조실에서 격리되어 심문을 받고 있다. 이들에게 자백 여부에 따라 다음의 선택이 가능하다.\n",
    "\n",
    "- 둘 중 하나가 배신하여 죄를 자백하면 자백한 사람은 즉시 풀어주고 나머지 한 명이 10년을 복역해야 한다.\n",
    "- 둘 모두 서로를 배신하여 죄를 자백하면 둘 다 5년을 복역한다.\n",
    "- 둘 모두 죄를 자백하지 않으면 둘 다 1년을 복역한다.\n",
    "- 죄수를 나타내는 변수 XA, XB는 자백하면 True, 그렇지 않으면 False를 가지는 값이다. 이때 변수 XA, XB 값에 따라 각각이 복역해야 하는 연 수를 변수 YA, YB라고 할 때 YA, YB를 계산하는 프로그램을 만든다."
   ]
  },
  {
   "cell_type": "code",
   "execution_count": 82,
   "metadata": {},
   "outputs": [],
   "source": [
    "#0:keep silence 1:confess\n",
    "def dilemma(xa, xb) :\n",
    "    if xa == 0 :\n",
    "        if xb == 0 :\n",
    "            ya = 1 \n",
    "            yb = 1\n",
    "            print('a는 {}년, b는 {}년'.format(ya, yb))\n",
    "        else :\n",
    "            ya = 10\n",
    "            yb = 0\n",
    "            print('a는 {}년, b는 {}년'.format(ya, yb))\n",
    "    elif xb == 0 :\n",
    "        if xa == 0 :\n",
    "            ya = 1 \n",
    "            yb = 1\n",
    "            print('a는 {}년, b는 {}년'.format(ya, yb))\n",
    "        else :\n",
    "            ya = 0\n",
    "            yb = 10\n",
    "            print('a는 {}년, b는 {}년'.format(ya, yb))\n",
    "    else :\n",
    "        ya = 5\n",
    "        yb = 5\n",
    "        print('a는 {}년, b는 {}년'.format(ya, yb))"
   ]
  },
  {
   "cell_type": "code",
   "execution_count": 83,
   "metadata": {
    "scrolled": true
   },
   "outputs": [
    {
     "name": "stdout",
     "output_type": "stream",
     "text": [
      "a는 1년, b는 1년\n"
     ]
    }
   ],
   "source": [
    "dilemma(0, 0)"
   ]
  },
  {
   "cell_type": "markdown",
   "metadata": {},
   "source": [
    "### 연습 문제 4¶\n",
    "- 10개의 숫자를 입력하면 \"그 숫자들의 합\"과 \"그 숫자들을 제곱한 숫자들의 합\"의 차이(큰 수에서 작을 수를 뺀 값)를 계산하는 함수 diffsum를 만든다. \n",
    "- 큰 수에서 작은 수를 뺀 결과이므로 항상 0보다 크거나 0과 같아야 한다."
   ]
  },
  {
   "cell_type": "code",
   "execution_count": 89,
   "metadata": {},
   "outputs": [],
   "source": [
    "def diffsum(a,b,c,d,e,f,g,h,i,j) :\n",
    "    n_sum = a + b + c + d + e + f + g + h + i + j\n",
    "    s_sum = a**2 + b**2 + c**2 + d**2 + e**2 + f**2 + g**2 + h**2 + i**2 + j**2\n",
    "    if s_sum >=n_sum :\n",
    "        print(s_sum - n_sum)\n",
    "        return n_sum, s_sum"
   ]
  },
  {
   "cell_type": "code",
   "execution_count": 90,
   "metadata": {},
   "outputs": [
    {
     "name": "stdout",
     "output_type": "stream",
     "text": [
      "330\n"
     ]
    },
    {
     "data": {
      "text/plain": [
       "(55, 385)"
      ]
     },
     "execution_count": 90,
     "metadata": {},
     "output_type": "execute_result"
    }
   ],
   "source": [
    "diffsum(1,2,3,4,5,6,7,8,9,10)"
   ]
  },
  {
   "cell_type": "markdown",
   "metadata": {},
   "source": [
    "### 연습 문제 5¶\n",
    "- 함수 바깥에 m 이라는 전역 변수를 만들고 그 값을 0으로 놓는다. \n",
    "- 앞에서 만든 diffsum 함수를 고쳐서 diffsum 함수와 같은 값을 반환하지만 함수를 실행할 때 마다 diffsum 함수에서 계산된 값이 원래 있던 m보다 크면 m을 계산된 값으로 바꾸는 함수 diffsum2 를 만든다."
   ]
  },
  {
   "cell_type": "code",
   "execution_count": 131,
   "metadata": {},
   "outputs": [],
   "source": [
    "m = 0\n",
    "def diffsum2(a,b,c,d,e,f,g,h,i,j) :\n",
    "    global m\n",
    "    n_sum = a + b + c + d + e + f + g + h + i + j\n",
    "    s_sum = a**2 + b**2 + c**2 + d**2 + e**2 + f**2 + g**2 + h**2 + i**2 + j**2\n",
    "    k = s_sum - n_sum\n",
    "    m = k\n",
    "    print('m is updated! m: {}'.format(m))\n",
    "    return m\n",
    "        \n",
    "    \n",
    "    "
   ]
  },
  {
   "cell_type": "code",
   "execution_count": 132,
   "metadata": {},
   "outputs": [
    {
     "name": "stdout",
     "output_type": "stream",
     "text": [
      "m is updated! m: 330\n"
     ]
    },
    {
     "data": {
      "text/plain": [
       "330"
      ]
     },
     "execution_count": 132,
     "metadata": {},
     "output_type": "execute_result"
    }
   ],
   "source": [
    "diffsum2(1,2,3,4,5,6,7,8,9,10)"
   ]
  },
  {
   "cell_type": "code",
   "execution_count": 133,
   "metadata": {},
   "outputs": [
    {
     "data": {
      "text/plain": [
       "330"
      ]
     },
     "execution_count": 133,
     "metadata": {},
     "output_type": "execute_result"
    }
   ],
   "source": [
    "m"
   ]
  }
 ],
 "metadata": {
  "kernelspec": {
   "display_name": "Python 3",
   "language": "python",
   "name": "python3"
  },
  "language_info": {
   "codemirror_mode": {
    "name": "ipython",
    "version": 3
   },
   "file_extension": ".py",
   "mimetype": "text/x-python",
   "name": "python",
   "nbconvert_exporter": "python",
   "pygments_lexer": "ipython3",
   "version": "3.6.3"
  }
 },
 "nbformat": 4,
 "nbformat_minor": 2
}
