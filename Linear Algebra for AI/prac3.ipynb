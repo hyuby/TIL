{
 "cells": [
  {
   "cell_type": "code",
   "execution_count": 19,
   "metadata": {
    "collapsed": true
   },
   "outputs": [],
   "source": [
    "import numpy as np\n",
    "import numpy.linalg as la\n",
    "from numpy.linalg import eig\n",
    "from numpy.linalg import inv\n",
    "\n",
    "import time"
   ]
  },
  {
   "cell_type": "code",
   "execution_count": 20,
   "metadata": {},
   "outputs": [
    {
     "data": {
      "text/plain": [
       "array([[ 4,  0, -2],\n",
       "       [ 2,  5,  4],\n",
       "       [ 0,  0,  5]])"
      ]
     },
     "execution_count": 20,
     "metadata": {},
     "output_type": "execute_result"
    }
   ],
   "source": [
    "# diagonalization and power of a matrix\n",
    "A = np.array([[4, 0, -2], [2, 5, 4], [0, 0, 5]])\n",
    "A"
   ]
  },
  {
   "cell_type": "code",
   "execution_count": 21,
   "metadata": {
    "collapsed": true
   },
   "outputs": [],
   "source": [
    "eig_val, eig_vec = eig(A)"
   ]
  },
  {
   "cell_type": "code",
   "execution_count": 22,
   "metadata": {},
   "outputs": [
    {
     "data": {
      "text/plain": [
       "array([ 5.,  4.,  5.])"
      ]
     },
     "execution_count": 22,
     "metadata": {},
     "output_type": "execute_result"
    }
   ],
   "source": [
    "eig_val"
   ]
  },
  {
   "cell_type": "code",
   "execution_count": 23,
   "metadata": {},
   "outputs": [
    {
     "data": {
      "text/plain": [
       "array([[ 0.        ,  0.4472136 , -0.89442719],\n",
       "       [ 1.        , -0.89442719,  0.        ],\n",
       "       [ 0.        ,  0.        ,  0.4472136 ]])"
      ]
     },
     "execution_count": 23,
     "metadata": {},
     "output_type": "execute_result"
    }
   ],
   "source": [
    "eig_vec"
   ]
  },
  {
   "cell_type": "code",
   "execution_count": 24,
   "metadata": {},
   "outputs": [
    {
     "data": {
      "text/plain": [
       "array([[ 5.,  0.,  0.],\n",
       "       [ 0.,  4.,  0.],\n",
       "       [ 0.,  0.,  5.]])"
      ]
     },
     "execution_count": 24,
     "metadata": {},
     "output_type": "execute_result"
    }
   ],
   "source": [
    "D = np.diag(eig_val)\n",
    "D"
   ]
  },
  {
   "cell_type": "code",
   "execution_count": 25,
   "metadata": {},
   "outputs": [
    {
     "data": {
      "text/plain": [
       "array([[ 0.        ,  0.4472136 , -0.89442719],\n",
       "       [ 1.        , -0.89442719,  0.        ],\n",
       "       [ 0.        ,  0.        ,  0.4472136 ]])"
      ]
     },
     "execution_count": 25,
     "metadata": {},
     "output_type": "execute_result"
    }
   ],
   "source": [
    "V = eig_vec\n",
    "V"
   ]
  },
  {
   "cell_type": "code",
   "execution_count": 26,
   "metadata": {},
   "outputs": [
    {
     "data": {
      "text/plain": [
       "array([[ 4.,  0., -2.],\n",
       "       [ 2.,  5.,  4.],\n",
       "       [ 0.,  0.,  5.]])"
      ]
     },
     "execution_count": 26,
     "metadata": {},
     "output_type": "execute_result"
    }
   ],
   "source": [
    "V.dot(D).dot(la.inv(V))"
   ]
  },
  {
   "cell_type": "code",
   "execution_count": 27,
   "metadata": {},
   "outputs": [
    {
     "data": {
      "text/plain": [
       "array([[ 1024,     0, -4202],\n",
       "       [ 4202,  3125,  8404],\n",
       "       [    0,     0,  3125]])"
      ]
     },
     "execution_count": 27,
     "metadata": {},
     "output_type": "execute_result"
    }
   ],
   "source": [
    "la.matrix_power(A,5)"
   ]
  },
  {
   "cell_type": "code",
   "execution_count": 10,
   "metadata": {},
   "outputs": [
    {
     "data": {
      "text/plain": [
       "array([[ 3125.,     0.,     0.],\n",
       "       [    0.,  1024.,     0.],\n",
       "       [    0.,     0.,  3125.]])"
      ]
     },
     "execution_count": 10,
     "metadata": {},
     "output_type": "execute_result"
    }
   ],
   "source": [
    "D_power_5 = np.diag(eig_val**5)\n",
    "D_power_5"
   ]
  },
  {
   "cell_type": "code",
   "execution_count": 11,
   "metadata": {},
   "outputs": [
    {
     "data": {
      "text/plain": [
       "array([[ 1024.,     0., -4202.],\n",
       "       [ 4202.,  3125.,  8404.],\n",
       "       [    0.,     0.,  3125.]])"
      ]
     },
     "execution_count": 11,
     "metadata": {},
     "output_type": "execute_result"
    }
   ],
   "source": [
    "V.dot(D_power_5).dot(la.inv(V))"
   ]
  },
  {
   "cell_type": "code",
   "execution_count": 12,
   "metadata": {},
   "outputs": [
    {
     "name": "stdout",
     "output_type": "stream",
     "text": [
      "[[ 0.17777778  0.08888889  0.17777778  0.26666667  0.28888889]\n",
      " [ 0.0625      0.03125     0.15625     0.28125     0.46875   ]\n",
      " [ 0.12903226  0.16129032  0.35483871  0.19354839  0.16129032]\n",
      " [ 0.19672131  0.29508197  0.19672131  0.32786885 -0.01639344]\n",
      " [ 0.2826087   0.65217391  0.2173913  -0.02173913 -0.13043478]]\n",
      "[ 0.51562245  0.51562245  0.51562245  0.51562245  0.51562245]\n",
      "0.8648059368133545\n"
     ]
    }
   ],
   "source": [
    "# create a matrix A\n",
    "A = np.array([[4., 4, 2, 3, -2], [0, 1, -2, -2, 2], [6, 12, 11, 2, -4], [9, 20, 10, 10, -6], [15, 28, 14, 5, -3]])\n",
    "\n",
    "A = A + A.T\n",
    "A = A/np.expand_dims(np.sum(A, 1), axis = 1)\n",
    "print (A)\n",
    "\n",
    "# initialize parameters\n",
    "x = np.random.rand(5)\n",
    "n_times = 1000000\n",
    "\n",
    "# perform matrix multiplications\n",
    "y = x\n",
    "start_time = time.time()\n",
    "for i in range(0, n_times):\n",
    "    y = A.dot(y)\n",
    "end_time = time.time()\n",
    "elapse_time = end_time - start_time\n",
    "print (y)\n",
    "print (elapse_time)"
   ]
  },
  {
   "cell_type": "code",
   "execution_count": 13,
   "metadata": {},
   "outputs": [
    {
     "name": "stdout",
     "output_type": "stream",
     "text": [
      "[ 0.51562245  0.51562245  0.51562245  0.51562245  0.51562245]\n",
      "0.00035500526428222656\n"
     ]
    }
   ],
   "source": [
    "eig_val, eig_vec = eig(A)\n",
    "D = np.diag(eig_val)\n",
    "V = eig_vec\n",
    "\n",
    "# perform matrix multiplications using eigendecomposition\n",
    "start_time = time.time()\n",
    "y = V.dot((eig_val**n_times)*la.solve(V,x))\n",
    "end_time = time.time()\n",
    "elapse_time = end_time - start_time\n",
    "print (y)\n",
    "print (elapse_time)"
   ]
  },
  {
   "cell_type": "code",
   "execution_count": null,
   "metadata": {
    "collapsed": true
   },
   "outputs": [],
   "source": []
  }
 ],
 "metadata": {
  "anaconda-cloud": {},
  "kernelspec": {
   "display_name": "Python 3",
   "language": "python",
   "name": "python3"
  },
  "language_info": {
   "codemirror_mode": {
    "name": "ipython",
    "version": 3
   },
   "file_extension": ".py",
   "mimetype": "text/x-python",
   "name": "python",
   "nbconvert_exporter": "python",
   "pygments_lexer": "ipython3",
   "version": "3.6.5"
  }
 },
 "nbformat": 4,
 "nbformat_minor": 1
}
