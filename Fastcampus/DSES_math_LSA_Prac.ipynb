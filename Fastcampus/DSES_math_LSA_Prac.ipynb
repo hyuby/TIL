{
 "cells": [
  {
   "cell_type": "code",
   "execution_count": 1,
   "metadata": {},
   "outputs": [],
   "source": [
    "%config Completer.use_jedi = False"
   ]
  },
  {
   "cell_type": "code",
   "execution_count": 68,
   "metadata": {},
   "outputs": [],
   "source": [
    "import numpy as np\n",
    "import pandas as pd\n",
    "import matplotlib as mpl\n",
    "import matplotlib.pyplot as plt\n",
    "import seaborn as sns\n",
    "from collections import OrderedDict\n",
    "import re"
   ]
  },
  {
   "cell_type": "markdown",
   "metadata": {},
   "source": [
    "(예제) 다음이 주어졌을 때, word와 document를 2차원으로 그려보고, python 과 가까운 단어를 순서대로 나열해보라."
   ]
  },
  {
   "cell_type": "markdown",
   "metadata": {},
   "source": [
    "``` python\n",
    "example = [\n",
    "    \"Machine learning is super fun\",\n",
    "    \"Python is super, super cool\",\n",
    "    \"Statistics is cool, too\",\n",
    "    \"Data science is fun\",\n",
    "    \"Python is great for machine learning\",\n",
    "    \"I like football\",\n",
    "    \"Football is great to watch\"\n",
    "]```"
   ]
  },
  {
   "cell_type": "markdown",
   "metadata": {},
   "source": [
    "``` python\n",
    "corpus = OrderedDict(\n",
    "    {\n",
    "        'cool':0, \n",
    "        'data':1,\n",
    "        'football':2,\n",
    "        'fun':3,\n",
    "        'great':4,\n",
    "        'learning':5,\n",
    "        'like':6,\n",
    "        'machine':7,\n",
    "        'python':8,\n",
    "        'science':9,\n",
    "        'statistics':10,\n",
    "        'super':11,\n",
    "        'watch':12\n",
    "    }\n",
    ")```"
   ]
  },
  {
   "cell_type": "code",
   "execution_count": 3,
   "metadata": {},
   "outputs": [],
   "source": [
    "example = [\n",
    "    \"Machine learning is super fun\",\n",
    "    \"Python is super, super cool\",\n",
    "    \"Statistics is cool, too\",\n",
    "    \"Data science is fun\",\n",
    "    \"Python is great for machine learning\",\n",
    "    \"I like football\",\n",
    "    \"Football is great to watch\"\n",
    "]"
   ]
  },
  {
   "cell_type": "code",
   "execution_count": 4,
   "metadata": {
    "scrolled": true
   },
   "outputs": [
    {
     "data": {
      "text/plain": [
       "['Machine learning is super fun',\n",
       " 'Python is super, super cool',\n",
       " 'Statistics is cool, too',\n",
       " 'Data science is fun',\n",
       " 'Python is great for machine learning',\n",
       " 'I like football',\n",
       " 'Football is great to watch']"
      ]
     },
     "execution_count": 4,
     "metadata": {},
     "output_type": "execute_result"
    }
   ],
   "source": [
    "example = ['문장1','문장2']"
   ]
  },
  {
   "cell_type": "code",
   "execution_count": 5,
   "metadata": {},
   "outputs": [],
   "source": [
    "corpus = OrderedDict(\n",
    "    {\n",
    "        'cool':0, \n",
    "        'data':1,\n",
    "        'football':2,\n",
    "        'fun':3,\n",
    "        'great':4,\n",
    "        'learning':5,\n",
    "        'like':6,\n",
    "        'machine':7,\n",
    "        'python':8,\n",
    "        'science':9,\n",
    "        'statistics':10,\n",
    "        'super':11,\n",
    "        'watch':12\n",
    "    }\n",
    ")"
   ]
  },
  {
   "cell_type": "code",
   "execution_count": 20,
   "metadata": {},
   "outputs": [
    {
     "name": "stdout",
     "output_type": "stream",
     "text": [
      "How many lists do you want? 4\n"
     ]
    }
   ],
   "source": [
    "num_lists = int(input(\"How many lists do you want? \"))\n",
    "lists = [[] for i in range(num_lists)]"
   ]
  },
  {
   "cell_type": "code",
   "execution_count": 21,
   "metadata": {},
   "outputs": [
    {
     "data": {
      "text/plain": [
       "[[], [], [], []]"
      ]
     },
     "execution_count": 21,
     "metadata": {},
     "output_type": "execute_result"
    }
   ],
   "source": [
    "lists"
   ]
  },
  {
   "cell_type": "code",
   "execution_count": null,
   "metadata": {},
   "outputs": [],
   "source": []
  },
  {
   "cell_type": "code",
   "execution_count": 28,
   "metadata": {},
   "outputs": [],
   "source": [
    "d1 = example[0]\n",
    "d2 = example[1]\n",
    "d3 = example[2]\n",
    "d4 = example[3]\n",
    "d5 = example[4]\n",
    "d6 = example[5]\n",
    "d7 = example[6]"
   ]
  },
  {
   "cell_type": "code",
   "execution_count": 29,
   "metadata": {},
   "outputs": [],
   "source": [
    "def parse_document(doc):\n",
    "    tokens = doc.split(' ')\n",
    "    tokens = map(str.lower, tokens)\n",
    "    tokens = list(tokens)\n",
    "    tokens = [re.sub(r'[^a-zA-Z0-9-]', '', token) for token in tokens]\n",
    "    \n",
    "    return tokens"
   ]
  },
  {
   "cell_type": "code",
   "execution_count": 47,
   "metadata": {},
   "outputs": [
    {
     "name": "stdout",
     "output_type": "stream",
     "text": [
      "['machine', 'learning', 'is', 'super', 'fun']\n",
      "['python', 'is', 'super', 'super', 'cool']\n",
      "['statistics', 'is', 'cool', 'too']\n",
      "['data', 'science', 'is', 'fun']\n",
      "['python', 'is', 'great', 'for', 'machine', 'learning']\n",
      "['i', 'like', 'football']\n",
      "['football', 'is', 'great', 'to', 'watch']\n"
     ]
    }
   ],
   "source": [
    "d1_tokens = parse_document(d1)\n",
    "d2_tokens = parse_document(d2)\n",
    "d3_tokens = parse_document(d3)\n",
    "d4_tokens = parse_document(d4)\n",
    "d5_tokens = parse_document(d5)\n",
    "d6_tokens = parse_document(d6)\n",
    "d7_tokens = parse_document(d7)\n",
    "\n",
    "\n",
    "print(d1_tokens)\n",
    "print(d2_tokens)\n",
    "print(d3_tokens)\n",
    "print(d4_tokens)\n",
    "print(d5_tokens)\n",
    "print(d6_tokens)\n",
    "print(d7_tokens)\n"
   ]
  },
  {
   "cell_type": "code",
   "execution_count": 33,
   "metadata": {},
   "outputs": [
    {
     "name": "stdout",
     "output_type": "stream",
     "text": [
      "cool 0\n",
      "data 1\n",
      "football 2\n",
      "fun 3\n",
      "great 4\n",
      "learning 5\n",
      "like 6\n",
      "machine 7\n",
      "python 8\n",
      "science 9\n",
      "statistics 10\n",
      "super 11\n",
      "watch 12\n"
     ]
    }
   ],
   "source": [
    "for v, i in corpus.items():\n",
    "    print(v, i)"
   ]
  },
  {
   "cell_type": "code",
   "execution_count": 34,
   "metadata": {},
   "outputs": [],
   "source": [
    "# Document vector를 생성하는 코드를 함수로 바꿔보자.\n",
    "def get_doc_vector(tokens):\n",
    "    doc_vec = [1 if v in tokens else 0 for v, i in corpus.items()]\n",
    "    return doc_vec"
   ]
  },
  {
   "cell_type": "code",
   "execution_count": 48,
   "metadata": {},
   "outputs": [
    {
     "name": "stdout",
     "output_type": "stream",
     "text": [
      "[0, 0, 0, 1, 0, 1, 0, 1, 0, 0, 0, 1, 0]\n",
      "[1, 0, 0, 0, 0, 0, 0, 0, 1, 0, 0, 1, 0]\n",
      "[1, 0, 0, 0, 0, 0, 0, 0, 0, 0, 1, 0, 0]\n",
      "[0, 1, 0, 1, 0, 0, 0, 0, 0, 1, 0, 0, 0]\n",
      "[0, 0, 0, 0, 1, 1, 0, 1, 1, 0, 0, 0, 0]\n",
      "[0, 0, 1, 0, 0, 0, 1, 0, 0, 0, 0, 0, 0]\n",
      "[0, 0, 1, 0, 1, 0, 0, 0, 0, 0, 0, 0, 1]\n"
     ]
    }
   ],
   "source": [
    "d1_vec = get_doc_vector(d1_tokens)\n",
    "d2_vec = get_doc_vector(d2_tokens)\n",
    "d3_vec = get_doc_vector(d3_tokens)\n",
    "d4_vec = get_doc_vector(d4_tokens)\n",
    "d5_vec = get_doc_vector(d5_tokens)\n",
    "d6_vec = get_doc_vector(d6_tokens)\n",
    "d7_vec = get_doc_vector(d7_tokens)\n",
    "\n",
    "print(d1_vec)\n",
    "print(d2_vec)\n",
    "print(d3_vec)\n",
    "print(d4_vec)\n",
    "print(d5_vec)\n",
    "print(d6_vec)\n",
    "print(d7_vec)"
   ]
  },
  {
   "cell_type": "code",
   "execution_count": 49,
   "metadata": {},
   "outputs": [
    {
     "data": {
      "text/plain": [
       "array([[0, 0, 0, 1, 0, 1, 0, 1, 0, 0, 0, 1, 0],\n",
       "       [1, 0, 0, 0, 0, 0, 0, 0, 1, 0, 0, 1, 0],\n",
       "       [1, 0, 0, 0, 0, 0, 0, 0, 0, 0, 1, 0, 0],\n",
       "       [0, 1, 0, 1, 0, 0, 0, 0, 0, 1, 0, 0, 0],\n",
       "       [0, 0, 0, 0, 1, 1, 0, 1, 1, 0, 0, 0, 0],\n",
       "       [0, 0, 1, 0, 0, 0, 1, 0, 0, 0, 0, 0, 0],\n",
       "       [0, 0, 1, 0, 1, 0, 0, 0, 0, 0, 0, 0, 1]])"
      ]
     },
     "execution_count": 49,
     "metadata": {},
     "output_type": "execute_result"
    }
   ],
   "source": [
    "A = np.array([d1_vec, d2_vec, d3_vec, d4_vec, d5_vec, d6_vec, d7_vec])\n",
    "A"
   ]
  },
  {
   "cell_type": "code",
   "execution_count": 50,
   "metadata": {},
   "outputs": [
    {
     "data": {
      "text/plain": [
       "array([[4, 1, 0, 1, 2, 0, 0],\n",
       "       [1, 3, 1, 0, 1, 0, 0],\n",
       "       [0, 1, 2, 0, 0, 0, 0],\n",
       "       [1, 0, 0, 3, 0, 0, 0],\n",
       "       [2, 1, 0, 0, 4, 0, 1],\n",
       "       [0, 0, 0, 0, 0, 2, 1],\n",
       "       [0, 0, 0, 0, 1, 1, 3]])"
      ]
     },
     "execution_count": 50,
     "metadata": {},
     "output_type": "execute_result"
    }
   ],
   "source": [
    "doc_mat = np.dot(A, A.T)\n",
    "doc_mat"
   ]
  },
  {
   "cell_type": "code",
   "execution_count": 51,
   "metadata": {},
   "outputs": [
    {
     "data": {
      "text/plain": [
       "array([[2, 0, 0, 0, 0, 0, 0, 0, 1, 0, 1, 1, 0],\n",
       "       [0, 1, 0, 1, 0, 0, 0, 0, 0, 1, 0, 0, 0],\n",
       "       [0, 0, 2, 0, 1, 0, 1, 0, 0, 0, 0, 0, 1],\n",
       "       [0, 1, 0, 2, 0, 1, 0, 1, 0, 1, 0, 1, 0],\n",
       "       [0, 0, 1, 0, 2, 1, 0, 1, 1, 0, 0, 0, 1],\n",
       "       [0, 0, 0, 1, 1, 2, 0, 2, 1, 0, 0, 1, 0],\n",
       "       [0, 0, 1, 0, 0, 0, 1, 0, 0, 0, 0, 0, 0],\n",
       "       [0, 0, 0, 1, 1, 2, 0, 2, 1, 0, 0, 1, 0],\n",
       "       [1, 0, 0, 0, 1, 1, 0, 1, 2, 0, 0, 1, 0],\n",
       "       [0, 1, 0, 1, 0, 0, 0, 0, 0, 1, 0, 0, 0],\n",
       "       [1, 0, 0, 0, 0, 0, 0, 0, 0, 0, 1, 0, 0],\n",
       "       [1, 0, 0, 1, 0, 1, 0, 1, 1, 0, 0, 2, 0],\n",
       "       [0, 0, 1, 0, 1, 0, 0, 0, 0, 0, 0, 0, 1]])"
      ]
     },
     "execution_count": 51,
     "metadata": {},
     "output_type": "execute_result"
    }
   ],
   "source": [
    "word_mat = np.dot(A.T, A)\n",
    "word_mat"
   ]
  },
  {
   "cell_type": "code",
   "execution_count": 52,
   "metadata": {},
   "outputs": [],
   "source": [
    "U, sig, V_T = np.linalg.svd(A)"
   ]
  },
  {
   "cell_type": "code",
   "execution_count": 191,
   "metadata": {},
   "outputs": [],
   "source": [
    "# word_eigen_val, word_eigen_vec = np.linalg.eig(np.dot(A.T, A))"
   ]
  },
  {
   "cell_type": "code",
   "execution_count": 192,
   "metadata": {},
   "outputs": [],
   "source": [
    "word_eigen_vec =  U[:,:2]"
   ]
  },
  {
   "cell_type": "code",
   "execution_count": 193,
   "metadata": {},
   "outputs": [
    {
     "data": {
      "text/plain": [
       "array([[-0.63555233,  0.3116475 ],\n",
       "       [-0.35219853,  0.13826479],\n",
       "       [-0.07303416,  0.07324226],\n",
       "       [-0.16627132,  0.35104399],\n",
       "       [-0.63765049, -0.26214197],\n",
       "       [-0.03657726, -0.38783282],\n",
       "       [-0.17638947, -0.73214047]])"
      ]
     },
     "execution_count": 193,
     "metadata": {},
     "output_type": "execute_result"
    }
   ],
   "source": [
    "word_eigen_vec"
   ]
  },
  {
   "cell_type": "code",
   "execution_count": 54,
   "metadata": {},
   "outputs": [
    {
     "data": {
      "text/plain": [
       "array([ 6.82238103e+00,  3.88777334e+00,  3.40902971e+00,  2.83209187e+00,\n",
       "        1.73351605e+00,  1.23802682e+00,  1.07718117e+00,  3.29061336e-16,\n",
       "       -3.60373074e-16, -1.65660688e-16, -8.71662318e-17,  5.80487724e-17,\n",
       "        4.33698469e-17])"
      ]
     },
     "execution_count": 54,
     "metadata": {},
     "output_type": "execute_result"
    }
   ],
   "source": [
    "word_eigen_val"
   ]
  },
  {
   "cell_type": "code",
   "execution_count": 55,
   "metadata": {},
   "outputs": [
    {
     "data": {
      "text/plain": [
       "array([[-0.16280159, -0.10726903, -0.56753028, -0.47167366, -0.09339555,\n",
       "        -0.15827037, -0.01428834, -0.01960426,  0.56619757, -0.36715871,\n",
       "         0.11154356,  0.0347829 , -0.04067401],\n",
       "       [-0.06365747, -0.17803733,  0.31234068, -0.32694004, -0.30586704,\n",
       "         0.14910562, -0.14965023, -0.0804178 ,  0.24198569,  0.43885399,\n",
       "        -0.43679311, -0.37131046,  0.29036016],\n",
       "       [-0.08153494,  0.56801159,  0.15891516, -0.38342851,  0.335503  ,\n",
       "         0.02427125, -0.04296669, -0.07645369, -0.05393549, -0.31000451,\n",
       "         0.30194111, -0.34835068,  0.06829271],\n",
       "       [-0.30698056, -0.33609413,  0.4400973 , -0.27204415,  0.08150866,\n",
       "        -0.11361448,  0.13810005, -0.13179439, -0.18964598, -0.32256315,\n",
       "        -0.16249069, -0.2184093 ,  0.19550798],\n",
       "       [-0.31165761,  0.50426555,  0.06500102,  0.06438076, -0.42490916,\n",
       "        -0.04276529,  0.08261717, -0.57388546, -0.01577313,  0.01073241,\n",
       "        -0.01824752,  0.09138969, -0.18678142],\n",
       "       [-0.48744948, -0.02510749,  0.09980894,  0.29342062,  0.08435367,\n",
       "        -0.22778809, -0.14336504,  0.10211861,  0.2131844 ,  0.07280704,\n",
       "        -0.15966229,  0.25873287, -0.51515802],\n",
       "       [-0.01400371,  0.19669535,  0.06596646, -0.20928454,  0.45739012,\n",
       "         0.10196856, -0.55669919,  0.07645369,  0.05393549,  0.31000451,\n",
       "        -0.30194111,  0.34835068, -0.06829271],\n",
       "       [-0.48744948, -0.02510749,  0.09980894,  0.29342062,  0.08435367,\n",
       "        -0.22778809, -0.14336504,  0.24091919,  0.17262394, -0.10047103,\n",
       "         0.30580318, -0.17783162,  0.49045773],\n",
       "       [-0.37896663,  0.06282621, -0.35989337,  0.02430195, -0.26909174,\n",
       "         0.54158824, -0.2602764 ,  0.23084766, -0.37003521,  0.01693157,\n",
       "        -0.12789336, -0.17229095,  0.2114817 ],\n",
       "       [-0.06365747, -0.17803733,  0.31234068, -0.32694004, -0.30586704,\n",
       "         0.14910562, -0.14965023,  0.21221219, -0.05233971, -0.11629084,\n",
       "         0.5992838 ,  0.58971976, -0.48586814],\n",
       "       [-0.02796134, -0.03714593, -0.23558459, -0.25745088, -0.12732584,\n",
       "        -0.66492659, -0.18512726,  0.01960426, -0.56619757,  0.36715871,\n",
       "        -0.11154356, -0.0347829 ,  0.04067401],\n",
       "       [-0.37816335, -0.2281799 , -0.20418907, -0.15932689,  0.421306  ,\n",
       "         0.24393613,  0.45858921, -0.21124341, -0.19616236,  0.35022714,\n",
       "         0.0163498 ,  0.13750805, -0.17080769],\n",
       "       [-0.06753123,  0.37131624,  0.0929487 , -0.17414397, -0.12188713,\n",
       "        -0.0776973 ,  0.51373249,  0.65033915,  0.06970862,  0.2992721 ,\n",
       "        -0.28369358,  0.25696098,  0.11848871]])"
      ]
     },
     "execution_count": 55,
     "metadata": {},
     "output_type": "execute_result"
    }
   ],
   "source": [
    "word_eigen_vec"
   ]
  },
  {
   "cell_type": "code",
   "execution_count": null,
   "metadata": {},
   "outputs": [],
   "source": [
    "pd.options.display.max_colwidth"
   ]
  },
  {
   "cell_type": "code",
   "execution_count": 56,
   "metadata": {},
   "outputs": [
    {
     "data": {
      "text/plain": [
       "array([[-0.16280159, -0.10726903],\n",
       "       [-0.06365747, -0.17803733],\n",
       "       [-0.08153494,  0.56801159],\n",
       "       [-0.30698056, -0.33609413],\n",
       "       [-0.31165761,  0.50426555],\n",
       "       [-0.48744948, -0.02510749],\n",
       "       [-0.01400371,  0.19669535],\n",
       "       [-0.48744948, -0.02510749],\n",
       "       [-0.37896663,  0.06282621],\n",
       "       [-0.06365747, -0.17803733],\n",
       "       [-0.02796134, -0.03714593],\n",
       "       [-0.37816335, -0.2281799 ],\n",
       "       [-0.06753123,  0.37131624]])"
      ]
     },
     "execution_count": 56,
     "metadata": {},
     "output_type": "execute_result"
    }
   ],
   "source": [
    "word_eigen_vec[:,:2]"
   ]
  },
  {
   "cell_type": "code",
   "execution_count": 57,
   "metadata": {},
   "outputs": [
    {
     "name": "stderr",
     "output_type": "stream",
     "text": [
      "/Users/sanghyub/anaconda/lib/python3.6/site-packages/ipykernel_launcher.py:1: RuntimeWarning: invalid value encountered in sqrt\n",
      "  \"\"\"Entry point for launching an IPython kernel.\n"
     ]
    },
    {
     "data": {
      "text/plain": [
       "array([2.61196880e+00, 1.97174373e+00, 1.84635579e+00, 1.68288201e+00,\n",
       "       1.31663057e+00, 1.11266654e+00, 1.03787339e+00, 1.81400479e-08,\n",
       "                  nan,            nan,            nan, 7.61897450e-09,\n",
       "       6.58557871e-09])"
      ]
     },
     "execution_count": 57,
     "metadata": {},
     "output_type": "execute_result"
    }
   ],
   "source": [
    "np.sqrt(word_eigen_val)"
   ]
  },
  {
   "cell_type": "code",
   "execution_count": 58,
   "metadata": {},
   "outputs": [
    {
     "data": {
      "text/plain": [
       "array([2.6119688 , 1.97174373, 1.84635579, 1.68288201, 1.31663057,\n",
       "       1.11266654, 1.03787339])"
      ]
     },
     "execution_count": 58,
     "metadata": {},
     "output_type": "execute_result"
    }
   ],
   "source": [
    "sig"
   ]
  },
  {
   "cell_type": "markdown",
   "metadata": {},
   "source": [
    "k = 2"
   ]
  },
  {
   "cell_type": "code",
   "execution_count": 63,
   "metadata": {},
   "outputs": [],
   "source": [
    "word_vec = np.dot(np.diag(sig[:2]), word_eigen_vec[:, :2].T)"
   ]
  },
  {
   "cell_type": "code",
   "execution_count": 65,
   "metadata": {},
   "outputs": [
    {
     "data": {
      "text/plain": [
       "array([[-0.42523269, -0.16627132, -0.21296672, -0.80182365, -0.81403996,\n",
       "        -1.27320282, -0.03657726, -1.27320282, -0.98984902, -0.16627132,\n",
       "        -0.07303416, -0.98775086, -0.17638947],\n",
       "       [-0.21150705, -0.35104399,  1.11997329, -0.66269149,  0.99428243,\n",
       "        -0.04950553,  0.38783282, -0.04950553,  0.12387718, -0.35104399,\n",
       "        -0.07324226, -0.44991228,  0.73214047]])"
      ]
     },
     "execution_count": 65,
     "metadata": {},
     "output_type": "execute_result"
    }
   ],
   "source": [
    "word_vec"
   ]
  },
  {
   "cell_type": "code",
   "execution_count": 73,
   "metadata": {},
   "outputs": [],
   "source": [
    "w_x = word_vec[0]\n",
    "w_y = word_vec[1]"
   ]
  },
  {
   "cell_type": "code",
   "execution_count": 74,
   "metadata": {},
   "outputs": [
    {
     "data": {
      "text/plain": [
       "(13,)"
      ]
     },
     "execution_count": 74,
     "metadata": {},
     "output_type": "execute_result"
    }
   ],
   "source": [
    "w_x.shape"
   ]
  },
  {
   "cell_type": "code",
   "execution_count": 75,
   "metadata": {},
   "outputs": [
    {
     "data": {
      "text/plain": [
       "(13,)"
      ]
     },
     "execution_count": 75,
     "metadata": {},
     "output_type": "execute_result"
    }
   ],
   "source": [
    "w_y.shape"
   ]
  },
  {
   "cell_type": "code",
   "execution_count": 76,
   "metadata": {},
   "outputs": [
    {
     "data": {
      "image/png": "[encoded data removed]",
      "text/plain": [
       "<matplotlib.figure.Figure at 0x1a14b43588>"
      ]
     },
     "metadata": {
      "needs_background": "light"
     },
     "output_type": "display_data"
    }
   ],
   "source": [
    "mpl.rcParams['figure.figsize'] = (8, 8)\n",
    "\n",
    "fig, ax = plt.subplots()\n",
    "\n",
    "# Scatter\n",
    "ax.scatter(w_x, w_y, s=100)\n",
    "\n",
    "# Scatter에 라벨링을 한다.\n",
    "for i, txt in enumerate(corpus.keys()):\n",
    "    ax.annotate(txt, (w_x[i], w_y[i]), fontsize=20)  # free와 live가 겹쳐지는 위치"
   ]
  },
  {
   "cell_type": "code",
   "execution_count": 78,
   "metadata": {},
   "outputs": [],
   "source": [
    "doc_eigen_val, doc_eigen_vec = np.linalg.eig(np.dot(A, A.T))"
   ]
  },
  {
   "cell_type": "code",
   "execution_count": 80,
   "metadata": {},
   "outputs": [],
   "source": [
    "doc_vec = np.dot(doc_eigen_vec[:, :2], np.diag(sig[:2]))"
   ]
  },
  {
   "cell_type": "code",
   "execution_count": 85,
   "metadata": {},
   "outputs": [],
   "source": [
    "doc_x = doc_vec[:, 0]\n",
    "doc_y = doc_vec[:, 1]"
   ]
  },
  {
   "cell_type": "code",
   "execution_count": 86,
   "metadata": {},
   "outputs": [
    {
     "data": {
      "text/plain": [
       "array([1.66004286, 0.91993157, 0.19076294, 0.43429549, 1.6655232 ,\n",
       "       0.09553865, 0.46072378])"
      ]
     },
     "execution_count": 86,
     "metadata": {},
     "output_type": "execute_result"
    }
   ],
   "source": [
    "doc_x"
   ]
  },
  {
   "cell_type": "code",
   "execution_count": 87,
   "metadata": {},
   "outputs": [
    {
     "data": {
      "text/plain": [
       "array([ 0.58885805,  0.34960825, -0.37884819, -0.30624728, -0.88224317,\n",
       "       -1.13924054,  1.05131263])"
      ]
     },
     "execution_count": 87,
     "metadata": {},
     "output_type": "execute_result"
    }
   ],
   "source": [
    "doc_y"
   ]
  },
  {
   "cell_type": "code",
   "execution_count": 88,
   "metadata": {},
   "outputs": [
    {
     "data": {
      "image/png": "[encoded data removed]",
      "text/plain": [
       "<matplotlib.figure.Figure at 0x1a14d27ac8>"
      ]
     },
     "metadata": {
      "needs_background": "light"
     },
     "output_type": "display_data"
    }
   ],
   "source": [
    "fig, ax = plt.subplots()\n",
    "\n",
    "# Scatter\n",
    "ax.scatter(doc_x, doc_y, marker='*', s=100)\n",
    "\n",
    "# Scatter에 라벨링을 한다.\n",
    "for i, txt in enumerate(['d1', 'd2', 'd3', 'd4', 'd5', 'd6', 'd7']):\n",
    "    ax.annotate(txt, (doc_x[i], doc_y[i]), fontsize=20)"
   ]
  },
  {
   "cell_type": "code",
   "execution_count": 92,
   "metadata": {},
   "outputs": [
    {
     "data": {
      "image/png": "[encoded data removed]",
      "text/plain": [
       "<matplotlib.figure.Figure at 0x1a151047f0>"
      ]
     },
     "metadata": {
      "needs_background": "light"
     },
     "output_type": "display_data"
    }
   ],
   "source": [
    "fig, ax = plt.subplots()\n",
    "ax.scatter(w_x, w_y, s=100)\n",
    "for i, txt in enumerate(corpus.keys()):\n",
    "    ax.annotate(txt, (w_x[i], w_y[i]), fontsize=20)\n",
    "    \n",
    "ax.scatter(doc_x, doc_y, marker='*', s = 100)\n",
    "for i, txt in enumerate(['d1','d2','d3','d4','d5','d6','d7']):\n",
    "    ax.annotate(txt, (doc_x[i], doc_y[i]), fontsize=20)"
   ]
  },
  {
   "cell_type": "markdown",
   "metadata": {},
   "source": [
    "$\\text{Cosine Similarity} = \\frac{d_i q}{|d_i| |q|}$"
   ]
  },
  {
   "cell_type": "code",
   "execution_count": 109,
   "metadata": {},
   "outputs": [
    {
     "data": {
      "text/plain": [
       "array([-0.16627132, -0.35104399])"
      ]
     },
     "execution_count": 109,
     "metadata": {},
     "output_type": "execute_result"
    }
   ],
   "source": [
    "word_vec[:,9]"
   ]
  },
  {
   "cell_type": "code",
   "execution_count": 110,
   "metadata": {},
   "outputs": [],
   "source": [
    "query_python = word_vec[:, 9]"
   ]
  },
  {
   "cell_type": "code",
   "execution_count": 111,
   "metadata": {},
   "outputs": [],
   "source": [
    "def get_consine_similarity(doc, query):\n",
    "    dot_prod = np.dot(doc, query)\n",
    "    len_doc = np.sqrt(sum(doc ** 2))\n",
    "    len_query = np.sqrt(sum(query ** 2))\n",
    "    \n",
    "    return dot_prod / (len_doc * len_query)"
   ]
  },
  {
   "cell_type": "code",
   "execution_count": 96,
   "metadata": {},
   "outputs": [],
   "source": [
    "docs = [d1, d2, d3, d4, d5, d6, d7]"
   ]
  },
  {
   "cell_type": "code",
   "execution_count": 105,
   "metadata": {},
   "outputs": [
    {
     "data": {
      "text/plain": [
       "array([[ 1.66004286,  0.58885805],\n",
       "       [ 0.91993157,  0.34960825],\n",
       "       [ 0.19076294, -0.37884819],\n",
       "       [ 0.43429549, -0.30624728],\n",
       "       [ 1.6655232 , -0.88224317],\n",
       "       [ 0.09553865, -1.13924054],\n",
       "       [ 0.46072378,  1.05131263]])"
      ]
     },
     "execution_count": 105,
     "metadata": {},
     "output_type": "execute_result"
    }
   ],
   "source": [
    "doc_vec"
   ]
  },
  {
   "cell_type": "code",
   "execution_count": 112,
   "metadata": {},
   "outputs": [],
   "source": [
    "result = {}\n",
    "for idx, doc in zip(docs, doc_vec):\n",
    "    result[get_consine_similarity(doc, query_python)] = idx"
   ]
  },
  {
   "cell_type": "code",
   "execution_count": 114,
   "metadata": {},
   "outputs": [
    {
     "data": {
      "text/plain": [
       "{-0.9995703139417103: 'Football is great to watch',\n",
       " -0.7211939191220444: 'Python is super, super cool',\n",
       " -0.7055665618630329: 'Machine learning is super fun',\n",
       " 0.04477192848224812: 'Python is great for machine learning',\n",
       " 0.1709907382646454: 'Data science is fun',\n",
       " 0.6146804710694271: 'Statistics is cool, too',\n",
       " 0.8648169439762244: 'I like football'}"
      ]
     },
     "execution_count": 114,
     "metadata": {},
     "output_type": "execute_result"
    }
   ],
   "source": [
    "result"
   ]
  },
  {
   "cell_type": "code",
   "execution_count": 113,
   "metadata": {},
   "outputs": [
    {
     "data": {
      "text/plain": [
       "[(0.8648169439762244, 'I like football'),\n",
       " (0.6146804710694271, 'Statistics is cool, too'),\n",
       " (0.1709907382646454, 'Data science is fun'),\n",
       " (0.04477192848224812, 'Python is great for machine learning'),\n",
       " (-0.7055665618630329, 'Machine learning is super fun'),\n",
       " (-0.7211939191220444, 'Python is super, super cool'),\n",
       " (-0.9995703139417103, 'Football is great to watch')]"
      ]
     },
     "execution_count": 113,
     "metadata": {},
     "output_type": "execute_result"
    }
   ],
   "source": [
    "import operator\n",
    "\n",
    "# 최종결과를 sorting하라!\n",
    "sorted(result.items(), key=operator.itemgetter(0), reverse=True)"
   ]
  },
  {
   "cell_type": "code",
   "execution_count": 118,
   "metadata": {},
   "outputs": [
    {
     "data": {
      "text/plain": [
       "array([-0.16627132, -0.35104399])"
      ]
     },
     "execution_count": 118,
     "metadata": {},
     "output_type": "execute_result"
    }
   ],
   "source": [
    "query_python"
   ]
  },
  {
   "cell_type": "code",
   "execution_count": 122,
   "metadata": {},
   "outputs": [
    {
     "data": {
      "text/plain": [
       "Text(-0.166271,-0.351044,'query_python')"
      ]
     },
     "execution_count": 122,
     "metadata": {},
     "output_type": "execute_result"
    },
    {
     "data": {
      "image/png": "[encoded data removed]",
      "text/plain": [
       "<matplotlib.figure.Figure at 0x1a157bc198>"
      ]
     },
     "metadata": {
      "needs_background": "light"
     },
     "output_type": "display_data"
    }
   ],
   "source": [
    "fig, ax = plt.subplots()\n",
    "ax.scatter(w_x, w_y, s=100)\n",
    "for i, txt in enumerate(corpus.keys()):\n",
    "    ax.annotate(txt, (w_x[i], w_y[i]), fontsize=20)\n",
    "    \n",
    "ax.scatter(doc_x, doc_y, marker='*', s=100)\n",
    "for i, txt in enumerate(['d1', 'd2', 'd3', 'd4', 'd5','d6','d7']):\n",
    "    ax.annotate(txt, (doc_x[i], doc_y[i]), fontsize=20)\n",
    "    \n",
    "ax.scatter(query_python[0], query_python[1], marker='v', s=200, color='red')\n",
    "ax.annotate('query_python', (query_python[0], query_python[1]), fontsize=20)"
   ]
  },
  {
   "cell_type": "code",
   "execution_count": null,
   "metadata": {},
   "outputs": [],
   "source": []
  },
  {
   "cell_type": "markdown",
   "metadata": {},
   "source": [
    "Question 2"
   ]
  },
  {
   "cell_type": "code",
   "execution_count": 123,
   "metadata": {},
   "outputs": [],
   "source": [
    "review  = pd.read_csv('ratings_train.txt', delimiter='\\t')"
   ]
  },
  {
   "cell_type": "code",
   "execution_count": 124,
   "metadata": {},
   "outputs": [],
   "source": [
    "love_review = review[review.document.str.contains('사랑')==True].head(100)\n",
    "type_review = review[review.document.str.contains('장르')==True].head(100)\n",
    "\n",
    "df = pd.concat([love_review, type_review], axis=0)"
   ]
  },
  {
   "cell_type": "code",
   "execution_count": 128,
   "metadata": {},
   "outputs": [
    {
     "data": {
      "text/plain": [
       "48                                    난 우리영화를 사랑합니다....^^;\n",
       "64                          사랑하고싶게하는,가슴속온감정을헤집어놓는영화예요정말최고.\n",
       "127      10년이 지나 다시 보게된 영화 .. 다시봐도 그 순수한 사랑에 감동 ㅠㅠ 숀펜의 ...\n",
       "193       난 사랑비 서준에게 쏙 빠져버렸네. 1.2.3초만에 쏙ㅋㅋ난 절대잊지도않고후회도안할거야\n",
       "198              넘 사랑스러운 영화다 ㅠㅠ 1보고 2 연이어 봤다~!! 넘 귀여워 ㅠㅠ♥♥\n",
       "203      후세와 사랑하게된 결정적 계기 그시간이 표현되지 않았으며 시람의 생명을 빼앗아야만하...\n",
       "212                                 각기 다른 사람들의 재밌고 멋진 사랑영화\n",
       "242               감각적인..시각으로...바라보는..색다른...느낌의...사랑...문학적이\n",
       "288      스토리도 말이 안되고 개막장 사랑이야기도 아니예요 이걸보고계신다면 당신의 시간과돈을...\n",
       "405                       여운이 엄청~길게 남는영화.. 이이경을 사랑하게하는 영화!\n",
       "413                             너무 사랑스럽고 감동적인 영화:) 정말 좋앗어요\n",
       "452      이 영화의 3박자는 디테일이었다. (정말 시가전의 퀄리티는 완벽했고) 남자의 사랑에...\n",
       "473      그만빙빙돌리고 밝혀지게하면안되나요 ?보려다아직도질질끌어짜증나.안봄 여기서또사고터져 ...\n",
       "585                   사랑에 상처받으면 다시 치유될수 있을까? 하는 생각이 드는 영화!\n",
       "682      잘봤어요 외모뿐만이 아니라 여러가지들을 따지며 사랑에 빠지는것이 아니라 '하려고' ...\n",
       "716      일편에 비해 삽질하는 브리짓이 쪼~끔 짜증날 때도 있었지만 그래도 여전히 사랑스럽다...\n",
       "741      이 영화를 보고 '사랑하고 싶다' 라는 생각을 했습니다. 청소년 관람불가임에도 선정...\n",
       "820                                    내사랑 키아누 ♡.♡ 리브스 ♡.♡\n",
       "834                             정말 사랑에 대해 다시생각한거같습니다 감동이에요\n",
       "968      화려한 색채때문에 눈이 아프지만 그 나름대로 화려연예계여자욕망에대해 표현해냈던거같다...\n",
       "1015     최근 '사랑과 전쟁' 식의 영화가 자주 등장한다. 만약 그런 부류의 영화들이 질이 ...\n",
       "1095                                    레이 시우민 사랑하고 엑소 화이팅\n",
       "1143                      스티플러의 연기는 정말ㅋ정말 배우들 사랑하고 존경한다. ㅋ\n",
       "1189                      정말 좋은 영화.. 진정한 사랑이 무엇인지를 말해주는 영화\n",
       "1208     히가시노 게이고의 추리소설이 사랑 받는 이유는, 치밀한 트릭도 크겠지만 사람이 사람...\n",
       "1275            남녀간 사랑, 가족간의 사랑이 아닌 다른 사랑도 얼마나 진한지 보여주는 영화\n",
       "1281                     낯선 섬, 낯선 타인이 완전한 사랑이 되기까지의 독특한 전이\n",
       "1283     결국은 세계는 이해관계에 따라 움직인다.악과 선은 없다.다 가족을 사랑하고 돈 벌고...\n",
       "1348        미친듯한 이런사랑 나도한번쯤은 해보고픈 ....영화는 영화일 뿐인가?멋지게 잘봤어요\n",
       "1364     조선시대를 배경으로 벌어지는 본격 느와르 남자들의 우정과 그리고 사랑! 특히 액션신...\n",
       "                               ...                        \n",
       "20851              공포장르를 예술적으로 풀어갔던 라스 폰 트리에. 지루해 죽는줄 알았지~\n",
       "21374        교훈을주려는건 알겠는데 여운이없다 장르도 액션도아니고 드라마도아니고 코미디도아니다\n",
       "22016    나만 겁나 재밌게본거여?ㅜㅜ 아무 기대,정보없이 븨오디한편 틀어서본건데 많은 생각이...\n",
       "23062    광기와 분노 연기를 정말 잘 소화하는 벤 포스터가 기억에 남는 영화. 액션 스릴러라...\n",
       "23747         장르의 혼합과 연출이 매끄럽지못해 영화가 진행될수록 점점 지루해지고 재미없어진다\n",
       "23760                                    이 영화장르가 왜 코미디인지요?\n",
       "23836    가족을 보호하는 아버지가 감동이 아니면 뭐가 감동이냐? 질질짜는 슬픈 드라마를 원하...\n",
       "23954               스릴러,멜로,다큐의 애매모호한 장르 혼합.but두배우의 연기는 멋지다\n",
       "23993                       장르구분이잘못되어있는듯.에분말대로미스테리장르로서는괜찮음\n",
       "24219    이도저도 아닌 장르의영화....확실한 메세지를 주었으면....내생애 다른사람 다 괜...\n",
       "24263      아 ㅅㅂ 왜0점 못주냐 .. 0.5도 아까운 OO같은영화 장르는공포판타지가아니라코믹임\n",
       "24272                 장르가 참..범죄,스릴러,멜로,애정,로멘스... 딱봐도 망할 영화\n",
       "24822    마법을쓴다,초월적힘을 지녔다..등등 뻔한이야기가아닌,'연금술'이란 단 하나밖에없는 ...\n",
       "25292     나이든 장르노, 무력한 경찰, 조직이라 하기엔 엉성항 조직력. 모든게 이상해......\n",
       "25701               어렸을때 아무것도 모르던 내게 코믹로맨스라는 장르를 맛보게 해준 작품\n",
       "26161          숨겨진 명작이다. 절제되고 세련된 액션 영화의 미학, 새로운 장르를 만들었다.\n",
       "26381    어둡다. 더럽다. 역겹다. 정말 심각할 정도로. 그러나, 그래서, 명작이 될 수 있...\n",
       "26649    신기하거나 흥미로운 것도 별로없고...그냥 평범한? TV 아동용 판타지 장르같은 영...\n",
       "26671    미친 댓글 안남기려다 남긴다. 내 바로 아랫놈 진짜 웃긴놈이네. 지랑 안맞는 장르면...\n",
       "26676                                      멜로로 장르 변환한 거미인간\n",
       "26811       원래 이런 장르를 좋아해서............완전진짜 너무 멋있어ㅠㅠㅠㅠㅠㅠㅠㅠㅠ\n",
       "27140                      장르가 짬뽕인 것은... 내세울만한 장르가 없기 때문인가\n",
       "27340                            푸하하하~ 코미디라는 장르에 아주 충실하군..\n",
       "28323                 하루에 한편씩 장르를 초월해 영화 보는사람이지만 불편해서 못보겠다\n",
       "28456    3천건이나 되는 평점들을 보고 혹시나 뭔가 있을거라고 기대한 내가 OO이다...진짜...\n",
       "28838                      장르가 먼지도 모르겠구 황우슬혜 몸을 너무 아껴서 아쉽네\n",
       "28852             장르가 판타지 ㅋㅋ 모든 것은 부처님의 뜻으로 대의는 중국에 있다? ㅋㅋ\n",
       "28859                                           장르를 의심해 본다\n",
       "29140              보는 것 자체가 시간낭비일 수 있는 영화. 나와는 안 맞는 소재와 장르\n",
       "29216                                 장르라는건 시야를 협소해지게 만든다.\n",
       "Name: document, Length: 200, dtype: object"
      ]
     },
     "execution_count": 128,
     "metadata": {},
     "output_type": "execute_result"
    }
   ],
   "source": [
    "df.document"
   ]
  },
  {
   "cell_type": "code",
   "execution_count": 125,
   "metadata": {},
   "outputs": [],
   "source": [
    "import konlpy\n",
    "from konlpy.tag import Komoran\n",
    "\n",
    "komoran = Komoran()\n",
    "documents = [komoran.nouns(elem) for elem in df.document.values]"
   ]
  },
  {
   "cell_type": "code",
   "execution_count": 130,
   "metadata": {},
   "outputs": [
    {
     "data": {
      "text/plain": [
       "[['영화', '사랑합니다'],\n",
       " ['사랑', '가슴속', '온', '감정', '영화', '예', '요정', '말', '최고'],\n",
       " ['년', '영화', '순수', '사랑', '감동', '숀펜', '연기'],\n",
       " ['사랑비', '서주', '초', '절대', '후회', '도안', '할거'],\n",
       " ['넘', '사랑', '영화', '보고', '넘']]"
      ]
     },
     "execution_count": 130,
     "metadata": {},
     "output_type": "execute_result"
    }
   ],
   "source": [
    "documents[:5]"
   ]
  },
  {
   "cell_type": "code",
   "execution_count": 131,
   "metadata": {},
   "outputs": [],
   "source": [
    "import pickle\n",
    "\n",
    "# 데이터를 파일로 저장하기\n",
    "with open('selected_reviews', 'wb') as handle:\n",
    "    pickle.dump(documents, handle)"
   ]
  },
  {
   "cell_type": "code",
   "execution_count": 132,
   "metadata": {},
   "outputs": [],
   "source": [
    "# 데이터 불러오기\n",
    "with open('selected_reviews', 'rb') as handle:\n",
    "    loaded_doc = pickle.load(handle)"
   ]
  },
  {
   "cell_type": "code",
   "execution_count": 134,
   "metadata": {},
   "outputs": [
    {
     "data": {
      "text/plain": [
       "20"
      ]
     },
     "execution_count": 134,
     "metadata": {},
     "output_type": "execute_result"
    }
   ],
   "source": [
    "len(documents[:20])"
   ]
  },
  {
   "cell_type": "markdown",
   "metadata": {},
   "source": [
    "```\n",
    "(예제 : 네이버 영화 리뷰 분석)\n",
    "\n",
    "inputs/selected_review의 데이터를 load 하여, 해당 리뷰를 아래와 같이 분석하라.\n",
    "\n",
    "corpus는 리뷰 중 가장 많이 나온 단어 상위 20개를 사용하여 구성하라.\n",
    "사랑이라는 단어와 가장 가까운 리뷰를 cosine similarity를 이용하여 상위 10개까지 구하라.\n",
    "사랑이라는 단어와 가장 가까운 단어를 cosine similarity를 이용하여 상위 10개까지 구하라.\n",
    "리뷰 중 가장 많이 나온 단어 상위 20개를 scatter 를 사용하여 plot 하라.\n",
    "```"
   ]
  },
  {
   "cell_type": "code",
   "execution_count": 155,
   "metadata": {},
   "outputs": [],
   "source": [
    "from collections import Counter"
   ]
  },
  {
   "cell_type": "code",
   "execution_count": 171,
   "metadata": {},
   "outputs": [],
   "source": [
    "total_documents = []\n",
    "for doc in documents:\n",
    "    for i in doc:\n",
    "        total_documents.append(i)"
   ]
  },
  {
   "cell_type": "code",
   "execution_count": 172,
   "metadata": {},
   "outputs": [
    {
     "data": {
      "text/plain": [
       "['영화',\n",
       " '사랑합니다',\n",
       " '사랑',\n",
       " '가슴속',\n",
       " '온',\n",
       " '감정',\n",
       " '영화',\n",
       " '예',\n",
       " '요정',\n",
       " '말',\n",
       " '최고',\n",
       " '년',\n",
       " '영화',\n",
       " '순수',\n",
       " '사랑',\n",
       " '감동',\n",
       " '숀펜',\n",
       " '연기',\n",
       " '사랑비',\n",
       " '서주',\n",
       " '초',\n",
       " '절대',\n",
       " '후회',\n",
       " '도안',\n",
       " '할거',\n",
       " '넘',\n",
       " '사랑',\n",
       " '영화',\n",
       " '보고',\n",
       " '넘',\n",
       " '후세',\n",
       " '사랑',\n",
       " '결정',\n",
       " '계기',\n",
       " '시간',\n",
       " '표현',\n",
       " '생명',\n",
       " '이유',\n",
       " '등',\n",
       " '시',\n",
       " '노',\n",
       " '출현',\n",
       " '연극',\n",
       " '으',\n",
       " '로',\n",
       " '생각',\n",
       " '시',\n",
       " '노',\n",
       " '시랑',\n",
       " '노력',\n",
       " '뻔',\n",
       " '사람',\n",
       " '사랑',\n",
       " '영화',\n",
       " '감각',\n",
       " '시각',\n",
       " '느낌',\n",
       " '사랑',\n",
       " '문학',\n",
       " '스토리',\n",
       " '말',\n",
       " '안',\n",
       " '개막',\n",
       " '장',\n",
       " '사랑',\n",
       " '이야기',\n",
       " '예',\n",
       " '시간',\n",
       " '과',\n",
       " '돈',\n",
       " '거',\n",
       " '예',\n",
       " '요',\n",
       " '휴',\n",
       " '호구',\n",
       " '여운',\n",
       " '영화',\n",
       " '이이경',\n",
       " '사랑',\n",
       " '영화',\n",
       " '사랑',\n",
       " '감동',\n",
       " '영화',\n",
       " '영화',\n",
       " '박자',\n",
       " '디테일',\n",
       " '시가전',\n",
       " '완벽',\n",
       " '남자',\n",
       " '사랑',\n",
       " '묘사',\n",
       " '작중',\n",
       " '한석규',\n",
       " '사랑',\n",
       " '마음',\n",
       " '디테일',\n",
       " '마지막',\n",
       " '얘기',\n",
       " '완급',\n",
       " '조절',\n",
       " '완벽',\n",
       " '영화',\n",
       " '짜증',\n",
       " '안',\n",
       " '봄',\n",
       " '진짜',\n",
       " '짜증',\n",
       " '날',\n",
       " '듯',\n",
       " '건',\n",
       " '반전',\n",
       " '작가',\n",
       " '드라마',\n",
       " '사랑',\n",
       " '넘',\n",
       " '짜증',\n",
       " '사랑',\n",
       " '상처',\n",
       " '치유',\n",
       " '수',\n",
       " '생각',\n",
       " '영화',\n",
       " '외모',\n",
       " '뿐',\n",
       " '가지',\n",
       " '사랑',\n",
       " '것',\n",
       " '요즘',\n",
       " '사람',\n",
       " '영화인',\n",
       " '거',\n",
       " '일편',\n",
       " '삽',\n",
       " '브리',\n",
       " '짓',\n",
       " '끔',\n",
       " '짜증',\n",
       " '날',\n",
       " '때',\n",
       " '콜린 퍼스',\n",
       " '휴 그랜트',\n",
       " '한자리',\n",
       " '것',\n",
       " '만',\n",
       " '점',\n",
       " '영화',\n",
       " '사랑하고 싶다',\n",
       " '생각',\n",
       " '청소년 관람불가',\n",
       " '선정',\n",
       " '장면',\n",
       " '연인',\n",
       " '솔로',\n",
       " '분',\n",
       " '추천',\n",
       " '내사랑',\n",
       " '키',\n",
       " '아누',\n",
       " '리브스',\n",
       " '사랑',\n",
       " '생각',\n",
       " '거',\n",
       " '감동',\n",
       " '색채',\n",
       " '때문',\n",
       " '눈',\n",
       " '나름',\n",
       " '연예',\n",
       " '여자',\n",
       " '욕망',\n",
       " '표현',\n",
       " '거',\n",
       " '내',\n",
       " '내',\n",
       " '리',\n",
       " '리코',\n",
       " '심정',\n",
       " '연예',\n",
       " '거',\n",
       " '번',\n",
       " '사람',\n",
       " '이날',\n",
       " '사랑',\n",
       " '대사',\n",
       " '때',\n",
       " '소름',\n",
       " '연예인',\n",
       " '사랑',\n",
       " '듯',\n",
       " '최근',\n",
       " '사랑과 전쟁',\n",
       " '식',\n",
       " '영화',\n",
       " '등장',\n",
       " '부류',\n",
       " '영화',\n",
       " '질',\n",
       " '평',\n",
       " '사람',\n",
       " '욕',\n",
       " '것',\n",
       " '영화',\n",
       " '질',\n",
       " '면',\n",
       " '지금',\n",
       " '드라마',\n",
       " '수준',\n",
       " '앞',\n",
       " '외면',\n",
       " '것',\n",
       " '레이',\n",
       " '시우민',\n",
       " '사랑',\n",
       " '엑소',\n",
       " '화이팅',\n",
       " '연기',\n",
       " '배우',\n",
       " '사랑',\n",
       " '존경',\n",
       " '영화',\n",
       " '사랑',\n",
       " '인지',\n",
       " '말',\n",
       " '영화',\n",
       " '히가시노 게이고',\n",
       " '추리소설',\n",
       " '사랑',\n",
       " '이유',\n",
       " '트릭',\n",
       " '사람',\n",
       " '사람',\n",
       " '행위',\n",
       " '감성',\n",
       " '정당',\n",
       " '부여',\n",
       " '설득력',\n",
       " '원작',\n",
       " '말',\n",
       " '헌신',\n",
       " '사랑',\n",
       " '키워드',\n",
       " '용의자',\n",
       " '집중',\n",
       " '결',\n",
       " '남녀',\n",
       " '간',\n",
       " '사랑',\n",
       " '가족',\n",
       " '간',\n",
       " '사랑',\n",
       " '사랑',\n",
       " '영화',\n",
       " '섬',\n",
       " '타인',\n",
       " '완전한 사랑',\n",
       " '전',\n",
       " '세계',\n",
       " '이해관계',\n",
       " '악',\n",
       " '선',\n",
       " '가족',\n",
       " '사랑',\n",
       " '돈',\n",
       " '사랑',\n",
       " '나도',\n",
       " '번',\n",
       " '쯤',\n",
       " '영화',\n",
       " '영화',\n",
       " '뿐',\n",
       " '멋',\n",
       " '지게',\n",
       " '조선시대',\n",
       " '배경',\n",
       " '느와르',\n",
       " '남자',\n",
       " '우정',\n",
       " '사랑',\n",
       " '액션',\n",
       " '신',\n",
       " '전대미문',\n",
       " '눈',\n",
       " '이정재',\n",
       " '연기',\n",
       " '김옥빈',\n",
       " '뇌',\n",
       " '세',\n",
       " '관객',\n",
       " '의미',\n",
       " '점',\n",
       " '그림',\n",
       " '사랑',\n",
       " '리',\n",
       " '끝',\n",
       " '사랑',\n",
       " '파리',\n",
       " '볼',\n",
       " '루즈',\n",
       " '기대',\n",
       " '이상',\n",
       " '사랑',\n",
       " '영화',\n",
       " '스파이더맨',\n",
       " '스파이더맨',\n",
       " '완전',\n",
       " '사랑',\n",
       " '영원',\n",
       " '영화',\n",
       " '미소',\n",
       " '수',\n",
       " '사랑',\n",
       " '영화',\n",
       " '만',\n",
       " '영화',\n",
       " '남자',\n",
       " '질투',\n",
       " '사랑',\n",
       " '사랑',\n",
       " '사람',\n",
       " '사랑',\n",
       " '사람',\n",
       " '강',\n",
       " '추',\n",
       " '사랑',\n",
       " '수',\n",
       " '영화',\n",
       " '공감',\n",
       " '깨달음',\n",
       " '사랑',\n",
       " '거',\n",
       " '시간',\n",
       " '줄',\n",
       " '몰입',\n",
       " '평점',\n",
       " '조건',\n",
       " '편리',\n",
       " '요즘',\n",
       " '세대',\n",
       " '사랑',\n",
       " '지',\n",
       " '영화',\n",
       " '사랑',\n",
       " '말',\n",
       " '속',\n",
       " '영화',\n",
       " '제목',\n",
       " '내용',\n",
       " '백인',\n",
       " '여배우',\n",
       " '사랑',\n",
       " '시즌',\n",
       " '사랑',\n",
       " '수능',\n",
       " '재수',\n",
       " '수',\n",
       " '시즌',\n",
       " '방',\n",
       " '지금',\n",
       " '뿐',\n",
       " '쥬',\n",
       " '산',\n",
       " '데',\n",
       " '순수',\n",
       " '맹목',\n",
       " '사랑',\n",
       " '정작',\n",
       " '자신',\n",
       " '사랑',\n",
       " '만큼',\n",
       " '사랑',\n",
       " '본능',\n",
       " '살길',\n",
       " '충실',\n",
       " '인간',\n",
       " '뿐',\n",
       " '덕분',\n",
       " '쥬',\n",
       " '산',\n",
       " '데이',\n",
       " '최후',\n",
       " '가슴',\n",
       " '영화',\n",
       " '사랑한다면',\n",
       " '열정',\n",
       " '사람',\n",
       " '장면',\n",
       " '극복',\n",
       " '말',\n",
       " '사랑',\n",
       " '우정',\n",
       " '전쟁',\n",
       " '형제',\n",
       " '직장',\n",
       " '동료',\n",
       " '선후배',\n",
       " '가족',\n",
       " '삶',\n",
       " '사랑',\n",
       " '사람',\n",
       " '이야기',\n",
       " '월E',\n",
       " '로봇',\n",
       " '일',\n",
       " '때',\n",
       " '순수',\n",
       " '손',\n",
       " '로봇',\n",
       " '때',\n",
       " '월E',\n",
       " '이브',\n",
       " '마디',\n",
       " '재미',\n",
       " '사랑',\n",
       " '영화',\n",
       " '다행',\n",
       " '사랑',\n",
       " '이야기',\n",
       " '전개',\n",
       " '불편',\n",
       " '사랑과 전쟁',\n",
       " '비디오',\n",
       " '버전',\n",
       " '년',\n",
       " '기억',\n",
       " '사랑',\n",
       " '생각',\n",
       " '수',\n",
       " '영화',\n",
       " '천국',\n",
       " '것',\n",
       " '사랑',\n",
       " '사랑은 너무 복잡해',\n",
       " '시작',\n",
       " '것',\n",
       " '시작',\n",
       " '사랑',\n",
       " '내용',\n",
       " '어머니',\n",
       " '사랑',\n",
       " '자신',\n",
       " '드라마',\n",
       " '자식',\n",
       " '사랑',\n",
       " '깨',\n",
       " '자식',\n",
       " '오',\n",
       " '종이',\n",
       " '말',\n",
       " '사랑이란',\n",
       " '평점',\n",
       " '사랑',\n",
       " '로맨스영화',\n",
       " '사랑',\n",
       " '사랑',\n",
       " '수',\n",
       " '사랑해요',\n",
       " '공효진',\n",
       " '응',\n",
       " '사',\n",
       " '따위',\n",
       " '안보',\n",
       " '년',\n",
       " '드라마',\n",
       " '한혜진',\n",
       " '지진희',\n",
       " '발',\n",
       " '연기',\n",
       " '연민',\n",
       " '시트콤',\n",
       " '수준',\n",
       " '스릴러',\n",
       " '왕',\n",
       " '실망',\n",
       " '연기',\n",
       " '대본',\n",
       " '연출',\n",
       " '실패',\n",
       " '작가',\n",
       " '사랑',\n",
       " '과',\n",
       " '전쟁',\n",
       " '수준',\n",
       " '감정',\n",
       " '선',\n",
       " '수',\n",
       " '김지수',\n",
       " '열연',\n",
       " '우연',\n",
       " '사랑',\n",
       " '놈',\n",
       " '사랑',\n",
       " '타령',\n",
       " '듯',\n",
       " '사랑',\n",
       " '장면',\n",
       " '손발',\n",
       " '실종',\n",
       " '캐롤',\n",
       " '첫사랑',\n",
       " '제목',\n",
       " '일본',\n",
       " '개봉',\n",
       " '영화',\n",
       " '사랑',\n",
       " '그동안',\n",
       " '삶',\n",
       " '의미',\n",
       " '거지',\n",
       " '전편',\n",
       " '설레임',\n",
       " '사랑',\n",
       " '등',\n",
       " '면',\n",
       " '부족',\n",
       " '전편',\n",
       " '재탕',\n",
       " '느낌',\n",
       " '전편',\n",
       " '귀',\n",
       " '편',\n",
       " '뻔',\n",
       " '사랑',\n",
       " '최고의 사랑',\n",
       " '영화',\n",
       " '앤 해서웨이',\n",
       " '사랑',\n",
       " '극',\n",
       " '영화',\n",
       " '대',\n",
       " '소녀',\n",
       " '영화',\n",
       " '전쟁',\n",
       " '사랑',\n",
       " '책임',\n",
       " '모성애',\n",
       " '겉',\n",
       " '마음',\n",
       " '불편',\n",
       " '지금',\n",
       " '사라예보',\n",
       " '전쟁',\n",
       " '진행',\n",
       " '중',\n",
       " '지구',\n",
       " '반대편',\n",
       " '사람',\n",
       " '것',\n",
       " '여운',\n",
       " '스웨덴',\n",
       " '분위기',\n",
       " '로이',\n",
       " '사랑',\n",
       " '미라',\n",
       " '소르비노',\n",
       " '발',\n",
       " '스케이트장',\n",
       " '가지',\n",
       " '표정',\n",
       " '때',\n",
       " '사랑',\n",
       " '스토리',\n",
       " '전개',\n",
       " '조금',\n",
       " '느낌',\n",
       " '처음',\n",
       " '비가',\n",
       " '때',\n",
       " '작',\n",
       " '폐가',\n",
       " '안',\n",
       " '눈',\n",
       " '비',\n",
       " '운율',\n",
       " '영화',\n",
       " '좋은 하루',\n",
       " '이 죽일놈의 사랑',\n",
       " '거지',\n",
       " '영화',\n",
       " '공상과학영화',\n",
       " '각색',\n",
       " '국어',\n",
       " '책',\n",
       " '배우',\n",
       " '시나리오',\n",
       " '리딩',\n",
       " '듯',\n",
       " '레드라이트',\n",
       " '캐스팅',\n",
       " '졸',\n",
       " '작',\n",
       " '돈',\n",
       " '과',\n",
       " '시간',\n",
       " '사랑',\n",
       " '린',\n",
       " '제리',\n",
       " '로한',\n",
       " '사랑',\n",
       " '노',\n",
       " '나라',\n",
       " '인터스텔라',\n",
       " '수',\n",
       " '것',\n",
       " '사랑',\n",
       " '이야기',\n",
       " '것',\n",
       " '에',\n",
       " '휴',\n",
       " '답',\n",
       " '노',\n",
       " '현실',\n",
       " '사랑',\n",
       " '이야기',\n",
       " '사랑',\n",
       " '성장',\n",
       " '수',\n",
       " '영화',\n",
       " '사랑',\n",
       " '말',\n",
       " '것',\n",
       " '가족',\n",
       " '애',\n",
       " '사랑',\n",
       " '수작',\n",
       " '과거',\n",
       " '현재',\n",
       " '역사',\n",
       " '흐름',\n",
       " '안',\n",
       " '개인',\n",
       " '삶',\n",
       " '우정',\n",
       " '사랑',\n",
       " '현재',\n",
       " '영화',\n",
       " '아일랜드',\n",
       " '광경',\n",
       " '주인공',\n",
       " '거',\n",
       " '영화',\n",
       " '로맨틱 코미디',\n",
       " '개연',\n",
       " '밥',\n",
       " '듯',\n",
       " '사람',\n",
       " '사랑',\n",
       " '납득',\n",
       " '더블린',\n",
       " '한국',\n",
       " '남극',\n",
       " '시간',\n",
       " '연출',\n",
       " '스토리',\n",
       " '액션',\n",
       " '씨',\n",
       " '것',\n",
       " '난',\n",
       " '것',\n",
       " '영화',\n",
       " '주인공',\n",
       " '여주',\n",
       " '사랑',\n",
       " '얘기',\n",
       " '게',\n",
       " '정도',\n",
       " '18세기',\n",
       " '프랑스',\n",
       " '배경',\n",
       " '시대',\n",
       " '관',\n",
       " '점',\n",
       " '정도',\n",
       " '과',\n",
       " '평',\n",
       " '점',\n",
       " '신',\n",
       " '인간',\n",
       " '자유',\n",
       " '평화',\n",
       " '사랑',\n",
       " '박보영',\n",
       " '언니',\n",
       " '사랑해요',\n",
       " '박',\n",
       " '담',\n",
       " '언니',\n",
       " '연기',\n",
       " '영화',\n",
       " '실연',\n",
       " '소녀',\n",
       " '사랑',\n",
       " '상처',\n",
       " '소년',\n",
       " '일본',\n",
       " '여행',\n",
       " '속',\n",
       " '여자',\n",
       " '소녀',\n",
       " '동일',\n",
       " '인물',\n",
       " '인줄',\n",
       " '점',\n",
       " '반전',\n",
       " '김민지',\n",
       " '씨',\n",
       " '소녀',\n",
       " '느낌',\n",
       " '이수혁',\n",
       " '씨',\n",
       " '나이',\n",
       " '때',\n",
       " '빅뱅',\n",
       " '사랑',\n",
       " '코난',\n",
       " '중',\n",
       " '극장판',\n",
       " '중',\n",
       " '명탐정코난',\n",
       " '명작',\n",
       " '사랑합니다',\n",
       " '남도일',\n",
       " '편',\n",
       " '영화',\n",
       " '후',\n",
       " '사랑',\n",
       " '노래',\n",
       " '진정',\n",
       " '옆',\n",
       " '이웃',\n",
       " '사랑',\n",
       " '것',\n",
       " '수용',\n",
       " '포용',\n",
       " '것',\n",
       " '통일한국',\n",
       " '준비',\n",
       " '기본',\n",
       " '것',\n",
       " '감사',\n",
       " '앞',\n",
       " '실제',\n",
       " '삶',\n",
       " '그리스도인',\n",
       " '사랑',\n",
       " '수',\n",
       " '것',\n",
       " '충격',\n",
       " '폰',\n",
       " '트리',\n",
       " '감독',\n",
       " '영화',\n",
       " '것',\n",
       " '사랑',\n",
       " '영화',\n",
       " '영화',\n",
       " '배우',\n",
       " '매력',\n",
       " '수',\n",
       " '사랑',\n",
       " '아빠',\n",
       " '난',\n",
       " '널',\n",
       " '날',\n",
       " '볼',\n",
       " '수가',\n",
       " '짝사랑',\n",
       " '거',\n",
       " '만남',\n",
       " '벚꽃',\n",
       " '봄',\n",
       " '겨울',\n",
       " '오기',\n",
       " '마련',\n",
       " '사랑',\n",
       " '아픔',\n",
       " '사랑',\n",
       " '치료',\n",
       " '수',\n",
       " '썸머',\n",
       " '여자',\n",
       " '건',\n",
       " '인연',\n",
       " '사실',\n",
       " '뿐',\n",
       " '전쟁',\n",
       " '전투',\n",
       " '씨',\n",
       " '수',\n",
       " '사랑',\n",
       " '젊은이',\n",
       " '기억',\n",
       " '젊은이',\n",
       " '사랑과 우정',\n",
       " '미녀',\n",
       " '야수',\n",
       " '을',\n",
       " '급',\n",
       " '사랑',\n",
       " '영상미',\n",
       " '남자',\n",
       " '여자',\n",
       " '사랑',\n",
       " '것',\n",
       " '애',\n",
       " '뜻',\n",
       " '우정',\n",
       " '이야기',\n",
       " '가족',\n",
       " '사랑',\n",
       " '앞',\n",
       " '이념',\n",
       " '수',\n",
       " '밖',\n",
       " '영화',\n",
       " '행복',\n",
       " '영화',\n",
       " '가족',\n",
       " '사랑',\n",
       " '조승우',\n",
       " '볼',\n",
       " '사랑해요',\n",
       " '영화',\n",
       " '본적',\n",
       " '프랑스',\n",
       " '사랑',\n",
       " '처음',\n",
       " '장르',\n",
       " '당황',\n",
       " '영화',\n",
       " '자체',\n",
       " '자신',\n",
       " '색깔',\n",
       " '충실',\n",
       " '완성',\n",
       " '편',\n",
       " '이해',\n",
       " '마이클',\n",
       " '베이',\n",
       " '최근작',\n",
       " '볼',\n",
       " '때',\n",
       " '블록버스터',\n",
       " '액션',\n",
       " '장르',\n",
       " '시나리오',\n",
       " '영화',\n",
       " '필수',\n",
       " '것',\n",
       " '기대',\n",
       " '메간폭스',\n",
       " '제목',\n",
       " '장르',\n",
       " '공포',\n",
       " '듯',\n",
       " '느낌',\n",
       " '환타지',\n",
       " '무협',\n",
       " '장르',\n",
       " '개척',\n",
       " '영화',\n",
       " '서극',\n",
       " '감독',\n",
       " '실험',\n",
       " '정신',\n",
       " '한국영화',\n",
       " '최초',\n",
       " '소동',\n",
       " '내용',\n",
       " '간만',\n",
       " '맘',\n",
       " '영화',\n",
       " '거',\n",
       " '장르',\n",
       " '맘',\n",
       " '훼',\n",
       " '이크',\n",
       " '다큐',\n",
       " '장르',\n",
       " '영화',\n",
       " '감독',\n",
       " '연출력',\n",
       " '촬영',\n",
       " '기술',\n",
       " '스토리',\n",
       " '짜임새',\n",
       " '오버',\n",
       " '배우',\n",
       " '연기력',\n",
       " '영화',\n",
       " '몰입',\n",
       " '전체',\n",
       " '다큐',\n",
       " '만',\n",
       " '요소',\n",
       " '공감',\n",
       " '시대',\n",
       " '개봉',\n",
       " '악',\n",
       " '평',\n",
       " '영화',\n",
       " '중',\n",
       " '요즘',\n",
       " '일',\n",
       " '일',\n",
       " '막장드라마',\n",
       " '트렌드',\n",
       " '시대',\n",
       " '쪽',\n",
       " '대본',\n",
       " '드라마',\n",
       " '장르',\n",
       " '스피디',\n",
       " '돌발',\n",
       " '극',\n",
       " '안',\n",
       " '극',\n",
       " '표현',\n",
       " '황보라',\n",
       " '씨',\n",
       " '이종혁',\n",
       " '씨',\n",
       " '캐릭터',\n",
       " '나이',\n",
       " '살',\n",
       " '동시',\n",
       " '영화',\n",
       " '처음',\n",
       " '장르',\n",
       " '대한민국',\n",
       " '최고',\n",
       " '영화',\n",
       " '생각',\n",
       " '하늘',\n",
       " '쪽',\n",
       " '일',\n",
       " '공포물',\n",
       " '것',\n",
       " '어머니',\n",
       " '장르',\n",
       " '장르',\n",
       " '무협',\n",
       " '코믹',\n",
       " '막장',\n",
       " '평점',\n",
       " '점',\n",
       " '레옹',\n",
       " '더',\n",
       " '와사비',\n",
       " '장르',\n",
       " '것',\n",
       " '원작',\n",
       " '망친',\n",
       " '거지',\n",
       " '액션',\n",
       " '드라마',\n",
       " '장르',\n",
       " '액션',\n",
       " '기대',\n",
       " '평점',\n",
       " '수',\n",
       " '밖',\n",
       " '인간',\n",
       " '본성',\n",
       " '자신',\n",
       " '선택',\n",
       " '생각',\n",
       " '수',\n",
       " '아이',\n",
       " '모습',\n",
       " '수',\n",
       " '세탁기',\n",
       " '정화',\n",
       " '장면',\n",
       " '현실감',\n",
       " '첩보',\n",
       " '물',\n",
       " '전',\n",
       " '공공',\n",
       " '칠',\n",
       " '시리즈',\n",
       " '첩보',\n",
       " '물',\n",
       " '장르',\n",
       " '장르',\n",
       " '코미디',\n",
       " '관리자',\n",
       " '밴드 오브 브라더스',\n",
       " '능가',\n",
       " '전쟁',\n",
       " '영화 장르',\n",
       " '선구자',\n",
       " '동시',\n",
       " '결정판',\n",
       " '각양각색',\n",
       " '장르',\n",
       " '중독',\n",
       " '드라마',\n",
       " '종영',\n",
       " '년',\n",
       " '지',\n",
       " ...]"
      ]
     },
     "execution_count": 172,
     "metadata": {},
     "output_type": "execute_result"
    }
   ],
   "source": [
    "total_documents"
   ]
  },
  {
   "cell_type": "code",
   "execution_count": 174,
   "metadata": {},
   "outputs": [],
   "source": [
    "counted_dict = Counter(total_documents)"
   ]
  },
  {
   "cell_type": "code",
   "execution_count": 188,
   "metadata": {},
   "outputs": [],
   "source": [
    "pre_corpus = counted_dict.most_common()[:20]"
   ]
  },
  {
   "cell_type": "code",
   "execution_count": 185,
   "metadata": {},
   "outputs": [
    {
     "name": "stdout",
     "output_type": "stream",
     "text": [
      "영화\n",
      "105\n",
      "사랑\n",
      "94\n",
      "장르\n",
      "92\n",
      "것\n",
      "31\n",
      "수\n",
      "22\n",
      "사람\n",
      "18\n",
      "액션\n",
      "15\n",
      "거\n",
      "14\n",
      "말\n",
      "13\n",
      "때\n",
      "13\n",
      "생각\n",
      "12\n",
      "드라마\n",
      "12\n",
      "스릴러\n",
      "12\n",
      "시간\n",
      "11\n",
      "코미디\n",
      "11\n",
      "평점\n",
      "10\n",
      "씨\n",
      "10\n",
      "연기\n",
      "9\n",
      "스토리\n",
      "9\n",
      "이야기\n",
      "9\n"
     ]
    }
   ],
   "source": [
    "for cor in pre_corpus:\n",
    "    for j in cor:\n",
    "        print(j)"
   ]
  },
  {
   "cell_type": "code",
   "execution_count": 186,
   "metadata": {},
   "outputs": [],
   "source": [
    "corpus = OrderedDict(\n",
    "    {'영화':0,\n",
    "     '사랑':1,\n",
    "     '장르':2,\n",
    "     '것':3,\n",
    "     '수':4,\n",
    "     '사람':5,\n",
    "     \"액션\":6,\n",
    "     '거':7,\n",
    "     '말':8,\n",
    "     '때':9,\n",
    "     '생각':10,\n",
    "     \"드라마\":11,\n",
    "     '스릴러':12,\n",
    "     '시간':13,\n",
    "     '코미디':14,\n",
    "     '평점':15,\n",
    "     '씨':16,\n",
    "     '연기':17,\n",
    "     '스토리':18,\n",
    "     '이야기':19,\n",
    "})"
   ]
  },
  {
   "cell_type": "code",
   "execution_count": 187,
   "metadata": {},
   "outputs": [
    {
     "data": {
      "text/plain": [
       "OrderedDict([('영화', 0),\n",
       "             ('사랑', 1),\n",
       "             ('장르', 2),\n",
       "             ('것', 3),\n",
       "             ('수', 4),\n",
       "             ('사람', 5),\n",
       "             ('액션', 6),\n",
       "             ('거', 7),\n",
       "             ('말', 8),\n",
       "             ('때', 9),\n",
       "             ('생각', 10),\n",
       "             ('드라마', 11),\n",
       "             ('스릴러', 12),\n",
       "             ('시간', 13),\n",
       "             ('코미디', 14),\n",
       "             ('평점', 15),\n",
       "             ('씨', 16),\n",
       "             ('연기', 17),\n",
       "             ('스토리', 18),\n",
       "             ('이야기', 19)])"
      ]
     },
     "execution_count": 187,
     "metadata": {},
     "output_type": "execute_result"
    }
   ],
   "source": [
    "corpus"
   ]
  },
  {
   "cell_type": "code",
   "execution_count": null,
   "metadata": {},
   "outputs": [],
   "source": []
  }
 ],
 "metadata": {
  "kernelspec": {
   "display_name": "Python 3",
   "language": "python",
   "name": "python3"
  },
  "language_info": {
   "codemirror_mode": {
    "name": "ipython",
    "version": 3
   },
   "file_extension": ".py",
   "mimetype": "text/x-python",
   "name": "python",
   "nbconvert_exporter": "python",
   "pygments_lexer": "ipython3",
   "version": "3.6.7"
  }
 },
 "nbformat": 4,
 "nbformat_minor": 2
}
