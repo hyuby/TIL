{
 "cells": [
  {
   "cell_type": "code",
   "execution_count": 1,
   "metadata": {},
   "outputs": [],
   "source": [
    "# Do it yourself\n",
    "from functools import reduce"
   ]
  },
  {
   "cell_type": "code",
   "execution_count": 2,
   "metadata": {},
   "outputs": [],
   "source": [
    "def reducer(a,b):\n",
    "    print(a,b)\n",
    "    return a+b\n",
    "\n",
    "#lambda a,b : b+a\n",
    "def reducer_reverse(a,b):\n",
    "    print(a,b)\n",
    "    return b+a"
   ]
  },
  {
   "cell_type": "code",
   "execution_count": 3,
   "metadata": {},
   "outputs": [
    {
     "name": "stdout",
     "output_type": "stream",
     "text": [
      "F a\n",
      "Fa s\n",
      "Fas t\n",
      "Fast c\n",
      "Fastc a\n",
      "Fastca m\n",
      "Fastcam p\n",
      "Fastcamp u\n",
      "Fastcampu s\n"
     ]
    },
    {
     "data": {
      "text/plain": [
       "'Fastcampus'"
      ]
     },
     "execution_count": 3,
     "metadata": {},
     "output_type": "execute_result"
    }
   ],
   "source": [
    "reduce(lambda a,b : reducer(a,b), 'Fastcampus')"
   ]
  },
  {
   "cell_type": "code",
   "execution_count": 4,
   "metadata": {},
   "outputs": [
    {
     "name": "stdout",
     "output_type": "stream",
     "text": [
      "F a\n",
      "aF s\n",
      "saF t\n",
      "tsaF c\n",
      "ctsaF a\n",
      "actsaF m\n",
      "mactsaF p\n",
      "pmactsaF u\n",
      "upmactsaF s\n"
     ]
    },
    {
     "data": {
      "text/plain": [
       "'supmactsaF'"
      ]
     },
     "execution_count": 4,
     "metadata": {},
     "output_type": "execute_result"
    }
   ],
   "source": [
    "reduce(lambda a,b : reducer_reverse(a,b), 'Fastcampus')"
   ]
  },
  {
   "cell_type": "code",
   "execution_count": 5,
   "metadata": {},
   "outputs": [],
   "source": [
    "recycle_bin = [\n",
    "1, 2, \"Fastcampus\", ['dog', 'cat', 'pig'], 5, 4, 5.6, False,\n",
    "\"패스트캠퍼스\", 100, 3.14, 2.71828, {'name':'Kim'}, True,\n",
    "]"
   ]
  },
  {
   "cell_type": "code",
   "execution_count": 9,
   "metadata": {},
   "outputs": [
    {
     "data": {
      "text/plain": [
       "[1, 2, 5, 4, 5.6, False, 100, 3.14, 2.71828, True]"
      ]
     },
     "execution_count": 9,
     "metadata": {},
     "output_type": "execute_result"
    }
   ],
   "source": [
    "# 1. 정수와 실수인 요소만 리스트로\n",
    "# 2. 정수만 각각 제곱\n",
    "# 3. 정수만 각각 제곱해서 합\n",
    "list(filter(lambda a: isinstance(a, (int, float)) , recycle_bin))"
   ]
  },
  {
   "cell_type": "code",
   "execution_count": 10,
   "metadata": {},
   "outputs": [
    {
     "data": {
      "text/plain": [
       "[1, 2, 5, 4, 5.6, 100, 3.14, 2.71828]"
      ]
     },
     "execution_count": 10,
     "metadata": {},
     "output_type": "execute_result"
    }
   ],
   "source": [
    "#1\n",
    "list(filter(lambda a: not isinstance(a, bool) and isinstance(a,(int, float)),recycle_bin))"
   ]
  },
  {
   "cell_type": "code",
   "execution_count": 14,
   "metadata": {},
   "outputs": [
    {
     "data": {
      "text/plain": [
       "[1, 4, 25, 16, 10000]"
      ]
     },
     "execution_count": 14,
     "metadata": {},
     "output_type": "execute_result"
    }
   ],
   "source": [
    "#2\n",
    "list(map(lambda a:a**2,\n",
    "    filter(lambda a: not isinstance(a, bool) and isinstance(a,int), recycle_bin)))"
   ]
  },
  {
   "cell_type": "code",
   "execution_count": 26,
   "metadata": {},
   "outputs": [
    {
     "data": {
      "text/plain": [
       "10046"
      ]
     },
     "execution_count": 26,
     "metadata": {},
     "output_type": "execute_result"
    }
   ],
   "source": [
    "#3 filter map reduce \n",
    "reduce(lambda a,b : a+b,\n",
    "            map(lambda a: a**2,\n",
    "    filter(lambda a: not isinstance(a, bool) and isinstance(a,int), recycle_bin)))"
   ]
  },
  {
   "cell_type": "code",
   "execution_count": 27,
   "metadata": {},
   "outputs": [
    {
     "data": {
      "text/plain": [
       "[(181121001, 2, 2400),\n",
       " (181121002, 12, 9800),\n",
       " (181121003, 5, 124800),\n",
       " (181121004, 10, 76000),\n",
       " (181121005, 24, 2810)]"
      ]
     },
     "execution_count": 27,
     "metadata": {},
     "output_type": "execute_result"
    }
   ],
   "source": [
    "#advanced, Orders 관련 문제풀이\n",
    "orders = []\n",
    "orders.append((181121001, 2,2400))\n",
    "orders.append((181121002, 12,9800))\n",
    "orders.append((181121003, 5,124800))\n",
    "orders.append((181121004, 10,76000))\n",
    "orders.append((181121005, 24,2810))\n",
    "\n",
    "orders"
   ]
  },
  {
   "cell_type": "code",
   "execution_count": 28,
   "metadata": {},
   "outputs": [
    {
     "name": "stdout",
     "output_type": "stream",
     "text": [
      "4800\n",
      "117600\n",
      "624000\n",
      "760000\n",
      "67440\n"
     ]
    }
   ],
   "source": [
    "# 2. 각 주문 별 총 구매 가격\n",
    "for item in orders :\n",
    "    print(item[1]*item[2])"
   ]
  },
  {
   "cell_type": "code",
   "execution_count": 31,
   "metadata": {},
   "outputs": [
    {
     "data": {
      "text/plain": [
       "[4800, 117600, 624000, 760000, 67440]"
      ]
     },
     "execution_count": 31,
     "metadata": {},
     "output_type": "execute_result"
    }
   ],
   "source": [
    "# 2. 각 주문 별 총 구매 가격\n",
    "list(map(lambda a:a[1]*a[2] ,orders))"
   ]
  },
  {
   "cell_type": "code",
   "execution_count": 36,
   "metadata": {},
   "outputs": [],
   "source": [
    "# 3. 총 매출과 평균 구매금액\n",
    "revenue = reduce(lambda a,b: a+b, map(lambda a:a[1]*a[2], orders))\n",
    "mean_rev = reduce(lambda a,b: a+b, map(lambda a:a[1]*a[2], orders)) / len(orders)"
   ]
  },
  {
   "cell_type": "code",
   "execution_count": 41,
   "metadata": {},
   "outputs": [
    {
     "name": "stdout",
     "output_type": "stream",
     "text": [
      "revenue:  1573840  mean revenue:  314768.0\n"
     ]
    }
   ],
   "source": [
    "print('revenue: ',revenue, ' mean revenue: ',mean_rev)"
   ]
  },
  {
   "cell_type": "markdown",
   "metadata": {},
   "source": [
    "## File I/O"
   ]
  },
  {
   "cell_type": "code",
   "execution_count": 44,
   "metadata": {},
   "outputs": [],
   "source": [
    "f = open('haha.txt', 'w')\n",
    "f.close()"
   ]
  },
  {
   "cell_type": "code",
   "execution_count": 45,
   "metadata": {},
   "outputs": [
    {
     "data": {
      "text/plain": [
       "<_io.TextIOWrapper name='haha.txt' mode='w' encoding='UTF-8'>"
      ]
     },
     "execution_count": 45,
     "metadata": {},
     "output_type": "execute_result"
    }
   ],
   "source": [
    "f"
   ]
  },
  {
   "cell_type": "code",
   "execution_count": 46,
   "metadata": {},
   "outputs": [
    {
     "data": {
      "text/plain": [
       "31"
      ]
     },
     "execution_count": 46,
     "metadata": {},
     "output_type": "execute_result"
    }
   ],
   "source": [
    "f = open('haha.txt', 'w')\n",
    "f.write('hahahahahahahahahahahahahahahah\\n')"
   ]
  },
  {
   "cell_type": "code",
   "execution_count": 47,
   "metadata": {},
   "outputs": [],
   "source": [
    "f.close()"
   ]
  },
  {
   "cell_type": "code",
   "execution_count": 50,
   "metadata": {},
   "outputs": [
    {
     "name": "stdout",
     "output_type": "stream",
     "text": [
      "hahahahahahahahahahahahahahahah\n"
     ]
    }
   ],
   "source": [
    "f = open('haha.txt', 'r')\n",
    "text = f.readline()\n",
    "print(text)\n",
    "f.close()"
   ]
  },
  {
   "cell_type": "code",
   "execution_count": 51,
   "metadata": {},
   "outputs": [],
   "source": [
    "f.readline?"
   ]
  },
  {
   "cell_type": "code",
   "execution_count": 52,
   "metadata": {},
   "outputs": [],
   "source": [
    "f = open('haha.txt', 'w')\n",
    "for i in range(1,10+1):\n",
    "    f.write('This is line number{} \\n'.format(i))\n",
    "f.close()"
   ]
  },
  {
   "cell_type": "code",
   "execution_count": 53,
   "metadata": {},
   "outputs": [],
   "source": [
    "f = open('haha.txt', 'r')"
   ]
  },
  {
   "cell_type": "code",
   "execution_count": 64,
   "metadata": {},
   "outputs": [
    {
     "data": {
      "text/plain": [
       "''"
      ]
     },
     "execution_count": 64,
     "metadata": {},
     "output_type": "execute_result"
    }
   ],
   "source": [
    "f.readline()"
   ]
  },
  {
   "cell_type": "code",
   "execution_count": 65,
   "metadata": {},
   "outputs": [],
   "source": [
    "f.close()"
   ]
  },
  {
   "cell_type": "code",
   "execution_count": 66,
   "metadata": {},
   "outputs": [
    {
     "name": "stdout",
     "output_type": "stream",
     "text": [
      "['This is line number1 \\n', 'This is line number2 \\n', 'This is line number3 \\n', 'This is line number4 \\n', 'This is line number5 \\n', 'This is line number6 \\n', 'This is line number7 \\n', 'This is line number8 \\n', 'This is line number9 \\n', 'This is line number10 \\n']\n"
     ]
    }
   ],
   "source": [
    "f = open('haha.txt', 'r')\n",
    "text = f.readlines()\n",
    "print(text)\n",
    "f.close()"
   ]
  },
  {
   "cell_type": "code",
   "execution_count": 67,
   "metadata": {},
   "outputs": [
    {
     "name": "stdout",
     "output_type": "stream",
     "text": [
      "This is line number1 \n",
      "\n",
      "This is line number2 \n",
      "\n",
      "This is line number3 \n",
      "\n",
      "This is line number4 \n",
      "\n",
      "This is line number5 \n",
      "\n",
      "This is line number6 \n",
      "\n",
      "This is line number7 \n",
      "\n",
      "This is line number8 \n",
      "\n",
      "This is line number9 \n",
      "\n",
      "This is line number10 \n",
      "\n"
     ]
    }
   ],
   "source": [
    "for item in text :\n",
    "    print(item)"
   ]
  },
  {
   "cell_type": "code",
   "execution_count": 71,
   "metadata": {},
   "outputs": [],
   "source": [
    "f = open('haha.txt', 'a')\n",
    "for i in range(1,10+1):\n",
    "    f.write('This is new line \\t no.{} \\t'.format(i+10))\n",
    "    \n",
    "f.close()"
   ]
  },
  {
   "cell_type": "code",
   "execution_count": null,
   "metadata": {},
   "outputs": [],
   "source": []
  },
  {
   "cell_type": "markdown",
   "metadata": {},
   "source": [
    "## with statements"
   ]
  },
  {
   "cell_type": "code",
   "execution_count": 72,
   "metadata": {},
   "outputs": [],
   "source": [
    "with open('haha.txt', 'r') as f:\n",
    "    text = f.readlines()"
   ]
  },
  {
   "cell_type": "code",
   "execution_count": 73,
   "metadata": {},
   "outputs": [],
   "source": [
    "del f"
   ]
  },
  {
   "cell_type": "code",
   "execution_count": 92,
   "metadata": {},
   "outputs": [],
   "source": [
    "with open('./best_boxing_movies.csv', 'r') as f:\n",
    "    movie_list = f.readlines()"
   ]
  },
  {
   "cell_type": "code",
   "execution_count": 111,
   "metadata": {
    "scrolled": true
   },
   "outputs": [
    {
     "name": "stdout",
     "output_type": "stream",
     "text": [
      "['52', 'Ring of Fire: The Emile Griffith Story', '2005', 'https://www.rottentomatoes.com/m/ring_of_fire_the_emile_griffith_story/', 'https://resizing.flixster.com/Gl9mXPoif-6Gg8KhbWLReXQlmF8=/180x254/v1.bTsxMTIxMTcwNTtqOzE3OTQ5OzIwNDg7MTUxNTsyMTM1']\n",
      "['51', 'Fighting Tommy Riley', '2005', 'https://www.rottentomatoes.com/m/fighting_tommy_riley/', 'https://resizing.flixster.com/Z2ILsbuexNUufl4a530N5fCyc5A=/180x252/v1.bTsxMTIwOTg1NTtqOzE3OTg5OzIwNDg7MTUwNzsyMTEz']\n",
      "['50', 'Unforgivable Blackness: The Rise and Fall of Jack Johnson', '2004', 'https://www.rottentomatoes.com/m/unforgivable_blackness_the_rise_and_fall_of_jack_johnson/', 'https://resizing.flixster.com/S0l6Z7ML4f_jLhJ-PP8JAQp9lhM=/144x196/v1.bTsxMjE2NTEyMDtqOzE3ODcwOzIwNDg7MTQ0OzE5Ng']\n",
      "['49', 'Two Fists', 'One Heart', '2009', 'https://www.rottentomatoes.com/m/two-fists-one-heart/', 'https://resizing.flixster.com/2-5WLOPTyUbRrDjB3IjiCoix7g0=/180x270/v1.bTsxMjkxMzk0ODtqOzE3OTUyOzIwNDg7MjAwOzMwMA']\n",
      "['48', 'Blue Blood', '2006', 'https://www.rottentomatoes.com/m/blue_blood-2006/', 'https://resizing.flixster.com/iL5x-xpPJCpckmE7MdmCd7GkXUg=/180x135/v1.bTsxMTE3ODA2MTtwOzE3OTY1OzIwNDg7NDQ4OzMzNw']\n",
      "['47', 'Kids Return', '1996', 'https://www.rottentomatoes.com/m/kids_return/', 'https://resizing.flixster.com/0fhrpj3mqvRP8nS5rKWRaPW7fzI=/180x245/v1.bTsxMTYxNzY2MTtqOzE3OTY1OzIwNDg7MzQ5OzQ3NQ']\n",
      "['46', 'The Good Son: The Life of Ray Boom Boom Mancini', '2013', 'https://www.rottentomatoes.com/m/the_good_son_the_life_of_ray_boom_boom_mancini/', 'https://resizing.flixster.com/yupkAdeO0c95O1IyjtzgineNO8Y=/179x270/v1.bTsxMTE3MjI1OTtqOzE3OTY4OzIwNDg7NTAwOzc1NQ']\n",
      "['45', 'The Kid From Brooklyn', '1946', 'https://www.rottentomatoes.com/m/the_kid_from_brooklyn_1946/', 'https://resizing.flixster.com/SRSsOL6XEI3DAsufPdMcpJKrGvE=/178x270/v1.bTsxMTIxMDc1NjtqOzE3OTkwOzIwNDg7MTcyMTsyNjA4']\n",
      "['44', 'City for Conquest', '1940', 'https://www.rottentomatoes.com/m/city_for_conquest/', 'https://resizing.flixster.com/JKS0H9CwjTOojIAH_zi7wLI8mGA=/180x240/v1.bTsxMTIxODI4MTtqOzE3OTU1OzIwNDg7MTUwMDsyMDAw']\n",
      "['43', 'I Am Ali', '2014', 'https://www.rottentomatoes.com/m/i_am_ali/', 'https://resizing.flixster.com/M1fgAe9Kt7reRlw42vELsl79Wgs=/180x270/v1.bTsxMTE4MDg4NjtqOzE3OTU1OzIwNDg7ODAwOzEyMDA']\n",
      "['42', '\"Let\\'s Do It Again\"', '1975', 'https://www.rottentomatoes.com/m/lets_do_it_again/', 'https://resizing.flixster.com/Zo-G-2nvtDwqjNg0W_C0MW3G2fk=/180x240/v1.bTsxMTIwNDgwNDtqOzE3OTc4OzIwNDg7MTUzNjsyMDQ4']\n",
      "['41', 'Resurrecting the Champ', '2007', 'https://www.rottentomatoes.com/m/resurrecting_the_champ/', 'https://resizing.flixster.com/qAK8Gx-gzC0xROexwqUMa_xYblQ=/180x240/v1.bTsxMTIxNzA1ODtqOzE3OTkyOzIwNDg7MTUzNjsyMDQ4']\n",
      "['40', 'Real Steel', '2011', 'https://www.rottentomatoes.com/m/real_steel/', 'https://resizing.flixster.com/gWYRzcxeE5ZLxGyQEMexmXt-hhc=/180x240/v1.bTsxMTI0NDkxMTtqOzE3OTkxOzIwNDg7MTUzNjsyMDQ4']\n",
      "['39', 'Before the Fall (Napola)', '2004', 'https://www.rottentomatoes.com/m/napola_elite_fur_den_fuhrer/', 'https://resizing.flixster.com/2uUnA0lHZq6GcNr0vCw8Ygj4UNU=/180x257/v1.bTsxMTYxNDAzNTtqOzE3OTg0OzIwNDg7NzYyOzEwODg']\n",
      "['38', 'Muhammad Ali', 'the Greatest', '1974', 'https://www.rottentomatoes.com/m/muhammad_ali_the_greatest/', 'https://resizing.flixster.com/q0MrSrsO2HdblrzmsSKah9kmRUg=/180x240/v1.bTsxMTIyNzM5MDtqOzE3OTc0OzIwNDg7OTk2OzEzMjg']\n",
      "['37', 'On the Ropes', '1999', 'https://www.rottentomatoes.com/m/on_the_ropes/', 'https://resizing.flixster.com/lF0-BAAZl7eRsYPKMhAsxZ4NUJc=/180x233/v1.bTsxMTYxNzU3ODtqOzE3OTcyOzIwNDg7NDY0OzYwMA']\n",
      "['36', 'Rocky III', '1982', 'https://www.rottentomatoes.com/m/rocky_iii/', 'https://resizing.flixster.com/CzH7VHMSEpAmrrt5_GtDlGEUNnk=/180x240/v1.bTsxMTI5MDUyOTtqOzE3OTc5OzIwNDg7MTQxOTsxODky']\n",
      "['35', 'Battling Butler', '1926', 'https://www.rottentomatoes.com/m/battling_butler/', 'https://resizing.flixster.com/Vk91HKVYbr6XKRsr96fJz6UEuFc=/180x240/v1.bTsxMTI5Nzk5OTtqOzE3OTc5OzIwNDg7OTk5OzEzMzI']\n",
      "['34', 'China Heavyweight', '2012', 'https://www.rottentomatoes.com/m/china_heavyweight_2012/', 'https://resizing.flixster.com/KWHt-dU9kDf3WP_hSRawx6edrfU=/180x267/v1.bTsxMTE2NTc1MjtqOzE3OTg2OzIwNDg7MTk0NDsyODgw']\n",
      "['33', 'Ali', '2001', 'https://www.rottentomatoes.com/m/ali/', 'https://resizing.flixster.com/_FshCvQGbuDPOMg1ZSK1Cf3fZtk=/180x240/v1.bTsxMTI5MTM3NDtqOzE3OTY5OzIwNDg7MjM5NzszMTk2']\n",
      "['32', 'Bleed For This', '2016', 'https://www.rottentomatoes.com/m/bleed_for_this/', 'https://resizing.flixster.com/Fa5h3fKCaojbrj7oGQ3JoU9eCCk=/173x270/v1.bTsxMjI0NDY5MjtqOzE3OTI4OzIwNDg7MTkxNjsyOTg5']\n",
      "['31', 'Rocky II', '1979', 'https://www.rottentomatoes.com/m/rocky_ii/', 'https://resizing.flixster.com/mHWXOy3xgyHMjrAuXstiHpMRKPE=/180x240/v1.bTsxMTYxNDQzNDtqOzE3OTc4OzIwNDg7NzIzOzk2NA']\n",
      "['30', 'The Ring', '1927', 'https://www.rottentomatoes.com/m/1057839-ring/', 'https://resizing.flixster.com/_O2OWGA188sh8Wu8_bUqoKSiCpM=/180x259/v1.bTsxMTcwMTMxODtqOzE3ODc4OzIwNDg7Njk0OzEwMDA']\n",
      "['29', 'The Champ', '1931', 'https://www.rottentomatoes.com/m/1030142-champ/', 'https://resizing.flixster.com/57YZmSdGJHumVzvlT8ywMLScOfE=/180x240/v1.bTsxMTIxODE5MDtqOzE3OTU0OzIwNDg7MTUzNjsyMDQ4']\n",
      "['28', 'The Hammer', '2007', 'https://www.rottentomatoes.com/m/10009253-the_hammer/', 'https://resizing.flixster.com/DJGcG9aYbfMo0mzqrRjrfV8DZmI=/180x240/v1.bTsxMTIyNDA3OTtqOzE3OTkzOzIwNDg7MTUzNjsyMDQ4']\n",
      "['27', 'Rocky Balboa', '2006', 'https://www.rottentomatoes.com/m/rocky_balboa/', 'https://resizing.flixster.com/JwoMsAbjtyRr3SMZRp5T0KzCY-0=/180x240/v1.bTsxMTIxNTU5NDtqOzE3OTY4OzIwNDg7MTUzNjsyMDQ4']\n",
      "['26', 'Somebody Up There Likes Me', '1956', 'https://www.rottentomatoes.com/m/somebody_up_there_likes_me/', 'https://resizing.flixster.com/fWmigvo7I9txKjOKNhO0GzuTph4=/180x240/v1.bTsxMTI5Njg1MTtqOzE3OTU2OzIwNDg7MjI1MDszMDAw']\n",
      "['25', 'Chuck', '2017', 'https://www.rottentomatoes.com/m/chuck/', 'https://resizing.flixster.com/pbsXSisYSvC1i63muv9tyjzrKYM=/180x267/v1.bTsxMjM3NDg2NDtqOzE3OTYyOzIwNDg7MjAyNTszMDAw']\n",
      "['24', 'The Boxer', '1997', 'https://www.rottentomatoes.com/m/the_boxer/', 'https://resizing.flixster.com/qTYEKAFMgmloNK2xcm7xg7eiQpU=/180x240/v1.bTsxMTM3MjU5NjtqOzE3OTY3OzIwNDg7MTUzNjsyMDQ4']\n",
      "['23', '\"Killer\\'s Kiss\"', '1955', 'https://www.rottentomatoes.com/m/killers_kiss/', 'https://resizing.flixster.com/8Il1K7y0MJT__v--6-DWTN1-aLk=/180x240/v1.bTsxMTIxMTEwMztqOzE3OTc3OzIwNDg7MTUzNjsyMDQ4']\n",
      "['22', 'The Set-Up', '1949', 'https://www.rottentomatoes.com/m/setup/', 'https://resizing.flixster.com/m2JUiCT77fbpag8MTi3_416c_lY=/180x240/v1.bTsxMTI5NjI2NztqOzE3OTU3OzIwNDg7MTUzNjsyMDQ4']\n",
      "['21', 'Cinderella Man', '2005', 'https://www.rottentomatoes.com/m/cinderella_man/', 'https://resizing.flixster.com/qxsnhkygn5lAdE9Y-Qfuq69RSiU=/180x270/v1.bTsxMTE3MzcyMDtqOzE3OTg5OzIwNDg7ODAwOzEyMDA']\n",
      "['20', 'The Hurricane', '1999', 'https://www.rottentomatoes.com/m/1093641-hurricane/', 'https://resizing.flixster.com/q-ycRBgRLnh48CdFtEPVxFQ4cWA=/180x270/v1.bTsxMTE3NTQ0MDtqOzE3OTU0OzIwNDg7ODAwOzEyMDA']\n",
      "['19', 'Tyson', '2009', 'https://www.rottentomatoes.com/m/1208128-tyson/', 'https://resizing.flixster.com/FEtM84avVITc-CUiiGXNnwcHMo0=/180x240/v1.bTsxMTIzNTg4NztqOzE3OTY3OzIwNDg7MjkxMDszODgw']\n",
      "['18', 'Girlfight', '2000', 'https://www.rottentomatoes.com/m/girlfight/', 'https://resizing.flixster.com/c2ztX3nTmNzo4jqPZI2cGit9y5E=/180x240/v1.bTsxMTI5MTU2MztqOzE3OTc4OzIwNDg7MTUzNjsyMDQ4']\n",
      "['17', 'Requiem for a Heavyweight', '1962', 'https://www.rottentomatoes.com/m/1080265-requiem_for_a_heavyweight/', 'https://resizing.flixster.com/xHyWj5fv4LPTOglQAaN8-SsQDQE=/180x240/v1.bTsxMTIxNDM2NjtqOzE3OTU1OzIwNDg7MTgwMDsyNDAw']\n",
      "['16', 'Champion', '1949', 'https://www.rottentomatoes.com/m/1003857-champion/', 'https://resizing.flixster.com/VtiD8vSkYsZmuQACV93ZcPxlQUA=/180x240/v1.bTsxMTYyMDM4NTtqOzE3OTg5OzIwNDg7NDk4OzY2NA']\n",
      "['15', 'Rocco and His Brothers (Rocco e i suoi fratelli)', '1961', 'https://www.rottentomatoes.com/m/rocco_and_his_brothers/', 'https://resizing.flixster.com/sT0lrlewoGPThRe18W2UTusRYmo=/180x240/v1.bTsxMTIwNjQ2MDtqOzE3OTY5OzIwNDg7MTUzMDsyMDQw']\n",
      "['14', 'Knuckle', '2011', 'https://www.rottentomatoes.com/m/knuckle_2011/', 'https://resizing.flixster.com/GRL01ggpvG-VYIrEnt_ylAvoOCE=/180x266/v1.bTsxMTE2MDM4MTtqOzE3OTcwOzIwNDg7NTExOzc1NQ']\n",
      "['13', 'The Fighter', '2010', 'https://www.rottentomatoes.com/m/the_fighter_2011/', 'https://resizing.flixster.com/g4JHNUf9OYL1zsquMicEBcOT3tQ=/180x270/v1.bTsxMTE2ODkzOTtqOzE3OTc4OzIwNDg7ODAwOzEyMDA']\n",
      "['12', 'The Quiet Man', '1952', 'https://www.rottentomatoes.com/m/quiet_man/', 'https://resizing.flixster.com/RZAg8TPNKxDDgXfijgDrY4wE3jc=/180x240/v1.bTsxMTIwNTgwOTtqOzE3OTkzOzIwNDg7MTUxMjsyMDE2']\n",
      "['11', 'Million Dollar Baby', '2004', 'https://www.rottentomatoes.com/m/million_dollar_baby/', 'https://resizing.flixster.com/Ii6a6U9w2d941JjZYGOSzLDbfYE=/180x270/v1.bTsxMTE2ODEwNjtqOzE3OTU1OzIwNDg7ODAwOzEyMDA']\n",
      "['10', 'Rocky', '1976', 'https://www.rottentomatoes.com/m/1017776-rocky/', 'https://resizing.flixster.com/Rydu3y8e-hRy1t-Qlf9jnYGU4hw=/180x240/v1.bTsxMTYxNDM4NTtqOzE3OTc0OzIwNDg7NzE0Ozk1Mg']\n",
      "['9', 'When We Were Kings', '1996', 'https://www.rottentomatoes.com/m/when_we_were_kings/', 'https://resizing.flixster.com/Zbhz3FWNAdx8Cm_jJkRxAu2UNzw=/180x240/v1.bTsxMTYxNDY2NztqOzE3OTg2OzIwNDg7Nzk4OzEwNjQ']\n",
      "['8', 'Hard Times', '1975', 'https://www.rottentomatoes.com/m/1009211-hard_times/', 'https://resizing.flixster.com/v9mlUOg57VH4rUsf-aQelYf-G-k=/180x240/v1.bTsxMTIwNDQzNztqOzE3OTcxOzIwNDg7MTUzNjsyMDQ4']\n",
      "['7', 'The Harder They Fall', '1956', 'https://www.rottentomatoes.com/m/1009224-harder_they_fall/', 'https://resizing.flixster.com/Pq8NVi_HPIezfZBR--y8I5tMsy4=/180x240/v1.bTsxMTIwNjQyNDtqOzE3OTc4OzIwNDg7MTUzNjsyMDQ4']\n",
      "['6', 'Gentleman Jim', '1942', 'https://www.rottentomatoes.com/m/gentleman_jim/', 'https://resizing.flixster.com/UK6ZmltQQR-BiMyNS8wzvjMyJ6g=/180x240/v1.bTsxMTIxOTQwODtqOzE3OTU3OzIwNDg7MTk5ODsyNjY0']\n",
      "['5', 'Body and Soul', '1947', 'https://www.rottentomatoes.com/m/body_and_soul_1947/', 'https://resizing.flixster.com/PddNNauXF0BS4XSM2Wh-iGWaIFI=/180x240/v1.bTsxMTYyMDgwNTtqOzE3OTU5OzIwNDg7MzE1OzQyMA']\n",
      "['4', 'Raging Bull', '1980', 'https://www.rottentomatoes.com/m/raging_bull/', 'https://resizing.flixster.com/mgbLDKJySlywJ2ZT63dkVlqCI64=/180x240/v1.bTsxMTI5MTgwOTtqOzE3OTU0OzIwNDg7MTUzNjsyMDQ4']\n",
      "['3', 'The Happiest Day in the Life of Olli Mäki (Hymyilevä mies)', '2017', 'https://www.rottentomatoes.com/m/the_happiest_day_in_the_life_of_olli_maki_2017/', 'https://resizing.flixster.com/AvX9luCheJyxB1oOR07vKf-lsw4=/180x264/v1.bTsxMjM1MDcxNztqOzE3OTM0OzIwNDg7NDUwOzY1OQ']\n",
      "['2', 'Fat City', '1972', 'https://www.rottentomatoes.com/m/fat_city/', 'https://resizing.flixster.com/60eHpgKPod9B5vxBfyahvriztAA=/180x240/v1.bTsxMTIwODA3MDtqOzE3OTU5OzIwNDg7MTUzNjsyMDQ4']\n",
      "['1', 'Creed', '2015', 'https://www.rottentomatoes.com/m/creed_2015/', 'https://resizing.flixster.com/gjV5dBNgv2mGgY4WAD-rt97cacc=/180x267/v1.bTsxMTIyNjAyNjtqOzE3OTYwOzIwNDg7NTc0Ozg1MQ']\n"
     ]
    }
   ],
   "source": [
    "res_dict = {}\n",
    "for item in movie_list:\n",
    "    result = [s.strip(\"'  \\n\") for s in item.split(',')]\n",
    "    idx = int(result[0])\n",
    "    movie_title = result[1]\n",
    "    try:\n",
    "        year = int(result[2])\n",
    "    except:\n",
    "        year = result[2]\n",
    "    rotten_url = result[3]\n",
    "    img_url =result[4]\n",
    "    \n",
    "    res_dict[idx] = dict((name, eval(name)) for name in \n",
    "                         ['idx', 'movie_title', 'year', 'rotten_url', 'img_url'])\n",
    "    \n",
    "    print(result)"
   ]
  },
  {
   "cell_type": "code",
   "execution_count": 113,
   "metadata": {},
   "outputs": [
    {
     "name": "stdout",
     "output_type": "stream",
     "text": [
      "idx 52\n",
      "movie_title Ring of Fire: The Emile Griffith Story\n",
      "year 2005\n",
      "rotten_url https://www.rottentomatoes.com/m/ring_of_fire_the_emile_griffith_story/\n",
      "img_url https://resizing.flixster.com/Gl9mXPoif-6Gg8KhbWLReXQlmF8=/180x254/v1.bTsxMTIxMTcwNTtqOzE3OTQ5OzIwNDg7MTUxNTsyMTM1\n"
     ]
    }
   ],
   "source": [
    "for k,v in res_dict[52].items():\n",
    "    print(k,v)"
   ]
  },
  {
   "cell_type": "code",
   "execution_count": null,
   "metadata": {},
   "outputs": [],
   "source": []
  },
  {
   "cell_type": "code",
   "execution_count": 118,
   "metadata": {},
   "outputs": [
    {
     "data": {
      "text/plain": [
       "{'aa': 1, 'bb': 2, 'cc': 3}"
      ]
     },
     "execution_count": 118,
     "metadata": {},
     "output_type": "execute_result"
    }
   ],
   "source": [
    "#Tip\n",
    "aa = 1\n",
    "bb = 2\n",
    "cc = 3\n",
    "\n",
    "aa_dict = dict(\n",
    "    [\n",
    "        (name, eval(name)) for name in ['aa','bb','cc']\n",
    "         ])\n",
    "aa_dict"
   ]
  },
  {
   "cell_type": "code",
   "execution_count": 119,
   "metadata": {},
   "outputs": [
    {
     "name": "stdout",
     "output_type": "stream",
     "text": [
      "['{\"52\": {\"index\": 52, \"movie_title\": \"Ring of Fire: The Emile Griffith Story\", \"year\": 2005, \"href\": \"https://www.rottentomatoes.com/m/ring_of_fire_the_emile_griffith_story/\", \"img\": \"https://resizing.flixster.com/Gl9mXPoif-6Gg8KhbWLReXQlmF8=/180x254/v1.bTsxMTIxMTcwNTtqOzE3OTQ5OzIwNDg7MTUxNTsyMTM1\"}, \"51\": {\"index\": 51, \"movie_title\": \"Fighting Tommy Riley\", \"year\": 2005, \"href\": \"https://www.rottentomatoes.com/m/fighting_tommy_riley/\", \"img\": \"https://resizing.flixster.com/Z2ILsbuexNUufl4a530N5fCyc5A=/180x252/v1.bTsxMTIwOTg1NTtqOzE3OTg5OzIwNDg7MTUwNzsyMTEz\"}, \"50\": {\"index\": 50, \"movie_title\": \"Unforgivable Blackness: The Rise and Fall of Jack Johnson\", \"year\": 2004, \"href\": \"https://www.rottentomatoes.com/m/unforgivable_blackness_the_rise_and_fall_of_jack_johnson/\", \"img\": \"https://resizing.flixster.com/S0l6Z7ML4f_jLhJ-PP8JAQp9lhM=/144x196/v1.bTsxMjE2NTEyMDtqOzE3ODcwOzIwNDg7MTQ0OzE5Ng\"}, \"49\": {\"index\": 49, \"movie_title\": \"Two Fists, One Heart\", \"year\": 2009, \"href\": \"https://www.rottentomatoes.com/m/two-fists-one-heart/\", \"img\": \"https://resizing.flixster.com/2-5WLOPTyUbRrDjB3IjiCoix7g0=/180x270/v1.bTsxMjkxMzk0ODtqOzE3OTUyOzIwNDg7MjAwOzMwMA\"}, \"48\": {\"index\": 48, \"movie_title\": \"Blue Blood\", \"year\": 2006, \"href\": \"https://www.rottentomatoes.com/m/blue_blood-2006/\", \"img\": \"https://resizing.flixster.com/iL5x-xpPJCpckmE7MdmCd7GkXUg=/180x135/v1.bTsxMTE3ODA2MTtwOzE3OTY1OzIwNDg7NDQ4OzMzNw\"}, \"47\": {\"index\": 47, \"movie_title\": \"Kids Return\", \"year\": 1996, \"href\": \"https://www.rottentomatoes.com/m/kids_return/\", \"img\": \"https://resizing.flixster.com/0fhrpj3mqvRP8nS5rKWRaPW7fzI=/180x245/v1.bTsxMTYxNzY2MTtqOzE3OTY1OzIwNDg7MzQ5OzQ3NQ\"}, \"46\": {\"index\": 46, \"movie_title\": \"The Good Son: The Life of Ray Boom Boom Mancini\", \"year\": 2013, \"href\": \"https://www.rottentomatoes.com/m/the_good_son_the_life_of_ray_boom_boom_mancini/\", \"img\": \"https://resizing.flixster.com/yupkAdeO0c95O1IyjtzgineNO8Y=/179x270/v1.bTsxMTE3MjI1OTtqOzE3OTY4OzIwNDg7NTAwOzc1NQ\"}, \"45\": {\"index\": 45, \"movie_title\": \"The Kid From Brooklyn\", \"year\": 1946, \"href\": \"https://www.rottentomatoes.com/m/the_kid_from_brooklyn_1946/\", \"img\": \"https://resizing.flixster.com/SRSsOL6XEI3DAsufPdMcpJKrGvE=/178x270/v1.bTsxMTIxMDc1NjtqOzE3OTkwOzIwNDg7MTcyMTsyNjA4\"}, \"44\": {\"index\": 44, \"movie_title\": \"City for Conquest\", \"year\": 1940, \"href\": \"https://www.rottentomatoes.com/m/city_for_conquest/\", \"img\": \"https://resizing.flixster.com/JKS0H9CwjTOojIAH_zi7wLI8mGA=/180x240/v1.bTsxMTIxODI4MTtqOzE3OTU1OzIwNDg7MTUwMDsyMDAw\"}, \"43\": {\"index\": 43, \"movie_title\": \"I Am Ali\", \"year\": 2014, \"href\": \"https://www.rottentomatoes.com/m/i_am_ali/\", \"img\": \"https://resizing.flixster.com/M1fgAe9Kt7reRlw42vELsl79Wgs=/180x270/v1.bTsxMTE4MDg4NjtqOzE3OTU1OzIwNDg7ODAwOzEyMDA\"}, \"42\": {\"index\": 42, \"movie_title\": \"Let\\'s Do It Again\", \"year\": 1975, \"href\": \"https://www.rottentomatoes.com/m/lets_do_it_again/\", \"img\": \"https://resizing.flixster.com/Zo-G-2nvtDwqjNg0W_C0MW3G2fk=/180x240/v1.bTsxMTIwNDgwNDtqOzE3OTc4OzIwNDg7MTUzNjsyMDQ4\"}, \"41\": {\"index\": 41, \"movie_title\": \"Resurrecting the Champ\", \"year\": 2007, \"href\": \"https://www.rottentomatoes.com/m/resurrecting_the_champ/\", \"img\": \"https://resizing.flixster.com/qAK8Gx-gzC0xROexwqUMa_xYblQ=/180x240/v1.bTsxMTIxNzA1ODtqOzE3OTkyOzIwNDg7MTUzNjsyMDQ4\"}, \"40\": {\"index\": 40, \"movie_title\": \"Real Steel\", \"year\": 2011, \"href\": \"https://www.rottentomatoes.com/m/real_steel/\", \"img\": \"https://resizing.flixster.com/gWYRzcxeE5ZLxGyQEMexmXt-hhc=/180x240/v1.bTsxMTI0NDkxMTtqOzE3OTkxOzIwNDg7MTUzNjsyMDQ4\"}, \"39\": {\"index\": 39, \"movie_title\": \"Before the Fall (Napola)\", \"year\": 2004, \"href\": \"https://www.rottentomatoes.com/m/napola_elite_fur_den_fuhrer/\", \"img\": \"https://resizing.flixster.com/2uUnA0lHZq6GcNr0vCw8Ygj4UNU=/180x257/v1.bTsxMTYxNDAzNTtqOzE3OTg0OzIwNDg7NzYyOzEwODg\"}, \"38\": {\"index\": 38, \"movie_title\": \"Muhammad Ali, the Greatest\", \"year\": 1974, \"href\": \"https://www.rottentomatoes.com/m/muhammad_ali_the_greatest/\", \"img\": \"https://resizing.flixster.com/q0MrSrsO2HdblrzmsSKah9kmRUg=/180x240/v1.bTsxMTIyNzM5MDtqOzE3OTc0OzIwNDg7OTk2OzEzMjg\"}, \"37\": {\"index\": 37, \"movie_title\": \"On the Ropes\", \"year\": 1999, \"href\": \"https://www.rottentomatoes.com/m/on_the_ropes/\", \"img\": \"https://resizing.flixster.com/lF0-BAAZl7eRsYPKMhAsxZ4NUJc=/180x233/v1.bTsxMTYxNzU3ODtqOzE3OTcyOzIwNDg7NDY0OzYwMA\"}, \"36\": {\"index\": 36, \"movie_title\": \"Rocky III\", \"year\": 1982, \"href\": \"https://www.rottentomatoes.com/m/rocky_iii/\", \"img\": \"https://resizing.flixster.com/CzH7VHMSEpAmrrt5_GtDlGEUNnk=/180x240/v1.bTsxMTI5MDUyOTtqOzE3OTc5OzIwNDg7MTQxOTsxODky\"}, \"35\": {\"index\": 35, \"movie_title\": \"Battling Butler\", \"year\": 1926, \"href\": \"https://www.rottentomatoes.com/m/battling_butler/\", \"img\": \"https://resizing.flixster.com/Vk91HKVYbr6XKRsr96fJz6UEuFc=/180x240/v1.bTsxMTI5Nzk5OTtqOzE3OTc5OzIwNDg7OTk5OzEzMzI\"}, \"34\": {\"index\": 34, \"movie_title\": \"China Heavyweight\", \"year\": 2012, \"href\": \"https://www.rottentomatoes.com/m/china_heavyweight_2012/\", \"img\": \"https://resizing.flixster.com/KWHt-dU9kDf3WP_hSRawx6edrfU=/180x267/v1.bTsxMTE2NTc1MjtqOzE3OTg2OzIwNDg7MTk0NDsyODgw\"}, \"33\": {\"index\": 33, \"movie_title\": \"Ali\", \"year\": 2001, \"href\": \"https://www.rottentomatoes.com/m/ali/\", \"img\": \"https://resizing.flixster.com/_FshCvQGbuDPOMg1ZSK1Cf3fZtk=/180x240/v1.bTsxMTI5MTM3NDtqOzE3OTY5OzIwNDg7MjM5NzszMTk2\"}, \"32\": {\"index\": 32, \"movie_title\": \"Bleed For This\", \"year\": 2016, \"href\": \"https://www.rottentomatoes.com/m/bleed_for_this/\", \"img\": \"https://resizing.flixster.com/Fa5h3fKCaojbrj7oGQ3JoU9eCCk=/173x270/v1.bTsxMjI0NDY5MjtqOzE3OTI4OzIwNDg7MTkxNjsyOTg5\"}, \"31\": {\"index\": 31, \"movie_title\": \"Rocky II\", \"year\": 1979, \"href\": \"https://www.rottentomatoes.com/m/rocky_ii/\", \"img\": \"https://resizing.flixster.com/mHWXOy3xgyHMjrAuXstiHpMRKPE=/180x240/v1.bTsxMTYxNDQzNDtqOzE3OTc4OzIwNDg7NzIzOzk2NA\"}, \"30\": {\"index\": 30, \"movie_title\": \"The Ring\", \"year\": 1927, \"href\": \"https://www.rottentomatoes.com/m/1057839-ring/\", \"img\": \"https://resizing.flixster.com/_O2OWGA188sh8Wu8_bUqoKSiCpM=/180x259/v1.bTsxMTcwMTMxODtqOzE3ODc4OzIwNDg7Njk0OzEwMDA\"}, \"29\": {\"index\": 29, \"movie_title\": \"The Champ\", \"year\": 1931, \"href\": \"https://www.rottentomatoes.com/m/1030142-champ/\", \"img\": \"https://resizing.flixster.com/57YZmSdGJHumVzvlT8ywMLScOfE=/180x240/v1.bTsxMTIxODE5MDtqOzE3OTU0OzIwNDg7MTUzNjsyMDQ4\"}, \"28\": {\"index\": 28, \"movie_title\": \"The Hammer\", \"year\": 2007, \"href\": \"https://www.rottentomatoes.com/m/10009253-the_hammer/\", \"img\": \"https://resizing.flixster.com/DJGcG9aYbfMo0mzqrRjrfV8DZmI=/180x240/v1.bTsxMTIyNDA3OTtqOzE3OTkzOzIwNDg7MTUzNjsyMDQ4\"}, \"27\": {\"index\": 27, \"movie_title\": \"Rocky Balboa\", \"year\": 2006, \"href\": \"https://www.rottentomatoes.com/m/rocky_balboa/\", \"img\": \"https://resizing.flixster.com/JwoMsAbjtyRr3SMZRp5T0KzCY-0=/180x240/v1.bTsxMTIxNTU5NDtqOzE3OTY4OzIwNDg7MTUzNjsyMDQ4\"}, \"26\": {\"index\": 26, \"movie_title\": \"Somebody Up There Likes Me\", \"year\": 1956, \"href\": \"https://www.rottentomatoes.com/m/somebody_up_there_likes_me/\", \"img\": \"https://resizing.flixster.com/fWmigvo7I9txKjOKNhO0GzuTph4=/180x240/v1.bTsxMTI5Njg1MTtqOzE3OTU2OzIwNDg7MjI1MDszMDAw\"}, \"25\": {\"index\": 25, \"movie_title\": \"Chuck\", \"year\": 2017, \"href\": \"https://www.rottentomatoes.com/m/chuck/\", \"img\": \"https://resizing.flixster.com/pbsXSisYSvC1i63muv9tyjzrKYM=/180x267/v1.bTsxMjM3NDg2NDtqOzE3OTYyOzIwNDg7MjAyNTszMDAw\"}, \"24\": {\"index\": 24, \"movie_title\": \"The Boxer\", \"year\": 1997, \"href\": \"https://www.rottentomatoes.com/m/the_boxer/\", \"img\": \"https://resizing.flixster.com/qTYEKAFMgmloNK2xcm7xg7eiQpU=/180x240/v1.bTsxMTM3MjU5NjtqOzE3OTY3OzIwNDg7MTUzNjsyMDQ4\"}, \"23\": {\"index\": 23, \"movie_title\": \"Killer\\'s Kiss\", \"year\": 1955, \"href\": \"https://www.rottentomatoes.com/m/killers_kiss/\", \"img\": \"https://resizing.flixster.com/8Il1K7y0MJT__v--6-DWTN1-aLk=/180x240/v1.bTsxMTIxMTEwMztqOzE3OTc3OzIwNDg7MTUzNjsyMDQ4\"}, \"22\": {\"index\": 22, \"movie_title\": \"The Set-Up\", \"year\": 1949, \"href\": \"https://www.rottentomatoes.com/m/setup/\", \"img\": \"https://resizing.flixster.com/m2JUiCT77fbpag8MTi3_416c_lY=/180x240/v1.bTsxMTI5NjI2NztqOzE3OTU3OzIwNDg7MTUzNjsyMDQ4\"}, \"21\": {\"index\": 21, \"movie_title\": \"Cinderella Man\", \"year\": 2005, \"href\": \"https://www.rottentomatoes.com/m/cinderella_man/\", \"img\": \"https://resizing.flixster.com/qxsnhkygn5lAdE9Y-Qfuq69RSiU=/180x270/v1.bTsxMTE3MzcyMDtqOzE3OTg5OzIwNDg7ODAwOzEyMDA\"}, \"20\": {\"index\": 20, \"movie_title\": \"The Hurricane\", \"year\": 1999, \"href\": \"https://www.rottentomatoes.com/m/1093641-hurricane/\", \"img\": \"https://resizing.flixster.com/q-ycRBgRLnh48CdFtEPVxFQ4cWA=/180x270/v1.bTsxMTE3NTQ0MDtqOzE3OTU0OzIwNDg7ODAwOzEyMDA\"}, \"19\": {\"index\": 19, \"movie_title\": \"Tyson\", \"year\": 2009, \"href\": \"https://www.rottentomatoes.com/m/1208128-tyson/\", \"img\": \"https://resizing.flixster.com/FEtM84avVITc-CUiiGXNnwcHMo0=/180x240/v1.bTsxMTIzNTg4NztqOzE3OTY3OzIwNDg7MjkxMDszODgw\"}, \"18\": {\"index\": 18, \"movie_title\": \"Girlfight\", \"year\": 2000, \"href\": \"https://www.rottentomatoes.com/m/girlfight/\", \"img\": \"https://resizing.flixster.com/c2ztX3nTmNzo4jqPZI2cGit9y5E=/180x240/v1.bTsxMTI5MTU2MztqOzE3OTc4OzIwNDg7MTUzNjsyMDQ4\"}, \"17\": {\"index\": 17, \"movie_title\": \"Requiem for a Heavyweight\", \"year\": 1962, \"href\": \"https://www.rottentomatoes.com/m/1080265-requiem_for_a_heavyweight/\", \"img\": \"https://resizing.flixster.com/xHyWj5fv4LPTOglQAaN8-SsQDQE=/180x240/v1.bTsxMTIxNDM2NjtqOzE3OTU1OzIwNDg7MTgwMDsyNDAw\"}, \"16\": {\"index\": 16, \"movie_title\": \"Champion\", \"year\": 1949, \"href\": \"https://www.rottentomatoes.com/m/1003857-champion/\", \"img\": \"https://resizing.flixster.com/VtiD8vSkYsZmuQACV93ZcPxlQUA=/180x240/v1.bTsxMTYyMDM4NTtqOzE3OTg5OzIwNDg7NDk4OzY2NA\"}, \"15\": {\"index\": 15, \"movie_title\": \"Rocco and His Brothers (Rocco e i suoi fratelli)\", \"year\": 1961, \"href\": \"https://www.rottentomatoes.com/m/rocco_and_his_brothers/\", \"img\": \"https://resizing.flixster.com/sT0lrlewoGPThRe18W2UTusRYmo=/180x240/v1.bTsxMTIwNjQ2MDtqOzE3OTY5OzIwNDg7MTUzMDsyMDQw\"}, \"14\": {\"index\": 14, \"movie_title\": \"Knuckle\", \"year\": 2011, \"href\": \"https://www.rottentomatoes.com/m/knuckle_2011/\", \"img\": \"https://resizing.flixster.com/GRL01ggpvG-VYIrEnt_ylAvoOCE=/180x266/v1.bTsxMTE2MDM4MTtqOzE3OTcwOzIwNDg7NTExOzc1NQ\"}, \"13\": {\"index\": 13, \"movie_title\": \"The Fighter\", \"year\": 2010, \"href\": \"https://www.rottentomatoes.com/m/the_fighter_2011/\", \"img\": \"https://resizing.flixster.com/g4JHNUf9OYL1zsquMicEBcOT3tQ=/180x270/v1.bTsxMTE2ODkzOTtqOzE3OTc4OzIwNDg7ODAwOzEyMDA\"}, \"12\": {\"index\": 12, \"movie_title\": \"The Quiet Man\", \"year\": 1952, \"href\": \"https://www.rottentomatoes.com/m/quiet_man/\", \"img\": \"https://resizing.flixster.com/RZAg8TPNKxDDgXfijgDrY4wE3jc=/180x240/v1.bTsxMTIwNTgwOTtqOzE3OTkzOzIwNDg7MTUxMjsyMDE2\"}, \"11\": {\"index\": 11, \"movie_title\": \"Million Dollar Baby\", \"year\": 2004, \"href\": \"https://www.rottentomatoes.com/m/million_dollar_baby/\", \"img\": \"https://resizing.flixster.com/Ii6a6U9w2d941JjZYGOSzLDbfYE=/180x270/v1.bTsxMTE2ODEwNjtqOzE3OTU1OzIwNDg7ODAwOzEyMDA\"}, \"10\": {\"index\": 10, \"movie_title\": \"Rocky\", \"year\": 1976, \"href\": \"https://www.rottentomatoes.com/m/1017776-rocky/\", \"img\": \"https://resizing.flixster.com/Rydu3y8e-hRy1t-Qlf9jnYGU4hw=/180x240/v1.bTsxMTYxNDM4NTtqOzE3OTc0OzIwNDg7NzE0Ozk1Mg\"}, \"9\": {\"index\": 9, \"movie_title\": \"When We Were Kings\", \"year\": 1996, \"href\": \"https://www.rottentomatoes.com/m/when_we_were_kings/\", \"img\": \"https://resizing.flixster.com/Zbhz3FWNAdx8Cm_jJkRxAu2UNzw=/180x240/v1.bTsxMTYxNDY2NztqOzE3OTg2OzIwNDg7Nzk4OzEwNjQ\"}, \"8\": {\"index\": 8, \"movie_title\": \"Hard Times\", \"year\": 1975, \"href\": \"https://www.rottentomatoes.com/m/1009211-hard_times/\", \"img\": \"https://resizing.flixster.com/v9mlUOg57VH4rUsf-aQelYf-G-k=/180x240/v1.bTsxMTIwNDQzNztqOzE3OTcxOzIwNDg7MTUzNjsyMDQ4\"}, \"7\": {\"index\": 7, \"movie_title\": \"The Harder They Fall\", \"year\": 1956, \"href\": \"https://www.rottentomatoes.com/m/1009224-harder_they_fall/\", \"img\": \"https://resizing.flixster.com/Pq8NVi_HPIezfZBR--y8I5tMsy4=/180x240/v1.bTsxMTIwNjQyNDtqOzE3OTc4OzIwNDg7MTUzNjsyMDQ4\"}, \"6\": {\"index\": 6, \"movie_title\": \"Gentleman Jim\", \"year\": 1942, \"href\": \"https://www.rottentomatoes.com/m/gentleman_jim/\", \"img\": \"https://resizing.flixster.com/UK6ZmltQQR-BiMyNS8wzvjMyJ6g=/180x240/v1.bTsxMTIxOTQwODtqOzE3OTU3OzIwNDg7MTk5ODsyNjY0\"}, \"5\": {\"index\": 5, \"movie_title\": \"Body and Soul\", \"year\": 1947, \"href\": \"https://www.rottentomatoes.com/m/body_and_soul_1947/\", \"img\": \"https://resizing.flixster.com/PddNNauXF0BS4XSM2Wh-iGWaIFI=/180x240/v1.bTsxMTYyMDgwNTtqOzE3OTU5OzIwNDg7MzE1OzQyMA\"}, \"4\": {\"index\": 4, \"movie_title\": \"Raging Bull\", \"year\": 1980, \"href\": \"https://www.rottentomatoes.com/m/raging_bull/\", \"img\": \"https://resizing.flixster.com/mgbLDKJySlywJ2ZT63dkVlqCI64=/180x240/v1.bTsxMTI5MTgwOTtqOzE3OTU0OzIwNDg7MTUzNjsyMDQ4\"}, \"3\": {\"index\": 3, \"movie_title\": \"The Happiest Day in the Life of Olli M\\\\u00e4ki (Hymyilev\\\\u00e4 mies)\", \"year\": 2017, \"href\": \"https://www.rottentomatoes.com/m/the_happiest_day_in_the_life_of_olli_maki_2017/\", \"img\": \"https://resizing.flixster.com/AvX9luCheJyxB1oOR07vKf-lsw4=/180x264/v1.bTsxMjM1MDcxNztqOzE3OTM0OzIwNDg7NDUwOzY1OQ\"}, \"2\": {\"index\": 2, \"movie_title\": \"Fat City\", \"year\": 1972, \"href\": \"https://www.rottentomatoes.com/m/fat_city/\", \"img\": \"https://resizing.flixster.com/60eHpgKPod9B5vxBfyahvriztAA=/180x240/v1.bTsxMTIwODA3MDtqOzE3OTU5OzIwNDg7MTUzNjsyMDQ4\"}, \"1\": {\"index\": 1, \"movie_title\": \"Creed\", \"year\": 2015, \"href\": \"https://www.rottentomatoes.com/m/creed_2015/\", \"img\": \"https://resizing.flixster.com/gjV5dBNgv2mGgY4WAD-rt97cacc=/180x267/v1.bTsxMTIyNjAyNjtqOzE3OTYwOzIwNDg7NTc0Ozg1MQ\"}}']\n"
     ]
    }
   ],
   "source": [
    "with open('./best_boxing_movies.json') as f:\n",
    "    text = f.readlines()\n",
    "    print(text)"
   ]
  },
  {
   "cell_type": "code",
   "execution_count": 120,
   "metadata": {},
   "outputs": [
    {
     "name": "stdout",
     "output_type": "stream",
     "text": [
      "{\"52\": {\"index\": 52, \"movie_title\": \"Ring of Fire: The Emile Griffith Story\", \"year\": 2005, \"href\": \"https://www.rottentomatoes.com/m/ring_of_fire_the_emile_griffith_story/\", \"img\": \"https://resizing.flixster.com/Gl9mXPoif-6Gg8KhbWLReXQlmF8=/180x254/v1.bTsxMTIxMTcwNTtqOzE3OTQ5OzIwNDg7MTUxNTsyMTM1\"}, \"51\": {\"index\": 51, \"movie_title\": \"Fighting Tommy Riley\", \"year\": 2005, \"href\": \"https://www.rottentomatoes.com/m/fighting_tommy_riley/\", \"img\": \"https://resizing.flixster.com/Z2ILsbuexNUufl4a530N5fCyc5A=/180x252/v1.bTsxMTIwOTg1NTtqOzE3OTg5OzIwNDg7MTUwNzsyMTEz\"}, \"50\": {\"index\": 50, \"movie_title\": \"Unforgivable Blackness: The Rise and Fall of Jack Johnson\", \"year\": 2004, \"href\": \"https://www.rottentomatoes.com/m/unforgivable_blackness_the_rise_and_fall_of_jack_johnson/\", \"img\": \"https://resizing.flixster.com/S0l6Z7ML4f_jLhJ-PP8JAQp9lhM=/144x196/v1.bTsxMjE2NTEyMDtqOzE3ODcwOzIwNDg7MTQ0OzE5Ng\"}, \"49\": {\"index\": 49, \"movie_title\": \"Two Fists, One Heart\", \"year\": 2009, \"href\": \"https://www.rottentomatoes.com/m/two-fists-one-heart/\", \"img\": \"https://resizing.flixster.com/2-5WLOPTyUbRrDjB3IjiCoix7g0=/180x270/v1.bTsxMjkxMzk0ODtqOzE3OTUyOzIwNDg7MjAwOzMwMA\"}, \"48\": {\"index\": 48, \"movie_title\": \"Blue Blood\", \"year\": 2006, \"href\": \"https://www.rottentomatoes.com/m/blue_blood-2006/\", \"img\": \"https://resizing.flixster.com/iL5x-xpPJCpckmE7MdmCd7GkXUg=/180x135/v1.bTsxMTE3ODA2MTtwOzE3OTY1OzIwNDg7NDQ4OzMzNw\"}, \"47\": {\"index\": 47, \"movie_title\": \"Kids Return\", \"year\": 1996, \"href\": \"https://www.rottentomatoes.com/m/kids_return/\", \"img\": \"https://resizing.flixster.com/0fhrpj3mqvRP8nS5rKWRaPW7fzI=/180x245/v1.bTsxMTYxNzY2MTtqOzE3OTY1OzIwNDg7MzQ5OzQ3NQ\"}, \"46\": {\"index\": 46, \"movie_title\": \"The Good Son: The Life of Ray Boom Boom Mancini\", \"year\": 2013, \"href\": \"https://www.rottentomatoes.com/m/the_good_son_the_life_of_ray_boom_boom_mancini/\", \"img\": \"https://resizing.flixster.com/yupkAdeO0c95O1IyjtzgineNO8Y=/179x270/v1.bTsxMTE3MjI1OTtqOzE3OTY4OzIwNDg7NTAwOzc1NQ\"}, \"45\": {\"index\": 45, \"movie_title\": \"The Kid From Brooklyn\", \"year\": 1946, \"href\": \"https://www.rottentomatoes.com/m/the_kid_from_brooklyn_1946/\", \"img\": \"https://resizing.flixster.com/SRSsOL6XEI3DAsufPdMcpJKrGvE=/178x270/v1.bTsxMTIxMDc1NjtqOzE3OTkwOzIwNDg7MTcyMTsyNjA4\"}, \"44\": {\"index\": 44, \"movie_title\": \"City for Conquest\", \"year\": 1940, \"href\": \"https://www.rottentomatoes.com/m/city_for_conquest/\", \"img\": \"https://resizing.flixster.com/JKS0H9CwjTOojIAH_zi7wLI8mGA=/180x240/v1.bTsxMTIxODI4MTtqOzE3OTU1OzIwNDg7MTUwMDsyMDAw\"}, \"43\": {\"index\": 43, \"movie_title\": \"I Am Ali\", \"year\": 2014, \"href\": \"https://www.rottentomatoes.com/m/i_am_ali/\", \"img\": \"https://resizing.flixster.com/M1fgAe9Kt7reRlw42vELsl79Wgs=/180x270/v1.bTsxMTE4MDg4NjtqOzE3OTU1OzIwNDg7ODAwOzEyMDA\"}, \"42\": {\"index\": 42, \"movie_title\": \"Let's Do It Again\", \"year\": 1975, \"href\": \"https://www.rottentomatoes.com/m/lets_do_it_again/\", \"img\": \"https://resizing.flixster.com/Zo-G-2nvtDwqjNg0W_C0MW3G2fk=/180x240/v1.bTsxMTIwNDgwNDtqOzE3OTc4OzIwNDg7MTUzNjsyMDQ4\"}, \"41\": {\"index\": 41, \"movie_title\": \"Resurrecting the Champ\", \"year\": 2007, \"href\": \"https://www.rottentomatoes.com/m/resurrecting_the_champ/\", \"img\": \"https://resizing.flixster.com/qAK8Gx-gzC0xROexwqUMa_xYblQ=/180x240/v1.bTsxMTIxNzA1ODtqOzE3OTkyOzIwNDg7MTUzNjsyMDQ4\"}, \"40\": {\"index\": 40, \"movie_title\": \"Real Steel\", \"year\": 2011, \"href\": \"https://www.rottentomatoes.com/m/real_steel/\", \"img\": \"https://resizing.flixster.com/gWYRzcxeE5ZLxGyQEMexmXt-hhc=/180x240/v1.bTsxMTI0NDkxMTtqOzE3OTkxOzIwNDg7MTUzNjsyMDQ4\"}, \"39\": {\"index\": 39, \"movie_title\": \"Before the Fall (Napola)\", \"year\": 2004, \"href\": \"https://www.rottentomatoes.com/m/napola_elite_fur_den_fuhrer/\", \"img\": \"https://resizing.flixster.com/2uUnA0lHZq6GcNr0vCw8Ygj4UNU=/180x257/v1.bTsxMTYxNDAzNTtqOzE3OTg0OzIwNDg7NzYyOzEwODg\"}, \"38\": {\"index\": 38, \"movie_title\": \"Muhammad Ali, the Greatest\", \"year\": 1974, \"href\": \"https://www.rottentomatoes.com/m/muhammad_ali_the_greatest/\", \"img\": \"https://resizing.flixster.com/q0MrSrsO2HdblrzmsSKah9kmRUg=/180x240/v1.bTsxMTIyNzM5MDtqOzE3OTc0OzIwNDg7OTk2OzEzMjg\"}, \"37\": {\"index\": 37, \"movie_title\": \"On the Ropes\", \"year\": 1999, \"href\": \"https://www.rottentomatoes.com/m/on_the_ropes/\", \"img\": \"https://resizing.flixster.com/lF0-BAAZl7eRsYPKMhAsxZ4NUJc=/180x233/v1.bTsxMTYxNzU3ODtqOzE3OTcyOzIwNDg7NDY0OzYwMA\"}, \"36\": {\"index\": 36, \"movie_title\": \"Rocky III\", \"year\": 1982, \"href\": \"https://www.rottentomatoes.com/m/rocky_iii/\", \"img\": \"https://resizing.flixster.com/CzH7VHMSEpAmrrt5_GtDlGEUNnk=/180x240/v1.bTsxMTI5MDUyOTtqOzE3OTc5OzIwNDg7MTQxOTsxODky\"}, \"35\": {\"index\": 35, \"movie_title\": \"Battling Butler\", \"year\": 1926, \"href\": \"https://www.rottentomatoes.com/m/battling_butler/\", \"img\": \"https://resizing.flixster.com/Vk91HKVYbr6XKRsr96fJz6UEuFc=/180x240/v1.bTsxMTI5Nzk5OTtqOzE3OTc5OzIwNDg7OTk5OzEzMzI\"}, \"34\": {\"index\": 34, \"movie_title\": \"China Heavyweight\", \"year\": 2012, \"href\": \"https://www.rottentomatoes.com/m/china_heavyweight_2012/\", \"img\": \"https://resizing.flixster.com/KWHt-dU9kDf3WP_hSRawx6edrfU=/180x267/v1.bTsxMTE2NTc1MjtqOzE3OTg2OzIwNDg7MTk0NDsyODgw\"}, \"33\": {\"index\": 33, \"movie_title\": \"Ali\", \"year\": 2001, \"href\": \"https://www.rottentomatoes.com/m/ali/\", \"img\": \"https://resizing.flixster.com/_FshCvQGbuDPOMg1ZSK1Cf3fZtk=/180x240/v1.bTsxMTI5MTM3NDtqOzE3OTY5OzIwNDg7MjM5NzszMTk2\"}, \"32\": {\"index\": 32, \"movie_title\": \"Bleed For This\", \"year\": 2016, \"href\": \"https://www.rottentomatoes.com/m/bleed_for_this/\", \"img\": \"https://resizing.flixster.com/Fa5h3fKCaojbrj7oGQ3JoU9eCCk=/173x270/v1.bTsxMjI0NDY5MjtqOzE3OTI4OzIwNDg7MTkxNjsyOTg5\"}, \"31\": {\"index\": 31, \"movie_title\": \"Rocky II\", \"year\": 1979, \"href\": \"https://www.rottentomatoes.com/m/rocky_ii/\", \"img\": \"https://resizing.flixster.com/mHWXOy3xgyHMjrAuXstiHpMRKPE=/180x240/v1.bTsxMTYxNDQzNDtqOzE3OTc4OzIwNDg7NzIzOzk2NA\"}, \"30\": {\"index\": 30, \"movie_title\": \"The Ring\", \"year\": 1927, \"href\": \"https://www.rottentomatoes.com/m/1057839-ring/\", \"img\": \"https://resizing.flixster.com/_O2OWGA188sh8Wu8_bUqoKSiCpM=/180x259/v1.bTsxMTcwMTMxODtqOzE3ODc4OzIwNDg7Njk0OzEwMDA\"}, \"29\": {\"index\": 29, \"movie_title\": \"The Champ\", \"year\": 1931, \"href\": \"https://www.rottentomatoes.com/m/1030142-champ/\", \"img\": \"https://resizing.flixster.com/57YZmSdGJHumVzvlT8ywMLScOfE=/180x240/v1.bTsxMTIxODE5MDtqOzE3OTU0OzIwNDg7MTUzNjsyMDQ4\"}, \"28\": {\"index\": 28, \"movie_title\": \"The Hammer\", \"year\": 2007, \"href\": \"https://www.rottentomatoes.com/m/10009253-the_hammer/\", \"img\": \"https://resizing.flixster.com/DJGcG9aYbfMo0mzqrRjrfV8DZmI=/180x240/v1.bTsxMTIyNDA3OTtqOzE3OTkzOzIwNDg7MTUzNjsyMDQ4\"}, \"27\": {\"index\": 27, \"movie_title\": \"Rocky Balboa\", \"year\": 2006, \"href\": \"https://www.rottentomatoes.com/m/rocky_balboa/\", \"img\": \"https://resizing.flixster.com/JwoMsAbjtyRr3SMZRp5T0KzCY-0=/180x240/v1.bTsxMTIxNTU5NDtqOzE3OTY4OzIwNDg7MTUzNjsyMDQ4\"}, \"26\": {\"index\": 26, \"movie_title\": \"Somebody Up There Likes Me\", \"year\": 1956, \"href\": \"https://www.rottentomatoes.com/m/somebody_up_there_likes_me/\", \"img\": \"https://resizing.flixster.com/fWmigvo7I9txKjOKNhO0GzuTph4=/180x240/v1.bTsxMTI5Njg1MTtqOzE3OTU2OzIwNDg7MjI1MDszMDAw\"}, \"25\": {\"index\": 25, \"movie_title\": \"Chuck\", \"year\": 2017, \"href\": \"https://www.rottentomatoes.com/m/chuck/\", \"img\": \"https://resizing.flixster.com/pbsXSisYSvC1i63muv9tyjzrKYM=/180x267/v1.bTsxMjM3NDg2NDtqOzE3OTYyOzIwNDg7MjAyNTszMDAw\"}, \"24\": {\"index\": 24, \"movie_title\": \"The Boxer\", \"year\": 1997, \"href\": \"https://www.rottentomatoes.com/m/the_boxer/\", \"img\": \"https://resizing.flixster.com/qTYEKAFMgmloNK2xcm7xg7eiQpU=/180x240/v1.bTsxMTM3MjU5NjtqOzE3OTY3OzIwNDg7MTUzNjsyMDQ4\"}, \"23\": {\"index\": 23, \"movie_title\": \"Killer's Kiss\", \"year\": 1955, \"href\": \"https://www.rottentomatoes.com/m/killers_kiss/\", \"img\": \"https://resizing.flixster.com/8Il1K7y0MJT__v--6-DWTN1-aLk=/180x240/v1.bTsxMTIxMTEwMztqOzE3OTc3OzIwNDg7MTUzNjsyMDQ4\"}, \"22\": {\"index\": 22, \"movie_title\": \"The Set-Up\", \"year\": 1949, \"href\": \"https://www.rottentomatoes.com/m/setup/\", \"img\": \"https://resizing.flixster.com/m2JUiCT77fbpag8MTi3_416c_lY=/180x240/v1.bTsxMTI5NjI2NztqOzE3OTU3OzIwNDg7MTUzNjsyMDQ4\"}, \"21\": {\"index\": 21, \"movie_title\": \"Cinderella Man\", \"year\": 2005, \"href\": \"https://www.rottentomatoes.com/m/cinderella_man/\", \"img\": \"https://resizing.flixster.com/qxsnhkygn5lAdE9Y-Qfuq69RSiU=/180x270/v1.bTsxMTE3MzcyMDtqOzE3OTg5OzIwNDg7ODAwOzEyMDA\"}, \"20\": {\"index\": 20, \"movie_title\": \"The Hurricane\", \"year\": 1999, \"href\": \"https://www.rottentomatoes.com/m/1093641-hurricane/\", \"img\": \"https://resizing.flixster.com/q-ycRBgRLnh48CdFtEPVxFQ4cWA=/180x270/v1.bTsxMTE3NTQ0MDtqOzE3OTU0OzIwNDg7ODAwOzEyMDA\"}, \"19\": {\"index\": 19, \"movie_title\": \"Tyson\", \"year\": 2009, \"href\": \"https://www.rottentomatoes.com/m/1208128-tyson/\", \"img\": \"https://resizing.flixster.com/FEtM84avVITc-CUiiGXNnwcHMo0=/180x240/v1.bTsxMTIzNTg4NztqOzE3OTY3OzIwNDg7MjkxMDszODgw\"}, \"18\": {\"index\": 18, \"movie_title\": \"Girlfight\", \"year\": 2000, \"href\": \"https://www.rottentomatoes.com/m/girlfight/\", \"img\": \"https://resizing.flixster.com/c2ztX3nTmNzo4jqPZI2cGit9y5E=/180x240/v1.bTsxMTI5MTU2MztqOzE3OTc4OzIwNDg7MTUzNjsyMDQ4\"}, \"17\": {\"index\": 17, \"movie_title\": \"Requiem for a Heavyweight\", \"year\": 1962, \"href\": \"https://www.rottentomatoes.com/m/1080265-requiem_for_a_heavyweight/\", \"img\": \"https://resizing.flixster.com/xHyWj5fv4LPTOglQAaN8-SsQDQE=/180x240/v1.bTsxMTIxNDM2NjtqOzE3OTU1OzIwNDg7MTgwMDsyNDAw\"}, \"16\": {\"index\": 16, \"movie_title\": \"Champion\", \"year\": 1949, \"href\": \"https://www.rottentomatoes.com/m/1003857-champion/\", \"img\": \"https://resizing.flixster.com/VtiD8vSkYsZmuQACV93ZcPxlQUA=/180x240/v1.bTsxMTYyMDM4NTtqOzE3OTg5OzIwNDg7NDk4OzY2NA\"}, \"15\": {\"index\": 15, \"movie_title\": \"Rocco and His Brothers (Rocco e i suoi fratelli)\", \"year\": 1961, \"href\": \"https://www.rottentomatoes.com/m/rocco_and_his_brothers/\", \"img\": \"https://resizing.flixster.com/sT0lrlewoGPThRe18W2UTusRYmo=/180x240/v1.bTsxMTIwNjQ2MDtqOzE3OTY5OzIwNDg7MTUzMDsyMDQw\"}, \"14\": {\"index\": 14, \"movie_title\": \"Knuckle\", \"year\": 2011, \"href\": \"https://www.rottentomatoes.com/m/knuckle_2011/\", \"img\": \"https://resizing.flixster.com/GRL01ggpvG-VYIrEnt_ylAvoOCE=/180x266/v1.bTsxMTE2MDM4MTtqOzE3OTcwOzIwNDg7NTExOzc1NQ\"}, \"13\": {\"index\": 13, \"movie_title\": \"The Fighter\", \"year\": 2010, \"href\": \"https://www.rottentomatoes.com/m/the_fighter_2011/\", \"img\": \"https://resizing.flixster.com/g4JHNUf9OYL1zsquMicEBcOT3tQ=/180x270/v1.bTsxMTE2ODkzOTtqOzE3OTc4OzIwNDg7ODAwOzEyMDA\"}, \"12\": {\"index\": 12, \"movie_title\": \"The Quiet Man\", \"year\": 1952, \"href\": \"https://www.rottentomatoes.com/m/quiet_man/\", \"img\": \"https://resizing.flixster.com/RZAg8TPNKxDDgXfijgDrY4wE3jc=/180x240/v1.bTsxMTIwNTgwOTtqOzE3OTkzOzIwNDg7MTUxMjsyMDE2\"}, \"11\": {\"index\": 11, \"movie_title\": \"Million Dollar Baby\", \"year\": 2004, \"href\": \"https://www.rottentomatoes.com/m/million_dollar_baby/\", \"img\": \"https://resizing.flixster.com/Ii6a6U9w2d941JjZYGOSzLDbfYE=/180x270/v1.bTsxMTE2ODEwNjtqOzE3OTU1OzIwNDg7ODAwOzEyMDA\"}, \"10\": {\"index\": 10, \"movie_title\": \"Rocky\", \"year\": 1976, \"href\": \"https://www.rottentomatoes.com/m/1017776-rocky/\", \"img\": \"https://resizing.flixster.com/Rydu3y8e-hRy1t-Qlf9jnYGU4hw=/180x240/v1.bTsxMTYxNDM4NTtqOzE3OTc0OzIwNDg7NzE0Ozk1Mg\"}, \"9\": {\"index\": 9, \"movie_title\": \"When We Were Kings\", \"year\": 1996, \"href\": \"https://www.rottentomatoes.com/m/when_we_were_kings/\", \"img\": \"https://resizing.flixster.com/Zbhz3FWNAdx8Cm_jJkRxAu2UNzw=/180x240/v1.bTsxMTYxNDY2NztqOzE3OTg2OzIwNDg7Nzk4OzEwNjQ\"}, \"8\": {\"index\": 8, \"movie_title\": \"Hard Times\", \"year\": 1975, \"href\": \"https://www.rottentomatoes.com/m/1009211-hard_times/\", \"img\": \"https://resizing.flixster.com/v9mlUOg57VH4rUsf-aQelYf-G-k=/180x240/v1.bTsxMTIwNDQzNztqOzE3OTcxOzIwNDg7MTUzNjsyMDQ4\"}, \"7\": {\"index\": 7, \"movie_title\": \"The Harder They Fall\", \"year\": 1956, \"href\": \"https://www.rottentomatoes.com/m/1009224-harder_they_fall/\", \"img\": \"https://resizing.flixster.com/Pq8NVi_HPIezfZBR--y8I5tMsy4=/180x240/v1.bTsxMTIwNjQyNDtqOzE3OTc4OzIwNDg7MTUzNjsyMDQ4\"}, \"6\": {\"index\": 6, \"movie_title\": \"Gentleman Jim\", \"year\": 1942, \"href\": \"https://www.rottentomatoes.com/m/gentleman_jim/\", \"img\": \"https://resizing.flixster.com/UK6ZmltQQR-BiMyNS8wzvjMyJ6g=/180x240/v1.bTsxMTIxOTQwODtqOzE3OTU3OzIwNDg7MTk5ODsyNjY0\"}, \"5\": {\"index\": 5, \"movie_title\": \"Body and Soul\", \"year\": 1947, \"href\": \"https://www.rottentomatoes.com/m/body_and_soul_1947/\", \"img\": \"https://resizing.flixster.com/PddNNauXF0BS4XSM2Wh-iGWaIFI=/180x240/v1.bTsxMTYyMDgwNTtqOzE3OTU5OzIwNDg7MzE1OzQyMA\"}, \"4\": {\"index\": 4, \"movie_title\": \"Raging Bull\", \"year\": 1980, \"href\": \"https://www.rottentomatoes.com/m/raging_bull/\", \"img\": \"https://resizing.flixster.com/mgbLDKJySlywJ2ZT63dkVlqCI64=/180x240/v1.bTsxMTI5MTgwOTtqOzE3OTU0OzIwNDg7MTUzNjsyMDQ4\"}, \"3\": {\"index\": 3, \"movie_title\": \"The Happiest Day in the Life of Olli M\\u00e4ki (Hymyilev\\u00e4 mies)\", \"year\": 2017, \"href\": \"https://www.rottentomatoes.com/m/the_happiest_day_in_the_life_of_olli_maki_2017/\", \"img\": \"https://resizing.flixster.com/AvX9luCheJyxB1oOR07vKf-lsw4=/180x264/v1.bTsxMjM1MDcxNztqOzE3OTM0OzIwNDg7NDUwOzY1OQ\"}, \"2\": {\"index\": 2, \"movie_title\": \"Fat City\", \"year\": 1972, \"href\": \"https://www.rottentomatoes.com/m/fat_city/\", \"img\": \"https://resizing.flixster.com/60eHpgKPod9B5vxBfyahvriztAA=/180x240/v1.bTsxMTIwODA3MDtqOzE3OTU5OzIwNDg7MTUzNjsyMDQ4\"}, \"1\": {\"index\": 1, \"movie_title\": \"Creed\", \"year\": 2015, \"href\": \"https://www.rottentomatoes.com/m/creed_2015/\", \"img\": \"https://resizing.flixster.com/gjV5dBNgv2mGgY4WAD-rt97cacc=/180x267/v1.bTsxMTIyNjAyNjtqOzE3OTYwOzIwNDg7NTc0Ozg1MQ\"}}\n"
     ]
    }
   ],
   "source": [
    "for i in text:\n",
    "    print(i)"
   ]
  },
  {
   "cell_type": "code",
   "execution_count": 121,
   "metadata": {},
   "outputs": [],
   "source": [
    "import json"
   ]
  },
  {
   "cell_type": "code",
   "execution_count": 125,
   "metadata": {},
   "outputs": [],
   "source": [
    "with open('best_boxing_movies.json', 'r') as f:\n",
    "    json_to_dict = json.load(f)"
   ]
  },
  {
   "cell_type": "code",
   "execution_count": 126,
   "metadata": {},
   "outputs": [
    {
     "data": {
      "text/plain": [
       "{'1': {'href': 'https://www.rottentomatoes.com/m/creed_2015/',\n",
       "  'img': 'https://resizing.flixster.com/gjV5dBNgv2mGgY4WAD-rt97cacc=/180x267/v1.bTsxMTIyNjAyNjtqOzE3OTYwOzIwNDg7NTc0Ozg1MQ',\n",
       "  'index': 1,\n",
       "  'movie_title': 'Creed',\n",
       "  'year': 2015},\n",
       " '10': {'href': 'https://www.rottentomatoes.com/m/1017776-rocky/',\n",
       "  'img': 'https://resizing.flixster.com/Rydu3y8e-hRy1t-Qlf9jnYGU4hw=/180x240/v1.bTsxMTYxNDM4NTtqOzE3OTc0OzIwNDg7NzE0Ozk1Mg',\n",
       "  'index': 10,\n",
       "  'movie_title': 'Rocky',\n",
       "  'year': 1976},\n",
       " '11': {'href': 'https://www.rottentomatoes.com/m/million_dollar_baby/',\n",
       "  'img': 'https://resizing.flixster.com/Ii6a6U9w2d941JjZYGOSzLDbfYE=/180x270/v1.bTsxMTE2ODEwNjtqOzE3OTU1OzIwNDg7ODAwOzEyMDA',\n",
       "  'index': 11,\n",
       "  'movie_title': 'Million Dollar Baby',\n",
       "  'year': 2004},\n",
       " '12': {'href': 'https://www.rottentomatoes.com/m/quiet_man/',\n",
       "  'img': 'https://resizing.flixster.com/RZAg8TPNKxDDgXfijgDrY4wE3jc=/180x240/v1.bTsxMTIwNTgwOTtqOzE3OTkzOzIwNDg7MTUxMjsyMDE2',\n",
       "  'index': 12,\n",
       "  'movie_title': 'The Quiet Man',\n",
       "  'year': 1952},\n",
       " '13': {'href': 'https://www.rottentomatoes.com/m/the_fighter_2011/',\n",
       "  'img': 'https://resizing.flixster.com/g4JHNUf9OYL1zsquMicEBcOT3tQ=/180x270/v1.bTsxMTE2ODkzOTtqOzE3OTc4OzIwNDg7ODAwOzEyMDA',\n",
       "  'index': 13,\n",
       "  'movie_title': 'The Fighter',\n",
       "  'year': 2010},\n",
       " '14': {'href': 'https://www.rottentomatoes.com/m/knuckle_2011/',\n",
       "  'img': 'https://resizing.flixster.com/GRL01ggpvG-VYIrEnt_ylAvoOCE=/180x266/v1.bTsxMTE2MDM4MTtqOzE3OTcwOzIwNDg7NTExOzc1NQ',\n",
       "  'index': 14,\n",
       "  'movie_title': 'Knuckle',\n",
       "  'year': 2011},\n",
       " '15': {'href': 'https://www.rottentomatoes.com/m/rocco_and_his_brothers/',\n",
       "  'img': 'https://resizing.flixster.com/sT0lrlewoGPThRe18W2UTusRYmo=/180x240/v1.bTsxMTIwNjQ2MDtqOzE3OTY5OzIwNDg7MTUzMDsyMDQw',\n",
       "  'index': 15,\n",
       "  'movie_title': 'Rocco and His Brothers (Rocco e i suoi fratelli)',\n",
       "  'year': 1961},\n",
       " '16': {'href': 'https://www.rottentomatoes.com/m/1003857-champion/',\n",
       "  'img': 'https://resizing.flixster.com/VtiD8vSkYsZmuQACV93ZcPxlQUA=/180x240/v1.bTsxMTYyMDM4NTtqOzE3OTg5OzIwNDg7NDk4OzY2NA',\n",
       "  'index': 16,\n",
       "  'movie_title': 'Champion',\n",
       "  'year': 1949},\n",
       " '17': {'href': 'https://www.rottentomatoes.com/m/1080265-requiem_for_a_heavyweight/',\n",
       "  'img': 'https://resizing.flixster.com/xHyWj5fv4LPTOglQAaN8-SsQDQE=/180x240/v1.bTsxMTIxNDM2NjtqOzE3OTU1OzIwNDg7MTgwMDsyNDAw',\n",
       "  'index': 17,\n",
       "  'movie_title': 'Requiem for a Heavyweight',\n",
       "  'year': 1962},\n",
       " '18': {'href': 'https://www.rottentomatoes.com/m/girlfight/',\n",
       "  'img': 'https://resizing.flixster.com/c2ztX3nTmNzo4jqPZI2cGit9y5E=/180x240/v1.bTsxMTI5MTU2MztqOzE3OTc4OzIwNDg7MTUzNjsyMDQ4',\n",
       "  'index': 18,\n",
       "  'movie_title': 'Girlfight',\n",
       "  'year': 2000},\n",
       " '19': {'href': 'https://www.rottentomatoes.com/m/1208128-tyson/',\n",
       "  'img': 'https://resizing.flixster.com/FEtM84avVITc-CUiiGXNnwcHMo0=/180x240/v1.bTsxMTIzNTg4NztqOzE3OTY3OzIwNDg7MjkxMDszODgw',\n",
       "  'index': 19,\n",
       "  'movie_title': 'Tyson',\n",
       "  'year': 2009},\n",
       " '2': {'href': 'https://www.rottentomatoes.com/m/fat_city/',\n",
       "  'img': 'https://resizing.flixster.com/60eHpgKPod9B5vxBfyahvriztAA=/180x240/v1.bTsxMTIwODA3MDtqOzE3OTU5OzIwNDg7MTUzNjsyMDQ4',\n",
       "  'index': 2,\n",
       "  'movie_title': 'Fat City',\n",
       "  'year': 1972},\n",
       " '20': {'href': 'https://www.rottentomatoes.com/m/1093641-hurricane/',\n",
       "  'img': 'https://resizing.flixster.com/q-ycRBgRLnh48CdFtEPVxFQ4cWA=/180x270/v1.bTsxMTE3NTQ0MDtqOzE3OTU0OzIwNDg7ODAwOzEyMDA',\n",
       "  'index': 20,\n",
       "  'movie_title': 'The Hurricane',\n",
       "  'year': 1999},\n",
       " '21': {'href': 'https://www.rottentomatoes.com/m/cinderella_man/',\n",
       "  'img': 'https://resizing.flixster.com/qxsnhkygn5lAdE9Y-Qfuq69RSiU=/180x270/v1.bTsxMTE3MzcyMDtqOzE3OTg5OzIwNDg7ODAwOzEyMDA',\n",
       "  'index': 21,\n",
       "  'movie_title': 'Cinderella Man',\n",
       "  'year': 2005},\n",
       " '22': {'href': 'https://www.rottentomatoes.com/m/setup/',\n",
       "  'img': 'https://resizing.flixster.com/m2JUiCT77fbpag8MTi3_416c_lY=/180x240/v1.bTsxMTI5NjI2NztqOzE3OTU3OzIwNDg7MTUzNjsyMDQ4',\n",
       "  'index': 22,\n",
       "  'movie_title': 'The Set-Up',\n",
       "  'year': 1949},\n",
       " '23': {'href': 'https://www.rottentomatoes.com/m/killers_kiss/',\n",
       "  'img': 'https://resizing.flixster.com/8Il1K7y0MJT__v--6-DWTN1-aLk=/180x240/v1.bTsxMTIxMTEwMztqOzE3OTc3OzIwNDg7MTUzNjsyMDQ4',\n",
       "  'index': 23,\n",
       "  'movie_title': \"Killer's Kiss\",\n",
       "  'year': 1955},\n",
       " '24': {'href': 'https://www.rottentomatoes.com/m/the_boxer/',\n",
       "  'img': 'https://resizing.flixster.com/qTYEKAFMgmloNK2xcm7xg7eiQpU=/180x240/v1.bTsxMTM3MjU5NjtqOzE3OTY3OzIwNDg7MTUzNjsyMDQ4',\n",
       "  'index': 24,\n",
       "  'movie_title': 'The Boxer',\n",
       "  'year': 1997},\n",
       " '25': {'href': 'https://www.rottentomatoes.com/m/chuck/',\n",
       "  'img': 'https://resizing.flixster.com/pbsXSisYSvC1i63muv9tyjzrKYM=/180x267/v1.bTsxMjM3NDg2NDtqOzE3OTYyOzIwNDg7MjAyNTszMDAw',\n",
       "  'index': 25,\n",
       "  'movie_title': 'Chuck',\n",
       "  'year': 2017},\n",
       " '26': {'href': 'https://www.rottentomatoes.com/m/somebody_up_there_likes_me/',\n",
       "  'img': 'https://resizing.flixster.com/fWmigvo7I9txKjOKNhO0GzuTph4=/180x240/v1.bTsxMTI5Njg1MTtqOzE3OTU2OzIwNDg7MjI1MDszMDAw',\n",
       "  'index': 26,\n",
       "  'movie_title': 'Somebody Up There Likes Me',\n",
       "  'year': 1956},\n",
       " '27': {'href': 'https://www.rottentomatoes.com/m/rocky_balboa/',\n",
       "  'img': 'https://resizing.flixster.com/JwoMsAbjtyRr3SMZRp5T0KzCY-0=/180x240/v1.bTsxMTIxNTU5NDtqOzE3OTY4OzIwNDg7MTUzNjsyMDQ4',\n",
       "  'index': 27,\n",
       "  'movie_title': 'Rocky Balboa',\n",
       "  'year': 2006},\n",
       " '28': {'href': 'https://www.rottentomatoes.com/m/10009253-the_hammer/',\n",
       "  'img': 'https://resizing.flixster.com/DJGcG9aYbfMo0mzqrRjrfV8DZmI=/180x240/v1.bTsxMTIyNDA3OTtqOzE3OTkzOzIwNDg7MTUzNjsyMDQ4',\n",
       "  'index': 28,\n",
       "  'movie_title': 'The Hammer',\n",
       "  'year': 2007},\n",
       " '29': {'href': 'https://www.rottentomatoes.com/m/1030142-champ/',\n",
       "  'img': 'https://resizing.flixster.com/57YZmSdGJHumVzvlT8ywMLScOfE=/180x240/v1.bTsxMTIxODE5MDtqOzE3OTU0OzIwNDg7MTUzNjsyMDQ4',\n",
       "  'index': 29,\n",
       "  'movie_title': 'The Champ',\n",
       "  'year': 1931},\n",
       " '3': {'href': 'https://www.rottentomatoes.com/m/the_happiest_day_in_the_life_of_olli_maki_2017/',\n",
       "  'img': 'https://resizing.flixster.com/AvX9luCheJyxB1oOR07vKf-lsw4=/180x264/v1.bTsxMjM1MDcxNztqOzE3OTM0OzIwNDg7NDUwOzY1OQ',\n",
       "  'index': 3,\n",
       "  'movie_title': 'The Happiest Day in the Life of Olli Mäki (Hymyilevä mies)',\n",
       "  'year': 2017},\n",
       " '30': {'href': 'https://www.rottentomatoes.com/m/1057839-ring/',\n",
       "  'img': 'https://resizing.flixster.com/_O2OWGA188sh8Wu8_bUqoKSiCpM=/180x259/v1.bTsxMTcwMTMxODtqOzE3ODc4OzIwNDg7Njk0OzEwMDA',\n",
       "  'index': 30,\n",
       "  'movie_title': 'The Ring',\n",
       "  'year': 1927},\n",
       " '31': {'href': 'https://www.rottentomatoes.com/m/rocky_ii/',\n",
       "  'img': 'https://resizing.flixster.com/mHWXOy3xgyHMjrAuXstiHpMRKPE=/180x240/v1.bTsxMTYxNDQzNDtqOzE3OTc4OzIwNDg7NzIzOzk2NA',\n",
       "  'index': 31,\n",
       "  'movie_title': 'Rocky II',\n",
       "  'year': 1979},\n",
       " '32': {'href': 'https://www.rottentomatoes.com/m/bleed_for_this/',\n",
       "  'img': 'https://resizing.flixster.com/Fa5h3fKCaojbrj7oGQ3JoU9eCCk=/173x270/v1.bTsxMjI0NDY5MjtqOzE3OTI4OzIwNDg7MTkxNjsyOTg5',\n",
       "  'index': 32,\n",
       "  'movie_title': 'Bleed For This',\n",
       "  'year': 2016},\n",
       " '33': {'href': 'https://www.rottentomatoes.com/m/ali/',\n",
       "  'img': 'https://resizing.flixster.com/_FshCvQGbuDPOMg1ZSK1Cf3fZtk=/180x240/v1.bTsxMTI5MTM3NDtqOzE3OTY5OzIwNDg7MjM5NzszMTk2',\n",
       "  'index': 33,\n",
       "  'movie_title': 'Ali',\n",
       "  'year': 2001},\n",
       " '34': {'href': 'https://www.rottentomatoes.com/m/china_heavyweight_2012/',\n",
       "  'img': 'https://resizing.flixster.com/KWHt-dU9kDf3WP_hSRawx6edrfU=/180x267/v1.bTsxMTE2NTc1MjtqOzE3OTg2OzIwNDg7MTk0NDsyODgw',\n",
       "  'index': 34,\n",
       "  'movie_title': 'China Heavyweight',\n",
       "  'year': 2012},\n",
       " '35': {'href': 'https://www.rottentomatoes.com/m/battling_butler/',\n",
       "  'img': 'https://resizing.flixster.com/Vk91HKVYbr6XKRsr96fJz6UEuFc=/180x240/v1.bTsxMTI5Nzk5OTtqOzE3OTc5OzIwNDg7OTk5OzEzMzI',\n",
       "  'index': 35,\n",
       "  'movie_title': 'Battling Butler',\n",
       "  'year': 1926},\n",
       " '36': {'href': 'https://www.rottentomatoes.com/m/rocky_iii/',\n",
       "  'img': 'https://resizing.flixster.com/CzH7VHMSEpAmrrt5_GtDlGEUNnk=/180x240/v1.bTsxMTI5MDUyOTtqOzE3OTc5OzIwNDg7MTQxOTsxODky',\n",
       "  'index': 36,\n",
       "  'movie_title': 'Rocky III',\n",
       "  'year': 1982},\n",
       " '37': {'href': 'https://www.rottentomatoes.com/m/on_the_ropes/',\n",
       "  'img': 'https://resizing.flixster.com/lF0-BAAZl7eRsYPKMhAsxZ4NUJc=/180x233/v1.bTsxMTYxNzU3ODtqOzE3OTcyOzIwNDg7NDY0OzYwMA',\n",
       "  'index': 37,\n",
       "  'movie_title': 'On the Ropes',\n",
       "  'year': 1999},\n",
       " '38': {'href': 'https://www.rottentomatoes.com/m/muhammad_ali_the_greatest/',\n",
       "  'img': 'https://resizing.flixster.com/q0MrSrsO2HdblrzmsSKah9kmRUg=/180x240/v1.bTsxMTIyNzM5MDtqOzE3OTc0OzIwNDg7OTk2OzEzMjg',\n",
       "  'index': 38,\n",
       "  'movie_title': 'Muhammad Ali, the Greatest',\n",
       "  'year': 1974},\n",
       " '39': {'href': 'https://www.rottentomatoes.com/m/napola_elite_fur_den_fuhrer/',\n",
       "  'img': 'https://resizing.flixster.com/2uUnA0lHZq6GcNr0vCw8Ygj4UNU=/180x257/v1.bTsxMTYxNDAzNTtqOzE3OTg0OzIwNDg7NzYyOzEwODg',\n",
       "  'index': 39,\n",
       "  'movie_title': 'Before the Fall (Napola)',\n",
       "  'year': 2004},\n",
       " '4': {'href': 'https://www.rottentomatoes.com/m/raging_bull/',\n",
       "  'img': 'https://resizing.flixster.com/mgbLDKJySlywJ2ZT63dkVlqCI64=/180x240/v1.bTsxMTI5MTgwOTtqOzE3OTU0OzIwNDg7MTUzNjsyMDQ4',\n",
       "  'index': 4,\n",
       "  'movie_title': 'Raging Bull',\n",
       "  'year': 1980},\n",
       " '40': {'href': 'https://www.rottentomatoes.com/m/real_steel/',\n",
       "  'img': 'https://resizing.flixster.com/gWYRzcxeE5ZLxGyQEMexmXt-hhc=/180x240/v1.bTsxMTI0NDkxMTtqOzE3OTkxOzIwNDg7MTUzNjsyMDQ4',\n",
       "  'index': 40,\n",
       "  'movie_title': 'Real Steel',\n",
       "  'year': 2011},\n",
       " '41': {'href': 'https://www.rottentomatoes.com/m/resurrecting_the_champ/',\n",
       "  'img': 'https://resizing.flixster.com/qAK8Gx-gzC0xROexwqUMa_xYblQ=/180x240/v1.bTsxMTIxNzA1ODtqOzE3OTkyOzIwNDg7MTUzNjsyMDQ4',\n",
       "  'index': 41,\n",
       "  'movie_title': 'Resurrecting the Champ',\n",
       "  'year': 2007},\n",
       " '42': {'href': 'https://www.rottentomatoes.com/m/lets_do_it_again/',\n",
       "  'img': 'https://resizing.flixster.com/Zo-G-2nvtDwqjNg0W_C0MW3G2fk=/180x240/v1.bTsxMTIwNDgwNDtqOzE3OTc4OzIwNDg7MTUzNjsyMDQ4',\n",
       "  'index': 42,\n",
       "  'movie_title': \"Let's Do It Again\",\n",
       "  'year': 1975},\n",
       " '43': {'href': 'https://www.rottentomatoes.com/m/i_am_ali/',\n",
       "  'img': 'https://resizing.flixster.com/M1fgAe9Kt7reRlw42vELsl79Wgs=/180x270/v1.bTsxMTE4MDg4NjtqOzE3OTU1OzIwNDg7ODAwOzEyMDA',\n",
       "  'index': 43,\n",
       "  'movie_title': 'I Am Ali',\n",
       "  'year': 2014},\n",
       " '44': {'href': 'https://www.rottentomatoes.com/m/city_for_conquest/',\n",
       "  'img': 'https://resizing.flixster.com/JKS0H9CwjTOojIAH_zi7wLI8mGA=/180x240/v1.bTsxMTIxODI4MTtqOzE3OTU1OzIwNDg7MTUwMDsyMDAw',\n",
       "  'index': 44,\n",
       "  'movie_title': 'City for Conquest',\n",
       "  'year': 1940},\n",
       " '45': {'href': 'https://www.rottentomatoes.com/m/the_kid_from_brooklyn_1946/',\n",
       "  'img': 'https://resizing.flixster.com/SRSsOL6XEI3DAsufPdMcpJKrGvE=/178x270/v1.bTsxMTIxMDc1NjtqOzE3OTkwOzIwNDg7MTcyMTsyNjA4',\n",
       "  'index': 45,\n",
       "  'movie_title': 'The Kid From Brooklyn',\n",
       "  'year': 1946},\n",
       " '46': {'href': 'https://www.rottentomatoes.com/m/the_good_son_the_life_of_ray_boom_boom_mancini/',\n",
       "  'img': 'https://resizing.flixster.com/yupkAdeO0c95O1IyjtzgineNO8Y=/179x270/v1.bTsxMTE3MjI1OTtqOzE3OTY4OzIwNDg7NTAwOzc1NQ',\n",
       "  'index': 46,\n",
       "  'movie_title': 'The Good Son: The Life of Ray Boom Boom Mancini',\n",
       "  'year': 2013},\n",
       " '47': {'href': 'https://www.rottentomatoes.com/m/kids_return/',\n",
       "  'img': 'https://resizing.flixster.com/0fhrpj3mqvRP8nS5rKWRaPW7fzI=/180x245/v1.bTsxMTYxNzY2MTtqOzE3OTY1OzIwNDg7MzQ5OzQ3NQ',\n",
       "  'index': 47,\n",
       "  'movie_title': 'Kids Return',\n",
       "  'year': 1996},\n",
       " '48': {'href': 'https://www.rottentomatoes.com/m/blue_blood-2006/',\n",
       "  'img': 'https://resizing.flixster.com/iL5x-xpPJCpckmE7MdmCd7GkXUg=/180x135/v1.bTsxMTE3ODA2MTtwOzE3OTY1OzIwNDg7NDQ4OzMzNw',\n",
       "  'index': 48,\n",
       "  'movie_title': 'Blue Blood',\n",
       "  'year': 2006},\n",
       " '49': {'href': 'https://www.rottentomatoes.com/m/two-fists-one-heart/',\n",
       "  'img': 'https://resizing.flixster.com/2-5WLOPTyUbRrDjB3IjiCoix7g0=/180x270/v1.bTsxMjkxMzk0ODtqOzE3OTUyOzIwNDg7MjAwOzMwMA',\n",
       "  'index': 49,\n",
       "  'movie_title': 'Two Fists, One Heart',\n",
       "  'year': 2009},\n",
       " '5': {'href': 'https://www.rottentomatoes.com/m/body_and_soul_1947/',\n",
       "  'img': 'https://resizing.flixster.com/PddNNauXF0BS4XSM2Wh-iGWaIFI=/180x240/v1.bTsxMTYyMDgwNTtqOzE3OTU5OzIwNDg7MzE1OzQyMA',\n",
       "  'index': 5,\n",
       "  'movie_title': 'Body and Soul',\n",
       "  'year': 1947},\n",
       " '50': {'href': 'https://www.rottentomatoes.com/m/unforgivable_blackness_the_rise_and_fall_of_jack_johnson/',\n",
       "  'img': 'https://resizing.flixster.com/S0l6Z7ML4f_jLhJ-PP8JAQp9lhM=/144x196/v1.bTsxMjE2NTEyMDtqOzE3ODcwOzIwNDg7MTQ0OzE5Ng',\n",
       "  'index': 50,\n",
       "  'movie_title': 'Unforgivable Blackness: The Rise and Fall of Jack Johnson',\n",
       "  'year': 2004},\n",
       " '51': {'href': 'https://www.rottentomatoes.com/m/fighting_tommy_riley/',\n",
       "  'img': 'https://resizing.flixster.com/Z2ILsbuexNUufl4a530N5fCyc5A=/180x252/v1.bTsxMTIwOTg1NTtqOzE3OTg5OzIwNDg7MTUwNzsyMTEz',\n",
       "  'index': 51,\n",
       "  'movie_title': 'Fighting Tommy Riley',\n",
       "  'year': 2005},\n",
       " '52': {'href': 'https://www.rottentomatoes.com/m/ring_of_fire_the_emile_griffith_story/',\n",
       "  'img': 'https://resizing.flixster.com/Gl9mXPoif-6Gg8KhbWLReXQlmF8=/180x254/v1.bTsxMTIxMTcwNTtqOzE3OTQ5OzIwNDg7MTUxNTsyMTM1',\n",
       "  'index': 52,\n",
       "  'movie_title': 'Ring of Fire: The Emile Griffith Story',\n",
       "  'year': 2005},\n",
       " '6': {'href': 'https://www.rottentomatoes.com/m/gentleman_jim/',\n",
       "  'img': 'https://resizing.flixster.com/UK6ZmltQQR-BiMyNS8wzvjMyJ6g=/180x240/v1.bTsxMTIxOTQwODtqOzE3OTU3OzIwNDg7MTk5ODsyNjY0',\n",
       "  'index': 6,\n",
       "  'movie_title': 'Gentleman Jim',\n",
       "  'year': 1942},\n",
       " '7': {'href': 'https://www.rottentomatoes.com/m/1009224-harder_they_fall/',\n",
       "  'img': 'https://resizing.flixster.com/Pq8NVi_HPIezfZBR--y8I5tMsy4=/180x240/v1.bTsxMTIwNjQyNDtqOzE3OTc4OzIwNDg7MTUzNjsyMDQ4',\n",
       "  'index': 7,\n",
       "  'movie_title': 'The Harder They Fall',\n",
       "  'year': 1956},\n",
       " '8': {'href': 'https://www.rottentomatoes.com/m/1009211-hard_times/',\n",
       "  'img': 'https://resizing.flixster.com/v9mlUOg57VH4rUsf-aQelYf-G-k=/180x240/v1.bTsxMTIwNDQzNztqOzE3OTcxOzIwNDg7MTUzNjsyMDQ4',\n",
       "  'index': 8,\n",
       "  'movie_title': 'Hard Times',\n",
       "  'year': 1975},\n",
       " '9': {'href': 'https://www.rottentomatoes.com/m/when_we_were_kings/',\n",
       "  'img': 'https://resizing.flixster.com/Zbhz3FWNAdx8Cm_jJkRxAu2UNzw=/180x240/v1.bTsxMTYxNDY2NztqOzE3OTg2OzIwNDg7Nzk4OzEwNjQ',\n",
       "  'index': 9,\n",
       "  'movie_title': 'When We Were Kings',\n",
       "  'year': 1996}}"
      ]
     },
     "execution_count": 126,
     "metadata": {},
     "output_type": "execute_result"
    }
   ],
   "source": [
    "json_to_dict"
   ]
  },
  {
   "cell_type": "code",
   "execution_count": 127,
   "metadata": {},
   "outputs": [
    {
     "data": {
      "text/plain": [
       "2015"
      ]
     },
     "execution_count": 127,
     "metadata": {},
     "output_type": "execute_result"
    }
   ],
   "source": [
    "json_to_dict['1']['year']"
   ]
  },
  {
   "cell_type": "code",
   "execution_count": 128,
   "metadata": {},
   "outputs": [],
   "source": [
    "with open('copy_of_boxing_movies.json', 'w') as f:\n",
    "    #json.dum({}, f) dict를 열려있는 파일 객체에 넣어라\n",
    "    json.dump(json_to_dict, f)"
   ]
  },
  {
   "cell_type": "code",
   "execution_count": 129,
   "metadata": {},
   "outputs": [
    {
     "name": "stdout",
     "output_type": "stream",
     "text": [
      "type the number: daf\n"
     ]
    },
    {
     "ename": "ValueError",
     "evalue": "invalid literal for int() with base 10: 'daf'",
     "output_type": "error",
     "traceback": [
      "\u001b[0;31m---------------------------------------------------------------------------\u001b[0m",
      "\u001b[0;31mValueError\u001b[0m                                Traceback (most recent call last)",
      "\u001b[0;32m<ipython-input-129-a806341b23b6>\u001b[0m in \u001b[0;36m<module>\u001b[0;34m()\u001b[0m\n\u001b[0;32m----> 1\u001b[0;31m \u001b[0msome_num\u001b[0m \u001b[0;34m=\u001b[0m \u001b[0mint\u001b[0m\u001b[0;34m(\u001b[0m\u001b[0minput\u001b[0m\u001b[0;34m(\u001b[0m\u001b[0;34m'type the number: '\u001b[0m\u001b[0;34m)\u001b[0m\u001b[0;34m)\u001b[0m\u001b[0;34m\u001b[0m\u001b[0m\n\u001b[0m",
      "\u001b[0;31mValueError\u001b[0m: invalid literal for int() with base 10: 'daf'"
     ]
    }
   ],
   "source": [
    "some_num = int(input('type the number: '))"
   ]
  },
  {
   "cell_type": "code",
   "execution_count": 130,
   "metadata": {},
   "outputs": [
    {
     "name": "stdout",
     "output_type": "stream",
     "text": [
      "type the number: asdf\n"
     ]
    }
   ],
   "source": [
    "try:\n",
    "    some_num = int(input('type the number: '))\n",
    "except:\n",
    "    pass"
   ]
  },
  {
   "cell_type": "code",
   "execution_count": 137,
   "metadata": {},
   "outputs": [],
   "source": [
    "def get_num():\n",
    "    try:\n",
    "        some_num = int(input('Type the number: '))\n",
    "        return some_num\n",
    "    except ValueError as e:\n",
    "        print('i said the number')\n",
    "        print(e)\n",
    "        get_num()"
   ]
  },
  {
   "cell_type": "code",
   "execution_count": 138,
   "metadata": {},
   "outputs": [
    {
     "name": "stdout",
     "output_type": "stream",
     "text": [
      "Type the number: df\n",
      "i said the number\n",
      "invalid literal for int() with base 10: 'df'\n",
      "Type the number: dsafsadfas\n",
      "i said the number\n",
      "invalid literal for int() with base 10: 'dsafsadfas'\n",
      "Type the number: 뭐\n",
      "i said the number\n",
      "invalid literal for int() with base 10: '뭐'\n",
      "Type the number: 어쩌랄고\n",
      "i said the number\n",
      "invalid literal for int() with base 10: '어쩌랄고'\n",
      "Type the number: ㅋ\n",
      "i said the number\n",
      "invalid literal for int() with base 10: 'ㅋ'\n",
      "Type the number: ㄹㅎ\n",
      "i said the number\n",
      "invalid literal for int() with base 10: 'ㄹㅎ'\n",
      "Type the number: ㅗ\n",
      "i said the number\n",
      "invalid literal for int() with base 10: 'ㅗ'\n",
      "Type the number: \n",
      "i said the number\n",
      "invalid literal for int() with base 10: ''\n",
      "Type the number: 왜\n",
      "i said the number\n",
      "invalid literal for int() with base 10: '왜'\n",
      "Type the number: 안되늰데\n",
      "i said the number\n",
      "invalid literal for int() with base 10: '안되늰데'\n",
      "Type the number: ?\n",
      "i said the number\n",
      "invalid literal for int() with base 10: '?'\n",
      "Type the number: \n",
      "i said the number\n",
      "invalid literal for int() with base 10: ''\n",
      "Type the number: ?\n",
      "i said the number\n",
      "invalid literal for int() with base 10: '?'\n",
      "Type the number: 숫자\n",
      "i said the number\n",
      "invalid literal for int() with base 10: '숫자'\n",
      "Type the number: 가\n",
      "i said the number\n",
      "invalid literal for int() with base 10: '가'\n",
      "Type the number: 인트\n",
      "i said the number\n",
      "invalid literal for int() with base 10: '인트'\n",
      "Type the number: 맞나\n",
      "i said the number\n",
      "invalid literal for int() with base 10: '맞나'\n",
      "Type the number: ?\n",
      "i said the number\n",
      "invalid literal for int() with base 10: '?'\n",
      "Type the number: 숫자\n",
      "i said the number\n",
      "invalid literal for int() with base 10: '숫자'\n",
      "Type the number: 일\n",
      "i said the number\n",
      "invalid literal for int() with base 10: '일'\n",
      "Type the number: 이앗\n",
      "i said the number\n",
      "invalid literal for int() with base 10: '이앗'\n",
      "Type the number: 삼\n",
      "i said the number\n",
      "invalid literal for int() with base 10: '삼'\n",
      "Type the number: 사\n",
      "i said the number\n",
      "invalid literal for int() with base 10: '사'\n",
      "Type the number: 여서\n",
      "i said the number\n",
      "invalid literal for int() with base 10: '여서'\n",
      "Type the number: 여섯\n",
      "i said the number\n",
      "invalid literal for int() with base 10: '여섯'\n",
      "Type the number: 칠\n",
      "i said the number\n",
      "invalid literal for int() with base 10: '칠'\n",
      "Type the number: 1\n"
     ]
    }
   ],
   "source": [
    "get_num()"
   ]
  },
  {
   "cell_type": "code",
   "execution_count": 139,
   "metadata": {},
   "outputs": [
    {
     "ename": "FileNotFoundError",
     "evalue": "[Errno 2] No such file or directory: 'noname.blah'",
     "output_type": "error",
     "traceback": [
      "\u001b[0;31m---------------------------------------------------------------------------\u001b[0m",
      "\u001b[0;31mFileNotFoundError\u001b[0m                         Traceback (most recent call last)",
      "\u001b[0;32m<ipython-input-139-b3b12a30a3a3>\u001b[0m in \u001b[0;36m<module>\u001b[0;34m()\u001b[0m\n\u001b[0;32m----> 1\u001b[0;31m \u001b[0;32mwith\u001b[0m \u001b[0mopen\u001b[0m\u001b[0;34m(\u001b[0m\u001b[0;34m'noname.blah'\u001b[0m\u001b[0;34m,\u001b[0m \u001b[0;34m'r'\u001b[0m\u001b[0;34m)\u001b[0m \u001b[0;32mas\u001b[0m \u001b[0mf\u001b[0m\u001b[0;34m:\u001b[0m\u001b[0;34m\u001b[0m\u001b[0m\n\u001b[0m\u001b[1;32m      2\u001b[0m     \u001b[0mf\u001b[0m\u001b[0;34m.\u001b[0m\u001b[0mreadlines\u001b[0m\u001b[0;34m(\u001b[0m\u001b[0;34m)\u001b[0m\u001b[0;34m\u001b[0m\u001b[0m\n",
      "\u001b[0;31mFileNotFoundError\u001b[0m: [Errno 2] No such file or directory: 'noname.blah'"
     ]
    }
   ],
   "source": [
    "with open('noname.blah', 'r') as f:\n",
    "    f.readlines()"
   ]
  },
  {
   "cell_type": "code",
   "execution_count": null,
   "metadata": {},
   "outputs": [],
   "source": []
  },
  {
   "cell_type": "code",
   "execution_count": 144,
   "metadata": {},
   "outputs": [
    {
     "name": "stdout",
     "output_type": "stream",
     "text": [
      "Enter Filename: k\n",
      "[Errno 2] No such file or directory: 'k'\n"
     ]
    }
   ],
   "source": [
    "try :\n",
    "    user_filename = input('Enter Filename: ')\n",
    "    with open(user_filename, 'r') as f:\n",
    "        text = f.readlines()\n",
    "        for item in text:\n",
    "            print(text)\n",
    "        print(user_filename)\n",
    "except FileNotFoundError as e:\n",
    "    print(e)\n",
    "except NameError as e:\n",
    "    print(e)"
   ]
  },
  {
   "cell_type": "code",
   "execution_count": null,
   "metadata": {},
   "outputs": [],
   "source": []
  }
 ],
 "metadata": {
  "kernelspec": {
   "display_name": "Python 3",
   "language": "python",
   "name": "python3"
  },
  "language_info": {
   "codemirror_mode": {
    "name": "ipython",
    "version": 3
   },
   "file_extension": ".py",
   "mimetype": "text/x-python",
   "name": "python",
   "nbconvert_exporter": "python",
   "pygments_lexer": "ipython3",
   "version": "3.6.3"
  }
 },
 "nbformat": 4,
 "nbformat_minor": 2
}
