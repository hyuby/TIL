{
 "cells": [
  {
   "cell_type": "code",
   "execution_count": 7,
   "metadata": {},
   "outputs": [],
   "source": [
    "dict1 = {}"
   ]
  },
  {
   "cell_type": "code",
   "execution_count": 1,
   "metadata": {},
   "outputs": [
    {
     "data": {
      "text/plain": [
       "{'chuk': 2, 'in': 3, 'ja': 1}"
      ]
     },
     "execution_count": 1,
     "metadata": {},
     "output_type": "execute_result"
    }
   ],
   "source": [
    "dict2 = {'ja':1, 'chuk':2, 'in':3}\n",
    "dict2"
   ]
  },
  {
   "cell_type": "code",
   "execution_count": 3,
   "metadata": {},
   "outputs": [],
   "source": [
    "dict3 = dict(ja=1, chuk=2, in_=3) "
   ]
  },
  {
   "cell_type": "code",
   "execution_count": 4,
   "metadata": {},
   "outputs": [
    {
     "data": {
      "text/plain": [
       "{'chuk': 2, 'in_': 3, 'ja': 1}"
      ]
     },
     "execution_count": 4,
     "metadata": {},
     "output_type": "execute_result"
    }
   ],
   "source": [
    "dict3"
   ]
  },
  {
   "cell_type": "code",
   "execution_count": 6,
   "metadata": {},
   "outputs": [
    {
     "data": {
      "text/plain": [
       "{1: 1, (1, 1): 1, 3: 4}"
      ]
     },
     "execution_count": 6,
     "metadata": {},
     "output_type": "execute_result"
    }
   ],
   "source": [
    "#list는 mutable이기 때문에 key로 사용할 수 없음\n",
    "dict4 = dict([(1,1),((1,1),1),(3,4)])\n",
    "dict4"
   ]
  },
  {
   "cell_type": "code",
   "execution_count": 8,
   "metadata": {},
   "outputs": [
    {
     "data": {
      "text/plain": [
       "{'ja': 1}"
      ]
     },
     "execution_count": 8,
     "metadata": {},
     "output_type": "execute_result"
    }
   ],
   "source": [
    "dict1['ja'] = 1\n",
    "dict1"
   ]
  },
  {
   "cell_type": "code",
   "execution_count": 9,
   "metadata": {},
   "outputs": [],
   "source": [
    "dict1['chuk']=2\n",
    "dict1['in']=3"
   ]
  },
  {
   "cell_type": "code",
   "execution_count": 10,
   "metadata": {},
   "outputs": [
    {
     "data": {
      "text/plain": [
       "{'chuk': 2, 'in': 3, 'ja': 1}"
      ]
     },
     "execution_count": 10,
     "metadata": {},
     "output_type": "execute_result"
    }
   ],
   "source": [
    "dict1"
   ]
  },
  {
   "cell_type": "code",
   "execution_count": 11,
   "metadata": {},
   "outputs": [],
   "source": [
    "dict1['in'] = 'Tiger'\n",
    "dict1['myo'] = ['토끼1','토끼2','토끼3']"
   ]
  },
  {
   "cell_type": "code",
   "execution_count": 12,
   "metadata": {},
   "outputs": [
    {
     "data": {
      "text/plain": [
       "{'chuk': 2, 'in': 'Tiger', 'ja': 1, 'myo': ['토끼1', '토끼2', '토끼3']}"
      ]
     },
     "execution_count": 12,
     "metadata": {},
     "output_type": "execute_result"
    }
   ],
   "source": [
    "dict1"
   ]
  },
  {
   "cell_type": "code",
   "execution_count": 13,
   "metadata": {},
   "outputs": [],
   "source": [
    "#객체에는 del사용하지 않을것\n",
    "del dict1['myo']"
   ]
  },
  {
   "cell_type": "code",
   "execution_count": 14,
   "metadata": {},
   "outputs": [
    {
     "data": {
      "text/plain": [
       "{'chuk': 2, 'in': 'Tiger', 'ja': 1}"
      ]
     },
     "execution_count": 14,
     "metadata": {},
     "output_type": "execute_result"
    }
   ],
   "source": [
    "dict1"
   ]
  },
  {
   "cell_type": "code",
   "execution_count": 15,
   "metadata": {},
   "outputs": [
    {
     "data": {
      "text/plain": [
       "dict_keys(['ja', 'chuk', 'in'])"
      ]
     },
     "execution_count": 15,
     "metadata": {},
     "output_type": "execute_result"
    }
   ],
   "source": [
    "dict1.keys()"
   ]
  },
  {
   "cell_type": "code",
   "execution_count": 17,
   "metadata": {},
   "outputs": [
    {
     "data": {
      "text/plain": [
       "dict_values([1, 2, 'Tiger'])"
      ]
     },
     "execution_count": 17,
     "metadata": {},
     "output_type": "execute_result"
    }
   ],
   "source": [
    "dict1.values()"
   ]
  },
  {
   "cell_type": "code",
   "execution_count": 18,
   "metadata": {},
   "outputs": [
    {
     "data": {
      "text/plain": [
       "dict_items([('ja', 1), ('chuk', 2), ('in', 'Tiger')])"
      ]
     },
     "execution_count": 18,
     "metadata": {},
     "output_type": "execute_result"
    }
   ],
   "source": [
    "dict1.items()"
   ]
  },
  {
   "cell_type": "code",
   "execution_count": 20,
   "metadata": {},
   "outputs": [
    {
     "data": {
      "text/plain": [
       "['ja', 'chuk', 'in']"
      ]
     },
     "execution_count": 20,
     "metadata": {},
     "output_type": "execute_result"
    }
   ],
   "source": [
    "list(dict1.keys())"
   ]
  },
  {
   "cell_type": "code",
   "execution_count": 22,
   "metadata": {},
   "outputs": [
    {
     "data": {
      "text/plain": [
       "2"
      ]
     },
     "execution_count": 22,
     "metadata": {},
     "output_type": "execute_result"
    }
   ],
   "source": [
    "list(dict1.values())"
   ]
  },
  {
   "cell_type": "code",
   "execution_count": 23,
   "metadata": {},
   "outputs": [],
   "source": [
    "contacts = {}\n",
    "contacts['name'] = 'lee'\n",
    "contacts['phone'] = 9575\n",
    "contacts['locale'] = 'Seoul, Korea'\n",
    "contacts['attended'] = [('DSES', 'fastcampus'), ('Electromagnetics','Korea')]"
   ]
  },
  {
   "cell_type": "code",
   "execution_count": 24,
   "metadata": {},
   "outputs": [
    {
     "data": {
      "text/plain": [
       "{'attended': [('DSES', 'fastcampus'), ('Electromagnetics', 'Korea')],\n",
       " 'locale': 'Seoul, Korea',\n",
       " 'name': 'lee',\n",
       " 'phone': 9575}"
      ]
     },
     "execution_count": 24,
     "metadata": {},
     "output_type": "execute_result"
    }
   ],
   "source": [
    "contacts"
   ]
  },
  {
   "cell_type": "code",
   "execution_count": 25,
   "metadata": {},
   "outputs": [],
   "source": [
    "phone_num = contacts.pop('phone')"
   ]
  },
  {
   "cell_type": "code",
   "execution_count": 26,
   "metadata": {},
   "outputs": [
    {
     "data": {
      "text/plain": [
       "9575"
      ]
     },
     "execution_count": 26,
     "metadata": {},
     "output_type": "execute_result"
    }
   ],
   "source": [
    "phone_num"
   ]
  },
  {
   "cell_type": "code",
   "execution_count": 27,
   "metadata": {},
   "outputs": [
    {
     "data": {
      "text/plain": [
       "{'attended': [('DSES', 'fastcampus'), ('Electromagnetics', 'Korea')],\n",
       " 'locale': 'Seoul, Korea',\n",
       " 'name': 'lee'}"
      ]
     },
     "execution_count": 27,
     "metadata": {},
     "output_type": "execute_result"
    }
   ],
   "source": [
    "contacts"
   ]
  },
  {
   "cell_type": "code",
   "execution_count": 31,
   "metadata": {},
   "outputs": [
    {
     "data": {
      "text/plain": [
       "('attended', [('DSES', 'fastcampus'), ('Electromagnetics', 'Korea')])"
      ]
     },
     "execution_count": 31,
     "metadata": {},
     "output_type": "execute_result"
    }
   ],
   "source": [
    "contacts.popitem()"
   ]
  },
  {
   "cell_type": "code",
   "execution_count": 32,
   "metadata": {},
   "outputs": [
    {
     "data": {
      "text/plain": [
       "{'locale': 'Seoul, Korea', 'name': 'lee'}"
      ]
     },
     "execution_count": 32,
     "metadata": {},
     "output_type": "execute_result"
    }
   ],
   "source": [
    "contacts"
   ]
  },
  {
   "cell_type": "code",
   "execution_count": 35,
   "metadata": {},
   "outputs": [
    {
     "data": {
      "text/plain": [
       "{'locale': 'Seoul, Korea', 'name': 'lee'}"
      ]
     },
     "execution_count": 35,
     "metadata": {},
     "output_type": "execute_result"
    }
   ],
   "source": [
    "contacts"
   ]
  },
  {
   "cell_type": "code",
   "execution_count": 36,
   "metadata": {},
   "outputs": [
    {
     "ename": "KeyError",
     "evalue": "'phone'",
     "output_type": "error",
     "traceback": [
      "\u001b[0;31m---------------------------------------------------------------------------\u001b[0m",
      "\u001b[0;31mKeyError\u001b[0m                                  Traceback (most recent call last)",
      "\u001b[0;32m<ipython-input-36-f6ab9fe24e7d>\u001b[0m in \u001b[0;36m<module>\u001b[0;34m()\u001b[0m\n\u001b[0;32m----> 1\u001b[0;31m \u001b[0mcontacts\u001b[0m\u001b[0;34m[\u001b[0m\u001b[0;34m'phone'\u001b[0m\u001b[0;34m]\u001b[0m\u001b[0;34m\u001b[0m\u001b[0m\n\u001b[0m",
      "\u001b[0;31mKeyError\u001b[0m: 'phone'"
     ]
    }
   ],
   "source": [
    "contacts['phone']"
   ]
  },
  {
   "cell_type": "code",
   "execution_count": 37,
   "metadata": {},
   "outputs": [],
   "source": [
    "contacts.get('phone')"
   ]
  },
  {
   "cell_type": "code",
   "execution_count": 38,
   "metadata": {},
   "outputs": [],
   "source": [
    "number_ = contacts.get('phone')"
   ]
  },
  {
   "cell_type": "code",
   "execution_count": 40,
   "metadata": {},
   "outputs": [
    {
     "name": "stdout",
     "output_type": "stream",
     "text": [
      "None\n"
     ]
    }
   ],
   "source": [
    "print(number_)"
   ]
  },
  {
   "cell_type": "code",
   "execution_count": 42,
   "metadata": {},
   "outputs": [],
   "source": [
    "number_ = contacts.setdefault('phone',0)"
   ]
  },
  {
   "cell_type": "code",
   "execution_count": 43,
   "metadata": {},
   "outputs": [
    {
     "data": {
      "text/plain": [
       "0"
      ]
     },
     "execution_count": 43,
     "metadata": {},
     "output_type": "execute_result"
    }
   ],
   "source": [
    "number_"
   ]
  },
  {
   "cell_type": "code",
   "execution_count": 44,
   "metadata": {},
   "outputs": [
    {
     "data": {
      "text/plain": [
       "{'a': None, 'b': None}"
      ]
     },
     "execution_count": 44,
     "metadata": {},
     "output_type": "execute_result"
    }
   ],
   "source": [
    "{}.fromkeys(['a','b'])"
   ]
  },
  {
   "cell_type": "code",
   "execution_count": 45,
   "metadata": {},
   "outputs": [
    {
     "data": {
      "text/plain": [
       "3"
      ]
     },
     "execution_count": 45,
     "metadata": {},
     "output_type": "execute_result"
    }
   ],
   "source": [
    "len(contacts)"
   ]
  },
  {
   "cell_type": "code",
   "execution_count": 56,
   "metadata": {},
   "outputs": [],
   "source": [
    "contacts.update({'name':contacts['name'].lower(),'language':{'humanlang':'Korean','programming':'Python'}})"
   ]
  },
  {
   "cell_type": "code",
   "execution_count": 57,
   "metadata": {},
   "outputs": [
    {
     "data": {
      "text/plain": [
       "{'language': {'humanlang': 'Korean', 'programming': 'Python'},\n",
       " 'locale': 'Seoul, Korea',\n",
       " 'name': 'wychoi',\n",
       " 'phone': 0}"
      ]
     },
     "execution_count": 57,
     "metadata": {},
     "output_type": "execute_result"
    }
   ],
   "source": [
    "contacts"
   ]
  },
  {
   "cell_type": "code",
   "execution_count": 59,
   "metadata": {},
   "outputs": [
    {
     "data": {
      "text/plain": [
       "'Korean'"
      ]
     },
     "execution_count": 59,
     "metadata": {},
     "output_type": "execute_result"
    }
   ],
   "source": [
    "contacts['language']['humanlang']"
   ]
  },
  {
   "cell_type": "code",
   "execution_count": 60,
   "metadata": {},
   "outputs": [
    {
     "data": {
      "text/plain": [
       "'Hi, Guido. You are from Holand'"
      ]
     },
     "execution_count": 60,
     "metadata": {},
     "output_type": "execute_result"
    }
   ],
   "source": [
    "info = {'name':'Guido', 'country':'Holand'}\n",
    "\"Hi, {0}. You are from {1}\".format(info['name'], info['country'])"
   ]
  },
  {
   "cell_type": "code",
   "execution_count": 61,
   "metadata": {},
   "outputs": [
    {
     "data": {
      "text/plain": [
       "'Hi, Guido. You are from Holand'"
      ]
     },
     "execution_count": 61,
     "metadata": {},
     "output_type": "execute_result"
    }
   ],
   "source": [
    "info = {'name':'Guido', 'country':'Holand'}\n",
    "\"Hi, {name}. You are from {country}\".format(**info)"
   ]
  },
  {
   "cell_type": "code",
   "execution_count": 62,
   "metadata": {},
   "outputs": [
    {
     "data": {
      "text/plain": [
       "{'apple', 'pen', 'pineapple'}"
      ]
     },
     "execution_count": 62,
     "metadata": {},
     "output_type": "execute_result"
    }
   ],
   "source": [
    "set_ = {'pen','pineapple','apple','pen'}\n",
    "set_"
   ]
  },
  {
   "cell_type": "code",
   "execution_count": 63,
   "metadata": {},
   "outputs": [
    {
     "data": {
      "text/plain": [
       "True"
      ]
     },
     "execution_count": 63,
     "metadata": {},
     "output_type": "execute_result"
    }
   ],
   "source": [
    "'pen' in set_"
   ]
  },
  {
   "cell_type": "code",
   "execution_count": 64,
   "metadata": {},
   "outputs": [
    {
     "data": {
      "text/plain": [
       "{'a', 'e', 'i', 'l', 'n', 'p'}"
      ]
     },
     "execution_count": 64,
     "metadata": {},
     "output_type": "execute_result"
    }
   ],
   "source": [
    "result = set('pineapple')\n",
    "result"
   ]
  },
  {
   "cell_type": "code",
   "execution_count": 65,
   "metadata": {},
   "outputs": [],
   "source": [
    "A_set = set('fastcampus')\n",
    "B_set = set('python')"
   ]
  },
  {
   "cell_type": "code",
   "execution_count": 66,
   "metadata": {},
   "outputs": [
    {
     "name": "stdout",
     "output_type": "stream",
     "text": [
      "{'p', 'a', 's', 'f', 't', 'm', 'c', 'u'} {'p', 'y', 'o', 'h', 't', 'n'}\n"
     ]
    }
   ],
   "source": [
    "print(A_set, B_set)"
   ]
  },
  {
   "cell_type": "code",
   "execution_count": 67,
   "metadata": {},
   "outputs": [
    {
     "data": {
      "text/plain": [
       "{'p', 't'}"
      ]
     },
     "execution_count": 67,
     "metadata": {},
     "output_type": "execute_result"
    }
   ],
   "source": [
    "A_set & B_set"
   ]
  },
  {
   "cell_type": "code",
   "execution_count": 68,
   "metadata": {},
   "outputs": [
    {
     "data": {
      "text/plain": [
       "{'a', 'c', 'f', 'h', 'm', 'n', 'o', 's', 'u', 'y'}"
      ]
     },
     "execution_count": 68,
     "metadata": {},
     "output_type": "execute_result"
    }
   ],
   "source": [
    "#A와 B의 교집합 제외\n",
    "A_set ^ B_set"
   ]
  },
  {
   "cell_type": "code",
   "execution_count": 69,
   "metadata": {},
   "outputs": [
    {
     "data": {
      "text/plain": [
       "['dog', 'cat']"
      ]
     },
     "execution_count": 69,
     "metadata": {},
     "output_type": "execute_result"
    }
   ],
   "source": [
    "duplicated = ['dog','cat','dog','cat']\n",
    "list(set(duplicated))"
   ]
  },
  {
   "cell_type": "code",
   "execution_count": 70,
   "metadata": {},
   "outputs": [
    {
     "name": "stdout",
     "output_type": "stream",
     "text": [
      "1\n",
      "2\n",
      "3\n",
      "4\n",
      "5\n",
      "6\n",
      "7\n",
      "8\n",
      "9\n"
     ]
    }
   ],
   "source": [
    "for i in range(1,10):\n",
    "    print(i)"
   ]
  },
  {
   "cell_type": "code",
   "execution_count": 72,
   "metadata": {},
   "outputs": [
    {
     "data": {
      "text/plain": [
       "[0, 1, 2, 3, 4, 5, 6, 7, 8, 9]"
      ]
     },
     "execution_count": 72,
     "metadata": {},
     "output_type": "execute_result"
    }
   ],
   "source": [
    "list(range(10))"
   ]
  },
  {
   "cell_type": "code",
   "execution_count": 73,
   "metadata": {},
   "outputs": [
    {
     "data": {
      "text/plain": [
       "range"
      ]
     },
     "execution_count": 73,
     "metadata": {},
     "output_type": "execute_result"
    }
   ],
   "source": [
    "#iterable\n",
    "type(range(10))"
   ]
  },
  {
   "cell_type": "code",
   "execution_count": 76,
   "metadata": {},
   "outputs": [
    {
     "name": "stdout",
     "output_type": "stream",
     "text": [
      "6\n",
      "12\n",
      "18\n",
      "24\n",
      "30\n",
      "36\n",
      "42\n",
      "48\n",
      "54\n",
      "60\n",
      "66\n",
      "72\n",
      "78\n",
      "84\n",
      "90\n",
      "96\n",
      "102\n",
      "108\n",
      "114\n",
      "120\n",
      "126\n",
      "132\n",
      "138\n",
      "144\n",
      "150\n",
      "156\n",
      "162\n",
      "168\n",
      "174\n",
      "180\n",
      "186\n",
      "192\n",
      "198\n",
      "204\n",
      "210\n",
      "216\n",
      "222\n",
      "228\n",
      "234\n",
      "240\n",
      "246\n",
      "252\n",
      "258\n",
      "264\n",
      "270\n",
      "276\n",
      "282\n",
      "288\n",
      "294\n",
      "300\n"
     ]
    }
   ],
   "source": [
    "#1~100 반복\n",
    "#i가 2의 배수일 때만 3을 곱해서 출력\n",
    "#나머지 무시\n",
    "for i in range(1,101):\n",
    "    if i % 2 ==0:\n",
    "        print(i*3)"
   ]
  },
  {
   "cell_type": "code",
   "execution_count": 77,
   "metadata": {},
   "outputs": [],
   "source": [
    "items = ['python','go','julia','node.js']"
   ]
  },
  {
   "cell_type": "code",
   "execution_count": 82,
   "metadata": {},
   "outputs": [
    {
     "name": "stdout",
     "output_type": "stream",
     "text": [
      "I love python.\n",
      "I love go.\n",
      "I love julia.\n",
      "I love node.js.\n"
     ]
    }
   ],
   "source": [
    "for i in items:\n",
    "    print('I love {}.'.format(i))"
   ]
  },
  {
   "cell_type": "code",
   "execution_count": 83,
   "metadata": {},
   "outputs": [
    {
     "name": "stdout",
     "output_type": "stream",
     "text": [
      "haha\n",
      "haha\n",
      "haha\n",
      "haha\n"
     ]
    }
   ],
   "source": [
    "for _ in items:\n",
    "    print('haha')"
   ]
  },
  {
   "cell_type": "code",
   "execution_count": null,
   "metadata": {},
   "outputs": [],
   "source": [
    "#무한 반복\n",
    "while True :\n",
    "    print('hello')"
   ]
  },
  {
   "cell_type": "code",
   "execution_count": 84,
   "metadata": {},
   "outputs": [
    {
     "name": "stdout",
     "output_type": "stream",
     "text": [
      "hello\n"
     ]
    }
   ],
   "source": [
    "while True :\n",
    "    print('hello')\n",
    "    break"
   ]
  },
  {
   "cell_type": "code",
   "execution_count": 86,
   "metadata": {},
   "outputs": [
    {
     "name": "stdout",
     "output_type": "stream",
     "text": [
      "what's your name?: lee\n",
      "Hi, lee\n",
      "what's your name?: dk\n",
      "Hi, dk\n",
      "what's your name?: d\n",
      "Hi, d\n",
      "what's your name?: \n",
      "Hi, \n",
      "what's your name?: na gal lae\n",
      "Hi, na gal lae\n",
      "what's your name?: exit\n"
     ]
    }
   ],
   "source": [
    "while True:\n",
    "    username = input(\"what's your name?: \")\n",
    "    if username == 'exit':\n",
    "        break\n",
    "    else :\n",
    "        print(\"Hi, {}\".format(username))"
   ]
  },
  {
   "cell_type": "code",
   "execution_count": 87,
   "metadata": {},
   "outputs": [
    {
     "name": "stdout",
     "output_type": "stream",
     "text": [
      "1\n",
      "2\n"
     ]
    }
   ],
   "source": [
    "for i in range(1,100+1):\n",
    "    if i == 3:\n",
    "        break\n",
    "    else:\n",
    "        print(i)"
   ]
  },
  {
   "cell_type": "code",
   "execution_count": 89,
   "metadata": {
    "scrolled": true
   },
   "outputs": [
    {
     "name": "stdout",
     "output_type": "stream",
     "text": [
      "1\n",
      "3\n",
      "5\n",
      "7\n",
      "9\n",
      "11\n",
      "13\n",
      "15\n",
      "17\n",
      "19\n",
      "21\n",
      "23\n",
      "25\n",
      "27\n",
      "29\n",
      "31\n",
      "33\n",
      "35\n",
      "37\n",
      "39\n",
      "41\n",
      "43\n",
      "45\n",
      "47\n",
      "49\n",
      "51\n",
      "53\n",
      "55\n",
      "57\n",
      "59\n",
      "61\n",
      "63\n",
      "65\n",
      "67\n",
      "69\n",
      "71\n",
      "73\n",
      "75\n",
      "77\n",
      "79\n",
      "81\n",
      "83\n",
      "85\n",
      "87\n",
      "89\n",
      "91\n",
      "93\n",
      "95\n",
      "97\n",
      "99\n"
     ]
    }
   ],
   "source": [
    "for i in range(1,100+1):\n",
    "    if i %2 == 0:\n",
    "        continue\n",
    "\n",
    "    print(i)"
   ]
  },
  {
   "cell_type": "code",
   "execution_count": 93,
   "metadata": {},
   "outputs": [],
   "source": [
    "results = []\n",
    "with open('./a_word_list.txt','r') as f:\n",
    "    texts = f.readlines()\n",
    "    for text in texts:\n",
    "        text = text.replace('\\n','')\n",
    "        results.append(text)"
   ]
  },
  {
   "cell_type": "code",
   "execution_count": 98,
   "metadata": {},
   "outputs": [
    {
     "name": "stdout",
     "output_type": "stream",
     "text": [
      "<map object at 0x10428a358>\n"
     ]
    }
   ],
   "source": []
  },
  {
   "cell_type": "code",
   "execution_count": 95,
   "metadata": {},
   "outputs": [],
   "source": [
    "len_count = {}\n",
    "for i in map(len, results):\n",
    "    #len 구해서 키를 만들고\n",
    "    #get 없으면 0하고 +1\n",
    "    len_count[i] = len_count.get(i,0) + 1"
   ]
  },
  {
   "cell_type": "code",
   "execution_count": 99,
   "metadata": {},
   "outputs": [
    {
     "data": {
      "text/plain": [
       "dict_items([(5, 67), (6, 80), (7, 85), (9, 89), (11, 47), (10, 86), (12, 25), (3, 14), (8, 96), (4, 28), (13, 15), (15, 4), (17, 1), (2, 5), (14, 12), (16, 4), (18, 1), (22, 1)])"
      ]
     },
     "execution_count": 99,
     "metadata": {},
     "output_type": "execute_result"
    }
   ],
   "source": [
    "len_count.items()"
   ]
  },
  {
   "cell_type": "code",
   "execution_count": 100,
   "metadata": {},
   "outputs": [],
   "source": [
    "#길이별 단어 분류하기\n",
    "filtered_dict = {}\n",
    "for word in results:\n",
    "    filtered_dict.setdefault(len(word),[]).append(word)"
   ]
  },
  {
   "cell_type": "code",
   "execution_count": 101,
   "metadata": {
    "scrolled": true
   },
   "outputs": [
    {
     "data": {
      "text/plain": [
       "{2: ['AC', 'ad', 'ah', 'AM', 'am'],\n",
       " 3: ['ABC',\n",
       "  'ace',\n",
       "  'ACT',\n",
       "  'act',\n",
       "  'add',\n",
       "  'age',\n",
       "  'ago',\n",
       "  'aha',\n",
       "  'aid',\n",
       "  'aim',\n",
       "  'air',\n",
       "  'ale',\n",
       "  'all',\n",
       "  'amp'],\n",
       " 4: ['abet',\n",
       "  'able',\n",
       "  'ably',\n",
       "  'ache',\n",
       "  'achy',\n",
       "  'acid',\n",
       "  'acne',\n",
       "  'acre',\n",
       "  'A.D.',\n",
       "  'afar',\n",
       "  'aged',\n",
       "  'ages',\n",
       "  'aide',\n",
       "  'AIDS',\n",
       "  'airs',\n",
       "  'airy',\n",
       "  'ajar',\n",
       "  'akin',\n",
       "  'alas',\n",
       "  'ally',\n",
       "  'alms',\n",
       "  'also',\n",
       "  'alto',\n",
       "  'A.M.',\n",
       "  'amen',\n",
       "  'amid',\n",
       "  'ammo',\n",
       "  'amok'],\n",
       " 5: ['aback',\n",
       "  'abate',\n",
       "  'abbey',\n",
       "  'abbr.',\n",
       "  \"ABC's\",\n",
       "  'abhor',\n",
       "  'abide',\n",
       "  'abort',\n",
       "  'about',\n",
       "  'above',\n",
       "  'abuse',\n",
       "  'abyss',\n",
       "  'acorn',\n",
       "  'acrid',\n",
       "  'actor',\n",
       "  'acute',\n",
       "  'adage',\n",
       "  'adapt',\n",
       "  'adept',\n",
       "  'admit',\n",
       "  'adobe',\n",
       "  'adopt',\n",
       "  'adore',\n",
       "  'adorn',\n",
       "  'adult',\n",
       "  'affix',\n",
       "  'after',\n",
       "  'again',\n",
       "  'agent',\n",
       "  'agile',\n",
       "  'aging',\n",
       "  'agony',\n",
       "  'agree',\n",
       "  'ahead',\n",
       "  \"ain't\",\n",
       "  'aisle',\n",
       "  'alarm',\n",
       "  'album',\n",
       "  'alert',\n",
       "  'algae',\n",
       "  'alias',\n",
       "  'alibi',\n",
       "  'alien',\n",
       "  'align',\n",
       "  'alike',\n",
       "  'alive',\n",
       "  'Allah',\n",
       "  'allay',\n",
       "  'alley',\n",
       "  'allot',\n",
       "  'allow',\n",
       "  'alloy',\n",
       "  'aloft',\n",
       "  'aloha',\n",
       "  'alone',\n",
       "  'along',\n",
       "  'aloof',\n",
       "  'aloud',\n",
       "  'altar',\n",
       "  'alter',\n",
       "  'amass',\n",
       "  'amaze',\n",
       "  'amber',\n",
       "  'amble',\n",
       "  'amend',\n",
       "  'amiss',\n",
       "  'among'],\n",
       " 6: ['abacus',\n",
       "  'abduct',\n",
       "  'abject',\n",
       "  'ablaze',\n",
       "  'aboard',\n",
       "  'abound',\n",
       "  'abroad',\n",
       "  'abrupt',\n",
       "  'absent',\n",
       "  'absorb',\n",
       "  'absurd',\n",
       "  'accent',\n",
       "  'accept',\n",
       "  'access',\n",
       "  'accord',\n",
       "  'accost',\n",
       "  'accrue',\n",
       "  'accuse',\n",
       "  'acidic',\n",
       "  'acquit',\n",
       "  'across',\n",
       "  'acting',\n",
       "  'action',\n",
       "  'active',\n",
       "  'actual',\n",
       "  'acumen',\n",
       "  'addict',\n",
       "  'adhere',\n",
       "  'ad hoc',\n",
       "  'adjoin',\n",
       "  'adjust',\n",
       "  'ad lib',\n",
       "  'ad-lib',\n",
       "  'admire',\n",
       "  'adrift',\n",
       "  'adroit',\n",
       "  'Advent',\n",
       "  'advent',\n",
       "  'adverb',\n",
       "  'advice',\n",
       "  'advise',\n",
       "  'aerial',\n",
       "  'affair',\n",
       "  'affect',\n",
       "  'affirm',\n",
       "  'afford',\n",
       "  'afloat',\n",
       "  'afraid',\n",
       "  'afresh',\n",
       "  'Africa',\n",
       "  'agency',\n",
       "  'agenda',\n",
       "  'aghast',\n",
       "  'agreed',\n",
       "  'ailing',\n",
       "  'airily',\n",
       "  'airing',\n",
       "  'albeit',\n",
       "  'albino',\n",
       "  'alcove',\n",
       "  'alight',\n",
       "  'alkali',\n",
       "  'allege',\n",
       "  'allied',\n",
       "  'allude',\n",
       "  'allure',\n",
       "  'almond',\n",
       "  'almost',\n",
       "  'alpine',\n",
       "  'alumna',\n",
       "  'alumni',\n",
       "  'always',\n",
       "  'amazed',\n",
       "  'ambush',\n",
       "  'amends',\n",
       "  'amidst',\n",
       "  'amoeba',\n",
       "  'amoral',\n",
       "  'amount',\n",
       "  'ampere'],\n",
       " 7: ['abandon',\n",
       "  'abashed',\n",
       "  'abdomen',\n",
       "  'abiding',\n",
       "  'ability',\n",
       "  'abolish',\n",
       "  'abreast',\n",
       "  'abridge',\n",
       "  'abscess',\n",
       "  'abscond',\n",
       "  'absence',\n",
       "  'absolve',\n",
       "  'abstain',\n",
       "  'abusive',\n",
       "  'abysmal',\n",
       "  'academy',\n",
       "  'acclaim',\n",
       "  'account',\n",
       "  'accused',\n",
       "  'accuser',\n",
       "  'acerbic',\n",
       "  'achieve',\n",
       "  'acidity',\n",
       "  'acquire',\n",
       "  'acrobat',\n",
       "  'acronym',\n",
       "  'acrylic',\n",
       "  'actress',\n",
       "  'acutely',\n",
       "  'adamant',\n",
       "  'adapter',\n",
       "  'address',\n",
       "  'adeptly',\n",
       "  'adjourn',\n",
       "  'adjunct',\n",
       "  'admiral',\n",
       "  'admirer',\n",
       "  'adopted',\n",
       "  'advance',\n",
       "  'adverse',\n",
       "  'adviser',\n",
       "  'aerobic',\n",
       "  'aerosol',\n",
       "  'affable',\n",
       "  'affably',\n",
       "  'affairs',\n",
       "  'afflict',\n",
       "  'affront',\n",
       "  'African',\n",
       "  'against',\n",
       "  'agility',\n",
       "  'agitate',\n",
       "  'agonize',\n",
       "  'ailment',\n",
       "  'aimless',\n",
       "  'air bag',\n",
       "  'airfare',\n",
       "  'airless',\n",
       "  'airline',\n",
       "  'airmail',\n",
       "  'airport',\n",
       "  'alarmed',\n",
       "  'alcohol',\n",
       "  'alfalfa',\n",
       "  'algebra',\n",
       "  'alimony',\n",
       "  'alleged',\n",
       "  'allergy',\n",
       "  'all-out',\n",
       "  'almanac',\n",
       "  'already',\n",
       "  'alright',\n",
       "  'alumnae',\n",
       "  'alumnus',\n",
       "  'amateur',\n",
       "  'amazing',\n",
       "  'amenity',\n",
       "  'America',\n",
       "  'amiable',\n",
       "  'amiably',\n",
       "  'ammonia',\n",
       "  'amnesia',\n",
       "  'amnesty',\n",
       "  'amongst',\n",
       "  'amorous'],\n",
       " 8: ['abdicate',\n",
       "  'abnormal',\n",
       "  'abortion',\n",
       "  'abortive',\n",
       "  'abrasive',\n",
       "  'abruptly',\n",
       "  'absentee',\n",
       "  'absently',\n",
       "  'absolute',\n",
       "  'absorbed',\n",
       "  'abstract',\n",
       "  'absurdly',\n",
       "  'abundant',\n",
       "  'academic',\n",
       "  'accented',\n",
       "  'accepted',\n",
       "  'accident',\n",
       "  'accolade',\n",
       "  'accuracy',\n",
       "  'accurate',\n",
       "  'accusing',\n",
       "  'accustom',\n",
       "  'achiever',\n",
       "  'acoustic',\n",
       "  'acquaint',\n",
       "  'acrimony',\n",
       "  'activate',\n",
       "  'activism',\n",
       "  'activist',\n",
       "  'activity',\n",
       "  'actually',\n",
       "  'addicted',\n",
       "  'addition',\n",
       "  'additive',\n",
       "  'adequacy',\n",
       "  'adequate',\n",
       "  'adherent',\n",
       "  'adhesion',\n",
       "  'adhesive',\n",
       "  'adjacent',\n",
       "  'admiring',\n",
       "  'admonish',\n",
       "  'adoption',\n",
       "  'adoptive',\n",
       "  'adorable',\n",
       "  'adroitly',\n",
       "  'adultery',\n",
       "  'advanced',\n",
       "  'advisory',\n",
       "  'advocacy',\n",
       "  'advocate',\n",
       "  'aerobics',\n",
       "  'affected',\n",
       "  'affinity',\n",
       "  'affluent',\n",
       "  'agitated',\n",
       "  'agitator',\n",
       "  'agnostic',\n",
       "  'agonized',\n",
       "  'air base',\n",
       "  'airborne',\n",
       "  'aircraft',\n",
       "  'airfield',\n",
       "  'airliner',\n",
       "  'airplane',\n",
       "  'air raid',\n",
       "  'airspace',\n",
       "  'airstrip',\n",
       "  'airtight',\n",
       "  'air time',\n",
       "  'airwaves',\n",
       "  'alarming',\n",
       "  'alarmist',\n",
       "  'alderman',\n",
       "  'alienate',\n",
       "  'alkaline',\n",
       "  'allegory',\n",
       "  'allergic',\n",
       "  'alliance',\n",
       "  'allocate',\n",
       "  'all-star',\n",
       "  'alluring',\n",
       "  'allusion',\n",
       "  'almighty',\n",
       "  'alphabet',\n",
       "  'although',\n",
       "  'altitude',\n",
       "  'altruism',\n",
       "  'aluminum',\n",
       "  'ambiance',\n",
       "  'ambition',\n",
       "  'amenable',\n",
       "  'American',\n",
       "  'amicable',\n",
       "  'amicably',\n",
       "  'amnesiac'],\n",
       " 9: ['abandoned',\n",
       "  'abdominal',\n",
       "  'abduction',\n",
       "  'abhorrent',\n",
       "  'abolition',\n",
       "  'aborigine',\n",
       "  'absorbent',\n",
       "  'absorbing',\n",
       "  'abstinent',\n",
       "  'absurdity',\n",
       "  'abundance',\n",
       "  'abysmally',\n",
       "  'accessory',\n",
       "  'acclaimed',\n",
       "  'acclimate',\n",
       "  'accompany',\n",
       "  'accordion',\n",
       "  'acid rain',\n",
       "  'acoustics',\n",
       "  'acquiesce',\n",
       "  'acquittal',\n",
       "  'acrobatic',\n",
       "  'actuality',\n",
       "  'adamantly',\n",
       "  'adaptable',\n",
       "  'addiction',\n",
       "  'addictive',\n",
       "  'adherence',\n",
       "  'adjective',\n",
       "  'adjoining',\n",
       "  'admirable',\n",
       "  'admirably',\n",
       "  'admission',\n",
       "  'adoration',\n",
       "  'adornment',\n",
       "  'adulation',\n",
       "  'advantage',\n",
       "  'adventure',\n",
       "  'adverbial',\n",
       "  'adversary',\n",
       "  'adversely',\n",
       "  'adversity',\n",
       "  'advertise',\n",
       "  'advisable',\n",
       "  'aerospace',\n",
       "  'aesthetic',\n",
       "  'affection',\n",
       "  'affidavit',\n",
       "  'affiliate',\n",
       "  'affluence',\n",
       "  'afterlife',\n",
       "  'aftermath',\n",
       "  'afternoon',\n",
       "  'afterward',\n",
       "  'aggravate',\n",
       "  'aggressor',\n",
       "  'aggrieved',\n",
       "  'agitation',\n",
       "  'agonizing',\n",
       "  'agreeable',\n",
       "  'agreeably',\n",
       "  'agreement',\n",
       "  'aimlessly',\n",
       "  'air force',\n",
       "  'a la mode',\n",
       "  'alcoholic',\n",
       "  'algebraic',\n",
       "  'algorithm',\n",
       "  'alignment',\n",
       "  'all-clear',\n",
       "  'allegedly',\n",
       "  'alleviate',\n",
       "  'alligator',\n",
       "  'allotment',\n",
       "  'allowable',\n",
       "  'allowance',\n",
       "  'all right',\n",
       "  'alongside',\n",
       "  'alternate',\n",
       "  'amazement',\n",
       "  'amazingly',\n",
       "  'ambiguity',\n",
       "  'ambiguous',\n",
       "  'ambitious',\n",
       "  'ambulance',\n",
       "  'amendment',\n",
       "  'Americana',\n",
       "  'amorphous',\n",
       "  'amphibian'],\n",
       " 10: ['abbreviate',\n",
       "  'abdication',\n",
       "  'aberration',\n",
       "  'abhorrence',\n",
       "  'abnormally',\n",
       "  'abominable',\n",
       "  'aboriginal',\n",
       "  'about-face',\n",
       "  'aboveboard',\n",
       "  'abrasively',\n",
       "  'abridgment',\n",
       "  'abruptness',\n",
       "  'absolutely',\n",
       "  'absorption',\n",
       "  'abstention',\n",
       "  'abstinence',\n",
       "  'abundantly',\n",
       "  'accelerate',\n",
       "  'accentuate',\n",
       "  'acceptable',\n",
       "  'acceptably',\n",
       "  'acceptance',\n",
       "  'accessible',\n",
       "  'accidental',\n",
       "  'accomplice',\n",
       "  'accomplish',\n",
       "  'accordance',\n",
       "  'accountant',\n",
       "  'accounting',\n",
       "  'accredited',\n",
       "  'accumulate',\n",
       "  'accurately',\n",
       "  'accusation',\n",
       "  'accusingly',\n",
       "  'accustomed',\n",
       "  'acquainted',\n",
       "  'acrobatics',\n",
       "  'activation',\n",
       "  'adaptation',\n",
       "  'additional',\n",
       "  'adequately',\n",
       "  'adjectival',\n",
       "  'adjudicate',\n",
       "  'adjustable',\n",
       "  'adjustment',\n",
       "  'administer',\n",
       "  'admiration',\n",
       "  'admiringly',\n",
       "  'admissible',\n",
       "  'admittance',\n",
       "  'admittedly',\n",
       "  'admonition',\n",
       "  'adolescent',\n",
       "  'adrenaline',\n",
       "  'adulterate',\n",
       "  'adventurer',\n",
       "  'advertiser',\n",
       "  'aesthetics',\n",
       "  'affiliated',\n",
       "  'affliction',\n",
       "  'affordable',\n",
       "  'aftershave',\n",
       "  'aftershock',\n",
       "  'afterwards',\n",
       "  'aggression',\n",
       "  'aggressive',\n",
       "  'a la carte',\n",
       "  'alarmingly',\n",
       "  'alcoholism',\n",
       "  'alderwoman',\n",
       "  'alienation',\n",
       "  'all-around',\n",
       "  'allegation',\n",
       "  'allegiance',\n",
       "  'allocation',\n",
       "  'alma mater',\n",
       "  'alteration',\n",
       "  'altogether',\n",
       "  'altruistic',\n",
       "  'amalgamate',\n",
       "  'amateurish',\n",
       "  'ambassador',\n",
       "  'ambivalent',\n",
       "  'ameliorate',\n",
       "  'ammunition',\n",
       "  'amphibious'],\n",
       " 11: ['abandonment',\n",
       "  'able-bodied',\n",
       "  'abnormality',\n",
       "  'absenteeism',\n",
       "  'abstraction',\n",
       "  'accelerator',\n",
       "  'acclimation',\n",
       "  'accommodate',\n",
       "  'accompanist',\n",
       "  'accordingly',\n",
       "  'accountable',\n",
       "  'achievement',\n",
       "  'acknowledge',\n",
       "  'acquisition',\n",
       "  'acrimonious',\n",
       "  'across from',\n",
       "  'acupuncture',\n",
       "  'acute angle',\n",
       "  'adjournment',\n",
       "  'adjudicator',\n",
       "  'adolescence',\n",
       "  'advancement',\n",
       "  'adventurous',\n",
       "  'advertising',\n",
       "  'aerodynamic',\n",
       "  'affectation',\n",
       "  'affiliation',\n",
       "  'affirmation',\n",
       "  'affirmative',\n",
       "  'aftereffect',\n",
       "  'aggravating',\n",
       "  'aggravation',\n",
       "  'agnosticism',\n",
       "  'agonizingly',\n",
       "  'agriculture',\n",
       "  'alarm clock',\n",
       "  'allegorical',\n",
       "  'alleviation',\n",
       "  'altercation',\n",
       "  'alternately',\n",
       "  'alternation',\n",
       "  'alternative',\n",
       "  'ambiguously',\n",
       "  'ambitiously',\n",
       "  'ambivalence',\n",
       "  'Americanism',\n",
       "  'amphetamine'],\n",
       " 12: ['abbreviation',\n",
       "  'abolitionist',\n",
       "  'academically',\n",
       "  'acceleration',\n",
       "  'accidentally',\n",
       "  'accomplished',\n",
       "  'according to',\n",
       "  'accumulation',\n",
       "  'acknowledged',\n",
       "  'acquaintance',\n",
       "  'acquiescence',\n",
       "  \"Adam's apple\",\n",
       "  'additionally',\n",
       "  'adulteration',\n",
       "  'advantageous',\n",
       "  'aerodynamics',\n",
       "  'affectionate',\n",
       "  'afterthought',\n",
       "  'aggressively',\n",
       "  'agricultural',\n",
       "  'all-American',\n",
       "  'alphabetical',\n",
       "  'amalgamation',\n",
       "  'ambidextrous',\n",
       "  'amelioration'],\n",
       " 13: ['absent-minded',\n",
       "  'acceptability',\n",
       "  'accessibility',\n",
       "  'accommodating',\n",
       "  'accommodation',\n",
       "  'accompaniment',\n",
       "  'accreditation',\n",
       "  'actualization',\n",
       "  'administrator',\n",
       "  'advertisement',\n",
       "  'aesthetically',\n",
       "  'affirmatively',\n",
       "  'all-inclusive',\n",
       "  'alternatively',\n",
       "  'ambassadorial'],\n",
       " 14: ['accident-prone',\n",
       "  'accommodations',\n",
       "  'accomplishment',\n",
       "  'accountability',\n",
       "  \"Achilles' heel\",\n",
       "  'acknowledgment',\n",
       "  'administration',\n",
       "  'administrative',\n",
       "  'affectionately',\n",
       "  'aggressiveness',\n",
       "  'alphabetically',\n",
       "  'American dream'],\n",
       " 15: ['absent-mindedly',\n",
       "  'air-conditioned',\n",
       "  'air conditioner',\n",
       "  'American Indian'],\n",
       " 16: ['across-the-board',\n",
       "  'African-American',\n",
       "  'air conditioning',\n",
       "  'aircraft carrier'],\n",
       " 17: ['absent-mindedness'],\n",
       " 18: ['affirmative action'],\n",
       " 22: ['air traffic controller']}"
      ]
     },
     "execution_count": 101,
     "metadata": {},
     "output_type": "execute_result"
    }
   ],
   "source": [
    "filtered_dict"
   ]
  },
  {
   "cell_type": "code",
   "execution_count": 102,
   "metadata": {
    "collapsed": true
   },
   "outputs": [
    {
     "name": "stdout",
     "output_type": "stream",
     "text": [
      "1\n",
      "2\n",
      "Fizz\n",
      "4\n",
      "Buzz\n",
      "Fizz\n",
      "7\n",
      "8\n",
      "Fizz\n",
      "Buzz\n",
      "11\n",
      "Fizz\n",
      "13\n",
      "14\n",
      "FizzBuzz\n",
      "16\n",
      "17\n",
      "Fizz\n",
      "19\n",
      "Buzz\n",
      "Fizz\n",
      "22\n",
      "23\n",
      "Fizz\n",
      "Buzz\n",
      "26\n",
      "Fizz\n",
      "28\n",
      "29\n",
      "FizzBuzz\n",
      "31\n",
      "32\n",
      "Fizz\n",
      "34\n",
      "Buzz\n",
      "Fizz\n",
      "37\n",
      "38\n",
      "Fizz\n",
      "Buzz\n",
      "41\n",
      "Fizz\n",
      "43\n",
      "44\n",
      "FizzBuzz\n",
      "46\n",
      "47\n",
      "Fizz\n",
      "49\n",
      "Buzz\n",
      "Fizz\n",
      "52\n",
      "53\n",
      "Fizz\n",
      "Buzz\n",
      "56\n",
      "Fizz\n",
      "58\n",
      "59\n",
      "FizzBuzz\n",
      "61\n",
      "62\n",
      "Fizz\n",
      "64\n",
      "Buzz\n",
      "Fizz\n",
      "67\n",
      "68\n",
      "Fizz\n",
      "Buzz\n",
      "71\n",
      "Fizz\n",
      "73\n",
      "74\n",
      "FizzBuzz\n",
      "76\n",
      "77\n",
      "Fizz\n",
      "79\n",
      "Buzz\n",
      "Fizz\n",
      "82\n",
      "83\n",
      "Fizz\n",
      "Buzz\n",
      "86\n",
      "Fizz\n",
      "88\n",
      "89\n",
      "FizzBuzz\n",
      "91\n",
      "92\n",
      "Fizz\n",
      "94\n",
      "Buzz\n",
      "Fizz\n",
      "97\n",
      "98\n",
      "Fizz\n",
      "Buzz\n"
     ]
    }
   ],
   "source": [
    "#조금 더 효율적인 코딩\n",
    "for i in range(1,101):\n",
    "    if i % 15 ==0:\n",
    "        print('FizzBuzz')    \n",
    "    elif i % 5 ==0:\n",
    "        print('Buzz')    \n",
    "    elif i % 3 ==0:\n",
    "        print('Fizz')\n",
    "    else:\n",
    "        print(i)"
   ]
  },
  {
   "cell_type": "code",
   "execution_count": 103,
   "metadata": {
    "scrolled": true
   },
   "outputs": [
    {
     "name": "stdout",
     "output_type": "stream",
     "text": [
      "1\n",
      "2\n",
      "fizz\n",
      "4\n",
      "buzz\n",
      "fizz\n",
      "7\n",
      "8\n",
      "fizz\n",
      "buzz\n",
      "11\n",
      "fizz\n",
      "13\n",
      "14\n",
      "FizzBuzz\n",
      "16\n",
      "17\n",
      "fizz\n",
      "19\n",
      "buzz\n",
      "fizz\n",
      "22\n",
      "23\n",
      "fizz\n",
      "buzz\n",
      "26\n",
      "fizz\n",
      "28\n",
      "29\n",
      "FizzBuzz\n",
      "31\n",
      "32\n",
      "fizz\n",
      "34\n",
      "buzz\n",
      "fizz\n",
      "37\n",
      "38\n",
      "fizz\n",
      "buzz\n",
      "41\n",
      "fizz\n",
      "43\n",
      "44\n",
      "FizzBuzz\n",
      "46\n",
      "47\n",
      "fizz\n",
      "49\n",
      "buzz\n",
      "fizz\n",
      "52\n",
      "53\n",
      "fizz\n",
      "buzz\n",
      "56\n",
      "fizz\n",
      "58\n",
      "59\n",
      "FizzBuzz\n",
      "61\n",
      "62\n",
      "fizz\n",
      "64\n",
      "buzz\n",
      "fizz\n",
      "67\n",
      "68\n",
      "fizz\n",
      "buzz\n",
      "71\n",
      "fizz\n",
      "73\n",
      "74\n",
      "FizzBuzz\n",
      "76\n",
      "77\n",
      "fizz\n",
      "79\n",
      "buzz\n",
      "fizz\n",
      "82\n",
      "83\n",
      "fizz\n",
      "buzz\n",
      "86\n",
      "fizz\n",
      "88\n",
      "89\n",
      "FizzBuzz\n",
      "91\n",
      "92\n",
      "fizz\n",
      "94\n",
      "buzz\n",
      "fizz\n",
      "97\n",
      "98\n",
      "fizz\n",
      "buzz\n"
     ]
    }
   ],
   "source": [
    "#elif 하나 쓰기\n",
    "for i in range(1,101):\n",
    "    if i % 15 ==0:\n",
    "        print('FizzBuzz')    \n",
    "    else:\n",
    "        print('fizz' if i % 3==0 else 'buzz' if i % 5==0 else i)"
   ]
  },
  {
   "cell_type": "code",
   "execution_count": null,
   "metadata": {},
   "outputs": [],
   "source": [
    "#if 하나 쓰기\n",
    "for i in range(1,101):\n",
    "    if i % 15 ==0:\n",
    "        print('FizzBuzz')    \n",
    "    else:\n",
    "        print('fizz' if i % 3==0 else 'buzz' if i % 5==0 else i)"
   ]
  },
  {
   "cell_type": "code",
   "execution_count": 104,
   "metadata": {},
   "outputs": [
    {
     "data": {
      "text/plain": [
       "''"
      ]
     },
     "execution_count": 104,
     "metadata": {},
     "output_type": "execute_result"
    }
   ],
   "source": [
    "#hint1\n",
    "\"fizz\"*False"
   ]
  },
  {
   "cell_type": "code",
   "execution_count": 105,
   "metadata": {},
   "outputs": [
    {
     "data": {
      "text/plain": [
       "'fizz'"
      ]
     },
     "execution_count": 105,
     "metadata": {},
     "output_type": "execute_result"
    }
   ],
   "source": [
    "\"fizz\"*True"
   ]
  },
  {
   "cell_type": "code",
   "execution_count": 106,
   "metadata": {},
   "outputs": [
    {
     "data": {
      "text/plain": [
       "'fizzbuzz'"
      ]
     },
     "execution_count": 106,
     "metadata": {},
     "output_type": "execute_result"
    }
   ],
   "source": [
    "\"fizz\" + \"buzz\""
   ]
  }
 ],
 "metadata": {
  "kernelspec": {
   "display_name": "Python 3",
   "language": "python",
   "name": "python3"
  },
  "language_info": {
   "codemirror_mode": {
    "name": "ipython",
    "version": 3
   },
   "file_extension": ".py",
   "mimetype": "text/x-python",
   "name": "python",
   "nbconvert_exporter": "python",
   "pygments_lexer": "ipython3",
   "version": "3.6.3"
  }
 },
 "nbformat": 4,
 "nbformat_minor": 2
}
