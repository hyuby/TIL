{
 "cells": [
  {
   "cell_type": "code",
   "execution_count": 194,
   "metadata": {},
   "outputs": [],
   "source": [
    "%config Completer.use_jedi = False"
   ]
  },
  {
   "cell_type": "code",
   "execution_count": 195,
   "metadata": {},
   "outputs": [],
   "source": [
    "import numpy as np\n",
    "import pandas as pd\n",
    "import matplotlib as mpl\n",
    "import matplotlib.pyplot as plt\n",
    "import seaborn as sns\n",
    "from collections import OrderedDict\n",
    "import re"
   ]
  },
  {
   "cell_type": "markdown",
   "metadata": {},
   "source": [
    "(예제) 다음이 주어졌을 때, word와 document를 2차원으로 그려보고, python 과 가까운 단어를 순서대로 나열해보라."
   ]
  },
  {
   "cell_type": "markdown",
   "metadata": {},
   "source": [
    "``` python\n",
    "example = [\n",
    "    \"Machine learning is super fun\",\n",
    "    \"Python is super, super cool\",\n",
    "    \"Statistics is cool, too\",\n",
    "    \"Data science is fun\",\n",
    "    \"Python is great for machine learning\",\n",
    "    \"I like football\",\n",
    "    \"Football is great to watch\"\n",
    "]```"
   ]
  },
  {
   "cell_type": "markdown",
   "metadata": {},
   "source": [
    "``` python\n",
    "corpus = OrderedDict(\n",
    "    {\n",
    "        'cool':0, \n",
    "        'data':1,\n",
    "        'football':2,\n",
    "        'fun':3,\n",
    "        'great':4,\n",
    "        'learning':5,\n",
    "        'like':6,\n",
    "        'machine':7,\n",
    "        'python':8,\n",
    "        'science':9,\n",
    "        'statistics':10,\n",
    "        'super':11,\n",
    "        'watch':12\n",
    "    }\n",
    ")```"
   ]
  },
  {
   "cell_type": "code",
   "execution_count": 198,
   "metadata": {},
   "outputs": [],
   "source": [
    "example = [\n",
    "    \"Machine learning is super fun\",\n",
    "    \"Python is super, super cool\",\n",
    "    \"Statistics is cool, too\",\n",
    "    \"Data science is fun\",\n",
    "    \"Python is great for machine learning\",\n",
    "    \"I like football\",\n",
    "    \"Football is great to watch\"\n",
    "]"
   ]
  },
  {
   "cell_type": "code",
   "execution_count": 199,
   "metadata": {},
   "outputs": [],
   "source": [
    "corpus = OrderedDict(\n",
    "    {\n",
    "        'cool':0, \n",
    "        'data':1,\n",
    "        'football':2,\n",
    "        'fun':3,\n",
    "        'great':4,\n",
    "        'learning':5,\n",
    "        'like':6,\n",
    "        'machine':7,\n",
    "        'python':8,\n",
    "        'science':9,\n",
    "        'statistics':10,\n",
    "        'super':11,\n",
    "        'watch':12\n",
    "    }\n",
    ")"
   ]
  },
  {
   "cell_type": "markdown",
   "metadata": {},
   "source": [
    "### example을 쪼개서 문장들을 만들어준다"
   ]
  },
  {
   "cell_type": "code",
   "execution_count": 200,
   "metadata": {},
   "outputs": [],
   "source": [
    "d1 = example[0]\n",
    "d2 = example[1]\n",
    "d3 = example[2]\n",
    "d4 = example[3]\n",
    "d5 = example[4]\n",
    "d6 = example[5]\n",
    "d7 = example[6]"
   ]
  },
  {
   "cell_type": "code",
   "execution_count": 201,
   "metadata": {},
   "outputs": [],
   "source": [
    "#문장들 전처리하는 과정\n",
    "def parse_document(doc):\n",
    "    tokens = doc.split(' ')\n",
    "    tokens = map(str.lower, tokens)\n",
    "    tokens = list(tokens)\n",
    "    tokens = [re.sub(r'[^a-zA-Z0-9-]', '', token) for token in tokens]\n",
    "    \n",
    "    return tokens"
   ]
  },
  {
   "cell_type": "code",
   "execution_count": 202,
   "metadata": {},
   "outputs": [
    {
     "name": "stdout",
     "output_type": "stream",
     "text": [
      "['machine', 'learning', 'is', 'super', 'fun']\n",
      "['python', 'is', 'super', 'super', 'cool']\n",
      "['statistics', 'is', 'cool', 'too']\n",
      "['data', 'science', 'is', 'fun']\n",
      "['python', 'is', 'great', 'for', 'machine', 'learning']\n",
      "['i', 'like', 'football']\n",
      "['football', 'is', 'great', 'to', 'watch']\n"
     ]
    }
   ],
   "source": [
    "d1_tokens = parse_document(d1)\n",
    "d2_tokens = parse_document(d2)\n",
    "d3_tokens = parse_document(d3)\n",
    "d4_tokens = parse_document(d4)\n",
    "d5_tokens = parse_document(d5)\n",
    "d6_tokens = parse_document(d6)\n",
    "d7_tokens = parse_document(d7)\n",
    "\n",
    "\n",
    "print(d1_tokens)\n",
    "print(d2_tokens)\n",
    "print(d3_tokens)\n",
    "print(d4_tokens)\n",
    "print(d5_tokens)\n",
    "print(d6_tokens)\n",
    "print(d7_tokens)\n"
   ]
  },
  {
   "cell_type": "code",
   "execution_count": 203,
   "metadata": {},
   "outputs": [
    {
     "name": "stdout",
     "output_type": "stream",
     "text": [
      "cool 0\n",
      "data 1\n",
      "football 2\n",
      "fun 3\n",
      "great 4\n",
      "learning 5\n",
      "like 6\n",
      "machine 7\n",
      "python 8\n",
      "science 9\n",
      "statistics 10\n",
      "super 11\n",
      "watch 12\n"
     ]
    }
   ],
   "source": [
    "for v, i in corpus.items():\n",
    "    print(v, i)"
   ]
  },
  {
   "cell_type": "code",
   "execution_count": 204,
   "metadata": {},
   "outputs": [],
   "source": [
    "# Document vector를 생성하는 함수\n",
    "def get_doc_vector(tokens):\n",
    "    doc_vec = [1 if v in tokens else 0 for v, i in corpus.items()]\n",
    "    return doc_vec"
   ]
  },
  {
   "cell_type": "code",
   "execution_count": 205,
   "metadata": {},
   "outputs": [
    {
     "name": "stdout",
     "output_type": "stream",
     "text": [
      "[0, 0, 0, 1, 0, 1, 0, 1, 0, 0, 0, 1, 0]\n",
      "[1, 0, 0, 0, 0, 0, 0, 0, 1, 0, 0, 1, 0]\n",
      "[1, 0, 0, 0, 0, 0, 0, 0, 0, 0, 1, 0, 0]\n",
      "[0, 1, 0, 1, 0, 0, 0, 0, 0, 1, 0, 0, 0]\n",
      "[0, 0, 0, 0, 1, 1, 0, 1, 1, 0, 0, 0, 0]\n",
      "[0, 0, 1, 0, 0, 0, 1, 0, 0, 0, 0, 0, 0]\n",
      "[0, 0, 1, 0, 1, 0, 0, 0, 0, 0, 0, 0, 1]\n"
     ]
    }
   ],
   "source": [
    "d1_vec = get_doc_vector(d1_tokens)\n",
    "d2_vec = get_doc_vector(d2_tokens)\n",
    "d3_vec = get_doc_vector(d3_tokens)\n",
    "d4_vec = get_doc_vector(d4_tokens)\n",
    "d5_vec = get_doc_vector(d5_tokens)\n",
    "d6_vec = get_doc_vector(d6_tokens)\n",
    "d7_vec = get_doc_vector(d7_tokens)\n",
    "\n",
    "print(d1_vec)\n",
    "print(d2_vec)\n",
    "print(d3_vec)\n",
    "print(d4_vec)\n",
    "print(d5_vec)\n",
    "print(d6_vec)\n",
    "print(d7_vec)"
   ]
  },
  {
   "cell_type": "code",
   "execution_count": 206,
   "metadata": {},
   "outputs": [
    {
     "data": {
      "text/plain": [
       "array([[0, 0, 0, 1, 0, 1, 0, 1, 0, 0, 0, 1, 0],\n",
       "       [1, 0, 0, 0, 0, 0, 0, 0, 1, 0, 0, 1, 0],\n",
       "       [1, 0, 0, 0, 0, 0, 0, 0, 0, 0, 1, 0, 0],\n",
       "       [0, 1, 0, 1, 0, 0, 0, 0, 0, 1, 0, 0, 0],\n",
       "       [0, 0, 0, 0, 1, 1, 0, 1, 1, 0, 0, 0, 0],\n",
       "       [0, 0, 1, 0, 0, 0, 1, 0, 0, 0, 0, 0, 0],\n",
       "       [0, 0, 1, 0, 1, 0, 0, 0, 0, 0, 0, 0, 1]])"
      ]
     },
     "execution_count": 206,
     "metadata": {},
     "output_type": "execute_result"
    }
   ],
   "source": [
    "A = np.array([d1_vec, d2_vec, d3_vec, d4_vec, d5_vec, d6_vec, d7_vec])\n",
    "A"
   ]
  },
  {
   "cell_type": "code",
   "execution_count": 207,
   "metadata": {},
   "outputs": [
    {
     "data": {
      "text/plain": [
       "array([[4, 1, 0, 1, 2, 0, 0],\n",
       "       [1, 3, 1, 0, 1, 0, 0],\n",
       "       [0, 1, 2, 0, 0, 0, 0],\n",
       "       [1, 0, 0, 3, 0, 0, 0],\n",
       "       [2, 1, 0, 0, 4, 0, 1],\n",
       "       [0, 0, 0, 0, 0, 2, 1],\n",
       "       [0, 0, 0, 0, 1, 1, 3]])"
      ]
     },
     "execution_count": 207,
     "metadata": {},
     "output_type": "execute_result"
    }
   ],
   "source": [
    "# document matrix (공통 단어가 문서에서 몇번 나왔는지?)\n",
    "doc_mat = np.dot(A, A.T)\n",
    "doc_mat"
   ]
  },
  {
   "cell_type": "code",
   "execution_count": 208,
   "metadata": {},
   "outputs": [
    {
     "data": {
      "text/plain": [
       "array([[2, 0, 0, 0, 0, 0, 0, 0, 1, 0, 1, 1, 0],\n",
       "       [0, 1, 0, 1, 0, 0, 0, 0, 0, 1, 0, 0, 0],\n",
       "       [0, 0, 2, 0, 1, 0, 1, 0, 0, 0, 0, 0, 1],\n",
       "       [0, 1, 0, 2, 0, 1, 0, 1, 0, 1, 0, 1, 0],\n",
       "       [0, 0, 1, 0, 2, 1, 0, 1, 1, 0, 0, 0, 1],\n",
       "       [0, 0, 0, 1, 1, 2, 0, 2, 1, 0, 0, 1, 0],\n",
       "       [0, 0, 1, 0, 0, 0, 1, 0, 0, 0, 0, 0, 0],\n",
       "       [0, 0, 0, 1, 1, 2, 0, 2, 1, 0, 0, 1, 0],\n",
       "       [1, 0, 0, 0, 1, 1, 0, 1, 2, 0, 0, 1, 0],\n",
       "       [0, 1, 0, 1, 0, 0, 0, 0, 0, 1, 0, 0, 0],\n",
       "       [1, 0, 0, 0, 0, 0, 0, 0, 0, 0, 1, 0, 0],\n",
       "       [1, 0, 0, 1, 0, 1, 0, 1, 1, 0, 0, 2, 0],\n",
       "       [0, 0, 1, 0, 1, 0, 0, 0, 0, 0, 0, 0, 1]])"
      ]
     },
     "execution_count": 208,
     "metadata": {},
     "output_type": "execute_result"
    }
   ],
   "source": [
    "# word matrix (문서에서 단어가 몇번 나왔는지?)\n",
    "word_mat = np.dot(A.T, A)\n",
    "word_mat"
   ]
  },
  {
   "cell_type": "code",
   "execution_count": 209,
   "metadata": {},
   "outputs": [],
   "source": [
    "#A 행렬을 SVD로 바로 나눠준다.\n",
    "U, sig, V_T = np.linalg.svd(A)"
   ]
  },
  {
   "cell_type": "markdown",
   "metadata": {},
   "source": [
    "## word_eigen vector를 만들때는 V_T.T(A_T*A)를 사용해야 한다.\n",
    "* __주의__ : `word_eigen_val, word_eigen_vec = np.linalg.eig(np.dot(A.T, A))`를 사용하게 되면 word_eigen_vec의 순서가 엉망이 되어버린다."
   ]
  },
  {
   "cell_type": "code",
   "execution_count": 224,
   "metadata": {},
   "outputs": [],
   "source": [
    "word_eigen_val, word_eigen_vec_dot = np.linalg.eig(np.dot(A.T, A))"
   ]
  },
  {
   "cell_type": "code",
   "execution_count": 228,
   "metadata": {},
   "outputs": [],
   "source": [
    "word_eigen_vec = V_T.T[:, :2]"
   ]
  },
  {
   "cell_type": "code",
   "execution_count": 254,
   "metadata": {},
   "outputs": [],
   "source": [
    "ata = np.dot(A.T, A)"
   ]
  },
  {
   "cell_type": "code",
   "execution_count": 259,
   "metadata": {},
   "outputs": [
    {
     "data": {
      "text/plain": [
       "False"
      ]
     },
     "execution_count": 259,
     "metadata": {},
     "output_type": "execute_result"
    }
   ],
   "source": [
    "np.dot(A.T, A) is ata.T"
   ]
  },
  {
   "cell_type": "code",
   "execution_count": 260,
   "metadata": {
    "scrolled": true
   },
   "outputs": [
    {
     "data": {
      "text/plain": [
       "False"
      ]
     },
     "execution_count": 260,
     "metadata": {},
     "output_type": "execute_result"
    }
   ],
   "source": [
    "ata is ata.T"
   ]
  },
  {
   "cell_type": "code",
   "execution_count": 269,
   "metadata": {},
   "outputs": [
    {
     "data": {
      "text/plain": [
       "array([[-0.16280159, -0.06365747, -0.08153494, -0.30698056, -0.31165761,\n",
       "        -0.48744948, -0.01400371, -0.48744948, -0.37896663, -0.06365747,\n",
       "        -0.02796134, -0.37816335, -0.06753123],\n",
       "       [ 0.10726903,  0.17803733, -0.56801159,  0.33609413, -0.50426555,\n",
       "         0.02510749, -0.19669535,  0.02510749, -0.06282621,  0.17803733,\n",
       "         0.03714593,  0.2281799 , -0.37131624],\n",
       "       [ 0.56753028, -0.31234068, -0.15891516, -0.4400973 , -0.06500102,\n",
       "        -0.09980894, -0.06596646, -0.09980894,  0.35989337, -0.31234068,\n",
       "         0.23558459,  0.20418907, -0.0929487 ],\n",
       "       [-0.47167366, -0.32694004, -0.38342851, -0.27204415,  0.06438076,\n",
       "         0.29342062, -0.20928454,  0.29342062,  0.02430195, -0.32694004,\n",
       "        -0.25745088, -0.15932689, -0.17414397],\n",
       "       [ 0.09339555,  0.30586704, -0.335503  , -0.08150866,  0.42490916,\n",
       "        -0.08435367, -0.45739012, -0.08435367,  0.26909174,  0.30586704,\n",
       "         0.12732584, -0.421306  ,  0.12188713],\n",
       "       [ 0.15827037, -0.14910562, -0.02427125,  0.11361448,  0.04276529,\n",
       "         0.22778809, -0.10196856,  0.22778809, -0.54158824, -0.14910562,\n",
       "         0.66492659, -0.24393613,  0.0776973 ],\n",
       "       [ 0.01428834,  0.14965023,  0.04296669, -0.13810005, -0.08261717,\n",
       "         0.14336504,  0.55669919,  0.14336504,  0.2602764 ,  0.14965023,\n",
       "         0.18512726, -0.45858921, -0.51373249],\n",
       "       [-0.11369133,  0.36329084,  0.21060964, -0.30264492, -0.31394715,\n",
       "        -0.37964684, -0.21060964,  0.63109722,  0.06249678, -0.06064591,\n",
       "         0.11369133,  0.05119455,  0.10333751],\n",
       "       [-0.20704032, -0.49577965,  0.23009486,  0.40962447, -0.29811439,\n",
       "        -0.1478498 , -0.23009486, -0.0114254 ,  0.45738959,  0.08615518,\n",
       "         0.20704032, -0.25034927,  0.06801952],\n",
       "       [ 0.03298642, -0.35164399,  0.06441144, -0.41313829, -0.13523936,\n",
       "         0.19818597, -0.06441144,  0.09249607, -0.15544268,  0.76478228,\n",
       "        -0.03298642,  0.12245626,  0.07082792],\n",
       "       [-0.46399237,  0.26687418, -0.04761734, -0.22319577, -0.1814318 ,\n",
       "         0.33701334,  0.04761734, -0.36669574,  0.2111142 , -0.04367841,\n",
       "         0.46399237,  0.25287817,  0.22904914],\n",
       "       [-0.33237781, -0.19166032, -0.16005546,  0.043474  ,  0.44723235,\n",
       "        -0.491527  ,  0.16005546,  0.07998492, -0.03569028,  0.14818633,\n",
       "         0.33237781,  0.36806808, -0.28717689],\n",
       "       [ 0.02832841, -0.11061159, -0.50409511,  0.06863482, -0.11115103,\n",
       "        -0.16032123,  0.50409511,  0.19574354,  0.07572872,  0.04197677,\n",
       "        -0.02832841, -0.10405713,  0.61524614]])"
      ]
     },
     "execution_count": 269,
     "metadata": {},
     "output_type": "execute_result"
    }
   ],
   "source": [
    "V_T"
   ]
  },
  {
   "cell_type": "code",
   "execution_count": 265,
   "metadata": {},
   "outputs": [
    {
     "data": {
      "text/plain": [
       "array([[ True,  True,  True,  True,  True,  True,  True,  True,  True,\n",
       "         True,  True,  True,  True],\n",
       "       [ True,  True,  True,  True,  True,  True,  True,  True,  True,\n",
       "         True,  True,  True,  True],\n",
       "       [ True,  True,  True,  True,  True,  True,  True,  True,  True,\n",
       "         True,  True,  True,  True],\n",
       "       [ True,  True,  True,  True,  True,  True,  True,  True,  True,\n",
       "         True,  True,  True,  True],\n",
       "       [ True,  True,  True,  True,  True,  True,  True,  True,  True,\n",
       "         True,  True,  True,  True],\n",
       "       [ True,  True,  True,  True,  True,  True,  True,  True,  True,\n",
       "         True,  True,  True,  True],\n",
       "       [ True,  True,  True,  True,  True,  True,  True,  True,  True,\n",
       "         True,  True,  True,  True],\n",
       "       [ True,  True,  True,  True,  True,  True,  True,  True,  True,\n",
       "         True,  True,  True,  True],\n",
       "       [ True,  True,  True,  True,  True,  True,  True,  True,  True,\n",
       "         True,  True,  True,  True],\n",
       "       [ True,  True,  True,  True,  True,  True,  True,  True,  True,\n",
       "         True,  True,  True,  True],\n",
       "       [ True,  True,  True,  True,  True,  True,  True,  True,  True,\n",
       "         True,  True,  True,  True],\n",
       "       [ True,  True,  True,  True,  True,  True,  True,  True,  True,\n",
       "         True,  True,  True,  True],\n",
       "       [ True,  True,  True,  True,  True,  True,  True,  True,  True,\n",
       "         True,  True,  True,  True]])"
      ]
     },
     "execution_count": 265,
     "metadata": {},
     "output_type": "execute_result"
    }
   ],
   "source": [
    "ata == ata.T"
   ]
  },
  {
   "cell_type": "code",
   "execution_count": 257,
   "metadata": {
    "scrolled": true
   },
   "outputs": [
    {
     "data": {
      "text/plain": [
       "array([[2, 0, 0, 0, 0, 0, 0, 0, 1, 0, 1, 1, 0],\n",
       "       [0, 1, 0, 1, 0, 0, 0, 0, 0, 1, 0, 0, 0],\n",
       "       [0, 0, 2, 0, 1, 0, 1, 0, 0, 0, 0, 0, 1],\n",
       "       [0, 1, 0, 2, 0, 1, 0, 1, 0, 1, 0, 1, 0],\n",
       "       [0, 0, 1, 0, 2, 1, 0, 1, 1, 0, 0, 0, 1],\n",
       "       [0, 0, 0, 1, 1, 2, 0, 2, 1, 0, 0, 1, 0],\n",
       "       [0, 0, 1, 0, 0, 0, 1, 0, 0, 0, 0, 0, 0],\n",
       "       [0, 0, 0, 1, 1, 2, 0, 2, 1, 0, 0, 1, 0],\n",
       "       [1, 0, 0, 0, 1, 1, 0, 1, 2, 0, 0, 1, 0],\n",
       "       [0, 1, 0, 1, 0, 0, 0, 0, 0, 1, 0, 0, 0],\n",
       "       [1, 0, 0, 0, 0, 0, 0, 0, 0, 0, 1, 0, 0],\n",
       "       [1, 0, 0, 1, 0, 1, 0, 1, 1, 0, 0, 2, 0],\n",
       "       [0, 0, 1, 0, 1, 0, 0, 0, 0, 0, 0, 0, 1]])"
      ]
     },
     "execution_count": 257,
     "metadata": {},
     "output_type": "execute_result"
    }
   ],
   "source": [
    "ata.T"
   ]
  },
  {
   "cell_type": "code",
   "execution_count": 253,
   "metadata": {},
   "outputs": [
    {
     "data": {
      "text/plain": [
       "False"
      ]
     },
     "execution_count": 253,
     "metadata": {},
     "output_type": "execute_result"
    }
   ],
   "source": [
    "V_T.T is V_T"
   ]
  },
  {
   "cell_type": "code",
   "execution_count": 248,
   "metadata": {},
   "outputs": [
    {
     "data": {
      "text/plain": [
       "array([[4, 1, 0, 1, 2, 0, 0],\n",
       "       [1, 3, 1, 0, 1, 0, 0],\n",
       "       [0, 1, 2, 0, 0, 0, 0],\n",
       "       [1, 0, 0, 3, 0, 0, 0],\n",
       "       [2, 1, 0, 0, 4, 0, 1],\n",
       "       [0, 0, 0, 0, 0, 2, 1],\n",
       "       [0, 0, 0, 0, 1, 1, 3]])"
      ]
     },
     "execution_count": 248,
     "metadata": {},
     "output_type": "execute_result"
    }
   ],
   "source": [
    "aat.T"
   ]
  },
  {
   "cell_type": "code",
   "execution_count": 229,
   "metadata": {},
   "outputs": [
    {
     "data": {
      "text/plain": [
       "array([[-0.16280159,  0.10726903],\n",
       "       [-0.06365747,  0.17803733],\n",
       "       [-0.08153494, -0.56801159],\n",
       "       [-0.30698056,  0.33609413],\n",
       "       [-0.31165761, -0.50426555],\n",
       "       [-0.48744948,  0.02510749],\n",
       "       [-0.01400371, -0.19669535],\n",
       "       [-0.48744948,  0.02510749],\n",
       "       [-0.37896663, -0.06282621],\n",
       "       [-0.06365747,  0.17803733],\n",
       "       [-0.02796134,  0.03714593],\n",
       "       [-0.37816335,  0.2281799 ],\n",
       "       [-0.06753123, -0.37131624]])"
      ]
     },
     "execution_count": 229,
     "metadata": {},
     "output_type": "execute_result"
    }
   ],
   "source": [
    "word_eigen_vec # 이걸 사용 권장"
   ]
  },
  {
   "cell_type": "code",
   "execution_count": 227,
   "metadata": {},
   "outputs": [
    {
     "data": {
      "text/plain": [
       "array([[-0.16280159, -0.10726903],\n",
       "       [-0.06365747, -0.17803733],\n",
       "       [-0.08153494,  0.56801159],\n",
       "       [-0.30698056, -0.33609413],\n",
       "       [-0.31165761,  0.50426555],\n",
       "       [-0.48744948, -0.02510749],\n",
       "       [-0.01400371,  0.19669535],\n",
       "       [-0.48744948, -0.02510749],\n",
       "       [-0.37896663,  0.06282621],\n",
       "       [-0.06365747, -0.17803733],\n",
       "       [-0.02796134, -0.03714593],\n",
       "       [-0.37816335, -0.2281799 ],\n",
       "       [-0.06753123,  0.37131624]])"
      ]
     },
     "execution_count": 227,
     "metadata": {},
     "output_type": "execute_result"
    }
   ],
   "source": [
    "word_eigen_vec_dot[:,:2] #값잉 위와 다른 것을 확인할 수 있다."
   ]
  },
  {
   "cell_type": "code",
   "execution_count": 230,
   "metadata": {},
   "outputs": [
    {
     "data": {
      "text/plain": [
       "array([ 6.82238103e+00,  3.88777334e+00,  3.40902971e+00,  2.83209187e+00,\n",
       "        1.73351605e+00,  1.23802682e+00,  1.07718117e+00,  3.29061336e-16,\n",
       "       -3.60373074e-16, -1.65660688e-16, -8.71662318e-17,  5.80487724e-17,\n",
       "        4.33698469e-17])"
      ]
     },
     "execution_count": 230,
     "metadata": {},
     "output_type": "execute_result"
    }
   ],
   "source": [
    "word_eigen_val"
   ]
  },
  {
   "cell_type": "code",
   "execution_count": 56,
   "metadata": {},
   "outputs": [
    {
     "data": {
      "text/plain": [
       "array([[-0.16280159, -0.10726903],\n",
       "       [-0.06365747, -0.17803733],\n",
       "       [-0.08153494,  0.56801159],\n",
       "       [-0.30698056, -0.33609413],\n",
       "       [-0.31165761,  0.50426555],\n",
       "       [-0.48744948, -0.02510749],\n",
       "       [-0.01400371,  0.19669535],\n",
       "       [-0.48744948, -0.02510749],\n",
       "       [-0.37896663,  0.06282621],\n",
       "       [-0.06365747, -0.17803733],\n",
       "       [-0.02796134, -0.03714593],\n",
       "       [-0.37816335, -0.2281799 ],\n",
       "       [-0.06753123,  0.37131624]])"
      ]
     },
     "execution_count": 56,
     "metadata": {},
     "output_type": "execute_result"
    }
   ],
   "source": [
    "word_eigen_vec[:,:2]"
   ]
  },
  {
   "cell_type": "code",
   "execution_count": 231,
   "metadata": {},
   "outputs": [
    {
     "name": "stderr",
     "output_type": "stream",
     "text": [
      "/Users/sanghyub/anaconda/lib/python3.6/site-packages/ipykernel_launcher.py:1: RuntimeWarning: invalid value encountered in sqrt\n",
      "  \"\"\"Entry point for launching an IPython kernel.\n"
     ]
    },
    {
     "data": {
      "text/plain": [
       "array([2.61196880e+00, 1.97174373e+00, 1.84635579e+00, 1.68288201e+00,\n",
       "       1.31663057e+00, 1.11266654e+00, 1.03787339e+00, 1.81400479e-08,\n",
       "                  nan,            nan,            nan, 7.61897450e-09,\n",
       "       6.58557871e-09])"
      ]
     },
     "execution_count": 231,
     "metadata": {},
     "output_type": "execute_result"
    }
   ],
   "source": [
    "np.sqrt(word_eigen_val)"
   ]
  },
  {
   "cell_type": "code",
   "execution_count": 232,
   "metadata": {},
   "outputs": [
    {
     "data": {
      "text/plain": [
       "array([2.6119688 , 1.97174373, 1.84635579, 1.68288201, 1.31663057,\n",
       "       1.11266654, 1.03787339])"
      ]
     },
     "execution_count": 232,
     "metadata": {},
     "output_type": "execute_result"
    }
   ],
   "source": [
    "sig"
   ]
  },
  {
   "cell_type": "markdown",
   "metadata": {},
   "source": [
    "### k = 2"
   ]
  },
  {
   "cell_type": "code",
   "execution_count": 233,
   "metadata": {},
   "outputs": [],
   "source": [
    "word_vec = np.dot(np.diag(sig[:2]), word_eigen_vec[:, :2].T)"
   ]
  },
  {
   "cell_type": "code",
   "execution_count": 234,
   "metadata": {},
   "outputs": [
    {
     "data": {
      "text/plain": [
       "array([[-0.42523269, -0.16627132, -0.21296672, -0.80182365, -0.81403996,\n",
       "        -1.27320282, -0.03657726, -1.27320282, -0.98984902, -0.16627132,\n",
       "        -0.07303416, -0.98775086, -0.17638947],\n",
       "       [ 0.21150705,  0.35104399, -1.11997329,  0.66269149, -0.99428243,\n",
       "         0.04950553, -0.38783282,  0.04950553, -0.12387718,  0.35104399,\n",
       "         0.07324226,  0.44991228, -0.73214047]])"
      ]
     },
     "execution_count": 234,
     "metadata": {},
     "output_type": "execute_result"
    }
   ],
   "source": [
    "word_vec"
   ]
  },
  {
   "cell_type": "code",
   "execution_count": 235,
   "metadata": {},
   "outputs": [],
   "source": [
    "w_x = word_vec[0]\n",
    "w_y = word_vec[1]"
   ]
  },
  {
   "cell_type": "code",
   "execution_count": 236,
   "metadata": {},
   "outputs": [
    {
     "data": {
      "text/plain": [
       "(13,)"
      ]
     },
     "execution_count": 236,
     "metadata": {},
     "output_type": "execute_result"
    }
   ],
   "source": [
    "w_x.shape"
   ]
  },
  {
   "cell_type": "code",
   "execution_count": 237,
   "metadata": {},
   "outputs": [
    {
     "data": {
      "text/plain": [
       "(13,)"
      ]
     },
     "execution_count": 237,
     "metadata": {},
     "output_type": "execute_result"
    }
   ],
   "source": [
    "w_y.shape"
   ]
  },
  {
   "cell_type": "code",
   "execution_count": 270,
   "metadata": {},
   "outputs": [
    {
     "data": {
      "image/png": "[encoded data removed]",
      "text/plain": [
       "<matplotlib.figure.Figure at 0x1a16c76d30>"
      ]
     },
     "metadata": {
      "needs_background": "light"
     },
     "output_type": "display_data"
    }
   ],
   "source": [
    "mpl.rcParams['figure.figsize'] = (8, 8)\n",
    "\n",
    "fig, ax = plt.subplots()\n",
    "\n",
    "# Scatter\n",
    "ax.scatter(w_x, w_y, s=100)\n",
    "\n",
    "# Scatter에 라벨링을 한다.\n",
    "for i, txt in enumerate(corpus.keys()):\n",
    "    ax.annotate(txt, (w_x[i], w_y[i]), fontsize=20)  # free와 live가 겹쳐지는 위치"
   ]
  },
  {
   "cell_type": "markdown",
   "metadata": {},
   "source": [
    "## Document Eigen Vectors"
   ]
  },
  {
   "cell_type": "code",
   "execution_count": 78,
   "metadata": {},
   "outputs": [],
   "source": [
    "#doc_eigen_val, doc_eigen_vec = np.linalg.eig(np.dot(A, A.T))"
   ]
  },
  {
   "cell_type": "code",
   "execution_count": 271,
   "metadata": {},
   "outputs": [],
   "source": [
    "doc_eigen_vec = U[:, : 2]"
   ]
  },
  {
   "cell_type": "code",
   "execution_count": 274,
   "metadata": {},
   "outputs": [
    {
     "data": {
      "text/plain": [
       "array([2.6119688 , 1.97174373, 1.84635579, 1.68288201, 1.31663057,\n",
       "       1.11266654, 1.03787339])"
      ]
     },
     "execution_count": 274,
     "metadata": {},
     "output_type": "execute_result"
    }
   ],
   "source": [
    "sig"
   ]
  },
  {
   "cell_type": "code",
   "execution_count": 277,
   "metadata": {},
   "outputs": [],
   "source": [
    "doc_vec = np.dot(doc_eigen_vec, np.diag(sig[:2]))"
   ]
  },
  {
   "cell_type": "code",
   "execution_count": 278,
   "metadata": {},
   "outputs": [],
   "source": [
    "doc_x = doc_vec[:, 0]\n",
    "doc_y = doc_vec[:, 1]"
   ]
  },
  {
   "cell_type": "code",
   "execution_count": 279,
   "metadata": {},
   "outputs": [
    {
     "data": {
      "text/plain": [
       "array([-1.66004286, -0.91993157, -0.19076294, -0.43429549, -1.6655232 ,\n",
       "       -0.09553865, -0.46072378])"
      ]
     },
     "execution_count": 279,
     "metadata": {},
     "output_type": "execute_result"
    }
   ],
   "source": [
    "doc_x"
   ]
  },
  {
   "cell_type": "code",
   "execution_count": 280,
   "metadata": {},
   "outputs": [
    {
     "data": {
      "text/plain": [
       "array([ 0.614489  ,  0.27262272,  0.14441497,  0.69216879, -0.51687678,\n",
       "       -0.76470694, -1.44359338])"
      ]
     },
     "execution_count": 280,
     "metadata": {},
     "output_type": "execute_result"
    }
   ],
   "source": [
    "doc_y"
   ]
  },
  {
   "cell_type": "code",
   "execution_count": 88,
   "metadata": {},
   "outputs": [
    {
     "data": {
      "image/png": "[encoded data removed]",
      "text/plain": [
       "<matplotlib.figure.Figure at 0x1a14d27ac8>"
      ]
     },
     "metadata": {
      "needs_background": "light"
     },
     "output_type": "display_data"
    }
   ],
   "source": [
    "fig, ax = plt.subplots()\n",
    "\n",
    "# Scatter\n",
    "ax.scatter(doc_x, doc_y, marker='*', s=100)\n",
    "\n",
    "# Scatter에 라벨링을 한다.\n",
    "for i, txt in enumerate(['d1', 'd2', 'd3', 'd4', 'd5', 'd6', 'd7']):\n",
    "    ax.annotate(txt, (doc_x[i], doc_y[i]), fontsize=20)"
   ]
  },
  {
   "cell_type": "code",
   "execution_count": 281,
   "metadata": {},
   "outputs": [
    {
     "data": {
      "image/png": "[encoded data removed]",
      "text/plain": [
       "<matplotlib.figure.Figure at 0x1a16cba320>"
      ]
     },
     "metadata": {
      "needs_background": "light"
     },
     "output_type": "display_data"
    }
   ],
   "source": [
    "fig, ax = plt.subplots()\n",
    "ax.scatter(w_x, w_y, s=100)\n",
    "for i, txt in enumerate(corpus.keys()):\n",
    "    ax.annotate(txt, (w_x[i], w_y[i]), fontsize=20)\n",
    "    \n",
    "ax.scatter(doc_x, doc_y, marker='*', s = 100)\n",
    "for i, txt in enumerate(['d1','d2','d3','d4','d5','d6','d7']):\n",
    "    ax.annotate(txt, (doc_x[i], doc_y[i]), fontsize=20)"
   ]
  },
  {
   "cell_type": "markdown",
   "metadata": {},
   "source": [
    "## Cosine Similarity를 이용하자"
   ]
  },
  {
   "cell_type": "markdown",
   "metadata": {},
   "source": [
    "$\\text{Cosine Similarity} = \\frac{d_i q}{|d_i| |q|}$"
   ]
  },
  {
   "cell_type": "code",
   "execution_count": 282,
   "metadata": {},
   "outputs": [],
   "source": [
    "def get_consine_similarity(doc, query):\n",
    "    dot_prod = np.dot(doc, query)\n",
    "    len_doc = np.sqrt(sum(doc ** 2))\n",
    "    len_query = np.sqrt(sum(query ** 2))\n",
    "    \n",
    "    return dot_prod / (len_doc * len_query)"
   ]
  },
  {
   "cell_type": "code",
   "execution_count": 283,
   "metadata": {},
   "outputs": [],
   "source": [
    "docs = [d1, d2, d3, d4, d5, d6, d7]"
   ]
  },
  {
   "cell_type": "code",
   "execution_count": 284,
   "metadata": {},
   "outputs": [
    {
     "data": {
      "text/plain": [
       "array([[-1.66004286,  0.614489  ],\n",
       "       [-0.91993157,  0.27262272],\n",
       "       [-0.19076294,  0.14441497],\n",
       "       [-0.43429549,  0.69216879],\n",
       "       [-1.6655232 , -0.51687678],\n",
       "       [-0.09553865, -0.76470694],\n",
       "       [-0.46072378, -1.44359338]])"
      ]
     },
     "execution_count": 284,
     "metadata": {},
     "output_type": "execute_result"
    }
   ],
   "source": [
    "doc_vec"
   ]
  },
  {
   "cell_type": "markdown",
   "metadata": {},
   "source": [
    "### Query"
   ]
  },
  {
   "cell_type": "code",
   "execution_count": 287,
   "metadata": {},
   "outputs": [
    {
     "name": "stdout",
     "output_type": "stream",
     "text": [
      "machine [-1.27320282  0.04950553]\n",
      "python [-0.98984902 -0.12387718]\n",
      "learning [-1.27320282  0.04950553]\n"
     ]
    }
   ],
   "source": [
    "# Query : die, dagger\n",
    "q1 = word_vec[:, 7]\n",
    "print('machine', q1)\n",
    "\n",
    "q2 = word_vec[:, 8]\n",
    "print('python', q2)\n",
    "\n",
    "q3 = word_vec[:, 5]\n",
    "print('learning', q3)"
   ]
  },
  {
   "cell_type": "code",
   "execution_count": 288,
   "metadata": {},
   "outputs": [],
   "source": [
    "query = (q1 + q2 + q3) / 3"
   ]
  },
  {
   "cell_type": "code",
   "execution_count": 290,
   "metadata": {},
   "outputs": [
    {
     "name": "stdout",
     "output_type": "stream",
     "text": [
      "machine leaerning python:  [-1.17875156 -0.00828871]\n"
     ]
    }
   ],
   "source": [
    "print('machine leaerning python: ', query)"
   ]
  },
  {
   "cell_type": "code",
   "execution_count": 291,
   "metadata": {},
   "outputs": [],
   "source": [
    "result = {}\n",
    "for idx, doc in zip(docs, doc_vec):\n",
    "    result[get_consine_similarity(doc, query)] = idx"
   ]
  },
  {
   "cell_type": "code",
   "execution_count": 292,
   "metadata": {},
   "outputs": [
    {
     "data": {
      "text/plain": [
       "{0.130945501416146: 'I like football',\n",
       " 0.31073285924247535: 'Football is great to watch',\n",
       " 0.5255159978291322: 'Data science is fun',\n",
       " 0.7930342446275301: 'Statistics is cool, too',\n",
       " 0.9353474497542472: 'Machine learning is super fun',\n",
       " 0.9567621655734274: 'Python is super, super cool',\n",
       " 0.9571262278922466: 'Python is great for machine learning'}"
      ]
     },
     "execution_count": 292,
     "metadata": {},
     "output_type": "execute_result"
    }
   ],
   "source": [
    "result"
   ]
  },
  {
   "cell_type": "code",
   "execution_count": 293,
   "metadata": {},
   "outputs": [
    {
     "data": {
      "text/plain": [
       "[(0.9571262278922466, 'Python is great for machine learning'),\n",
       " (0.9567621655734274, 'Python is super, super cool'),\n",
       " (0.9353474497542472, 'Machine learning is super fun'),\n",
       " (0.7930342446275301, 'Statistics is cool, too'),\n",
       " (0.5255159978291322, 'Data science is fun'),\n",
       " (0.31073285924247535, 'Football is great to watch'),\n",
       " (0.130945501416146, 'I like football')]"
      ]
     },
     "execution_count": 293,
     "metadata": {},
     "output_type": "execute_result"
    }
   ],
   "source": [
    "import operator\n",
    "\n",
    "# 최종결과를 sorting하라!\n",
    "sorted(result.items(), key=operator.itemgetter(0), reverse=True)"
   ]
  },
  {
   "cell_type": "code",
   "execution_count": 294,
   "metadata": {},
   "outputs": [
    {
     "data": {
      "text/plain": [
       "Text(-0.166271,-0.351044,'query_python')"
      ]
     },
     "execution_count": 294,
     "metadata": {},
     "output_type": "execute_result"
    },
    {
     "data": {
      "image/png": "[encoded data removed]",
      "text/plain": [
       "<matplotlib.figure.Figure at 0x1a16d348d0>"
      ]
     },
     "metadata": {
      "needs_background": "light"
     },
     "output_type": "display_data"
    }
   ],
   "source": [
    "fig, ax = plt.subplots()\n",
    "ax.scatter(w_x, w_y, s=100)\n",
    "for i, txt in enumerate(corpus.keys()):\n",
    "    ax.annotate(txt, (w_x[i], w_y[i]), fontsize=20)\n",
    "    \n",
    "ax.scatter(doc_x, doc_y, marker='*', s=100)\n",
    "for i, txt in enumerate(['d1', 'd2', 'd3', 'd4', 'd5','d6','d7']):\n",
    "    ax.annotate(txt, (doc_x[i], doc_y[i]), fontsize=20)\n",
    "    \n",
    "ax.scatter(query_python[0], query_python[1], marker='v', s=200, color='red')\n",
    "ax.annotate('query_python', (query_python[0], query_python[1]), fontsize=20)"
   ]
  },
  {
   "cell_type": "markdown",
   "metadata": {},
   "source": [
    "# 축 방향 scaling 주의"
   ]
  }
 ],
 "metadata": {
  "kernelspec": {
   "display_name": "Python 3",
   "language": "python",
   "name": "python3"
  },
  "language_info": {
   "codemirror_mode": {
    "name": "ipython",
    "version": 3
   },
   "file_extension": ".py",
   "mimetype": "text/x-python",
   "name": "python",
   "nbconvert_exporter": "python",
   "pygments_lexer": "ipython3",
   "version": "3.6.7"
  }
 },
 "nbformat": 4,
 "nbformat_minor": 2
}
