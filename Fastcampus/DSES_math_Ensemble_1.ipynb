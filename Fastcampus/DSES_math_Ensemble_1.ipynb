{
 "cells": [
  {
   "cell_type": "code",
   "execution_count": 1,
   "metadata": {},
   "outputs": [],
   "source": [
    "%config Completer.use_jedi = False"
   ]
  },
  {
   "cell_type": "code",
   "execution_count": 2,
   "metadata": {},
   "outputs": [],
   "source": [
    "import warnings\n",
    "warnings.filterwarnings('ignore')"
   ]
  },
  {
   "cell_type": "markdown",
   "metadata": {},
   "source": [
    "# Ensemble"
   ]
  },
  {
   "cell_type": "markdown",
   "metadata": {},
   "source": [
    "- 일련의 예측기 (즉, 분류나 회귀 모델)로부터 예측을 수집하면 가장 좋은 모델 하나보다 더 좋은 예측을 얻을 수 있다. 일련의 예측기를 **ensemble**이라고 부르기 때문에 이를 **ensemble learning**이라고 한다. 앙상블 학습 알고리즘을 **ensemble method**라고 한다.\n",
    "- 앙상블 학습 알고리즘의 예시 \n",
    "    - 훈련 세트로부터 무작위로 각기 다른 서브셋을 생성한다.\n",
    "    - 각각의 서브셋에 일련의 결정 트리 분류기를 훈련시킨다. \n",
    "    - 모든 개별 트리의 예측을 구한다. \n",
    "    - 그런 다음 가장 많은 선택(major vote)을 받은 클래스를 예측 결과값으로 한다. \n",
    "- 결정 트리의 대표적인 ensemble에는 **Random Forest**가 있다. 간단한 방법이지만 Random Forest는 오늘날 가장 강력한 머신러닝 알고리즘 중 하나이며, 현업에서도 많이 사용된다.\n",
    "- 대표적인 ensemble 기법\n",
    " - Bagging\n",
    " - Boosting\n",
    " - Stacking(ensemble의 ensemble)"
   ]
  },
  {
   "cell_type": "markdown",
   "metadata": {},
   "source": [
    "---\n",
    "# Ensemble 기법을 활용한 분류기 (이번 강의 노트에서 배우게 되는)\n",
    "### 1. Voting based classifer\n",
    "### 2. Bagging\n",
    "### 3. Random Forest\n",
    "---"
   ]
  },
  {
   "cell_type": "markdown",
   "metadata": {},
   "source": [
    "# 1. Voting based classifier (투표 기반 분류기)\n",
    " - 더 좋은 분류기를 만드는 방법은 각 분류기의 예측을 모아서 가장 많이 선택된 클래스를 예측하는 것\n",
    " - **Hard voting** or **Soft voting** classifier : 다수결 투표로 정해지는 분류기\n",
    "  - 각 개별 분류기(base classifier) 중 가장 뛰어난 분류기 보다도, 다수결 투표 분류기의 정확도가 높은 경우가 존재\n",
    "  - **Base classifer가 weak learner(약한 학습기, 랜덤 추측보다 조금 더 좋은 성능을 내는 분류기)일지라도, 충분하게 많고 다양하다면 strong learner(강한 학습기, 높은 정확도를 내는 분류기)가 될 수 있음**\n",
    "  - Law of large numbers(큰 수의 법칙)\n",
    "    - 동전 던지기 예제 : 앞면이 나올 확률이 51%이고 뒷면이 나올 확률이 49%인 동전이 존재한다고 하자. 동전을 1,000번 던졌을 때, 앞면이 다수가 나올 확률은 얼마일까? \n",
    "    - 이항분포를 사용하자. 성공 확률이 51%인 동전을 1,000번 던졌을 때 앞면이 1번만 나올 확률은 $\\frac{1000}{1} \\times 0.51^{1} \\times(1-0.51)^{1000-1}=1.6\\times 10^{-307}$이다. 이런식으로 499까지의 확률을 더하고 1에서 빼면 된다. (즉 1에서 뒷면이 다수가 나온 경우의 확률들을 모두 빼주는 것이다.)\n",
    "    - 51% 정확도를 가진 1,000개의 분류기로 앙상블 모델을 구축한다면 75%의 정확도를 기대할 수 있다. (분류기가 완벽하게 독립 & 오차의 상관관계가 없어야 가능)\n",
    "  - Ensemble 방법은 예측기가 가능한 한 서로 독립적일 때 최고의 성능을 발휘한다. 다양한 분류기를 얻는 한 가지 방법은 **각기 다른 알고리즘으로 학습**시키는 것이다. 이렇게 하면 매우 다른 종류의 오차를 만들 가능성이 높기 때문에 앙상블 모델의 정확도를 향상시킬 수 있다."
   ]
  },
  {
   "cell_type": "code",
   "execution_count": 2,
   "metadata": {},
   "outputs": [
    {
     "name": "stdout",
     "output_type": "stream",
     "text": [
      "0.7467502275561786\n",
      "0.9777976478701533\n"
     ]
    }
   ],
   "source": [
    "# 동전 던지기 예제\n",
    "from scipy import stats\n",
    "\n",
    "print(1 - stats.binom.cdf(499, 1000, 0.51))  # 천 번 던졌을 때 앞면이 절반 이상 나올 확률\n",
    "print(1 - stats.binom.cdf(4999, 10000, 0.51))  # 만 번 던졌을 때 앞면이 절반 이상 나올 확률"
   ]
  },
  {
   "cell_type": "markdown",
   "metadata": {},
   "source": [
    "### 데이터 로딩\n",
    "Skleran에서는 투표 기반 분류기를 `VotingClassifier`로 제공하고, base learner로 서로 다른 모델들을 사용할 수 있도록 해준다.\n",
    "\n",
    "Sklearn에서 제공해주는 moon 데이터를 활용해보자."
   ]
  },
  {
   "cell_type": "code",
   "execution_count": 3,
   "metadata": {},
   "outputs": [],
   "source": [
    "import sklearn.datasets as datasets\n",
    "x, y = datasets.make_moons(n_samples=1000, noise=0.3, random_state=42)"
   ]
  },
  {
   "cell_type": "code",
   "execution_count": 4,
   "metadata": {},
   "outputs": [
    {
     "data": {
      "text/plain": [
       "array([[-0.17186341,  0.59624885],\n",
       "       [ 1.25328273, -0.26541353],\n",
       "       [ 0.72322405,  0.2319425 ],\n",
       "       [-0.06519764, -0.65519443],\n",
       "       [-0.79949325,  0.55293543],\n",
       "       [ 0.71131439,  0.07365753],\n",
       "       [ 0.26252452, -0.17853072],\n",
       "       [-0.17500737,  0.5947448 ],\n",
       "       [ 1.54052117, -0.36735281],\n",
       "       [ 0.81833812,  1.06585092]])"
      ]
     },
     "execution_count": 4,
     "metadata": {},
     "output_type": "execute_result"
    }
   ],
   "source": [
    "x[:10]"
   ]
  },
  {
   "cell_type": "code",
   "execution_count": 5,
   "metadata": {},
   "outputs": [
    {
     "data": {
      "text/plain": [
       "array([1, 1, 1, 1, 0, 1, 1, 1, 1, 0])"
      ]
     },
     "execution_count": 5,
     "metadata": {},
     "output_type": "execute_result"
    }
   ],
   "source": [
    "y[:10]"
   ]
  },
  {
   "cell_type": "markdown",
   "metadata": {},
   "source": [
    "### 학습 / 테스트셋 구분"
   ]
  },
  {
   "cell_type": "code",
   "execution_count": 6,
   "metadata": {},
   "outputs": [],
   "source": [
    "from sklearn.model_selection import train_test_split\n",
    "train_x, test_x, train_y, test_y = train_test_split(x, y, random_state=42)"
   ]
  },
  {
   "cell_type": "markdown",
   "metadata": {},
   "source": [
    "### <font color=blue>투표 기반 분류기 학습</font>"
   ]
  },
  {
   "cell_type": "markdown",
   "metadata": {},
   "source": [
    "> **Hard voting** : Base learner의 결과값이 클래스이며, major class를 사용하여 최종 결과를 도출한다."
   ]
  },
  {
   "cell_type": "markdown",
   "metadata": {},
   "source": [
    "Base learner\n",
    " - LogisticRegression\n",
    " - DecisionTreeClassifier\n",
    " - SVC"
   ]
  },
  {
   "cell_type": "code",
   "execution_count": 7,
   "metadata": {},
   "outputs": [],
   "source": [
    "from sklearn.ensemble import VotingClassifier\n",
    "from sklearn.linear_model import LogisticRegression\n",
    "from sklearn.tree import DecisionTreeClassifier\n",
    "from sklearn.metrics import accuracy_score\n",
    "\n",
    "# Base learner들\n",
    "log_clf = LogisticRegression(solver=\"liblinear\", random_state=42)\n",
    "dt_7_clf = DecisionTreeClassifier(max_depth=7, random_state=42)\n",
    "dt_10_clf = DecisionTreeClassifier(max_depth=10, random_state=42)\n",
    "\n",
    "voting_clf = VotingClassifier(\n",
    "    estimators=[('lr', log_clf), ('dt_7', dt_7_clf), ('dt_10', dt_10_clf)], voting='hard'\n",
    ")"
   ]
  },
  {
   "cell_type": "code",
   "execution_count": 8,
   "metadata": {},
   "outputs": [
    {
     "name": "stdout",
     "output_type": "stream",
     "text": [
      "LogisticRegression 0.852\n",
      "DecisionTreeClassifier 0.892\n",
      "DecisionTreeClassifier 0.892\n",
      "VotingClassifier 0.908\n"
     ]
    }
   ],
   "source": [
    "# 개별 학습기의 성능 (랜덤포레스트, 로지스틱, SVM, 다수결 기반 분류기)\n",
    "for clf in (log_clf, dt_7_clf, dt_10_clf, voting_clf):\n",
    "    clf.fit(train_x, train_y)\n",
    "    test_pred = clf.predict(test_x)\n",
    "    print(clf.__class__.__name__, accuracy_score(test_y, test_pred))"
   ]
  },
  {
   "cell_type": "markdown",
   "metadata": {},
   "source": [
    "> **Soft voting** : Base learner의 결과값이 확률이며, 각 learner의 확률의 평균을 내어 최종 결과를 도출한다."
   ]
  },
  {
   "cell_type": "code",
   "execution_count": 9,
   "metadata": {},
   "outputs": [],
   "source": [
    "log_clf = LogisticRegression(solver=\"liblinear\", random_state=42)\n",
    "dt_7_clf = DecisionTreeClassifier(max_depth=7, random_state=42)\n",
    "dt_10_clf = DecisionTreeClassifier(max_depth=10, random_state=42)\n",
    "\n",
    "voting_clf = VotingClassifier(\n",
    "    estimators=[('lr', log_clf), ('dt_7', dt_7_clf), ('dt_10', dt_10_clf)], voting='soft'\n",
    ")"
   ]
  },
  {
   "cell_type": "code",
   "execution_count": 10,
   "metadata": {},
   "outputs": [
    {
     "name": "stdout",
     "output_type": "stream",
     "text": [
      "LogisticRegression 0.852\n",
      "DecisionTreeClassifier 0.892\n",
      "DecisionTreeClassifier 0.892\n",
      "VotingClassifier 0.908\n"
     ]
    }
   ],
   "source": [
    "# 개별 학습기의 성능\n",
    "for clf in (log_clf, dt_7_clf, dt_10_clf, voting_clf):\n",
    "    clf.fit(train_x, train_y)\n",
    "    test_pred = clf.predict(test_x)\n",
    "    print(clf.__class__.__name__, accuracy_score(test_y, test_pred))"
   ]
  },
  {
   "cell_type": "markdown",
   "metadata": {},
   "source": [
    "# 2. Bagging and Pasting"
   ]
  },
  {
   "cell_type": "markdown",
   "metadata": {},
   "source": [
    "- **Bagging (Bootsrap Aggregating)**\n",
    " - <font color=red>훈련 세트에서 중복을 허용하여 샘플링을 하고, 그 훈련 세트에서 1개의 학습 알고리즘을 훈련 시킨 결과를 조합(평균)하는 기법</font>\n",
    " - 모든 예측기가 훈련을 마치면 앙상블은 모든 예측기의 예측을 모아서 새로운 샘플에 대한 예측을 생성\n",
    " - 분류의 경우는 통계적 최빈값(즉, hard voting classifier 처럼 가장 많은 예측 결과)을 사용\n",
    " - 회귀의 경우는 평균을 사용\n",
    " - <font color=red>개별 예측기는 원본 훈련 세트로 훈련시킨 것보다 ?훨씬 크게 편향되어 있지만? 앙상블의 결과 편향과 분산이 모두 감소 (일반적으로 앙상블 기법에서는 편향은 비슷하지만, 분산은 줄어듬)</font>\n",
    " - 병렬로 학습이 가능\n",
    "- Pasting\n",
    " - 훈련 세트에서 중복을 허용하지 않고 샘플링을 하고, 그 훈련 세트에서 1개의 학습 알고리즘을 훈련 시킨 결과를 조합하는 기법"
   ]
  },
  {
   "cell_type": "markdown",
   "metadata": {},
   "source": [
    "### <font color=blue>Bagging 학습</font>"
   ]
  },
  {
   "cell_type": "code",
   "execution_count": 11,
   "metadata": {},
   "outputs": [],
   "source": [
    "from sklearn.ensemble import BaggingClassifier\n",
    "\n",
    "bag_clf = BaggingClassifier(\n",
    "    DecisionTreeClassifier(random_state=42), n_estimators=500,\n",
    "    max_samples=100, bootstrap=True, n_jobs=-1\n",
    ")\n",
    "\n",
    "bag_clf.fit(train_x, train_y)\n",
    "pred_y = bag_clf.predict(test_x)"
   ]
  },
  {
   "cell_type": "code",
   "execution_count": 12,
   "metadata": {},
   "outputs": [
    {
     "data": {
      "text/plain": [
       "0.908"
      ]
     },
     "execution_count": 12,
     "metadata": {},
     "output_type": "execute_result"
    }
   ],
   "source": [
    "accuracy_score(test_y, pred_y)"
   ]
  },
  {
   "cell_type": "markdown",
   "metadata": {},
   "source": [
    "### 단일 Decision tree (위의 결과와 비교용)"
   ]
  },
  {
   "cell_type": "code",
   "execution_count": 13,
   "metadata": {},
   "outputs": [],
   "source": [
    "tree = DecisionTreeClassifier(random_state=42)\n",
    "tree.fit(train_x, train_y)\n",
    "pred_y_tree = tree.predict(test_x)"
   ]
  },
  {
   "cell_type": "code",
   "execution_count": 14,
   "metadata": {},
   "outputs": [
    {
     "data": {
      "text/plain": [
       "0.892"
      ]
     },
     "execution_count": 14,
     "metadata": {},
     "output_type": "execute_result"
    }
   ],
   "source": [
    "accuracy_score(test_y, pred_y_tree)"
   ]
  },
  {
   "cell_type": "markdown",
   "metadata": {},
   "source": [
    "---\n",
    "*(Advanced)*"
   ]
  },
  {
   "cell_type": "code",
   "execution_count": 15,
   "metadata": {},
   "outputs": [],
   "source": [
    "from matplotlib.colors import ListedColormap\n",
    "import numpy as np\n",
    "\n",
    "# Classifer를 입력으로 받고, 결정경계를 그려주는 Help 함수 입니다.\n",
    "def plot_decision_boundary(clf, X, y, axes=[-1.5, 2.5, -1, 1.5], alpha=0.5, contour=True):\n",
    "    x1s = np.linspace(axes[0], axes[1], 100)\n",
    "    x2s = np.linspace(axes[2], axes[3], 100)\n",
    "    x1, x2 = np.meshgrid(x1s, x2s)\n",
    "    X_new = np.c_[x1.ravel(), x2.ravel()]\n",
    "    y_pred = clf.predict(X_new).reshape(x1.shape)\n",
    "    custom_cmap = ListedColormap(['#fafab0','#9898ff','#a0faa0'])\n",
    "    plt.contourf(x1, x2, y_pred, alpha=0.3, cmap=custom_cmap)\n",
    "    if contour:\n",
    "        custom_cmap2 = ListedColormap(['#7d7d58','#4c4c7f','#507d50'])\n",
    "        plt.contour(x1, x2, y_pred, cmap=custom_cmap2, alpha=0.8)\n",
    "    plt.plot(X[:, 0][y==0], X[:, 1][y==0], \"yo\", alpha=alpha)\n",
    "    plt.plot(X[:, 0][y==1], X[:, 1][y==1], \"bs\", alpha=alpha)\n",
    "    plt.axis(axes)\n",
    "    plt.xlabel(r\"$x_1$\", fontsize=18)\n",
    "    plt.ylabel(r\"$x_2$\", fontsize=18, rotation=0)"
   ]
  },
  {
   "cell_type": "code",
   "execution_count": 16,
   "metadata": {},
   "outputs": [],
   "source": [
    "import matplotlib.pyplot as plt"
   ]
  },
  {
   "cell_type": "code",
   "execution_count": 17,
   "metadata": {},
   "outputs": [
    {
     "data": {
      "image/png": "[encoded data removed]",
      "text/plain": [
       "<matplotlib.figure.Figure at 0x1a12b10e80>"
      ]
     },
     "metadata": {
      "needs_background": "light"
     },
     "output_type": "display_data"
    }
   ],
   "source": [
    "plt.figure(figsize=(11, 4))\n",
    "plt.subplot(121)\n",
    "plot_decision_boundary(tree, x, y)\n",
    "plt.title('Decision Tree', fontsize=14)\n",
    "plt.subplot(122)\n",
    "plot_decision_boundary(bag_clf, x, y)\n",
    "plt.title('Decision Trees with Bagging', fontsize=14)\n",
    "plt.show()"
   ]
  },
  {
   "cell_type": "markdown",
   "metadata": {},
   "source": [
    "Bagging의 경우 일반화의 성능이 더 뛰어남 (결정경계를 살펴보면)\n",
    "\n",
    "- **<font color=red>Bootstraping은 각 예측기가 학습하는 서브셋에 다양성을 증가시키므로 bagging이 pasting보다 bias가 조금 더 높음. 하지만 이는 learner들의 상관관계를 줄이므로 앙상블의 분산을 감소시킴</font>**\n",
    "- 전반적으로 bagging을 선호 (bagging과 pasting을 모두 평가해서 더 나은 쪽을 당연히 선택)"
   ]
  },
  {
   "cell_type": "markdown",
   "metadata": {},
   "source": [
    "---"
   ]
  },
  {
   "cell_type": "markdown",
   "metadata": {},
   "source": [
    "### OOB (out-of-bag)"
   ]
  },
  {
   "cell_type": "markdown",
   "metadata": {},
   "source": [
    "배깅을 사용하면 어떤 샘플은 한 예측기를 위해 여러 번 샘플링되고 어떤 것은 전혀 선택되지 않을 가능성이 존재한다. BaggingClasiifer는 기본값으로 중복을 허용하여(with replacement) 훈련 세크의 크기 만큼인 m개 샘플을 선택한다. 이는 <U>평균적으로 각 예측기에 훈련 샘플의 63% 정도만 샘플링된다는 것을 의미</U>한다.\n",
    " - m개의 샘플에서 무작위로 하나를 추출할 때 선택되지 않을 확률이 $1-\\frac{1}{m}$이고 이를 $m$번 반복했을 때도 선택되지 않을 확률은 $(1-\\frac{1}{m})^m$. 로그와 로피탈 정리를 이용하면 $e^{-1}$과 같아진다. 따라서 샘플링될 확률은 $1-e^{-1}$이 된다.\n",
    " \n",
    "여기서 선택되지 않은 훈련 샘플의 나머지 37%를 **oob 샘플**이라고 한다. 예측기마다 남겨진 37%는 모두 다르다.\n",
    "\n",
    "따라서 <U>예측기가 훈련되는 동안에는 oob 샘플을 사용하지 않으므로 검증 세트나 교차 검증을 사용하지 않고 oob 샘플을 사용하여 평가할 수 있다</U>. 앙상블의 평가는 각 예측기의 oob 평가를 평균하여 얻는다.\n",
    "\n",
    "Sklearn에서는 `oob_score_`를 이용한다."
   ]
  },
  {
   "cell_type": "code",
   "execution_count": 18,
   "metadata": {},
   "outputs": [
    {
     "data": {
      "text/plain": [
       "0.9"
      ]
     },
     "execution_count": 18,
     "metadata": {},
     "output_type": "execute_result"
    }
   ],
   "source": [
    "bag_clf = BaggingClassifier(\n",
    "    DecisionTreeClassifier(random_state=42), n_estimators=500,\n",
    "    bootstrap=True, n_jobs=-1, oob_score=True\n",
    ")\n",
    "\n",
    "bag_clf.fit(train_x, train_y)\n",
    "bag_clf.oob_score_  # oob를 이용한 검증 점수"
   ]
  },
  {
   "cell_type": "code",
   "execution_count": 19,
   "metadata": {},
   "outputs": [
    {
     "data": {
      "text/plain": [
       "0.912"
      ]
     },
     "execution_count": 19,
     "metadata": {},
     "output_type": "execute_result"
    }
   ],
   "source": [
    "pred_oob = bag_clf.predict(test_x)\n",
    "accuracy_score(test_y, pred_oob)"
   ]
  },
  {
   "cell_type": "code",
   "execution_count": 20,
   "metadata": {},
   "outputs": [
    {
     "data": {
      "text/plain": [
       "array([[0.1746988 , 0.8253012 ],\n",
       "       [0.34554974, 0.65445026],\n",
       "       [1.        , 0.        ],\n",
       "       ...,\n",
       "       [0.98395722, 0.01604278],\n",
       "       [0.82828283, 0.17171717],\n",
       "       [0.        , 1.        ]])"
      ]
     },
     "execution_count": 20,
     "metadata": {},
     "output_type": "execute_result"
    }
   ],
   "source": [
    "# oob sample에 대한 결과값을 볼 수 있다.\n",
    "bag_clf.oob_decision_function_ "
   ]
  },
  {
   "cell_type": "markdown",
   "metadata": {},
   "source": [
    "### Random patch와 random subspace\n",
    "- Random patch : 훈련 특성과 샘플을 모두 샘플링하는 것 \n",
    " - `bootstrap_features=False`, `max_samples=1.0`\n",
    "- Random subspace : 훈련 특성은 샘플링하고 훈련 샘플을 모두 사용하는 것 \n",
    " - `bootstrap_features=True`, `max_samples < 1.0`"
   ]
  },
  {
   "cell_type": "markdown",
   "metadata": {},
   "source": [
    "# 3. Random forest\n",
    "- 랜덤 포레스트는 일반적으로 bagging 방법(또는 pasting)을 적용한 결정 트리의 앙상블이다.\n",
    "- 랜덤 포레스트 알고리즘은 **트리의 노드를 분할할 때 전체 특성 중에서 최선의 특성을 찾는 대신 <font color=red>무작위로 선택한 특성 후보 중에서 최적의 특성을 찾는</font> 식으로 무작위성을 더 주입**한다.\n",
    " - 트리를 더욱 다양하게 생성 (트리의 의존성을 낮추고, 다양성을 증가)\n",
    " - 편향을 손해 보는 대신 분산을 낮추어 전체적으로 더 훌륭한 모델을 생성"
   ]
  },
  {
   "cell_type": "markdown",
   "metadata": {},
   "source": [
    "Sklearn에서 제공하는 `RandomForestClassifier`을 사용하면 된다."
   ]
  },
  {
   "cell_type": "code",
   "execution_count": 21,
   "metadata": {},
   "outputs": [
    {
     "data": {
      "text/plain": [
       "RandomForestClassifier(bootstrap=True, class_weight=None, criterion='gini',\n",
       "            max_depth=None, max_features='auto', max_leaf_nodes=16,\n",
       "            min_impurity_decrease=0.0, min_impurity_split=None,\n",
       "            min_samples_leaf=1, min_samples_split=2,\n",
       "            min_weight_fraction_leaf=0.0, n_estimators=500, n_jobs=-1,\n",
       "            oob_score=False, random_state=42, verbose=0, warm_start=False)"
      ]
     },
     "execution_count": 21,
     "metadata": {},
     "output_type": "execute_result"
    }
   ],
   "source": [
    "from sklearn.ensemble import RandomForestClassifier\n",
    "\n",
    "# 16개의 리프 노드를 갖는 500개의 트리로 이루어진 랜덤 포레스트를 여러 CPU 코어에서 훈련\n",
    "rnd_clf = RandomForestClassifier(n_estimators=500, max_leaf_nodes=16, n_jobs=-1, random_state=42)\n",
    "rnd_clf.fit(train_x, train_y)"
   ]
  },
  {
   "cell_type": "code",
   "execution_count": 22,
   "metadata": {},
   "outputs": [
    {
     "data": {
      "text/plain": [
       "0.92"
      ]
     },
     "execution_count": 22,
     "metadata": {},
     "output_type": "execute_result"
    }
   ],
   "source": [
    "pred_rf_y = rnd_clf.predict(test_x)\n",
    "accuracy_score(test_y, pred_rf_y)"
   ]
  },
  {
   "cell_type": "markdown",
   "metadata": {},
   "source": [
    "Sklearn에서 제공하는 `BaggingClassifier` 이용하여 Random forest를 구현하는 방법도 있다. `splitter=\"random\"`을 설정하면 됩니다."
   ]
  },
  {
   "cell_type": "code",
   "execution_count": 23,
   "metadata": {},
   "outputs": [
    {
     "data": {
      "text/plain": [
       "BaggingClassifier(base_estimator=DecisionTreeClassifier(class_weight=None, criterion='gini', max_depth=None,\n",
       "            max_features=None, max_leaf_nodes=16,\n",
       "            min_impurity_decrease=0.0, min_impurity_split=None,\n",
       "            min_samples_leaf=1, min_samples_split=2,\n",
       "            min_weight_fraction_leaf=0.0, presort=False, random_state=42,\n",
       "            splitter='random'),\n",
       "         bootstrap=True, bootstrap_features=False, max_features=1.0,\n",
       "         max_samples=1.0, n_estimators=500, n_jobs=-1, oob_score=False,\n",
       "         random_state=42, verbose=0, warm_start=False)"
      ]
     },
     "execution_count": 23,
     "metadata": {},
     "output_type": "execute_result"
    }
   ],
   "source": [
    "bag_clf = BaggingClassifier(\n",
    "    DecisionTreeClassifier(splitter=\"random\", max_leaf_nodes=16, random_state=42),\n",
    "    n_estimators=500, \n",
    "    max_samples=1.0, \n",
    "    bootstrap=True, \n",
    "    n_jobs=-1, \n",
    "    random_state=42)\n",
    "\n",
    "bag_clf.fit(train_x, train_y)"
   ]
  },
  {
   "cell_type": "code",
   "execution_count": 24,
   "metadata": {},
   "outputs": [
    {
     "data": {
      "text/plain": [
       "0.92"
      ]
     },
     "execution_count": 24,
     "metadata": {},
     "output_type": "execute_result"
    }
   ],
   "source": [
    "y_pred = bag_clf.predict(test_x)\n",
    "accuracy_score(test_y, pred_rf_y)"
   ]
  },
  {
   "cell_type": "markdown",
   "metadata": {},
   "source": [
    "### Extra tree"
   ]
  },
  {
   "cell_type": "markdown",
   "metadata": {},
   "source": [
    "- Extremely Randomized Trees (Extra Trees) : 랜덤 포레스트에서 트리를 만들 때 각 노드는 무작위로 특성의 서브셋을 만들어 분할에 사용한다. 특성의 서브셋에 대하여, 각 특성 모두에 대해서 계산을 하고 분할에 최적화된 임계값을 찾는다(greedy search). **트리를 더욱 무작위로 만들기 위해**, 보통의 결정 트리처럼 후보 특성의 greedy search를 하여 최적의 임곗값을 찾는 대신 **후보 특성을 사용해 무작위로 분할**한 다음 그중에서 최상의 분할을 선택한다. 따라서 일반적인 랜덤 포레스트보다 엑스트라 트리가 훨씬 빠르다.\n",
    "- `RandomForestClassifier` vs `ExtraTreesClassifier` : 어떤 것이 더 좋을지는 속단하기 어렵다. 일반적으로 둘 다 시도해보고 교차 검증으로 비교해보는 것이 유일한 방법이다. 그리고 그리드 탐색으로 하이퍼파라미터 튜닝을 한다."
   ]
  },
  {
   "cell_type": "markdown",
   "metadata": {},
   "source": [
    "### 특성 중요도"
   ]
  },
  {
   "cell_type": "markdown",
   "metadata": {},
   "source": [
    "- 랜덤 포레스트의 또 다른 장점은 특성의 상대적 중요도를 측정하기 쉽다는 것이다.\n",
    "- Sklearn은 어떤 특성을 사용한 노드가 (랜덤 포레스트에 있는 모든 트리에 걸쳐서) 평균적으로 불순도를 얼마나 감소시키는지 확인하여 특성의 중요도를 측정한다.\n",
    " - 가중치의 평균이며 각 노드의 가중치는 연관된 훈련 샘플 수와 같다.\n",
    " - 결정 트리의 특성 중요도는 노드에 사용된 특성별 information gain에서 샘플 수만 샘플 비율로 바꾸어,\n",
    " $$(\\text{현재 노드의 샘플 비율} \\times \\text{불순도}) - (\\text{쪽 자식 노드의 샘플 비율} \\times \\text{불순도}) - (\\text{오른쪽 노드의 샘플 비율} \\times \\text{불순도})$$\n",
    " 을 계산하여 더하고, 특성 중요도의 합이 1이 되도록 전체 합으로 나누어 정규화합니다. 여기서 샘플 비율은 트리 전체 샘플 수에 대한 비율입니다. 랜덤 포레스트의 특성 중요도는 각 결정 트리의 특정 중요도를 모두 계산하여 더한 후 트리 수로 나눈 것입니다."
   ]
  },
  {
   "cell_type": "code",
   "execution_count": 25,
   "metadata": {},
   "outputs": [
    {
     "data": {
      "text/plain": [
       "array([0.43931025, 0.56068975])"
      ]
     },
     "execution_count": 25,
     "metadata": {},
     "output_type": "execute_result"
    }
   ],
   "source": [
    "rnd_clf.feature_importances_"
   ]
  },
  {
   "cell_type": "markdown",
   "metadata": {},
   "source": [
    "Iris를 random forest를 이용하여 분류하고 난 후, feature 중요도를 구해보자."
   ]
  },
  {
   "cell_type": "code",
   "execution_count": 26,
   "metadata": {},
   "outputs": [
    {
     "name": "stdout",
     "output_type": "stream",
     "text": [
      "sepal length (cm) 0.11249225099876374\n",
      "sepal width (cm) 0.023119288282510326\n",
      "petal length (cm) 0.44103046436395765\n",
      "petal width (cm) 0.4233579963547681\n"
     ]
    }
   ],
   "source": [
    "# Iris data set\n",
    "\n",
    "from sklearn.datasets import load_iris\n",
    "iris = load_iris()\n",
    "rnd_clf = RandomForestClassifier(n_estimators=500, n_jobs=-1, random_state=42)\n",
    "rnd_clf.fit(iris[\"data\"], iris[\"target\"])\n",
    "for name, score in zip(iris[\"feature_names\"], rnd_clf.feature_importances_):\n",
    "    print(name, score)"
   ]
  },
  {
   "cell_type": "markdown",
   "metadata": {},
   "source": [
    "시각화를 해보자."
   ]
  },
  {
   "cell_type": "code",
   "execution_count": 27,
   "metadata": {},
   "outputs": [],
   "source": [
    "import numpy as np\n",
    "import matplotlib.pyplot as plt"
   ]
  },
  {
   "cell_type": "code",
   "execution_count": 28,
   "metadata": {},
   "outputs": [
    {
     "data": {
      "text/plain": [
       "Text(0.5,0,'Relative Importance')"
      ]
     },
     "execution_count": 28,
     "metadata": {},
     "output_type": "execute_result"
    },
    {
     "data": {
      "image/png": "[encoded data removed]",
      "text/plain": [
       "<matplotlib.figure.Figure at 0x1a1de6ceb8>"
      ]
     },
     "metadata": {
      "needs_background": "light"
     },
     "output_type": "display_data"
    }
   ],
   "source": [
    "rf_feat_importance = rnd_clf.feature_importances_\n",
    "indices = np.argsort(rf_feat_importance)\n",
    "\n",
    "plt.title('RF feature importnace')\n",
    "plt.barh(range(len(indices)), rf_feat_importance[indices], color='b', align='center')\n",
    "plt.yticks(range(len(indices)), np.array(iris[\"feature_names\"])[indices])\n",
    "plt.xlabel('Relative Importance')"
   ]
  }
 ],
 "metadata": {
  "kernelspec": {
   "display_name": "Python 3",
   "language": "python",
   "name": "python3"
  },
  "language_info": {
   "codemirror_mode": {
    "name": "ipython",
    "version": 3
   },
   "file_extension": ".py",
   "mimetype": "text/x-python",
   "name": "python",
   "nbconvert_exporter": "python",
   "pygments_lexer": "ipython3",
   "version": "3.6.7"
  }
 },
 "nbformat": 4,
 "nbformat_minor": 2
}
