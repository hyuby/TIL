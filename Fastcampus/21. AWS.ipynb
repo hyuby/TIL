{
 "cells": [
  {
   "cell_type": "markdown",
   "metadata": {},
   "source": [
    "## Cloud Computing\n",
    "* 인터넷에 연결된 다른 컴퓨터로 연산을 하는 기술\n",
    "* 접근성, 주문형 서비스 제공으로 경제적이고 효율적인 컴퓨팅 서비스 제공\n",
    "* AWS, GCP, MS AZURE\n",
    "* Virtual Machine(EC2), Serverless(Lambda) Cloud Storage, Database, Docker Engine 등 다양한 서비스 제공"
   ]
  },
  {
   "cell_type": "markdown",
   "metadata": {},
   "source": [
    "## AWS\n",
    "* 20개의 Region : 지역 기반\n",
    "* 60개의 Zone"
   ]
  },
  {
   "cell_type": "markdown",
   "metadata": {},
   "source": [
    "### AWS Lambda\n",
    "* 서버를 구축하지 않고도 원하는 기능을 실행할 수 있게 하는 기능\n",
    "* GCP - function, Azure - function\n",
    "* AWS는 분단위, GCP는 Unix 크론과 똑같음, AWS 람다는 연도를 선택할 수 있게 만듬, Azure는 초 단위 설정 가능\n",
    "* serverless API\n",
    "* preprocessing\n",
    "* authorizer\n",
    "* auto-scaling"
   ]
  },
  {
   "cell_type": "markdown",
   "metadata": {},
   "source": [
    "---\n",
    "### Hello World with AWS Lambda"
   ]
  },
  {
   "cell_type": "markdown",
   "metadata": {},
   "source": [
    "작동 단위는 함수"
   ]
  },
  {
   "cell_type": "markdown",
   "metadata": {},
   "source": []
  },
  {
   "cell_type": "markdown",
   "metadata": {},
   "source": []
  }
 ],
 "metadata": {
  "kernelspec": {
   "display_name": "Python 3",
   "language": "python",
   "name": "python3"
  },
  "language_info": {
   "codemirror_mode": {
    "name": "ipython",
    "version": 3
   },
   "file_extension": ".py",
   "mimetype": "text/x-python",
   "name": "python",
   "nbconvert_exporter": "python",
   "pygments_lexer": "ipython3",
   "version": "3.6.7"
  }
 },
 "nbformat": 4,
 "nbformat_minor": 2
}
